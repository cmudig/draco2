{
 "cells": [
  {
   "cell_type": "markdown",
   "metadata": {},
   "source": [
    "# Example Charts\n",
    "\n",
    "This notebook recreates the examples from [https://dig.cmu.edu/draco2/facts/examples.html#](https://dig.cmu.edu/draco2/facts/examples.html#)."
   ]
  },
  {
   "cell_type": "code",
   "execution_count": 40,
   "metadata": {},
   "outputs": [],
   "source": [
    "from pprint import pprint\n",
    "from draco.fact_utils import answer_set_to_dict\n",
    "from draco.run import run_clingo\n",
    "import altair as alt\n",
    "from altair import datum"
   ]
  },
  {
   "cell_type": "code",
   "execution_count": 41,
   "metadata": {},
   "outputs": [],
   "source": [
    "def facts_to_dict(facts: list[str]):\n",
    "    result = run_clingo(facts)\n",
    "    return answer_set_to_dict(next(result).answer_set)"
   ]
  },
  {
   "cell_type": "code",
   "execution_count": 42,
   "metadata": {},
   "outputs": [],
   "source": [
    "from IPython.display import display\n",
    "import json\n",
    "\n",
    "def display_chart(chart: alt.Chart):\n",
    "    dct = json.loads(chart.to_json())\n",
    "    dct.pop('data')\n",
    "    dct.pop('datasets')\n",
    "    pprint(dct)\n",
    "    display(chart)"
   ]
  },
  {
   "cell_type": "code",
   "execution_count": 43,
   "metadata": {},
   "outputs": [],
   "source": [
    "import pandas as pd\n",
    "import random\n",
    "\n",
    "# Generate a random dataframe with the following columns:\n",
    "# - temperature: a random float between -10 and 44\n",
    "# - wind: a random float between 0 and 100\n",
    "# - precipitation: a random float between 0 and 100\n",
    "# - condition: a random string from the list [\"drizzle\", \"fog\", \"rain\", \"sun\", \"snow\"]\n",
    "NUM_ROWS = 100\n",
    "df = pd.DataFrame(\n",
    "    {\n",
    "        \"temperature\": [random.uniform(-10, 44) for _ in range(NUM_ROWS)],\n",
    "        \"wind\": [random.uniform(0, 100) for _ in range(NUM_ROWS)],\n",
    "        \"precipitation\": [random.uniform(0, 100) for _ in range(NUM_ROWS)],\n",
    "        \"condition\": [random.choice([\"drizzle\", \"fog\", \"rain\", \"sun\", \"snow\"]) for _ in range(NUM_ROWS)],\n",
    "    }\n",
    ")\n"
   ]
  },
  {
   "cell_type": "code",
   "execution_count": 44,
   "metadata": {},
   "outputs": [
    {
     "data": {
      "text/plain": "   temperature       wind  precipitation condition\n0    39.357872  11.562264      88.420514       fog\n1    -5.947155  86.907017      70.558329      rain\n2    32.827656  97.658974      82.655115       sun\n3    17.525999  65.527975      53.862565      snow\n4    -6.808827  37.034294      93.865255   drizzle",
      "text/html": "<div>\n<style scoped>\n    .dataframe tbody tr th:only-of-type {\n        vertical-align: middle;\n    }\n\n    .dataframe tbody tr th {\n        vertical-align: top;\n    }\n\n    .dataframe thead th {\n        text-align: right;\n    }\n</style>\n<table border=\"1\" class=\"dataframe\">\n  <thead>\n    <tr style=\"text-align: right;\">\n      <th></th>\n      <th>temperature</th>\n      <th>wind</th>\n      <th>precipitation</th>\n      <th>condition</th>\n    </tr>\n  </thead>\n  <tbody>\n    <tr>\n      <th>0</th>\n      <td>39.357872</td>\n      <td>11.562264</td>\n      <td>88.420514</td>\n      <td>fog</td>\n    </tr>\n    <tr>\n      <th>1</th>\n      <td>-5.947155</td>\n      <td>86.907017</td>\n      <td>70.558329</td>\n      <td>rain</td>\n    </tr>\n    <tr>\n      <th>2</th>\n      <td>32.827656</td>\n      <td>97.658974</td>\n      <td>82.655115</td>\n      <td>sun</td>\n    </tr>\n    <tr>\n      <th>3</th>\n      <td>17.525999</td>\n      <td>65.527975</td>\n      <td>53.862565</td>\n      <td>snow</td>\n    </tr>\n    <tr>\n      <th>4</th>\n      <td>-6.808827</td>\n      <td>37.034294</td>\n      <td>93.865255</td>\n      <td>drizzle</td>\n    </tr>\n  </tbody>\n</table>\n</div>"
     },
     "execution_count": 44,
     "metadata": {},
     "output_type": "execute_result"
    }
   ],
   "source": [
    "df.head()"
   ]
  },
  {
   "cell_type": "markdown",
   "metadata": {},
   "source": [
    "## Single View, Single Mark Charts"
   ]
  },
  {
   "cell_type": "markdown",
   "metadata": {},
   "source": [
    "### Tick Plot"
   ]
  },
  {
   "cell_type": "code",
   "execution_count": 45,
   "metadata": {},
   "outputs": [
    {
     "name": "stdout",
     "output_type": "stream",
     "text": [
      "{'field': [{'name': 'temperature', 'type': 'number'}],\n",
      " 'number_rows': 100,\n",
      " 'view': [{'mark': [{'encoding': [{'channel': 'x', 'field': 'temperature'}],\n",
      "                     'type': 'tick'}],\n",
      "           'scale': [{'channel': 'x', 'type': 'linear'}]}]}\n"
     ]
    }
   ],
   "source": [
    "facts = ['attribute(number_rows,root,100).',\n",
    " 'entity(field,root,temperature).',\n",
    " 'attribute((field,name),temperature,temperature).',\n",
    " 'attribute((field,type),temperature,number).',\n",
    " 'entity(view,root,0).',\n",
    " 'entity(mark,0,1).',\n",
    " 'attribute((mark,type),1,tick).',\n",
    " 'entity(encoding,1,2).',\n",
    " 'attribute((encoding,channel),2,x).',\n",
    " 'attribute((encoding,field),2,temperature).',\n",
    " 'entity(scale,0,3).',\n",
    " 'attribute((scale,channel),3,x).',\n",
    " 'attribute((scale,type),3,linear).']\n",
    "spec = facts_to_dict(facts)\n",
    "pprint(spec)"
   ]
  },
  {
   "cell_type": "code",
   "execution_count": 46,
   "metadata": {},
   "outputs": [
    {
     "name": "stdout",
     "output_type": "stream",
     "text": [
      "{'$schema': 'https://vega.github.io/schema/vega-lite/v4.17.0.json',\n",
      " 'config': {'view': {'continuousHeight': 300, 'continuousWidth': 400}},\n",
      " 'encoding': {'x': {'field': 'temperature',\n",
      "                    'scale': {'type': 'linear'},\n",
      "                    'type': 'quantitative'}},\n",
      " 'mark': 'tick'}\n"
     ]
    },
    {
     "name": "stderr",
     "output_type": "stream",
     "text": [
      "/Users/petergy/Library/Caches/pypoetry/virtualenvs/draco-q9RTEhXP-py3.10/lib/python3.10/site-packages/altair/utils/core.py:317: FutureWarning: iteritems is deprecated and will be removed in a future version. Use .items instead.\n",
      "  for col_name, dtype in df.dtypes.iteritems():\n"
     ]
    },
    {
     "data": {
      "text/html": "\n<div id=\"altair-viz-00cb3180c26a4ba1b0b5ca88cd3f483d\"></div>\n<script type=\"text/javascript\">\n  var VEGA_DEBUG = (typeof VEGA_DEBUG == \"undefined\") ? {} : VEGA_DEBUG;\n  (function(spec, embedOpt){\n    let outputDiv = document.currentScript.previousElementSibling;\n    if (outputDiv.id !== \"altair-viz-00cb3180c26a4ba1b0b5ca88cd3f483d\") {\n      outputDiv = document.getElementById(\"altair-viz-00cb3180c26a4ba1b0b5ca88cd3f483d\");\n    }\n    const paths = {\n      \"vega\": \"https://cdn.jsdelivr.net/npm//vega@5?noext\",\n      \"vega-lib\": \"https://cdn.jsdelivr.net/npm//vega-lib?noext\",\n      \"vega-lite\": \"https://cdn.jsdelivr.net/npm//vega-lite@4.17.0?noext\",\n      \"vega-embed\": \"https://cdn.jsdelivr.net/npm//vega-embed@6?noext\",\n    };\n\n    function maybeLoadScript(lib, version) {\n      var key = `${lib.replace(\"-\", \"\")}_version`;\n      return (VEGA_DEBUG[key] == version) ?\n        Promise.resolve(paths[lib]) :\n        new Promise(function(resolve, reject) {\n          var s = document.createElement('script');\n          document.getElementsByTagName(\"head\")[0].appendChild(s);\n          s.async = true;\n          s.onload = () => {\n            VEGA_DEBUG[key] = version;\n            return resolve(paths[lib]);\n          };\n          s.onerror = () => reject(`Error loading script: ${paths[lib]}`);\n          s.src = paths[lib];\n        });\n    }\n\n    function showError(err) {\n      outputDiv.innerHTML = `<div class=\"error\" style=\"color:red;\">${err}</div>`;\n      throw err;\n    }\n\n    function displayChart(vegaEmbed) {\n      vegaEmbed(outputDiv, spec, embedOpt)\n        .catch(err => showError(`Javascript Error: ${err.message}<br>This usually means there's a typo in your chart specification. See the javascript console for the full traceback.`));\n    }\n\n    if(typeof define === \"function\" && define.amd) {\n      requirejs.config({paths});\n      require([\"vega-embed\"], displayChart, err => showError(`Error loading script: ${err.message}`));\n    } else {\n      maybeLoadScript(\"vega\", \"5\")\n        .then(() => maybeLoadScript(\"vega-lite\", \"4.17.0\"))\n        .then(() => maybeLoadScript(\"vega-embed\", \"6\"))\n        .catch(showError)\n        .then(() => displayChart(vegaEmbed));\n    }\n  })({\"config\": {\"view\": {\"continuousWidth\": 400, \"continuousHeight\": 300}}, \"data\": {\"name\": \"data-80b0e930866eee6a77413fd6e0890a78\"}, \"mark\": \"tick\", \"encoding\": {\"x\": {\"field\": \"temperature\", \"scale\": {\"type\": \"linear\"}, \"type\": \"quantitative\"}}, \"$schema\": \"https://vega.github.io/schema/vega-lite/v4.17.0.json\", \"datasets\": {\"data-80b0e930866eee6a77413fd6e0890a78\": [{\"temperature\": 39.357871877508494, \"wind\": 11.562263885182233, \"precipitation\": 88.42051387921796, \"condition\": \"fog\"}, {\"temperature\": -5.947154608637572, \"wind\": 86.90701738497849, \"precipitation\": 70.55832915444152, \"condition\": \"rain\"}, {\"temperature\": 32.82765627853655, \"wind\": 97.65897402212389, \"precipitation\": 82.65511533530304, \"condition\": \"sun\"}, {\"temperature\": 17.525999106231197, \"wind\": 65.52797477069528, \"precipitation\": 53.86256526101837, \"condition\": \"snow\"}, {\"temperature\": -6.80882656934652, \"wind\": 37.03429394195952, \"precipitation\": 93.86525481254682, \"condition\": \"drizzle\"}, {\"temperature\": 42.35997285539091, \"wind\": 72.00671240950793, \"precipitation\": 40.6587905336316, \"condition\": \"sun\"}, {\"temperature\": 12.236046428620227, \"wind\": 24.35537864304579, \"precipitation\": 83.89080965364893, \"condition\": \"sun\"}, {\"temperature\": 42.8103257781665, \"wind\": 29.81101459268268, \"precipitation\": 71.55020159752638, \"condition\": \"sun\"}, {\"temperature\": 22.54392113778252, \"wind\": 96.88264927669367, \"precipitation\": 57.21207145158276, \"condition\": \"rain\"}, {\"temperature\": 22.503608231529917, \"wind\": 73.45718441223443, \"precipitation\": 18.48099480479052, \"condition\": \"fog\"}, {\"temperature\": 20.697023061259923, \"wind\": 78.8085781529467, \"precipitation\": 82.06153728611223, \"condition\": \"drizzle\"}, {\"temperature\": 25.290109397291054, \"wind\": 80.30649374788099, \"precipitation\": 22.36608661432985, \"condition\": \"sun\"}, {\"temperature\": 38.2799313550365, \"wind\": 67.47085587574028, \"precipitation\": 20.740111999310816, \"condition\": \"snow\"}, {\"temperature\": 3.6725463468113624, \"wind\": 1.0115541087158841, \"precipitation\": 18.15771285571497, \"condition\": \"fog\"}, {\"temperature\": 43.05607594953013, \"wind\": 60.68482719845524, \"precipitation\": 57.77089873340201, \"condition\": \"drizzle\"}, {\"temperature\": 32.26702695541979, \"wind\": 51.25287908408247, \"precipitation\": 82.37499650298116, \"condition\": \"sun\"}, {\"temperature\": 20.65470025342109, \"wind\": 17.357994382399223, \"precipitation\": 61.85803419037972, \"condition\": \"snow\"}, {\"temperature\": 7.591958649416281, \"wind\": 56.87567133218157, \"precipitation\": 63.83705679953054, \"condition\": \"drizzle\"}, {\"temperature\": 34.12588295742098, \"wind\": 53.49706318356736, \"precipitation\": 39.89871505509641, \"condition\": \"drizzle\"}, {\"temperature\": 43.35047614485006, \"wind\": 25.611854852857896, \"precipitation\": 80.36992353488051, \"condition\": \"sun\"}, {\"temperature\": -0.6670916465821719, \"wind\": 85.48944217634627, \"precipitation\": 74.19603252504737, \"condition\": \"fog\"}, {\"temperature\": 27.71533514546813, \"wind\": 92.40258299219964, \"precipitation\": 35.46329445299181, \"condition\": \"sun\"}, {\"temperature\": 42.990310063528334, \"wind\": 4.767210553938305, \"precipitation\": 78.84896594785124, \"condition\": \"drizzle\"}, {\"temperature\": 12.78024257419457, \"wind\": 70.42789298007587, \"precipitation\": 32.19857853159736, \"condition\": \"rain\"}, {\"temperature\": 12.345464511586698, \"wind\": 96.37504245663669, \"precipitation\": 58.32326475918834, \"condition\": \"drizzle\"}, {\"temperature\": 16.615985139736694, \"wind\": 79.42654814203834, \"precipitation\": 13.002687080260278, \"condition\": \"drizzle\"}, {\"temperature\": 37.42489242698708, \"wind\": 61.345695045120095, \"precipitation\": 43.77564041090408, \"condition\": \"rain\"}, {\"temperature\": 4.4803758908315565, \"wind\": 49.77522034422004, \"precipitation\": 50.69600709811043, \"condition\": \"drizzle\"}, {\"temperature\": 24.097652039323982, \"wind\": 8.979384326640405, \"precipitation\": 30.641954593528485, \"condition\": \"sun\"}, {\"temperature\": -5.322217743871135, \"wind\": 61.189346843944705, \"precipitation\": 31.593229557269186, \"condition\": \"snow\"}, {\"temperature\": 9.656575236136984, \"wind\": 2.1373906951494104, \"precipitation\": 57.5465193225844, \"condition\": \"rain\"}, {\"temperature\": 23.09003214094531, \"wind\": 16.8504340533028, \"precipitation\": 49.38199137777561, \"condition\": \"snow\"}, {\"temperature\": -0.8910674950475652, \"wind\": 67.4372389241753, \"precipitation\": 44.01373586297284, \"condition\": \"drizzle\"}, {\"temperature\": 38.77628981797657, \"wind\": 19.349109733319814, \"precipitation\": 18.478064234157422, \"condition\": \"snow\"}, {\"temperature\": 3.4205075380082093, \"wind\": 27.407919047755026, \"precipitation\": 32.84745237938085, \"condition\": \"fog\"}, {\"temperature\": -5.033320662096024, \"wind\": 94.25698462447689, \"precipitation\": 43.460229120490254, \"condition\": \"fog\"}, {\"temperature\": -9.971237977814939, \"wind\": 93.98073112476098, \"precipitation\": 74.78247080628827, \"condition\": \"sun\"}, {\"temperature\": 14.882883965973484, \"wind\": 24.785612027523594, \"precipitation\": 51.19773747140527, \"condition\": \"drizzle\"}, {\"temperature\": 14.018034425277474, \"wind\": 91.62717881393021, \"precipitation\": 99.49522416477019, \"condition\": \"sun\"}, {\"temperature\": 31.305982604448104, \"wind\": 40.90373869893349, \"precipitation\": 74.89298496286528, \"condition\": \"rain\"}, {\"temperature\": 30.610723278623702, \"wind\": 42.06017669565571, \"precipitation\": 69.67703870061514, \"condition\": \"snow\"}, {\"temperature\": 34.74664418075527, \"wind\": 38.58462817605697, \"precipitation\": 67.82787083848606, \"condition\": \"sun\"}, {\"temperature\": 8.120514857460222, \"wind\": 98.79896637292207, \"precipitation\": 21.126567495900296, \"condition\": \"drizzle\"}, {\"temperature\": 21.830015183550092, \"wind\": 22.1211872838582, \"precipitation\": 79.23266981302642, \"condition\": \"fog\"}, {\"temperature\": 37.98236222048335, \"wind\": 3.9308035344873593, \"precipitation\": 14.592671850934291, \"condition\": \"rain\"}, {\"temperature\": 25.958872120055887, \"wind\": 30.880613774748145, \"precipitation\": 81.56963648865039, \"condition\": \"rain\"}, {\"temperature\": 35.17236224867325, \"wind\": 31.08177020391971, \"precipitation\": 24.18647666653794, \"condition\": \"rain\"}, {\"temperature\": 33.364342578760876, \"wind\": 2.9246595809319653, \"precipitation\": 12.15848602978733, \"condition\": \"fog\"}, {\"temperature\": -3.5902835942627487, \"wind\": 86.99227504041556, \"precipitation\": 2.3639517923128017, \"condition\": \"drizzle\"}, {\"temperature\": 43.53091004081406, \"wind\": 70.60869224087214, \"precipitation\": 66.94726954818158, \"condition\": \"rain\"}, {\"temperature\": 1.8337888199719252, \"wind\": 75.06866321814911, \"precipitation\": 53.6891397098117, \"condition\": \"sun\"}, {\"temperature\": 43.47830583880354, \"wind\": 71.68689230524836, \"precipitation\": 31.73117090776013, \"condition\": \"sun\"}, {\"temperature\": 24.70816388894937, \"wind\": 68.30107169120795, \"precipitation\": 20.50225020747416, \"condition\": \"snow\"}, {\"temperature\": 16.05118379980134, \"wind\": 52.99782792799144, \"precipitation\": 11.69028728553364, \"condition\": \"fog\"}, {\"temperature\": 28.077076050276126, \"wind\": 24.843732657120764, \"precipitation\": 7.7565838958533195, \"condition\": \"fog\"}, {\"temperature\": 26.313211105376084, \"wind\": 45.03333651941402, \"precipitation\": 31.41227095201218, \"condition\": \"fog\"}, {\"temperature\": 25.47932407524442, \"wind\": 87.21604759710651, \"precipitation\": 13.96847689136137, \"condition\": \"snow\"}, {\"temperature\": 11.036706749946731, \"wind\": 33.86229598446234, \"precipitation\": 38.968294579117845, \"condition\": \"rain\"}, {\"temperature\": 0.8142265953456, \"wind\": 70.98507415296346, \"precipitation\": 19.273374312321256, \"condition\": \"drizzle\"}, {\"temperature\": 25.391354725358426, \"wind\": 68.9460480155243, \"precipitation\": 93.11546643206357, \"condition\": \"fog\"}, {\"temperature\": 27.7726958317102, \"wind\": 15.439482065514532, \"precipitation\": 5.293937143885552, \"condition\": \"sun\"}, {\"temperature\": 3.0547946822445873, \"wind\": 86.42755659056152, \"precipitation\": 2.624712873155066, \"condition\": \"rain\"}, {\"temperature\": 39.42369527658811, \"wind\": 47.39700920935881, \"precipitation\": 41.728060203985706, \"condition\": \"rain\"}, {\"temperature\": 31.616549252691705, \"wind\": 31.294073920356126, \"precipitation\": 61.66414511625905, \"condition\": \"snow\"}, {\"temperature\": 37.73472491414072, \"wind\": 56.11305268794269, \"precipitation\": 81.92111265208045, \"condition\": \"fog\"}, {\"temperature\": 29.412459474532355, \"wind\": 46.76189099995182, \"precipitation\": 32.17901910781431, \"condition\": \"snow\"}, {\"temperature\": -5.305474080741154, \"wind\": 16.51061166938045, \"precipitation\": 40.72674907868328, \"condition\": \"fog\"}, {\"temperature\": 28.248344335114005, \"wind\": 74.65204013977382, \"precipitation\": 8.992377726473755, \"condition\": \"drizzle\"}, {\"temperature\": 40.71245089747694, \"wind\": 60.52030820865206, \"precipitation\": 5.486289017174572, \"condition\": \"rain\"}, {\"temperature\": 1.2855687063133647, \"wind\": 47.74453362846665, \"precipitation\": 77.71039918592594, \"condition\": \"drizzle\"}, {\"temperature\": 13.997864573343104, \"wind\": 99.2063323267444, \"precipitation\": 14.897152160823302, \"condition\": \"drizzle\"}, {\"temperature\": 18.825549046465813, \"wind\": 96.7516586164724, \"precipitation\": 62.15480712924485, \"condition\": \"rain\"}, {\"temperature\": 17.102600135203243, \"wind\": 95.33201102579268, \"precipitation\": 1.76947633335095, \"condition\": \"rain\"}, {\"temperature\": 31.603226292108516, \"wind\": 80.1260277875885, \"precipitation\": 19.250819441340848, \"condition\": \"drizzle\"}, {\"temperature\": 7.272202684808242, \"wind\": 8.416568701596594, \"precipitation\": 24.486546883662086, \"condition\": \"drizzle\"}, {\"temperature\": 6.42450547762995, \"wind\": 39.273237823513206, \"precipitation\": 59.175511527387584, \"condition\": \"sun\"}, {\"temperature\": 0.37651709537109035, \"wind\": 94.77902759827063, \"precipitation\": 28.64474524803353, \"condition\": \"fog\"}, {\"temperature\": 29.418237348870328, \"wind\": 73.1637224142291, \"precipitation\": 36.384371127988594, \"condition\": \"fog\"}, {\"temperature\": 32.58410407316762, \"wind\": 23.572673866731876, \"precipitation\": 21.78686177609982, \"condition\": \"sun\"}, {\"temperature\": 40.58331555194774, \"wind\": 12.46579946692835, \"precipitation\": 33.052715046353775, \"condition\": \"fog\"}, {\"temperature\": 15.02270799243955, \"wind\": 23.521353082533057, \"precipitation\": 0.5866372551906918, \"condition\": \"rain\"}, {\"temperature\": -1.5856356202583797, \"wind\": 58.706439422107415, \"precipitation\": 23.69625533115679, \"condition\": \"fog\"}, {\"temperature\": 39.83846166807995, \"wind\": 7.925060993257304, \"precipitation\": 73.27745598517468, \"condition\": \"snow\"}, {\"temperature\": 30.25106478610541, \"wind\": 53.60474576386106, \"precipitation\": 76.63592895791527, \"condition\": \"sun\"}, {\"temperature\": 12.08528607254729, \"wind\": 11.679210728025568, \"precipitation\": 21.30987094861694, \"condition\": \"drizzle\"}, {\"temperature\": 20.103305307522167, \"wind\": 35.51132614216856, \"precipitation\": 99.11641742479553, \"condition\": \"snow\"}, {\"temperature\": 34.61293495454381, \"wind\": 16.44814913694985, \"precipitation\": 76.5788070641912, \"condition\": \"sun\"}, {\"temperature\": 5.3304368864748515, \"wind\": 11.488543420187414, \"precipitation\": 23.611522242446682, \"condition\": \"rain\"}, {\"temperature\": 10.624231316087673, \"wind\": 89.57677208906625, \"precipitation\": 17.901521820239154, \"condition\": \"rain\"}, {\"temperature\": 16.45869339879156, \"wind\": 82.14358903068431, \"precipitation\": 50.5274648107178, \"condition\": \"drizzle\"}, {\"temperature\": 30.4859555666389, \"wind\": 85.43429025210673, \"precipitation\": 99.7314407177562, \"condition\": \"sun\"}, {\"temperature\": -7.842697704519862, \"wind\": 20.10431994181, \"precipitation\": 8.499755604198123, \"condition\": \"drizzle\"}, {\"temperature\": 23.82197430970396, \"wind\": 30.71236264475776, \"precipitation\": 91.23232368725205, \"condition\": \"snow\"}, {\"temperature\": 43.63862559514364, \"wind\": 28.821660476932877, \"precipitation\": 99.71103207097889, \"condition\": \"fog\"}, {\"temperature\": 8.981532662882305, \"wind\": 35.921027372850865, \"precipitation\": 91.12082810014113, \"condition\": \"fog\"}, {\"temperature\": 26.077729266653087, \"wind\": 63.53612288999908, \"precipitation\": 90.09748712912719, \"condition\": \"sun\"}, {\"temperature\": 38.44181274295784, \"wind\": 71.99143401846956, \"precipitation\": 21.221688878355216, \"condition\": \"rain\"}, {\"temperature\": 34.78710550916185, \"wind\": 89.27467266301889, \"precipitation\": 41.1955282025937, \"condition\": \"sun\"}, {\"temperature\": -5.848035132361012, \"wind\": 57.23792962073, \"precipitation\": 64.23162970775795, \"condition\": \"rain\"}, {\"temperature\": 0.6933169720006127, \"wind\": 72.76756692493736, \"precipitation\": 62.223235261304524, \"condition\": \"drizzle\"}]}}, {\"mode\": \"vega-lite\"});\n</script>",
      "text/plain": "alt.Chart(...)"
     },
     "metadata": {},
     "output_type": "display_data"
    }
   ],
   "source": [
    "base = alt.Chart(df)\n",
    "tick = base.mark_tick().encode(\n",
    " x=alt.X(field='temperature', type='quantitative', scale=alt.Scale(type='linear'))\n",
    ")\n",
    "display_chart(tick)"
   ]
  },
  {
   "cell_type": "markdown",
   "metadata": {},
   "source": [
    "### Tick Plot with a Log Scale"
   ]
  },
  {
   "cell_type": "code",
   "execution_count": 47,
   "metadata": {},
   "outputs": [
    {
     "name": "stdout",
     "output_type": "stream",
     "text": [
      "{'field': [{'name': 'temperature', 'type': 'number'}],\n",
      " 'number_rows': 100,\n",
      " 'view': [{'mark': [{'encoding': [{'channel': 'x', 'field': 'temperature'}],\n",
      "                     'type': 'tick'}],\n",
      "           'scale': [{'channel': 'x', 'type': 'log'}]}]}\n"
     ]
    }
   ],
   "source": [
    "facts = ['attribute(number_rows,root,100).',\n",
    " 'entity(field,root,temperature).',\n",
    " 'attribute((field,name),temperature,temperature).',\n",
    " 'attribute((field,type),temperature,number).',\n",
    " 'entity(view,root,0).',\n",
    " 'entity(mark,0,1).',\n",
    " 'attribute((mark,type),1,tick).',\n",
    " 'entity(encoding,1,2).',\n",
    " 'attribute((encoding,channel),2,x).',\n",
    " 'attribute((encoding,field),2,temperature).',\n",
    " 'entity(scale,0,3).',\n",
    " 'attribute((scale,channel),3,x).',\n",
    " 'attribute((scale,type),3,log).']\n",
    "spec = facts_to_dict(facts)\n",
    "pprint(spec)"
   ]
  },
  {
   "cell_type": "code",
   "execution_count": 48,
   "metadata": {},
   "outputs": [
    {
     "name": "stdout",
     "output_type": "stream",
     "text": [
      "{'$schema': 'https://vega.github.io/schema/vega-lite/v4.17.0.json',\n",
      " 'config': {'view': {'continuousHeight': 300, 'continuousWidth': 400}},\n",
      " 'encoding': {'x': {'field': 'temperature',\n",
      "                    'scale': {'type': 'log'},\n",
      "                    'type': 'quantitative'}},\n",
      " 'mark': 'tick',\n",
      " 'transform': [{'filter': '(datum.temperature > 0)'}]}\n"
     ]
    },
    {
     "data": {
      "text/html": "\n<div id=\"altair-viz-2b283b72511e4e3ca2f3411879c9a0a7\"></div>\n<script type=\"text/javascript\">\n  var VEGA_DEBUG = (typeof VEGA_DEBUG == \"undefined\") ? {} : VEGA_DEBUG;\n  (function(spec, embedOpt){\n    let outputDiv = document.currentScript.previousElementSibling;\n    if (outputDiv.id !== \"altair-viz-2b283b72511e4e3ca2f3411879c9a0a7\") {\n      outputDiv = document.getElementById(\"altair-viz-2b283b72511e4e3ca2f3411879c9a0a7\");\n    }\n    const paths = {\n      \"vega\": \"https://cdn.jsdelivr.net/npm//vega@5?noext\",\n      \"vega-lib\": \"https://cdn.jsdelivr.net/npm//vega-lib?noext\",\n      \"vega-lite\": \"https://cdn.jsdelivr.net/npm//vega-lite@4.17.0?noext\",\n      \"vega-embed\": \"https://cdn.jsdelivr.net/npm//vega-embed@6?noext\",\n    };\n\n    function maybeLoadScript(lib, version) {\n      var key = `${lib.replace(\"-\", \"\")}_version`;\n      return (VEGA_DEBUG[key] == version) ?\n        Promise.resolve(paths[lib]) :\n        new Promise(function(resolve, reject) {\n          var s = document.createElement('script');\n          document.getElementsByTagName(\"head\")[0].appendChild(s);\n          s.async = true;\n          s.onload = () => {\n            VEGA_DEBUG[key] = version;\n            return resolve(paths[lib]);\n          };\n          s.onerror = () => reject(`Error loading script: ${paths[lib]}`);\n          s.src = paths[lib];\n        });\n    }\n\n    function showError(err) {\n      outputDiv.innerHTML = `<div class=\"error\" style=\"color:red;\">${err}</div>`;\n      throw err;\n    }\n\n    function displayChart(vegaEmbed) {\n      vegaEmbed(outputDiv, spec, embedOpt)\n        .catch(err => showError(`Javascript Error: ${err.message}<br>This usually means there's a typo in your chart specification. See the javascript console for the full traceback.`));\n    }\n\n    if(typeof define === \"function\" && define.amd) {\n      requirejs.config({paths});\n      require([\"vega-embed\"], displayChart, err => showError(`Error loading script: ${err.message}`));\n    } else {\n      maybeLoadScript(\"vega\", \"5\")\n        .then(() => maybeLoadScript(\"vega-lite\", \"4.17.0\"))\n        .then(() => maybeLoadScript(\"vega-embed\", \"6\"))\n        .catch(showError)\n        .then(() => displayChart(vegaEmbed));\n    }\n  })({\"config\": {\"view\": {\"continuousWidth\": 400, \"continuousHeight\": 300}}, \"data\": {\"name\": \"data-80b0e930866eee6a77413fd6e0890a78\"}, \"mark\": \"tick\", \"encoding\": {\"x\": {\"field\": \"temperature\", \"scale\": {\"type\": \"log\"}, \"type\": \"quantitative\"}}, \"transform\": [{\"filter\": \"(datum.temperature > 0)\"}], \"$schema\": \"https://vega.github.io/schema/vega-lite/v4.17.0.json\", \"datasets\": {\"data-80b0e930866eee6a77413fd6e0890a78\": [{\"temperature\": 39.357871877508494, \"wind\": 11.562263885182233, \"precipitation\": 88.42051387921796, \"condition\": \"fog\"}, {\"temperature\": -5.947154608637572, \"wind\": 86.90701738497849, \"precipitation\": 70.55832915444152, \"condition\": \"rain\"}, {\"temperature\": 32.82765627853655, \"wind\": 97.65897402212389, \"precipitation\": 82.65511533530304, \"condition\": \"sun\"}, {\"temperature\": 17.525999106231197, \"wind\": 65.52797477069528, \"precipitation\": 53.86256526101837, \"condition\": \"snow\"}, {\"temperature\": -6.80882656934652, \"wind\": 37.03429394195952, \"precipitation\": 93.86525481254682, \"condition\": \"drizzle\"}, {\"temperature\": 42.35997285539091, \"wind\": 72.00671240950793, \"precipitation\": 40.6587905336316, \"condition\": \"sun\"}, {\"temperature\": 12.236046428620227, \"wind\": 24.35537864304579, \"precipitation\": 83.89080965364893, \"condition\": \"sun\"}, {\"temperature\": 42.8103257781665, \"wind\": 29.81101459268268, \"precipitation\": 71.55020159752638, \"condition\": \"sun\"}, {\"temperature\": 22.54392113778252, \"wind\": 96.88264927669367, \"precipitation\": 57.21207145158276, \"condition\": \"rain\"}, {\"temperature\": 22.503608231529917, \"wind\": 73.45718441223443, \"precipitation\": 18.48099480479052, \"condition\": \"fog\"}, {\"temperature\": 20.697023061259923, \"wind\": 78.8085781529467, \"precipitation\": 82.06153728611223, \"condition\": \"drizzle\"}, {\"temperature\": 25.290109397291054, \"wind\": 80.30649374788099, \"precipitation\": 22.36608661432985, \"condition\": \"sun\"}, {\"temperature\": 38.2799313550365, \"wind\": 67.47085587574028, \"precipitation\": 20.740111999310816, \"condition\": \"snow\"}, {\"temperature\": 3.6725463468113624, \"wind\": 1.0115541087158841, \"precipitation\": 18.15771285571497, \"condition\": \"fog\"}, {\"temperature\": 43.05607594953013, \"wind\": 60.68482719845524, \"precipitation\": 57.77089873340201, \"condition\": \"drizzle\"}, {\"temperature\": 32.26702695541979, \"wind\": 51.25287908408247, \"precipitation\": 82.37499650298116, \"condition\": \"sun\"}, {\"temperature\": 20.65470025342109, \"wind\": 17.357994382399223, \"precipitation\": 61.85803419037972, \"condition\": \"snow\"}, {\"temperature\": 7.591958649416281, \"wind\": 56.87567133218157, \"precipitation\": 63.83705679953054, \"condition\": \"drizzle\"}, {\"temperature\": 34.12588295742098, \"wind\": 53.49706318356736, \"precipitation\": 39.89871505509641, \"condition\": \"drizzle\"}, {\"temperature\": 43.35047614485006, \"wind\": 25.611854852857896, \"precipitation\": 80.36992353488051, \"condition\": \"sun\"}, {\"temperature\": -0.6670916465821719, \"wind\": 85.48944217634627, \"precipitation\": 74.19603252504737, \"condition\": \"fog\"}, {\"temperature\": 27.71533514546813, \"wind\": 92.40258299219964, \"precipitation\": 35.46329445299181, \"condition\": \"sun\"}, {\"temperature\": 42.990310063528334, \"wind\": 4.767210553938305, \"precipitation\": 78.84896594785124, \"condition\": \"drizzle\"}, {\"temperature\": 12.78024257419457, \"wind\": 70.42789298007587, \"precipitation\": 32.19857853159736, \"condition\": \"rain\"}, {\"temperature\": 12.345464511586698, \"wind\": 96.37504245663669, \"precipitation\": 58.32326475918834, \"condition\": \"drizzle\"}, {\"temperature\": 16.615985139736694, \"wind\": 79.42654814203834, \"precipitation\": 13.002687080260278, \"condition\": \"drizzle\"}, {\"temperature\": 37.42489242698708, \"wind\": 61.345695045120095, \"precipitation\": 43.77564041090408, \"condition\": \"rain\"}, {\"temperature\": 4.4803758908315565, \"wind\": 49.77522034422004, \"precipitation\": 50.69600709811043, \"condition\": \"drizzle\"}, {\"temperature\": 24.097652039323982, \"wind\": 8.979384326640405, \"precipitation\": 30.641954593528485, \"condition\": \"sun\"}, {\"temperature\": -5.322217743871135, \"wind\": 61.189346843944705, \"precipitation\": 31.593229557269186, \"condition\": \"snow\"}, {\"temperature\": 9.656575236136984, \"wind\": 2.1373906951494104, \"precipitation\": 57.5465193225844, \"condition\": \"rain\"}, {\"temperature\": 23.09003214094531, \"wind\": 16.8504340533028, \"precipitation\": 49.38199137777561, \"condition\": \"snow\"}, {\"temperature\": -0.8910674950475652, \"wind\": 67.4372389241753, \"precipitation\": 44.01373586297284, \"condition\": \"drizzle\"}, {\"temperature\": 38.77628981797657, \"wind\": 19.349109733319814, \"precipitation\": 18.478064234157422, \"condition\": \"snow\"}, {\"temperature\": 3.4205075380082093, \"wind\": 27.407919047755026, \"precipitation\": 32.84745237938085, \"condition\": \"fog\"}, {\"temperature\": -5.033320662096024, \"wind\": 94.25698462447689, \"precipitation\": 43.460229120490254, \"condition\": \"fog\"}, {\"temperature\": -9.971237977814939, \"wind\": 93.98073112476098, \"precipitation\": 74.78247080628827, \"condition\": \"sun\"}, {\"temperature\": 14.882883965973484, \"wind\": 24.785612027523594, \"precipitation\": 51.19773747140527, \"condition\": \"drizzle\"}, {\"temperature\": 14.018034425277474, \"wind\": 91.62717881393021, \"precipitation\": 99.49522416477019, \"condition\": \"sun\"}, {\"temperature\": 31.305982604448104, \"wind\": 40.90373869893349, \"precipitation\": 74.89298496286528, \"condition\": \"rain\"}, {\"temperature\": 30.610723278623702, \"wind\": 42.06017669565571, \"precipitation\": 69.67703870061514, \"condition\": \"snow\"}, {\"temperature\": 34.74664418075527, \"wind\": 38.58462817605697, \"precipitation\": 67.82787083848606, \"condition\": \"sun\"}, {\"temperature\": 8.120514857460222, \"wind\": 98.79896637292207, \"precipitation\": 21.126567495900296, \"condition\": \"drizzle\"}, {\"temperature\": 21.830015183550092, \"wind\": 22.1211872838582, \"precipitation\": 79.23266981302642, \"condition\": \"fog\"}, {\"temperature\": 37.98236222048335, \"wind\": 3.9308035344873593, \"precipitation\": 14.592671850934291, \"condition\": \"rain\"}, {\"temperature\": 25.958872120055887, \"wind\": 30.880613774748145, \"precipitation\": 81.56963648865039, \"condition\": \"rain\"}, {\"temperature\": 35.17236224867325, \"wind\": 31.08177020391971, \"precipitation\": 24.18647666653794, \"condition\": \"rain\"}, {\"temperature\": 33.364342578760876, \"wind\": 2.9246595809319653, \"precipitation\": 12.15848602978733, \"condition\": \"fog\"}, {\"temperature\": -3.5902835942627487, \"wind\": 86.99227504041556, \"precipitation\": 2.3639517923128017, \"condition\": \"drizzle\"}, {\"temperature\": 43.53091004081406, \"wind\": 70.60869224087214, \"precipitation\": 66.94726954818158, \"condition\": \"rain\"}, {\"temperature\": 1.8337888199719252, \"wind\": 75.06866321814911, \"precipitation\": 53.6891397098117, \"condition\": \"sun\"}, {\"temperature\": 43.47830583880354, \"wind\": 71.68689230524836, \"precipitation\": 31.73117090776013, \"condition\": \"sun\"}, {\"temperature\": 24.70816388894937, \"wind\": 68.30107169120795, \"precipitation\": 20.50225020747416, \"condition\": \"snow\"}, {\"temperature\": 16.05118379980134, \"wind\": 52.99782792799144, \"precipitation\": 11.69028728553364, \"condition\": \"fog\"}, {\"temperature\": 28.077076050276126, \"wind\": 24.843732657120764, \"precipitation\": 7.7565838958533195, \"condition\": \"fog\"}, {\"temperature\": 26.313211105376084, \"wind\": 45.03333651941402, \"precipitation\": 31.41227095201218, \"condition\": \"fog\"}, {\"temperature\": 25.47932407524442, \"wind\": 87.21604759710651, \"precipitation\": 13.96847689136137, \"condition\": \"snow\"}, {\"temperature\": 11.036706749946731, \"wind\": 33.86229598446234, \"precipitation\": 38.968294579117845, \"condition\": \"rain\"}, {\"temperature\": 0.8142265953456, \"wind\": 70.98507415296346, \"precipitation\": 19.273374312321256, \"condition\": \"drizzle\"}, {\"temperature\": 25.391354725358426, \"wind\": 68.9460480155243, \"precipitation\": 93.11546643206357, \"condition\": \"fog\"}, {\"temperature\": 27.7726958317102, \"wind\": 15.439482065514532, \"precipitation\": 5.293937143885552, \"condition\": \"sun\"}, {\"temperature\": 3.0547946822445873, \"wind\": 86.42755659056152, \"precipitation\": 2.624712873155066, \"condition\": \"rain\"}, {\"temperature\": 39.42369527658811, \"wind\": 47.39700920935881, \"precipitation\": 41.728060203985706, \"condition\": \"rain\"}, {\"temperature\": 31.616549252691705, \"wind\": 31.294073920356126, \"precipitation\": 61.66414511625905, \"condition\": \"snow\"}, {\"temperature\": 37.73472491414072, \"wind\": 56.11305268794269, \"precipitation\": 81.92111265208045, \"condition\": \"fog\"}, {\"temperature\": 29.412459474532355, \"wind\": 46.76189099995182, \"precipitation\": 32.17901910781431, \"condition\": \"snow\"}, {\"temperature\": -5.305474080741154, \"wind\": 16.51061166938045, \"precipitation\": 40.72674907868328, \"condition\": \"fog\"}, {\"temperature\": 28.248344335114005, \"wind\": 74.65204013977382, \"precipitation\": 8.992377726473755, \"condition\": \"drizzle\"}, {\"temperature\": 40.71245089747694, \"wind\": 60.52030820865206, \"precipitation\": 5.486289017174572, \"condition\": \"rain\"}, {\"temperature\": 1.2855687063133647, \"wind\": 47.74453362846665, \"precipitation\": 77.71039918592594, \"condition\": \"drizzle\"}, {\"temperature\": 13.997864573343104, \"wind\": 99.2063323267444, \"precipitation\": 14.897152160823302, \"condition\": \"drizzle\"}, {\"temperature\": 18.825549046465813, \"wind\": 96.7516586164724, \"precipitation\": 62.15480712924485, \"condition\": \"rain\"}, {\"temperature\": 17.102600135203243, \"wind\": 95.33201102579268, \"precipitation\": 1.76947633335095, \"condition\": \"rain\"}, {\"temperature\": 31.603226292108516, \"wind\": 80.1260277875885, \"precipitation\": 19.250819441340848, \"condition\": \"drizzle\"}, {\"temperature\": 7.272202684808242, \"wind\": 8.416568701596594, \"precipitation\": 24.486546883662086, \"condition\": \"drizzle\"}, {\"temperature\": 6.42450547762995, \"wind\": 39.273237823513206, \"precipitation\": 59.175511527387584, \"condition\": \"sun\"}, {\"temperature\": 0.37651709537109035, \"wind\": 94.77902759827063, \"precipitation\": 28.64474524803353, \"condition\": \"fog\"}, {\"temperature\": 29.418237348870328, \"wind\": 73.1637224142291, \"precipitation\": 36.384371127988594, \"condition\": \"fog\"}, {\"temperature\": 32.58410407316762, \"wind\": 23.572673866731876, \"precipitation\": 21.78686177609982, \"condition\": \"sun\"}, {\"temperature\": 40.58331555194774, \"wind\": 12.46579946692835, \"precipitation\": 33.052715046353775, \"condition\": \"fog\"}, {\"temperature\": 15.02270799243955, \"wind\": 23.521353082533057, \"precipitation\": 0.5866372551906918, \"condition\": \"rain\"}, {\"temperature\": -1.5856356202583797, \"wind\": 58.706439422107415, \"precipitation\": 23.69625533115679, \"condition\": \"fog\"}, {\"temperature\": 39.83846166807995, \"wind\": 7.925060993257304, \"precipitation\": 73.27745598517468, \"condition\": \"snow\"}, {\"temperature\": 30.25106478610541, \"wind\": 53.60474576386106, \"precipitation\": 76.63592895791527, \"condition\": \"sun\"}, {\"temperature\": 12.08528607254729, \"wind\": 11.679210728025568, \"precipitation\": 21.30987094861694, \"condition\": \"drizzle\"}, {\"temperature\": 20.103305307522167, \"wind\": 35.51132614216856, \"precipitation\": 99.11641742479553, \"condition\": \"snow\"}, {\"temperature\": 34.61293495454381, \"wind\": 16.44814913694985, \"precipitation\": 76.5788070641912, \"condition\": \"sun\"}, {\"temperature\": 5.3304368864748515, \"wind\": 11.488543420187414, \"precipitation\": 23.611522242446682, \"condition\": \"rain\"}, {\"temperature\": 10.624231316087673, \"wind\": 89.57677208906625, \"precipitation\": 17.901521820239154, \"condition\": \"rain\"}, {\"temperature\": 16.45869339879156, \"wind\": 82.14358903068431, \"precipitation\": 50.5274648107178, \"condition\": \"drizzle\"}, {\"temperature\": 30.4859555666389, \"wind\": 85.43429025210673, \"precipitation\": 99.7314407177562, \"condition\": \"sun\"}, {\"temperature\": -7.842697704519862, \"wind\": 20.10431994181, \"precipitation\": 8.499755604198123, \"condition\": \"drizzle\"}, {\"temperature\": 23.82197430970396, \"wind\": 30.71236264475776, \"precipitation\": 91.23232368725205, \"condition\": \"snow\"}, {\"temperature\": 43.63862559514364, \"wind\": 28.821660476932877, \"precipitation\": 99.71103207097889, \"condition\": \"fog\"}, {\"temperature\": 8.981532662882305, \"wind\": 35.921027372850865, \"precipitation\": 91.12082810014113, \"condition\": \"fog\"}, {\"temperature\": 26.077729266653087, \"wind\": 63.53612288999908, \"precipitation\": 90.09748712912719, \"condition\": \"sun\"}, {\"temperature\": 38.44181274295784, \"wind\": 71.99143401846956, \"precipitation\": 21.221688878355216, \"condition\": \"rain\"}, {\"temperature\": 34.78710550916185, \"wind\": 89.27467266301889, \"precipitation\": 41.1955282025937, \"condition\": \"sun\"}, {\"temperature\": -5.848035132361012, \"wind\": 57.23792962073, \"precipitation\": 64.23162970775795, \"condition\": \"rain\"}, {\"temperature\": 0.6933169720006127, \"wind\": 72.76756692493736, \"precipitation\": 62.223235261304524, \"condition\": \"drizzle\"}]}}, {\"mode\": \"vega-lite\"});\n</script>",
      "text/plain": "alt.Chart(...)"
     },
     "metadata": {},
     "output_type": "display_data"
    }
   ],
   "source": [
    "base = alt.Chart(df).transform_filter(\n",
    " datum.temperature > 0\n",
    ")\n",
    "tick = base.mark_tick().encode(\n",
    " x=alt.X(field='temperature', type='quantitative', scale=alt.Scale(type='log'))\n",
    ")\n",
    "display_chart(tick)"
   ]
  },
  {
   "cell_type": "markdown",
   "metadata": {},
   "source": [
    "### Bar Chart"
   ]
  },
  {
   "cell_type": "code",
   "execution_count": 49,
   "metadata": {},
   "outputs": [
    {
     "name": "stdout",
     "output_type": "stream",
     "text": [
      "{'field': [{'name': 'temperature', 'type': 'number'},\n",
      "           {'name': 'condition', 'type': 'string'}],\n",
      " 'number_rows': 100,\n",
      " 'view': [{'coordinates': 'cartesian',\n",
      "           'mark': [{'encoding': [{'channel': 'x', 'field': 'condition'},\n",
      "                                  {'aggregate': 'mean',\n",
      "                                   'channel': 'y',\n",
      "                                   'field': 'temperature'}],\n",
      "                     'type': 'bar'}],\n",
      "           'scale': [{'channel': 'x', 'type': 'ordinal'},\n",
      "                     {'channel': 'y', 'type': 'linear', 'zero': 'true'}]}]}\n"
     ]
    }
   ],
   "source": [
    "facts = ['attribute(number_rows,root,100).',\n",
    " 'entity(field,root,temperature).',\n",
    " 'attribute((field,name),temperature,temperature).',\n",
    " 'attribute((field,type),temperature,number).',\n",
    " 'entity(field,root,condition).',\n",
    " 'attribute((field,name),condition,condition).',\n",
    " 'attribute((field,type),condition,string).',\n",
    " 'entity(view,root,0).',\n",
    " 'attribute((view,coordinates),0,cartesian).',\n",
    " 'entity(mark,0,1).',\n",
    " 'attribute((mark,type),1,bar).',\n",
    " 'entity(encoding,1,2).',\n",
    " 'attribute((encoding,channel),2,x).',\n",
    " 'attribute((encoding,field),2,condition).',\n",
    " 'entity(encoding,1,3).',\n",
    " 'attribute((encoding,channel),3,y).',\n",
    " 'attribute((encoding,field),3,temperature).',\n",
    " 'attribute((encoding,aggregate),3,mean).',\n",
    " 'entity(scale,0,4).',\n",
    " 'attribute((scale,channel),4,x).',\n",
    " 'attribute((scale,type),4,ordinal).',\n",
    " 'entity(scale,0,5).',\n",
    " 'attribute((scale,channel),5,y).',\n",
    " 'attribute((scale,type),5,linear).',\n",
    " 'attribute((scale,zero),5,true).']\n",
    "spec = facts_to_dict(facts)\n",
    "pprint(spec)"
   ]
  },
  {
   "cell_type": "code",
   "execution_count": 50,
   "metadata": {},
   "outputs": [
    {
     "name": "stdout",
     "output_type": "stream",
     "text": [
      "{'$schema': 'https://vega.github.io/schema/vega-lite/v4.17.0.json',\n",
      " 'config': {'view': {'continuousHeight': 300, 'continuousWidth': 400}},\n",
      " 'encoding': {'x': {'field': 'condition',\n",
      "                    'scale': {'type': 'ordinal'},\n",
      "                    'type': 'nominal'},\n",
      "              'y': {'aggregate': 'mean',\n",
      "                    'field': 'temperature',\n",
      "                    'scale': {'type': 'linear', 'zero': True},\n",
      "                    'type': 'quantitative'}},\n",
      " 'mark': 'bar'}\n"
     ]
    },
    {
     "data": {
      "text/html": "\n<div id=\"altair-viz-b3b4a37b2162408e8d2b4b2d8da9f6b6\"></div>\n<script type=\"text/javascript\">\n  var VEGA_DEBUG = (typeof VEGA_DEBUG == \"undefined\") ? {} : VEGA_DEBUG;\n  (function(spec, embedOpt){\n    let outputDiv = document.currentScript.previousElementSibling;\n    if (outputDiv.id !== \"altair-viz-b3b4a37b2162408e8d2b4b2d8da9f6b6\") {\n      outputDiv = document.getElementById(\"altair-viz-b3b4a37b2162408e8d2b4b2d8da9f6b6\");\n    }\n    const paths = {\n      \"vega\": \"https://cdn.jsdelivr.net/npm//vega@5?noext\",\n      \"vega-lib\": \"https://cdn.jsdelivr.net/npm//vega-lib?noext\",\n      \"vega-lite\": \"https://cdn.jsdelivr.net/npm//vega-lite@4.17.0?noext\",\n      \"vega-embed\": \"https://cdn.jsdelivr.net/npm//vega-embed@6?noext\",\n    };\n\n    function maybeLoadScript(lib, version) {\n      var key = `${lib.replace(\"-\", \"\")}_version`;\n      return (VEGA_DEBUG[key] == version) ?\n        Promise.resolve(paths[lib]) :\n        new Promise(function(resolve, reject) {\n          var s = document.createElement('script');\n          document.getElementsByTagName(\"head\")[0].appendChild(s);\n          s.async = true;\n          s.onload = () => {\n            VEGA_DEBUG[key] = version;\n            return resolve(paths[lib]);\n          };\n          s.onerror = () => reject(`Error loading script: ${paths[lib]}`);\n          s.src = paths[lib];\n        });\n    }\n\n    function showError(err) {\n      outputDiv.innerHTML = `<div class=\"error\" style=\"color:red;\">${err}</div>`;\n      throw err;\n    }\n\n    function displayChart(vegaEmbed) {\n      vegaEmbed(outputDiv, spec, embedOpt)\n        .catch(err => showError(`Javascript Error: ${err.message}<br>This usually means there's a typo in your chart specification. See the javascript console for the full traceback.`));\n    }\n\n    if(typeof define === \"function\" && define.amd) {\n      requirejs.config({paths});\n      require([\"vega-embed\"], displayChart, err => showError(`Error loading script: ${err.message}`));\n    } else {\n      maybeLoadScript(\"vega\", \"5\")\n        .then(() => maybeLoadScript(\"vega-lite\", \"4.17.0\"))\n        .then(() => maybeLoadScript(\"vega-embed\", \"6\"))\n        .catch(showError)\n        .then(() => displayChart(vegaEmbed));\n    }\n  })({\"config\": {\"view\": {\"continuousWidth\": 400, \"continuousHeight\": 300}}, \"data\": {\"name\": \"data-80b0e930866eee6a77413fd6e0890a78\"}, \"mark\": \"bar\", \"encoding\": {\"x\": {\"field\": \"condition\", \"scale\": {\"type\": \"ordinal\"}, \"type\": \"nominal\"}, \"y\": {\"aggregate\": \"mean\", \"field\": \"temperature\", \"scale\": {\"type\": \"linear\", \"zero\": true}, \"type\": \"quantitative\"}}, \"$schema\": \"https://vega.github.io/schema/vega-lite/v4.17.0.json\", \"datasets\": {\"data-80b0e930866eee6a77413fd6e0890a78\": [{\"temperature\": 39.357871877508494, \"wind\": 11.562263885182233, \"precipitation\": 88.42051387921796, \"condition\": \"fog\"}, {\"temperature\": -5.947154608637572, \"wind\": 86.90701738497849, \"precipitation\": 70.55832915444152, \"condition\": \"rain\"}, {\"temperature\": 32.82765627853655, \"wind\": 97.65897402212389, \"precipitation\": 82.65511533530304, \"condition\": \"sun\"}, {\"temperature\": 17.525999106231197, \"wind\": 65.52797477069528, \"precipitation\": 53.86256526101837, \"condition\": \"snow\"}, {\"temperature\": -6.80882656934652, \"wind\": 37.03429394195952, \"precipitation\": 93.86525481254682, \"condition\": \"drizzle\"}, {\"temperature\": 42.35997285539091, \"wind\": 72.00671240950793, \"precipitation\": 40.6587905336316, \"condition\": \"sun\"}, {\"temperature\": 12.236046428620227, \"wind\": 24.35537864304579, \"precipitation\": 83.89080965364893, \"condition\": \"sun\"}, {\"temperature\": 42.8103257781665, \"wind\": 29.81101459268268, \"precipitation\": 71.55020159752638, \"condition\": \"sun\"}, {\"temperature\": 22.54392113778252, \"wind\": 96.88264927669367, \"precipitation\": 57.21207145158276, \"condition\": \"rain\"}, {\"temperature\": 22.503608231529917, \"wind\": 73.45718441223443, \"precipitation\": 18.48099480479052, \"condition\": \"fog\"}, {\"temperature\": 20.697023061259923, \"wind\": 78.8085781529467, \"precipitation\": 82.06153728611223, \"condition\": \"drizzle\"}, {\"temperature\": 25.290109397291054, \"wind\": 80.30649374788099, \"precipitation\": 22.36608661432985, \"condition\": \"sun\"}, {\"temperature\": 38.2799313550365, \"wind\": 67.47085587574028, \"precipitation\": 20.740111999310816, \"condition\": \"snow\"}, {\"temperature\": 3.6725463468113624, \"wind\": 1.0115541087158841, \"precipitation\": 18.15771285571497, \"condition\": \"fog\"}, {\"temperature\": 43.05607594953013, \"wind\": 60.68482719845524, \"precipitation\": 57.77089873340201, \"condition\": \"drizzle\"}, {\"temperature\": 32.26702695541979, \"wind\": 51.25287908408247, \"precipitation\": 82.37499650298116, \"condition\": \"sun\"}, {\"temperature\": 20.65470025342109, \"wind\": 17.357994382399223, \"precipitation\": 61.85803419037972, \"condition\": \"snow\"}, {\"temperature\": 7.591958649416281, \"wind\": 56.87567133218157, \"precipitation\": 63.83705679953054, \"condition\": \"drizzle\"}, {\"temperature\": 34.12588295742098, \"wind\": 53.49706318356736, \"precipitation\": 39.89871505509641, \"condition\": \"drizzle\"}, {\"temperature\": 43.35047614485006, \"wind\": 25.611854852857896, \"precipitation\": 80.36992353488051, \"condition\": \"sun\"}, {\"temperature\": -0.6670916465821719, \"wind\": 85.48944217634627, \"precipitation\": 74.19603252504737, \"condition\": \"fog\"}, {\"temperature\": 27.71533514546813, \"wind\": 92.40258299219964, \"precipitation\": 35.46329445299181, \"condition\": \"sun\"}, {\"temperature\": 42.990310063528334, \"wind\": 4.767210553938305, \"precipitation\": 78.84896594785124, \"condition\": \"drizzle\"}, {\"temperature\": 12.78024257419457, \"wind\": 70.42789298007587, \"precipitation\": 32.19857853159736, \"condition\": \"rain\"}, {\"temperature\": 12.345464511586698, \"wind\": 96.37504245663669, \"precipitation\": 58.32326475918834, \"condition\": \"drizzle\"}, {\"temperature\": 16.615985139736694, \"wind\": 79.42654814203834, \"precipitation\": 13.002687080260278, \"condition\": \"drizzle\"}, {\"temperature\": 37.42489242698708, \"wind\": 61.345695045120095, \"precipitation\": 43.77564041090408, \"condition\": \"rain\"}, {\"temperature\": 4.4803758908315565, \"wind\": 49.77522034422004, \"precipitation\": 50.69600709811043, \"condition\": \"drizzle\"}, {\"temperature\": 24.097652039323982, \"wind\": 8.979384326640405, \"precipitation\": 30.641954593528485, \"condition\": \"sun\"}, {\"temperature\": -5.322217743871135, \"wind\": 61.189346843944705, \"precipitation\": 31.593229557269186, \"condition\": \"snow\"}, {\"temperature\": 9.656575236136984, \"wind\": 2.1373906951494104, \"precipitation\": 57.5465193225844, \"condition\": \"rain\"}, {\"temperature\": 23.09003214094531, \"wind\": 16.8504340533028, \"precipitation\": 49.38199137777561, \"condition\": \"snow\"}, {\"temperature\": -0.8910674950475652, \"wind\": 67.4372389241753, \"precipitation\": 44.01373586297284, \"condition\": \"drizzle\"}, {\"temperature\": 38.77628981797657, \"wind\": 19.349109733319814, \"precipitation\": 18.478064234157422, \"condition\": \"snow\"}, {\"temperature\": 3.4205075380082093, \"wind\": 27.407919047755026, \"precipitation\": 32.84745237938085, \"condition\": \"fog\"}, {\"temperature\": -5.033320662096024, \"wind\": 94.25698462447689, \"precipitation\": 43.460229120490254, \"condition\": \"fog\"}, {\"temperature\": -9.971237977814939, \"wind\": 93.98073112476098, \"precipitation\": 74.78247080628827, \"condition\": \"sun\"}, {\"temperature\": 14.882883965973484, \"wind\": 24.785612027523594, \"precipitation\": 51.19773747140527, \"condition\": \"drizzle\"}, {\"temperature\": 14.018034425277474, \"wind\": 91.62717881393021, \"precipitation\": 99.49522416477019, \"condition\": \"sun\"}, {\"temperature\": 31.305982604448104, \"wind\": 40.90373869893349, \"precipitation\": 74.89298496286528, \"condition\": \"rain\"}, {\"temperature\": 30.610723278623702, \"wind\": 42.06017669565571, \"precipitation\": 69.67703870061514, \"condition\": \"snow\"}, {\"temperature\": 34.74664418075527, \"wind\": 38.58462817605697, \"precipitation\": 67.82787083848606, \"condition\": \"sun\"}, {\"temperature\": 8.120514857460222, \"wind\": 98.79896637292207, \"precipitation\": 21.126567495900296, \"condition\": \"drizzle\"}, {\"temperature\": 21.830015183550092, \"wind\": 22.1211872838582, \"precipitation\": 79.23266981302642, \"condition\": \"fog\"}, {\"temperature\": 37.98236222048335, \"wind\": 3.9308035344873593, \"precipitation\": 14.592671850934291, \"condition\": \"rain\"}, {\"temperature\": 25.958872120055887, \"wind\": 30.880613774748145, \"precipitation\": 81.56963648865039, \"condition\": \"rain\"}, {\"temperature\": 35.17236224867325, \"wind\": 31.08177020391971, \"precipitation\": 24.18647666653794, \"condition\": \"rain\"}, {\"temperature\": 33.364342578760876, \"wind\": 2.9246595809319653, \"precipitation\": 12.15848602978733, \"condition\": \"fog\"}, {\"temperature\": -3.5902835942627487, \"wind\": 86.99227504041556, \"precipitation\": 2.3639517923128017, \"condition\": \"drizzle\"}, {\"temperature\": 43.53091004081406, \"wind\": 70.60869224087214, \"precipitation\": 66.94726954818158, \"condition\": \"rain\"}, {\"temperature\": 1.8337888199719252, \"wind\": 75.06866321814911, \"precipitation\": 53.6891397098117, \"condition\": \"sun\"}, {\"temperature\": 43.47830583880354, \"wind\": 71.68689230524836, \"precipitation\": 31.73117090776013, \"condition\": \"sun\"}, {\"temperature\": 24.70816388894937, \"wind\": 68.30107169120795, \"precipitation\": 20.50225020747416, \"condition\": \"snow\"}, {\"temperature\": 16.05118379980134, \"wind\": 52.99782792799144, \"precipitation\": 11.69028728553364, \"condition\": \"fog\"}, {\"temperature\": 28.077076050276126, \"wind\": 24.843732657120764, \"precipitation\": 7.7565838958533195, \"condition\": \"fog\"}, {\"temperature\": 26.313211105376084, \"wind\": 45.03333651941402, \"precipitation\": 31.41227095201218, \"condition\": \"fog\"}, {\"temperature\": 25.47932407524442, \"wind\": 87.21604759710651, \"precipitation\": 13.96847689136137, \"condition\": \"snow\"}, {\"temperature\": 11.036706749946731, \"wind\": 33.86229598446234, \"precipitation\": 38.968294579117845, \"condition\": \"rain\"}, {\"temperature\": 0.8142265953456, \"wind\": 70.98507415296346, \"precipitation\": 19.273374312321256, \"condition\": \"drizzle\"}, {\"temperature\": 25.391354725358426, \"wind\": 68.9460480155243, \"precipitation\": 93.11546643206357, \"condition\": \"fog\"}, {\"temperature\": 27.7726958317102, \"wind\": 15.439482065514532, \"precipitation\": 5.293937143885552, \"condition\": \"sun\"}, {\"temperature\": 3.0547946822445873, \"wind\": 86.42755659056152, \"precipitation\": 2.624712873155066, \"condition\": \"rain\"}, {\"temperature\": 39.42369527658811, \"wind\": 47.39700920935881, \"precipitation\": 41.728060203985706, \"condition\": \"rain\"}, {\"temperature\": 31.616549252691705, \"wind\": 31.294073920356126, \"precipitation\": 61.66414511625905, \"condition\": \"snow\"}, {\"temperature\": 37.73472491414072, \"wind\": 56.11305268794269, \"precipitation\": 81.92111265208045, \"condition\": \"fog\"}, {\"temperature\": 29.412459474532355, \"wind\": 46.76189099995182, \"precipitation\": 32.17901910781431, \"condition\": \"snow\"}, {\"temperature\": -5.305474080741154, \"wind\": 16.51061166938045, \"precipitation\": 40.72674907868328, \"condition\": \"fog\"}, {\"temperature\": 28.248344335114005, \"wind\": 74.65204013977382, \"precipitation\": 8.992377726473755, \"condition\": \"drizzle\"}, {\"temperature\": 40.71245089747694, \"wind\": 60.52030820865206, \"precipitation\": 5.486289017174572, \"condition\": \"rain\"}, {\"temperature\": 1.2855687063133647, \"wind\": 47.74453362846665, \"precipitation\": 77.71039918592594, \"condition\": \"drizzle\"}, {\"temperature\": 13.997864573343104, \"wind\": 99.2063323267444, \"precipitation\": 14.897152160823302, \"condition\": \"drizzle\"}, {\"temperature\": 18.825549046465813, \"wind\": 96.7516586164724, \"precipitation\": 62.15480712924485, \"condition\": \"rain\"}, {\"temperature\": 17.102600135203243, \"wind\": 95.33201102579268, \"precipitation\": 1.76947633335095, \"condition\": \"rain\"}, {\"temperature\": 31.603226292108516, \"wind\": 80.1260277875885, \"precipitation\": 19.250819441340848, \"condition\": \"drizzle\"}, {\"temperature\": 7.272202684808242, \"wind\": 8.416568701596594, \"precipitation\": 24.486546883662086, \"condition\": \"drizzle\"}, {\"temperature\": 6.42450547762995, \"wind\": 39.273237823513206, \"precipitation\": 59.175511527387584, \"condition\": \"sun\"}, {\"temperature\": 0.37651709537109035, \"wind\": 94.77902759827063, \"precipitation\": 28.64474524803353, \"condition\": \"fog\"}, {\"temperature\": 29.418237348870328, \"wind\": 73.1637224142291, \"precipitation\": 36.384371127988594, \"condition\": \"fog\"}, {\"temperature\": 32.58410407316762, \"wind\": 23.572673866731876, \"precipitation\": 21.78686177609982, \"condition\": \"sun\"}, {\"temperature\": 40.58331555194774, \"wind\": 12.46579946692835, \"precipitation\": 33.052715046353775, \"condition\": \"fog\"}, {\"temperature\": 15.02270799243955, \"wind\": 23.521353082533057, \"precipitation\": 0.5866372551906918, \"condition\": \"rain\"}, {\"temperature\": -1.5856356202583797, \"wind\": 58.706439422107415, \"precipitation\": 23.69625533115679, \"condition\": \"fog\"}, {\"temperature\": 39.83846166807995, \"wind\": 7.925060993257304, \"precipitation\": 73.27745598517468, \"condition\": \"snow\"}, {\"temperature\": 30.25106478610541, \"wind\": 53.60474576386106, \"precipitation\": 76.63592895791527, \"condition\": \"sun\"}, {\"temperature\": 12.08528607254729, \"wind\": 11.679210728025568, \"precipitation\": 21.30987094861694, \"condition\": \"drizzle\"}, {\"temperature\": 20.103305307522167, \"wind\": 35.51132614216856, \"precipitation\": 99.11641742479553, \"condition\": \"snow\"}, {\"temperature\": 34.61293495454381, \"wind\": 16.44814913694985, \"precipitation\": 76.5788070641912, \"condition\": \"sun\"}, {\"temperature\": 5.3304368864748515, \"wind\": 11.488543420187414, \"precipitation\": 23.611522242446682, \"condition\": \"rain\"}, {\"temperature\": 10.624231316087673, \"wind\": 89.57677208906625, \"precipitation\": 17.901521820239154, \"condition\": \"rain\"}, {\"temperature\": 16.45869339879156, \"wind\": 82.14358903068431, \"precipitation\": 50.5274648107178, \"condition\": \"drizzle\"}, {\"temperature\": 30.4859555666389, \"wind\": 85.43429025210673, \"precipitation\": 99.7314407177562, \"condition\": \"sun\"}, {\"temperature\": -7.842697704519862, \"wind\": 20.10431994181, \"precipitation\": 8.499755604198123, \"condition\": \"drizzle\"}, {\"temperature\": 23.82197430970396, \"wind\": 30.71236264475776, \"precipitation\": 91.23232368725205, \"condition\": \"snow\"}, {\"temperature\": 43.63862559514364, \"wind\": 28.821660476932877, \"precipitation\": 99.71103207097889, \"condition\": \"fog\"}, {\"temperature\": 8.981532662882305, \"wind\": 35.921027372850865, \"precipitation\": 91.12082810014113, \"condition\": \"fog\"}, {\"temperature\": 26.077729266653087, \"wind\": 63.53612288999908, \"precipitation\": 90.09748712912719, \"condition\": \"sun\"}, {\"temperature\": 38.44181274295784, \"wind\": 71.99143401846956, \"precipitation\": 21.221688878355216, \"condition\": \"rain\"}, {\"temperature\": 34.78710550916185, \"wind\": 89.27467266301889, \"precipitation\": 41.1955282025937, \"condition\": \"sun\"}, {\"temperature\": -5.848035132361012, \"wind\": 57.23792962073, \"precipitation\": 64.23162970775795, \"condition\": \"rain\"}, {\"temperature\": 0.6933169720006127, \"wind\": 72.76756692493736, \"precipitation\": 62.223235261304524, \"condition\": \"drizzle\"}]}}, {\"mode\": \"vega-lite\"});\n</script>",
      "text/plain": "alt.Chart(...)"
     },
     "metadata": {},
     "output_type": "display_data"
    }
   ],
   "source": [
    "base = alt.Chart(df)\n",
    "bar = base.mark_bar().encode(\n",
    "    x=alt.X(field='condition', \n",
    "            type='nominal', \n",
    "            scale=alt.Scale(type='ordinal')),\n",
    "    y=alt.Y(field='temperature', \n",
    "            type='quantitative', \n",
    "            aggregate='mean', \n",
    "            scale=alt.Scale(type='linear', zero=True))\n",
    ")\n",
    "display_chart(bar)"
   ]
  },
  {
   "cell_type": "markdown",
   "metadata": {},
   "source": [
    "### Radial Chart"
   ]
  },
  {
   "cell_type": "code",
   "execution_count": 51,
   "metadata": {},
   "outputs": [
    {
     "name": "stdout",
     "output_type": "stream",
     "text": [
      "{'field': [{'name': 'temperature', 'type': 'number'},\n",
      "           {'name': 'condition', 'type': 'string'}],\n",
      " 'number_rows': 100,\n",
      " 'view': [{'coordinates': 'polar',\n",
      "           'mark': [{'encoding': [{'channel': 'x', 'field': 'condition'},\n",
      "                                  {'aggregate': 'mean',\n",
      "                                   'channel': 'y',\n",
      "                                   'field': 'temperature'}],\n",
      "                     'type': 'bar'}],\n",
      "           'scale': [{'channel': 'x', 'type': 'ordinal'},\n",
      "                     {'channel': 'y', 'type': 'linear', 'zero': 'true'}]}]}\n"
     ]
    }
   ],
   "source": [
    "facts = ['attribute(number_rows,root,100).',\n",
    " 'entity(field,root,temperature).',\n",
    " 'attribute((field,name),temperature,temperature).',\n",
    " 'attribute((field,type),temperature,number).',\n",
    " 'entity(field,root,condition).',\n",
    " 'attribute((field,name),condition,condition).',\n",
    " 'attribute((field,type),condition,string).',\n",
    " 'entity(view,root,0).',\n",
    " 'attribute((view,coordinates),0,polar).',\n",
    " 'entity(mark,0,1).',\n",
    " 'attribute((mark,type),1,bar).',\n",
    " 'entity(encoding,1,2).',\n",
    " 'attribute((encoding,channel),2,x).',\n",
    " 'attribute((encoding,field),2,condition).',\n",
    " 'entity(encoding,1,3).',\n",
    " 'attribute((encoding,channel),3,y).',\n",
    " 'attribute((encoding,field),3,temperature).',\n",
    " 'attribute((encoding,aggregate),3,mean).',\n",
    " 'entity(scale,0,4).',\n",
    " 'attribute((scale,channel),4,x).',\n",
    " 'attribute((scale,type),4,ordinal).',\n",
    " 'entity(scale,0,5).',\n",
    " 'attribute((scale,channel),5,y).',\n",
    " 'attribute((scale,type),5,linear).',\n",
    " 'attribute((scale,zero),5,true).']\n",
    "spec = facts_to_dict(facts)\n",
    "pprint(spec)"
   ]
  },
  {
   "cell_type": "code",
   "execution_count": 52,
   "metadata": {},
   "outputs": [
    {
     "name": "stdout",
     "output_type": "stream",
     "text": [
      "{'$schema': 'https://vega.github.io/schema/vega-lite/v4.17.0.json',\n",
      " 'config': {'view': {'continuousHeight': 300, 'continuousWidth': 400}},\n",
      " 'layer': [{'encoding': {'radius': {'aggregate': 'mean',\n",
      "                                    'field': 'temperature',\n",
      "                                    'type': 'quantitative'},\n",
      "                         'theta': {'field': 'condition', 'type': 'nominal'}},\n",
      "            'mark': {'stroke': '#ffffff', 'type': 'arc'}},\n",
      "           {'encoding': {'radius': {'aggregate': 'mean',\n",
      "                                    'field': 'temperature',\n",
      "                                    'type': 'quantitative'},\n",
      "                         'text': {'field': 'condition', 'type': 'nominal'},\n",
      "                         'theta': {'field': 'condition', 'type': 'nominal'}},\n",
      "            'mark': {'radiusOffset': 15, 'type': 'text'}}]}\n"
     ]
    },
    {
     "data": {
      "text/html": "\n<div id=\"altair-viz-a1698486899742c7b505e8000a5291a9\"></div>\n<script type=\"text/javascript\">\n  var VEGA_DEBUG = (typeof VEGA_DEBUG == \"undefined\") ? {} : VEGA_DEBUG;\n  (function(spec, embedOpt){\n    let outputDiv = document.currentScript.previousElementSibling;\n    if (outputDiv.id !== \"altair-viz-a1698486899742c7b505e8000a5291a9\") {\n      outputDiv = document.getElementById(\"altair-viz-a1698486899742c7b505e8000a5291a9\");\n    }\n    const paths = {\n      \"vega\": \"https://cdn.jsdelivr.net/npm//vega@5?noext\",\n      \"vega-lib\": \"https://cdn.jsdelivr.net/npm//vega-lib?noext\",\n      \"vega-lite\": \"https://cdn.jsdelivr.net/npm//vega-lite@4.17.0?noext\",\n      \"vega-embed\": \"https://cdn.jsdelivr.net/npm//vega-embed@6?noext\",\n    };\n\n    function maybeLoadScript(lib, version) {\n      var key = `${lib.replace(\"-\", \"\")}_version`;\n      return (VEGA_DEBUG[key] == version) ?\n        Promise.resolve(paths[lib]) :\n        new Promise(function(resolve, reject) {\n          var s = document.createElement('script');\n          document.getElementsByTagName(\"head\")[0].appendChild(s);\n          s.async = true;\n          s.onload = () => {\n            VEGA_DEBUG[key] = version;\n            return resolve(paths[lib]);\n          };\n          s.onerror = () => reject(`Error loading script: ${paths[lib]}`);\n          s.src = paths[lib];\n        });\n    }\n\n    function showError(err) {\n      outputDiv.innerHTML = `<div class=\"error\" style=\"color:red;\">${err}</div>`;\n      throw err;\n    }\n\n    function displayChart(vegaEmbed) {\n      vegaEmbed(outputDiv, spec, embedOpt)\n        .catch(err => showError(`Javascript Error: ${err.message}<br>This usually means there's a typo in your chart specification. See the javascript console for the full traceback.`));\n    }\n\n    if(typeof define === \"function\" && define.amd) {\n      requirejs.config({paths});\n      require([\"vega-embed\"], displayChart, err => showError(`Error loading script: ${err.message}`));\n    } else {\n      maybeLoadScript(\"vega\", \"5\")\n        .then(() => maybeLoadScript(\"vega-lite\", \"4.17.0\"))\n        .then(() => maybeLoadScript(\"vega-embed\", \"6\"))\n        .catch(showError)\n        .then(() => displayChart(vegaEmbed));\n    }\n  })({\"config\": {\"view\": {\"continuousWidth\": 400, \"continuousHeight\": 300}}, \"layer\": [{\"mark\": {\"type\": \"arc\", \"stroke\": \"#ffffff\"}, \"encoding\": {\"radius\": {\"aggregate\": \"mean\", \"field\": \"temperature\", \"type\": \"quantitative\"}, \"theta\": {\"field\": \"condition\", \"type\": \"nominal\"}}}, {\"mark\": {\"type\": \"text\", \"radiusOffset\": 15}, \"encoding\": {\"radius\": {\"aggregate\": \"mean\", \"field\": \"temperature\", \"type\": \"quantitative\"}, \"text\": {\"field\": \"condition\", \"type\": \"nominal\"}, \"theta\": {\"field\": \"condition\", \"type\": \"nominal\"}}}], \"data\": {\"name\": \"data-80b0e930866eee6a77413fd6e0890a78\"}, \"$schema\": \"https://vega.github.io/schema/vega-lite/v4.17.0.json\", \"datasets\": {\"data-80b0e930866eee6a77413fd6e0890a78\": [{\"temperature\": 39.357871877508494, \"wind\": 11.562263885182233, \"precipitation\": 88.42051387921796, \"condition\": \"fog\"}, {\"temperature\": -5.947154608637572, \"wind\": 86.90701738497849, \"precipitation\": 70.55832915444152, \"condition\": \"rain\"}, {\"temperature\": 32.82765627853655, \"wind\": 97.65897402212389, \"precipitation\": 82.65511533530304, \"condition\": \"sun\"}, {\"temperature\": 17.525999106231197, \"wind\": 65.52797477069528, \"precipitation\": 53.86256526101837, \"condition\": \"snow\"}, {\"temperature\": -6.80882656934652, \"wind\": 37.03429394195952, \"precipitation\": 93.86525481254682, \"condition\": \"drizzle\"}, {\"temperature\": 42.35997285539091, \"wind\": 72.00671240950793, \"precipitation\": 40.6587905336316, \"condition\": \"sun\"}, {\"temperature\": 12.236046428620227, \"wind\": 24.35537864304579, \"precipitation\": 83.89080965364893, \"condition\": \"sun\"}, {\"temperature\": 42.8103257781665, \"wind\": 29.81101459268268, \"precipitation\": 71.55020159752638, \"condition\": \"sun\"}, {\"temperature\": 22.54392113778252, \"wind\": 96.88264927669367, \"precipitation\": 57.21207145158276, \"condition\": \"rain\"}, {\"temperature\": 22.503608231529917, \"wind\": 73.45718441223443, \"precipitation\": 18.48099480479052, \"condition\": \"fog\"}, {\"temperature\": 20.697023061259923, \"wind\": 78.8085781529467, \"precipitation\": 82.06153728611223, \"condition\": \"drizzle\"}, {\"temperature\": 25.290109397291054, \"wind\": 80.30649374788099, \"precipitation\": 22.36608661432985, \"condition\": \"sun\"}, {\"temperature\": 38.2799313550365, \"wind\": 67.47085587574028, \"precipitation\": 20.740111999310816, \"condition\": \"snow\"}, {\"temperature\": 3.6725463468113624, \"wind\": 1.0115541087158841, \"precipitation\": 18.15771285571497, \"condition\": \"fog\"}, {\"temperature\": 43.05607594953013, \"wind\": 60.68482719845524, \"precipitation\": 57.77089873340201, \"condition\": \"drizzle\"}, {\"temperature\": 32.26702695541979, \"wind\": 51.25287908408247, \"precipitation\": 82.37499650298116, \"condition\": \"sun\"}, {\"temperature\": 20.65470025342109, \"wind\": 17.357994382399223, \"precipitation\": 61.85803419037972, \"condition\": \"snow\"}, {\"temperature\": 7.591958649416281, \"wind\": 56.87567133218157, \"precipitation\": 63.83705679953054, \"condition\": \"drizzle\"}, {\"temperature\": 34.12588295742098, \"wind\": 53.49706318356736, \"precipitation\": 39.89871505509641, \"condition\": \"drizzle\"}, {\"temperature\": 43.35047614485006, \"wind\": 25.611854852857896, \"precipitation\": 80.36992353488051, \"condition\": \"sun\"}, {\"temperature\": -0.6670916465821719, \"wind\": 85.48944217634627, \"precipitation\": 74.19603252504737, \"condition\": \"fog\"}, {\"temperature\": 27.71533514546813, \"wind\": 92.40258299219964, \"precipitation\": 35.46329445299181, \"condition\": \"sun\"}, {\"temperature\": 42.990310063528334, \"wind\": 4.767210553938305, \"precipitation\": 78.84896594785124, \"condition\": \"drizzle\"}, {\"temperature\": 12.78024257419457, \"wind\": 70.42789298007587, \"precipitation\": 32.19857853159736, \"condition\": \"rain\"}, {\"temperature\": 12.345464511586698, \"wind\": 96.37504245663669, \"precipitation\": 58.32326475918834, \"condition\": \"drizzle\"}, {\"temperature\": 16.615985139736694, \"wind\": 79.42654814203834, \"precipitation\": 13.002687080260278, \"condition\": \"drizzle\"}, {\"temperature\": 37.42489242698708, \"wind\": 61.345695045120095, \"precipitation\": 43.77564041090408, \"condition\": \"rain\"}, {\"temperature\": 4.4803758908315565, \"wind\": 49.77522034422004, \"precipitation\": 50.69600709811043, \"condition\": \"drizzle\"}, {\"temperature\": 24.097652039323982, \"wind\": 8.979384326640405, \"precipitation\": 30.641954593528485, \"condition\": \"sun\"}, {\"temperature\": -5.322217743871135, \"wind\": 61.189346843944705, \"precipitation\": 31.593229557269186, \"condition\": \"snow\"}, {\"temperature\": 9.656575236136984, \"wind\": 2.1373906951494104, \"precipitation\": 57.5465193225844, \"condition\": \"rain\"}, {\"temperature\": 23.09003214094531, \"wind\": 16.8504340533028, \"precipitation\": 49.38199137777561, \"condition\": \"snow\"}, {\"temperature\": -0.8910674950475652, \"wind\": 67.4372389241753, \"precipitation\": 44.01373586297284, \"condition\": \"drizzle\"}, {\"temperature\": 38.77628981797657, \"wind\": 19.349109733319814, \"precipitation\": 18.478064234157422, \"condition\": \"snow\"}, {\"temperature\": 3.4205075380082093, \"wind\": 27.407919047755026, \"precipitation\": 32.84745237938085, \"condition\": \"fog\"}, {\"temperature\": -5.033320662096024, \"wind\": 94.25698462447689, \"precipitation\": 43.460229120490254, \"condition\": \"fog\"}, {\"temperature\": -9.971237977814939, \"wind\": 93.98073112476098, \"precipitation\": 74.78247080628827, \"condition\": \"sun\"}, {\"temperature\": 14.882883965973484, \"wind\": 24.785612027523594, \"precipitation\": 51.19773747140527, \"condition\": \"drizzle\"}, {\"temperature\": 14.018034425277474, \"wind\": 91.62717881393021, \"precipitation\": 99.49522416477019, \"condition\": \"sun\"}, {\"temperature\": 31.305982604448104, \"wind\": 40.90373869893349, \"precipitation\": 74.89298496286528, \"condition\": \"rain\"}, {\"temperature\": 30.610723278623702, \"wind\": 42.06017669565571, \"precipitation\": 69.67703870061514, \"condition\": \"snow\"}, {\"temperature\": 34.74664418075527, \"wind\": 38.58462817605697, \"precipitation\": 67.82787083848606, \"condition\": \"sun\"}, {\"temperature\": 8.120514857460222, \"wind\": 98.79896637292207, \"precipitation\": 21.126567495900296, \"condition\": \"drizzle\"}, {\"temperature\": 21.830015183550092, \"wind\": 22.1211872838582, \"precipitation\": 79.23266981302642, \"condition\": \"fog\"}, {\"temperature\": 37.98236222048335, \"wind\": 3.9308035344873593, \"precipitation\": 14.592671850934291, \"condition\": \"rain\"}, {\"temperature\": 25.958872120055887, \"wind\": 30.880613774748145, \"precipitation\": 81.56963648865039, \"condition\": \"rain\"}, {\"temperature\": 35.17236224867325, \"wind\": 31.08177020391971, \"precipitation\": 24.18647666653794, \"condition\": \"rain\"}, {\"temperature\": 33.364342578760876, \"wind\": 2.9246595809319653, \"precipitation\": 12.15848602978733, \"condition\": \"fog\"}, {\"temperature\": -3.5902835942627487, \"wind\": 86.99227504041556, \"precipitation\": 2.3639517923128017, \"condition\": \"drizzle\"}, {\"temperature\": 43.53091004081406, \"wind\": 70.60869224087214, \"precipitation\": 66.94726954818158, \"condition\": \"rain\"}, {\"temperature\": 1.8337888199719252, \"wind\": 75.06866321814911, \"precipitation\": 53.6891397098117, \"condition\": \"sun\"}, {\"temperature\": 43.47830583880354, \"wind\": 71.68689230524836, \"precipitation\": 31.73117090776013, \"condition\": \"sun\"}, {\"temperature\": 24.70816388894937, \"wind\": 68.30107169120795, \"precipitation\": 20.50225020747416, \"condition\": \"snow\"}, {\"temperature\": 16.05118379980134, \"wind\": 52.99782792799144, \"precipitation\": 11.69028728553364, \"condition\": \"fog\"}, {\"temperature\": 28.077076050276126, \"wind\": 24.843732657120764, \"precipitation\": 7.7565838958533195, \"condition\": \"fog\"}, {\"temperature\": 26.313211105376084, \"wind\": 45.03333651941402, \"precipitation\": 31.41227095201218, \"condition\": \"fog\"}, {\"temperature\": 25.47932407524442, \"wind\": 87.21604759710651, \"precipitation\": 13.96847689136137, \"condition\": \"snow\"}, {\"temperature\": 11.036706749946731, \"wind\": 33.86229598446234, \"precipitation\": 38.968294579117845, \"condition\": \"rain\"}, {\"temperature\": 0.8142265953456, \"wind\": 70.98507415296346, \"precipitation\": 19.273374312321256, \"condition\": \"drizzle\"}, {\"temperature\": 25.391354725358426, \"wind\": 68.9460480155243, \"precipitation\": 93.11546643206357, \"condition\": \"fog\"}, {\"temperature\": 27.7726958317102, \"wind\": 15.439482065514532, \"precipitation\": 5.293937143885552, \"condition\": \"sun\"}, {\"temperature\": 3.0547946822445873, \"wind\": 86.42755659056152, \"precipitation\": 2.624712873155066, \"condition\": \"rain\"}, {\"temperature\": 39.42369527658811, \"wind\": 47.39700920935881, \"precipitation\": 41.728060203985706, \"condition\": \"rain\"}, {\"temperature\": 31.616549252691705, \"wind\": 31.294073920356126, \"precipitation\": 61.66414511625905, \"condition\": \"snow\"}, {\"temperature\": 37.73472491414072, \"wind\": 56.11305268794269, \"precipitation\": 81.92111265208045, \"condition\": \"fog\"}, {\"temperature\": 29.412459474532355, \"wind\": 46.76189099995182, \"precipitation\": 32.17901910781431, \"condition\": \"snow\"}, {\"temperature\": -5.305474080741154, \"wind\": 16.51061166938045, \"precipitation\": 40.72674907868328, \"condition\": \"fog\"}, {\"temperature\": 28.248344335114005, \"wind\": 74.65204013977382, \"precipitation\": 8.992377726473755, \"condition\": \"drizzle\"}, {\"temperature\": 40.71245089747694, \"wind\": 60.52030820865206, \"precipitation\": 5.486289017174572, \"condition\": \"rain\"}, {\"temperature\": 1.2855687063133647, \"wind\": 47.74453362846665, \"precipitation\": 77.71039918592594, \"condition\": \"drizzle\"}, {\"temperature\": 13.997864573343104, \"wind\": 99.2063323267444, \"precipitation\": 14.897152160823302, \"condition\": \"drizzle\"}, {\"temperature\": 18.825549046465813, \"wind\": 96.7516586164724, \"precipitation\": 62.15480712924485, \"condition\": \"rain\"}, {\"temperature\": 17.102600135203243, \"wind\": 95.33201102579268, \"precipitation\": 1.76947633335095, \"condition\": \"rain\"}, {\"temperature\": 31.603226292108516, \"wind\": 80.1260277875885, \"precipitation\": 19.250819441340848, \"condition\": \"drizzle\"}, {\"temperature\": 7.272202684808242, \"wind\": 8.416568701596594, \"precipitation\": 24.486546883662086, \"condition\": \"drizzle\"}, {\"temperature\": 6.42450547762995, \"wind\": 39.273237823513206, \"precipitation\": 59.175511527387584, \"condition\": \"sun\"}, {\"temperature\": 0.37651709537109035, \"wind\": 94.77902759827063, \"precipitation\": 28.64474524803353, \"condition\": \"fog\"}, {\"temperature\": 29.418237348870328, \"wind\": 73.1637224142291, \"precipitation\": 36.384371127988594, \"condition\": \"fog\"}, {\"temperature\": 32.58410407316762, \"wind\": 23.572673866731876, \"precipitation\": 21.78686177609982, \"condition\": \"sun\"}, {\"temperature\": 40.58331555194774, \"wind\": 12.46579946692835, \"precipitation\": 33.052715046353775, \"condition\": \"fog\"}, {\"temperature\": 15.02270799243955, \"wind\": 23.521353082533057, \"precipitation\": 0.5866372551906918, \"condition\": \"rain\"}, {\"temperature\": -1.5856356202583797, \"wind\": 58.706439422107415, \"precipitation\": 23.69625533115679, \"condition\": \"fog\"}, {\"temperature\": 39.83846166807995, \"wind\": 7.925060993257304, \"precipitation\": 73.27745598517468, \"condition\": \"snow\"}, {\"temperature\": 30.25106478610541, \"wind\": 53.60474576386106, \"precipitation\": 76.63592895791527, \"condition\": \"sun\"}, {\"temperature\": 12.08528607254729, \"wind\": 11.679210728025568, \"precipitation\": 21.30987094861694, \"condition\": \"drizzle\"}, {\"temperature\": 20.103305307522167, \"wind\": 35.51132614216856, \"precipitation\": 99.11641742479553, \"condition\": \"snow\"}, {\"temperature\": 34.61293495454381, \"wind\": 16.44814913694985, \"precipitation\": 76.5788070641912, \"condition\": \"sun\"}, {\"temperature\": 5.3304368864748515, \"wind\": 11.488543420187414, \"precipitation\": 23.611522242446682, \"condition\": \"rain\"}, {\"temperature\": 10.624231316087673, \"wind\": 89.57677208906625, \"precipitation\": 17.901521820239154, \"condition\": \"rain\"}, {\"temperature\": 16.45869339879156, \"wind\": 82.14358903068431, \"precipitation\": 50.5274648107178, \"condition\": \"drizzle\"}, {\"temperature\": 30.4859555666389, \"wind\": 85.43429025210673, \"precipitation\": 99.7314407177562, \"condition\": \"sun\"}, {\"temperature\": -7.842697704519862, \"wind\": 20.10431994181, \"precipitation\": 8.499755604198123, \"condition\": \"drizzle\"}, {\"temperature\": 23.82197430970396, \"wind\": 30.71236264475776, \"precipitation\": 91.23232368725205, \"condition\": \"snow\"}, {\"temperature\": 43.63862559514364, \"wind\": 28.821660476932877, \"precipitation\": 99.71103207097889, \"condition\": \"fog\"}, {\"temperature\": 8.981532662882305, \"wind\": 35.921027372850865, \"precipitation\": 91.12082810014113, \"condition\": \"fog\"}, {\"temperature\": 26.077729266653087, \"wind\": 63.53612288999908, \"precipitation\": 90.09748712912719, \"condition\": \"sun\"}, {\"temperature\": 38.44181274295784, \"wind\": 71.99143401846956, \"precipitation\": 21.221688878355216, \"condition\": \"rain\"}, {\"temperature\": 34.78710550916185, \"wind\": 89.27467266301889, \"precipitation\": 41.1955282025937, \"condition\": \"sun\"}, {\"temperature\": -5.848035132361012, \"wind\": 57.23792962073, \"precipitation\": 64.23162970775795, \"condition\": \"rain\"}, {\"temperature\": 0.6933169720006127, \"wind\": 72.76756692493736, \"precipitation\": 62.223235261304524, \"condition\": \"drizzle\"}]}}, {\"mode\": \"vega-lite\"});\n</script>",
      "text/plain": "alt.LayerChart(...)"
     },
     "metadata": {},
     "output_type": "display_data"
    }
   ],
   "source": [
    "base = alt.Chart(df)\n",
    "arc = base.mark_arc(stroke='#ffffff').encode(\n",
    "    theta=alt.Theta(field='condition', type='nominal'),\n",
    "    radius=alt.Radius(field='temperature', type='quantitative', aggregate='mean')\n",
    ")\n",
    "text = base.mark_text(radiusOffset=15).encode(\n",
    "    theta=alt.Theta(field='condition', type='nominal'),\n",
    "    radius=alt.Radius(field='temperature', type='quantitative', aggregate='mean'),\n",
    "    text=alt.Text(field='condition', type='nominal')\n",
    ")\n",
    "display_chart(arc + text)"
   ]
  },
  {
   "cell_type": "markdown",
   "metadata": {},
   "source": [
    "### Histogram"
   ]
  },
  {
   "cell_type": "code",
   "execution_count": 53,
   "metadata": {},
   "outputs": [
    {
     "name": "stdout",
     "output_type": "stream",
     "text": [
      "{'field': [{'name': 'condition', 'type': 'string'}],\n",
      " 'number_rows': 100,\n",
      " 'view': [{'mark': [{'encoding': [{'channel': 'x', 'field': 'condition'},\n",
      "                                  {'aggregate': 'count', 'channel': 'y'}],\n",
      "                     'type': 'bar'}],\n",
      "           'scale': [{'channel': 'x', 'type': 'ordinal'},\n",
      "                     {'channel': 'y', 'type': 'linear', 'zero': 'true'}]}]}\n"
     ]
    }
   ],
   "source": [
    "facts = ['attribute(number_rows,root,100).',\n",
    " 'entity(field,root,condition).',\n",
    " 'attribute((field,name),condition,condition).',\n",
    " 'attribute((field,type),condition,string).',\n",
    " 'entity(view,root,0).',\n",
    " 'entity(mark,0,1).',\n",
    " 'attribute((mark,type),1,bar).',\n",
    " 'entity(encoding,1,2).',\n",
    " 'attribute((encoding,channel),2,x).',\n",
    " 'attribute((encoding,field),2,condition).',\n",
    " 'entity(encoding,1,3).',\n",
    " 'attribute((encoding,channel),3,y).',\n",
    " 'attribute((encoding,aggregate),3,count).',\n",
    " 'entity(scale,0,4).',\n",
    " 'attribute((scale,channel),4,x).',\n",
    " 'attribute((scale,type),4,ordinal).',\n",
    " 'entity(scale,0,5).',\n",
    " 'attribute((scale,channel),5,y).',\n",
    " 'attribute((scale,type),5,linear).',\n",
    " 'attribute((scale,zero),5,true).']\n",
    "spec = facts_to_dict(facts)\n",
    "pprint(spec)"
   ]
  },
  {
   "cell_type": "code",
   "execution_count": 54,
   "metadata": {},
   "outputs": [
    {
     "name": "stdout",
     "output_type": "stream",
     "text": [
      "{'$schema': 'https://vega.github.io/schema/vega-lite/v4.17.0.json',\n",
      " 'config': {'view': {'continuousHeight': 300, 'continuousWidth': 400}},\n",
      " 'encoding': {'x': {'field': 'condition',\n",
      "                    'scale': {'type': 'ordinal'},\n",
      "                    'type': 'nominal'},\n",
      "              'y': {'aggregate': 'count',\n",
      "                    'field': 'condition',\n",
      "                    'scale': {'type': 'linear', 'zero': True},\n",
      "                    'type': 'nominal'}},\n",
      " 'mark': 'bar'}\n"
     ]
    },
    {
     "data": {
      "text/html": "\n<div id=\"altair-viz-a96b3a6f66bf4806b5884aa551901b3c\"></div>\n<script type=\"text/javascript\">\n  var VEGA_DEBUG = (typeof VEGA_DEBUG == \"undefined\") ? {} : VEGA_DEBUG;\n  (function(spec, embedOpt){\n    let outputDiv = document.currentScript.previousElementSibling;\n    if (outputDiv.id !== \"altair-viz-a96b3a6f66bf4806b5884aa551901b3c\") {\n      outputDiv = document.getElementById(\"altair-viz-a96b3a6f66bf4806b5884aa551901b3c\");\n    }\n    const paths = {\n      \"vega\": \"https://cdn.jsdelivr.net/npm//vega@5?noext\",\n      \"vega-lib\": \"https://cdn.jsdelivr.net/npm//vega-lib?noext\",\n      \"vega-lite\": \"https://cdn.jsdelivr.net/npm//vega-lite@4.17.0?noext\",\n      \"vega-embed\": \"https://cdn.jsdelivr.net/npm//vega-embed@6?noext\",\n    };\n\n    function maybeLoadScript(lib, version) {\n      var key = `${lib.replace(\"-\", \"\")}_version`;\n      return (VEGA_DEBUG[key] == version) ?\n        Promise.resolve(paths[lib]) :\n        new Promise(function(resolve, reject) {\n          var s = document.createElement('script');\n          document.getElementsByTagName(\"head\")[0].appendChild(s);\n          s.async = true;\n          s.onload = () => {\n            VEGA_DEBUG[key] = version;\n            return resolve(paths[lib]);\n          };\n          s.onerror = () => reject(`Error loading script: ${paths[lib]}`);\n          s.src = paths[lib];\n        });\n    }\n\n    function showError(err) {\n      outputDiv.innerHTML = `<div class=\"error\" style=\"color:red;\">${err}</div>`;\n      throw err;\n    }\n\n    function displayChart(vegaEmbed) {\n      vegaEmbed(outputDiv, spec, embedOpt)\n        .catch(err => showError(`Javascript Error: ${err.message}<br>This usually means there's a typo in your chart specification. See the javascript console for the full traceback.`));\n    }\n\n    if(typeof define === \"function\" && define.amd) {\n      requirejs.config({paths});\n      require([\"vega-embed\"], displayChart, err => showError(`Error loading script: ${err.message}`));\n    } else {\n      maybeLoadScript(\"vega\", \"5\")\n        .then(() => maybeLoadScript(\"vega-lite\", \"4.17.0\"))\n        .then(() => maybeLoadScript(\"vega-embed\", \"6\"))\n        .catch(showError)\n        .then(() => displayChart(vegaEmbed));\n    }\n  })({\"config\": {\"view\": {\"continuousWidth\": 400, \"continuousHeight\": 300}}, \"data\": {\"name\": \"data-80b0e930866eee6a77413fd6e0890a78\"}, \"mark\": \"bar\", \"encoding\": {\"x\": {\"field\": \"condition\", \"scale\": {\"type\": \"ordinal\"}, \"type\": \"nominal\"}, \"y\": {\"aggregate\": \"count\", \"field\": \"condition\", \"scale\": {\"type\": \"linear\", \"zero\": true}, \"type\": \"nominal\"}}, \"$schema\": \"https://vega.github.io/schema/vega-lite/v4.17.0.json\", \"datasets\": {\"data-80b0e930866eee6a77413fd6e0890a78\": [{\"temperature\": 39.357871877508494, \"wind\": 11.562263885182233, \"precipitation\": 88.42051387921796, \"condition\": \"fog\"}, {\"temperature\": -5.947154608637572, \"wind\": 86.90701738497849, \"precipitation\": 70.55832915444152, \"condition\": \"rain\"}, {\"temperature\": 32.82765627853655, \"wind\": 97.65897402212389, \"precipitation\": 82.65511533530304, \"condition\": \"sun\"}, {\"temperature\": 17.525999106231197, \"wind\": 65.52797477069528, \"precipitation\": 53.86256526101837, \"condition\": \"snow\"}, {\"temperature\": -6.80882656934652, \"wind\": 37.03429394195952, \"precipitation\": 93.86525481254682, \"condition\": \"drizzle\"}, {\"temperature\": 42.35997285539091, \"wind\": 72.00671240950793, \"precipitation\": 40.6587905336316, \"condition\": \"sun\"}, {\"temperature\": 12.236046428620227, \"wind\": 24.35537864304579, \"precipitation\": 83.89080965364893, \"condition\": \"sun\"}, {\"temperature\": 42.8103257781665, \"wind\": 29.81101459268268, \"precipitation\": 71.55020159752638, \"condition\": \"sun\"}, {\"temperature\": 22.54392113778252, \"wind\": 96.88264927669367, \"precipitation\": 57.21207145158276, \"condition\": \"rain\"}, {\"temperature\": 22.503608231529917, \"wind\": 73.45718441223443, \"precipitation\": 18.48099480479052, \"condition\": \"fog\"}, {\"temperature\": 20.697023061259923, \"wind\": 78.8085781529467, \"precipitation\": 82.06153728611223, \"condition\": \"drizzle\"}, {\"temperature\": 25.290109397291054, \"wind\": 80.30649374788099, \"precipitation\": 22.36608661432985, \"condition\": \"sun\"}, {\"temperature\": 38.2799313550365, \"wind\": 67.47085587574028, \"precipitation\": 20.740111999310816, \"condition\": \"snow\"}, {\"temperature\": 3.6725463468113624, \"wind\": 1.0115541087158841, \"precipitation\": 18.15771285571497, \"condition\": \"fog\"}, {\"temperature\": 43.05607594953013, \"wind\": 60.68482719845524, \"precipitation\": 57.77089873340201, \"condition\": \"drizzle\"}, {\"temperature\": 32.26702695541979, \"wind\": 51.25287908408247, \"precipitation\": 82.37499650298116, \"condition\": \"sun\"}, {\"temperature\": 20.65470025342109, \"wind\": 17.357994382399223, \"precipitation\": 61.85803419037972, \"condition\": \"snow\"}, {\"temperature\": 7.591958649416281, \"wind\": 56.87567133218157, \"precipitation\": 63.83705679953054, \"condition\": \"drizzle\"}, {\"temperature\": 34.12588295742098, \"wind\": 53.49706318356736, \"precipitation\": 39.89871505509641, \"condition\": \"drizzle\"}, {\"temperature\": 43.35047614485006, \"wind\": 25.611854852857896, \"precipitation\": 80.36992353488051, \"condition\": \"sun\"}, {\"temperature\": -0.6670916465821719, \"wind\": 85.48944217634627, \"precipitation\": 74.19603252504737, \"condition\": \"fog\"}, {\"temperature\": 27.71533514546813, \"wind\": 92.40258299219964, \"precipitation\": 35.46329445299181, \"condition\": \"sun\"}, {\"temperature\": 42.990310063528334, \"wind\": 4.767210553938305, \"precipitation\": 78.84896594785124, \"condition\": \"drizzle\"}, {\"temperature\": 12.78024257419457, \"wind\": 70.42789298007587, \"precipitation\": 32.19857853159736, \"condition\": \"rain\"}, {\"temperature\": 12.345464511586698, \"wind\": 96.37504245663669, \"precipitation\": 58.32326475918834, \"condition\": \"drizzle\"}, {\"temperature\": 16.615985139736694, \"wind\": 79.42654814203834, \"precipitation\": 13.002687080260278, \"condition\": \"drizzle\"}, {\"temperature\": 37.42489242698708, \"wind\": 61.345695045120095, \"precipitation\": 43.77564041090408, \"condition\": \"rain\"}, {\"temperature\": 4.4803758908315565, \"wind\": 49.77522034422004, \"precipitation\": 50.69600709811043, \"condition\": \"drizzle\"}, {\"temperature\": 24.097652039323982, \"wind\": 8.979384326640405, \"precipitation\": 30.641954593528485, \"condition\": \"sun\"}, {\"temperature\": -5.322217743871135, \"wind\": 61.189346843944705, \"precipitation\": 31.593229557269186, \"condition\": \"snow\"}, {\"temperature\": 9.656575236136984, \"wind\": 2.1373906951494104, \"precipitation\": 57.5465193225844, \"condition\": \"rain\"}, {\"temperature\": 23.09003214094531, \"wind\": 16.8504340533028, \"precipitation\": 49.38199137777561, \"condition\": \"snow\"}, {\"temperature\": -0.8910674950475652, \"wind\": 67.4372389241753, \"precipitation\": 44.01373586297284, \"condition\": \"drizzle\"}, {\"temperature\": 38.77628981797657, \"wind\": 19.349109733319814, \"precipitation\": 18.478064234157422, \"condition\": \"snow\"}, {\"temperature\": 3.4205075380082093, \"wind\": 27.407919047755026, \"precipitation\": 32.84745237938085, \"condition\": \"fog\"}, {\"temperature\": -5.033320662096024, \"wind\": 94.25698462447689, \"precipitation\": 43.460229120490254, \"condition\": \"fog\"}, {\"temperature\": -9.971237977814939, \"wind\": 93.98073112476098, \"precipitation\": 74.78247080628827, \"condition\": \"sun\"}, {\"temperature\": 14.882883965973484, \"wind\": 24.785612027523594, \"precipitation\": 51.19773747140527, \"condition\": \"drizzle\"}, {\"temperature\": 14.018034425277474, \"wind\": 91.62717881393021, \"precipitation\": 99.49522416477019, \"condition\": \"sun\"}, {\"temperature\": 31.305982604448104, \"wind\": 40.90373869893349, \"precipitation\": 74.89298496286528, \"condition\": \"rain\"}, {\"temperature\": 30.610723278623702, \"wind\": 42.06017669565571, \"precipitation\": 69.67703870061514, \"condition\": \"snow\"}, {\"temperature\": 34.74664418075527, \"wind\": 38.58462817605697, \"precipitation\": 67.82787083848606, \"condition\": \"sun\"}, {\"temperature\": 8.120514857460222, \"wind\": 98.79896637292207, \"precipitation\": 21.126567495900296, \"condition\": \"drizzle\"}, {\"temperature\": 21.830015183550092, \"wind\": 22.1211872838582, \"precipitation\": 79.23266981302642, \"condition\": \"fog\"}, {\"temperature\": 37.98236222048335, \"wind\": 3.9308035344873593, \"precipitation\": 14.592671850934291, \"condition\": \"rain\"}, {\"temperature\": 25.958872120055887, \"wind\": 30.880613774748145, \"precipitation\": 81.56963648865039, \"condition\": \"rain\"}, {\"temperature\": 35.17236224867325, \"wind\": 31.08177020391971, \"precipitation\": 24.18647666653794, \"condition\": \"rain\"}, {\"temperature\": 33.364342578760876, \"wind\": 2.9246595809319653, \"precipitation\": 12.15848602978733, \"condition\": \"fog\"}, {\"temperature\": -3.5902835942627487, \"wind\": 86.99227504041556, \"precipitation\": 2.3639517923128017, \"condition\": \"drizzle\"}, {\"temperature\": 43.53091004081406, \"wind\": 70.60869224087214, \"precipitation\": 66.94726954818158, \"condition\": \"rain\"}, {\"temperature\": 1.8337888199719252, \"wind\": 75.06866321814911, \"precipitation\": 53.6891397098117, \"condition\": \"sun\"}, {\"temperature\": 43.47830583880354, \"wind\": 71.68689230524836, \"precipitation\": 31.73117090776013, \"condition\": \"sun\"}, {\"temperature\": 24.70816388894937, \"wind\": 68.30107169120795, \"precipitation\": 20.50225020747416, \"condition\": \"snow\"}, {\"temperature\": 16.05118379980134, \"wind\": 52.99782792799144, \"precipitation\": 11.69028728553364, \"condition\": \"fog\"}, {\"temperature\": 28.077076050276126, \"wind\": 24.843732657120764, \"precipitation\": 7.7565838958533195, \"condition\": \"fog\"}, {\"temperature\": 26.313211105376084, \"wind\": 45.03333651941402, \"precipitation\": 31.41227095201218, \"condition\": \"fog\"}, {\"temperature\": 25.47932407524442, \"wind\": 87.21604759710651, \"precipitation\": 13.96847689136137, \"condition\": \"snow\"}, {\"temperature\": 11.036706749946731, \"wind\": 33.86229598446234, \"precipitation\": 38.968294579117845, \"condition\": \"rain\"}, {\"temperature\": 0.8142265953456, \"wind\": 70.98507415296346, \"precipitation\": 19.273374312321256, \"condition\": \"drizzle\"}, {\"temperature\": 25.391354725358426, \"wind\": 68.9460480155243, \"precipitation\": 93.11546643206357, \"condition\": \"fog\"}, {\"temperature\": 27.7726958317102, \"wind\": 15.439482065514532, \"precipitation\": 5.293937143885552, \"condition\": \"sun\"}, {\"temperature\": 3.0547946822445873, \"wind\": 86.42755659056152, \"precipitation\": 2.624712873155066, \"condition\": \"rain\"}, {\"temperature\": 39.42369527658811, \"wind\": 47.39700920935881, \"precipitation\": 41.728060203985706, \"condition\": \"rain\"}, {\"temperature\": 31.616549252691705, \"wind\": 31.294073920356126, \"precipitation\": 61.66414511625905, \"condition\": \"snow\"}, {\"temperature\": 37.73472491414072, \"wind\": 56.11305268794269, \"precipitation\": 81.92111265208045, \"condition\": \"fog\"}, {\"temperature\": 29.412459474532355, \"wind\": 46.76189099995182, \"precipitation\": 32.17901910781431, \"condition\": \"snow\"}, {\"temperature\": -5.305474080741154, \"wind\": 16.51061166938045, \"precipitation\": 40.72674907868328, \"condition\": \"fog\"}, {\"temperature\": 28.248344335114005, \"wind\": 74.65204013977382, \"precipitation\": 8.992377726473755, \"condition\": \"drizzle\"}, {\"temperature\": 40.71245089747694, \"wind\": 60.52030820865206, \"precipitation\": 5.486289017174572, \"condition\": \"rain\"}, {\"temperature\": 1.2855687063133647, \"wind\": 47.74453362846665, \"precipitation\": 77.71039918592594, \"condition\": \"drizzle\"}, {\"temperature\": 13.997864573343104, \"wind\": 99.2063323267444, \"precipitation\": 14.897152160823302, \"condition\": \"drizzle\"}, {\"temperature\": 18.825549046465813, \"wind\": 96.7516586164724, \"precipitation\": 62.15480712924485, \"condition\": \"rain\"}, {\"temperature\": 17.102600135203243, \"wind\": 95.33201102579268, \"precipitation\": 1.76947633335095, \"condition\": \"rain\"}, {\"temperature\": 31.603226292108516, \"wind\": 80.1260277875885, \"precipitation\": 19.250819441340848, \"condition\": \"drizzle\"}, {\"temperature\": 7.272202684808242, \"wind\": 8.416568701596594, \"precipitation\": 24.486546883662086, \"condition\": \"drizzle\"}, {\"temperature\": 6.42450547762995, \"wind\": 39.273237823513206, \"precipitation\": 59.175511527387584, \"condition\": \"sun\"}, {\"temperature\": 0.37651709537109035, \"wind\": 94.77902759827063, \"precipitation\": 28.64474524803353, \"condition\": \"fog\"}, {\"temperature\": 29.418237348870328, \"wind\": 73.1637224142291, \"precipitation\": 36.384371127988594, \"condition\": \"fog\"}, {\"temperature\": 32.58410407316762, \"wind\": 23.572673866731876, \"precipitation\": 21.78686177609982, \"condition\": \"sun\"}, {\"temperature\": 40.58331555194774, \"wind\": 12.46579946692835, \"precipitation\": 33.052715046353775, \"condition\": \"fog\"}, {\"temperature\": 15.02270799243955, \"wind\": 23.521353082533057, \"precipitation\": 0.5866372551906918, \"condition\": \"rain\"}, {\"temperature\": -1.5856356202583797, \"wind\": 58.706439422107415, \"precipitation\": 23.69625533115679, \"condition\": \"fog\"}, {\"temperature\": 39.83846166807995, \"wind\": 7.925060993257304, \"precipitation\": 73.27745598517468, \"condition\": \"snow\"}, {\"temperature\": 30.25106478610541, \"wind\": 53.60474576386106, \"precipitation\": 76.63592895791527, \"condition\": \"sun\"}, {\"temperature\": 12.08528607254729, \"wind\": 11.679210728025568, \"precipitation\": 21.30987094861694, \"condition\": \"drizzle\"}, {\"temperature\": 20.103305307522167, \"wind\": 35.51132614216856, \"precipitation\": 99.11641742479553, \"condition\": \"snow\"}, {\"temperature\": 34.61293495454381, \"wind\": 16.44814913694985, \"precipitation\": 76.5788070641912, \"condition\": \"sun\"}, {\"temperature\": 5.3304368864748515, \"wind\": 11.488543420187414, \"precipitation\": 23.611522242446682, \"condition\": \"rain\"}, {\"temperature\": 10.624231316087673, \"wind\": 89.57677208906625, \"precipitation\": 17.901521820239154, \"condition\": \"rain\"}, {\"temperature\": 16.45869339879156, \"wind\": 82.14358903068431, \"precipitation\": 50.5274648107178, \"condition\": \"drizzle\"}, {\"temperature\": 30.4859555666389, \"wind\": 85.43429025210673, \"precipitation\": 99.7314407177562, \"condition\": \"sun\"}, {\"temperature\": -7.842697704519862, \"wind\": 20.10431994181, \"precipitation\": 8.499755604198123, \"condition\": \"drizzle\"}, {\"temperature\": 23.82197430970396, \"wind\": 30.71236264475776, \"precipitation\": 91.23232368725205, \"condition\": \"snow\"}, {\"temperature\": 43.63862559514364, \"wind\": 28.821660476932877, \"precipitation\": 99.71103207097889, \"condition\": \"fog\"}, {\"temperature\": 8.981532662882305, \"wind\": 35.921027372850865, \"precipitation\": 91.12082810014113, \"condition\": \"fog\"}, {\"temperature\": 26.077729266653087, \"wind\": 63.53612288999908, \"precipitation\": 90.09748712912719, \"condition\": \"sun\"}, {\"temperature\": 38.44181274295784, \"wind\": 71.99143401846956, \"precipitation\": 21.221688878355216, \"condition\": \"rain\"}, {\"temperature\": 34.78710550916185, \"wind\": 89.27467266301889, \"precipitation\": 41.1955282025937, \"condition\": \"sun\"}, {\"temperature\": -5.848035132361012, \"wind\": 57.23792962073, \"precipitation\": 64.23162970775795, \"condition\": \"rain\"}, {\"temperature\": 0.6933169720006127, \"wind\": 72.76756692493736, \"precipitation\": 62.223235261304524, \"condition\": \"drizzle\"}]}}, {\"mode\": \"vega-lite\"});\n</script>",
      "text/plain": "alt.Chart(...)"
     },
     "metadata": {},
     "output_type": "display_data"
    }
   ],
   "source": [
    "base = alt.Chart(df)\n",
    "bar = base.mark_bar().encode(\n",
    "    x=alt.X(field='condition', \n",
    "            type='nominal', \n",
    "            scale=alt.Scale(type='ordinal')),\n",
    "    y=alt.Y(field='condition', \n",
    "            type='nominal', \n",
    "            aggregate='count', \n",
    "            scale=alt.Scale(type='linear', zero=True))\n",
    ")\n",
    "display_chart(bar)"
   ]
  },
  {
   "cell_type": "markdown",
   "metadata": {},
   "source": [
    "### Binned Histrogram"
   ]
  },
  {
   "cell_type": "code",
   "execution_count": 55,
   "metadata": {},
   "outputs": [
    {
     "name": "stdout",
     "output_type": "stream",
     "text": [
      "{'field': [{'name': 'temperature', 'type': 'number'}],\n",
      " 'number_rows': 100,\n",
      " 'view': [{'mark': [{'encoding': [{'binning': 10,\n",
      "                                   'channel': 'x',\n",
      "                                   'field': 'temperature'},\n",
      "                                  {'aggregate': 'count', 'channel': 'y'}],\n",
      "                     'type': 'bar'}],\n",
      "           'scale': [{'channel': 'x', 'type': 'linear'},\n",
      "                     {'channel': 'y', 'type': 'linear', 'zero': 'true'}]}]}\n"
     ]
    }
   ],
   "source": [
    "facts = ['attribute(number_rows,root,100).',\n",
    " 'entity(field,root,temperature).',\n",
    " 'attribute((field,name),temperature,temperature).',\n",
    " 'attribute((field,type),temperature,number).',\n",
    " 'entity(view,root,0).',\n",
    " 'entity(mark,0,1).',\n",
    " 'attribute((mark,type),1,bar).',\n",
    " 'entity(encoding,1,2).',\n",
    " 'attribute((encoding,channel),2,x).',\n",
    " 'attribute((encoding,field),2,temperature).',\n",
    " 'attribute((encoding,binning),2,10).',\n",
    " 'entity(encoding,1,3).',\n",
    " 'attribute((encoding,channel),3,y).',\n",
    " 'attribute((encoding,aggregate),3,count).',\n",
    " 'entity(scale,0,4).',\n",
    " 'attribute((scale,channel),4,x).',\n",
    " 'attribute((scale,type),4,linear).',\n",
    " 'entity(scale,0,5).',\n",
    " 'attribute((scale,channel),5,y).',\n",
    " 'attribute((scale,type),5,linear).',\n",
    " 'attribute((scale,zero),5,true).']\n",
    "spec = facts_to_dict(facts)\n",
    "pprint(spec)"
   ]
  },
  {
   "cell_type": "code",
   "execution_count": 56,
   "metadata": {},
   "outputs": [
    {
     "name": "stdout",
     "output_type": "stream",
     "text": [
      "{'$schema': 'https://vega.github.io/schema/vega-lite/v4.17.0.json',\n",
      " 'config': {'view': {'continuousHeight': 300, 'continuousWidth': 400}},\n",
      " 'encoding': {'x': {'bin': {'maxbins': 10},\n",
      "                    'field': 'temperature',\n",
      "                    'scale': {'type': 'linear'},\n",
      "                    'type': 'quantitative'},\n",
      "              'y': {'aggregate': 'count',\n",
      "                    'field': 'temperature',\n",
      "                    'scale': {'type': 'linear', 'zero': True},\n",
      "                    'type': 'quantitative'}},\n",
      " 'mark': 'bar'}\n"
     ]
    },
    {
     "data": {
      "text/html": "\n<div id=\"altair-viz-51464b8f78834a69866f48ea257790e6\"></div>\n<script type=\"text/javascript\">\n  var VEGA_DEBUG = (typeof VEGA_DEBUG == \"undefined\") ? {} : VEGA_DEBUG;\n  (function(spec, embedOpt){\n    let outputDiv = document.currentScript.previousElementSibling;\n    if (outputDiv.id !== \"altair-viz-51464b8f78834a69866f48ea257790e6\") {\n      outputDiv = document.getElementById(\"altair-viz-51464b8f78834a69866f48ea257790e6\");\n    }\n    const paths = {\n      \"vega\": \"https://cdn.jsdelivr.net/npm//vega@5?noext\",\n      \"vega-lib\": \"https://cdn.jsdelivr.net/npm//vega-lib?noext\",\n      \"vega-lite\": \"https://cdn.jsdelivr.net/npm//vega-lite@4.17.0?noext\",\n      \"vega-embed\": \"https://cdn.jsdelivr.net/npm//vega-embed@6?noext\",\n    };\n\n    function maybeLoadScript(lib, version) {\n      var key = `${lib.replace(\"-\", \"\")}_version`;\n      return (VEGA_DEBUG[key] == version) ?\n        Promise.resolve(paths[lib]) :\n        new Promise(function(resolve, reject) {\n          var s = document.createElement('script');\n          document.getElementsByTagName(\"head\")[0].appendChild(s);\n          s.async = true;\n          s.onload = () => {\n            VEGA_DEBUG[key] = version;\n            return resolve(paths[lib]);\n          };\n          s.onerror = () => reject(`Error loading script: ${paths[lib]}`);\n          s.src = paths[lib];\n        });\n    }\n\n    function showError(err) {\n      outputDiv.innerHTML = `<div class=\"error\" style=\"color:red;\">${err}</div>`;\n      throw err;\n    }\n\n    function displayChart(vegaEmbed) {\n      vegaEmbed(outputDiv, spec, embedOpt)\n        .catch(err => showError(`Javascript Error: ${err.message}<br>This usually means there's a typo in your chart specification. See the javascript console for the full traceback.`));\n    }\n\n    if(typeof define === \"function\" && define.amd) {\n      requirejs.config({paths});\n      require([\"vega-embed\"], displayChart, err => showError(`Error loading script: ${err.message}`));\n    } else {\n      maybeLoadScript(\"vega\", \"5\")\n        .then(() => maybeLoadScript(\"vega-lite\", \"4.17.0\"))\n        .then(() => maybeLoadScript(\"vega-embed\", \"6\"))\n        .catch(showError)\n        .then(() => displayChart(vegaEmbed));\n    }\n  })({\"config\": {\"view\": {\"continuousWidth\": 400, \"continuousHeight\": 300}}, \"data\": {\"name\": \"data-80b0e930866eee6a77413fd6e0890a78\"}, \"mark\": \"bar\", \"encoding\": {\"x\": {\"bin\": {\"maxbins\": 10}, \"field\": \"temperature\", \"scale\": {\"type\": \"linear\"}, \"type\": \"quantitative\"}, \"y\": {\"aggregate\": \"count\", \"field\": \"temperature\", \"scale\": {\"type\": \"linear\", \"zero\": true}, \"type\": \"quantitative\"}}, \"$schema\": \"https://vega.github.io/schema/vega-lite/v4.17.0.json\", \"datasets\": {\"data-80b0e930866eee6a77413fd6e0890a78\": [{\"temperature\": 39.357871877508494, \"wind\": 11.562263885182233, \"precipitation\": 88.42051387921796, \"condition\": \"fog\"}, {\"temperature\": -5.947154608637572, \"wind\": 86.90701738497849, \"precipitation\": 70.55832915444152, \"condition\": \"rain\"}, {\"temperature\": 32.82765627853655, \"wind\": 97.65897402212389, \"precipitation\": 82.65511533530304, \"condition\": \"sun\"}, {\"temperature\": 17.525999106231197, \"wind\": 65.52797477069528, \"precipitation\": 53.86256526101837, \"condition\": \"snow\"}, {\"temperature\": -6.80882656934652, \"wind\": 37.03429394195952, \"precipitation\": 93.86525481254682, \"condition\": \"drizzle\"}, {\"temperature\": 42.35997285539091, \"wind\": 72.00671240950793, \"precipitation\": 40.6587905336316, \"condition\": \"sun\"}, {\"temperature\": 12.236046428620227, \"wind\": 24.35537864304579, \"precipitation\": 83.89080965364893, \"condition\": \"sun\"}, {\"temperature\": 42.8103257781665, \"wind\": 29.81101459268268, \"precipitation\": 71.55020159752638, \"condition\": \"sun\"}, {\"temperature\": 22.54392113778252, \"wind\": 96.88264927669367, \"precipitation\": 57.21207145158276, \"condition\": \"rain\"}, {\"temperature\": 22.503608231529917, \"wind\": 73.45718441223443, \"precipitation\": 18.48099480479052, \"condition\": \"fog\"}, {\"temperature\": 20.697023061259923, \"wind\": 78.8085781529467, \"precipitation\": 82.06153728611223, \"condition\": \"drizzle\"}, {\"temperature\": 25.290109397291054, \"wind\": 80.30649374788099, \"precipitation\": 22.36608661432985, \"condition\": \"sun\"}, {\"temperature\": 38.2799313550365, \"wind\": 67.47085587574028, \"precipitation\": 20.740111999310816, \"condition\": \"snow\"}, {\"temperature\": 3.6725463468113624, \"wind\": 1.0115541087158841, \"precipitation\": 18.15771285571497, \"condition\": \"fog\"}, {\"temperature\": 43.05607594953013, \"wind\": 60.68482719845524, \"precipitation\": 57.77089873340201, \"condition\": \"drizzle\"}, {\"temperature\": 32.26702695541979, \"wind\": 51.25287908408247, \"precipitation\": 82.37499650298116, \"condition\": \"sun\"}, {\"temperature\": 20.65470025342109, \"wind\": 17.357994382399223, \"precipitation\": 61.85803419037972, \"condition\": \"snow\"}, {\"temperature\": 7.591958649416281, \"wind\": 56.87567133218157, \"precipitation\": 63.83705679953054, \"condition\": \"drizzle\"}, {\"temperature\": 34.12588295742098, \"wind\": 53.49706318356736, \"precipitation\": 39.89871505509641, \"condition\": \"drizzle\"}, {\"temperature\": 43.35047614485006, \"wind\": 25.611854852857896, \"precipitation\": 80.36992353488051, \"condition\": \"sun\"}, {\"temperature\": -0.6670916465821719, \"wind\": 85.48944217634627, \"precipitation\": 74.19603252504737, \"condition\": \"fog\"}, {\"temperature\": 27.71533514546813, \"wind\": 92.40258299219964, \"precipitation\": 35.46329445299181, \"condition\": \"sun\"}, {\"temperature\": 42.990310063528334, \"wind\": 4.767210553938305, \"precipitation\": 78.84896594785124, \"condition\": \"drizzle\"}, {\"temperature\": 12.78024257419457, \"wind\": 70.42789298007587, \"precipitation\": 32.19857853159736, \"condition\": \"rain\"}, {\"temperature\": 12.345464511586698, \"wind\": 96.37504245663669, \"precipitation\": 58.32326475918834, \"condition\": \"drizzle\"}, {\"temperature\": 16.615985139736694, \"wind\": 79.42654814203834, \"precipitation\": 13.002687080260278, \"condition\": \"drizzle\"}, {\"temperature\": 37.42489242698708, \"wind\": 61.345695045120095, \"precipitation\": 43.77564041090408, \"condition\": \"rain\"}, {\"temperature\": 4.4803758908315565, \"wind\": 49.77522034422004, \"precipitation\": 50.69600709811043, \"condition\": \"drizzle\"}, {\"temperature\": 24.097652039323982, \"wind\": 8.979384326640405, \"precipitation\": 30.641954593528485, \"condition\": \"sun\"}, {\"temperature\": -5.322217743871135, \"wind\": 61.189346843944705, \"precipitation\": 31.593229557269186, \"condition\": \"snow\"}, {\"temperature\": 9.656575236136984, \"wind\": 2.1373906951494104, \"precipitation\": 57.5465193225844, \"condition\": \"rain\"}, {\"temperature\": 23.09003214094531, \"wind\": 16.8504340533028, \"precipitation\": 49.38199137777561, \"condition\": \"snow\"}, {\"temperature\": -0.8910674950475652, \"wind\": 67.4372389241753, \"precipitation\": 44.01373586297284, \"condition\": \"drizzle\"}, {\"temperature\": 38.77628981797657, \"wind\": 19.349109733319814, \"precipitation\": 18.478064234157422, \"condition\": \"snow\"}, {\"temperature\": 3.4205075380082093, \"wind\": 27.407919047755026, \"precipitation\": 32.84745237938085, \"condition\": \"fog\"}, {\"temperature\": -5.033320662096024, \"wind\": 94.25698462447689, \"precipitation\": 43.460229120490254, \"condition\": \"fog\"}, {\"temperature\": -9.971237977814939, \"wind\": 93.98073112476098, \"precipitation\": 74.78247080628827, \"condition\": \"sun\"}, {\"temperature\": 14.882883965973484, \"wind\": 24.785612027523594, \"precipitation\": 51.19773747140527, \"condition\": \"drizzle\"}, {\"temperature\": 14.018034425277474, \"wind\": 91.62717881393021, \"precipitation\": 99.49522416477019, \"condition\": \"sun\"}, {\"temperature\": 31.305982604448104, \"wind\": 40.90373869893349, \"precipitation\": 74.89298496286528, \"condition\": \"rain\"}, {\"temperature\": 30.610723278623702, \"wind\": 42.06017669565571, \"precipitation\": 69.67703870061514, \"condition\": \"snow\"}, {\"temperature\": 34.74664418075527, \"wind\": 38.58462817605697, \"precipitation\": 67.82787083848606, \"condition\": \"sun\"}, {\"temperature\": 8.120514857460222, \"wind\": 98.79896637292207, \"precipitation\": 21.126567495900296, \"condition\": \"drizzle\"}, {\"temperature\": 21.830015183550092, \"wind\": 22.1211872838582, \"precipitation\": 79.23266981302642, \"condition\": \"fog\"}, {\"temperature\": 37.98236222048335, \"wind\": 3.9308035344873593, \"precipitation\": 14.592671850934291, \"condition\": \"rain\"}, {\"temperature\": 25.958872120055887, \"wind\": 30.880613774748145, \"precipitation\": 81.56963648865039, \"condition\": \"rain\"}, {\"temperature\": 35.17236224867325, \"wind\": 31.08177020391971, \"precipitation\": 24.18647666653794, \"condition\": \"rain\"}, {\"temperature\": 33.364342578760876, \"wind\": 2.9246595809319653, \"precipitation\": 12.15848602978733, \"condition\": \"fog\"}, {\"temperature\": -3.5902835942627487, \"wind\": 86.99227504041556, \"precipitation\": 2.3639517923128017, \"condition\": \"drizzle\"}, {\"temperature\": 43.53091004081406, \"wind\": 70.60869224087214, \"precipitation\": 66.94726954818158, \"condition\": \"rain\"}, {\"temperature\": 1.8337888199719252, \"wind\": 75.06866321814911, \"precipitation\": 53.6891397098117, \"condition\": \"sun\"}, {\"temperature\": 43.47830583880354, \"wind\": 71.68689230524836, \"precipitation\": 31.73117090776013, \"condition\": \"sun\"}, {\"temperature\": 24.70816388894937, \"wind\": 68.30107169120795, \"precipitation\": 20.50225020747416, \"condition\": \"snow\"}, {\"temperature\": 16.05118379980134, \"wind\": 52.99782792799144, \"precipitation\": 11.69028728553364, \"condition\": \"fog\"}, {\"temperature\": 28.077076050276126, \"wind\": 24.843732657120764, \"precipitation\": 7.7565838958533195, \"condition\": \"fog\"}, {\"temperature\": 26.313211105376084, \"wind\": 45.03333651941402, \"precipitation\": 31.41227095201218, \"condition\": \"fog\"}, {\"temperature\": 25.47932407524442, \"wind\": 87.21604759710651, \"precipitation\": 13.96847689136137, \"condition\": \"snow\"}, {\"temperature\": 11.036706749946731, \"wind\": 33.86229598446234, \"precipitation\": 38.968294579117845, \"condition\": \"rain\"}, {\"temperature\": 0.8142265953456, \"wind\": 70.98507415296346, \"precipitation\": 19.273374312321256, \"condition\": \"drizzle\"}, {\"temperature\": 25.391354725358426, \"wind\": 68.9460480155243, \"precipitation\": 93.11546643206357, \"condition\": \"fog\"}, {\"temperature\": 27.7726958317102, \"wind\": 15.439482065514532, \"precipitation\": 5.293937143885552, \"condition\": \"sun\"}, {\"temperature\": 3.0547946822445873, \"wind\": 86.42755659056152, \"precipitation\": 2.624712873155066, \"condition\": \"rain\"}, {\"temperature\": 39.42369527658811, \"wind\": 47.39700920935881, \"precipitation\": 41.728060203985706, \"condition\": \"rain\"}, {\"temperature\": 31.616549252691705, \"wind\": 31.294073920356126, \"precipitation\": 61.66414511625905, \"condition\": \"snow\"}, {\"temperature\": 37.73472491414072, \"wind\": 56.11305268794269, \"precipitation\": 81.92111265208045, \"condition\": \"fog\"}, {\"temperature\": 29.412459474532355, \"wind\": 46.76189099995182, \"precipitation\": 32.17901910781431, \"condition\": \"snow\"}, {\"temperature\": -5.305474080741154, \"wind\": 16.51061166938045, \"precipitation\": 40.72674907868328, \"condition\": \"fog\"}, {\"temperature\": 28.248344335114005, \"wind\": 74.65204013977382, \"precipitation\": 8.992377726473755, \"condition\": \"drizzle\"}, {\"temperature\": 40.71245089747694, \"wind\": 60.52030820865206, \"precipitation\": 5.486289017174572, \"condition\": \"rain\"}, {\"temperature\": 1.2855687063133647, \"wind\": 47.74453362846665, \"precipitation\": 77.71039918592594, \"condition\": \"drizzle\"}, {\"temperature\": 13.997864573343104, \"wind\": 99.2063323267444, \"precipitation\": 14.897152160823302, \"condition\": \"drizzle\"}, {\"temperature\": 18.825549046465813, \"wind\": 96.7516586164724, \"precipitation\": 62.15480712924485, \"condition\": \"rain\"}, {\"temperature\": 17.102600135203243, \"wind\": 95.33201102579268, \"precipitation\": 1.76947633335095, \"condition\": \"rain\"}, {\"temperature\": 31.603226292108516, \"wind\": 80.1260277875885, \"precipitation\": 19.250819441340848, \"condition\": \"drizzle\"}, {\"temperature\": 7.272202684808242, \"wind\": 8.416568701596594, \"precipitation\": 24.486546883662086, \"condition\": \"drizzle\"}, {\"temperature\": 6.42450547762995, \"wind\": 39.273237823513206, \"precipitation\": 59.175511527387584, \"condition\": \"sun\"}, {\"temperature\": 0.37651709537109035, \"wind\": 94.77902759827063, \"precipitation\": 28.64474524803353, \"condition\": \"fog\"}, {\"temperature\": 29.418237348870328, \"wind\": 73.1637224142291, \"precipitation\": 36.384371127988594, \"condition\": \"fog\"}, {\"temperature\": 32.58410407316762, \"wind\": 23.572673866731876, \"precipitation\": 21.78686177609982, \"condition\": \"sun\"}, {\"temperature\": 40.58331555194774, \"wind\": 12.46579946692835, \"precipitation\": 33.052715046353775, \"condition\": \"fog\"}, {\"temperature\": 15.02270799243955, \"wind\": 23.521353082533057, \"precipitation\": 0.5866372551906918, \"condition\": \"rain\"}, {\"temperature\": -1.5856356202583797, \"wind\": 58.706439422107415, \"precipitation\": 23.69625533115679, \"condition\": \"fog\"}, {\"temperature\": 39.83846166807995, \"wind\": 7.925060993257304, \"precipitation\": 73.27745598517468, \"condition\": \"snow\"}, {\"temperature\": 30.25106478610541, \"wind\": 53.60474576386106, \"precipitation\": 76.63592895791527, \"condition\": \"sun\"}, {\"temperature\": 12.08528607254729, \"wind\": 11.679210728025568, \"precipitation\": 21.30987094861694, \"condition\": \"drizzle\"}, {\"temperature\": 20.103305307522167, \"wind\": 35.51132614216856, \"precipitation\": 99.11641742479553, \"condition\": \"snow\"}, {\"temperature\": 34.61293495454381, \"wind\": 16.44814913694985, \"precipitation\": 76.5788070641912, \"condition\": \"sun\"}, {\"temperature\": 5.3304368864748515, \"wind\": 11.488543420187414, \"precipitation\": 23.611522242446682, \"condition\": \"rain\"}, {\"temperature\": 10.624231316087673, \"wind\": 89.57677208906625, \"precipitation\": 17.901521820239154, \"condition\": \"rain\"}, {\"temperature\": 16.45869339879156, \"wind\": 82.14358903068431, \"precipitation\": 50.5274648107178, \"condition\": \"drizzle\"}, {\"temperature\": 30.4859555666389, \"wind\": 85.43429025210673, \"precipitation\": 99.7314407177562, \"condition\": \"sun\"}, {\"temperature\": -7.842697704519862, \"wind\": 20.10431994181, \"precipitation\": 8.499755604198123, \"condition\": \"drizzle\"}, {\"temperature\": 23.82197430970396, \"wind\": 30.71236264475776, \"precipitation\": 91.23232368725205, \"condition\": \"snow\"}, {\"temperature\": 43.63862559514364, \"wind\": 28.821660476932877, \"precipitation\": 99.71103207097889, \"condition\": \"fog\"}, {\"temperature\": 8.981532662882305, \"wind\": 35.921027372850865, \"precipitation\": 91.12082810014113, \"condition\": \"fog\"}, {\"temperature\": 26.077729266653087, \"wind\": 63.53612288999908, \"precipitation\": 90.09748712912719, \"condition\": \"sun\"}, {\"temperature\": 38.44181274295784, \"wind\": 71.99143401846956, \"precipitation\": 21.221688878355216, \"condition\": \"rain\"}, {\"temperature\": 34.78710550916185, \"wind\": 89.27467266301889, \"precipitation\": 41.1955282025937, \"condition\": \"sun\"}, {\"temperature\": -5.848035132361012, \"wind\": 57.23792962073, \"precipitation\": 64.23162970775795, \"condition\": \"rain\"}, {\"temperature\": 0.6933169720006127, \"wind\": 72.76756692493736, \"precipitation\": 62.223235261304524, \"condition\": \"drizzle\"}]}}, {\"mode\": \"vega-lite\"});\n</script>",
      "text/plain": "alt.Chart(...)"
     },
     "metadata": {},
     "output_type": "display_data"
    }
   ],
   "source": [
    "base = alt.Chart(df)\n",
    "bar = base.mark_bar().encode(\n",
    "    x=alt.X(field='temperature', \n",
    "            type='quantitative',\n",
    "            bin=alt.Bin(maxbins=10),\n",
    "            scale=alt.Scale(type='linear')),\n",
    "    y=alt.Y(field='temperature', \n",
    "            type='quantitative', \n",
    "            aggregate='count', \n",
    "            scale=alt.Scale(type='linear', zero=True))\n",
    ")\n",
    "display_chart(bar)"
   ]
  },
  {
   "cell_type": "markdown",
   "metadata": {},
   "source": [
    "### Scatterplot"
   ]
  },
  {
   "cell_type": "code",
   "execution_count": 57,
   "metadata": {},
   "outputs": [
    {
     "name": "stdout",
     "output_type": "stream",
     "text": [
      "{'field': [{'name': 'temperature', 'type': 'number'},\n",
      "           {'name': 'wind', 'type': 'number'}],\n",
      " 'number_rows': 100,\n",
      " 'view': [{'mark': [{'encoding': [{'channel': 'x', 'field': 'temperature'},\n",
      "                                  {'channel': 'y', 'field': 'wind'}],\n",
      "                     'type': 'point'}],\n",
      "           'scale': [{'channel': 'x', 'type': 'linear'},\n",
      "                     {'channel': 'y', 'type': 'linear'}]}]}\n"
     ]
    }
   ],
   "source": [
    "facts = ['attribute(number_rows,root,100).',\n",
    " 'entity(field,root,temperature).',\n",
    " 'attribute((field,name),temperature,temperature).',\n",
    " 'attribute((field,type),temperature,number).',\n",
    " 'entity(field,root,wind).',\n",
    " 'attribute((field,name),wind,wind).',\n",
    " 'attribute((field,type),wind,number).',\n",
    " 'entity(view,root,0).',\n",
    " 'entity(mark,0,1).',\n",
    " 'attribute((mark,type),1,point).',\n",
    " 'entity(encoding,1,2).',\n",
    " 'attribute((encoding,channel),2,x).',\n",
    " 'attribute((encoding,field),2,temperature).',\n",
    " 'entity(encoding,1,3).',\n",
    " 'attribute((encoding,channel),3,y).',\n",
    " 'attribute((encoding,field),3,wind).',\n",
    " 'entity(scale,0,4).',\n",
    " 'attribute((scale,channel),4,x).',\n",
    " 'attribute((scale,type),4,linear).',\n",
    " 'entity(scale,0,5).',\n",
    " 'attribute((scale,channel),5,y).',\n",
    " 'attribute((scale,type),5,linear).']\n",
    "spec = facts_to_dict(facts)\n",
    "pprint(spec)"
   ]
  },
  {
   "cell_type": "code",
   "execution_count": 58,
   "metadata": {},
   "outputs": [
    {
     "name": "stdout",
     "output_type": "stream",
     "text": [
      "{'$schema': 'https://vega.github.io/schema/vega-lite/v4.17.0.json',\n",
      " 'config': {'view': {'continuousHeight': 300, 'continuousWidth': 400}},\n",
      " 'encoding': {'x': {'field': 'temperature',\n",
      "                    'scale': {'type': 'linear'},\n",
      "                    'type': 'quantitative'},\n",
      "              'y': {'field': 'wind',\n",
      "                    'scale': {'type': 'linear'},\n",
      "                    'type': 'quantitative'}},\n",
      " 'mark': 'point'}\n"
     ]
    },
    {
     "data": {
      "text/html": "\n<div id=\"altair-viz-c6b7fc4607064079af01d144e5b04f76\"></div>\n<script type=\"text/javascript\">\n  var VEGA_DEBUG = (typeof VEGA_DEBUG == \"undefined\") ? {} : VEGA_DEBUG;\n  (function(spec, embedOpt){\n    let outputDiv = document.currentScript.previousElementSibling;\n    if (outputDiv.id !== \"altair-viz-c6b7fc4607064079af01d144e5b04f76\") {\n      outputDiv = document.getElementById(\"altair-viz-c6b7fc4607064079af01d144e5b04f76\");\n    }\n    const paths = {\n      \"vega\": \"https://cdn.jsdelivr.net/npm//vega@5?noext\",\n      \"vega-lib\": \"https://cdn.jsdelivr.net/npm//vega-lib?noext\",\n      \"vega-lite\": \"https://cdn.jsdelivr.net/npm//vega-lite@4.17.0?noext\",\n      \"vega-embed\": \"https://cdn.jsdelivr.net/npm//vega-embed@6?noext\",\n    };\n\n    function maybeLoadScript(lib, version) {\n      var key = `${lib.replace(\"-\", \"\")}_version`;\n      return (VEGA_DEBUG[key] == version) ?\n        Promise.resolve(paths[lib]) :\n        new Promise(function(resolve, reject) {\n          var s = document.createElement('script');\n          document.getElementsByTagName(\"head\")[0].appendChild(s);\n          s.async = true;\n          s.onload = () => {\n            VEGA_DEBUG[key] = version;\n            return resolve(paths[lib]);\n          };\n          s.onerror = () => reject(`Error loading script: ${paths[lib]}`);\n          s.src = paths[lib];\n        });\n    }\n\n    function showError(err) {\n      outputDiv.innerHTML = `<div class=\"error\" style=\"color:red;\">${err}</div>`;\n      throw err;\n    }\n\n    function displayChart(vegaEmbed) {\n      vegaEmbed(outputDiv, spec, embedOpt)\n        .catch(err => showError(`Javascript Error: ${err.message}<br>This usually means there's a typo in your chart specification. See the javascript console for the full traceback.`));\n    }\n\n    if(typeof define === \"function\" && define.amd) {\n      requirejs.config({paths});\n      require([\"vega-embed\"], displayChart, err => showError(`Error loading script: ${err.message}`));\n    } else {\n      maybeLoadScript(\"vega\", \"5\")\n        .then(() => maybeLoadScript(\"vega-lite\", \"4.17.0\"))\n        .then(() => maybeLoadScript(\"vega-embed\", \"6\"))\n        .catch(showError)\n        .then(() => displayChart(vegaEmbed));\n    }\n  })({\"config\": {\"view\": {\"continuousWidth\": 400, \"continuousHeight\": 300}}, \"data\": {\"name\": \"data-80b0e930866eee6a77413fd6e0890a78\"}, \"mark\": \"point\", \"encoding\": {\"x\": {\"field\": \"temperature\", \"scale\": {\"type\": \"linear\"}, \"type\": \"quantitative\"}, \"y\": {\"field\": \"wind\", \"scale\": {\"type\": \"linear\"}, \"type\": \"quantitative\"}}, \"$schema\": \"https://vega.github.io/schema/vega-lite/v4.17.0.json\", \"datasets\": {\"data-80b0e930866eee6a77413fd6e0890a78\": [{\"temperature\": 39.357871877508494, \"wind\": 11.562263885182233, \"precipitation\": 88.42051387921796, \"condition\": \"fog\"}, {\"temperature\": -5.947154608637572, \"wind\": 86.90701738497849, \"precipitation\": 70.55832915444152, \"condition\": \"rain\"}, {\"temperature\": 32.82765627853655, \"wind\": 97.65897402212389, \"precipitation\": 82.65511533530304, \"condition\": \"sun\"}, {\"temperature\": 17.525999106231197, \"wind\": 65.52797477069528, \"precipitation\": 53.86256526101837, \"condition\": \"snow\"}, {\"temperature\": -6.80882656934652, \"wind\": 37.03429394195952, \"precipitation\": 93.86525481254682, \"condition\": \"drizzle\"}, {\"temperature\": 42.35997285539091, \"wind\": 72.00671240950793, \"precipitation\": 40.6587905336316, \"condition\": \"sun\"}, {\"temperature\": 12.236046428620227, \"wind\": 24.35537864304579, \"precipitation\": 83.89080965364893, \"condition\": \"sun\"}, {\"temperature\": 42.8103257781665, \"wind\": 29.81101459268268, \"precipitation\": 71.55020159752638, \"condition\": \"sun\"}, {\"temperature\": 22.54392113778252, \"wind\": 96.88264927669367, \"precipitation\": 57.21207145158276, \"condition\": \"rain\"}, {\"temperature\": 22.503608231529917, \"wind\": 73.45718441223443, \"precipitation\": 18.48099480479052, \"condition\": \"fog\"}, {\"temperature\": 20.697023061259923, \"wind\": 78.8085781529467, \"precipitation\": 82.06153728611223, \"condition\": \"drizzle\"}, {\"temperature\": 25.290109397291054, \"wind\": 80.30649374788099, \"precipitation\": 22.36608661432985, \"condition\": \"sun\"}, {\"temperature\": 38.2799313550365, \"wind\": 67.47085587574028, \"precipitation\": 20.740111999310816, \"condition\": \"snow\"}, {\"temperature\": 3.6725463468113624, \"wind\": 1.0115541087158841, \"precipitation\": 18.15771285571497, \"condition\": \"fog\"}, {\"temperature\": 43.05607594953013, \"wind\": 60.68482719845524, \"precipitation\": 57.77089873340201, \"condition\": \"drizzle\"}, {\"temperature\": 32.26702695541979, \"wind\": 51.25287908408247, \"precipitation\": 82.37499650298116, \"condition\": \"sun\"}, {\"temperature\": 20.65470025342109, \"wind\": 17.357994382399223, \"precipitation\": 61.85803419037972, \"condition\": \"snow\"}, {\"temperature\": 7.591958649416281, \"wind\": 56.87567133218157, \"precipitation\": 63.83705679953054, \"condition\": \"drizzle\"}, {\"temperature\": 34.12588295742098, \"wind\": 53.49706318356736, \"precipitation\": 39.89871505509641, \"condition\": \"drizzle\"}, {\"temperature\": 43.35047614485006, \"wind\": 25.611854852857896, \"precipitation\": 80.36992353488051, \"condition\": \"sun\"}, {\"temperature\": -0.6670916465821719, \"wind\": 85.48944217634627, \"precipitation\": 74.19603252504737, \"condition\": \"fog\"}, {\"temperature\": 27.71533514546813, \"wind\": 92.40258299219964, \"precipitation\": 35.46329445299181, \"condition\": \"sun\"}, {\"temperature\": 42.990310063528334, \"wind\": 4.767210553938305, \"precipitation\": 78.84896594785124, \"condition\": \"drizzle\"}, {\"temperature\": 12.78024257419457, \"wind\": 70.42789298007587, \"precipitation\": 32.19857853159736, \"condition\": \"rain\"}, {\"temperature\": 12.345464511586698, \"wind\": 96.37504245663669, \"precipitation\": 58.32326475918834, \"condition\": \"drizzle\"}, {\"temperature\": 16.615985139736694, \"wind\": 79.42654814203834, \"precipitation\": 13.002687080260278, \"condition\": \"drizzle\"}, {\"temperature\": 37.42489242698708, \"wind\": 61.345695045120095, \"precipitation\": 43.77564041090408, \"condition\": \"rain\"}, {\"temperature\": 4.4803758908315565, \"wind\": 49.77522034422004, \"precipitation\": 50.69600709811043, \"condition\": \"drizzle\"}, {\"temperature\": 24.097652039323982, \"wind\": 8.979384326640405, \"precipitation\": 30.641954593528485, \"condition\": \"sun\"}, {\"temperature\": -5.322217743871135, \"wind\": 61.189346843944705, \"precipitation\": 31.593229557269186, \"condition\": \"snow\"}, {\"temperature\": 9.656575236136984, \"wind\": 2.1373906951494104, \"precipitation\": 57.5465193225844, \"condition\": \"rain\"}, {\"temperature\": 23.09003214094531, \"wind\": 16.8504340533028, \"precipitation\": 49.38199137777561, \"condition\": \"snow\"}, {\"temperature\": -0.8910674950475652, \"wind\": 67.4372389241753, \"precipitation\": 44.01373586297284, \"condition\": \"drizzle\"}, {\"temperature\": 38.77628981797657, \"wind\": 19.349109733319814, \"precipitation\": 18.478064234157422, \"condition\": \"snow\"}, {\"temperature\": 3.4205075380082093, \"wind\": 27.407919047755026, \"precipitation\": 32.84745237938085, \"condition\": \"fog\"}, {\"temperature\": -5.033320662096024, \"wind\": 94.25698462447689, \"precipitation\": 43.460229120490254, \"condition\": \"fog\"}, {\"temperature\": -9.971237977814939, \"wind\": 93.98073112476098, \"precipitation\": 74.78247080628827, \"condition\": \"sun\"}, {\"temperature\": 14.882883965973484, \"wind\": 24.785612027523594, \"precipitation\": 51.19773747140527, \"condition\": \"drizzle\"}, {\"temperature\": 14.018034425277474, \"wind\": 91.62717881393021, \"precipitation\": 99.49522416477019, \"condition\": \"sun\"}, {\"temperature\": 31.305982604448104, \"wind\": 40.90373869893349, \"precipitation\": 74.89298496286528, \"condition\": \"rain\"}, {\"temperature\": 30.610723278623702, \"wind\": 42.06017669565571, \"precipitation\": 69.67703870061514, \"condition\": \"snow\"}, {\"temperature\": 34.74664418075527, \"wind\": 38.58462817605697, \"precipitation\": 67.82787083848606, \"condition\": \"sun\"}, {\"temperature\": 8.120514857460222, \"wind\": 98.79896637292207, \"precipitation\": 21.126567495900296, \"condition\": \"drizzle\"}, {\"temperature\": 21.830015183550092, \"wind\": 22.1211872838582, \"precipitation\": 79.23266981302642, \"condition\": \"fog\"}, {\"temperature\": 37.98236222048335, \"wind\": 3.9308035344873593, \"precipitation\": 14.592671850934291, \"condition\": \"rain\"}, {\"temperature\": 25.958872120055887, \"wind\": 30.880613774748145, \"precipitation\": 81.56963648865039, \"condition\": \"rain\"}, {\"temperature\": 35.17236224867325, \"wind\": 31.08177020391971, \"precipitation\": 24.18647666653794, \"condition\": \"rain\"}, {\"temperature\": 33.364342578760876, \"wind\": 2.9246595809319653, \"precipitation\": 12.15848602978733, \"condition\": \"fog\"}, {\"temperature\": -3.5902835942627487, \"wind\": 86.99227504041556, \"precipitation\": 2.3639517923128017, \"condition\": \"drizzle\"}, {\"temperature\": 43.53091004081406, \"wind\": 70.60869224087214, \"precipitation\": 66.94726954818158, \"condition\": \"rain\"}, {\"temperature\": 1.8337888199719252, \"wind\": 75.06866321814911, \"precipitation\": 53.6891397098117, \"condition\": \"sun\"}, {\"temperature\": 43.47830583880354, \"wind\": 71.68689230524836, \"precipitation\": 31.73117090776013, \"condition\": \"sun\"}, {\"temperature\": 24.70816388894937, \"wind\": 68.30107169120795, \"precipitation\": 20.50225020747416, \"condition\": \"snow\"}, {\"temperature\": 16.05118379980134, \"wind\": 52.99782792799144, \"precipitation\": 11.69028728553364, \"condition\": \"fog\"}, {\"temperature\": 28.077076050276126, \"wind\": 24.843732657120764, \"precipitation\": 7.7565838958533195, \"condition\": \"fog\"}, {\"temperature\": 26.313211105376084, \"wind\": 45.03333651941402, \"precipitation\": 31.41227095201218, \"condition\": \"fog\"}, {\"temperature\": 25.47932407524442, \"wind\": 87.21604759710651, \"precipitation\": 13.96847689136137, \"condition\": \"snow\"}, {\"temperature\": 11.036706749946731, \"wind\": 33.86229598446234, \"precipitation\": 38.968294579117845, \"condition\": \"rain\"}, {\"temperature\": 0.8142265953456, \"wind\": 70.98507415296346, \"precipitation\": 19.273374312321256, \"condition\": \"drizzle\"}, {\"temperature\": 25.391354725358426, \"wind\": 68.9460480155243, \"precipitation\": 93.11546643206357, \"condition\": \"fog\"}, {\"temperature\": 27.7726958317102, \"wind\": 15.439482065514532, \"precipitation\": 5.293937143885552, \"condition\": \"sun\"}, {\"temperature\": 3.0547946822445873, \"wind\": 86.42755659056152, \"precipitation\": 2.624712873155066, \"condition\": \"rain\"}, {\"temperature\": 39.42369527658811, \"wind\": 47.39700920935881, \"precipitation\": 41.728060203985706, \"condition\": \"rain\"}, {\"temperature\": 31.616549252691705, \"wind\": 31.294073920356126, \"precipitation\": 61.66414511625905, \"condition\": \"snow\"}, {\"temperature\": 37.73472491414072, \"wind\": 56.11305268794269, \"precipitation\": 81.92111265208045, \"condition\": \"fog\"}, {\"temperature\": 29.412459474532355, \"wind\": 46.76189099995182, \"precipitation\": 32.17901910781431, \"condition\": \"snow\"}, {\"temperature\": -5.305474080741154, \"wind\": 16.51061166938045, \"precipitation\": 40.72674907868328, \"condition\": \"fog\"}, {\"temperature\": 28.248344335114005, \"wind\": 74.65204013977382, \"precipitation\": 8.992377726473755, \"condition\": \"drizzle\"}, {\"temperature\": 40.71245089747694, \"wind\": 60.52030820865206, \"precipitation\": 5.486289017174572, \"condition\": \"rain\"}, {\"temperature\": 1.2855687063133647, \"wind\": 47.74453362846665, \"precipitation\": 77.71039918592594, \"condition\": \"drizzle\"}, {\"temperature\": 13.997864573343104, \"wind\": 99.2063323267444, \"precipitation\": 14.897152160823302, \"condition\": \"drizzle\"}, {\"temperature\": 18.825549046465813, \"wind\": 96.7516586164724, \"precipitation\": 62.15480712924485, \"condition\": \"rain\"}, {\"temperature\": 17.102600135203243, \"wind\": 95.33201102579268, \"precipitation\": 1.76947633335095, \"condition\": \"rain\"}, {\"temperature\": 31.603226292108516, \"wind\": 80.1260277875885, \"precipitation\": 19.250819441340848, \"condition\": \"drizzle\"}, {\"temperature\": 7.272202684808242, \"wind\": 8.416568701596594, \"precipitation\": 24.486546883662086, \"condition\": \"drizzle\"}, {\"temperature\": 6.42450547762995, \"wind\": 39.273237823513206, \"precipitation\": 59.175511527387584, \"condition\": \"sun\"}, {\"temperature\": 0.37651709537109035, \"wind\": 94.77902759827063, \"precipitation\": 28.64474524803353, \"condition\": \"fog\"}, {\"temperature\": 29.418237348870328, \"wind\": 73.1637224142291, \"precipitation\": 36.384371127988594, \"condition\": \"fog\"}, {\"temperature\": 32.58410407316762, \"wind\": 23.572673866731876, \"precipitation\": 21.78686177609982, \"condition\": \"sun\"}, {\"temperature\": 40.58331555194774, \"wind\": 12.46579946692835, \"precipitation\": 33.052715046353775, \"condition\": \"fog\"}, {\"temperature\": 15.02270799243955, \"wind\": 23.521353082533057, \"precipitation\": 0.5866372551906918, \"condition\": \"rain\"}, {\"temperature\": -1.5856356202583797, \"wind\": 58.706439422107415, \"precipitation\": 23.69625533115679, \"condition\": \"fog\"}, {\"temperature\": 39.83846166807995, \"wind\": 7.925060993257304, \"precipitation\": 73.27745598517468, \"condition\": \"snow\"}, {\"temperature\": 30.25106478610541, \"wind\": 53.60474576386106, \"precipitation\": 76.63592895791527, \"condition\": \"sun\"}, {\"temperature\": 12.08528607254729, \"wind\": 11.679210728025568, \"precipitation\": 21.30987094861694, \"condition\": \"drizzle\"}, {\"temperature\": 20.103305307522167, \"wind\": 35.51132614216856, \"precipitation\": 99.11641742479553, \"condition\": \"snow\"}, {\"temperature\": 34.61293495454381, \"wind\": 16.44814913694985, \"precipitation\": 76.5788070641912, \"condition\": \"sun\"}, {\"temperature\": 5.3304368864748515, \"wind\": 11.488543420187414, \"precipitation\": 23.611522242446682, \"condition\": \"rain\"}, {\"temperature\": 10.624231316087673, \"wind\": 89.57677208906625, \"precipitation\": 17.901521820239154, \"condition\": \"rain\"}, {\"temperature\": 16.45869339879156, \"wind\": 82.14358903068431, \"precipitation\": 50.5274648107178, \"condition\": \"drizzle\"}, {\"temperature\": 30.4859555666389, \"wind\": 85.43429025210673, \"precipitation\": 99.7314407177562, \"condition\": \"sun\"}, {\"temperature\": -7.842697704519862, \"wind\": 20.10431994181, \"precipitation\": 8.499755604198123, \"condition\": \"drizzle\"}, {\"temperature\": 23.82197430970396, \"wind\": 30.71236264475776, \"precipitation\": 91.23232368725205, \"condition\": \"snow\"}, {\"temperature\": 43.63862559514364, \"wind\": 28.821660476932877, \"precipitation\": 99.71103207097889, \"condition\": \"fog\"}, {\"temperature\": 8.981532662882305, \"wind\": 35.921027372850865, \"precipitation\": 91.12082810014113, \"condition\": \"fog\"}, {\"temperature\": 26.077729266653087, \"wind\": 63.53612288999908, \"precipitation\": 90.09748712912719, \"condition\": \"sun\"}, {\"temperature\": 38.44181274295784, \"wind\": 71.99143401846956, \"precipitation\": 21.221688878355216, \"condition\": \"rain\"}, {\"temperature\": 34.78710550916185, \"wind\": 89.27467266301889, \"precipitation\": 41.1955282025937, \"condition\": \"sun\"}, {\"temperature\": -5.848035132361012, \"wind\": 57.23792962073, \"precipitation\": 64.23162970775795, \"condition\": \"rain\"}, {\"temperature\": 0.6933169720006127, \"wind\": 72.76756692493736, \"precipitation\": 62.223235261304524, \"condition\": \"drizzle\"}]}}, {\"mode\": \"vega-lite\"});\n</script>",
      "text/plain": "alt.Chart(...)"
     },
     "metadata": {},
     "output_type": "display_data"
    }
   ],
   "source": [
    "base = alt.Chart(df)\n",
    "point = base.mark_point().encode(\n",
    "    x=alt.X(field='temperature', \n",
    "            type='quantitative', \n",
    "            scale=alt.Scale(type='linear')),\n",
    "    y=alt.Y(field='wind',\n",
    "            type='quantitative', \n",
    "            scale=alt.Scale(type='linear')),\n",
    ")\n",
    "display_chart(point)"
   ]
  },
  {
   "cell_type": "markdown",
   "metadata": {},
   "source": [
    "### Scatterplot with Color"
   ]
  },
  {
   "cell_type": "code",
   "execution_count": 59,
   "metadata": {},
   "outputs": [
    {
     "name": "stdout",
     "output_type": "stream",
     "text": [
      "{'field': [{'name': 'temperature', 'type': 'number'},\n",
      "           {'name': 'wind', 'type': 'number'},\n",
      "           {'name': 'condition', 'type': 'string'}],\n",
      " 'number_rows': 100,\n",
      " 'view': [{'mark': [{'encoding': [{'channel': 'x', 'field': 'temperature'},\n",
      "                                  {'channel': 'y', 'field': 'wind'},\n",
      "                                  {'channel': 'color', 'field': 'condition'}],\n",
      "                     'type': 'point'}],\n",
      "           'scale': [{'channel': 'x', 'type': 'linear'},\n",
      "                     {'channel': 'y', 'type': 'linear'},\n",
      "                     {'channel': 'color', 'type': 'categorical'}]}]}\n"
     ]
    }
   ],
   "source": [
    "facts = ['attribute(number_rows,root,100).',\n",
    " 'entity(field,root,temperature).',\n",
    " 'attribute((field,name),temperature,temperature).',\n",
    " 'attribute((field,type),temperature,number).',\n",
    " 'entity(field,root,wind).',\n",
    " 'attribute((field,name),wind,wind).',\n",
    " 'attribute((field,type),wind,number).',\n",
    " 'entity(field,root,condition).',\n",
    " 'attribute((field,name),condition,condition).',\n",
    " 'attribute((field,type),condition,string).',\n",
    " 'entity(view,root,0).',\n",
    " 'entity(mark,0,1).',\n",
    " 'attribute((mark,type),1,point).',\n",
    " 'entity(encoding,1,2).',\n",
    " 'attribute((encoding,channel),2,x).',\n",
    " 'attribute((encoding,field),2,temperature).',\n",
    " 'entity(encoding,1,3).',\n",
    " 'attribute((encoding,channel),3,y).',\n",
    " 'attribute((encoding,field),3,wind).',\n",
    " 'entity(encoding,1,4).',\n",
    " 'attribute((encoding,channel),4,color).',\n",
    " 'attribute((encoding,field),4,condition).',\n",
    " 'entity(scale,0,5).',\n",
    " 'attribute((scale,channel),5,x).',\n",
    " 'attribute((scale,type),5,linear).',\n",
    " 'entity(scale,0,6).',\n",
    " 'attribute((scale,channel),6,y).',\n",
    " 'attribute((scale,type),6,linear).',\n",
    " 'entity(scale,0,7).',\n",
    " 'attribute((scale,channel),7,color).',\n",
    " 'attribute((scale,type),7,categorical).']\n",
    "spec = facts_to_dict(facts)\n",
    "pprint(spec)"
   ]
  },
  {
   "cell_type": "code",
   "execution_count": 60,
   "metadata": {},
   "outputs": [
    {
     "name": "stdout",
     "output_type": "stream",
     "text": [
      "{'$schema': 'https://vega.github.io/schema/vega-lite/v4.17.0.json',\n",
      " 'config': {'view': {'continuousHeight': 300, 'continuousWidth': 400}},\n",
      " 'encoding': {'color': {'field': 'condition',\n",
      "                        'scale': {'type': 'ordinal'},\n",
      "                        'type': 'nominal'},\n",
      "              'x': {'field': 'temperature',\n",
      "                    'scale': {'type': 'linear'},\n",
      "                    'type': 'quantitative'},\n",
      "              'y': {'field': 'wind',\n",
      "                    'scale': {'type': 'linear'},\n",
      "                    'type': 'quantitative'}},\n",
      " 'mark': 'point'}\n"
     ]
    },
    {
     "data": {
      "text/html": "\n<div id=\"altair-viz-e59c6e5ea11b460681729b72d427b5b0\"></div>\n<script type=\"text/javascript\">\n  var VEGA_DEBUG = (typeof VEGA_DEBUG == \"undefined\") ? {} : VEGA_DEBUG;\n  (function(spec, embedOpt){\n    let outputDiv = document.currentScript.previousElementSibling;\n    if (outputDiv.id !== \"altair-viz-e59c6e5ea11b460681729b72d427b5b0\") {\n      outputDiv = document.getElementById(\"altair-viz-e59c6e5ea11b460681729b72d427b5b0\");\n    }\n    const paths = {\n      \"vega\": \"https://cdn.jsdelivr.net/npm//vega@5?noext\",\n      \"vega-lib\": \"https://cdn.jsdelivr.net/npm//vega-lib?noext\",\n      \"vega-lite\": \"https://cdn.jsdelivr.net/npm//vega-lite@4.17.0?noext\",\n      \"vega-embed\": \"https://cdn.jsdelivr.net/npm//vega-embed@6?noext\",\n    };\n\n    function maybeLoadScript(lib, version) {\n      var key = `${lib.replace(\"-\", \"\")}_version`;\n      return (VEGA_DEBUG[key] == version) ?\n        Promise.resolve(paths[lib]) :\n        new Promise(function(resolve, reject) {\n          var s = document.createElement('script');\n          document.getElementsByTagName(\"head\")[0].appendChild(s);\n          s.async = true;\n          s.onload = () => {\n            VEGA_DEBUG[key] = version;\n            return resolve(paths[lib]);\n          };\n          s.onerror = () => reject(`Error loading script: ${paths[lib]}`);\n          s.src = paths[lib];\n        });\n    }\n\n    function showError(err) {\n      outputDiv.innerHTML = `<div class=\"error\" style=\"color:red;\">${err}</div>`;\n      throw err;\n    }\n\n    function displayChart(vegaEmbed) {\n      vegaEmbed(outputDiv, spec, embedOpt)\n        .catch(err => showError(`Javascript Error: ${err.message}<br>This usually means there's a typo in your chart specification. See the javascript console for the full traceback.`));\n    }\n\n    if(typeof define === \"function\" && define.amd) {\n      requirejs.config({paths});\n      require([\"vega-embed\"], displayChart, err => showError(`Error loading script: ${err.message}`));\n    } else {\n      maybeLoadScript(\"vega\", \"5\")\n        .then(() => maybeLoadScript(\"vega-lite\", \"4.17.0\"))\n        .then(() => maybeLoadScript(\"vega-embed\", \"6\"))\n        .catch(showError)\n        .then(() => displayChart(vegaEmbed));\n    }\n  })({\"config\": {\"view\": {\"continuousWidth\": 400, \"continuousHeight\": 300}}, \"data\": {\"name\": \"data-80b0e930866eee6a77413fd6e0890a78\"}, \"mark\": \"point\", \"encoding\": {\"color\": {\"field\": \"condition\", \"scale\": {\"type\": \"ordinal\"}, \"type\": \"nominal\"}, \"x\": {\"field\": \"temperature\", \"scale\": {\"type\": \"linear\"}, \"type\": \"quantitative\"}, \"y\": {\"field\": \"wind\", \"scale\": {\"type\": \"linear\"}, \"type\": \"quantitative\"}}, \"$schema\": \"https://vega.github.io/schema/vega-lite/v4.17.0.json\", \"datasets\": {\"data-80b0e930866eee6a77413fd6e0890a78\": [{\"temperature\": 39.357871877508494, \"wind\": 11.562263885182233, \"precipitation\": 88.42051387921796, \"condition\": \"fog\"}, {\"temperature\": -5.947154608637572, \"wind\": 86.90701738497849, \"precipitation\": 70.55832915444152, \"condition\": \"rain\"}, {\"temperature\": 32.82765627853655, \"wind\": 97.65897402212389, \"precipitation\": 82.65511533530304, \"condition\": \"sun\"}, {\"temperature\": 17.525999106231197, \"wind\": 65.52797477069528, \"precipitation\": 53.86256526101837, \"condition\": \"snow\"}, {\"temperature\": -6.80882656934652, \"wind\": 37.03429394195952, \"precipitation\": 93.86525481254682, \"condition\": \"drizzle\"}, {\"temperature\": 42.35997285539091, \"wind\": 72.00671240950793, \"precipitation\": 40.6587905336316, \"condition\": \"sun\"}, {\"temperature\": 12.236046428620227, \"wind\": 24.35537864304579, \"precipitation\": 83.89080965364893, \"condition\": \"sun\"}, {\"temperature\": 42.8103257781665, \"wind\": 29.81101459268268, \"precipitation\": 71.55020159752638, \"condition\": \"sun\"}, {\"temperature\": 22.54392113778252, \"wind\": 96.88264927669367, \"precipitation\": 57.21207145158276, \"condition\": \"rain\"}, {\"temperature\": 22.503608231529917, \"wind\": 73.45718441223443, \"precipitation\": 18.48099480479052, \"condition\": \"fog\"}, {\"temperature\": 20.697023061259923, \"wind\": 78.8085781529467, \"precipitation\": 82.06153728611223, \"condition\": \"drizzle\"}, {\"temperature\": 25.290109397291054, \"wind\": 80.30649374788099, \"precipitation\": 22.36608661432985, \"condition\": \"sun\"}, {\"temperature\": 38.2799313550365, \"wind\": 67.47085587574028, \"precipitation\": 20.740111999310816, \"condition\": \"snow\"}, {\"temperature\": 3.6725463468113624, \"wind\": 1.0115541087158841, \"precipitation\": 18.15771285571497, \"condition\": \"fog\"}, {\"temperature\": 43.05607594953013, \"wind\": 60.68482719845524, \"precipitation\": 57.77089873340201, \"condition\": \"drizzle\"}, {\"temperature\": 32.26702695541979, \"wind\": 51.25287908408247, \"precipitation\": 82.37499650298116, \"condition\": \"sun\"}, {\"temperature\": 20.65470025342109, \"wind\": 17.357994382399223, \"precipitation\": 61.85803419037972, \"condition\": \"snow\"}, {\"temperature\": 7.591958649416281, \"wind\": 56.87567133218157, \"precipitation\": 63.83705679953054, \"condition\": \"drizzle\"}, {\"temperature\": 34.12588295742098, \"wind\": 53.49706318356736, \"precipitation\": 39.89871505509641, \"condition\": \"drizzle\"}, {\"temperature\": 43.35047614485006, \"wind\": 25.611854852857896, \"precipitation\": 80.36992353488051, \"condition\": \"sun\"}, {\"temperature\": -0.6670916465821719, \"wind\": 85.48944217634627, \"precipitation\": 74.19603252504737, \"condition\": \"fog\"}, {\"temperature\": 27.71533514546813, \"wind\": 92.40258299219964, \"precipitation\": 35.46329445299181, \"condition\": \"sun\"}, {\"temperature\": 42.990310063528334, \"wind\": 4.767210553938305, \"precipitation\": 78.84896594785124, \"condition\": \"drizzle\"}, {\"temperature\": 12.78024257419457, \"wind\": 70.42789298007587, \"precipitation\": 32.19857853159736, \"condition\": \"rain\"}, {\"temperature\": 12.345464511586698, \"wind\": 96.37504245663669, \"precipitation\": 58.32326475918834, \"condition\": \"drizzle\"}, {\"temperature\": 16.615985139736694, \"wind\": 79.42654814203834, \"precipitation\": 13.002687080260278, \"condition\": \"drizzle\"}, {\"temperature\": 37.42489242698708, \"wind\": 61.345695045120095, \"precipitation\": 43.77564041090408, \"condition\": \"rain\"}, {\"temperature\": 4.4803758908315565, \"wind\": 49.77522034422004, \"precipitation\": 50.69600709811043, \"condition\": \"drizzle\"}, {\"temperature\": 24.097652039323982, \"wind\": 8.979384326640405, \"precipitation\": 30.641954593528485, \"condition\": \"sun\"}, {\"temperature\": -5.322217743871135, \"wind\": 61.189346843944705, \"precipitation\": 31.593229557269186, \"condition\": \"snow\"}, {\"temperature\": 9.656575236136984, \"wind\": 2.1373906951494104, \"precipitation\": 57.5465193225844, \"condition\": \"rain\"}, {\"temperature\": 23.09003214094531, \"wind\": 16.8504340533028, \"precipitation\": 49.38199137777561, \"condition\": \"snow\"}, {\"temperature\": -0.8910674950475652, \"wind\": 67.4372389241753, \"precipitation\": 44.01373586297284, \"condition\": \"drizzle\"}, {\"temperature\": 38.77628981797657, \"wind\": 19.349109733319814, \"precipitation\": 18.478064234157422, \"condition\": \"snow\"}, {\"temperature\": 3.4205075380082093, \"wind\": 27.407919047755026, \"precipitation\": 32.84745237938085, \"condition\": \"fog\"}, {\"temperature\": -5.033320662096024, \"wind\": 94.25698462447689, \"precipitation\": 43.460229120490254, \"condition\": \"fog\"}, {\"temperature\": -9.971237977814939, \"wind\": 93.98073112476098, \"precipitation\": 74.78247080628827, \"condition\": \"sun\"}, {\"temperature\": 14.882883965973484, \"wind\": 24.785612027523594, \"precipitation\": 51.19773747140527, \"condition\": \"drizzle\"}, {\"temperature\": 14.018034425277474, \"wind\": 91.62717881393021, \"precipitation\": 99.49522416477019, \"condition\": \"sun\"}, {\"temperature\": 31.305982604448104, \"wind\": 40.90373869893349, \"precipitation\": 74.89298496286528, \"condition\": \"rain\"}, {\"temperature\": 30.610723278623702, \"wind\": 42.06017669565571, \"precipitation\": 69.67703870061514, \"condition\": \"snow\"}, {\"temperature\": 34.74664418075527, \"wind\": 38.58462817605697, \"precipitation\": 67.82787083848606, \"condition\": \"sun\"}, {\"temperature\": 8.120514857460222, \"wind\": 98.79896637292207, \"precipitation\": 21.126567495900296, \"condition\": \"drizzle\"}, {\"temperature\": 21.830015183550092, \"wind\": 22.1211872838582, \"precipitation\": 79.23266981302642, \"condition\": \"fog\"}, {\"temperature\": 37.98236222048335, \"wind\": 3.9308035344873593, \"precipitation\": 14.592671850934291, \"condition\": \"rain\"}, {\"temperature\": 25.958872120055887, \"wind\": 30.880613774748145, \"precipitation\": 81.56963648865039, \"condition\": \"rain\"}, {\"temperature\": 35.17236224867325, \"wind\": 31.08177020391971, \"precipitation\": 24.18647666653794, \"condition\": \"rain\"}, {\"temperature\": 33.364342578760876, \"wind\": 2.9246595809319653, \"precipitation\": 12.15848602978733, \"condition\": \"fog\"}, {\"temperature\": -3.5902835942627487, \"wind\": 86.99227504041556, \"precipitation\": 2.3639517923128017, \"condition\": \"drizzle\"}, {\"temperature\": 43.53091004081406, \"wind\": 70.60869224087214, \"precipitation\": 66.94726954818158, \"condition\": \"rain\"}, {\"temperature\": 1.8337888199719252, \"wind\": 75.06866321814911, \"precipitation\": 53.6891397098117, \"condition\": \"sun\"}, {\"temperature\": 43.47830583880354, \"wind\": 71.68689230524836, \"precipitation\": 31.73117090776013, \"condition\": \"sun\"}, {\"temperature\": 24.70816388894937, \"wind\": 68.30107169120795, \"precipitation\": 20.50225020747416, \"condition\": \"snow\"}, {\"temperature\": 16.05118379980134, \"wind\": 52.99782792799144, \"precipitation\": 11.69028728553364, \"condition\": \"fog\"}, {\"temperature\": 28.077076050276126, \"wind\": 24.843732657120764, \"precipitation\": 7.7565838958533195, \"condition\": \"fog\"}, {\"temperature\": 26.313211105376084, \"wind\": 45.03333651941402, \"precipitation\": 31.41227095201218, \"condition\": \"fog\"}, {\"temperature\": 25.47932407524442, \"wind\": 87.21604759710651, \"precipitation\": 13.96847689136137, \"condition\": \"snow\"}, {\"temperature\": 11.036706749946731, \"wind\": 33.86229598446234, \"precipitation\": 38.968294579117845, \"condition\": \"rain\"}, {\"temperature\": 0.8142265953456, \"wind\": 70.98507415296346, \"precipitation\": 19.273374312321256, \"condition\": \"drizzle\"}, {\"temperature\": 25.391354725358426, \"wind\": 68.9460480155243, \"precipitation\": 93.11546643206357, \"condition\": \"fog\"}, {\"temperature\": 27.7726958317102, \"wind\": 15.439482065514532, \"precipitation\": 5.293937143885552, \"condition\": \"sun\"}, {\"temperature\": 3.0547946822445873, \"wind\": 86.42755659056152, \"precipitation\": 2.624712873155066, \"condition\": \"rain\"}, {\"temperature\": 39.42369527658811, \"wind\": 47.39700920935881, \"precipitation\": 41.728060203985706, \"condition\": \"rain\"}, {\"temperature\": 31.616549252691705, \"wind\": 31.294073920356126, \"precipitation\": 61.66414511625905, \"condition\": \"snow\"}, {\"temperature\": 37.73472491414072, \"wind\": 56.11305268794269, \"precipitation\": 81.92111265208045, \"condition\": \"fog\"}, {\"temperature\": 29.412459474532355, \"wind\": 46.76189099995182, \"precipitation\": 32.17901910781431, \"condition\": \"snow\"}, {\"temperature\": -5.305474080741154, \"wind\": 16.51061166938045, \"precipitation\": 40.72674907868328, \"condition\": \"fog\"}, {\"temperature\": 28.248344335114005, \"wind\": 74.65204013977382, \"precipitation\": 8.992377726473755, \"condition\": \"drizzle\"}, {\"temperature\": 40.71245089747694, \"wind\": 60.52030820865206, \"precipitation\": 5.486289017174572, \"condition\": \"rain\"}, {\"temperature\": 1.2855687063133647, \"wind\": 47.74453362846665, \"precipitation\": 77.71039918592594, \"condition\": \"drizzle\"}, {\"temperature\": 13.997864573343104, \"wind\": 99.2063323267444, \"precipitation\": 14.897152160823302, \"condition\": \"drizzle\"}, {\"temperature\": 18.825549046465813, \"wind\": 96.7516586164724, \"precipitation\": 62.15480712924485, \"condition\": \"rain\"}, {\"temperature\": 17.102600135203243, \"wind\": 95.33201102579268, \"precipitation\": 1.76947633335095, \"condition\": \"rain\"}, {\"temperature\": 31.603226292108516, \"wind\": 80.1260277875885, \"precipitation\": 19.250819441340848, \"condition\": \"drizzle\"}, {\"temperature\": 7.272202684808242, \"wind\": 8.416568701596594, \"precipitation\": 24.486546883662086, \"condition\": \"drizzle\"}, {\"temperature\": 6.42450547762995, \"wind\": 39.273237823513206, \"precipitation\": 59.175511527387584, \"condition\": \"sun\"}, {\"temperature\": 0.37651709537109035, \"wind\": 94.77902759827063, \"precipitation\": 28.64474524803353, \"condition\": \"fog\"}, {\"temperature\": 29.418237348870328, \"wind\": 73.1637224142291, \"precipitation\": 36.384371127988594, \"condition\": \"fog\"}, {\"temperature\": 32.58410407316762, \"wind\": 23.572673866731876, \"precipitation\": 21.78686177609982, \"condition\": \"sun\"}, {\"temperature\": 40.58331555194774, \"wind\": 12.46579946692835, \"precipitation\": 33.052715046353775, \"condition\": \"fog\"}, {\"temperature\": 15.02270799243955, \"wind\": 23.521353082533057, \"precipitation\": 0.5866372551906918, \"condition\": \"rain\"}, {\"temperature\": -1.5856356202583797, \"wind\": 58.706439422107415, \"precipitation\": 23.69625533115679, \"condition\": \"fog\"}, {\"temperature\": 39.83846166807995, \"wind\": 7.925060993257304, \"precipitation\": 73.27745598517468, \"condition\": \"snow\"}, {\"temperature\": 30.25106478610541, \"wind\": 53.60474576386106, \"precipitation\": 76.63592895791527, \"condition\": \"sun\"}, {\"temperature\": 12.08528607254729, \"wind\": 11.679210728025568, \"precipitation\": 21.30987094861694, \"condition\": \"drizzle\"}, {\"temperature\": 20.103305307522167, \"wind\": 35.51132614216856, \"precipitation\": 99.11641742479553, \"condition\": \"snow\"}, {\"temperature\": 34.61293495454381, \"wind\": 16.44814913694985, \"precipitation\": 76.5788070641912, \"condition\": \"sun\"}, {\"temperature\": 5.3304368864748515, \"wind\": 11.488543420187414, \"precipitation\": 23.611522242446682, \"condition\": \"rain\"}, {\"temperature\": 10.624231316087673, \"wind\": 89.57677208906625, \"precipitation\": 17.901521820239154, \"condition\": \"rain\"}, {\"temperature\": 16.45869339879156, \"wind\": 82.14358903068431, \"precipitation\": 50.5274648107178, \"condition\": \"drizzle\"}, {\"temperature\": 30.4859555666389, \"wind\": 85.43429025210673, \"precipitation\": 99.7314407177562, \"condition\": \"sun\"}, {\"temperature\": -7.842697704519862, \"wind\": 20.10431994181, \"precipitation\": 8.499755604198123, \"condition\": \"drizzle\"}, {\"temperature\": 23.82197430970396, \"wind\": 30.71236264475776, \"precipitation\": 91.23232368725205, \"condition\": \"snow\"}, {\"temperature\": 43.63862559514364, \"wind\": 28.821660476932877, \"precipitation\": 99.71103207097889, \"condition\": \"fog\"}, {\"temperature\": 8.981532662882305, \"wind\": 35.921027372850865, \"precipitation\": 91.12082810014113, \"condition\": \"fog\"}, {\"temperature\": 26.077729266653087, \"wind\": 63.53612288999908, \"precipitation\": 90.09748712912719, \"condition\": \"sun\"}, {\"temperature\": 38.44181274295784, \"wind\": 71.99143401846956, \"precipitation\": 21.221688878355216, \"condition\": \"rain\"}, {\"temperature\": 34.78710550916185, \"wind\": 89.27467266301889, \"precipitation\": 41.1955282025937, \"condition\": \"sun\"}, {\"temperature\": -5.848035132361012, \"wind\": 57.23792962073, \"precipitation\": 64.23162970775795, \"condition\": \"rain\"}, {\"temperature\": 0.6933169720006127, \"wind\": 72.76756692493736, \"precipitation\": 62.223235261304524, \"condition\": \"drizzle\"}]}}, {\"mode\": \"vega-lite\"});\n</script>",
      "text/plain": "alt.Chart(...)"
     },
     "metadata": {},
     "output_type": "display_data"
    }
   ],
   "source": [
    "base = alt.Chart(df)\n",
    "point = base.mark_point().encode(\n",
    "    x=alt.X(field='temperature', \n",
    "            type='quantitative', \n",
    "            scale=alt.Scale(type='linear')),\n",
    "    y=alt.Y(field='wind',\n",
    "            type='quantitative', \n",
    "            scale=alt.Scale(type='linear')),\n",
    "    color=alt.Color(field='condition',\n",
    "                    type='nominal',\n",
    "                    scale=alt.Scale(type='ordinal'))\n",
    ")\n",
    "display_chart(point)"
   ]
  },
  {
   "cell_type": "code",
   "execution_count": 61,
   "metadata": {},
   "outputs": [
    {
     "name": "stdout",
     "output_type": "stream",
     "text": [
      "{'field': [{'name': 'temperature', 'type': 'number'},\n",
      "           {'name': 'wind', 'type': 'number'},\n",
      "           {'name': 'precipitation', 'type': 'number'}],\n",
      " 'number_rows': 100,\n",
      " 'view': [{'mark': [{'encoding': [{'channel': 'x', 'field': 'temperature'},\n",
      "                                  {'channel': 'y', 'field': 'wind'},\n",
      "                                  {'channel': 'size',\n",
      "                                   'field': 'precipitation'}],\n",
      "                     'type': 'point'}],\n",
      "           'scale': [{'channel': 'x', 'type': 'linear'},\n",
      "                     {'channel': 'y', 'type': 'linear'},\n",
      "                     {'channel': 'size', 'type': 'linear'}]}]}\n"
     ]
    }
   ],
   "source": [
    "facts = ['attribute(number_rows,root,100).',\n",
    " 'entity(field,root,temperature).',\n",
    " 'attribute((field,name),temperature,temperature).',\n",
    " 'attribute((field,type),temperature,number).',\n",
    " 'entity(field,root,wind).',\n",
    " 'attribute((field,name),wind,wind).',\n",
    " 'attribute((field,type),wind,number).',\n",
    " 'entity(field,root,precipitation).',\n",
    " 'attribute((field,name),precipitation,precipitation).',\n",
    " 'attribute((field,type),precipitation,number).',\n",
    " 'entity(view,root,0).',\n",
    " 'entity(mark,0,1).',\n",
    " 'attribute((mark,type),1,point).',\n",
    " 'entity(encoding,1,2).',\n",
    " 'attribute((encoding,channel),2,x).',\n",
    " 'attribute((encoding,field),2,temperature).',\n",
    " 'entity(encoding,1,3).',\n",
    " 'attribute((encoding,channel),3,y).',\n",
    " 'attribute((encoding,field),3,wind).',\n",
    " 'entity(encoding,1,4).',\n",
    " 'attribute((encoding,channel),4,size).',\n",
    " 'attribute((encoding,field),4,precipitation).',\n",
    " 'entity(scale,0,5).',\n",
    " 'attribute((scale,channel),5,x).',\n",
    " 'attribute((scale,type),5,linear).',\n",
    " 'entity(scale,0,6).',\n",
    " 'attribute((scale,channel),6,y).',\n",
    " 'attribute((scale,type),6,linear).',\n",
    " 'entity(scale,0,7).',\n",
    " 'attribute((scale,channel),7,size).',\n",
    " 'attribute((scale,type),7,linear).']\n",
    "spec = facts_to_dict(facts)\n",
    "pprint(spec)"
   ]
  },
  {
   "cell_type": "markdown",
   "metadata": {},
   "source": [
    "### Bubble Chart"
   ]
  },
  {
   "cell_type": "code",
   "execution_count": 62,
   "metadata": {},
   "outputs": [
    {
     "name": "stdout",
     "output_type": "stream",
     "text": [
      "{'$schema': 'https://vega.github.io/schema/vega-lite/v4.17.0.json',\n",
      " 'config': {'view': {'continuousHeight': 300, 'continuousWidth': 400}},\n",
      " 'encoding': {'size': {'field': 'precipitation',\n",
      "                       'scale': {'type': 'linear'},\n",
      "                       'type': 'quantitative'},\n",
      "              'x': {'field': 'temperature',\n",
      "                    'scale': {'type': 'linear'},\n",
      "                    'type': 'quantitative'},\n",
      "              'y': {'field': 'wind',\n",
      "                    'scale': {'type': 'linear'},\n",
      "                    'type': 'quantitative'}},\n",
      " 'mark': 'point'}\n"
     ]
    },
    {
     "data": {
      "text/html": "\n<div id=\"altair-viz-452f1286f1944847831a7391de135d16\"></div>\n<script type=\"text/javascript\">\n  var VEGA_DEBUG = (typeof VEGA_DEBUG == \"undefined\") ? {} : VEGA_DEBUG;\n  (function(spec, embedOpt){\n    let outputDiv = document.currentScript.previousElementSibling;\n    if (outputDiv.id !== \"altair-viz-452f1286f1944847831a7391de135d16\") {\n      outputDiv = document.getElementById(\"altair-viz-452f1286f1944847831a7391de135d16\");\n    }\n    const paths = {\n      \"vega\": \"https://cdn.jsdelivr.net/npm//vega@5?noext\",\n      \"vega-lib\": \"https://cdn.jsdelivr.net/npm//vega-lib?noext\",\n      \"vega-lite\": \"https://cdn.jsdelivr.net/npm//vega-lite@4.17.0?noext\",\n      \"vega-embed\": \"https://cdn.jsdelivr.net/npm//vega-embed@6?noext\",\n    };\n\n    function maybeLoadScript(lib, version) {\n      var key = `${lib.replace(\"-\", \"\")}_version`;\n      return (VEGA_DEBUG[key] == version) ?\n        Promise.resolve(paths[lib]) :\n        new Promise(function(resolve, reject) {\n          var s = document.createElement('script');\n          document.getElementsByTagName(\"head\")[0].appendChild(s);\n          s.async = true;\n          s.onload = () => {\n            VEGA_DEBUG[key] = version;\n            return resolve(paths[lib]);\n          };\n          s.onerror = () => reject(`Error loading script: ${paths[lib]}`);\n          s.src = paths[lib];\n        });\n    }\n\n    function showError(err) {\n      outputDiv.innerHTML = `<div class=\"error\" style=\"color:red;\">${err}</div>`;\n      throw err;\n    }\n\n    function displayChart(vegaEmbed) {\n      vegaEmbed(outputDiv, spec, embedOpt)\n        .catch(err => showError(`Javascript Error: ${err.message}<br>This usually means there's a typo in your chart specification. See the javascript console for the full traceback.`));\n    }\n\n    if(typeof define === \"function\" && define.amd) {\n      requirejs.config({paths});\n      require([\"vega-embed\"], displayChart, err => showError(`Error loading script: ${err.message}`));\n    } else {\n      maybeLoadScript(\"vega\", \"5\")\n        .then(() => maybeLoadScript(\"vega-lite\", \"4.17.0\"))\n        .then(() => maybeLoadScript(\"vega-embed\", \"6\"))\n        .catch(showError)\n        .then(() => displayChart(vegaEmbed));\n    }\n  })({\"config\": {\"view\": {\"continuousWidth\": 400, \"continuousHeight\": 300}}, \"data\": {\"name\": \"data-80b0e930866eee6a77413fd6e0890a78\"}, \"mark\": \"point\", \"encoding\": {\"size\": {\"field\": \"precipitation\", \"scale\": {\"type\": \"linear\"}, \"type\": \"quantitative\"}, \"x\": {\"field\": \"temperature\", \"scale\": {\"type\": \"linear\"}, \"type\": \"quantitative\"}, \"y\": {\"field\": \"wind\", \"scale\": {\"type\": \"linear\"}, \"type\": \"quantitative\"}}, \"$schema\": \"https://vega.github.io/schema/vega-lite/v4.17.0.json\", \"datasets\": {\"data-80b0e930866eee6a77413fd6e0890a78\": [{\"temperature\": 39.357871877508494, \"wind\": 11.562263885182233, \"precipitation\": 88.42051387921796, \"condition\": \"fog\"}, {\"temperature\": -5.947154608637572, \"wind\": 86.90701738497849, \"precipitation\": 70.55832915444152, \"condition\": \"rain\"}, {\"temperature\": 32.82765627853655, \"wind\": 97.65897402212389, \"precipitation\": 82.65511533530304, \"condition\": \"sun\"}, {\"temperature\": 17.525999106231197, \"wind\": 65.52797477069528, \"precipitation\": 53.86256526101837, \"condition\": \"snow\"}, {\"temperature\": -6.80882656934652, \"wind\": 37.03429394195952, \"precipitation\": 93.86525481254682, \"condition\": \"drizzle\"}, {\"temperature\": 42.35997285539091, \"wind\": 72.00671240950793, \"precipitation\": 40.6587905336316, \"condition\": \"sun\"}, {\"temperature\": 12.236046428620227, \"wind\": 24.35537864304579, \"precipitation\": 83.89080965364893, \"condition\": \"sun\"}, {\"temperature\": 42.8103257781665, \"wind\": 29.81101459268268, \"precipitation\": 71.55020159752638, \"condition\": \"sun\"}, {\"temperature\": 22.54392113778252, \"wind\": 96.88264927669367, \"precipitation\": 57.21207145158276, \"condition\": \"rain\"}, {\"temperature\": 22.503608231529917, \"wind\": 73.45718441223443, \"precipitation\": 18.48099480479052, \"condition\": \"fog\"}, {\"temperature\": 20.697023061259923, \"wind\": 78.8085781529467, \"precipitation\": 82.06153728611223, \"condition\": \"drizzle\"}, {\"temperature\": 25.290109397291054, \"wind\": 80.30649374788099, \"precipitation\": 22.36608661432985, \"condition\": \"sun\"}, {\"temperature\": 38.2799313550365, \"wind\": 67.47085587574028, \"precipitation\": 20.740111999310816, \"condition\": \"snow\"}, {\"temperature\": 3.6725463468113624, \"wind\": 1.0115541087158841, \"precipitation\": 18.15771285571497, \"condition\": \"fog\"}, {\"temperature\": 43.05607594953013, \"wind\": 60.68482719845524, \"precipitation\": 57.77089873340201, \"condition\": \"drizzle\"}, {\"temperature\": 32.26702695541979, \"wind\": 51.25287908408247, \"precipitation\": 82.37499650298116, \"condition\": \"sun\"}, {\"temperature\": 20.65470025342109, \"wind\": 17.357994382399223, \"precipitation\": 61.85803419037972, \"condition\": \"snow\"}, {\"temperature\": 7.591958649416281, \"wind\": 56.87567133218157, \"precipitation\": 63.83705679953054, \"condition\": \"drizzle\"}, {\"temperature\": 34.12588295742098, \"wind\": 53.49706318356736, \"precipitation\": 39.89871505509641, \"condition\": \"drizzle\"}, {\"temperature\": 43.35047614485006, \"wind\": 25.611854852857896, \"precipitation\": 80.36992353488051, \"condition\": \"sun\"}, {\"temperature\": -0.6670916465821719, \"wind\": 85.48944217634627, \"precipitation\": 74.19603252504737, \"condition\": \"fog\"}, {\"temperature\": 27.71533514546813, \"wind\": 92.40258299219964, \"precipitation\": 35.46329445299181, \"condition\": \"sun\"}, {\"temperature\": 42.990310063528334, \"wind\": 4.767210553938305, \"precipitation\": 78.84896594785124, \"condition\": \"drizzle\"}, {\"temperature\": 12.78024257419457, \"wind\": 70.42789298007587, \"precipitation\": 32.19857853159736, \"condition\": \"rain\"}, {\"temperature\": 12.345464511586698, \"wind\": 96.37504245663669, \"precipitation\": 58.32326475918834, \"condition\": \"drizzle\"}, {\"temperature\": 16.615985139736694, \"wind\": 79.42654814203834, \"precipitation\": 13.002687080260278, \"condition\": \"drizzle\"}, {\"temperature\": 37.42489242698708, \"wind\": 61.345695045120095, \"precipitation\": 43.77564041090408, \"condition\": \"rain\"}, {\"temperature\": 4.4803758908315565, \"wind\": 49.77522034422004, \"precipitation\": 50.69600709811043, \"condition\": \"drizzle\"}, {\"temperature\": 24.097652039323982, \"wind\": 8.979384326640405, \"precipitation\": 30.641954593528485, \"condition\": \"sun\"}, {\"temperature\": -5.322217743871135, \"wind\": 61.189346843944705, \"precipitation\": 31.593229557269186, \"condition\": \"snow\"}, {\"temperature\": 9.656575236136984, \"wind\": 2.1373906951494104, \"precipitation\": 57.5465193225844, \"condition\": \"rain\"}, {\"temperature\": 23.09003214094531, \"wind\": 16.8504340533028, \"precipitation\": 49.38199137777561, \"condition\": \"snow\"}, {\"temperature\": -0.8910674950475652, \"wind\": 67.4372389241753, \"precipitation\": 44.01373586297284, \"condition\": \"drizzle\"}, {\"temperature\": 38.77628981797657, \"wind\": 19.349109733319814, \"precipitation\": 18.478064234157422, \"condition\": \"snow\"}, {\"temperature\": 3.4205075380082093, \"wind\": 27.407919047755026, \"precipitation\": 32.84745237938085, \"condition\": \"fog\"}, {\"temperature\": -5.033320662096024, \"wind\": 94.25698462447689, \"precipitation\": 43.460229120490254, \"condition\": \"fog\"}, {\"temperature\": -9.971237977814939, \"wind\": 93.98073112476098, \"precipitation\": 74.78247080628827, \"condition\": \"sun\"}, {\"temperature\": 14.882883965973484, \"wind\": 24.785612027523594, \"precipitation\": 51.19773747140527, \"condition\": \"drizzle\"}, {\"temperature\": 14.018034425277474, \"wind\": 91.62717881393021, \"precipitation\": 99.49522416477019, \"condition\": \"sun\"}, {\"temperature\": 31.305982604448104, \"wind\": 40.90373869893349, \"precipitation\": 74.89298496286528, \"condition\": \"rain\"}, {\"temperature\": 30.610723278623702, \"wind\": 42.06017669565571, \"precipitation\": 69.67703870061514, \"condition\": \"snow\"}, {\"temperature\": 34.74664418075527, \"wind\": 38.58462817605697, \"precipitation\": 67.82787083848606, \"condition\": \"sun\"}, {\"temperature\": 8.120514857460222, \"wind\": 98.79896637292207, \"precipitation\": 21.126567495900296, \"condition\": \"drizzle\"}, {\"temperature\": 21.830015183550092, \"wind\": 22.1211872838582, \"precipitation\": 79.23266981302642, \"condition\": \"fog\"}, {\"temperature\": 37.98236222048335, \"wind\": 3.9308035344873593, \"precipitation\": 14.592671850934291, \"condition\": \"rain\"}, {\"temperature\": 25.958872120055887, \"wind\": 30.880613774748145, \"precipitation\": 81.56963648865039, \"condition\": \"rain\"}, {\"temperature\": 35.17236224867325, \"wind\": 31.08177020391971, \"precipitation\": 24.18647666653794, \"condition\": \"rain\"}, {\"temperature\": 33.364342578760876, \"wind\": 2.9246595809319653, \"precipitation\": 12.15848602978733, \"condition\": \"fog\"}, {\"temperature\": -3.5902835942627487, \"wind\": 86.99227504041556, \"precipitation\": 2.3639517923128017, \"condition\": \"drizzle\"}, {\"temperature\": 43.53091004081406, \"wind\": 70.60869224087214, \"precipitation\": 66.94726954818158, \"condition\": \"rain\"}, {\"temperature\": 1.8337888199719252, \"wind\": 75.06866321814911, \"precipitation\": 53.6891397098117, \"condition\": \"sun\"}, {\"temperature\": 43.47830583880354, \"wind\": 71.68689230524836, \"precipitation\": 31.73117090776013, \"condition\": \"sun\"}, {\"temperature\": 24.70816388894937, \"wind\": 68.30107169120795, \"precipitation\": 20.50225020747416, \"condition\": \"snow\"}, {\"temperature\": 16.05118379980134, \"wind\": 52.99782792799144, \"precipitation\": 11.69028728553364, \"condition\": \"fog\"}, {\"temperature\": 28.077076050276126, \"wind\": 24.843732657120764, \"precipitation\": 7.7565838958533195, \"condition\": \"fog\"}, {\"temperature\": 26.313211105376084, \"wind\": 45.03333651941402, \"precipitation\": 31.41227095201218, \"condition\": \"fog\"}, {\"temperature\": 25.47932407524442, \"wind\": 87.21604759710651, \"precipitation\": 13.96847689136137, \"condition\": \"snow\"}, {\"temperature\": 11.036706749946731, \"wind\": 33.86229598446234, \"precipitation\": 38.968294579117845, \"condition\": \"rain\"}, {\"temperature\": 0.8142265953456, \"wind\": 70.98507415296346, \"precipitation\": 19.273374312321256, \"condition\": \"drizzle\"}, {\"temperature\": 25.391354725358426, \"wind\": 68.9460480155243, \"precipitation\": 93.11546643206357, \"condition\": \"fog\"}, {\"temperature\": 27.7726958317102, \"wind\": 15.439482065514532, \"precipitation\": 5.293937143885552, \"condition\": \"sun\"}, {\"temperature\": 3.0547946822445873, \"wind\": 86.42755659056152, \"precipitation\": 2.624712873155066, \"condition\": \"rain\"}, {\"temperature\": 39.42369527658811, \"wind\": 47.39700920935881, \"precipitation\": 41.728060203985706, \"condition\": \"rain\"}, {\"temperature\": 31.616549252691705, \"wind\": 31.294073920356126, \"precipitation\": 61.66414511625905, \"condition\": \"snow\"}, {\"temperature\": 37.73472491414072, \"wind\": 56.11305268794269, \"precipitation\": 81.92111265208045, \"condition\": \"fog\"}, {\"temperature\": 29.412459474532355, \"wind\": 46.76189099995182, \"precipitation\": 32.17901910781431, \"condition\": \"snow\"}, {\"temperature\": -5.305474080741154, \"wind\": 16.51061166938045, \"precipitation\": 40.72674907868328, \"condition\": \"fog\"}, {\"temperature\": 28.248344335114005, \"wind\": 74.65204013977382, \"precipitation\": 8.992377726473755, \"condition\": \"drizzle\"}, {\"temperature\": 40.71245089747694, \"wind\": 60.52030820865206, \"precipitation\": 5.486289017174572, \"condition\": \"rain\"}, {\"temperature\": 1.2855687063133647, \"wind\": 47.74453362846665, \"precipitation\": 77.71039918592594, \"condition\": \"drizzle\"}, {\"temperature\": 13.997864573343104, \"wind\": 99.2063323267444, \"precipitation\": 14.897152160823302, \"condition\": \"drizzle\"}, {\"temperature\": 18.825549046465813, \"wind\": 96.7516586164724, \"precipitation\": 62.15480712924485, \"condition\": \"rain\"}, {\"temperature\": 17.102600135203243, \"wind\": 95.33201102579268, \"precipitation\": 1.76947633335095, \"condition\": \"rain\"}, {\"temperature\": 31.603226292108516, \"wind\": 80.1260277875885, \"precipitation\": 19.250819441340848, \"condition\": \"drizzle\"}, {\"temperature\": 7.272202684808242, \"wind\": 8.416568701596594, \"precipitation\": 24.486546883662086, \"condition\": \"drizzle\"}, {\"temperature\": 6.42450547762995, \"wind\": 39.273237823513206, \"precipitation\": 59.175511527387584, \"condition\": \"sun\"}, {\"temperature\": 0.37651709537109035, \"wind\": 94.77902759827063, \"precipitation\": 28.64474524803353, \"condition\": \"fog\"}, {\"temperature\": 29.418237348870328, \"wind\": 73.1637224142291, \"precipitation\": 36.384371127988594, \"condition\": \"fog\"}, {\"temperature\": 32.58410407316762, \"wind\": 23.572673866731876, \"precipitation\": 21.78686177609982, \"condition\": \"sun\"}, {\"temperature\": 40.58331555194774, \"wind\": 12.46579946692835, \"precipitation\": 33.052715046353775, \"condition\": \"fog\"}, {\"temperature\": 15.02270799243955, \"wind\": 23.521353082533057, \"precipitation\": 0.5866372551906918, \"condition\": \"rain\"}, {\"temperature\": -1.5856356202583797, \"wind\": 58.706439422107415, \"precipitation\": 23.69625533115679, \"condition\": \"fog\"}, {\"temperature\": 39.83846166807995, \"wind\": 7.925060993257304, \"precipitation\": 73.27745598517468, \"condition\": \"snow\"}, {\"temperature\": 30.25106478610541, \"wind\": 53.60474576386106, \"precipitation\": 76.63592895791527, \"condition\": \"sun\"}, {\"temperature\": 12.08528607254729, \"wind\": 11.679210728025568, \"precipitation\": 21.30987094861694, \"condition\": \"drizzle\"}, {\"temperature\": 20.103305307522167, \"wind\": 35.51132614216856, \"precipitation\": 99.11641742479553, \"condition\": \"snow\"}, {\"temperature\": 34.61293495454381, \"wind\": 16.44814913694985, \"precipitation\": 76.5788070641912, \"condition\": \"sun\"}, {\"temperature\": 5.3304368864748515, \"wind\": 11.488543420187414, \"precipitation\": 23.611522242446682, \"condition\": \"rain\"}, {\"temperature\": 10.624231316087673, \"wind\": 89.57677208906625, \"precipitation\": 17.901521820239154, \"condition\": \"rain\"}, {\"temperature\": 16.45869339879156, \"wind\": 82.14358903068431, \"precipitation\": 50.5274648107178, \"condition\": \"drizzle\"}, {\"temperature\": 30.4859555666389, \"wind\": 85.43429025210673, \"precipitation\": 99.7314407177562, \"condition\": \"sun\"}, {\"temperature\": -7.842697704519862, \"wind\": 20.10431994181, \"precipitation\": 8.499755604198123, \"condition\": \"drizzle\"}, {\"temperature\": 23.82197430970396, \"wind\": 30.71236264475776, \"precipitation\": 91.23232368725205, \"condition\": \"snow\"}, {\"temperature\": 43.63862559514364, \"wind\": 28.821660476932877, \"precipitation\": 99.71103207097889, \"condition\": \"fog\"}, {\"temperature\": 8.981532662882305, \"wind\": 35.921027372850865, \"precipitation\": 91.12082810014113, \"condition\": \"fog\"}, {\"temperature\": 26.077729266653087, \"wind\": 63.53612288999908, \"precipitation\": 90.09748712912719, \"condition\": \"sun\"}, {\"temperature\": 38.44181274295784, \"wind\": 71.99143401846956, \"precipitation\": 21.221688878355216, \"condition\": \"rain\"}, {\"temperature\": 34.78710550916185, \"wind\": 89.27467266301889, \"precipitation\": 41.1955282025937, \"condition\": \"sun\"}, {\"temperature\": -5.848035132361012, \"wind\": 57.23792962073, \"precipitation\": 64.23162970775795, \"condition\": \"rain\"}, {\"temperature\": 0.6933169720006127, \"wind\": 72.76756692493736, \"precipitation\": 62.223235261304524, \"condition\": \"drizzle\"}]}}, {\"mode\": \"vega-lite\"});\n</script>",
      "text/plain": "alt.Chart(...)"
     },
     "metadata": {},
     "output_type": "display_data"
    }
   ],
   "source": [
    "base = alt.Chart(df)\n",
    "point = base.mark_point().encode(\n",
    "    x=alt.X(field='temperature', \n",
    "            type='quantitative', \n",
    "            scale=alt.Scale(type='linear')),\n",
    "    y=alt.Y(field='wind',\n",
    "            type='quantitative', \n",
    "            scale=alt.Scale(type='linear')),\n",
    "    size=alt.Size(field='precipitation', \n",
    "                  type='quantitative', \n",
    "                  scale=alt.Scale(type='linear')),\n",
    ")\n",
    "display_chart(point)"
   ]
  },
  {
   "cell_type": "markdown",
   "metadata": {},
   "source": [
    "## Stacked Charts"
   ]
  },
  {
   "cell_type": "markdown",
   "metadata": {},
   "source": [
    "### Pie Chart"
   ]
  },
  {
   "cell_type": "code",
   "execution_count": 63,
   "metadata": {},
   "outputs": [
    {
     "name": "stdout",
     "output_type": "stream",
     "text": [
      "{'field': [{'name': 'temperature', 'type': 'number'},\n",
      "           {'name': 'condition', 'type': 'string'}],\n",
      " 'number_rows': 100,\n",
      " 'view': [{'coordinates': 'polar',\n",
      "           'mark': [{'encoding': [{'aggregate': 'count',\n",
      "                                   'channel': 'y',\n",
      "                                   'stack': 'zero'},\n",
      "                                  {'channel': 'color', 'field': 'condition'}],\n",
      "                     'type': 'bar'}],\n",
      "           'scale': [{'channel': 'y', 'type': 'linear', 'zero': 'true'},\n",
      "                     {'channel': 'color', 'type': 'categorical'}]}]}\n"
     ]
    }
   ],
   "source": [
    "facts = ['attribute(number_rows,root,100).',\n",
    " 'entity(field,root,temperature).',\n",
    " 'attribute((field,name),temperature,temperature).',\n",
    " 'attribute((field,type),temperature,number).',\n",
    " 'entity(field,root,condition).',\n",
    " 'attribute((field,name),condition,condition).',\n",
    " 'attribute((field,type),condition,string).',\n",
    " 'entity(view,root,0).',\n",
    " 'attribute((view,coordinates),0,polar).',\n",
    " 'entity(mark,0,1).',\n",
    " 'attribute((mark,type),1,bar).',\n",
    " 'entity(encoding,1,2).',\n",
    " 'attribute((encoding,channel),2,y).',\n",
    " 'attribute((encoding,aggregate),2,count).',\n",
    " 'attribute((encoding,stack),2,zero).',\n",
    " 'entity(encoding,1,3).',\n",
    " 'attribute((encoding,channel),3,color).',\n",
    " 'attribute((encoding,field),3,condition).',\n",
    " 'entity(scale,0,4).',\n",
    " 'attribute((scale,channel),4,y).',\n",
    " 'attribute((scale,type),4,linear).',\n",
    " 'attribute((scale,zero),4,true).',\n",
    " 'entity(scale,0,5).',\n",
    " 'attribute((scale,channel),5,color).',\n",
    " 'attribute((scale,type),5,categorical).']\n",
    "spec = facts_to_dict(facts)\n",
    "pprint(spec)"
   ]
  },
  {
   "cell_type": "code",
   "execution_count": 64,
   "metadata": {},
   "outputs": [
    {
     "name": "stdout",
     "output_type": "stream",
     "text": [
      "{'$schema': 'https://vega.github.io/schema/vega-lite/v4.17.0.json',\n",
      " 'config': {'view': {'continuousHeight': 300, 'continuousWidth': 400}},\n",
      " 'encoding': {'color': {'field': 'condition',\n",
      "                        'scale': {'type': 'ordinal'},\n",
      "                        'type': 'nominal'},\n",
      "              'theta': {'aggregate': 'count',\n",
      "                        'field': 'temperature',\n",
      "                        'scale': {'type': 'linear', 'zero': True},\n",
      "                        'stack': 'zero',\n",
      "                        'type': 'quantitative'}},\n",
      " 'mark': 'arc'}\n"
     ]
    },
    {
     "data": {
      "text/html": "\n<div id=\"altair-viz-8337a73857554884bde886f0b4ff5d9e\"></div>\n<script type=\"text/javascript\">\n  var VEGA_DEBUG = (typeof VEGA_DEBUG == \"undefined\") ? {} : VEGA_DEBUG;\n  (function(spec, embedOpt){\n    let outputDiv = document.currentScript.previousElementSibling;\n    if (outputDiv.id !== \"altair-viz-8337a73857554884bde886f0b4ff5d9e\") {\n      outputDiv = document.getElementById(\"altair-viz-8337a73857554884bde886f0b4ff5d9e\");\n    }\n    const paths = {\n      \"vega\": \"https://cdn.jsdelivr.net/npm//vega@5?noext\",\n      \"vega-lib\": \"https://cdn.jsdelivr.net/npm//vega-lib?noext\",\n      \"vega-lite\": \"https://cdn.jsdelivr.net/npm//vega-lite@4.17.0?noext\",\n      \"vega-embed\": \"https://cdn.jsdelivr.net/npm//vega-embed@6?noext\",\n    };\n\n    function maybeLoadScript(lib, version) {\n      var key = `${lib.replace(\"-\", \"\")}_version`;\n      return (VEGA_DEBUG[key] == version) ?\n        Promise.resolve(paths[lib]) :\n        new Promise(function(resolve, reject) {\n          var s = document.createElement('script');\n          document.getElementsByTagName(\"head\")[0].appendChild(s);\n          s.async = true;\n          s.onload = () => {\n            VEGA_DEBUG[key] = version;\n            return resolve(paths[lib]);\n          };\n          s.onerror = () => reject(`Error loading script: ${paths[lib]}`);\n          s.src = paths[lib];\n        });\n    }\n\n    function showError(err) {\n      outputDiv.innerHTML = `<div class=\"error\" style=\"color:red;\">${err}</div>`;\n      throw err;\n    }\n\n    function displayChart(vegaEmbed) {\n      vegaEmbed(outputDiv, spec, embedOpt)\n        .catch(err => showError(`Javascript Error: ${err.message}<br>This usually means there's a typo in your chart specification. See the javascript console for the full traceback.`));\n    }\n\n    if(typeof define === \"function\" && define.amd) {\n      requirejs.config({paths});\n      require([\"vega-embed\"], displayChart, err => showError(`Error loading script: ${err.message}`));\n    } else {\n      maybeLoadScript(\"vega\", \"5\")\n        .then(() => maybeLoadScript(\"vega-lite\", \"4.17.0\"))\n        .then(() => maybeLoadScript(\"vega-embed\", \"6\"))\n        .catch(showError)\n        .then(() => displayChart(vegaEmbed));\n    }\n  })({\"config\": {\"view\": {\"continuousWidth\": 400, \"continuousHeight\": 300}}, \"data\": {\"name\": \"data-80b0e930866eee6a77413fd6e0890a78\"}, \"mark\": \"arc\", \"encoding\": {\"color\": {\"field\": \"condition\", \"scale\": {\"type\": \"ordinal\"}, \"type\": \"nominal\"}, \"theta\": {\"aggregate\": \"count\", \"field\": \"temperature\", \"scale\": {\"type\": \"linear\", \"zero\": true}, \"stack\": \"zero\", \"type\": \"quantitative\"}}, \"$schema\": \"https://vega.github.io/schema/vega-lite/v4.17.0.json\", \"datasets\": {\"data-80b0e930866eee6a77413fd6e0890a78\": [{\"temperature\": 39.357871877508494, \"wind\": 11.562263885182233, \"precipitation\": 88.42051387921796, \"condition\": \"fog\"}, {\"temperature\": -5.947154608637572, \"wind\": 86.90701738497849, \"precipitation\": 70.55832915444152, \"condition\": \"rain\"}, {\"temperature\": 32.82765627853655, \"wind\": 97.65897402212389, \"precipitation\": 82.65511533530304, \"condition\": \"sun\"}, {\"temperature\": 17.525999106231197, \"wind\": 65.52797477069528, \"precipitation\": 53.86256526101837, \"condition\": \"snow\"}, {\"temperature\": -6.80882656934652, \"wind\": 37.03429394195952, \"precipitation\": 93.86525481254682, \"condition\": \"drizzle\"}, {\"temperature\": 42.35997285539091, \"wind\": 72.00671240950793, \"precipitation\": 40.6587905336316, \"condition\": \"sun\"}, {\"temperature\": 12.236046428620227, \"wind\": 24.35537864304579, \"precipitation\": 83.89080965364893, \"condition\": \"sun\"}, {\"temperature\": 42.8103257781665, \"wind\": 29.81101459268268, \"precipitation\": 71.55020159752638, \"condition\": \"sun\"}, {\"temperature\": 22.54392113778252, \"wind\": 96.88264927669367, \"precipitation\": 57.21207145158276, \"condition\": \"rain\"}, {\"temperature\": 22.503608231529917, \"wind\": 73.45718441223443, \"precipitation\": 18.48099480479052, \"condition\": \"fog\"}, {\"temperature\": 20.697023061259923, \"wind\": 78.8085781529467, \"precipitation\": 82.06153728611223, \"condition\": \"drizzle\"}, {\"temperature\": 25.290109397291054, \"wind\": 80.30649374788099, \"precipitation\": 22.36608661432985, \"condition\": \"sun\"}, {\"temperature\": 38.2799313550365, \"wind\": 67.47085587574028, \"precipitation\": 20.740111999310816, \"condition\": \"snow\"}, {\"temperature\": 3.6725463468113624, \"wind\": 1.0115541087158841, \"precipitation\": 18.15771285571497, \"condition\": \"fog\"}, {\"temperature\": 43.05607594953013, \"wind\": 60.68482719845524, \"precipitation\": 57.77089873340201, \"condition\": \"drizzle\"}, {\"temperature\": 32.26702695541979, \"wind\": 51.25287908408247, \"precipitation\": 82.37499650298116, \"condition\": \"sun\"}, {\"temperature\": 20.65470025342109, \"wind\": 17.357994382399223, \"precipitation\": 61.85803419037972, \"condition\": \"snow\"}, {\"temperature\": 7.591958649416281, \"wind\": 56.87567133218157, \"precipitation\": 63.83705679953054, \"condition\": \"drizzle\"}, {\"temperature\": 34.12588295742098, \"wind\": 53.49706318356736, \"precipitation\": 39.89871505509641, \"condition\": \"drizzle\"}, {\"temperature\": 43.35047614485006, \"wind\": 25.611854852857896, \"precipitation\": 80.36992353488051, \"condition\": \"sun\"}, {\"temperature\": -0.6670916465821719, \"wind\": 85.48944217634627, \"precipitation\": 74.19603252504737, \"condition\": \"fog\"}, {\"temperature\": 27.71533514546813, \"wind\": 92.40258299219964, \"precipitation\": 35.46329445299181, \"condition\": \"sun\"}, {\"temperature\": 42.990310063528334, \"wind\": 4.767210553938305, \"precipitation\": 78.84896594785124, \"condition\": \"drizzle\"}, {\"temperature\": 12.78024257419457, \"wind\": 70.42789298007587, \"precipitation\": 32.19857853159736, \"condition\": \"rain\"}, {\"temperature\": 12.345464511586698, \"wind\": 96.37504245663669, \"precipitation\": 58.32326475918834, \"condition\": \"drizzle\"}, {\"temperature\": 16.615985139736694, \"wind\": 79.42654814203834, \"precipitation\": 13.002687080260278, \"condition\": \"drizzle\"}, {\"temperature\": 37.42489242698708, \"wind\": 61.345695045120095, \"precipitation\": 43.77564041090408, \"condition\": \"rain\"}, {\"temperature\": 4.4803758908315565, \"wind\": 49.77522034422004, \"precipitation\": 50.69600709811043, \"condition\": \"drizzle\"}, {\"temperature\": 24.097652039323982, \"wind\": 8.979384326640405, \"precipitation\": 30.641954593528485, \"condition\": \"sun\"}, {\"temperature\": -5.322217743871135, \"wind\": 61.189346843944705, \"precipitation\": 31.593229557269186, \"condition\": \"snow\"}, {\"temperature\": 9.656575236136984, \"wind\": 2.1373906951494104, \"precipitation\": 57.5465193225844, \"condition\": \"rain\"}, {\"temperature\": 23.09003214094531, \"wind\": 16.8504340533028, \"precipitation\": 49.38199137777561, \"condition\": \"snow\"}, {\"temperature\": -0.8910674950475652, \"wind\": 67.4372389241753, \"precipitation\": 44.01373586297284, \"condition\": \"drizzle\"}, {\"temperature\": 38.77628981797657, \"wind\": 19.349109733319814, \"precipitation\": 18.478064234157422, \"condition\": \"snow\"}, {\"temperature\": 3.4205075380082093, \"wind\": 27.407919047755026, \"precipitation\": 32.84745237938085, \"condition\": \"fog\"}, {\"temperature\": -5.033320662096024, \"wind\": 94.25698462447689, \"precipitation\": 43.460229120490254, \"condition\": \"fog\"}, {\"temperature\": -9.971237977814939, \"wind\": 93.98073112476098, \"precipitation\": 74.78247080628827, \"condition\": \"sun\"}, {\"temperature\": 14.882883965973484, \"wind\": 24.785612027523594, \"precipitation\": 51.19773747140527, \"condition\": \"drizzle\"}, {\"temperature\": 14.018034425277474, \"wind\": 91.62717881393021, \"precipitation\": 99.49522416477019, \"condition\": \"sun\"}, {\"temperature\": 31.305982604448104, \"wind\": 40.90373869893349, \"precipitation\": 74.89298496286528, \"condition\": \"rain\"}, {\"temperature\": 30.610723278623702, \"wind\": 42.06017669565571, \"precipitation\": 69.67703870061514, \"condition\": \"snow\"}, {\"temperature\": 34.74664418075527, \"wind\": 38.58462817605697, \"precipitation\": 67.82787083848606, \"condition\": \"sun\"}, {\"temperature\": 8.120514857460222, \"wind\": 98.79896637292207, \"precipitation\": 21.126567495900296, \"condition\": \"drizzle\"}, {\"temperature\": 21.830015183550092, \"wind\": 22.1211872838582, \"precipitation\": 79.23266981302642, \"condition\": \"fog\"}, {\"temperature\": 37.98236222048335, \"wind\": 3.9308035344873593, \"precipitation\": 14.592671850934291, \"condition\": \"rain\"}, {\"temperature\": 25.958872120055887, \"wind\": 30.880613774748145, \"precipitation\": 81.56963648865039, \"condition\": \"rain\"}, {\"temperature\": 35.17236224867325, \"wind\": 31.08177020391971, \"precipitation\": 24.18647666653794, \"condition\": \"rain\"}, {\"temperature\": 33.364342578760876, \"wind\": 2.9246595809319653, \"precipitation\": 12.15848602978733, \"condition\": \"fog\"}, {\"temperature\": -3.5902835942627487, \"wind\": 86.99227504041556, \"precipitation\": 2.3639517923128017, \"condition\": \"drizzle\"}, {\"temperature\": 43.53091004081406, \"wind\": 70.60869224087214, \"precipitation\": 66.94726954818158, \"condition\": \"rain\"}, {\"temperature\": 1.8337888199719252, \"wind\": 75.06866321814911, \"precipitation\": 53.6891397098117, \"condition\": \"sun\"}, {\"temperature\": 43.47830583880354, \"wind\": 71.68689230524836, \"precipitation\": 31.73117090776013, \"condition\": \"sun\"}, {\"temperature\": 24.70816388894937, \"wind\": 68.30107169120795, \"precipitation\": 20.50225020747416, \"condition\": \"snow\"}, {\"temperature\": 16.05118379980134, \"wind\": 52.99782792799144, \"precipitation\": 11.69028728553364, \"condition\": \"fog\"}, {\"temperature\": 28.077076050276126, \"wind\": 24.843732657120764, \"precipitation\": 7.7565838958533195, \"condition\": \"fog\"}, {\"temperature\": 26.313211105376084, \"wind\": 45.03333651941402, \"precipitation\": 31.41227095201218, \"condition\": \"fog\"}, {\"temperature\": 25.47932407524442, \"wind\": 87.21604759710651, \"precipitation\": 13.96847689136137, \"condition\": \"snow\"}, {\"temperature\": 11.036706749946731, \"wind\": 33.86229598446234, \"precipitation\": 38.968294579117845, \"condition\": \"rain\"}, {\"temperature\": 0.8142265953456, \"wind\": 70.98507415296346, \"precipitation\": 19.273374312321256, \"condition\": \"drizzle\"}, {\"temperature\": 25.391354725358426, \"wind\": 68.9460480155243, \"precipitation\": 93.11546643206357, \"condition\": \"fog\"}, {\"temperature\": 27.7726958317102, \"wind\": 15.439482065514532, \"precipitation\": 5.293937143885552, \"condition\": \"sun\"}, {\"temperature\": 3.0547946822445873, \"wind\": 86.42755659056152, \"precipitation\": 2.624712873155066, \"condition\": \"rain\"}, {\"temperature\": 39.42369527658811, \"wind\": 47.39700920935881, \"precipitation\": 41.728060203985706, \"condition\": \"rain\"}, {\"temperature\": 31.616549252691705, \"wind\": 31.294073920356126, \"precipitation\": 61.66414511625905, \"condition\": \"snow\"}, {\"temperature\": 37.73472491414072, \"wind\": 56.11305268794269, \"precipitation\": 81.92111265208045, \"condition\": \"fog\"}, {\"temperature\": 29.412459474532355, \"wind\": 46.76189099995182, \"precipitation\": 32.17901910781431, \"condition\": \"snow\"}, {\"temperature\": -5.305474080741154, \"wind\": 16.51061166938045, \"precipitation\": 40.72674907868328, \"condition\": \"fog\"}, {\"temperature\": 28.248344335114005, \"wind\": 74.65204013977382, \"precipitation\": 8.992377726473755, \"condition\": \"drizzle\"}, {\"temperature\": 40.71245089747694, \"wind\": 60.52030820865206, \"precipitation\": 5.486289017174572, \"condition\": \"rain\"}, {\"temperature\": 1.2855687063133647, \"wind\": 47.74453362846665, \"precipitation\": 77.71039918592594, \"condition\": \"drizzle\"}, {\"temperature\": 13.997864573343104, \"wind\": 99.2063323267444, \"precipitation\": 14.897152160823302, \"condition\": \"drizzle\"}, {\"temperature\": 18.825549046465813, \"wind\": 96.7516586164724, \"precipitation\": 62.15480712924485, \"condition\": \"rain\"}, {\"temperature\": 17.102600135203243, \"wind\": 95.33201102579268, \"precipitation\": 1.76947633335095, \"condition\": \"rain\"}, {\"temperature\": 31.603226292108516, \"wind\": 80.1260277875885, \"precipitation\": 19.250819441340848, \"condition\": \"drizzle\"}, {\"temperature\": 7.272202684808242, \"wind\": 8.416568701596594, \"precipitation\": 24.486546883662086, \"condition\": \"drizzle\"}, {\"temperature\": 6.42450547762995, \"wind\": 39.273237823513206, \"precipitation\": 59.175511527387584, \"condition\": \"sun\"}, {\"temperature\": 0.37651709537109035, \"wind\": 94.77902759827063, \"precipitation\": 28.64474524803353, \"condition\": \"fog\"}, {\"temperature\": 29.418237348870328, \"wind\": 73.1637224142291, \"precipitation\": 36.384371127988594, \"condition\": \"fog\"}, {\"temperature\": 32.58410407316762, \"wind\": 23.572673866731876, \"precipitation\": 21.78686177609982, \"condition\": \"sun\"}, {\"temperature\": 40.58331555194774, \"wind\": 12.46579946692835, \"precipitation\": 33.052715046353775, \"condition\": \"fog\"}, {\"temperature\": 15.02270799243955, \"wind\": 23.521353082533057, \"precipitation\": 0.5866372551906918, \"condition\": \"rain\"}, {\"temperature\": -1.5856356202583797, \"wind\": 58.706439422107415, \"precipitation\": 23.69625533115679, \"condition\": \"fog\"}, {\"temperature\": 39.83846166807995, \"wind\": 7.925060993257304, \"precipitation\": 73.27745598517468, \"condition\": \"snow\"}, {\"temperature\": 30.25106478610541, \"wind\": 53.60474576386106, \"precipitation\": 76.63592895791527, \"condition\": \"sun\"}, {\"temperature\": 12.08528607254729, \"wind\": 11.679210728025568, \"precipitation\": 21.30987094861694, \"condition\": \"drizzle\"}, {\"temperature\": 20.103305307522167, \"wind\": 35.51132614216856, \"precipitation\": 99.11641742479553, \"condition\": \"snow\"}, {\"temperature\": 34.61293495454381, \"wind\": 16.44814913694985, \"precipitation\": 76.5788070641912, \"condition\": \"sun\"}, {\"temperature\": 5.3304368864748515, \"wind\": 11.488543420187414, \"precipitation\": 23.611522242446682, \"condition\": \"rain\"}, {\"temperature\": 10.624231316087673, \"wind\": 89.57677208906625, \"precipitation\": 17.901521820239154, \"condition\": \"rain\"}, {\"temperature\": 16.45869339879156, \"wind\": 82.14358903068431, \"precipitation\": 50.5274648107178, \"condition\": \"drizzle\"}, {\"temperature\": 30.4859555666389, \"wind\": 85.43429025210673, \"precipitation\": 99.7314407177562, \"condition\": \"sun\"}, {\"temperature\": -7.842697704519862, \"wind\": 20.10431994181, \"precipitation\": 8.499755604198123, \"condition\": \"drizzle\"}, {\"temperature\": 23.82197430970396, \"wind\": 30.71236264475776, \"precipitation\": 91.23232368725205, \"condition\": \"snow\"}, {\"temperature\": 43.63862559514364, \"wind\": 28.821660476932877, \"precipitation\": 99.71103207097889, \"condition\": \"fog\"}, {\"temperature\": 8.981532662882305, \"wind\": 35.921027372850865, \"precipitation\": 91.12082810014113, \"condition\": \"fog\"}, {\"temperature\": 26.077729266653087, \"wind\": 63.53612288999908, \"precipitation\": 90.09748712912719, \"condition\": \"sun\"}, {\"temperature\": 38.44181274295784, \"wind\": 71.99143401846956, \"precipitation\": 21.221688878355216, \"condition\": \"rain\"}, {\"temperature\": 34.78710550916185, \"wind\": 89.27467266301889, \"precipitation\": 41.1955282025937, \"condition\": \"sun\"}, {\"temperature\": -5.848035132361012, \"wind\": 57.23792962073, \"precipitation\": 64.23162970775795, \"condition\": \"rain\"}, {\"temperature\": 0.6933169720006127, \"wind\": 72.76756692493736, \"precipitation\": 62.223235261304524, \"condition\": \"drizzle\"}]}}, {\"mode\": \"vega-lite\"});\n</script>",
      "text/plain": "alt.Chart(...)"
     },
     "metadata": {},
     "output_type": "display_data"
    }
   ],
   "source": [
    "base = alt.Chart(df)\n",
    "arc = base.mark_arc().encode(\n",
    "    theta=alt.Theta(field='temperature', \n",
    "                    type='quantitative', \n",
    "                    aggregate='count',\n",
    "                    stack='zero',\n",
    "                    scale=alt.Scale(type='linear', zero=True)),\n",
    "    color=alt.Color(field='condition', \n",
    "                    type='nominal',\n",
    "                    scale=alt.Scale(type='ordinal')),\n",
    ")\n",
    "display_chart(arc)"
   ]
  },
  {
   "cell_type": "markdown",
   "metadata": {},
   "source": [
    "### Stacked Bar Chart"
   ]
  },
  {
   "cell_type": "code",
   "execution_count": 65,
   "metadata": {},
   "outputs": [
    {
     "name": "stdout",
     "output_type": "stream",
     "text": [
      "{'field': [{'name': 'temperature', 'type': 'number'},\n",
      "           {'name': 'condition', 'type': 'string'}],\n",
      " 'number_rows': 100,\n",
      " 'view': [{'mark': [{'encoding': [{'binning': 10,\n",
      "                                   'channel': 'x',\n",
      "                                   'field': 'temperature'},\n",
      "                                  {'aggregate': 'count',\n",
      "                                   'channel': 'y',\n",
      "                                   'stack': 'zero'},\n",
      "                                  {'channel': 'color', 'field': 'condition'}],\n",
      "                     'type': 'bar'}],\n",
      "           'scale': [{'channel': 'x', 'type': 'linear'},\n",
      "                     {'channel': 'y', 'type': 'linear', 'zero': 'true'},\n",
      "                     {'channel': 'color', 'type': 'categorical'}]}]}\n"
     ]
    }
   ],
   "source": [
    "facts = ['attribute(number_rows,root,100).',\n",
    " 'entity(field,root,temperature).',\n",
    " 'attribute((field,name),temperature,temperature).',\n",
    " 'attribute((field,type),temperature,number).',\n",
    " 'entity(field,root,condition).',\n",
    " 'attribute((field,name),condition,condition).',\n",
    " 'attribute((field,type),condition,string).',\n",
    " 'entity(view,root,0).',\n",
    " 'entity(mark,0,1).',\n",
    " 'attribute((mark,type),1,bar).',\n",
    " 'entity(encoding,1,2).',\n",
    " 'attribute((encoding,channel),2,x).',\n",
    " 'attribute((encoding,field),2,temperature).',\n",
    " 'attribute((encoding,binning),2,10).',\n",
    " 'entity(encoding,1,3).',\n",
    " 'attribute((encoding,channel),3,y).',\n",
    " 'attribute((encoding,aggregate),3,count).',\n",
    " 'attribute((encoding,stack),3,zero).',\n",
    " 'entity(encoding,1,4).',\n",
    " 'attribute((encoding,channel),4,color).',\n",
    " 'attribute((encoding,field),4,condition).',\n",
    " 'entity(scale,0,5).',\n",
    " 'attribute((scale,channel),5,x).',\n",
    " 'attribute((scale,type),5,linear).',\n",
    " 'entity(scale,0,6).',\n",
    " 'attribute((scale,channel),6,y).',\n",
    " 'attribute((scale,type),6,linear).',\n",
    " 'attribute((scale,zero),6,true).',\n",
    " 'entity(scale,0,7).',\n",
    " 'attribute((scale,channel),7,color).',\n",
    " 'attribute((scale,type),7,categorical).']\n",
    "spec = facts_to_dict(facts)\n",
    "pprint(spec)"
   ]
  },
  {
   "cell_type": "code",
   "execution_count": 66,
   "metadata": {},
   "outputs": [
    {
     "name": "stdout",
     "output_type": "stream",
     "text": [
      "{'$schema': 'https://vega.github.io/schema/vega-lite/v4.17.0.json',\n",
      " 'config': {'view': {'continuousHeight': 300, 'continuousWidth': 400}},\n",
      " 'encoding': {'color': {'field': 'condition', 'type': 'nominal'},\n",
      "              'x': {'bin': {'maxbins': 10},\n",
      "                    'field': 'temperature',\n",
      "                    'scale': {'type': 'linear'},\n",
      "                    'type': 'quantitative'},\n",
      "              'y': {'aggregate': 'count',\n",
      "                    'field': 'temperature',\n",
      "                    'scale': {'type': 'linear', 'zero': True},\n",
      "                    'stack': 'zero',\n",
      "                    'type': 'quantitative'}},\n",
      " 'mark': 'bar'}\n"
     ]
    },
    {
     "data": {
      "text/html": "\n<div id=\"altair-viz-16b1ddd1affe4b14b3390db498549adc\"></div>\n<script type=\"text/javascript\">\n  var VEGA_DEBUG = (typeof VEGA_DEBUG == \"undefined\") ? {} : VEGA_DEBUG;\n  (function(spec, embedOpt){\n    let outputDiv = document.currentScript.previousElementSibling;\n    if (outputDiv.id !== \"altair-viz-16b1ddd1affe4b14b3390db498549adc\") {\n      outputDiv = document.getElementById(\"altair-viz-16b1ddd1affe4b14b3390db498549adc\");\n    }\n    const paths = {\n      \"vega\": \"https://cdn.jsdelivr.net/npm//vega@5?noext\",\n      \"vega-lib\": \"https://cdn.jsdelivr.net/npm//vega-lib?noext\",\n      \"vega-lite\": \"https://cdn.jsdelivr.net/npm//vega-lite@4.17.0?noext\",\n      \"vega-embed\": \"https://cdn.jsdelivr.net/npm//vega-embed@6?noext\",\n    };\n\n    function maybeLoadScript(lib, version) {\n      var key = `${lib.replace(\"-\", \"\")}_version`;\n      return (VEGA_DEBUG[key] == version) ?\n        Promise.resolve(paths[lib]) :\n        new Promise(function(resolve, reject) {\n          var s = document.createElement('script');\n          document.getElementsByTagName(\"head\")[0].appendChild(s);\n          s.async = true;\n          s.onload = () => {\n            VEGA_DEBUG[key] = version;\n            return resolve(paths[lib]);\n          };\n          s.onerror = () => reject(`Error loading script: ${paths[lib]}`);\n          s.src = paths[lib];\n        });\n    }\n\n    function showError(err) {\n      outputDiv.innerHTML = `<div class=\"error\" style=\"color:red;\">${err}</div>`;\n      throw err;\n    }\n\n    function displayChart(vegaEmbed) {\n      vegaEmbed(outputDiv, spec, embedOpt)\n        .catch(err => showError(`Javascript Error: ${err.message}<br>This usually means there's a typo in your chart specification. See the javascript console for the full traceback.`));\n    }\n\n    if(typeof define === \"function\" && define.amd) {\n      requirejs.config({paths});\n      require([\"vega-embed\"], displayChart, err => showError(`Error loading script: ${err.message}`));\n    } else {\n      maybeLoadScript(\"vega\", \"5\")\n        .then(() => maybeLoadScript(\"vega-lite\", \"4.17.0\"))\n        .then(() => maybeLoadScript(\"vega-embed\", \"6\"))\n        .catch(showError)\n        .then(() => displayChart(vegaEmbed));\n    }\n  })({\"config\": {\"view\": {\"continuousWidth\": 400, \"continuousHeight\": 300}}, \"data\": {\"name\": \"data-80b0e930866eee6a77413fd6e0890a78\"}, \"mark\": \"bar\", \"encoding\": {\"color\": {\"field\": \"condition\", \"type\": \"nominal\"}, \"x\": {\"bin\": {\"maxbins\": 10}, \"field\": \"temperature\", \"scale\": {\"type\": \"linear\"}, \"type\": \"quantitative\"}, \"y\": {\"aggregate\": \"count\", \"field\": \"temperature\", \"scale\": {\"type\": \"linear\", \"zero\": true}, \"stack\": \"zero\", \"type\": \"quantitative\"}}, \"$schema\": \"https://vega.github.io/schema/vega-lite/v4.17.0.json\", \"datasets\": {\"data-80b0e930866eee6a77413fd6e0890a78\": [{\"temperature\": 39.357871877508494, \"wind\": 11.562263885182233, \"precipitation\": 88.42051387921796, \"condition\": \"fog\"}, {\"temperature\": -5.947154608637572, \"wind\": 86.90701738497849, \"precipitation\": 70.55832915444152, \"condition\": \"rain\"}, {\"temperature\": 32.82765627853655, \"wind\": 97.65897402212389, \"precipitation\": 82.65511533530304, \"condition\": \"sun\"}, {\"temperature\": 17.525999106231197, \"wind\": 65.52797477069528, \"precipitation\": 53.86256526101837, \"condition\": \"snow\"}, {\"temperature\": -6.80882656934652, \"wind\": 37.03429394195952, \"precipitation\": 93.86525481254682, \"condition\": \"drizzle\"}, {\"temperature\": 42.35997285539091, \"wind\": 72.00671240950793, \"precipitation\": 40.6587905336316, \"condition\": \"sun\"}, {\"temperature\": 12.236046428620227, \"wind\": 24.35537864304579, \"precipitation\": 83.89080965364893, \"condition\": \"sun\"}, {\"temperature\": 42.8103257781665, \"wind\": 29.81101459268268, \"precipitation\": 71.55020159752638, \"condition\": \"sun\"}, {\"temperature\": 22.54392113778252, \"wind\": 96.88264927669367, \"precipitation\": 57.21207145158276, \"condition\": \"rain\"}, {\"temperature\": 22.503608231529917, \"wind\": 73.45718441223443, \"precipitation\": 18.48099480479052, \"condition\": \"fog\"}, {\"temperature\": 20.697023061259923, \"wind\": 78.8085781529467, \"precipitation\": 82.06153728611223, \"condition\": \"drizzle\"}, {\"temperature\": 25.290109397291054, \"wind\": 80.30649374788099, \"precipitation\": 22.36608661432985, \"condition\": \"sun\"}, {\"temperature\": 38.2799313550365, \"wind\": 67.47085587574028, \"precipitation\": 20.740111999310816, \"condition\": \"snow\"}, {\"temperature\": 3.6725463468113624, \"wind\": 1.0115541087158841, \"precipitation\": 18.15771285571497, \"condition\": \"fog\"}, {\"temperature\": 43.05607594953013, \"wind\": 60.68482719845524, \"precipitation\": 57.77089873340201, \"condition\": \"drizzle\"}, {\"temperature\": 32.26702695541979, \"wind\": 51.25287908408247, \"precipitation\": 82.37499650298116, \"condition\": \"sun\"}, {\"temperature\": 20.65470025342109, \"wind\": 17.357994382399223, \"precipitation\": 61.85803419037972, \"condition\": \"snow\"}, {\"temperature\": 7.591958649416281, \"wind\": 56.87567133218157, \"precipitation\": 63.83705679953054, \"condition\": \"drizzle\"}, {\"temperature\": 34.12588295742098, \"wind\": 53.49706318356736, \"precipitation\": 39.89871505509641, \"condition\": \"drizzle\"}, {\"temperature\": 43.35047614485006, \"wind\": 25.611854852857896, \"precipitation\": 80.36992353488051, \"condition\": \"sun\"}, {\"temperature\": -0.6670916465821719, \"wind\": 85.48944217634627, \"precipitation\": 74.19603252504737, \"condition\": \"fog\"}, {\"temperature\": 27.71533514546813, \"wind\": 92.40258299219964, \"precipitation\": 35.46329445299181, \"condition\": \"sun\"}, {\"temperature\": 42.990310063528334, \"wind\": 4.767210553938305, \"precipitation\": 78.84896594785124, \"condition\": \"drizzle\"}, {\"temperature\": 12.78024257419457, \"wind\": 70.42789298007587, \"precipitation\": 32.19857853159736, \"condition\": \"rain\"}, {\"temperature\": 12.345464511586698, \"wind\": 96.37504245663669, \"precipitation\": 58.32326475918834, \"condition\": \"drizzle\"}, {\"temperature\": 16.615985139736694, \"wind\": 79.42654814203834, \"precipitation\": 13.002687080260278, \"condition\": \"drizzle\"}, {\"temperature\": 37.42489242698708, \"wind\": 61.345695045120095, \"precipitation\": 43.77564041090408, \"condition\": \"rain\"}, {\"temperature\": 4.4803758908315565, \"wind\": 49.77522034422004, \"precipitation\": 50.69600709811043, \"condition\": \"drizzle\"}, {\"temperature\": 24.097652039323982, \"wind\": 8.979384326640405, \"precipitation\": 30.641954593528485, \"condition\": \"sun\"}, {\"temperature\": -5.322217743871135, \"wind\": 61.189346843944705, \"precipitation\": 31.593229557269186, \"condition\": \"snow\"}, {\"temperature\": 9.656575236136984, \"wind\": 2.1373906951494104, \"precipitation\": 57.5465193225844, \"condition\": \"rain\"}, {\"temperature\": 23.09003214094531, \"wind\": 16.8504340533028, \"precipitation\": 49.38199137777561, \"condition\": \"snow\"}, {\"temperature\": -0.8910674950475652, \"wind\": 67.4372389241753, \"precipitation\": 44.01373586297284, \"condition\": \"drizzle\"}, {\"temperature\": 38.77628981797657, \"wind\": 19.349109733319814, \"precipitation\": 18.478064234157422, \"condition\": \"snow\"}, {\"temperature\": 3.4205075380082093, \"wind\": 27.407919047755026, \"precipitation\": 32.84745237938085, \"condition\": \"fog\"}, {\"temperature\": -5.033320662096024, \"wind\": 94.25698462447689, \"precipitation\": 43.460229120490254, \"condition\": \"fog\"}, {\"temperature\": -9.971237977814939, \"wind\": 93.98073112476098, \"precipitation\": 74.78247080628827, \"condition\": \"sun\"}, {\"temperature\": 14.882883965973484, \"wind\": 24.785612027523594, \"precipitation\": 51.19773747140527, \"condition\": \"drizzle\"}, {\"temperature\": 14.018034425277474, \"wind\": 91.62717881393021, \"precipitation\": 99.49522416477019, \"condition\": \"sun\"}, {\"temperature\": 31.305982604448104, \"wind\": 40.90373869893349, \"precipitation\": 74.89298496286528, \"condition\": \"rain\"}, {\"temperature\": 30.610723278623702, \"wind\": 42.06017669565571, \"precipitation\": 69.67703870061514, \"condition\": \"snow\"}, {\"temperature\": 34.74664418075527, \"wind\": 38.58462817605697, \"precipitation\": 67.82787083848606, \"condition\": \"sun\"}, {\"temperature\": 8.120514857460222, \"wind\": 98.79896637292207, \"precipitation\": 21.126567495900296, \"condition\": \"drizzle\"}, {\"temperature\": 21.830015183550092, \"wind\": 22.1211872838582, \"precipitation\": 79.23266981302642, \"condition\": \"fog\"}, {\"temperature\": 37.98236222048335, \"wind\": 3.9308035344873593, \"precipitation\": 14.592671850934291, \"condition\": \"rain\"}, {\"temperature\": 25.958872120055887, \"wind\": 30.880613774748145, \"precipitation\": 81.56963648865039, \"condition\": \"rain\"}, {\"temperature\": 35.17236224867325, \"wind\": 31.08177020391971, \"precipitation\": 24.18647666653794, \"condition\": \"rain\"}, {\"temperature\": 33.364342578760876, \"wind\": 2.9246595809319653, \"precipitation\": 12.15848602978733, \"condition\": \"fog\"}, {\"temperature\": -3.5902835942627487, \"wind\": 86.99227504041556, \"precipitation\": 2.3639517923128017, \"condition\": \"drizzle\"}, {\"temperature\": 43.53091004081406, \"wind\": 70.60869224087214, \"precipitation\": 66.94726954818158, \"condition\": \"rain\"}, {\"temperature\": 1.8337888199719252, \"wind\": 75.06866321814911, \"precipitation\": 53.6891397098117, \"condition\": \"sun\"}, {\"temperature\": 43.47830583880354, \"wind\": 71.68689230524836, \"precipitation\": 31.73117090776013, \"condition\": \"sun\"}, {\"temperature\": 24.70816388894937, \"wind\": 68.30107169120795, \"precipitation\": 20.50225020747416, \"condition\": \"snow\"}, {\"temperature\": 16.05118379980134, \"wind\": 52.99782792799144, \"precipitation\": 11.69028728553364, \"condition\": \"fog\"}, {\"temperature\": 28.077076050276126, \"wind\": 24.843732657120764, \"precipitation\": 7.7565838958533195, \"condition\": \"fog\"}, {\"temperature\": 26.313211105376084, \"wind\": 45.03333651941402, \"precipitation\": 31.41227095201218, \"condition\": \"fog\"}, {\"temperature\": 25.47932407524442, \"wind\": 87.21604759710651, \"precipitation\": 13.96847689136137, \"condition\": \"snow\"}, {\"temperature\": 11.036706749946731, \"wind\": 33.86229598446234, \"precipitation\": 38.968294579117845, \"condition\": \"rain\"}, {\"temperature\": 0.8142265953456, \"wind\": 70.98507415296346, \"precipitation\": 19.273374312321256, \"condition\": \"drizzle\"}, {\"temperature\": 25.391354725358426, \"wind\": 68.9460480155243, \"precipitation\": 93.11546643206357, \"condition\": \"fog\"}, {\"temperature\": 27.7726958317102, \"wind\": 15.439482065514532, \"precipitation\": 5.293937143885552, \"condition\": \"sun\"}, {\"temperature\": 3.0547946822445873, \"wind\": 86.42755659056152, \"precipitation\": 2.624712873155066, \"condition\": \"rain\"}, {\"temperature\": 39.42369527658811, \"wind\": 47.39700920935881, \"precipitation\": 41.728060203985706, \"condition\": \"rain\"}, {\"temperature\": 31.616549252691705, \"wind\": 31.294073920356126, \"precipitation\": 61.66414511625905, \"condition\": \"snow\"}, {\"temperature\": 37.73472491414072, \"wind\": 56.11305268794269, \"precipitation\": 81.92111265208045, \"condition\": \"fog\"}, {\"temperature\": 29.412459474532355, \"wind\": 46.76189099995182, \"precipitation\": 32.17901910781431, \"condition\": \"snow\"}, {\"temperature\": -5.305474080741154, \"wind\": 16.51061166938045, \"precipitation\": 40.72674907868328, \"condition\": \"fog\"}, {\"temperature\": 28.248344335114005, \"wind\": 74.65204013977382, \"precipitation\": 8.992377726473755, \"condition\": \"drizzle\"}, {\"temperature\": 40.71245089747694, \"wind\": 60.52030820865206, \"precipitation\": 5.486289017174572, \"condition\": \"rain\"}, {\"temperature\": 1.2855687063133647, \"wind\": 47.74453362846665, \"precipitation\": 77.71039918592594, \"condition\": \"drizzle\"}, {\"temperature\": 13.997864573343104, \"wind\": 99.2063323267444, \"precipitation\": 14.897152160823302, \"condition\": \"drizzle\"}, {\"temperature\": 18.825549046465813, \"wind\": 96.7516586164724, \"precipitation\": 62.15480712924485, \"condition\": \"rain\"}, {\"temperature\": 17.102600135203243, \"wind\": 95.33201102579268, \"precipitation\": 1.76947633335095, \"condition\": \"rain\"}, {\"temperature\": 31.603226292108516, \"wind\": 80.1260277875885, \"precipitation\": 19.250819441340848, \"condition\": \"drizzle\"}, {\"temperature\": 7.272202684808242, \"wind\": 8.416568701596594, \"precipitation\": 24.486546883662086, \"condition\": \"drizzle\"}, {\"temperature\": 6.42450547762995, \"wind\": 39.273237823513206, \"precipitation\": 59.175511527387584, \"condition\": \"sun\"}, {\"temperature\": 0.37651709537109035, \"wind\": 94.77902759827063, \"precipitation\": 28.64474524803353, \"condition\": \"fog\"}, {\"temperature\": 29.418237348870328, \"wind\": 73.1637224142291, \"precipitation\": 36.384371127988594, \"condition\": \"fog\"}, {\"temperature\": 32.58410407316762, \"wind\": 23.572673866731876, \"precipitation\": 21.78686177609982, \"condition\": \"sun\"}, {\"temperature\": 40.58331555194774, \"wind\": 12.46579946692835, \"precipitation\": 33.052715046353775, \"condition\": \"fog\"}, {\"temperature\": 15.02270799243955, \"wind\": 23.521353082533057, \"precipitation\": 0.5866372551906918, \"condition\": \"rain\"}, {\"temperature\": -1.5856356202583797, \"wind\": 58.706439422107415, \"precipitation\": 23.69625533115679, \"condition\": \"fog\"}, {\"temperature\": 39.83846166807995, \"wind\": 7.925060993257304, \"precipitation\": 73.27745598517468, \"condition\": \"snow\"}, {\"temperature\": 30.25106478610541, \"wind\": 53.60474576386106, \"precipitation\": 76.63592895791527, \"condition\": \"sun\"}, {\"temperature\": 12.08528607254729, \"wind\": 11.679210728025568, \"precipitation\": 21.30987094861694, \"condition\": \"drizzle\"}, {\"temperature\": 20.103305307522167, \"wind\": 35.51132614216856, \"precipitation\": 99.11641742479553, \"condition\": \"snow\"}, {\"temperature\": 34.61293495454381, \"wind\": 16.44814913694985, \"precipitation\": 76.5788070641912, \"condition\": \"sun\"}, {\"temperature\": 5.3304368864748515, \"wind\": 11.488543420187414, \"precipitation\": 23.611522242446682, \"condition\": \"rain\"}, {\"temperature\": 10.624231316087673, \"wind\": 89.57677208906625, \"precipitation\": 17.901521820239154, \"condition\": \"rain\"}, {\"temperature\": 16.45869339879156, \"wind\": 82.14358903068431, \"precipitation\": 50.5274648107178, \"condition\": \"drizzle\"}, {\"temperature\": 30.4859555666389, \"wind\": 85.43429025210673, \"precipitation\": 99.7314407177562, \"condition\": \"sun\"}, {\"temperature\": -7.842697704519862, \"wind\": 20.10431994181, \"precipitation\": 8.499755604198123, \"condition\": \"drizzle\"}, {\"temperature\": 23.82197430970396, \"wind\": 30.71236264475776, \"precipitation\": 91.23232368725205, \"condition\": \"snow\"}, {\"temperature\": 43.63862559514364, \"wind\": 28.821660476932877, \"precipitation\": 99.71103207097889, \"condition\": \"fog\"}, {\"temperature\": 8.981532662882305, \"wind\": 35.921027372850865, \"precipitation\": 91.12082810014113, \"condition\": \"fog\"}, {\"temperature\": 26.077729266653087, \"wind\": 63.53612288999908, \"precipitation\": 90.09748712912719, \"condition\": \"sun\"}, {\"temperature\": 38.44181274295784, \"wind\": 71.99143401846956, \"precipitation\": 21.221688878355216, \"condition\": \"rain\"}, {\"temperature\": 34.78710550916185, \"wind\": 89.27467266301889, \"precipitation\": 41.1955282025937, \"condition\": \"sun\"}, {\"temperature\": -5.848035132361012, \"wind\": 57.23792962073, \"precipitation\": 64.23162970775795, \"condition\": \"rain\"}, {\"temperature\": 0.6933169720006127, \"wind\": 72.76756692493736, \"precipitation\": 62.223235261304524, \"condition\": \"drizzle\"}]}}, {\"mode\": \"vega-lite\"});\n</script>",
      "text/plain": "alt.Chart(...)"
     },
     "metadata": {},
     "output_type": "display_data"
    }
   ],
   "source": [
    "base = alt.Chart(df)\n",
    "bar = base.mark_bar().encode(\n",
    "    x=alt.X(field='temperature', \n",
    "            type='quantitative',\n",
    "            bin=alt.Bin(maxbins=10),\n",
    "            scale=alt.Scale(type='linear')),\n",
    "    y=alt.Y(field='temperature', \n",
    "            type='quantitative', \n",
    "            aggregate='count',\n",
    "            stack='zero',\n",
    "            scale=alt.Scale(type='linear', zero=True)),\n",
    "    color=alt.Color(field='condition', type='nominal')\n",
    ")\n",
    "display_chart(bar)"
   ]
  },
  {
   "cell_type": "markdown",
   "metadata": {},
   "source": [
    "### Normalized (Percentage) Stacked Bar Chart"
   ]
  },
  {
   "cell_type": "code",
   "execution_count": 67,
   "metadata": {},
   "outputs": [
    {
     "name": "stdout",
     "output_type": "stream",
     "text": [
      "{'field': [{'name': 'temperature', 'type': 'number'},\n",
      "           {'name': 'condition', 'type': 'string'}],\n",
      " 'number_rows': 100,\n",
      " 'view': [{'mark': [{'encoding': [{'aggregate': 'count',\n",
      "                                   'channel': 'x',\n",
      "                                   'stack': 'normalize'},\n",
      "                                  {'binning': 10,\n",
      "                                   'channel': 'y',\n",
      "                                   'field': 'temperature'},\n",
      "                                  {'channel': 'color', 'field': 'condition'}],\n",
      "                     'type': 'bar'}],\n",
      "           'scale': [{'channel': 'x', 'type': 'linear', 'zero': 'true'},\n",
      "                     {'channel': 'y', 'type': 'linear'},\n",
      "                     {'channel': 'color', 'type': 'categorical'}]}]}\n"
     ]
    }
   ],
   "source": [
    "facts = ['attribute(number_rows,root,100).',\n",
    " 'entity(field,root,temperature).',\n",
    " 'attribute((field,name),temperature,temperature).',\n",
    " 'attribute((field,type),temperature,number).',\n",
    " 'entity(field,root,condition).',\n",
    " 'attribute((field,name),condition,condition).',\n",
    " 'attribute((field,type),condition,string).',\n",
    " 'entity(view,root,0).',\n",
    " 'entity(mark,0,1).',\n",
    " 'attribute((mark,type),1,bar).',\n",
    " 'entity(encoding,1,2).',\n",
    " 'attribute((encoding,channel),2,x).',\n",
    " 'attribute((encoding,aggregate),2,count).',\n",
    " 'attribute((encoding,stack),2,normalize).',\n",
    " 'entity(encoding,1,3).',\n",
    " 'attribute((encoding,channel),3,y).',\n",
    " 'attribute((encoding,field),3,temperature).',\n",
    " 'attribute((encoding,binning),3,10).',\n",
    " 'entity(encoding,1,4).',\n",
    " 'attribute((encoding,channel),4,color).',\n",
    " 'attribute((encoding,field),4,condition).',\n",
    " 'entity(scale,0,5).',\n",
    " 'attribute((scale,channel),5,x).',\n",
    " 'attribute((scale,type),5,linear).',\n",
    " 'attribute((scale,zero),5,true).',\n",
    " 'entity(scale,0,6).',\n",
    " 'attribute((scale,channel),6,y).',\n",
    " 'attribute((scale,type),6,linear).',\n",
    " 'entity(scale,0,7).',\n",
    " 'attribute((scale,channel),7,color).',\n",
    " 'attribute((scale,type),7,categorical).']\n",
    "spec = facts_to_dict(facts)\n",
    "pprint(spec)"
   ]
  },
  {
   "cell_type": "code",
   "execution_count": 68,
   "metadata": {},
   "outputs": [
    {
     "name": "stdout",
     "output_type": "stream",
     "text": [
      "{'$schema': 'https://vega.github.io/schema/vega-lite/v4.17.0.json',\n",
      " 'config': {'view': {'continuousHeight': 300, 'continuousWidth': 400}},\n",
      " 'encoding': {'color': {'field': 'condition', 'type': 'nominal'},\n",
      "              'x': {'aggregate': 'count',\n",
      "                    'field': 'temperature',\n",
      "                    'scale': {'type': 'linear', 'zero': True},\n",
      "                    'stack': 'normalize',\n",
      "                    'type': 'quantitative'},\n",
      "              'y': {'bin': {'maxbins': 10},\n",
      "                    'field': 'temperature',\n",
      "                    'scale': {'type': 'linear'},\n",
      "                    'type': 'quantitative'}},\n",
      " 'mark': 'bar'}\n"
     ]
    },
    {
     "data": {
      "text/html": "\n<div id=\"altair-viz-4db93f1b4e984d7b94ea30da5525e286\"></div>\n<script type=\"text/javascript\">\n  var VEGA_DEBUG = (typeof VEGA_DEBUG == \"undefined\") ? {} : VEGA_DEBUG;\n  (function(spec, embedOpt){\n    let outputDiv = document.currentScript.previousElementSibling;\n    if (outputDiv.id !== \"altair-viz-4db93f1b4e984d7b94ea30da5525e286\") {\n      outputDiv = document.getElementById(\"altair-viz-4db93f1b4e984d7b94ea30da5525e286\");\n    }\n    const paths = {\n      \"vega\": \"https://cdn.jsdelivr.net/npm//vega@5?noext\",\n      \"vega-lib\": \"https://cdn.jsdelivr.net/npm//vega-lib?noext\",\n      \"vega-lite\": \"https://cdn.jsdelivr.net/npm//vega-lite@4.17.0?noext\",\n      \"vega-embed\": \"https://cdn.jsdelivr.net/npm//vega-embed@6?noext\",\n    };\n\n    function maybeLoadScript(lib, version) {\n      var key = `${lib.replace(\"-\", \"\")}_version`;\n      return (VEGA_DEBUG[key] == version) ?\n        Promise.resolve(paths[lib]) :\n        new Promise(function(resolve, reject) {\n          var s = document.createElement('script');\n          document.getElementsByTagName(\"head\")[0].appendChild(s);\n          s.async = true;\n          s.onload = () => {\n            VEGA_DEBUG[key] = version;\n            return resolve(paths[lib]);\n          };\n          s.onerror = () => reject(`Error loading script: ${paths[lib]}`);\n          s.src = paths[lib];\n        });\n    }\n\n    function showError(err) {\n      outputDiv.innerHTML = `<div class=\"error\" style=\"color:red;\">${err}</div>`;\n      throw err;\n    }\n\n    function displayChart(vegaEmbed) {\n      vegaEmbed(outputDiv, spec, embedOpt)\n        .catch(err => showError(`Javascript Error: ${err.message}<br>This usually means there's a typo in your chart specification. See the javascript console for the full traceback.`));\n    }\n\n    if(typeof define === \"function\" && define.amd) {\n      requirejs.config({paths});\n      require([\"vega-embed\"], displayChart, err => showError(`Error loading script: ${err.message}`));\n    } else {\n      maybeLoadScript(\"vega\", \"5\")\n        .then(() => maybeLoadScript(\"vega-lite\", \"4.17.0\"))\n        .then(() => maybeLoadScript(\"vega-embed\", \"6\"))\n        .catch(showError)\n        .then(() => displayChart(vegaEmbed));\n    }\n  })({\"config\": {\"view\": {\"continuousWidth\": 400, \"continuousHeight\": 300}}, \"data\": {\"name\": \"data-80b0e930866eee6a77413fd6e0890a78\"}, \"mark\": \"bar\", \"encoding\": {\"color\": {\"field\": \"condition\", \"type\": \"nominal\"}, \"x\": {\"aggregate\": \"count\", \"field\": \"temperature\", \"scale\": {\"type\": \"linear\", \"zero\": true}, \"stack\": \"normalize\", \"type\": \"quantitative\"}, \"y\": {\"bin\": {\"maxbins\": 10}, \"field\": \"temperature\", \"scale\": {\"type\": \"linear\"}, \"type\": \"quantitative\"}}, \"$schema\": \"https://vega.github.io/schema/vega-lite/v4.17.0.json\", \"datasets\": {\"data-80b0e930866eee6a77413fd6e0890a78\": [{\"temperature\": 39.357871877508494, \"wind\": 11.562263885182233, \"precipitation\": 88.42051387921796, \"condition\": \"fog\"}, {\"temperature\": -5.947154608637572, \"wind\": 86.90701738497849, \"precipitation\": 70.55832915444152, \"condition\": \"rain\"}, {\"temperature\": 32.82765627853655, \"wind\": 97.65897402212389, \"precipitation\": 82.65511533530304, \"condition\": \"sun\"}, {\"temperature\": 17.525999106231197, \"wind\": 65.52797477069528, \"precipitation\": 53.86256526101837, \"condition\": \"snow\"}, {\"temperature\": -6.80882656934652, \"wind\": 37.03429394195952, \"precipitation\": 93.86525481254682, \"condition\": \"drizzle\"}, {\"temperature\": 42.35997285539091, \"wind\": 72.00671240950793, \"precipitation\": 40.6587905336316, \"condition\": \"sun\"}, {\"temperature\": 12.236046428620227, \"wind\": 24.35537864304579, \"precipitation\": 83.89080965364893, \"condition\": \"sun\"}, {\"temperature\": 42.8103257781665, \"wind\": 29.81101459268268, \"precipitation\": 71.55020159752638, \"condition\": \"sun\"}, {\"temperature\": 22.54392113778252, \"wind\": 96.88264927669367, \"precipitation\": 57.21207145158276, \"condition\": \"rain\"}, {\"temperature\": 22.503608231529917, \"wind\": 73.45718441223443, \"precipitation\": 18.48099480479052, \"condition\": \"fog\"}, {\"temperature\": 20.697023061259923, \"wind\": 78.8085781529467, \"precipitation\": 82.06153728611223, \"condition\": \"drizzle\"}, {\"temperature\": 25.290109397291054, \"wind\": 80.30649374788099, \"precipitation\": 22.36608661432985, \"condition\": \"sun\"}, {\"temperature\": 38.2799313550365, \"wind\": 67.47085587574028, \"precipitation\": 20.740111999310816, \"condition\": \"snow\"}, {\"temperature\": 3.6725463468113624, \"wind\": 1.0115541087158841, \"precipitation\": 18.15771285571497, \"condition\": \"fog\"}, {\"temperature\": 43.05607594953013, \"wind\": 60.68482719845524, \"precipitation\": 57.77089873340201, \"condition\": \"drizzle\"}, {\"temperature\": 32.26702695541979, \"wind\": 51.25287908408247, \"precipitation\": 82.37499650298116, \"condition\": \"sun\"}, {\"temperature\": 20.65470025342109, \"wind\": 17.357994382399223, \"precipitation\": 61.85803419037972, \"condition\": \"snow\"}, {\"temperature\": 7.591958649416281, \"wind\": 56.87567133218157, \"precipitation\": 63.83705679953054, \"condition\": \"drizzle\"}, {\"temperature\": 34.12588295742098, \"wind\": 53.49706318356736, \"precipitation\": 39.89871505509641, \"condition\": \"drizzle\"}, {\"temperature\": 43.35047614485006, \"wind\": 25.611854852857896, \"precipitation\": 80.36992353488051, \"condition\": \"sun\"}, {\"temperature\": -0.6670916465821719, \"wind\": 85.48944217634627, \"precipitation\": 74.19603252504737, \"condition\": \"fog\"}, {\"temperature\": 27.71533514546813, \"wind\": 92.40258299219964, \"precipitation\": 35.46329445299181, \"condition\": \"sun\"}, {\"temperature\": 42.990310063528334, \"wind\": 4.767210553938305, \"precipitation\": 78.84896594785124, \"condition\": \"drizzle\"}, {\"temperature\": 12.78024257419457, \"wind\": 70.42789298007587, \"precipitation\": 32.19857853159736, \"condition\": \"rain\"}, {\"temperature\": 12.345464511586698, \"wind\": 96.37504245663669, \"precipitation\": 58.32326475918834, \"condition\": \"drizzle\"}, {\"temperature\": 16.615985139736694, \"wind\": 79.42654814203834, \"precipitation\": 13.002687080260278, \"condition\": \"drizzle\"}, {\"temperature\": 37.42489242698708, \"wind\": 61.345695045120095, \"precipitation\": 43.77564041090408, \"condition\": \"rain\"}, {\"temperature\": 4.4803758908315565, \"wind\": 49.77522034422004, \"precipitation\": 50.69600709811043, \"condition\": \"drizzle\"}, {\"temperature\": 24.097652039323982, \"wind\": 8.979384326640405, \"precipitation\": 30.641954593528485, \"condition\": \"sun\"}, {\"temperature\": -5.322217743871135, \"wind\": 61.189346843944705, \"precipitation\": 31.593229557269186, \"condition\": \"snow\"}, {\"temperature\": 9.656575236136984, \"wind\": 2.1373906951494104, \"precipitation\": 57.5465193225844, \"condition\": \"rain\"}, {\"temperature\": 23.09003214094531, \"wind\": 16.8504340533028, \"precipitation\": 49.38199137777561, \"condition\": \"snow\"}, {\"temperature\": -0.8910674950475652, \"wind\": 67.4372389241753, \"precipitation\": 44.01373586297284, \"condition\": \"drizzle\"}, {\"temperature\": 38.77628981797657, \"wind\": 19.349109733319814, \"precipitation\": 18.478064234157422, \"condition\": \"snow\"}, {\"temperature\": 3.4205075380082093, \"wind\": 27.407919047755026, \"precipitation\": 32.84745237938085, \"condition\": \"fog\"}, {\"temperature\": -5.033320662096024, \"wind\": 94.25698462447689, \"precipitation\": 43.460229120490254, \"condition\": \"fog\"}, {\"temperature\": -9.971237977814939, \"wind\": 93.98073112476098, \"precipitation\": 74.78247080628827, \"condition\": \"sun\"}, {\"temperature\": 14.882883965973484, \"wind\": 24.785612027523594, \"precipitation\": 51.19773747140527, \"condition\": \"drizzle\"}, {\"temperature\": 14.018034425277474, \"wind\": 91.62717881393021, \"precipitation\": 99.49522416477019, \"condition\": \"sun\"}, {\"temperature\": 31.305982604448104, \"wind\": 40.90373869893349, \"precipitation\": 74.89298496286528, \"condition\": \"rain\"}, {\"temperature\": 30.610723278623702, \"wind\": 42.06017669565571, \"precipitation\": 69.67703870061514, \"condition\": \"snow\"}, {\"temperature\": 34.74664418075527, \"wind\": 38.58462817605697, \"precipitation\": 67.82787083848606, \"condition\": \"sun\"}, {\"temperature\": 8.120514857460222, \"wind\": 98.79896637292207, \"precipitation\": 21.126567495900296, \"condition\": \"drizzle\"}, {\"temperature\": 21.830015183550092, \"wind\": 22.1211872838582, \"precipitation\": 79.23266981302642, \"condition\": \"fog\"}, {\"temperature\": 37.98236222048335, \"wind\": 3.9308035344873593, \"precipitation\": 14.592671850934291, \"condition\": \"rain\"}, {\"temperature\": 25.958872120055887, \"wind\": 30.880613774748145, \"precipitation\": 81.56963648865039, \"condition\": \"rain\"}, {\"temperature\": 35.17236224867325, \"wind\": 31.08177020391971, \"precipitation\": 24.18647666653794, \"condition\": \"rain\"}, {\"temperature\": 33.364342578760876, \"wind\": 2.9246595809319653, \"precipitation\": 12.15848602978733, \"condition\": \"fog\"}, {\"temperature\": -3.5902835942627487, \"wind\": 86.99227504041556, \"precipitation\": 2.3639517923128017, \"condition\": \"drizzle\"}, {\"temperature\": 43.53091004081406, \"wind\": 70.60869224087214, \"precipitation\": 66.94726954818158, \"condition\": \"rain\"}, {\"temperature\": 1.8337888199719252, \"wind\": 75.06866321814911, \"precipitation\": 53.6891397098117, \"condition\": \"sun\"}, {\"temperature\": 43.47830583880354, \"wind\": 71.68689230524836, \"precipitation\": 31.73117090776013, \"condition\": \"sun\"}, {\"temperature\": 24.70816388894937, \"wind\": 68.30107169120795, \"precipitation\": 20.50225020747416, \"condition\": \"snow\"}, {\"temperature\": 16.05118379980134, \"wind\": 52.99782792799144, \"precipitation\": 11.69028728553364, \"condition\": \"fog\"}, {\"temperature\": 28.077076050276126, \"wind\": 24.843732657120764, \"precipitation\": 7.7565838958533195, \"condition\": \"fog\"}, {\"temperature\": 26.313211105376084, \"wind\": 45.03333651941402, \"precipitation\": 31.41227095201218, \"condition\": \"fog\"}, {\"temperature\": 25.47932407524442, \"wind\": 87.21604759710651, \"precipitation\": 13.96847689136137, \"condition\": \"snow\"}, {\"temperature\": 11.036706749946731, \"wind\": 33.86229598446234, \"precipitation\": 38.968294579117845, \"condition\": \"rain\"}, {\"temperature\": 0.8142265953456, \"wind\": 70.98507415296346, \"precipitation\": 19.273374312321256, \"condition\": \"drizzle\"}, {\"temperature\": 25.391354725358426, \"wind\": 68.9460480155243, \"precipitation\": 93.11546643206357, \"condition\": \"fog\"}, {\"temperature\": 27.7726958317102, \"wind\": 15.439482065514532, \"precipitation\": 5.293937143885552, \"condition\": \"sun\"}, {\"temperature\": 3.0547946822445873, \"wind\": 86.42755659056152, \"precipitation\": 2.624712873155066, \"condition\": \"rain\"}, {\"temperature\": 39.42369527658811, \"wind\": 47.39700920935881, \"precipitation\": 41.728060203985706, \"condition\": \"rain\"}, {\"temperature\": 31.616549252691705, \"wind\": 31.294073920356126, \"precipitation\": 61.66414511625905, \"condition\": \"snow\"}, {\"temperature\": 37.73472491414072, \"wind\": 56.11305268794269, \"precipitation\": 81.92111265208045, \"condition\": \"fog\"}, {\"temperature\": 29.412459474532355, \"wind\": 46.76189099995182, \"precipitation\": 32.17901910781431, \"condition\": \"snow\"}, {\"temperature\": -5.305474080741154, \"wind\": 16.51061166938045, \"precipitation\": 40.72674907868328, \"condition\": \"fog\"}, {\"temperature\": 28.248344335114005, \"wind\": 74.65204013977382, \"precipitation\": 8.992377726473755, \"condition\": \"drizzle\"}, {\"temperature\": 40.71245089747694, \"wind\": 60.52030820865206, \"precipitation\": 5.486289017174572, \"condition\": \"rain\"}, {\"temperature\": 1.2855687063133647, \"wind\": 47.74453362846665, \"precipitation\": 77.71039918592594, \"condition\": \"drizzle\"}, {\"temperature\": 13.997864573343104, \"wind\": 99.2063323267444, \"precipitation\": 14.897152160823302, \"condition\": \"drizzle\"}, {\"temperature\": 18.825549046465813, \"wind\": 96.7516586164724, \"precipitation\": 62.15480712924485, \"condition\": \"rain\"}, {\"temperature\": 17.102600135203243, \"wind\": 95.33201102579268, \"precipitation\": 1.76947633335095, \"condition\": \"rain\"}, {\"temperature\": 31.603226292108516, \"wind\": 80.1260277875885, \"precipitation\": 19.250819441340848, \"condition\": \"drizzle\"}, {\"temperature\": 7.272202684808242, \"wind\": 8.416568701596594, \"precipitation\": 24.486546883662086, \"condition\": \"drizzle\"}, {\"temperature\": 6.42450547762995, \"wind\": 39.273237823513206, \"precipitation\": 59.175511527387584, \"condition\": \"sun\"}, {\"temperature\": 0.37651709537109035, \"wind\": 94.77902759827063, \"precipitation\": 28.64474524803353, \"condition\": \"fog\"}, {\"temperature\": 29.418237348870328, \"wind\": 73.1637224142291, \"precipitation\": 36.384371127988594, \"condition\": \"fog\"}, {\"temperature\": 32.58410407316762, \"wind\": 23.572673866731876, \"precipitation\": 21.78686177609982, \"condition\": \"sun\"}, {\"temperature\": 40.58331555194774, \"wind\": 12.46579946692835, \"precipitation\": 33.052715046353775, \"condition\": \"fog\"}, {\"temperature\": 15.02270799243955, \"wind\": 23.521353082533057, \"precipitation\": 0.5866372551906918, \"condition\": \"rain\"}, {\"temperature\": -1.5856356202583797, \"wind\": 58.706439422107415, \"precipitation\": 23.69625533115679, \"condition\": \"fog\"}, {\"temperature\": 39.83846166807995, \"wind\": 7.925060993257304, \"precipitation\": 73.27745598517468, \"condition\": \"snow\"}, {\"temperature\": 30.25106478610541, \"wind\": 53.60474576386106, \"precipitation\": 76.63592895791527, \"condition\": \"sun\"}, {\"temperature\": 12.08528607254729, \"wind\": 11.679210728025568, \"precipitation\": 21.30987094861694, \"condition\": \"drizzle\"}, {\"temperature\": 20.103305307522167, \"wind\": 35.51132614216856, \"precipitation\": 99.11641742479553, \"condition\": \"snow\"}, {\"temperature\": 34.61293495454381, \"wind\": 16.44814913694985, \"precipitation\": 76.5788070641912, \"condition\": \"sun\"}, {\"temperature\": 5.3304368864748515, \"wind\": 11.488543420187414, \"precipitation\": 23.611522242446682, \"condition\": \"rain\"}, {\"temperature\": 10.624231316087673, \"wind\": 89.57677208906625, \"precipitation\": 17.901521820239154, \"condition\": \"rain\"}, {\"temperature\": 16.45869339879156, \"wind\": 82.14358903068431, \"precipitation\": 50.5274648107178, \"condition\": \"drizzle\"}, {\"temperature\": 30.4859555666389, \"wind\": 85.43429025210673, \"precipitation\": 99.7314407177562, \"condition\": \"sun\"}, {\"temperature\": -7.842697704519862, \"wind\": 20.10431994181, \"precipitation\": 8.499755604198123, \"condition\": \"drizzle\"}, {\"temperature\": 23.82197430970396, \"wind\": 30.71236264475776, \"precipitation\": 91.23232368725205, \"condition\": \"snow\"}, {\"temperature\": 43.63862559514364, \"wind\": 28.821660476932877, \"precipitation\": 99.71103207097889, \"condition\": \"fog\"}, {\"temperature\": 8.981532662882305, \"wind\": 35.921027372850865, \"precipitation\": 91.12082810014113, \"condition\": \"fog\"}, {\"temperature\": 26.077729266653087, \"wind\": 63.53612288999908, \"precipitation\": 90.09748712912719, \"condition\": \"sun\"}, {\"temperature\": 38.44181274295784, \"wind\": 71.99143401846956, \"precipitation\": 21.221688878355216, \"condition\": \"rain\"}, {\"temperature\": 34.78710550916185, \"wind\": 89.27467266301889, \"precipitation\": 41.1955282025937, \"condition\": \"sun\"}, {\"temperature\": -5.848035132361012, \"wind\": 57.23792962073, \"precipitation\": 64.23162970775795, \"condition\": \"rain\"}, {\"temperature\": 0.6933169720006127, \"wind\": 72.76756692493736, \"precipitation\": 62.223235261304524, \"condition\": \"drizzle\"}]}}, {\"mode\": \"vega-lite\"});\n</script>",
      "text/plain": "alt.Chart(...)"
     },
     "metadata": {},
     "output_type": "display_data"
    }
   ],
   "source": [
    "base = alt.Chart(df)\n",
    "bar = base.mark_bar().encode(\n",
    "    x=alt.X(field='temperature', \n",
    "            type='quantitative', \n",
    "            aggregate='count', \n",
    "            stack='normalize',\n",
    "            scale=alt.Scale(type='linear', zero=True)),\n",
    "    y=alt.Y(field='temperature', \n",
    "            type='quantitative',\n",
    "            bin=alt.Bin(maxbins=10),\n",
    "            scale=alt.Scale(type='linear')),\n",
    "    color=alt.Color(field='condition', type='nominal')\n",
    ")\n",
    "display_chart(bar)"
   ]
  },
  {
   "cell_type": "markdown",
   "metadata": {},
   "source": [
    "## Multi Mark (Layered) Charts"
   ]
  },
  {
   "cell_type": "markdown",
   "metadata": {},
   "source": [
    "### Bar with a Tick"
   ]
  },
  {
   "cell_type": "code",
   "execution_count": 69,
   "metadata": {},
   "outputs": [
    {
     "name": "stdout",
     "output_type": "stream",
     "text": [
      "{'field': [{'name': 'temperature', 'type': 'number'}],\n",
      " 'number_rows': 100,\n",
      " 'view': [{'mark': [{'encoding': [{'aggregate': 'mean',\n",
      "                                   'channel': 'x',\n",
      "                                   'field': 'temperature'}],\n",
      "                     'type': 'bar'},\n",
      "                    {'encoding': [{'channel': 'x', 'field': 'temperature'}],\n",
      "                     'type': 'tick'}],\n",
      "           'scale': [{'channel': 'x', 'type': 'linear', 'zero': 'true'}]}]}\n"
     ]
    }
   ],
   "source": [
    "facts = ['attribute(number_rows,root,100).',\n",
    " 'entity(field,root,temperature).',\n",
    " 'attribute((field,name),temperature,temperature).',\n",
    " 'attribute((field,type),temperature,number).',\n",
    " 'entity(view,root,0).',\n",
    " 'entity(mark,0,1).',\n",
    " 'attribute((mark,type),1,bar).',\n",
    " 'entity(encoding,1,2).',\n",
    " 'attribute((encoding,channel),2,x).',\n",
    " 'attribute((encoding,aggregate),2,mean).',\n",
    " 'attribute((encoding,field),2,temperature).',\n",
    " 'entity(mark,0,3).',\n",
    " 'attribute((mark,type),3,tick).',\n",
    " 'entity(encoding,3,4).',\n",
    " 'attribute((encoding,channel),4,x).',\n",
    " 'attribute((encoding,field),4,temperature).',\n",
    " 'entity(scale,0,5).',\n",
    " 'attribute((scale,channel),5,x).',\n",
    " 'attribute((scale,type),5,linear).',\n",
    " 'attribute((scale,zero),5,true).']\n",
    "spec = facts_to_dict(facts)\n",
    "pprint(spec)"
   ]
  },
  {
   "cell_type": "code",
   "execution_count": 70,
   "metadata": {},
   "outputs": [
    {
     "name": "stdout",
     "output_type": "stream",
     "text": [
      "{'$schema': 'https://vega.github.io/schema/vega-lite/v4.17.0.json',\n",
      " 'config': {'view': {'continuousHeight': 300, 'continuousWidth': 400}},\n",
      " 'layer': [{'encoding': {'x': {'aggregate': 'mean',\n",
      "                               'field': 'temperature',\n",
      "                               'scale': {'type': 'linear', 'zero': True},\n",
      "                               'type': 'quantitative'}},\n",
      "            'mark': 'bar'},\n",
      "           {'encoding': {'x': {'field': 'temperature',\n",
      "                               'scale': {'type': 'linear', 'zero': True},\n",
      "                               'type': 'quantitative'}},\n",
      "            'mark': 'tick'}]}\n"
     ]
    },
    {
     "data": {
      "text/html": "\n<div id=\"altair-viz-9988861d86de4d9fb90604fcc0ca7ffc\"></div>\n<script type=\"text/javascript\">\n  var VEGA_DEBUG = (typeof VEGA_DEBUG == \"undefined\") ? {} : VEGA_DEBUG;\n  (function(spec, embedOpt){\n    let outputDiv = document.currentScript.previousElementSibling;\n    if (outputDiv.id !== \"altair-viz-9988861d86de4d9fb90604fcc0ca7ffc\") {\n      outputDiv = document.getElementById(\"altair-viz-9988861d86de4d9fb90604fcc0ca7ffc\");\n    }\n    const paths = {\n      \"vega\": \"https://cdn.jsdelivr.net/npm//vega@5?noext\",\n      \"vega-lib\": \"https://cdn.jsdelivr.net/npm//vega-lib?noext\",\n      \"vega-lite\": \"https://cdn.jsdelivr.net/npm//vega-lite@4.17.0?noext\",\n      \"vega-embed\": \"https://cdn.jsdelivr.net/npm//vega-embed@6?noext\",\n    };\n\n    function maybeLoadScript(lib, version) {\n      var key = `${lib.replace(\"-\", \"\")}_version`;\n      return (VEGA_DEBUG[key] == version) ?\n        Promise.resolve(paths[lib]) :\n        new Promise(function(resolve, reject) {\n          var s = document.createElement('script');\n          document.getElementsByTagName(\"head\")[0].appendChild(s);\n          s.async = true;\n          s.onload = () => {\n            VEGA_DEBUG[key] = version;\n            return resolve(paths[lib]);\n          };\n          s.onerror = () => reject(`Error loading script: ${paths[lib]}`);\n          s.src = paths[lib];\n        });\n    }\n\n    function showError(err) {\n      outputDiv.innerHTML = `<div class=\"error\" style=\"color:red;\">${err}</div>`;\n      throw err;\n    }\n\n    function displayChart(vegaEmbed) {\n      vegaEmbed(outputDiv, spec, embedOpt)\n        .catch(err => showError(`Javascript Error: ${err.message}<br>This usually means there's a typo in your chart specification. See the javascript console for the full traceback.`));\n    }\n\n    if(typeof define === \"function\" && define.amd) {\n      requirejs.config({paths});\n      require([\"vega-embed\"], displayChart, err => showError(`Error loading script: ${err.message}`));\n    } else {\n      maybeLoadScript(\"vega\", \"5\")\n        .then(() => maybeLoadScript(\"vega-lite\", \"4.17.0\"))\n        .then(() => maybeLoadScript(\"vega-embed\", \"6\"))\n        .catch(showError)\n        .then(() => displayChart(vegaEmbed));\n    }\n  })({\"config\": {\"view\": {\"continuousWidth\": 400, \"continuousHeight\": 300}}, \"layer\": [{\"mark\": \"bar\", \"encoding\": {\"x\": {\"aggregate\": \"mean\", \"field\": \"temperature\", \"scale\": {\"type\": \"linear\", \"zero\": true}, \"type\": \"quantitative\"}}}, {\"mark\": \"tick\", \"encoding\": {\"x\": {\"field\": \"temperature\", \"scale\": {\"type\": \"linear\", \"zero\": true}, \"type\": \"quantitative\"}}}], \"data\": {\"name\": \"data-80b0e930866eee6a77413fd6e0890a78\"}, \"$schema\": \"https://vega.github.io/schema/vega-lite/v4.17.0.json\", \"datasets\": {\"data-80b0e930866eee6a77413fd6e0890a78\": [{\"temperature\": 39.357871877508494, \"wind\": 11.562263885182233, \"precipitation\": 88.42051387921796, \"condition\": \"fog\"}, {\"temperature\": -5.947154608637572, \"wind\": 86.90701738497849, \"precipitation\": 70.55832915444152, \"condition\": \"rain\"}, {\"temperature\": 32.82765627853655, \"wind\": 97.65897402212389, \"precipitation\": 82.65511533530304, \"condition\": \"sun\"}, {\"temperature\": 17.525999106231197, \"wind\": 65.52797477069528, \"precipitation\": 53.86256526101837, \"condition\": \"snow\"}, {\"temperature\": -6.80882656934652, \"wind\": 37.03429394195952, \"precipitation\": 93.86525481254682, \"condition\": \"drizzle\"}, {\"temperature\": 42.35997285539091, \"wind\": 72.00671240950793, \"precipitation\": 40.6587905336316, \"condition\": \"sun\"}, {\"temperature\": 12.236046428620227, \"wind\": 24.35537864304579, \"precipitation\": 83.89080965364893, \"condition\": \"sun\"}, {\"temperature\": 42.8103257781665, \"wind\": 29.81101459268268, \"precipitation\": 71.55020159752638, \"condition\": \"sun\"}, {\"temperature\": 22.54392113778252, \"wind\": 96.88264927669367, \"precipitation\": 57.21207145158276, \"condition\": \"rain\"}, {\"temperature\": 22.503608231529917, \"wind\": 73.45718441223443, \"precipitation\": 18.48099480479052, \"condition\": \"fog\"}, {\"temperature\": 20.697023061259923, \"wind\": 78.8085781529467, \"precipitation\": 82.06153728611223, \"condition\": \"drizzle\"}, {\"temperature\": 25.290109397291054, \"wind\": 80.30649374788099, \"precipitation\": 22.36608661432985, \"condition\": \"sun\"}, {\"temperature\": 38.2799313550365, \"wind\": 67.47085587574028, \"precipitation\": 20.740111999310816, \"condition\": \"snow\"}, {\"temperature\": 3.6725463468113624, \"wind\": 1.0115541087158841, \"precipitation\": 18.15771285571497, \"condition\": \"fog\"}, {\"temperature\": 43.05607594953013, \"wind\": 60.68482719845524, \"precipitation\": 57.77089873340201, \"condition\": \"drizzle\"}, {\"temperature\": 32.26702695541979, \"wind\": 51.25287908408247, \"precipitation\": 82.37499650298116, \"condition\": \"sun\"}, {\"temperature\": 20.65470025342109, \"wind\": 17.357994382399223, \"precipitation\": 61.85803419037972, \"condition\": \"snow\"}, {\"temperature\": 7.591958649416281, \"wind\": 56.87567133218157, \"precipitation\": 63.83705679953054, \"condition\": \"drizzle\"}, {\"temperature\": 34.12588295742098, \"wind\": 53.49706318356736, \"precipitation\": 39.89871505509641, \"condition\": \"drizzle\"}, {\"temperature\": 43.35047614485006, \"wind\": 25.611854852857896, \"precipitation\": 80.36992353488051, \"condition\": \"sun\"}, {\"temperature\": -0.6670916465821719, \"wind\": 85.48944217634627, \"precipitation\": 74.19603252504737, \"condition\": \"fog\"}, {\"temperature\": 27.71533514546813, \"wind\": 92.40258299219964, \"precipitation\": 35.46329445299181, \"condition\": \"sun\"}, {\"temperature\": 42.990310063528334, \"wind\": 4.767210553938305, \"precipitation\": 78.84896594785124, \"condition\": \"drizzle\"}, {\"temperature\": 12.78024257419457, \"wind\": 70.42789298007587, \"precipitation\": 32.19857853159736, \"condition\": \"rain\"}, {\"temperature\": 12.345464511586698, \"wind\": 96.37504245663669, \"precipitation\": 58.32326475918834, \"condition\": \"drizzle\"}, {\"temperature\": 16.615985139736694, \"wind\": 79.42654814203834, \"precipitation\": 13.002687080260278, \"condition\": \"drizzle\"}, {\"temperature\": 37.42489242698708, \"wind\": 61.345695045120095, \"precipitation\": 43.77564041090408, \"condition\": \"rain\"}, {\"temperature\": 4.4803758908315565, \"wind\": 49.77522034422004, \"precipitation\": 50.69600709811043, \"condition\": \"drizzle\"}, {\"temperature\": 24.097652039323982, \"wind\": 8.979384326640405, \"precipitation\": 30.641954593528485, \"condition\": \"sun\"}, {\"temperature\": -5.322217743871135, \"wind\": 61.189346843944705, \"precipitation\": 31.593229557269186, \"condition\": \"snow\"}, {\"temperature\": 9.656575236136984, \"wind\": 2.1373906951494104, \"precipitation\": 57.5465193225844, \"condition\": \"rain\"}, {\"temperature\": 23.09003214094531, \"wind\": 16.8504340533028, \"precipitation\": 49.38199137777561, \"condition\": \"snow\"}, {\"temperature\": -0.8910674950475652, \"wind\": 67.4372389241753, \"precipitation\": 44.01373586297284, \"condition\": \"drizzle\"}, {\"temperature\": 38.77628981797657, \"wind\": 19.349109733319814, \"precipitation\": 18.478064234157422, \"condition\": \"snow\"}, {\"temperature\": 3.4205075380082093, \"wind\": 27.407919047755026, \"precipitation\": 32.84745237938085, \"condition\": \"fog\"}, {\"temperature\": -5.033320662096024, \"wind\": 94.25698462447689, \"precipitation\": 43.460229120490254, \"condition\": \"fog\"}, {\"temperature\": -9.971237977814939, \"wind\": 93.98073112476098, \"precipitation\": 74.78247080628827, \"condition\": \"sun\"}, {\"temperature\": 14.882883965973484, \"wind\": 24.785612027523594, \"precipitation\": 51.19773747140527, \"condition\": \"drizzle\"}, {\"temperature\": 14.018034425277474, \"wind\": 91.62717881393021, \"precipitation\": 99.49522416477019, \"condition\": \"sun\"}, {\"temperature\": 31.305982604448104, \"wind\": 40.90373869893349, \"precipitation\": 74.89298496286528, \"condition\": \"rain\"}, {\"temperature\": 30.610723278623702, \"wind\": 42.06017669565571, \"precipitation\": 69.67703870061514, \"condition\": \"snow\"}, {\"temperature\": 34.74664418075527, \"wind\": 38.58462817605697, \"precipitation\": 67.82787083848606, \"condition\": \"sun\"}, {\"temperature\": 8.120514857460222, \"wind\": 98.79896637292207, \"precipitation\": 21.126567495900296, \"condition\": \"drizzle\"}, {\"temperature\": 21.830015183550092, \"wind\": 22.1211872838582, \"precipitation\": 79.23266981302642, \"condition\": \"fog\"}, {\"temperature\": 37.98236222048335, \"wind\": 3.9308035344873593, \"precipitation\": 14.592671850934291, \"condition\": \"rain\"}, {\"temperature\": 25.958872120055887, \"wind\": 30.880613774748145, \"precipitation\": 81.56963648865039, \"condition\": \"rain\"}, {\"temperature\": 35.17236224867325, \"wind\": 31.08177020391971, \"precipitation\": 24.18647666653794, \"condition\": \"rain\"}, {\"temperature\": 33.364342578760876, \"wind\": 2.9246595809319653, \"precipitation\": 12.15848602978733, \"condition\": \"fog\"}, {\"temperature\": -3.5902835942627487, \"wind\": 86.99227504041556, \"precipitation\": 2.3639517923128017, \"condition\": \"drizzle\"}, {\"temperature\": 43.53091004081406, \"wind\": 70.60869224087214, \"precipitation\": 66.94726954818158, \"condition\": \"rain\"}, {\"temperature\": 1.8337888199719252, \"wind\": 75.06866321814911, \"precipitation\": 53.6891397098117, \"condition\": \"sun\"}, {\"temperature\": 43.47830583880354, \"wind\": 71.68689230524836, \"precipitation\": 31.73117090776013, \"condition\": \"sun\"}, {\"temperature\": 24.70816388894937, \"wind\": 68.30107169120795, \"precipitation\": 20.50225020747416, \"condition\": \"snow\"}, {\"temperature\": 16.05118379980134, \"wind\": 52.99782792799144, \"precipitation\": 11.69028728553364, \"condition\": \"fog\"}, {\"temperature\": 28.077076050276126, \"wind\": 24.843732657120764, \"precipitation\": 7.7565838958533195, \"condition\": \"fog\"}, {\"temperature\": 26.313211105376084, \"wind\": 45.03333651941402, \"precipitation\": 31.41227095201218, \"condition\": \"fog\"}, {\"temperature\": 25.47932407524442, \"wind\": 87.21604759710651, \"precipitation\": 13.96847689136137, \"condition\": \"snow\"}, {\"temperature\": 11.036706749946731, \"wind\": 33.86229598446234, \"precipitation\": 38.968294579117845, \"condition\": \"rain\"}, {\"temperature\": 0.8142265953456, \"wind\": 70.98507415296346, \"precipitation\": 19.273374312321256, \"condition\": \"drizzle\"}, {\"temperature\": 25.391354725358426, \"wind\": 68.9460480155243, \"precipitation\": 93.11546643206357, \"condition\": \"fog\"}, {\"temperature\": 27.7726958317102, \"wind\": 15.439482065514532, \"precipitation\": 5.293937143885552, \"condition\": \"sun\"}, {\"temperature\": 3.0547946822445873, \"wind\": 86.42755659056152, \"precipitation\": 2.624712873155066, \"condition\": \"rain\"}, {\"temperature\": 39.42369527658811, \"wind\": 47.39700920935881, \"precipitation\": 41.728060203985706, \"condition\": \"rain\"}, {\"temperature\": 31.616549252691705, \"wind\": 31.294073920356126, \"precipitation\": 61.66414511625905, \"condition\": \"snow\"}, {\"temperature\": 37.73472491414072, \"wind\": 56.11305268794269, \"precipitation\": 81.92111265208045, \"condition\": \"fog\"}, {\"temperature\": 29.412459474532355, \"wind\": 46.76189099995182, \"precipitation\": 32.17901910781431, \"condition\": \"snow\"}, {\"temperature\": -5.305474080741154, \"wind\": 16.51061166938045, \"precipitation\": 40.72674907868328, \"condition\": \"fog\"}, {\"temperature\": 28.248344335114005, \"wind\": 74.65204013977382, \"precipitation\": 8.992377726473755, \"condition\": \"drizzle\"}, {\"temperature\": 40.71245089747694, \"wind\": 60.52030820865206, \"precipitation\": 5.486289017174572, \"condition\": \"rain\"}, {\"temperature\": 1.2855687063133647, \"wind\": 47.74453362846665, \"precipitation\": 77.71039918592594, \"condition\": \"drizzle\"}, {\"temperature\": 13.997864573343104, \"wind\": 99.2063323267444, \"precipitation\": 14.897152160823302, \"condition\": \"drizzle\"}, {\"temperature\": 18.825549046465813, \"wind\": 96.7516586164724, \"precipitation\": 62.15480712924485, \"condition\": \"rain\"}, {\"temperature\": 17.102600135203243, \"wind\": 95.33201102579268, \"precipitation\": 1.76947633335095, \"condition\": \"rain\"}, {\"temperature\": 31.603226292108516, \"wind\": 80.1260277875885, \"precipitation\": 19.250819441340848, \"condition\": \"drizzle\"}, {\"temperature\": 7.272202684808242, \"wind\": 8.416568701596594, \"precipitation\": 24.486546883662086, \"condition\": \"drizzle\"}, {\"temperature\": 6.42450547762995, \"wind\": 39.273237823513206, \"precipitation\": 59.175511527387584, \"condition\": \"sun\"}, {\"temperature\": 0.37651709537109035, \"wind\": 94.77902759827063, \"precipitation\": 28.64474524803353, \"condition\": \"fog\"}, {\"temperature\": 29.418237348870328, \"wind\": 73.1637224142291, \"precipitation\": 36.384371127988594, \"condition\": \"fog\"}, {\"temperature\": 32.58410407316762, \"wind\": 23.572673866731876, \"precipitation\": 21.78686177609982, \"condition\": \"sun\"}, {\"temperature\": 40.58331555194774, \"wind\": 12.46579946692835, \"precipitation\": 33.052715046353775, \"condition\": \"fog\"}, {\"temperature\": 15.02270799243955, \"wind\": 23.521353082533057, \"precipitation\": 0.5866372551906918, \"condition\": \"rain\"}, {\"temperature\": -1.5856356202583797, \"wind\": 58.706439422107415, \"precipitation\": 23.69625533115679, \"condition\": \"fog\"}, {\"temperature\": 39.83846166807995, \"wind\": 7.925060993257304, \"precipitation\": 73.27745598517468, \"condition\": \"snow\"}, {\"temperature\": 30.25106478610541, \"wind\": 53.60474576386106, \"precipitation\": 76.63592895791527, \"condition\": \"sun\"}, {\"temperature\": 12.08528607254729, \"wind\": 11.679210728025568, \"precipitation\": 21.30987094861694, \"condition\": \"drizzle\"}, {\"temperature\": 20.103305307522167, \"wind\": 35.51132614216856, \"precipitation\": 99.11641742479553, \"condition\": \"snow\"}, {\"temperature\": 34.61293495454381, \"wind\": 16.44814913694985, \"precipitation\": 76.5788070641912, \"condition\": \"sun\"}, {\"temperature\": 5.3304368864748515, \"wind\": 11.488543420187414, \"precipitation\": 23.611522242446682, \"condition\": \"rain\"}, {\"temperature\": 10.624231316087673, \"wind\": 89.57677208906625, \"precipitation\": 17.901521820239154, \"condition\": \"rain\"}, {\"temperature\": 16.45869339879156, \"wind\": 82.14358903068431, \"precipitation\": 50.5274648107178, \"condition\": \"drizzle\"}, {\"temperature\": 30.4859555666389, \"wind\": 85.43429025210673, \"precipitation\": 99.7314407177562, \"condition\": \"sun\"}, {\"temperature\": -7.842697704519862, \"wind\": 20.10431994181, \"precipitation\": 8.499755604198123, \"condition\": \"drizzle\"}, {\"temperature\": 23.82197430970396, \"wind\": 30.71236264475776, \"precipitation\": 91.23232368725205, \"condition\": \"snow\"}, {\"temperature\": 43.63862559514364, \"wind\": 28.821660476932877, \"precipitation\": 99.71103207097889, \"condition\": \"fog\"}, {\"temperature\": 8.981532662882305, \"wind\": 35.921027372850865, \"precipitation\": 91.12082810014113, \"condition\": \"fog\"}, {\"temperature\": 26.077729266653087, \"wind\": 63.53612288999908, \"precipitation\": 90.09748712912719, \"condition\": \"sun\"}, {\"temperature\": 38.44181274295784, \"wind\": 71.99143401846956, \"precipitation\": 21.221688878355216, \"condition\": \"rain\"}, {\"temperature\": 34.78710550916185, \"wind\": 89.27467266301889, \"precipitation\": 41.1955282025937, \"condition\": \"sun\"}, {\"temperature\": -5.848035132361012, \"wind\": 57.23792962073, \"precipitation\": 64.23162970775795, \"condition\": \"rain\"}, {\"temperature\": 0.6933169720006127, \"wind\": 72.76756692493736, \"precipitation\": 62.223235261304524, \"condition\": \"drizzle\"}]}}, {\"mode\": \"vega-lite\"});\n</script>",
      "text/plain": "alt.LayerChart(...)"
     },
     "metadata": {},
     "output_type": "display_data"
    }
   ],
   "source": [
    "base = alt.Chart(df)\n",
    "bar = base.mark_bar().encode(\n",
    "    x=alt.X(field='temperature', \n",
    "            type='quantitative',\n",
    "            aggregate='mean',\n",
    "            scale=alt.Scale(type='linear', zero=True)),\n",
    ")\n",
    "tick = base.mark_tick().encode(\n",
    "    x=alt.X(field='temperature', \n",
    "            type='quantitative',\n",
    "            scale=alt.Scale(type='linear', zero=True)),\n",
    ")\n",
    "display_chart(bar + tick)"
   ]
  },
  {
   "cell_type": "markdown",
   "metadata": {},
   "source": [
    "## Facets"
   ]
  },
  {
   "cell_type": "markdown",
   "metadata": {},
   "source": [
    "### Facet Scatterplot into Columns"
   ]
  },
  {
   "cell_type": "code",
   "execution_count": 71,
   "metadata": {},
   "outputs": [
    {
     "name": "stdout",
     "output_type": "stream",
     "text": [
      "{'field': [{'name': 'temperature', 'type': 'number'},\n",
      "           {'name': 'wind', 'type': 'number'},\n",
      "           {'name': 'condition', 'type': 'string'}],\n",
      " 'number_rows': 100,\n",
      " 'view': [{'facet': [{'channel': 'col', 'field': 'condition'}],\n",
      "           'mark': [{'encoding': [{'channel': 'x', 'field': 'temperature'},\n",
      "                                  {'channel': 'y', 'field': 'wind'}],\n",
      "                     'type': 'point'}],\n",
      "           'scale': [{'channel': 'x', 'type': 'linear'},\n",
      "                     {'channel': 'y', 'type': 'linear'}]}]}\n"
     ]
    }
   ],
   "source": [
    "facts = ['attribute(number_rows,root,100).',\n",
    " 'entity(field,root,temperature).',\n",
    " 'attribute((field,name),temperature,temperature).',\n",
    " 'attribute((field,type),temperature,number).',\n",
    " 'entity(field,root,wind).',\n",
    " 'attribute((field,name),wind,wind).',\n",
    " 'attribute((field,type),wind,number).',\n",
    " 'entity(field,root,condition).',\n",
    " 'attribute((field,name),condition,condition).',\n",
    " 'attribute((field,type),condition,string).',\n",
    " 'entity(view,root,0).',\n",
    " 'entity(mark,0,1).',\n",
    " 'attribute((mark,type),1,point).',\n",
    " 'entity(encoding,1,2).',\n",
    " 'attribute((encoding,channel),2,x).',\n",
    " 'attribute((encoding,field),2,temperature).',\n",
    " 'entity(encoding,1,3).',\n",
    " 'attribute((encoding,channel),3,y).',\n",
    " 'attribute((encoding,field),3,wind).',\n",
    " 'entity(scale,0,4).',\n",
    " 'attribute((scale,channel),4,x).',\n",
    " 'attribute((scale,type),4,linear).',\n",
    " 'entity(scale,0,5).',\n",
    " 'attribute((scale,channel),5,y).',\n",
    " 'attribute((scale,type),5,linear).',\n",
    " 'entity(facet,0,6).',\n",
    " 'attribute((facet,channel),6,col).',\n",
    " 'attribute((facet,field),6,condition).']\n",
    "spec = facts_to_dict(facts)\n",
    "pprint(spec)"
   ]
  },
  {
   "cell_type": "code",
   "execution_count": 72,
   "metadata": {},
   "outputs": [
    {
     "name": "stdout",
     "output_type": "stream",
     "text": [
      "{'$schema': 'https://vega.github.io/schema/vega-lite/v4.17.0.json',\n",
      " 'config': {'view': {'continuousHeight': 300, 'continuousWidth': 400}},\n",
      " 'facet': {'column': {'field': 'condition', 'type': 'nominal'}},\n",
      " 'spec': {'encoding': {'x': {'field': 'temperature', 'type': 'quantitative'},\n",
      "                       'y': {'field': 'wind', 'type': 'quantitative'}},\n",
      "          'mark': 'point'}}\n"
     ]
    },
    {
     "data": {
      "text/html": "\n<div id=\"altair-viz-288885f34b724d13ab7a97a75e9df585\"></div>\n<script type=\"text/javascript\">\n  var VEGA_DEBUG = (typeof VEGA_DEBUG == \"undefined\") ? {} : VEGA_DEBUG;\n  (function(spec, embedOpt){\n    let outputDiv = document.currentScript.previousElementSibling;\n    if (outputDiv.id !== \"altair-viz-288885f34b724d13ab7a97a75e9df585\") {\n      outputDiv = document.getElementById(\"altair-viz-288885f34b724d13ab7a97a75e9df585\");\n    }\n    const paths = {\n      \"vega\": \"https://cdn.jsdelivr.net/npm//vega@5?noext\",\n      \"vega-lib\": \"https://cdn.jsdelivr.net/npm//vega-lib?noext\",\n      \"vega-lite\": \"https://cdn.jsdelivr.net/npm//vega-lite@4.17.0?noext\",\n      \"vega-embed\": \"https://cdn.jsdelivr.net/npm//vega-embed@6?noext\",\n    };\n\n    function maybeLoadScript(lib, version) {\n      var key = `${lib.replace(\"-\", \"\")}_version`;\n      return (VEGA_DEBUG[key] == version) ?\n        Promise.resolve(paths[lib]) :\n        new Promise(function(resolve, reject) {\n          var s = document.createElement('script');\n          document.getElementsByTagName(\"head\")[0].appendChild(s);\n          s.async = true;\n          s.onload = () => {\n            VEGA_DEBUG[key] = version;\n            return resolve(paths[lib]);\n          };\n          s.onerror = () => reject(`Error loading script: ${paths[lib]}`);\n          s.src = paths[lib];\n        });\n    }\n\n    function showError(err) {\n      outputDiv.innerHTML = `<div class=\"error\" style=\"color:red;\">${err}</div>`;\n      throw err;\n    }\n\n    function displayChart(vegaEmbed) {\n      vegaEmbed(outputDiv, spec, embedOpt)\n        .catch(err => showError(`Javascript Error: ${err.message}<br>This usually means there's a typo in your chart specification. See the javascript console for the full traceback.`));\n    }\n\n    if(typeof define === \"function\" && define.amd) {\n      requirejs.config({paths});\n      require([\"vega-embed\"], displayChart, err => showError(`Error loading script: ${err.message}`));\n    } else {\n      maybeLoadScript(\"vega\", \"5\")\n        .then(() => maybeLoadScript(\"vega-lite\", \"4.17.0\"))\n        .then(() => maybeLoadScript(\"vega-embed\", \"6\"))\n        .catch(showError)\n        .then(() => displayChart(vegaEmbed));\n    }\n  })({\"config\": {\"view\": {\"continuousWidth\": 400, \"continuousHeight\": 300}}, \"data\": {\"name\": \"data-80b0e930866eee6a77413fd6e0890a78\"}, \"facet\": {\"column\": {\"field\": \"condition\", \"type\": \"nominal\"}}, \"spec\": {\"mark\": \"point\", \"encoding\": {\"x\": {\"field\": \"temperature\", \"type\": \"quantitative\"}, \"y\": {\"field\": \"wind\", \"type\": \"quantitative\"}}}, \"$schema\": \"https://vega.github.io/schema/vega-lite/v4.17.0.json\", \"datasets\": {\"data-80b0e930866eee6a77413fd6e0890a78\": [{\"temperature\": 39.357871877508494, \"wind\": 11.562263885182233, \"precipitation\": 88.42051387921796, \"condition\": \"fog\"}, {\"temperature\": -5.947154608637572, \"wind\": 86.90701738497849, \"precipitation\": 70.55832915444152, \"condition\": \"rain\"}, {\"temperature\": 32.82765627853655, \"wind\": 97.65897402212389, \"precipitation\": 82.65511533530304, \"condition\": \"sun\"}, {\"temperature\": 17.525999106231197, \"wind\": 65.52797477069528, \"precipitation\": 53.86256526101837, \"condition\": \"snow\"}, {\"temperature\": -6.80882656934652, \"wind\": 37.03429394195952, \"precipitation\": 93.86525481254682, \"condition\": \"drizzle\"}, {\"temperature\": 42.35997285539091, \"wind\": 72.00671240950793, \"precipitation\": 40.6587905336316, \"condition\": \"sun\"}, {\"temperature\": 12.236046428620227, \"wind\": 24.35537864304579, \"precipitation\": 83.89080965364893, \"condition\": \"sun\"}, {\"temperature\": 42.8103257781665, \"wind\": 29.81101459268268, \"precipitation\": 71.55020159752638, \"condition\": \"sun\"}, {\"temperature\": 22.54392113778252, \"wind\": 96.88264927669367, \"precipitation\": 57.21207145158276, \"condition\": \"rain\"}, {\"temperature\": 22.503608231529917, \"wind\": 73.45718441223443, \"precipitation\": 18.48099480479052, \"condition\": \"fog\"}, {\"temperature\": 20.697023061259923, \"wind\": 78.8085781529467, \"precipitation\": 82.06153728611223, \"condition\": \"drizzle\"}, {\"temperature\": 25.290109397291054, \"wind\": 80.30649374788099, \"precipitation\": 22.36608661432985, \"condition\": \"sun\"}, {\"temperature\": 38.2799313550365, \"wind\": 67.47085587574028, \"precipitation\": 20.740111999310816, \"condition\": \"snow\"}, {\"temperature\": 3.6725463468113624, \"wind\": 1.0115541087158841, \"precipitation\": 18.15771285571497, \"condition\": \"fog\"}, {\"temperature\": 43.05607594953013, \"wind\": 60.68482719845524, \"precipitation\": 57.77089873340201, \"condition\": \"drizzle\"}, {\"temperature\": 32.26702695541979, \"wind\": 51.25287908408247, \"precipitation\": 82.37499650298116, \"condition\": \"sun\"}, {\"temperature\": 20.65470025342109, \"wind\": 17.357994382399223, \"precipitation\": 61.85803419037972, \"condition\": \"snow\"}, {\"temperature\": 7.591958649416281, \"wind\": 56.87567133218157, \"precipitation\": 63.83705679953054, \"condition\": \"drizzle\"}, {\"temperature\": 34.12588295742098, \"wind\": 53.49706318356736, \"precipitation\": 39.89871505509641, \"condition\": \"drizzle\"}, {\"temperature\": 43.35047614485006, \"wind\": 25.611854852857896, \"precipitation\": 80.36992353488051, \"condition\": \"sun\"}, {\"temperature\": -0.6670916465821719, \"wind\": 85.48944217634627, \"precipitation\": 74.19603252504737, \"condition\": \"fog\"}, {\"temperature\": 27.71533514546813, \"wind\": 92.40258299219964, \"precipitation\": 35.46329445299181, \"condition\": \"sun\"}, {\"temperature\": 42.990310063528334, \"wind\": 4.767210553938305, \"precipitation\": 78.84896594785124, \"condition\": \"drizzle\"}, {\"temperature\": 12.78024257419457, \"wind\": 70.42789298007587, \"precipitation\": 32.19857853159736, \"condition\": \"rain\"}, {\"temperature\": 12.345464511586698, \"wind\": 96.37504245663669, \"precipitation\": 58.32326475918834, \"condition\": \"drizzle\"}, {\"temperature\": 16.615985139736694, \"wind\": 79.42654814203834, \"precipitation\": 13.002687080260278, \"condition\": \"drizzle\"}, {\"temperature\": 37.42489242698708, \"wind\": 61.345695045120095, \"precipitation\": 43.77564041090408, \"condition\": \"rain\"}, {\"temperature\": 4.4803758908315565, \"wind\": 49.77522034422004, \"precipitation\": 50.69600709811043, \"condition\": \"drizzle\"}, {\"temperature\": 24.097652039323982, \"wind\": 8.979384326640405, \"precipitation\": 30.641954593528485, \"condition\": \"sun\"}, {\"temperature\": -5.322217743871135, \"wind\": 61.189346843944705, \"precipitation\": 31.593229557269186, \"condition\": \"snow\"}, {\"temperature\": 9.656575236136984, \"wind\": 2.1373906951494104, \"precipitation\": 57.5465193225844, \"condition\": \"rain\"}, {\"temperature\": 23.09003214094531, \"wind\": 16.8504340533028, \"precipitation\": 49.38199137777561, \"condition\": \"snow\"}, {\"temperature\": -0.8910674950475652, \"wind\": 67.4372389241753, \"precipitation\": 44.01373586297284, \"condition\": \"drizzle\"}, {\"temperature\": 38.77628981797657, \"wind\": 19.349109733319814, \"precipitation\": 18.478064234157422, \"condition\": \"snow\"}, {\"temperature\": 3.4205075380082093, \"wind\": 27.407919047755026, \"precipitation\": 32.84745237938085, \"condition\": \"fog\"}, {\"temperature\": -5.033320662096024, \"wind\": 94.25698462447689, \"precipitation\": 43.460229120490254, \"condition\": \"fog\"}, {\"temperature\": -9.971237977814939, \"wind\": 93.98073112476098, \"precipitation\": 74.78247080628827, \"condition\": \"sun\"}, {\"temperature\": 14.882883965973484, \"wind\": 24.785612027523594, \"precipitation\": 51.19773747140527, \"condition\": \"drizzle\"}, {\"temperature\": 14.018034425277474, \"wind\": 91.62717881393021, \"precipitation\": 99.49522416477019, \"condition\": \"sun\"}, {\"temperature\": 31.305982604448104, \"wind\": 40.90373869893349, \"precipitation\": 74.89298496286528, \"condition\": \"rain\"}, {\"temperature\": 30.610723278623702, \"wind\": 42.06017669565571, \"precipitation\": 69.67703870061514, \"condition\": \"snow\"}, {\"temperature\": 34.74664418075527, \"wind\": 38.58462817605697, \"precipitation\": 67.82787083848606, \"condition\": \"sun\"}, {\"temperature\": 8.120514857460222, \"wind\": 98.79896637292207, \"precipitation\": 21.126567495900296, \"condition\": \"drizzle\"}, {\"temperature\": 21.830015183550092, \"wind\": 22.1211872838582, \"precipitation\": 79.23266981302642, \"condition\": \"fog\"}, {\"temperature\": 37.98236222048335, \"wind\": 3.9308035344873593, \"precipitation\": 14.592671850934291, \"condition\": \"rain\"}, {\"temperature\": 25.958872120055887, \"wind\": 30.880613774748145, \"precipitation\": 81.56963648865039, \"condition\": \"rain\"}, {\"temperature\": 35.17236224867325, \"wind\": 31.08177020391971, \"precipitation\": 24.18647666653794, \"condition\": \"rain\"}, {\"temperature\": 33.364342578760876, \"wind\": 2.9246595809319653, \"precipitation\": 12.15848602978733, \"condition\": \"fog\"}, {\"temperature\": -3.5902835942627487, \"wind\": 86.99227504041556, \"precipitation\": 2.3639517923128017, \"condition\": \"drizzle\"}, {\"temperature\": 43.53091004081406, \"wind\": 70.60869224087214, \"precipitation\": 66.94726954818158, \"condition\": \"rain\"}, {\"temperature\": 1.8337888199719252, \"wind\": 75.06866321814911, \"precipitation\": 53.6891397098117, \"condition\": \"sun\"}, {\"temperature\": 43.47830583880354, \"wind\": 71.68689230524836, \"precipitation\": 31.73117090776013, \"condition\": \"sun\"}, {\"temperature\": 24.70816388894937, \"wind\": 68.30107169120795, \"precipitation\": 20.50225020747416, \"condition\": \"snow\"}, {\"temperature\": 16.05118379980134, \"wind\": 52.99782792799144, \"precipitation\": 11.69028728553364, \"condition\": \"fog\"}, {\"temperature\": 28.077076050276126, \"wind\": 24.843732657120764, \"precipitation\": 7.7565838958533195, \"condition\": \"fog\"}, {\"temperature\": 26.313211105376084, \"wind\": 45.03333651941402, \"precipitation\": 31.41227095201218, \"condition\": \"fog\"}, {\"temperature\": 25.47932407524442, \"wind\": 87.21604759710651, \"precipitation\": 13.96847689136137, \"condition\": \"snow\"}, {\"temperature\": 11.036706749946731, \"wind\": 33.86229598446234, \"precipitation\": 38.968294579117845, \"condition\": \"rain\"}, {\"temperature\": 0.8142265953456, \"wind\": 70.98507415296346, \"precipitation\": 19.273374312321256, \"condition\": \"drizzle\"}, {\"temperature\": 25.391354725358426, \"wind\": 68.9460480155243, \"precipitation\": 93.11546643206357, \"condition\": \"fog\"}, {\"temperature\": 27.7726958317102, \"wind\": 15.439482065514532, \"precipitation\": 5.293937143885552, \"condition\": \"sun\"}, {\"temperature\": 3.0547946822445873, \"wind\": 86.42755659056152, \"precipitation\": 2.624712873155066, \"condition\": \"rain\"}, {\"temperature\": 39.42369527658811, \"wind\": 47.39700920935881, \"precipitation\": 41.728060203985706, \"condition\": \"rain\"}, {\"temperature\": 31.616549252691705, \"wind\": 31.294073920356126, \"precipitation\": 61.66414511625905, \"condition\": \"snow\"}, {\"temperature\": 37.73472491414072, \"wind\": 56.11305268794269, \"precipitation\": 81.92111265208045, \"condition\": \"fog\"}, {\"temperature\": 29.412459474532355, \"wind\": 46.76189099995182, \"precipitation\": 32.17901910781431, \"condition\": \"snow\"}, {\"temperature\": -5.305474080741154, \"wind\": 16.51061166938045, \"precipitation\": 40.72674907868328, \"condition\": \"fog\"}, {\"temperature\": 28.248344335114005, \"wind\": 74.65204013977382, \"precipitation\": 8.992377726473755, \"condition\": \"drizzle\"}, {\"temperature\": 40.71245089747694, \"wind\": 60.52030820865206, \"precipitation\": 5.486289017174572, \"condition\": \"rain\"}, {\"temperature\": 1.2855687063133647, \"wind\": 47.74453362846665, \"precipitation\": 77.71039918592594, \"condition\": \"drizzle\"}, {\"temperature\": 13.997864573343104, \"wind\": 99.2063323267444, \"precipitation\": 14.897152160823302, \"condition\": \"drizzle\"}, {\"temperature\": 18.825549046465813, \"wind\": 96.7516586164724, \"precipitation\": 62.15480712924485, \"condition\": \"rain\"}, {\"temperature\": 17.102600135203243, \"wind\": 95.33201102579268, \"precipitation\": 1.76947633335095, \"condition\": \"rain\"}, {\"temperature\": 31.603226292108516, \"wind\": 80.1260277875885, \"precipitation\": 19.250819441340848, \"condition\": \"drizzle\"}, {\"temperature\": 7.272202684808242, \"wind\": 8.416568701596594, \"precipitation\": 24.486546883662086, \"condition\": \"drizzle\"}, {\"temperature\": 6.42450547762995, \"wind\": 39.273237823513206, \"precipitation\": 59.175511527387584, \"condition\": \"sun\"}, {\"temperature\": 0.37651709537109035, \"wind\": 94.77902759827063, \"precipitation\": 28.64474524803353, \"condition\": \"fog\"}, {\"temperature\": 29.418237348870328, \"wind\": 73.1637224142291, \"precipitation\": 36.384371127988594, \"condition\": \"fog\"}, {\"temperature\": 32.58410407316762, \"wind\": 23.572673866731876, \"precipitation\": 21.78686177609982, \"condition\": \"sun\"}, {\"temperature\": 40.58331555194774, \"wind\": 12.46579946692835, \"precipitation\": 33.052715046353775, \"condition\": \"fog\"}, {\"temperature\": 15.02270799243955, \"wind\": 23.521353082533057, \"precipitation\": 0.5866372551906918, \"condition\": \"rain\"}, {\"temperature\": -1.5856356202583797, \"wind\": 58.706439422107415, \"precipitation\": 23.69625533115679, \"condition\": \"fog\"}, {\"temperature\": 39.83846166807995, \"wind\": 7.925060993257304, \"precipitation\": 73.27745598517468, \"condition\": \"snow\"}, {\"temperature\": 30.25106478610541, \"wind\": 53.60474576386106, \"precipitation\": 76.63592895791527, \"condition\": \"sun\"}, {\"temperature\": 12.08528607254729, \"wind\": 11.679210728025568, \"precipitation\": 21.30987094861694, \"condition\": \"drizzle\"}, {\"temperature\": 20.103305307522167, \"wind\": 35.51132614216856, \"precipitation\": 99.11641742479553, \"condition\": \"snow\"}, {\"temperature\": 34.61293495454381, \"wind\": 16.44814913694985, \"precipitation\": 76.5788070641912, \"condition\": \"sun\"}, {\"temperature\": 5.3304368864748515, \"wind\": 11.488543420187414, \"precipitation\": 23.611522242446682, \"condition\": \"rain\"}, {\"temperature\": 10.624231316087673, \"wind\": 89.57677208906625, \"precipitation\": 17.901521820239154, \"condition\": \"rain\"}, {\"temperature\": 16.45869339879156, \"wind\": 82.14358903068431, \"precipitation\": 50.5274648107178, \"condition\": \"drizzle\"}, {\"temperature\": 30.4859555666389, \"wind\": 85.43429025210673, \"precipitation\": 99.7314407177562, \"condition\": \"sun\"}, {\"temperature\": -7.842697704519862, \"wind\": 20.10431994181, \"precipitation\": 8.499755604198123, \"condition\": \"drizzle\"}, {\"temperature\": 23.82197430970396, \"wind\": 30.71236264475776, \"precipitation\": 91.23232368725205, \"condition\": \"snow\"}, {\"temperature\": 43.63862559514364, \"wind\": 28.821660476932877, \"precipitation\": 99.71103207097889, \"condition\": \"fog\"}, {\"temperature\": 8.981532662882305, \"wind\": 35.921027372850865, \"precipitation\": 91.12082810014113, \"condition\": \"fog\"}, {\"temperature\": 26.077729266653087, \"wind\": 63.53612288999908, \"precipitation\": 90.09748712912719, \"condition\": \"sun\"}, {\"temperature\": 38.44181274295784, \"wind\": 71.99143401846956, \"precipitation\": 21.221688878355216, \"condition\": \"rain\"}, {\"temperature\": 34.78710550916185, \"wind\": 89.27467266301889, \"precipitation\": 41.1955282025937, \"condition\": \"sun\"}, {\"temperature\": -5.848035132361012, \"wind\": 57.23792962073, \"precipitation\": 64.23162970775795, \"condition\": \"rain\"}, {\"temperature\": 0.6933169720006127, \"wind\": 72.76756692493736, \"precipitation\": 62.223235261304524, \"condition\": \"drizzle\"}]}}, {\"mode\": \"vega-lite\"});\n</script>",
      "text/plain": "alt.FacetChart(...)"
     },
     "metadata": {},
     "output_type": "display_data"
    }
   ],
   "source": [
    "base = alt.Chart(df)\n",
    "point = base.mark_point().encode(\n",
    "    x=alt.X(field='temperature', type='quantitative'),\n",
    "    y=alt.Y(field='wind', type='quantitative')\n",
    ")\n",
    "facet = point.facet(\n",
    "    column=alt.Column(field='condition', type='nominal')\n",
    ")\n",
    "display_chart(facet)"
   ]
  },
  {
   "cell_type": "markdown",
   "metadata": {},
   "source": [
    "### Facet Scatterplot by Binned Data into Columns"
   ]
  },
  {
   "cell_type": "code",
   "execution_count": 73,
   "metadata": {},
   "outputs": [
    {
     "name": "stdout",
     "output_type": "stream",
     "text": [
      "{'field': [{'name': 'temperature', 'type': 'number'},\n",
      "           {'name': 'wind', 'type': 'number'},\n",
      "           {'name': 'condition', 'type': 'string'}],\n",
      " 'number_rows': 100,\n",
      " 'view': [{'facet': [{'binning': 10, 'channel': 'col', 'field': 'temperature'}],\n",
      "           'mark': [{'encoding': [{'channel': 'x', 'field': 'condition'},\n",
      "                                  {'channel': 'y', 'field': 'wind'}],\n",
      "                     'type': 'point'}],\n",
      "           'scale': [{'channel': 'x', 'type': 'ordinal'},\n",
      "                     {'channel': 'y', 'type': 'linear'}]}]}\n"
     ]
    }
   ],
   "source": [
    "facts = ['attribute(number_rows,root,100).',\n",
    " 'entity(field,root,temperature).',\n",
    " 'attribute((field,name),temperature,temperature).',\n",
    " 'attribute((field,type),temperature,number).',\n",
    " 'entity(field,root,wind).',\n",
    " 'attribute((field,name),wind,wind).',\n",
    " 'attribute((field,type),wind,number).',\n",
    " 'entity(field,root,condition).',\n",
    " 'attribute((field,name),condition,condition).',\n",
    " 'attribute((field,type),condition,string).',\n",
    " 'entity(view,root,0).',\n",
    " 'entity(mark,0,1).',\n",
    " 'attribute((mark,type),1,point).',\n",
    " 'entity(encoding,1,2).',\n",
    " 'attribute((encoding,channel),2,x).',\n",
    " 'attribute((encoding,field),2,condition).',\n",
    " 'entity(encoding,1,3).',\n",
    " 'attribute((encoding,channel),3,y).',\n",
    " 'attribute((encoding,field),3,wind).',\n",
    " 'entity(scale,0,4).',\n",
    " 'attribute((scale,channel),4,x).',\n",
    " 'attribute((scale,type),4,ordinal).',\n",
    " 'entity(scale,0,5).',\n",
    " 'attribute((scale,channel),5,y).',\n",
    " 'attribute((scale,type),5,linear).',\n",
    " 'entity(facet,0,6).',\n",
    " 'attribute((facet,channel),6,col).',\n",
    " 'attribute((facet,field),6,temperature).',\n",
    " 'attribute((facet,binning),6,10).']\n",
    "spec = facts_to_dict(facts)\n",
    "pprint(spec)"
   ]
  },
  {
   "cell_type": "code",
   "execution_count": 74,
   "metadata": {},
   "outputs": [
    {
     "name": "stdout",
     "output_type": "stream",
     "text": [
      "{'$schema': 'https://vega.github.io/schema/vega-lite/v4.17.0.json',\n",
      " 'config': {'view': {'continuousHeight': 300, 'continuousWidth': 400}},\n",
      " 'facet': {'column': {'bin': {'maxbins': 10},\n",
      "                      'field': 'temperature',\n",
      "                      'type': 'quantitative'}},\n",
      " 'spec': {'encoding': {'x': {'field': 'condition',\n",
      "                             'scale': {'type': 'ordinal'},\n",
      "                             'type': 'nominal'},\n",
      "                       'y': {'field': 'wind',\n",
      "                             'scale': {'type': 'linear'},\n",
      "                             'type': 'quantitative'}},\n",
      "          'mark': 'point'}}\n"
     ]
    },
    {
     "data": {
      "text/html": "\n<div id=\"altair-viz-28ed212c1816496ba9f7568a60751f03\"></div>\n<script type=\"text/javascript\">\n  var VEGA_DEBUG = (typeof VEGA_DEBUG == \"undefined\") ? {} : VEGA_DEBUG;\n  (function(spec, embedOpt){\n    let outputDiv = document.currentScript.previousElementSibling;\n    if (outputDiv.id !== \"altair-viz-28ed212c1816496ba9f7568a60751f03\") {\n      outputDiv = document.getElementById(\"altair-viz-28ed212c1816496ba9f7568a60751f03\");\n    }\n    const paths = {\n      \"vega\": \"https://cdn.jsdelivr.net/npm//vega@5?noext\",\n      \"vega-lib\": \"https://cdn.jsdelivr.net/npm//vega-lib?noext\",\n      \"vega-lite\": \"https://cdn.jsdelivr.net/npm//vega-lite@4.17.0?noext\",\n      \"vega-embed\": \"https://cdn.jsdelivr.net/npm//vega-embed@6?noext\",\n    };\n\n    function maybeLoadScript(lib, version) {\n      var key = `${lib.replace(\"-\", \"\")}_version`;\n      return (VEGA_DEBUG[key] == version) ?\n        Promise.resolve(paths[lib]) :\n        new Promise(function(resolve, reject) {\n          var s = document.createElement('script');\n          document.getElementsByTagName(\"head\")[0].appendChild(s);\n          s.async = true;\n          s.onload = () => {\n            VEGA_DEBUG[key] = version;\n            return resolve(paths[lib]);\n          };\n          s.onerror = () => reject(`Error loading script: ${paths[lib]}`);\n          s.src = paths[lib];\n        });\n    }\n\n    function showError(err) {\n      outputDiv.innerHTML = `<div class=\"error\" style=\"color:red;\">${err}</div>`;\n      throw err;\n    }\n\n    function displayChart(vegaEmbed) {\n      vegaEmbed(outputDiv, spec, embedOpt)\n        .catch(err => showError(`Javascript Error: ${err.message}<br>This usually means there's a typo in your chart specification. See the javascript console for the full traceback.`));\n    }\n\n    if(typeof define === \"function\" && define.amd) {\n      requirejs.config({paths});\n      require([\"vega-embed\"], displayChart, err => showError(`Error loading script: ${err.message}`));\n    } else {\n      maybeLoadScript(\"vega\", \"5\")\n        .then(() => maybeLoadScript(\"vega-lite\", \"4.17.0\"))\n        .then(() => maybeLoadScript(\"vega-embed\", \"6\"))\n        .catch(showError)\n        .then(() => displayChart(vegaEmbed));\n    }\n  })({\"config\": {\"view\": {\"continuousWidth\": 400, \"continuousHeight\": 300}}, \"data\": {\"name\": \"data-80b0e930866eee6a77413fd6e0890a78\"}, \"facet\": {\"column\": {\"bin\": {\"maxbins\": 10}, \"field\": \"temperature\", \"type\": \"quantitative\"}}, \"spec\": {\"mark\": \"point\", \"encoding\": {\"x\": {\"field\": \"condition\", \"scale\": {\"type\": \"ordinal\"}, \"type\": \"nominal\"}, \"y\": {\"field\": \"wind\", \"scale\": {\"type\": \"linear\"}, \"type\": \"quantitative\"}}}, \"$schema\": \"https://vega.github.io/schema/vega-lite/v4.17.0.json\", \"datasets\": {\"data-80b0e930866eee6a77413fd6e0890a78\": [{\"temperature\": 39.357871877508494, \"wind\": 11.562263885182233, \"precipitation\": 88.42051387921796, \"condition\": \"fog\"}, {\"temperature\": -5.947154608637572, \"wind\": 86.90701738497849, \"precipitation\": 70.55832915444152, \"condition\": \"rain\"}, {\"temperature\": 32.82765627853655, \"wind\": 97.65897402212389, \"precipitation\": 82.65511533530304, \"condition\": \"sun\"}, {\"temperature\": 17.525999106231197, \"wind\": 65.52797477069528, \"precipitation\": 53.86256526101837, \"condition\": \"snow\"}, {\"temperature\": -6.80882656934652, \"wind\": 37.03429394195952, \"precipitation\": 93.86525481254682, \"condition\": \"drizzle\"}, {\"temperature\": 42.35997285539091, \"wind\": 72.00671240950793, \"precipitation\": 40.6587905336316, \"condition\": \"sun\"}, {\"temperature\": 12.236046428620227, \"wind\": 24.35537864304579, \"precipitation\": 83.89080965364893, \"condition\": \"sun\"}, {\"temperature\": 42.8103257781665, \"wind\": 29.81101459268268, \"precipitation\": 71.55020159752638, \"condition\": \"sun\"}, {\"temperature\": 22.54392113778252, \"wind\": 96.88264927669367, \"precipitation\": 57.21207145158276, \"condition\": \"rain\"}, {\"temperature\": 22.503608231529917, \"wind\": 73.45718441223443, \"precipitation\": 18.48099480479052, \"condition\": \"fog\"}, {\"temperature\": 20.697023061259923, \"wind\": 78.8085781529467, \"precipitation\": 82.06153728611223, \"condition\": \"drizzle\"}, {\"temperature\": 25.290109397291054, \"wind\": 80.30649374788099, \"precipitation\": 22.36608661432985, \"condition\": \"sun\"}, {\"temperature\": 38.2799313550365, \"wind\": 67.47085587574028, \"precipitation\": 20.740111999310816, \"condition\": \"snow\"}, {\"temperature\": 3.6725463468113624, \"wind\": 1.0115541087158841, \"precipitation\": 18.15771285571497, \"condition\": \"fog\"}, {\"temperature\": 43.05607594953013, \"wind\": 60.68482719845524, \"precipitation\": 57.77089873340201, \"condition\": \"drizzle\"}, {\"temperature\": 32.26702695541979, \"wind\": 51.25287908408247, \"precipitation\": 82.37499650298116, \"condition\": \"sun\"}, {\"temperature\": 20.65470025342109, \"wind\": 17.357994382399223, \"precipitation\": 61.85803419037972, \"condition\": \"snow\"}, {\"temperature\": 7.591958649416281, \"wind\": 56.87567133218157, \"precipitation\": 63.83705679953054, \"condition\": \"drizzle\"}, {\"temperature\": 34.12588295742098, \"wind\": 53.49706318356736, \"precipitation\": 39.89871505509641, \"condition\": \"drizzle\"}, {\"temperature\": 43.35047614485006, \"wind\": 25.611854852857896, \"precipitation\": 80.36992353488051, \"condition\": \"sun\"}, {\"temperature\": -0.6670916465821719, \"wind\": 85.48944217634627, \"precipitation\": 74.19603252504737, \"condition\": \"fog\"}, {\"temperature\": 27.71533514546813, \"wind\": 92.40258299219964, \"precipitation\": 35.46329445299181, \"condition\": \"sun\"}, {\"temperature\": 42.990310063528334, \"wind\": 4.767210553938305, \"precipitation\": 78.84896594785124, \"condition\": \"drizzle\"}, {\"temperature\": 12.78024257419457, \"wind\": 70.42789298007587, \"precipitation\": 32.19857853159736, \"condition\": \"rain\"}, {\"temperature\": 12.345464511586698, \"wind\": 96.37504245663669, \"precipitation\": 58.32326475918834, \"condition\": \"drizzle\"}, {\"temperature\": 16.615985139736694, \"wind\": 79.42654814203834, \"precipitation\": 13.002687080260278, \"condition\": \"drizzle\"}, {\"temperature\": 37.42489242698708, \"wind\": 61.345695045120095, \"precipitation\": 43.77564041090408, \"condition\": \"rain\"}, {\"temperature\": 4.4803758908315565, \"wind\": 49.77522034422004, \"precipitation\": 50.69600709811043, \"condition\": \"drizzle\"}, {\"temperature\": 24.097652039323982, \"wind\": 8.979384326640405, \"precipitation\": 30.641954593528485, \"condition\": \"sun\"}, {\"temperature\": -5.322217743871135, \"wind\": 61.189346843944705, \"precipitation\": 31.593229557269186, \"condition\": \"snow\"}, {\"temperature\": 9.656575236136984, \"wind\": 2.1373906951494104, \"precipitation\": 57.5465193225844, \"condition\": \"rain\"}, {\"temperature\": 23.09003214094531, \"wind\": 16.8504340533028, \"precipitation\": 49.38199137777561, \"condition\": \"snow\"}, {\"temperature\": -0.8910674950475652, \"wind\": 67.4372389241753, \"precipitation\": 44.01373586297284, \"condition\": \"drizzle\"}, {\"temperature\": 38.77628981797657, \"wind\": 19.349109733319814, \"precipitation\": 18.478064234157422, \"condition\": \"snow\"}, {\"temperature\": 3.4205075380082093, \"wind\": 27.407919047755026, \"precipitation\": 32.84745237938085, \"condition\": \"fog\"}, {\"temperature\": -5.033320662096024, \"wind\": 94.25698462447689, \"precipitation\": 43.460229120490254, \"condition\": \"fog\"}, {\"temperature\": -9.971237977814939, \"wind\": 93.98073112476098, \"precipitation\": 74.78247080628827, \"condition\": \"sun\"}, {\"temperature\": 14.882883965973484, \"wind\": 24.785612027523594, \"precipitation\": 51.19773747140527, \"condition\": \"drizzle\"}, {\"temperature\": 14.018034425277474, \"wind\": 91.62717881393021, \"precipitation\": 99.49522416477019, \"condition\": \"sun\"}, {\"temperature\": 31.305982604448104, \"wind\": 40.90373869893349, \"precipitation\": 74.89298496286528, \"condition\": \"rain\"}, {\"temperature\": 30.610723278623702, \"wind\": 42.06017669565571, \"precipitation\": 69.67703870061514, \"condition\": \"snow\"}, {\"temperature\": 34.74664418075527, \"wind\": 38.58462817605697, \"precipitation\": 67.82787083848606, \"condition\": \"sun\"}, {\"temperature\": 8.120514857460222, \"wind\": 98.79896637292207, \"precipitation\": 21.126567495900296, \"condition\": \"drizzle\"}, {\"temperature\": 21.830015183550092, \"wind\": 22.1211872838582, \"precipitation\": 79.23266981302642, \"condition\": \"fog\"}, {\"temperature\": 37.98236222048335, \"wind\": 3.9308035344873593, \"precipitation\": 14.592671850934291, \"condition\": \"rain\"}, {\"temperature\": 25.958872120055887, \"wind\": 30.880613774748145, \"precipitation\": 81.56963648865039, \"condition\": \"rain\"}, {\"temperature\": 35.17236224867325, \"wind\": 31.08177020391971, \"precipitation\": 24.18647666653794, \"condition\": \"rain\"}, {\"temperature\": 33.364342578760876, \"wind\": 2.9246595809319653, \"precipitation\": 12.15848602978733, \"condition\": \"fog\"}, {\"temperature\": -3.5902835942627487, \"wind\": 86.99227504041556, \"precipitation\": 2.3639517923128017, \"condition\": \"drizzle\"}, {\"temperature\": 43.53091004081406, \"wind\": 70.60869224087214, \"precipitation\": 66.94726954818158, \"condition\": \"rain\"}, {\"temperature\": 1.8337888199719252, \"wind\": 75.06866321814911, \"precipitation\": 53.6891397098117, \"condition\": \"sun\"}, {\"temperature\": 43.47830583880354, \"wind\": 71.68689230524836, \"precipitation\": 31.73117090776013, \"condition\": \"sun\"}, {\"temperature\": 24.70816388894937, \"wind\": 68.30107169120795, \"precipitation\": 20.50225020747416, \"condition\": \"snow\"}, {\"temperature\": 16.05118379980134, \"wind\": 52.99782792799144, \"precipitation\": 11.69028728553364, \"condition\": \"fog\"}, {\"temperature\": 28.077076050276126, \"wind\": 24.843732657120764, \"precipitation\": 7.7565838958533195, \"condition\": \"fog\"}, {\"temperature\": 26.313211105376084, \"wind\": 45.03333651941402, \"precipitation\": 31.41227095201218, \"condition\": \"fog\"}, {\"temperature\": 25.47932407524442, \"wind\": 87.21604759710651, \"precipitation\": 13.96847689136137, \"condition\": \"snow\"}, {\"temperature\": 11.036706749946731, \"wind\": 33.86229598446234, \"precipitation\": 38.968294579117845, \"condition\": \"rain\"}, {\"temperature\": 0.8142265953456, \"wind\": 70.98507415296346, \"precipitation\": 19.273374312321256, \"condition\": \"drizzle\"}, {\"temperature\": 25.391354725358426, \"wind\": 68.9460480155243, \"precipitation\": 93.11546643206357, \"condition\": \"fog\"}, {\"temperature\": 27.7726958317102, \"wind\": 15.439482065514532, \"precipitation\": 5.293937143885552, \"condition\": \"sun\"}, {\"temperature\": 3.0547946822445873, \"wind\": 86.42755659056152, \"precipitation\": 2.624712873155066, \"condition\": \"rain\"}, {\"temperature\": 39.42369527658811, \"wind\": 47.39700920935881, \"precipitation\": 41.728060203985706, \"condition\": \"rain\"}, {\"temperature\": 31.616549252691705, \"wind\": 31.294073920356126, \"precipitation\": 61.66414511625905, \"condition\": \"snow\"}, {\"temperature\": 37.73472491414072, \"wind\": 56.11305268794269, \"precipitation\": 81.92111265208045, \"condition\": \"fog\"}, {\"temperature\": 29.412459474532355, \"wind\": 46.76189099995182, \"precipitation\": 32.17901910781431, \"condition\": \"snow\"}, {\"temperature\": -5.305474080741154, \"wind\": 16.51061166938045, \"precipitation\": 40.72674907868328, \"condition\": \"fog\"}, {\"temperature\": 28.248344335114005, \"wind\": 74.65204013977382, \"precipitation\": 8.992377726473755, \"condition\": \"drizzle\"}, {\"temperature\": 40.71245089747694, \"wind\": 60.52030820865206, \"precipitation\": 5.486289017174572, \"condition\": \"rain\"}, {\"temperature\": 1.2855687063133647, \"wind\": 47.74453362846665, \"precipitation\": 77.71039918592594, \"condition\": \"drizzle\"}, {\"temperature\": 13.997864573343104, \"wind\": 99.2063323267444, \"precipitation\": 14.897152160823302, \"condition\": \"drizzle\"}, {\"temperature\": 18.825549046465813, \"wind\": 96.7516586164724, \"precipitation\": 62.15480712924485, \"condition\": \"rain\"}, {\"temperature\": 17.102600135203243, \"wind\": 95.33201102579268, \"precipitation\": 1.76947633335095, \"condition\": \"rain\"}, {\"temperature\": 31.603226292108516, \"wind\": 80.1260277875885, \"precipitation\": 19.250819441340848, \"condition\": \"drizzle\"}, {\"temperature\": 7.272202684808242, \"wind\": 8.416568701596594, \"precipitation\": 24.486546883662086, \"condition\": \"drizzle\"}, {\"temperature\": 6.42450547762995, \"wind\": 39.273237823513206, \"precipitation\": 59.175511527387584, \"condition\": \"sun\"}, {\"temperature\": 0.37651709537109035, \"wind\": 94.77902759827063, \"precipitation\": 28.64474524803353, \"condition\": \"fog\"}, {\"temperature\": 29.418237348870328, \"wind\": 73.1637224142291, \"precipitation\": 36.384371127988594, \"condition\": \"fog\"}, {\"temperature\": 32.58410407316762, \"wind\": 23.572673866731876, \"precipitation\": 21.78686177609982, \"condition\": \"sun\"}, {\"temperature\": 40.58331555194774, \"wind\": 12.46579946692835, \"precipitation\": 33.052715046353775, \"condition\": \"fog\"}, {\"temperature\": 15.02270799243955, \"wind\": 23.521353082533057, \"precipitation\": 0.5866372551906918, \"condition\": \"rain\"}, {\"temperature\": -1.5856356202583797, \"wind\": 58.706439422107415, \"precipitation\": 23.69625533115679, \"condition\": \"fog\"}, {\"temperature\": 39.83846166807995, \"wind\": 7.925060993257304, \"precipitation\": 73.27745598517468, \"condition\": \"snow\"}, {\"temperature\": 30.25106478610541, \"wind\": 53.60474576386106, \"precipitation\": 76.63592895791527, \"condition\": \"sun\"}, {\"temperature\": 12.08528607254729, \"wind\": 11.679210728025568, \"precipitation\": 21.30987094861694, \"condition\": \"drizzle\"}, {\"temperature\": 20.103305307522167, \"wind\": 35.51132614216856, \"precipitation\": 99.11641742479553, \"condition\": \"snow\"}, {\"temperature\": 34.61293495454381, \"wind\": 16.44814913694985, \"precipitation\": 76.5788070641912, \"condition\": \"sun\"}, {\"temperature\": 5.3304368864748515, \"wind\": 11.488543420187414, \"precipitation\": 23.611522242446682, \"condition\": \"rain\"}, {\"temperature\": 10.624231316087673, \"wind\": 89.57677208906625, \"precipitation\": 17.901521820239154, \"condition\": \"rain\"}, {\"temperature\": 16.45869339879156, \"wind\": 82.14358903068431, \"precipitation\": 50.5274648107178, \"condition\": \"drizzle\"}, {\"temperature\": 30.4859555666389, \"wind\": 85.43429025210673, \"precipitation\": 99.7314407177562, \"condition\": \"sun\"}, {\"temperature\": -7.842697704519862, \"wind\": 20.10431994181, \"precipitation\": 8.499755604198123, \"condition\": \"drizzle\"}, {\"temperature\": 23.82197430970396, \"wind\": 30.71236264475776, \"precipitation\": 91.23232368725205, \"condition\": \"snow\"}, {\"temperature\": 43.63862559514364, \"wind\": 28.821660476932877, \"precipitation\": 99.71103207097889, \"condition\": \"fog\"}, {\"temperature\": 8.981532662882305, \"wind\": 35.921027372850865, \"precipitation\": 91.12082810014113, \"condition\": \"fog\"}, {\"temperature\": 26.077729266653087, \"wind\": 63.53612288999908, \"precipitation\": 90.09748712912719, \"condition\": \"sun\"}, {\"temperature\": 38.44181274295784, \"wind\": 71.99143401846956, \"precipitation\": 21.221688878355216, \"condition\": \"rain\"}, {\"temperature\": 34.78710550916185, \"wind\": 89.27467266301889, \"precipitation\": 41.1955282025937, \"condition\": \"sun\"}, {\"temperature\": -5.848035132361012, \"wind\": 57.23792962073, \"precipitation\": 64.23162970775795, \"condition\": \"rain\"}, {\"temperature\": 0.6933169720006127, \"wind\": 72.76756692493736, \"precipitation\": 62.223235261304524, \"condition\": \"drizzle\"}]}}, {\"mode\": \"vega-lite\"});\n</script>",
      "text/plain": "alt.FacetChart(...)"
     },
     "metadata": {},
     "output_type": "display_data"
    }
   ],
   "source": [
    "base = alt.Chart(df)\n",
    "point = base.mark_point().encode(\n",
    "    x=alt.X(field='condition', type='nominal', scale=alt.Scale(type='ordinal')),\n",
    "    y=alt.Y(field='wind', type='quantitative', scale=alt.Scale(type='linear'))\n",
    ")\n",
    "facet = point.facet(\n",
    "    column=alt.Column(field='temperature', type='quantitative', bin=alt.Bin(maxbins=10))\n",
    ")\n",
    "display_chart(facet)"
   ]
  },
  {
   "cell_type": "markdown",
   "metadata": {},
   "source": [
    "## Multiple Views"
   ]
  },
  {
   "cell_type": "markdown",
   "metadata": {},
   "source": [
    "### Tick Plot and Histogram"
   ]
  },
  {
   "cell_type": "code",
   "execution_count": 75,
   "metadata": {},
   "outputs": [
    {
     "name": "stdout",
     "output_type": "stream",
     "text": [
      "{'field': [{'name': 'temperature', 'type': 'number'},\n",
      "           {'name': 'condition', 'type': 'string'}],\n",
      " 'number_rows': 100,\n",
      " 'view': [{'mark': [{'encoding': [{'channel': 'y', 'field': 'temperature'}],\n",
      "                     'type': 'tick'}],\n",
      "           'scale': [{'channel': 'y', 'type': 'linear', 'zero': 'true'}]},\n",
      "          {'mark': [{'encoding': [{'channel': 'x', 'field': 'condition'},\n",
      "                                  {'aggregate': 'count', 'channel': 'y'}],\n",
      "                     'type': 'bar'}],\n",
      "           'scale': [{'channel': 'x', 'type': 'ordinal'},\n",
      "                     {'channel': 'y', 'type': 'linear', 'zero': 'true'}]}]}\n"
     ]
    }
   ],
   "source": [
    "facts = ['attribute(number_rows,root,100).',\n",
    " 'entity(field,root,temperature).',\n",
    " 'attribute((field,name),temperature,temperature).',\n",
    " 'attribute((field,type),temperature,number).',\n",
    " 'entity(field,root,condition).',\n",
    " 'attribute((field,name),condition,condition).',\n",
    " 'attribute((field,type),condition,string).',\n",
    " 'entity(view,root,0).',\n",
    " 'entity(mark,0,1).',\n",
    " 'attribute((mark,type),1,tick).',\n",
    " 'entity(encoding,1,2).',\n",
    " 'attribute((encoding,channel),2,y).',\n",
    " 'attribute((encoding,field),2,temperature).',\n",
    " 'entity(scale,0,3).',\n",
    " 'attribute((scale,channel),3,y).',\n",
    " 'attribute((scale,type),3,linear).',\n",
    " 'attribute((scale,zero),3,true).',\n",
    " 'entity(view,root,4).',\n",
    " 'entity(mark,4,5).',\n",
    " 'attribute((mark,type),5,bar).',\n",
    " 'entity(encoding,5,6).',\n",
    " 'attribute((encoding,channel),6,x).',\n",
    " 'attribute((encoding,field),6,condition).',\n",
    " 'entity(encoding,5,7).',\n",
    " 'attribute((encoding,channel),7,y).',\n",
    " 'attribute((encoding,aggregate),7,count).',\n",
    " 'entity(scale,4,8).',\n",
    " 'attribute((scale,channel),8,x).',\n",
    " 'attribute((scale,type),8,ordinal).',\n",
    " 'entity(scale,4,9).',\n",
    " 'attribute((scale,channel),9,y).',\n",
    " 'attribute((scale,type),9,linear).',\n",
    " 'attribute((scale,zero),9,true).']\n",
    "spec = facts_to_dict(facts)\n",
    "pprint(spec)"
   ]
  },
  {
   "cell_type": "code",
   "execution_count": 76,
   "metadata": {},
   "outputs": [
    {
     "name": "stdout",
     "output_type": "stream",
     "text": [
      "{'$schema': 'https://vega.github.io/schema/vega-lite/v4.17.0.json',\n",
      " 'config': {'view': {'continuousHeight': 300, 'continuousWidth': 400}},\n",
      " 'hconcat': [{'encoding': {'y': {'field': 'temperature',\n",
      "                                 'scale': {'type': 'linear', 'zero': True},\n",
      "                                 'type': 'quantitative'}},\n",
      "              'mark': 'tick'},\n",
      "             {'encoding': {'x': {'field': 'condition',\n",
      "                                 'scale': {'type': 'ordinal'},\n",
      "                                 'type': 'nominal'},\n",
      "                           'y': {'aggregate': 'count',\n",
      "                                 'field': 'condition',\n",
      "                                 'type': 'nominal'}},\n",
      "              'mark': 'bar'}]}\n"
     ]
    },
    {
     "data": {
      "text/html": "\n<div id=\"altair-viz-7e0f64f3bef142fa800836d1bbe2bc3f\"></div>\n<script type=\"text/javascript\">\n  var VEGA_DEBUG = (typeof VEGA_DEBUG == \"undefined\") ? {} : VEGA_DEBUG;\n  (function(spec, embedOpt){\n    let outputDiv = document.currentScript.previousElementSibling;\n    if (outputDiv.id !== \"altair-viz-7e0f64f3bef142fa800836d1bbe2bc3f\") {\n      outputDiv = document.getElementById(\"altair-viz-7e0f64f3bef142fa800836d1bbe2bc3f\");\n    }\n    const paths = {\n      \"vega\": \"https://cdn.jsdelivr.net/npm//vega@5?noext\",\n      \"vega-lib\": \"https://cdn.jsdelivr.net/npm//vega-lib?noext\",\n      \"vega-lite\": \"https://cdn.jsdelivr.net/npm//vega-lite@4.17.0?noext\",\n      \"vega-embed\": \"https://cdn.jsdelivr.net/npm//vega-embed@6?noext\",\n    };\n\n    function maybeLoadScript(lib, version) {\n      var key = `${lib.replace(\"-\", \"\")}_version`;\n      return (VEGA_DEBUG[key] == version) ?\n        Promise.resolve(paths[lib]) :\n        new Promise(function(resolve, reject) {\n          var s = document.createElement('script');\n          document.getElementsByTagName(\"head\")[0].appendChild(s);\n          s.async = true;\n          s.onload = () => {\n            VEGA_DEBUG[key] = version;\n            return resolve(paths[lib]);\n          };\n          s.onerror = () => reject(`Error loading script: ${paths[lib]}`);\n          s.src = paths[lib];\n        });\n    }\n\n    function showError(err) {\n      outputDiv.innerHTML = `<div class=\"error\" style=\"color:red;\">${err}</div>`;\n      throw err;\n    }\n\n    function displayChart(vegaEmbed) {\n      vegaEmbed(outputDiv, spec, embedOpt)\n        .catch(err => showError(`Javascript Error: ${err.message}<br>This usually means there's a typo in your chart specification. See the javascript console for the full traceback.`));\n    }\n\n    if(typeof define === \"function\" && define.amd) {\n      requirejs.config({paths});\n      require([\"vega-embed\"], displayChart, err => showError(`Error loading script: ${err.message}`));\n    } else {\n      maybeLoadScript(\"vega\", \"5\")\n        .then(() => maybeLoadScript(\"vega-lite\", \"4.17.0\"))\n        .then(() => maybeLoadScript(\"vega-embed\", \"6\"))\n        .catch(showError)\n        .then(() => displayChart(vegaEmbed));\n    }\n  })({\"config\": {\"view\": {\"continuousWidth\": 400, \"continuousHeight\": 300}}, \"hconcat\": [{\"mark\": \"tick\", \"encoding\": {\"y\": {\"field\": \"temperature\", \"scale\": {\"type\": \"linear\", \"zero\": true}, \"type\": \"quantitative\"}}}, {\"mark\": \"bar\", \"encoding\": {\"x\": {\"field\": \"condition\", \"scale\": {\"type\": \"ordinal\"}, \"type\": \"nominal\"}, \"y\": {\"aggregate\": \"count\", \"field\": \"condition\", \"type\": \"nominal\"}}}], \"data\": {\"name\": \"data-80b0e930866eee6a77413fd6e0890a78\"}, \"$schema\": \"https://vega.github.io/schema/vega-lite/v4.17.0.json\", \"datasets\": {\"data-80b0e930866eee6a77413fd6e0890a78\": [{\"temperature\": 39.357871877508494, \"wind\": 11.562263885182233, \"precipitation\": 88.42051387921796, \"condition\": \"fog\"}, {\"temperature\": -5.947154608637572, \"wind\": 86.90701738497849, \"precipitation\": 70.55832915444152, \"condition\": \"rain\"}, {\"temperature\": 32.82765627853655, \"wind\": 97.65897402212389, \"precipitation\": 82.65511533530304, \"condition\": \"sun\"}, {\"temperature\": 17.525999106231197, \"wind\": 65.52797477069528, \"precipitation\": 53.86256526101837, \"condition\": \"snow\"}, {\"temperature\": -6.80882656934652, \"wind\": 37.03429394195952, \"precipitation\": 93.86525481254682, \"condition\": \"drizzle\"}, {\"temperature\": 42.35997285539091, \"wind\": 72.00671240950793, \"precipitation\": 40.6587905336316, \"condition\": \"sun\"}, {\"temperature\": 12.236046428620227, \"wind\": 24.35537864304579, \"precipitation\": 83.89080965364893, \"condition\": \"sun\"}, {\"temperature\": 42.8103257781665, \"wind\": 29.81101459268268, \"precipitation\": 71.55020159752638, \"condition\": \"sun\"}, {\"temperature\": 22.54392113778252, \"wind\": 96.88264927669367, \"precipitation\": 57.21207145158276, \"condition\": \"rain\"}, {\"temperature\": 22.503608231529917, \"wind\": 73.45718441223443, \"precipitation\": 18.48099480479052, \"condition\": \"fog\"}, {\"temperature\": 20.697023061259923, \"wind\": 78.8085781529467, \"precipitation\": 82.06153728611223, \"condition\": \"drizzle\"}, {\"temperature\": 25.290109397291054, \"wind\": 80.30649374788099, \"precipitation\": 22.36608661432985, \"condition\": \"sun\"}, {\"temperature\": 38.2799313550365, \"wind\": 67.47085587574028, \"precipitation\": 20.740111999310816, \"condition\": \"snow\"}, {\"temperature\": 3.6725463468113624, \"wind\": 1.0115541087158841, \"precipitation\": 18.15771285571497, \"condition\": \"fog\"}, {\"temperature\": 43.05607594953013, \"wind\": 60.68482719845524, \"precipitation\": 57.77089873340201, \"condition\": \"drizzle\"}, {\"temperature\": 32.26702695541979, \"wind\": 51.25287908408247, \"precipitation\": 82.37499650298116, \"condition\": \"sun\"}, {\"temperature\": 20.65470025342109, \"wind\": 17.357994382399223, \"precipitation\": 61.85803419037972, \"condition\": \"snow\"}, {\"temperature\": 7.591958649416281, \"wind\": 56.87567133218157, \"precipitation\": 63.83705679953054, \"condition\": \"drizzle\"}, {\"temperature\": 34.12588295742098, \"wind\": 53.49706318356736, \"precipitation\": 39.89871505509641, \"condition\": \"drizzle\"}, {\"temperature\": 43.35047614485006, \"wind\": 25.611854852857896, \"precipitation\": 80.36992353488051, \"condition\": \"sun\"}, {\"temperature\": -0.6670916465821719, \"wind\": 85.48944217634627, \"precipitation\": 74.19603252504737, \"condition\": \"fog\"}, {\"temperature\": 27.71533514546813, \"wind\": 92.40258299219964, \"precipitation\": 35.46329445299181, \"condition\": \"sun\"}, {\"temperature\": 42.990310063528334, \"wind\": 4.767210553938305, \"precipitation\": 78.84896594785124, \"condition\": \"drizzle\"}, {\"temperature\": 12.78024257419457, \"wind\": 70.42789298007587, \"precipitation\": 32.19857853159736, \"condition\": \"rain\"}, {\"temperature\": 12.345464511586698, \"wind\": 96.37504245663669, \"precipitation\": 58.32326475918834, \"condition\": \"drizzle\"}, {\"temperature\": 16.615985139736694, \"wind\": 79.42654814203834, \"precipitation\": 13.002687080260278, \"condition\": \"drizzle\"}, {\"temperature\": 37.42489242698708, \"wind\": 61.345695045120095, \"precipitation\": 43.77564041090408, \"condition\": \"rain\"}, {\"temperature\": 4.4803758908315565, \"wind\": 49.77522034422004, \"precipitation\": 50.69600709811043, \"condition\": \"drizzle\"}, {\"temperature\": 24.097652039323982, \"wind\": 8.979384326640405, \"precipitation\": 30.641954593528485, \"condition\": \"sun\"}, {\"temperature\": -5.322217743871135, \"wind\": 61.189346843944705, \"precipitation\": 31.593229557269186, \"condition\": \"snow\"}, {\"temperature\": 9.656575236136984, \"wind\": 2.1373906951494104, \"precipitation\": 57.5465193225844, \"condition\": \"rain\"}, {\"temperature\": 23.09003214094531, \"wind\": 16.8504340533028, \"precipitation\": 49.38199137777561, \"condition\": \"snow\"}, {\"temperature\": -0.8910674950475652, \"wind\": 67.4372389241753, \"precipitation\": 44.01373586297284, \"condition\": \"drizzle\"}, {\"temperature\": 38.77628981797657, \"wind\": 19.349109733319814, \"precipitation\": 18.478064234157422, \"condition\": \"snow\"}, {\"temperature\": 3.4205075380082093, \"wind\": 27.407919047755026, \"precipitation\": 32.84745237938085, \"condition\": \"fog\"}, {\"temperature\": -5.033320662096024, \"wind\": 94.25698462447689, \"precipitation\": 43.460229120490254, \"condition\": \"fog\"}, {\"temperature\": -9.971237977814939, \"wind\": 93.98073112476098, \"precipitation\": 74.78247080628827, \"condition\": \"sun\"}, {\"temperature\": 14.882883965973484, \"wind\": 24.785612027523594, \"precipitation\": 51.19773747140527, \"condition\": \"drizzle\"}, {\"temperature\": 14.018034425277474, \"wind\": 91.62717881393021, \"precipitation\": 99.49522416477019, \"condition\": \"sun\"}, {\"temperature\": 31.305982604448104, \"wind\": 40.90373869893349, \"precipitation\": 74.89298496286528, \"condition\": \"rain\"}, {\"temperature\": 30.610723278623702, \"wind\": 42.06017669565571, \"precipitation\": 69.67703870061514, \"condition\": \"snow\"}, {\"temperature\": 34.74664418075527, \"wind\": 38.58462817605697, \"precipitation\": 67.82787083848606, \"condition\": \"sun\"}, {\"temperature\": 8.120514857460222, \"wind\": 98.79896637292207, \"precipitation\": 21.126567495900296, \"condition\": \"drizzle\"}, {\"temperature\": 21.830015183550092, \"wind\": 22.1211872838582, \"precipitation\": 79.23266981302642, \"condition\": \"fog\"}, {\"temperature\": 37.98236222048335, \"wind\": 3.9308035344873593, \"precipitation\": 14.592671850934291, \"condition\": \"rain\"}, {\"temperature\": 25.958872120055887, \"wind\": 30.880613774748145, \"precipitation\": 81.56963648865039, \"condition\": \"rain\"}, {\"temperature\": 35.17236224867325, \"wind\": 31.08177020391971, \"precipitation\": 24.18647666653794, \"condition\": \"rain\"}, {\"temperature\": 33.364342578760876, \"wind\": 2.9246595809319653, \"precipitation\": 12.15848602978733, \"condition\": \"fog\"}, {\"temperature\": -3.5902835942627487, \"wind\": 86.99227504041556, \"precipitation\": 2.3639517923128017, \"condition\": \"drizzle\"}, {\"temperature\": 43.53091004081406, \"wind\": 70.60869224087214, \"precipitation\": 66.94726954818158, \"condition\": \"rain\"}, {\"temperature\": 1.8337888199719252, \"wind\": 75.06866321814911, \"precipitation\": 53.6891397098117, \"condition\": \"sun\"}, {\"temperature\": 43.47830583880354, \"wind\": 71.68689230524836, \"precipitation\": 31.73117090776013, \"condition\": \"sun\"}, {\"temperature\": 24.70816388894937, \"wind\": 68.30107169120795, \"precipitation\": 20.50225020747416, \"condition\": \"snow\"}, {\"temperature\": 16.05118379980134, \"wind\": 52.99782792799144, \"precipitation\": 11.69028728553364, \"condition\": \"fog\"}, {\"temperature\": 28.077076050276126, \"wind\": 24.843732657120764, \"precipitation\": 7.7565838958533195, \"condition\": \"fog\"}, {\"temperature\": 26.313211105376084, \"wind\": 45.03333651941402, \"precipitation\": 31.41227095201218, \"condition\": \"fog\"}, {\"temperature\": 25.47932407524442, \"wind\": 87.21604759710651, \"precipitation\": 13.96847689136137, \"condition\": \"snow\"}, {\"temperature\": 11.036706749946731, \"wind\": 33.86229598446234, \"precipitation\": 38.968294579117845, \"condition\": \"rain\"}, {\"temperature\": 0.8142265953456, \"wind\": 70.98507415296346, \"precipitation\": 19.273374312321256, \"condition\": \"drizzle\"}, {\"temperature\": 25.391354725358426, \"wind\": 68.9460480155243, \"precipitation\": 93.11546643206357, \"condition\": \"fog\"}, {\"temperature\": 27.7726958317102, \"wind\": 15.439482065514532, \"precipitation\": 5.293937143885552, \"condition\": \"sun\"}, {\"temperature\": 3.0547946822445873, \"wind\": 86.42755659056152, \"precipitation\": 2.624712873155066, \"condition\": \"rain\"}, {\"temperature\": 39.42369527658811, \"wind\": 47.39700920935881, \"precipitation\": 41.728060203985706, \"condition\": \"rain\"}, {\"temperature\": 31.616549252691705, \"wind\": 31.294073920356126, \"precipitation\": 61.66414511625905, \"condition\": \"snow\"}, {\"temperature\": 37.73472491414072, \"wind\": 56.11305268794269, \"precipitation\": 81.92111265208045, \"condition\": \"fog\"}, {\"temperature\": 29.412459474532355, \"wind\": 46.76189099995182, \"precipitation\": 32.17901910781431, \"condition\": \"snow\"}, {\"temperature\": -5.305474080741154, \"wind\": 16.51061166938045, \"precipitation\": 40.72674907868328, \"condition\": \"fog\"}, {\"temperature\": 28.248344335114005, \"wind\": 74.65204013977382, \"precipitation\": 8.992377726473755, \"condition\": \"drizzle\"}, {\"temperature\": 40.71245089747694, \"wind\": 60.52030820865206, \"precipitation\": 5.486289017174572, \"condition\": \"rain\"}, {\"temperature\": 1.2855687063133647, \"wind\": 47.74453362846665, \"precipitation\": 77.71039918592594, \"condition\": \"drizzle\"}, {\"temperature\": 13.997864573343104, \"wind\": 99.2063323267444, \"precipitation\": 14.897152160823302, \"condition\": \"drizzle\"}, {\"temperature\": 18.825549046465813, \"wind\": 96.7516586164724, \"precipitation\": 62.15480712924485, \"condition\": \"rain\"}, {\"temperature\": 17.102600135203243, \"wind\": 95.33201102579268, \"precipitation\": 1.76947633335095, \"condition\": \"rain\"}, {\"temperature\": 31.603226292108516, \"wind\": 80.1260277875885, \"precipitation\": 19.250819441340848, \"condition\": \"drizzle\"}, {\"temperature\": 7.272202684808242, \"wind\": 8.416568701596594, \"precipitation\": 24.486546883662086, \"condition\": \"drizzle\"}, {\"temperature\": 6.42450547762995, \"wind\": 39.273237823513206, \"precipitation\": 59.175511527387584, \"condition\": \"sun\"}, {\"temperature\": 0.37651709537109035, \"wind\": 94.77902759827063, \"precipitation\": 28.64474524803353, \"condition\": \"fog\"}, {\"temperature\": 29.418237348870328, \"wind\": 73.1637224142291, \"precipitation\": 36.384371127988594, \"condition\": \"fog\"}, {\"temperature\": 32.58410407316762, \"wind\": 23.572673866731876, \"precipitation\": 21.78686177609982, \"condition\": \"sun\"}, {\"temperature\": 40.58331555194774, \"wind\": 12.46579946692835, \"precipitation\": 33.052715046353775, \"condition\": \"fog\"}, {\"temperature\": 15.02270799243955, \"wind\": 23.521353082533057, \"precipitation\": 0.5866372551906918, \"condition\": \"rain\"}, {\"temperature\": -1.5856356202583797, \"wind\": 58.706439422107415, \"precipitation\": 23.69625533115679, \"condition\": \"fog\"}, {\"temperature\": 39.83846166807995, \"wind\": 7.925060993257304, \"precipitation\": 73.27745598517468, \"condition\": \"snow\"}, {\"temperature\": 30.25106478610541, \"wind\": 53.60474576386106, \"precipitation\": 76.63592895791527, \"condition\": \"sun\"}, {\"temperature\": 12.08528607254729, \"wind\": 11.679210728025568, \"precipitation\": 21.30987094861694, \"condition\": \"drizzle\"}, {\"temperature\": 20.103305307522167, \"wind\": 35.51132614216856, \"precipitation\": 99.11641742479553, \"condition\": \"snow\"}, {\"temperature\": 34.61293495454381, \"wind\": 16.44814913694985, \"precipitation\": 76.5788070641912, \"condition\": \"sun\"}, {\"temperature\": 5.3304368864748515, \"wind\": 11.488543420187414, \"precipitation\": 23.611522242446682, \"condition\": \"rain\"}, {\"temperature\": 10.624231316087673, \"wind\": 89.57677208906625, \"precipitation\": 17.901521820239154, \"condition\": \"rain\"}, {\"temperature\": 16.45869339879156, \"wind\": 82.14358903068431, \"precipitation\": 50.5274648107178, \"condition\": \"drizzle\"}, {\"temperature\": 30.4859555666389, \"wind\": 85.43429025210673, \"precipitation\": 99.7314407177562, \"condition\": \"sun\"}, {\"temperature\": -7.842697704519862, \"wind\": 20.10431994181, \"precipitation\": 8.499755604198123, \"condition\": \"drizzle\"}, {\"temperature\": 23.82197430970396, \"wind\": 30.71236264475776, \"precipitation\": 91.23232368725205, \"condition\": \"snow\"}, {\"temperature\": 43.63862559514364, \"wind\": 28.821660476932877, \"precipitation\": 99.71103207097889, \"condition\": \"fog\"}, {\"temperature\": 8.981532662882305, \"wind\": 35.921027372850865, \"precipitation\": 91.12082810014113, \"condition\": \"fog\"}, {\"temperature\": 26.077729266653087, \"wind\": 63.53612288999908, \"precipitation\": 90.09748712912719, \"condition\": \"sun\"}, {\"temperature\": 38.44181274295784, \"wind\": 71.99143401846956, \"precipitation\": 21.221688878355216, \"condition\": \"rain\"}, {\"temperature\": 34.78710550916185, \"wind\": 89.27467266301889, \"precipitation\": 41.1955282025937, \"condition\": \"sun\"}, {\"temperature\": -5.848035132361012, \"wind\": 57.23792962073, \"precipitation\": 64.23162970775795, \"condition\": \"rain\"}, {\"temperature\": 0.6933169720006127, \"wind\": 72.76756692493736, \"precipitation\": 62.223235261304524, \"condition\": \"drizzle\"}]}}, {\"mode\": \"vega-lite\"});\n</script>",
      "text/plain": "alt.HConcatChart(...)"
     },
     "metadata": {},
     "output_type": "display_data"
    }
   ],
   "source": [
    "base = alt.Chart(df)\n",
    "\n",
    "tick = base.mark_tick().encode(\n",
    "    y=alt.Y(field='temperature', type='quantitative', scale=alt.Scale(type='linear', zero=True))\n",
    ")\n",
    "view_1 = tick\n",
    "\n",
    "bar = base.mark_bar().encode(\n",
    "    x=alt.X(field='condition', type='nominal', scale=alt.Scale(type='ordinal')),\n",
    "    y=alt.Y(field='condition', type='nominal', aggregate='count')\n",
    ")\n",
    "view_2 = bar\n",
    "\n",
    "display_chart(view_1 | view_2)"
   ]
  },
  {
   "cell_type": "markdown",
   "metadata": {},
   "source": [
    "### Tick Plot and Histogram with Shared Y-Scale"
   ]
  },
  {
   "cell_type": "code",
   "execution_count": 77,
   "metadata": {},
   "outputs": [
    {
     "name": "stdout",
     "output_type": "stream",
     "text": [
      "{'field': [{'name': 'temperature', 'type': 'number'},\n",
      "           {'name': 'condition', 'type': 'string'}],\n",
      " 'number_rows': 100,\n",
      " 'scale': [{'channel': 'y', 'type': 'linear', 'zero': 'true'}],\n",
      " 'view': [{'mark': [{'encoding': [{'channel': 'y', 'field': 'temperature'}],\n",
      "                     'type': 'tick'}]},\n",
      "          {'mark': [{'encoding': [{'aggregate': 'mean',\n",
      "                                   'channel': 'y',\n",
      "                                   'field': 'temperature'},\n",
      "                                  {'channel': 'x', 'field': 'condition'}],\n",
      "                     'type': 'bar'}],\n",
      "           'scale': [{'channel': 'x', 'type': 'ordinal'}]}]}\n"
     ]
    }
   ],
   "source": [
    "facts = ['attribute(number_rows,root,100).',\n",
    " 'entity(field,root,temperature).',\n",
    " 'attribute((field,name),temperature,temperature).',\n",
    " 'attribute((field,type),temperature,number).',\n",
    " 'entity(field,root,condition).',\n",
    " 'attribute((field,name),condition,condition).',\n",
    " 'attribute((field,type),condition,string).',\n",
    " 'entity(view,root,0).',\n",
    " 'entity(mark,0,1).',\n",
    " 'attribute((mark,type),1,tick).',\n",
    " 'entity(encoding,1,2).',\n",
    " 'attribute((encoding,channel),2,y).',\n",
    " 'attribute((encoding,field),2,temperature).',\n",
    " 'entity(view,root,3).',\n",
    " 'entity(mark,3,4).',\n",
    " 'attribute((mark,type),4,bar).',\n",
    " 'entity(encoding,4,5).',\n",
    " 'attribute((encoding,channel),5,y).',\n",
    " 'attribute((encoding,field),5,temperature).',\n",
    " 'attribute((encoding,aggregate),5,mean).',\n",
    " 'entity(encoding,4,6).',\n",
    " 'attribute((encoding,channel),6,x).',\n",
    " 'attribute((encoding,field),6,condition).',\n",
    " 'entity(scale,3,7).',\n",
    " 'attribute((scale,channel),7,x).',\n",
    " 'attribute((scale,type),7,ordinal).',\n",
    " 'entity(scale,root,8).',\n",
    " 'attribute((scale,channel),8,y).',\n",
    " 'attribute((scale,type),8,linear).',\n",
    " 'attribute((scale,zero),8,true).']\n",
    "spec = facts_to_dict(facts)\n",
    "pprint(spec)"
   ]
  },
  {
   "cell_type": "code",
   "execution_count": 78,
   "metadata": {},
   "outputs": [
    {
     "name": "stdout",
     "output_type": "stream",
     "text": [
      "{'$schema': 'https://vega.github.io/schema/vega-lite/v4.17.0.json',\n",
      " 'config': {'view': {'continuousHeight': 300, 'continuousWidth': 400}},\n",
      " 'hconcat': [{'encoding': {'y': {'field': 'temperature',\n",
      "                                 'type': 'quantitative'}},\n",
      "              'mark': 'tick'},\n",
      "             {'encoding': {'x': {'field': 'condition', 'type': 'nominal'},\n",
      "                           'y': {'aggregate': 'mean',\n",
      "                                 'field': 'temperature',\n",
      "                                 'type': 'quantitative'}},\n",
      "              'mark': 'bar'}],\n",
      " 'resolve': {'scale': {'y': 'shared'}}}\n"
     ]
    },
    {
     "data": {
      "text/html": "\n<div id=\"altair-viz-5acbbb91eff4488ab47262010ba2ba97\"></div>\n<script type=\"text/javascript\">\n  var VEGA_DEBUG = (typeof VEGA_DEBUG == \"undefined\") ? {} : VEGA_DEBUG;\n  (function(spec, embedOpt){\n    let outputDiv = document.currentScript.previousElementSibling;\n    if (outputDiv.id !== \"altair-viz-5acbbb91eff4488ab47262010ba2ba97\") {\n      outputDiv = document.getElementById(\"altair-viz-5acbbb91eff4488ab47262010ba2ba97\");\n    }\n    const paths = {\n      \"vega\": \"https://cdn.jsdelivr.net/npm//vega@5?noext\",\n      \"vega-lib\": \"https://cdn.jsdelivr.net/npm//vega-lib?noext\",\n      \"vega-lite\": \"https://cdn.jsdelivr.net/npm//vega-lite@4.17.0?noext\",\n      \"vega-embed\": \"https://cdn.jsdelivr.net/npm//vega-embed@6?noext\",\n    };\n\n    function maybeLoadScript(lib, version) {\n      var key = `${lib.replace(\"-\", \"\")}_version`;\n      return (VEGA_DEBUG[key] == version) ?\n        Promise.resolve(paths[lib]) :\n        new Promise(function(resolve, reject) {\n          var s = document.createElement('script');\n          document.getElementsByTagName(\"head\")[0].appendChild(s);\n          s.async = true;\n          s.onload = () => {\n            VEGA_DEBUG[key] = version;\n            return resolve(paths[lib]);\n          };\n          s.onerror = () => reject(`Error loading script: ${paths[lib]}`);\n          s.src = paths[lib];\n        });\n    }\n\n    function showError(err) {\n      outputDiv.innerHTML = `<div class=\"error\" style=\"color:red;\">${err}</div>`;\n      throw err;\n    }\n\n    function displayChart(vegaEmbed) {\n      vegaEmbed(outputDiv, spec, embedOpt)\n        .catch(err => showError(`Javascript Error: ${err.message}<br>This usually means there's a typo in your chart specification. See the javascript console for the full traceback.`));\n    }\n\n    if(typeof define === \"function\" && define.amd) {\n      requirejs.config({paths});\n      require([\"vega-embed\"], displayChart, err => showError(`Error loading script: ${err.message}`));\n    } else {\n      maybeLoadScript(\"vega\", \"5\")\n        .then(() => maybeLoadScript(\"vega-lite\", \"4.17.0\"))\n        .then(() => maybeLoadScript(\"vega-embed\", \"6\"))\n        .catch(showError)\n        .then(() => displayChart(vegaEmbed));\n    }\n  })({\"config\": {\"view\": {\"continuousWidth\": 400, \"continuousHeight\": 300}}, \"hconcat\": [{\"mark\": \"tick\", \"encoding\": {\"y\": {\"field\": \"temperature\", \"type\": \"quantitative\"}}}, {\"mark\": \"bar\", \"encoding\": {\"x\": {\"field\": \"condition\", \"type\": \"nominal\"}, \"y\": {\"aggregate\": \"mean\", \"field\": \"temperature\", \"type\": \"quantitative\"}}}], \"data\": {\"name\": \"data-80b0e930866eee6a77413fd6e0890a78\"}, \"resolve\": {\"scale\": {\"y\": \"shared\"}}, \"$schema\": \"https://vega.github.io/schema/vega-lite/v4.17.0.json\", \"datasets\": {\"data-80b0e930866eee6a77413fd6e0890a78\": [{\"temperature\": 39.357871877508494, \"wind\": 11.562263885182233, \"precipitation\": 88.42051387921796, \"condition\": \"fog\"}, {\"temperature\": -5.947154608637572, \"wind\": 86.90701738497849, \"precipitation\": 70.55832915444152, \"condition\": \"rain\"}, {\"temperature\": 32.82765627853655, \"wind\": 97.65897402212389, \"precipitation\": 82.65511533530304, \"condition\": \"sun\"}, {\"temperature\": 17.525999106231197, \"wind\": 65.52797477069528, \"precipitation\": 53.86256526101837, \"condition\": \"snow\"}, {\"temperature\": -6.80882656934652, \"wind\": 37.03429394195952, \"precipitation\": 93.86525481254682, \"condition\": \"drizzle\"}, {\"temperature\": 42.35997285539091, \"wind\": 72.00671240950793, \"precipitation\": 40.6587905336316, \"condition\": \"sun\"}, {\"temperature\": 12.236046428620227, \"wind\": 24.35537864304579, \"precipitation\": 83.89080965364893, \"condition\": \"sun\"}, {\"temperature\": 42.8103257781665, \"wind\": 29.81101459268268, \"precipitation\": 71.55020159752638, \"condition\": \"sun\"}, {\"temperature\": 22.54392113778252, \"wind\": 96.88264927669367, \"precipitation\": 57.21207145158276, \"condition\": \"rain\"}, {\"temperature\": 22.503608231529917, \"wind\": 73.45718441223443, \"precipitation\": 18.48099480479052, \"condition\": \"fog\"}, {\"temperature\": 20.697023061259923, \"wind\": 78.8085781529467, \"precipitation\": 82.06153728611223, \"condition\": \"drizzle\"}, {\"temperature\": 25.290109397291054, \"wind\": 80.30649374788099, \"precipitation\": 22.36608661432985, \"condition\": \"sun\"}, {\"temperature\": 38.2799313550365, \"wind\": 67.47085587574028, \"precipitation\": 20.740111999310816, \"condition\": \"snow\"}, {\"temperature\": 3.6725463468113624, \"wind\": 1.0115541087158841, \"precipitation\": 18.15771285571497, \"condition\": \"fog\"}, {\"temperature\": 43.05607594953013, \"wind\": 60.68482719845524, \"precipitation\": 57.77089873340201, \"condition\": \"drizzle\"}, {\"temperature\": 32.26702695541979, \"wind\": 51.25287908408247, \"precipitation\": 82.37499650298116, \"condition\": \"sun\"}, {\"temperature\": 20.65470025342109, \"wind\": 17.357994382399223, \"precipitation\": 61.85803419037972, \"condition\": \"snow\"}, {\"temperature\": 7.591958649416281, \"wind\": 56.87567133218157, \"precipitation\": 63.83705679953054, \"condition\": \"drizzle\"}, {\"temperature\": 34.12588295742098, \"wind\": 53.49706318356736, \"precipitation\": 39.89871505509641, \"condition\": \"drizzle\"}, {\"temperature\": 43.35047614485006, \"wind\": 25.611854852857896, \"precipitation\": 80.36992353488051, \"condition\": \"sun\"}, {\"temperature\": -0.6670916465821719, \"wind\": 85.48944217634627, \"precipitation\": 74.19603252504737, \"condition\": \"fog\"}, {\"temperature\": 27.71533514546813, \"wind\": 92.40258299219964, \"precipitation\": 35.46329445299181, \"condition\": \"sun\"}, {\"temperature\": 42.990310063528334, \"wind\": 4.767210553938305, \"precipitation\": 78.84896594785124, \"condition\": \"drizzle\"}, {\"temperature\": 12.78024257419457, \"wind\": 70.42789298007587, \"precipitation\": 32.19857853159736, \"condition\": \"rain\"}, {\"temperature\": 12.345464511586698, \"wind\": 96.37504245663669, \"precipitation\": 58.32326475918834, \"condition\": \"drizzle\"}, {\"temperature\": 16.615985139736694, \"wind\": 79.42654814203834, \"precipitation\": 13.002687080260278, \"condition\": \"drizzle\"}, {\"temperature\": 37.42489242698708, \"wind\": 61.345695045120095, \"precipitation\": 43.77564041090408, \"condition\": \"rain\"}, {\"temperature\": 4.4803758908315565, \"wind\": 49.77522034422004, \"precipitation\": 50.69600709811043, \"condition\": \"drizzle\"}, {\"temperature\": 24.097652039323982, \"wind\": 8.979384326640405, \"precipitation\": 30.641954593528485, \"condition\": \"sun\"}, {\"temperature\": -5.322217743871135, \"wind\": 61.189346843944705, \"precipitation\": 31.593229557269186, \"condition\": \"snow\"}, {\"temperature\": 9.656575236136984, \"wind\": 2.1373906951494104, \"precipitation\": 57.5465193225844, \"condition\": \"rain\"}, {\"temperature\": 23.09003214094531, \"wind\": 16.8504340533028, \"precipitation\": 49.38199137777561, \"condition\": \"snow\"}, {\"temperature\": -0.8910674950475652, \"wind\": 67.4372389241753, \"precipitation\": 44.01373586297284, \"condition\": \"drizzle\"}, {\"temperature\": 38.77628981797657, \"wind\": 19.349109733319814, \"precipitation\": 18.478064234157422, \"condition\": \"snow\"}, {\"temperature\": 3.4205075380082093, \"wind\": 27.407919047755026, \"precipitation\": 32.84745237938085, \"condition\": \"fog\"}, {\"temperature\": -5.033320662096024, \"wind\": 94.25698462447689, \"precipitation\": 43.460229120490254, \"condition\": \"fog\"}, {\"temperature\": -9.971237977814939, \"wind\": 93.98073112476098, \"precipitation\": 74.78247080628827, \"condition\": \"sun\"}, {\"temperature\": 14.882883965973484, \"wind\": 24.785612027523594, \"precipitation\": 51.19773747140527, \"condition\": \"drizzle\"}, {\"temperature\": 14.018034425277474, \"wind\": 91.62717881393021, \"precipitation\": 99.49522416477019, \"condition\": \"sun\"}, {\"temperature\": 31.305982604448104, \"wind\": 40.90373869893349, \"precipitation\": 74.89298496286528, \"condition\": \"rain\"}, {\"temperature\": 30.610723278623702, \"wind\": 42.06017669565571, \"precipitation\": 69.67703870061514, \"condition\": \"snow\"}, {\"temperature\": 34.74664418075527, \"wind\": 38.58462817605697, \"precipitation\": 67.82787083848606, \"condition\": \"sun\"}, {\"temperature\": 8.120514857460222, \"wind\": 98.79896637292207, \"precipitation\": 21.126567495900296, \"condition\": \"drizzle\"}, {\"temperature\": 21.830015183550092, \"wind\": 22.1211872838582, \"precipitation\": 79.23266981302642, \"condition\": \"fog\"}, {\"temperature\": 37.98236222048335, \"wind\": 3.9308035344873593, \"precipitation\": 14.592671850934291, \"condition\": \"rain\"}, {\"temperature\": 25.958872120055887, \"wind\": 30.880613774748145, \"precipitation\": 81.56963648865039, \"condition\": \"rain\"}, {\"temperature\": 35.17236224867325, \"wind\": 31.08177020391971, \"precipitation\": 24.18647666653794, \"condition\": \"rain\"}, {\"temperature\": 33.364342578760876, \"wind\": 2.9246595809319653, \"precipitation\": 12.15848602978733, \"condition\": \"fog\"}, {\"temperature\": -3.5902835942627487, \"wind\": 86.99227504041556, \"precipitation\": 2.3639517923128017, \"condition\": \"drizzle\"}, {\"temperature\": 43.53091004081406, \"wind\": 70.60869224087214, \"precipitation\": 66.94726954818158, \"condition\": \"rain\"}, {\"temperature\": 1.8337888199719252, \"wind\": 75.06866321814911, \"precipitation\": 53.6891397098117, \"condition\": \"sun\"}, {\"temperature\": 43.47830583880354, \"wind\": 71.68689230524836, \"precipitation\": 31.73117090776013, \"condition\": \"sun\"}, {\"temperature\": 24.70816388894937, \"wind\": 68.30107169120795, \"precipitation\": 20.50225020747416, \"condition\": \"snow\"}, {\"temperature\": 16.05118379980134, \"wind\": 52.99782792799144, \"precipitation\": 11.69028728553364, \"condition\": \"fog\"}, {\"temperature\": 28.077076050276126, \"wind\": 24.843732657120764, \"precipitation\": 7.7565838958533195, \"condition\": \"fog\"}, {\"temperature\": 26.313211105376084, \"wind\": 45.03333651941402, \"precipitation\": 31.41227095201218, \"condition\": \"fog\"}, {\"temperature\": 25.47932407524442, \"wind\": 87.21604759710651, \"precipitation\": 13.96847689136137, \"condition\": \"snow\"}, {\"temperature\": 11.036706749946731, \"wind\": 33.86229598446234, \"precipitation\": 38.968294579117845, \"condition\": \"rain\"}, {\"temperature\": 0.8142265953456, \"wind\": 70.98507415296346, \"precipitation\": 19.273374312321256, \"condition\": \"drizzle\"}, {\"temperature\": 25.391354725358426, \"wind\": 68.9460480155243, \"precipitation\": 93.11546643206357, \"condition\": \"fog\"}, {\"temperature\": 27.7726958317102, \"wind\": 15.439482065514532, \"precipitation\": 5.293937143885552, \"condition\": \"sun\"}, {\"temperature\": 3.0547946822445873, \"wind\": 86.42755659056152, \"precipitation\": 2.624712873155066, \"condition\": \"rain\"}, {\"temperature\": 39.42369527658811, \"wind\": 47.39700920935881, \"precipitation\": 41.728060203985706, \"condition\": \"rain\"}, {\"temperature\": 31.616549252691705, \"wind\": 31.294073920356126, \"precipitation\": 61.66414511625905, \"condition\": \"snow\"}, {\"temperature\": 37.73472491414072, \"wind\": 56.11305268794269, \"precipitation\": 81.92111265208045, \"condition\": \"fog\"}, {\"temperature\": 29.412459474532355, \"wind\": 46.76189099995182, \"precipitation\": 32.17901910781431, \"condition\": \"snow\"}, {\"temperature\": -5.305474080741154, \"wind\": 16.51061166938045, \"precipitation\": 40.72674907868328, \"condition\": \"fog\"}, {\"temperature\": 28.248344335114005, \"wind\": 74.65204013977382, \"precipitation\": 8.992377726473755, \"condition\": \"drizzle\"}, {\"temperature\": 40.71245089747694, \"wind\": 60.52030820865206, \"precipitation\": 5.486289017174572, \"condition\": \"rain\"}, {\"temperature\": 1.2855687063133647, \"wind\": 47.74453362846665, \"precipitation\": 77.71039918592594, \"condition\": \"drizzle\"}, {\"temperature\": 13.997864573343104, \"wind\": 99.2063323267444, \"precipitation\": 14.897152160823302, \"condition\": \"drizzle\"}, {\"temperature\": 18.825549046465813, \"wind\": 96.7516586164724, \"precipitation\": 62.15480712924485, \"condition\": \"rain\"}, {\"temperature\": 17.102600135203243, \"wind\": 95.33201102579268, \"precipitation\": 1.76947633335095, \"condition\": \"rain\"}, {\"temperature\": 31.603226292108516, \"wind\": 80.1260277875885, \"precipitation\": 19.250819441340848, \"condition\": \"drizzle\"}, {\"temperature\": 7.272202684808242, \"wind\": 8.416568701596594, \"precipitation\": 24.486546883662086, \"condition\": \"drizzle\"}, {\"temperature\": 6.42450547762995, \"wind\": 39.273237823513206, \"precipitation\": 59.175511527387584, \"condition\": \"sun\"}, {\"temperature\": 0.37651709537109035, \"wind\": 94.77902759827063, \"precipitation\": 28.64474524803353, \"condition\": \"fog\"}, {\"temperature\": 29.418237348870328, \"wind\": 73.1637224142291, \"precipitation\": 36.384371127988594, \"condition\": \"fog\"}, {\"temperature\": 32.58410407316762, \"wind\": 23.572673866731876, \"precipitation\": 21.78686177609982, \"condition\": \"sun\"}, {\"temperature\": 40.58331555194774, \"wind\": 12.46579946692835, \"precipitation\": 33.052715046353775, \"condition\": \"fog\"}, {\"temperature\": 15.02270799243955, \"wind\": 23.521353082533057, \"precipitation\": 0.5866372551906918, \"condition\": \"rain\"}, {\"temperature\": -1.5856356202583797, \"wind\": 58.706439422107415, \"precipitation\": 23.69625533115679, \"condition\": \"fog\"}, {\"temperature\": 39.83846166807995, \"wind\": 7.925060993257304, \"precipitation\": 73.27745598517468, \"condition\": \"snow\"}, {\"temperature\": 30.25106478610541, \"wind\": 53.60474576386106, \"precipitation\": 76.63592895791527, \"condition\": \"sun\"}, {\"temperature\": 12.08528607254729, \"wind\": 11.679210728025568, \"precipitation\": 21.30987094861694, \"condition\": \"drizzle\"}, {\"temperature\": 20.103305307522167, \"wind\": 35.51132614216856, \"precipitation\": 99.11641742479553, \"condition\": \"snow\"}, {\"temperature\": 34.61293495454381, \"wind\": 16.44814913694985, \"precipitation\": 76.5788070641912, \"condition\": \"sun\"}, {\"temperature\": 5.3304368864748515, \"wind\": 11.488543420187414, \"precipitation\": 23.611522242446682, \"condition\": \"rain\"}, {\"temperature\": 10.624231316087673, \"wind\": 89.57677208906625, \"precipitation\": 17.901521820239154, \"condition\": \"rain\"}, {\"temperature\": 16.45869339879156, \"wind\": 82.14358903068431, \"precipitation\": 50.5274648107178, \"condition\": \"drizzle\"}, {\"temperature\": 30.4859555666389, \"wind\": 85.43429025210673, \"precipitation\": 99.7314407177562, \"condition\": \"sun\"}, {\"temperature\": -7.842697704519862, \"wind\": 20.10431994181, \"precipitation\": 8.499755604198123, \"condition\": \"drizzle\"}, {\"temperature\": 23.82197430970396, \"wind\": 30.71236264475776, \"precipitation\": 91.23232368725205, \"condition\": \"snow\"}, {\"temperature\": 43.63862559514364, \"wind\": 28.821660476932877, \"precipitation\": 99.71103207097889, \"condition\": \"fog\"}, {\"temperature\": 8.981532662882305, \"wind\": 35.921027372850865, \"precipitation\": 91.12082810014113, \"condition\": \"fog\"}, {\"temperature\": 26.077729266653087, \"wind\": 63.53612288999908, \"precipitation\": 90.09748712912719, \"condition\": \"sun\"}, {\"temperature\": 38.44181274295784, \"wind\": 71.99143401846956, \"precipitation\": 21.221688878355216, \"condition\": \"rain\"}, {\"temperature\": 34.78710550916185, \"wind\": 89.27467266301889, \"precipitation\": 41.1955282025937, \"condition\": \"sun\"}, {\"temperature\": -5.848035132361012, \"wind\": 57.23792962073, \"precipitation\": 64.23162970775795, \"condition\": \"rain\"}, {\"temperature\": 0.6933169720006127, \"wind\": 72.76756692493736, \"precipitation\": 62.223235261304524, \"condition\": \"drizzle\"}]}}, {\"mode\": \"vega-lite\"});\n</script>",
      "text/plain": "alt.HConcatChart(...)"
     },
     "metadata": {},
     "output_type": "display_data"
    }
   ],
   "source": [
    "base = alt.Chart(df)\n",
    "\n",
    "tick = base.mark_tick().encode(\n",
    "    y=alt.Y(field='temperature', type='quantitative')\n",
    ")\n",
    "view_1 = tick\n",
    "\n",
    "bar = base.mark_bar().encode(\n",
    "    x=alt.X(field='condition', type='nominal'),\n",
    "    y=alt.Y(field='temperature', type='quantitative', aggregate='mean')\n",
    ")\n",
    "view_2 = bar\n",
    "chart = alt.hconcat(view_1, view_2).resolve_scale(\n",
    "    y='shared'\n",
    ")\n",
    "\n",
    "display_chart(chart)"
   ]
  },
  {
   "cell_type": "code",
   "execution_count": 78,
   "metadata": {},
   "outputs": [],
   "source": []
  }
 ],
 "metadata": {
  "kernelspec": {
   "display_name": "Python 3 (ipykernel)",
   "language": "python",
   "name": "python3"
  },
  "language_info": {
   "codemirror_mode": {
    "name": "ipython",
    "version": 3
   },
   "file_extension": ".py",
   "mimetype": "text/x-python",
   "name": "python",
   "nbconvert_exporter": "python",
   "pygments_lexer": "ipython3",
   "version": "3.10.3"
  }
 },
 "nbformat": 4,
 "nbformat_minor": 1
}
