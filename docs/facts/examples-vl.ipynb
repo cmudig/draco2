{
 "cells": [
  {
   "cell_type": "markdown",
   "metadata": {},
   "source": [
    "# Example Charts\n",
    "\n",
    "This notebook recreates the examples from [https://dig.cmu.edu/draco2/facts/examples.html#](https://dig.cmu.edu/draco2/facts/examples.html#)."
   ]
  },
  {
   "cell_type": "code",
   "execution_count": 164,
   "metadata": {},
   "outputs": [],
   "source": [
    "from pprint import pprint\n",
    "from draco.fact_utils import answer_set_to_dict\n",
    "from draco.run import run_clingo\n",
    "import altair as alt\n",
    "from altair import datum"
   ]
  },
  {
   "cell_type": "code",
   "execution_count": 165,
   "metadata": {},
   "outputs": [],
   "source": [
    "def facts_to_dict(facts: list[str]):\n",
    "    result = run_clingo(facts)\n",
    "    return answer_set_to_dict(next(result).answer_set)"
   ]
  },
  {
   "cell_type": "code",
   "execution_count": 166,
   "metadata": {},
   "outputs": [],
   "source": [
    "from IPython.display import display\n",
    "import json\n",
    "\n",
    "\n",
    "def display_chart(chart: alt.Chart):\n",
    "    dct = json.loads(chart.to_json())\n",
    "    dct.pop(\"data\")\n",
    "    dct.pop(\"datasets\")\n",
    "    pprint(dct)\n",
    "    display(chart)"
   ]
  },
  {
   "cell_type": "code",
   "execution_count": 167,
   "metadata": {},
   "outputs": [],
   "source": [
    "import pandas as pd\n",
    "import random\n",
    "\n",
    "# Generate a random dataframe with the following columns:\n",
    "# - temperature: a random float between -10 and 44\n",
    "# - wind: a random float between 0 and 100\n",
    "# - precipitation: a random float between 0 and 100\n",
    "# - condition: a random string from the list [\"drizzle\", \"fog\", \"rain\", \"sun\", \"snow\"]\n",
    "NUM_ROWS = 100\n",
    "df = pd.DataFrame(\n",
    "    {\n",
    "        \"temperature\": [random.uniform(-10, 44) for _ in range(NUM_ROWS)],\n",
    "        \"wind\": [random.uniform(0, 100) for _ in range(NUM_ROWS)],\n",
    "        \"precipitation\": [random.uniform(0, 100) for _ in range(NUM_ROWS)],\n",
    "        \"condition\": [\n",
    "            random.choice([\"drizzle\", \"fog\", \"rain\", \"sun\", \"snow\"])\n",
    "            for _ in range(NUM_ROWS)\n",
    "        ],\n",
    "    }\n",
    ")"
   ]
  },
  {
   "cell_type": "code",
   "execution_count": 168,
   "metadata": {},
   "outputs": [
    {
     "data": {
      "text/plain": "   temperature       wind  precipitation condition\n0    15.949649  44.064475      39.571021       sun\n1    35.804103  57.347114      51.104157      snow\n2    34.390488  96.360482      40.969804   drizzle\n3     7.204886  25.146399      85.490179   drizzle\n4    19.552840  57.883961      73.697679       sun",
      "text/html": "<div>\n<style scoped>\n    .dataframe tbody tr th:only-of-type {\n        vertical-align: middle;\n    }\n\n    .dataframe tbody tr th {\n        vertical-align: top;\n    }\n\n    .dataframe thead th {\n        text-align: right;\n    }\n</style>\n<table border=\"1\" class=\"dataframe\">\n  <thead>\n    <tr style=\"text-align: right;\">\n      <th></th>\n      <th>temperature</th>\n      <th>wind</th>\n      <th>precipitation</th>\n      <th>condition</th>\n    </tr>\n  </thead>\n  <tbody>\n    <tr>\n      <th>0</th>\n      <td>15.949649</td>\n      <td>44.064475</td>\n      <td>39.571021</td>\n      <td>sun</td>\n    </tr>\n    <tr>\n      <th>1</th>\n      <td>35.804103</td>\n      <td>57.347114</td>\n      <td>51.104157</td>\n      <td>snow</td>\n    </tr>\n    <tr>\n      <th>2</th>\n      <td>34.390488</td>\n      <td>96.360482</td>\n      <td>40.969804</td>\n      <td>drizzle</td>\n    </tr>\n    <tr>\n      <th>3</th>\n      <td>7.204886</td>\n      <td>25.146399</td>\n      <td>85.490179</td>\n      <td>drizzle</td>\n    </tr>\n    <tr>\n      <th>4</th>\n      <td>19.552840</td>\n      <td>57.883961</td>\n      <td>73.697679</td>\n      <td>sun</td>\n    </tr>\n  </tbody>\n</table>\n</div>"
     },
     "execution_count": 168,
     "metadata": {},
     "output_type": "execute_result"
    }
   ],
   "source": [
    "df.head()"
   ]
  },
  {
   "cell_type": "markdown",
   "metadata": {},
   "source": [
    "## Single View, Single Mark Charts"
   ]
  },
  {
   "cell_type": "markdown",
   "metadata": {},
   "source": [
    "### Tick Plot"
   ]
  },
  {
   "cell_type": "code",
   "execution_count": 169,
   "metadata": {},
   "outputs": [
    {
     "name": "stdout",
     "output_type": "stream",
     "text": [
      "{'field': [{'name': 'temperature', 'type': 'number'}],\n",
      " 'number_rows': 100,\n",
      " 'view': [{'mark': [{'encoding': [{'channel': 'x', 'field': 'temperature'}],\n",
      "                     'type': 'tick'}],\n",
      "           'scale': [{'channel': 'x', 'type': 'linear'}]}]}\n"
     ]
    }
   ],
   "source": [
    "facts = [\n",
    "    \"attribute(number_rows,root,100).\",\n",
    "    \"entity(field,root,temperature).\",\n",
    "    \"attribute((field,name),temperature,temperature).\",\n",
    "    \"attribute((field,type),temperature,number).\",\n",
    "    \"entity(view,root,0).\",\n",
    "    \"entity(mark,0,1).\",\n",
    "    \"attribute((mark,type),1,tick).\",\n",
    "    \"entity(encoding,1,2).\",\n",
    "    \"attribute((encoding,channel),2,x).\",\n",
    "    \"attribute((encoding,field),2,temperature).\",\n",
    "    \"entity(scale,0,3).\",\n",
    "    \"attribute((scale,channel),3,x).\",\n",
    "    \"attribute((scale,type),3,linear).\",\n",
    "]\n",
    "spec = facts_to_dict(facts)\n",
    "pprint(spec)"
   ]
  },
  {
   "cell_type": "code",
   "execution_count": 170,
   "metadata": {},
   "outputs": [
    {
     "name": "stdout",
     "output_type": "stream",
     "text": [
      "{'$schema': 'https://vega.github.io/schema/vega-lite/v4.17.0.json',\n",
      " 'config': {'view': {'continuousHeight': 300, 'continuousWidth': 400}},\n",
      " 'encoding': {'x': {'field': 'temperature',\n",
      "                    'scale': {'type': 'linear'},\n",
      "                    'type': 'quantitative'}},\n",
      " 'mark': 'tick'}\n"
     ]
    },
    {
     "name": "stderr",
     "output_type": "stream",
     "text": [
      "/Users/petergy/Library/Caches/pypoetry/virtualenvs/draco-q9RTEhXP-py3.10/lib/python3.10/site-packages/altair/utils/core.py:317: FutureWarning: iteritems is deprecated and will be removed in a future version. Use .items instead.\n",
      "  for col_name, dtype in df.dtypes.iteritems():\n"
     ]
    },
    {
     "data": {
      "text/html": "\n<div id=\"altair-viz-44c4c27c76df48a5b03d0962a4e62df7\"></div>\n<script type=\"text/javascript\">\n  var VEGA_DEBUG = (typeof VEGA_DEBUG == \"undefined\") ? {} : VEGA_DEBUG;\n  (function(spec, embedOpt){\n    let outputDiv = document.currentScript.previousElementSibling;\n    if (outputDiv.id !== \"altair-viz-44c4c27c76df48a5b03d0962a4e62df7\") {\n      outputDiv = document.getElementById(\"altair-viz-44c4c27c76df48a5b03d0962a4e62df7\");\n    }\n    const paths = {\n      \"vega\": \"https://cdn.jsdelivr.net/npm//vega@5?noext\",\n      \"vega-lib\": \"https://cdn.jsdelivr.net/npm//vega-lib?noext\",\n      \"vega-lite\": \"https://cdn.jsdelivr.net/npm//vega-lite@4.17.0?noext\",\n      \"vega-embed\": \"https://cdn.jsdelivr.net/npm//vega-embed@6?noext\",\n    };\n\n    function maybeLoadScript(lib, version) {\n      var key = `${lib.replace(\"-\", \"\")}_version`;\n      return (VEGA_DEBUG[key] == version) ?\n        Promise.resolve(paths[lib]) :\n        new Promise(function(resolve, reject) {\n          var s = document.createElement('script');\n          document.getElementsByTagName(\"head\")[0].appendChild(s);\n          s.async = true;\n          s.onload = () => {\n            VEGA_DEBUG[key] = version;\n            return resolve(paths[lib]);\n          };\n          s.onerror = () => reject(`Error loading script: ${paths[lib]}`);\n          s.src = paths[lib];\n        });\n    }\n\n    function showError(err) {\n      outputDiv.innerHTML = `<div class=\"error\" style=\"color:red;\">${err}</div>`;\n      throw err;\n    }\n\n    function displayChart(vegaEmbed) {\n      vegaEmbed(outputDiv, spec, embedOpt)\n        .catch(err => showError(`Javascript Error: ${err.message}<br>This usually means there's a typo in your chart specification. See the javascript console for the full traceback.`));\n    }\n\n    if(typeof define === \"function\" && define.amd) {\n      requirejs.config({paths});\n      require([\"vega-embed\"], displayChart, err => showError(`Error loading script: ${err.message}`));\n    } else {\n      maybeLoadScript(\"vega\", \"5\")\n        .then(() => maybeLoadScript(\"vega-lite\", \"4.17.0\"))\n        .then(() => maybeLoadScript(\"vega-embed\", \"6\"))\n        .catch(showError)\n        .then(() => displayChart(vegaEmbed));\n    }\n  })({\"config\": {\"view\": {\"continuousWidth\": 400, \"continuousHeight\": 300}}, \"data\": {\"name\": \"data-62648c40dc40a84dcc0ff734b69b013d\"}, \"mark\": \"tick\", \"encoding\": {\"x\": {\"field\": \"temperature\", \"scale\": {\"type\": \"linear\"}, \"type\": \"quantitative\"}}, \"$schema\": \"https://vega.github.io/schema/vega-lite/v4.17.0.json\", \"datasets\": {\"data-62648c40dc40a84dcc0ff734b69b013d\": [{\"temperature\": 15.949648750822519, \"wind\": 44.064474882832506, \"precipitation\": 39.57102111167698, \"condition\": \"sun\"}, {\"temperature\": 35.80410298761198, \"wind\": 57.347114406626844, \"precipitation\": 51.104157124186436, \"condition\": \"snow\"}, {\"temperature\": 34.39048786822457, \"wind\": 96.36048231593197, \"precipitation\": 40.96980376900311, \"condition\": \"drizzle\"}, {\"temperature\": 7.204885708939138, \"wind\": 25.146399378672125, \"precipitation\": 85.49017897658906, \"condition\": \"drizzle\"}, {\"temperature\": 19.55284015712061, \"wind\": 57.88396140686759, \"precipitation\": 73.6976786812617, \"condition\": \"sun\"}, {\"temperature\": 40.95867840323979, \"wind\": 18.240723526069058, \"precipitation\": 12.344374169099414, \"condition\": \"drizzle\"}, {\"temperature\": 8.037410652418316, \"wind\": 34.85524928680391, \"precipitation\": 47.39721336761291, \"condition\": \"drizzle\"}, {\"temperature\": -0.9238346314127046, \"wind\": 38.27888770381765, \"precipitation\": 49.084327395470694, \"condition\": \"snow\"}, {\"temperature\": 5.432162476529914, \"wind\": 26.375774021896824, \"precipitation\": 11.84973364714308, \"condition\": \"fog\"}, {\"temperature\": -0.5233284049906253, \"wind\": 20.341299498563536, \"precipitation\": 17.599397407184547, \"condition\": \"rain\"}, {\"temperature\": -0.32120652264539906, \"wind\": 56.70670804712174, \"precipitation\": 27.900390497052797, \"condition\": \"snow\"}, {\"temperature\": -5.8172209322540835, \"wind\": 7.922327363206739, \"precipitation\": 58.97450879694346, \"condition\": \"sun\"}, {\"temperature\": 29.348029927183475, \"wind\": 42.36486641293023, \"precipitation\": 52.297851298205714, \"condition\": \"snow\"}, {\"temperature\": -3.170224211296139, \"wind\": 25.422063817654927, \"precipitation\": 75.95709912967573, \"condition\": \"sun\"}, {\"temperature\": 29.762058145832015, \"wind\": 60.50785926641081, \"precipitation\": 27.63426836016134, \"condition\": \"sun\"}, {\"temperature\": -2.4226248703646167, \"wind\": 71.82451957436714, \"precipitation\": 27.866577679535155, \"condition\": \"rain\"}, {\"temperature\": 27.72342502276807, \"wind\": 25.495165547172526, \"precipitation\": 56.952472897674525, \"condition\": \"rain\"}, {\"temperature\": 42.86155275131322, \"wind\": 64.07798840013274, \"precipitation\": 43.20732916361416, \"condition\": \"drizzle\"}, {\"temperature\": 17.672356545916294, \"wind\": 69.76681823406481, \"precipitation\": 4.878513449934685, \"condition\": \"snow\"}, {\"temperature\": 14.10656929258668, \"wind\": 57.176270850584096, \"precipitation\": 22.99874996214144, \"condition\": \"sun\"}, {\"temperature\": 13.738975343826219, \"wind\": 47.92233289336022, \"precipitation\": 14.35681797090771, \"condition\": \"drizzle\"}, {\"temperature\": 38.54857944378019, \"wind\": 71.3951998928714, \"precipitation\": 47.86763119099666, \"condition\": \"rain\"}, {\"temperature\": 35.41541728844566, \"wind\": 15.372466094026361, \"precipitation\": 10.140892669165568, \"condition\": \"drizzle\"}, {\"temperature\": 42.8109485726051, \"wind\": 19.292730074798236, \"precipitation\": 83.72184051359054, \"condition\": \"sun\"}, {\"temperature\": 5.541837860134734, \"wind\": 37.91528502390926, \"precipitation\": 1.806095907348293, \"condition\": \"rain\"}, {\"temperature\": 31.26072818540954, \"wind\": 25.613046818128893, \"precipitation\": 93.99993502991724, \"condition\": \"snow\"}, {\"temperature\": 12.652262480706526, \"wind\": 19.716955298970042, \"precipitation\": 4.277209571833773, \"condition\": \"snow\"}, {\"temperature\": 27.464734441100425, \"wind\": 18.45750848171699, \"precipitation\": 14.862245845341137, \"condition\": \"snow\"}, {\"temperature\": 39.17194283180486, \"wind\": 62.584966101983305, \"precipitation\": 61.90806088367137, \"condition\": \"drizzle\"}, {\"temperature\": 20.57556038458332, \"wind\": 6.979458445589614, \"precipitation\": 26.20161503090155, \"condition\": \"fog\"}, {\"temperature\": 43.4376707328582, \"wind\": 91.72880025636312, \"precipitation\": 49.92669754392897, \"condition\": \"rain\"}, {\"temperature\": 37.392448305959796, \"wind\": 37.3453361137289, \"precipitation\": 79.01145543700821, \"condition\": \"rain\"}, {\"temperature\": -0.9740355983502056, \"wind\": 52.36556373635527, \"precipitation\": 30.452338583138562, \"condition\": \"fog\"}, {\"temperature\": 32.483093158374864, \"wind\": 88.0719315131664, \"precipitation\": 79.80325870322564, \"condition\": \"drizzle\"}, {\"temperature\": 35.06833977125789, \"wind\": 20.182255224013822, \"precipitation\": 68.32831560054159, \"condition\": \"drizzle\"}, {\"temperature\": 30.648689765220006, \"wind\": 70.20845647358497, \"precipitation\": 14.839756419615913, \"condition\": \"fog\"}, {\"temperature\": 17.568761783892697, \"wind\": 23.56533394038428, \"precipitation\": 33.43028312709272, \"condition\": \"fog\"}, {\"temperature\": 37.668328098899124, \"wind\": 25.752457285889363, \"precipitation\": 22.16206318576326, \"condition\": \"fog\"}, {\"temperature\": 5.014064033030415, \"wind\": 35.85304116185546, \"precipitation\": 50.430635606761776, \"condition\": \"drizzle\"}, {\"temperature\": 0.07199515030012726, \"wind\": 2.3037918503235444, \"precipitation\": 43.68655656674591, \"condition\": \"snow\"}, {\"temperature\": 5.954592424892175, \"wind\": 97.51084981729826, \"precipitation\": 18.937945167300562, \"condition\": \"fog\"}, {\"temperature\": 30.328519543203832, \"wind\": 11.124122490003696, \"precipitation\": 16.09587268986017, \"condition\": \"rain\"}, {\"temperature\": 14.46236976140856, \"wind\": 51.39244007969178, \"precipitation\": 51.52316459464377, \"condition\": \"fog\"}, {\"temperature\": 9.396286885496181, \"wind\": 14.413632366424933, \"precipitation\": 58.34025135533383, \"condition\": \"drizzle\"}, {\"temperature\": -7.883075294840844, \"wind\": 98.24018815877206, \"precipitation\": 51.405831276908884, \"condition\": \"snow\"}, {\"temperature\": 36.853296493232534, \"wind\": 17.44230067062308, \"precipitation\": 55.91312117168676, \"condition\": \"drizzle\"}, {\"temperature\": -9.582596783874624, \"wind\": 23.835535427130438, \"precipitation\": 61.605688998244446, \"condition\": \"fog\"}, {\"temperature\": -9.419128745924892, \"wind\": 53.25395558360789, \"precipitation\": 78.4515605013817, \"condition\": \"sun\"}, {\"temperature\": 4.571583314676532, \"wind\": 9.068613866100073, \"precipitation\": 42.448264608376526, \"condition\": \"rain\"}, {\"temperature\": 6.6203336157740615, \"wind\": 35.87691221835703, \"precipitation\": 64.98980696659649, \"condition\": \"rain\"}, {\"temperature\": 20.627672555392106, \"wind\": 28.946823430475742, \"precipitation\": 14.301584887467733, \"condition\": \"rain\"}, {\"temperature\": -9.583736731217567, \"wind\": 83.64814422156614, \"precipitation\": 35.873227198260004, \"condition\": \"snow\"}, {\"temperature\": 11.018260277272166, \"wind\": 82.98059861355699, \"precipitation\": 67.52390799343073, \"condition\": \"drizzle\"}, {\"temperature\": 5.411451095385809, \"wind\": 21.05653192591779, \"precipitation\": 98.10920750481597, \"condition\": \"fog\"}, {\"temperature\": 2.807402352777551, \"wind\": 40.81431754466085, \"precipitation\": 17.10555449196962, \"condition\": \"drizzle\"}, {\"temperature\": 33.60928142306782, \"wind\": 68.86862385408263, \"precipitation\": 1.7511520670655312, \"condition\": \"drizzle\"}, {\"temperature\": -3.7305842295491463, \"wind\": 22.99270590580842, \"precipitation\": 20.45024425044729, \"condition\": \"sun\"}, {\"temperature\": 38.88636288200788, \"wind\": 4.451268770649408, \"precipitation\": 50.18581381273084, \"condition\": \"snow\"}, {\"temperature\": 30.677916880360065, \"wind\": 57.58927095398997, \"precipitation\": 3.882294040985468, \"condition\": \"sun\"}, {\"temperature\": 20.936747003011536, \"wind\": 86.15890903839221, \"precipitation\": 84.64626055952643, \"condition\": \"sun\"}, {\"temperature\": 37.960508459665974, \"wind\": 83.22348385800635, \"precipitation\": 78.09579123477448, \"condition\": \"sun\"}, {\"temperature\": 2.789340992140385, \"wind\": 5.604841844996544, \"precipitation\": 64.23176719571818, \"condition\": \"rain\"}, {\"temperature\": -7.362921707472104, \"wind\": 57.37740217449133, \"precipitation\": 18.499742279296438, \"condition\": \"sun\"}, {\"temperature\": 1.1912189059593281, \"wind\": 46.52929788933954, \"precipitation\": 56.223732701756326, \"condition\": \"rain\"}, {\"temperature\": 5.601287545202137, \"wind\": 10.557820768094484, \"precipitation\": 10.005361911795385, \"condition\": \"sun\"}, {\"temperature\": 38.06145401149945, \"wind\": 40.55588658579815, \"precipitation\": 18.57864165136399, \"condition\": \"rain\"}, {\"temperature\": 10.003338415782952, \"wind\": 0.38143550979561347, \"precipitation\": 3.4323593600883995, \"condition\": \"snow\"}, {\"temperature\": 35.51840784136351, \"wind\": 85.38213169679159, \"precipitation\": 72.28024508142481, \"condition\": \"rain\"}, {\"temperature\": 42.22464006089062, \"wind\": 21.90245982426261, \"precipitation\": 64.4540475166047, \"condition\": \"snow\"}, {\"temperature\": 42.62614276410388, \"wind\": 16.596731146807365, \"precipitation\": 85.31723680641925, \"condition\": \"sun\"}, {\"temperature\": 4.666633193701054, \"wind\": 13.9068281587152, \"precipitation\": 87.48180339020342, \"condition\": \"drizzle\"}, {\"temperature\": 16.15426117162615, \"wind\": 38.00342325742586, \"precipitation\": 47.264072847267016, \"condition\": \"rain\"}, {\"temperature\": 15.032591880472172, \"wind\": 86.42884715473586, \"precipitation\": 81.69554228509587, \"condition\": \"rain\"}, {\"temperature\": 35.19149371217065, \"wind\": 72.5074270480888, \"precipitation\": 22.443215096530544, \"condition\": \"sun\"}, {\"temperature\": 26.84120821812121, \"wind\": 83.91441221303555, \"precipitation\": 63.11915666511897, \"condition\": \"drizzle\"}, {\"temperature\": 34.88005063805122, \"wind\": 45.33004448381994, \"precipitation\": 0.9935886811615613, \"condition\": \"rain\"}, {\"temperature\": 41.376840349386185, \"wind\": 7.544840957817378, \"precipitation\": 54.70235300254609, \"condition\": \"snow\"}, {\"temperature\": 36.960725847409456, \"wind\": 49.46574838149229, \"precipitation\": 85.47567556668297, \"condition\": \"snow\"}, {\"temperature\": 14.586289413415074, \"wind\": 4.489700154671472, \"precipitation\": 10.31362572720238, \"condition\": \"sun\"}, {\"temperature\": 20.04343950622185, \"wind\": 66.32817964057357, \"precipitation\": 74.44590348494177, \"condition\": \"sun\"}, {\"temperature\": 25.469560172224703, \"wind\": 82.06241734640489, \"precipitation\": 61.201009993418275, \"condition\": \"rain\"}, {\"temperature\": 20.070995853722245, \"wind\": 46.445227996549974, \"precipitation\": 53.59556892779981, \"condition\": \"snow\"}, {\"temperature\": 5.685018294722338, \"wind\": 58.17077525039538, \"precipitation\": 31.236078403128474, \"condition\": \"snow\"}, {\"temperature\": 42.487483009401764, \"wind\": 71.08000859923487, \"precipitation\": 61.47201457950021, \"condition\": \"rain\"}, {\"temperature\": -7.079256299328551, \"wind\": 27.004309009604967, \"precipitation\": 19.794263832693815, \"condition\": \"rain\"}, {\"temperature\": -5.045047126960084, \"wind\": 88.93771732732128, \"precipitation\": 99.50453536234512, \"condition\": \"fog\"}, {\"temperature\": 25.4533582484732, \"wind\": 96.38774772376792, \"precipitation\": 69.85460214191481, \"condition\": \"rain\"}, {\"temperature\": 22.955919291252926, \"wind\": 88.48558780603962, \"precipitation\": 40.268588772168876, \"condition\": \"snow\"}, {\"temperature\": 27.507453592914565, \"wind\": 29.838439613656075, \"precipitation\": 27.845875256677367, \"condition\": \"fog\"}, {\"temperature\": -6.870451234225997, \"wind\": 54.90225410574824, \"precipitation\": 29.74026895430255, \"condition\": \"snow\"}, {\"temperature\": 41.66879121402853, \"wind\": 21.388390668516323, \"precipitation\": 23.449697200445573, \"condition\": \"sun\"}, {\"temperature\": 15.838369384298645, \"wind\": 14.553164438107524, \"precipitation\": 78.9078385630916, \"condition\": \"sun\"}, {\"temperature\": 13.794652090601591, \"wind\": 31.915985033787553, \"precipitation\": 65.39000850075058, \"condition\": \"fog\"}, {\"temperature\": -0.24791853446323842, \"wind\": 16.053122209894966, \"precipitation\": 26.219628309452382, \"condition\": \"sun\"}, {\"temperature\": 20.625989859426074, \"wind\": 15.348759697534453, \"precipitation\": 94.2004787208339, \"condition\": \"rain\"}, {\"temperature\": 17.22130558630064, \"wind\": 61.15140884010469, \"precipitation\": 27.79385279217691, \"condition\": \"snow\"}, {\"temperature\": 15.342628921870396, \"wind\": 52.15522860596962, \"precipitation\": 44.258578235337545, \"condition\": \"drizzle\"}, {\"temperature\": 43.28838980732394, \"wind\": 30.617573960681387, \"precipitation\": 90.705784312922, \"condition\": \"drizzle\"}, {\"temperature\": 31.752614189233682, \"wind\": 54.002536771242745, \"precipitation\": 98.5871144935895, \"condition\": \"drizzle\"}, {\"temperature\": 3.5475184692079793, \"wind\": 96.91039458765935, \"precipitation\": 50.00054618320339, \"condition\": \"fog\"}]}}, {\"mode\": \"vega-lite\"});\n</script>",
      "text/plain": "alt.Chart(...)"
     },
     "metadata": {},
     "output_type": "display_data"
    }
   ],
   "source": [
    "base = alt.Chart(df)\n",
    "tick = base.mark_tick().encode(\n",
    "    x=alt.X(field=\"temperature\", type=\"quantitative\", scale=alt.Scale(type=\"linear\"))\n",
    ")\n",
    "display_chart(tick)"
   ]
  },
  {
   "cell_type": "markdown",
   "metadata": {},
   "source": [
    "### Tick Plot with a Log Scale"
   ]
  },
  {
   "cell_type": "code",
   "execution_count": 171,
   "metadata": {},
   "outputs": [
    {
     "name": "stdout",
     "output_type": "stream",
     "text": [
      "{'field': [{'name': 'temperature', 'type': 'number'}],\n",
      " 'number_rows': 100,\n",
      " 'view': [{'mark': [{'encoding': [{'channel': 'x', 'field': 'temperature'}],\n",
      "                     'type': 'tick'}],\n",
      "           'scale': [{'channel': 'x', 'type': 'log'}]}]}\n"
     ]
    }
   ],
   "source": [
    "facts = [\n",
    "    \"attribute(number_rows,root,100).\",\n",
    "    \"entity(field,root,temperature).\",\n",
    "    \"attribute((field,name),temperature,temperature).\",\n",
    "    \"attribute((field,type),temperature,number).\",\n",
    "    \"entity(view,root,0).\",\n",
    "    \"entity(mark,0,1).\",\n",
    "    \"attribute((mark,type),1,tick).\",\n",
    "    \"entity(encoding,1,2).\",\n",
    "    \"attribute((encoding,channel),2,x).\",\n",
    "    \"attribute((encoding,field),2,temperature).\",\n",
    "    \"entity(scale,0,3).\",\n",
    "    \"attribute((scale,channel),3,x).\",\n",
    "    \"attribute((scale,type),3,log).\",\n",
    "]\n",
    "spec = facts_to_dict(facts)\n",
    "pprint(spec)"
   ]
  },
  {
   "cell_type": "code",
   "execution_count": 172,
   "metadata": {},
   "outputs": [
    {
     "name": "stdout",
     "output_type": "stream",
     "text": [
      "{'$schema': 'https://vega.github.io/schema/vega-lite/v4.17.0.json',\n",
      " 'config': {'view': {'continuousHeight': 300, 'continuousWidth': 400}},\n",
      " 'encoding': {'x': {'field': 'temperature',\n",
      "                    'scale': {'type': 'log'},\n",
      "                    'type': 'quantitative'}},\n",
      " 'mark': 'tick',\n",
      " 'transform': [{'filter': '(datum.temperature > 0)'}]}\n"
     ]
    },
    {
     "data": {
      "text/html": "\n<div id=\"altair-viz-a7c091a080034df0a5c61a5fcf7179d3\"></div>\n<script type=\"text/javascript\">\n  var VEGA_DEBUG = (typeof VEGA_DEBUG == \"undefined\") ? {} : VEGA_DEBUG;\n  (function(spec, embedOpt){\n    let outputDiv = document.currentScript.previousElementSibling;\n    if (outputDiv.id !== \"altair-viz-a7c091a080034df0a5c61a5fcf7179d3\") {\n      outputDiv = document.getElementById(\"altair-viz-a7c091a080034df0a5c61a5fcf7179d3\");\n    }\n    const paths = {\n      \"vega\": \"https://cdn.jsdelivr.net/npm//vega@5?noext\",\n      \"vega-lib\": \"https://cdn.jsdelivr.net/npm//vega-lib?noext\",\n      \"vega-lite\": \"https://cdn.jsdelivr.net/npm//vega-lite@4.17.0?noext\",\n      \"vega-embed\": \"https://cdn.jsdelivr.net/npm//vega-embed@6?noext\",\n    };\n\n    function maybeLoadScript(lib, version) {\n      var key = `${lib.replace(\"-\", \"\")}_version`;\n      return (VEGA_DEBUG[key] == version) ?\n        Promise.resolve(paths[lib]) :\n        new Promise(function(resolve, reject) {\n          var s = document.createElement('script');\n          document.getElementsByTagName(\"head\")[0].appendChild(s);\n          s.async = true;\n          s.onload = () => {\n            VEGA_DEBUG[key] = version;\n            return resolve(paths[lib]);\n          };\n          s.onerror = () => reject(`Error loading script: ${paths[lib]}`);\n          s.src = paths[lib];\n        });\n    }\n\n    function showError(err) {\n      outputDiv.innerHTML = `<div class=\"error\" style=\"color:red;\">${err}</div>`;\n      throw err;\n    }\n\n    function displayChart(vegaEmbed) {\n      vegaEmbed(outputDiv, spec, embedOpt)\n        .catch(err => showError(`Javascript Error: ${err.message}<br>This usually means there's a typo in your chart specification. See the javascript console for the full traceback.`));\n    }\n\n    if(typeof define === \"function\" && define.amd) {\n      requirejs.config({paths});\n      require([\"vega-embed\"], displayChart, err => showError(`Error loading script: ${err.message}`));\n    } else {\n      maybeLoadScript(\"vega\", \"5\")\n        .then(() => maybeLoadScript(\"vega-lite\", \"4.17.0\"))\n        .then(() => maybeLoadScript(\"vega-embed\", \"6\"))\n        .catch(showError)\n        .then(() => displayChart(vegaEmbed));\n    }\n  })({\"config\": {\"view\": {\"continuousWidth\": 400, \"continuousHeight\": 300}}, \"data\": {\"name\": \"data-62648c40dc40a84dcc0ff734b69b013d\"}, \"mark\": \"tick\", \"encoding\": {\"x\": {\"field\": \"temperature\", \"scale\": {\"type\": \"log\"}, \"type\": \"quantitative\"}}, \"transform\": [{\"filter\": \"(datum.temperature > 0)\"}], \"$schema\": \"https://vega.github.io/schema/vega-lite/v4.17.0.json\", \"datasets\": {\"data-62648c40dc40a84dcc0ff734b69b013d\": [{\"temperature\": 15.949648750822519, \"wind\": 44.064474882832506, \"precipitation\": 39.57102111167698, \"condition\": \"sun\"}, {\"temperature\": 35.80410298761198, \"wind\": 57.347114406626844, \"precipitation\": 51.104157124186436, \"condition\": \"snow\"}, {\"temperature\": 34.39048786822457, \"wind\": 96.36048231593197, \"precipitation\": 40.96980376900311, \"condition\": \"drizzle\"}, {\"temperature\": 7.204885708939138, \"wind\": 25.146399378672125, \"precipitation\": 85.49017897658906, \"condition\": \"drizzle\"}, {\"temperature\": 19.55284015712061, \"wind\": 57.88396140686759, \"precipitation\": 73.6976786812617, \"condition\": \"sun\"}, {\"temperature\": 40.95867840323979, \"wind\": 18.240723526069058, \"precipitation\": 12.344374169099414, \"condition\": \"drizzle\"}, {\"temperature\": 8.037410652418316, \"wind\": 34.85524928680391, \"precipitation\": 47.39721336761291, \"condition\": \"drizzle\"}, {\"temperature\": -0.9238346314127046, \"wind\": 38.27888770381765, \"precipitation\": 49.084327395470694, \"condition\": \"snow\"}, {\"temperature\": 5.432162476529914, \"wind\": 26.375774021896824, \"precipitation\": 11.84973364714308, \"condition\": \"fog\"}, {\"temperature\": -0.5233284049906253, \"wind\": 20.341299498563536, \"precipitation\": 17.599397407184547, \"condition\": \"rain\"}, {\"temperature\": -0.32120652264539906, \"wind\": 56.70670804712174, \"precipitation\": 27.900390497052797, \"condition\": \"snow\"}, {\"temperature\": -5.8172209322540835, \"wind\": 7.922327363206739, \"precipitation\": 58.97450879694346, \"condition\": \"sun\"}, {\"temperature\": 29.348029927183475, \"wind\": 42.36486641293023, \"precipitation\": 52.297851298205714, \"condition\": \"snow\"}, {\"temperature\": -3.170224211296139, \"wind\": 25.422063817654927, \"precipitation\": 75.95709912967573, \"condition\": \"sun\"}, {\"temperature\": 29.762058145832015, \"wind\": 60.50785926641081, \"precipitation\": 27.63426836016134, \"condition\": \"sun\"}, {\"temperature\": -2.4226248703646167, \"wind\": 71.82451957436714, \"precipitation\": 27.866577679535155, \"condition\": \"rain\"}, {\"temperature\": 27.72342502276807, \"wind\": 25.495165547172526, \"precipitation\": 56.952472897674525, \"condition\": \"rain\"}, {\"temperature\": 42.86155275131322, \"wind\": 64.07798840013274, \"precipitation\": 43.20732916361416, \"condition\": \"drizzle\"}, {\"temperature\": 17.672356545916294, \"wind\": 69.76681823406481, \"precipitation\": 4.878513449934685, \"condition\": \"snow\"}, {\"temperature\": 14.10656929258668, \"wind\": 57.176270850584096, \"precipitation\": 22.99874996214144, \"condition\": \"sun\"}, {\"temperature\": 13.738975343826219, \"wind\": 47.92233289336022, \"precipitation\": 14.35681797090771, \"condition\": \"drizzle\"}, {\"temperature\": 38.54857944378019, \"wind\": 71.3951998928714, \"precipitation\": 47.86763119099666, \"condition\": \"rain\"}, {\"temperature\": 35.41541728844566, \"wind\": 15.372466094026361, \"precipitation\": 10.140892669165568, \"condition\": \"drizzle\"}, {\"temperature\": 42.8109485726051, \"wind\": 19.292730074798236, \"precipitation\": 83.72184051359054, \"condition\": \"sun\"}, {\"temperature\": 5.541837860134734, \"wind\": 37.91528502390926, \"precipitation\": 1.806095907348293, \"condition\": \"rain\"}, {\"temperature\": 31.26072818540954, \"wind\": 25.613046818128893, \"precipitation\": 93.99993502991724, \"condition\": \"snow\"}, {\"temperature\": 12.652262480706526, \"wind\": 19.716955298970042, \"precipitation\": 4.277209571833773, \"condition\": \"snow\"}, {\"temperature\": 27.464734441100425, \"wind\": 18.45750848171699, \"precipitation\": 14.862245845341137, \"condition\": \"snow\"}, {\"temperature\": 39.17194283180486, \"wind\": 62.584966101983305, \"precipitation\": 61.90806088367137, \"condition\": \"drizzle\"}, {\"temperature\": 20.57556038458332, \"wind\": 6.979458445589614, \"precipitation\": 26.20161503090155, \"condition\": \"fog\"}, {\"temperature\": 43.4376707328582, \"wind\": 91.72880025636312, \"precipitation\": 49.92669754392897, \"condition\": \"rain\"}, {\"temperature\": 37.392448305959796, \"wind\": 37.3453361137289, \"precipitation\": 79.01145543700821, \"condition\": \"rain\"}, {\"temperature\": -0.9740355983502056, \"wind\": 52.36556373635527, \"precipitation\": 30.452338583138562, \"condition\": \"fog\"}, {\"temperature\": 32.483093158374864, \"wind\": 88.0719315131664, \"precipitation\": 79.80325870322564, \"condition\": \"drizzle\"}, {\"temperature\": 35.06833977125789, \"wind\": 20.182255224013822, \"precipitation\": 68.32831560054159, \"condition\": \"drizzle\"}, {\"temperature\": 30.648689765220006, \"wind\": 70.20845647358497, \"precipitation\": 14.839756419615913, \"condition\": \"fog\"}, {\"temperature\": 17.568761783892697, \"wind\": 23.56533394038428, \"precipitation\": 33.43028312709272, \"condition\": \"fog\"}, {\"temperature\": 37.668328098899124, \"wind\": 25.752457285889363, \"precipitation\": 22.16206318576326, \"condition\": \"fog\"}, {\"temperature\": 5.014064033030415, \"wind\": 35.85304116185546, \"precipitation\": 50.430635606761776, \"condition\": \"drizzle\"}, {\"temperature\": 0.07199515030012726, \"wind\": 2.3037918503235444, \"precipitation\": 43.68655656674591, \"condition\": \"snow\"}, {\"temperature\": 5.954592424892175, \"wind\": 97.51084981729826, \"precipitation\": 18.937945167300562, \"condition\": \"fog\"}, {\"temperature\": 30.328519543203832, \"wind\": 11.124122490003696, \"precipitation\": 16.09587268986017, \"condition\": \"rain\"}, {\"temperature\": 14.46236976140856, \"wind\": 51.39244007969178, \"precipitation\": 51.52316459464377, \"condition\": \"fog\"}, {\"temperature\": 9.396286885496181, \"wind\": 14.413632366424933, \"precipitation\": 58.34025135533383, \"condition\": \"drizzle\"}, {\"temperature\": -7.883075294840844, \"wind\": 98.24018815877206, \"precipitation\": 51.405831276908884, \"condition\": \"snow\"}, {\"temperature\": 36.853296493232534, \"wind\": 17.44230067062308, \"precipitation\": 55.91312117168676, \"condition\": \"drizzle\"}, {\"temperature\": -9.582596783874624, \"wind\": 23.835535427130438, \"precipitation\": 61.605688998244446, \"condition\": \"fog\"}, {\"temperature\": -9.419128745924892, \"wind\": 53.25395558360789, \"precipitation\": 78.4515605013817, \"condition\": \"sun\"}, {\"temperature\": 4.571583314676532, \"wind\": 9.068613866100073, \"precipitation\": 42.448264608376526, \"condition\": \"rain\"}, {\"temperature\": 6.6203336157740615, \"wind\": 35.87691221835703, \"precipitation\": 64.98980696659649, \"condition\": \"rain\"}, {\"temperature\": 20.627672555392106, \"wind\": 28.946823430475742, \"precipitation\": 14.301584887467733, \"condition\": \"rain\"}, {\"temperature\": -9.583736731217567, \"wind\": 83.64814422156614, \"precipitation\": 35.873227198260004, \"condition\": \"snow\"}, {\"temperature\": 11.018260277272166, \"wind\": 82.98059861355699, \"precipitation\": 67.52390799343073, \"condition\": \"drizzle\"}, {\"temperature\": 5.411451095385809, \"wind\": 21.05653192591779, \"precipitation\": 98.10920750481597, \"condition\": \"fog\"}, {\"temperature\": 2.807402352777551, \"wind\": 40.81431754466085, \"precipitation\": 17.10555449196962, \"condition\": \"drizzle\"}, {\"temperature\": 33.60928142306782, \"wind\": 68.86862385408263, \"precipitation\": 1.7511520670655312, \"condition\": \"drizzle\"}, {\"temperature\": -3.7305842295491463, \"wind\": 22.99270590580842, \"precipitation\": 20.45024425044729, \"condition\": \"sun\"}, {\"temperature\": 38.88636288200788, \"wind\": 4.451268770649408, \"precipitation\": 50.18581381273084, \"condition\": \"snow\"}, {\"temperature\": 30.677916880360065, \"wind\": 57.58927095398997, \"precipitation\": 3.882294040985468, \"condition\": \"sun\"}, {\"temperature\": 20.936747003011536, \"wind\": 86.15890903839221, \"precipitation\": 84.64626055952643, \"condition\": \"sun\"}, {\"temperature\": 37.960508459665974, \"wind\": 83.22348385800635, \"precipitation\": 78.09579123477448, \"condition\": \"sun\"}, {\"temperature\": 2.789340992140385, \"wind\": 5.604841844996544, \"precipitation\": 64.23176719571818, \"condition\": \"rain\"}, {\"temperature\": -7.362921707472104, \"wind\": 57.37740217449133, \"precipitation\": 18.499742279296438, \"condition\": \"sun\"}, {\"temperature\": 1.1912189059593281, \"wind\": 46.52929788933954, \"precipitation\": 56.223732701756326, \"condition\": \"rain\"}, {\"temperature\": 5.601287545202137, \"wind\": 10.557820768094484, \"precipitation\": 10.005361911795385, \"condition\": \"sun\"}, {\"temperature\": 38.06145401149945, \"wind\": 40.55588658579815, \"precipitation\": 18.57864165136399, \"condition\": \"rain\"}, {\"temperature\": 10.003338415782952, \"wind\": 0.38143550979561347, \"precipitation\": 3.4323593600883995, \"condition\": \"snow\"}, {\"temperature\": 35.51840784136351, \"wind\": 85.38213169679159, \"precipitation\": 72.28024508142481, \"condition\": \"rain\"}, {\"temperature\": 42.22464006089062, \"wind\": 21.90245982426261, \"precipitation\": 64.4540475166047, \"condition\": \"snow\"}, {\"temperature\": 42.62614276410388, \"wind\": 16.596731146807365, \"precipitation\": 85.31723680641925, \"condition\": \"sun\"}, {\"temperature\": 4.666633193701054, \"wind\": 13.9068281587152, \"precipitation\": 87.48180339020342, \"condition\": \"drizzle\"}, {\"temperature\": 16.15426117162615, \"wind\": 38.00342325742586, \"precipitation\": 47.264072847267016, \"condition\": \"rain\"}, {\"temperature\": 15.032591880472172, \"wind\": 86.42884715473586, \"precipitation\": 81.69554228509587, \"condition\": \"rain\"}, {\"temperature\": 35.19149371217065, \"wind\": 72.5074270480888, \"precipitation\": 22.443215096530544, \"condition\": \"sun\"}, {\"temperature\": 26.84120821812121, \"wind\": 83.91441221303555, \"precipitation\": 63.11915666511897, \"condition\": \"drizzle\"}, {\"temperature\": 34.88005063805122, \"wind\": 45.33004448381994, \"precipitation\": 0.9935886811615613, \"condition\": \"rain\"}, {\"temperature\": 41.376840349386185, \"wind\": 7.544840957817378, \"precipitation\": 54.70235300254609, \"condition\": \"snow\"}, {\"temperature\": 36.960725847409456, \"wind\": 49.46574838149229, \"precipitation\": 85.47567556668297, \"condition\": \"snow\"}, {\"temperature\": 14.586289413415074, \"wind\": 4.489700154671472, \"precipitation\": 10.31362572720238, \"condition\": \"sun\"}, {\"temperature\": 20.04343950622185, \"wind\": 66.32817964057357, \"precipitation\": 74.44590348494177, \"condition\": \"sun\"}, {\"temperature\": 25.469560172224703, \"wind\": 82.06241734640489, \"precipitation\": 61.201009993418275, \"condition\": \"rain\"}, {\"temperature\": 20.070995853722245, \"wind\": 46.445227996549974, \"precipitation\": 53.59556892779981, \"condition\": \"snow\"}, {\"temperature\": 5.685018294722338, \"wind\": 58.17077525039538, \"precipitation\": 31.236078403128474, \"condition\": \"snow\"}, {\"temperature\": 42.487483009401764, \"wind\": 71.08000859923487, \"precipitation\": 61.47201457950021, \"condition\": \"rain\"}, {\"temperature\": -7.079256299328551, \"wind\": 27.004309009604967, \"precipitation\": 19.794263832693815, \"condition\": \"rain\"}, {\"temperature\": -5.045047126960084, \"wind\": 88.93771732732128, \"precipitation\": 99.50453536234512, \"condition\": \"fog\"}, {\"temperature\": 25.4533582484732, \"wind\": 96.38774772376792, \"precipitation\": 69.85460214191481, \"condition\": \"rain\"}, {\"temperature\": 22.955919291252926, \"wind\": 88.48558780603962, \"precipitation\": 40.268588772168876, \"condition\": \"snow\"}, {\"temperature\": 27.507453592914565, \"wind\": 29.838439613656075, \"precipitation\": 27.845875256677367, \"condition\": \"fog\"}, {\"temperature\": -6.870451234225997, \"wind\": 54.90225410574824, \"precipitation\": 29.74026895430255, \"condition\": \"snow\"}, {\"temperature\": 41.66879121402853, \"wind\": 21.388390668516323, \"precipitation\": 23.449697200445573, \"condition\": \"sun\"}, {\"temperature\": 15.838369384298645, \"wind\": 14.553164438107524, \"precipitation\": 78.9078385630916, \"condition\": \"sun\"}, {\"temperature\": 13.794652090601591, \"wind\": 31.915985033787553, \"precipitation\": 65.39000850075058, \"condition\": \"fog\"}, {\"temperature\": -0.24791853446323842, \"wind\": 16.053122209894966, \"precipitation\": 26.219628309452382, \"condition\": \"sun\"}, {\"temperature\": 20.625989859426074, \"wind\": 15.348759697534453, \"precipitation\": 94.2004787208339, \"condition\": \"rain\"}, {\"temperature\": 17.22130558630064, \"wind\": 61.15140884010469, \"precipitation\": 27.79385279217691, \"condition\": \"snow\"}, {\"temperature\": 15.342628921870396, \"wind\": 52.15522860596962, \"precipitation\": 44.258578235337545, \"condition\": \"drizzle\"}, {\"temperature\": 43.28838980732394, \"wind\": 30.617573960681387, \"precipitation\": 90.705784312922, \"condition\": \"drizzle\"}, {\"temperature\": 31.752614189233682, \"wind\": 54.002536771242745, \"precipitation\": 98.5871144935895, \"condition\": \"drizzle\"}, {\"temperature\": 3.5475184692079793, \"wind\": 96.91039458765935, \"precipitation\": 50.00054618320339, \"condition\": \"fog\"}]}}, {\"mode\": \"vega-lite\"});\n</script>",
      "text/plain": "alt.Chart(...)"
     },
     "metadata": {},
     "output_type": "display_data"
    }
   ],
   "source": [
    "base = alt.Chart(df).transform_filter(datum.temperature > 0)\n",
    "tick = base.mark_tick().encode(\n",
    "    x=alt.X(field=\"temperature\", type=\"quantitative\", scale=alt.Scale(type=\"log\"))\n",
    ")\n",
    "display_chart(tick)"
   ]
  },
  {
   "cell_type": "markdown",
   "metadata": {},
   "source": [
    "### Bar Chart"
   ]
  },
  {
   "cell_type": "code",
   "execution_count": 173,
   "metadata": {},
   "outputs": [
    {
     "name": "stdout",
     "output_type": "stream",
     "text": [
      "{'field': [{'name': 'temperature', 'type': 'number'},\n",
      "           {'name': 'condition', 'type': 'string'}],\n",
      " 'number_rows': 100,\n",
      " 'view': [{'coordinates': 'cartesian',\n",
      "           'mark': [{'encoding': [{'channel': 'x', 'field': 'condition'},\n",
      "                                  {'aggregate': 'mean',\n",
      "                                   'channel': 'y',\n",
      "                                   'field': 'temperature'}],\n",
      "                     'type': 'bar'}],\n",
      "           'scale': [{'channel': 'x', 'type': 'ordinal'},\n",
      "                     {'channel': 'y', 'type': 'linear', 'zero': 'true'}]}]}\n"
     ]
    }
   ],
   "source": [
    "facts = [\n",
    "    \"attribute(number_rows,root,100).\",\n",
    "    \"entity(field,root,temperature).\",\n",
    "    \"attribute((field,name),temperature,temperature).\",\n",
    "    \"attribute((field,type),temperature,number).\",\n",
    "    \"entity(field,root,condition).\",\n",
    "    \"attribute((field,name),condition,condition).\",\n",
    "    \"attribute((field,type),condition,string).\",\n",
    "    \"entity(view,root,0).\",\n",
    "    \"attribute((view,coordinates),0,cartesian).\",\n",
    "    \"entity(mark,0,1).\",\n",
    "    \"attribute((mark,type),1,bar).\",\n",
    "    \"entity(encoding,1,2).\",\n",
    "    \"attribute((encoding,channel),2,x).\",\n",
    "    \"attribute((encoding,field),2,condition).\",\n",
    "    \"entity(encoding,1,3).\",\n",
    "    \"attribute((encoding,channel),3,y).\",\n",
    "    \"attribute((encoding,field),3,temperature).\",\n",
    "    \"attribute((encoding,aggregate),3,mean).\",\n",
    "    \"entity(scale,0,4).\",\n",
    "    \"attribute((scale,channel),4,x).\",\n",
    "    \"attribute((scale,type),4,ordinal).\",\n",
    "    \"entity(scale,0,5).\",\n",
    "    \"attribute((scale,channel),5,y).\",\n",
    "    \"attribute((scale,type),5,linear).\",\n",
    "    \"attribute((scale,zero),5,true).\",\n",
    "]\n",
    "spec = facts_to_dict(facts)\n",
    "pprint(spec)"
   ]
  },
  {
   "cell_type": "code",
   "execution_count": 174,
   "metadata": {},
   "outputs": [
    {
     "name": "stdout",
     "output_type": "stream",
     "text": [
      "{'$schema': 'https://vega.github.io/schema/vega-lite/v4.17.0.json',\n",
      " 'config': {'view': {'continuousHeight': 300, 'continuousWidth': 400}},\n",
      " 'encoding': {'x': {'field': 'condition',\n",
      "                    'scale': {'type': 'ordinal'},\n",
      "                    'type': 'nominal'},\n",
      "              'y': {'aggregate': 'mean',\n",
      "                    'field': 'temperature',\n",
      "                    'scale': {'type': 'linear', 'zero': True},\n",
      "                    'type': 'quantitative'}},\n",
      " 'mark': 'bar'}\n"
     ]
    },
    {
     "data": {
      "text/html": "\n<div id=\"altair-viz-88aa9625ebf24be8a61d2b83d29cf50e\"></div>\n<script type=\"text/javascript\">\n  var VEGA_DEBUG = (typeof VEGA_DEBUG == \"undefined\") ? {} : VEGA_DEBUG;\n  (function(spec, embedOpt){\n    let outputDiv = document.currentScript.previousElementSibling;\n    if (outputDiv.id !== \"altair-viz-88aa9625ebf24be8a61d2b83d29cf50e\") {\n      outputDiv = document.getElementById(\"altair-viz-88aa9625ebf24be8a61d2b83d29cf50e\");\n    }\n    const paths = {\n      \"vega\": \"https://cdn.jsdelivr.net/npm//vega@5?noext\",\n      \"vega-lib\": \"https://cdn.jsdelivr.net/npm//vega-lib?noext\",\n      \"vega-lite\": \"https://cdn.jsdelivr.net/npm//vega-lite@4.17.0?noext\",\n      \"vega-embed\": \"https://cdn.jsdelivr.net/npm//vega-embed@6?noext\",\n    };\n\n    function maybeLoadScript(lib, version) {\n      var key = `${lib.replace(\"-\", \"\")}_version`;\n      return (VEGA_DEBUG[key] == version) ?\n        Promise.resolve(paths[lib]) :\n        new Promise(function(resolve, reject) {\n          var s = document.createElement('script');\n          document.getElementsByTagName(\"head\")[0].appendChild(s);\n          s.async = true;\n          s.onload = () => {\n            VEGA_DEBUG[key] = version;\n            return resolve(paths[lib]);\n          };\n          s.onerror = () => reject(`Error loading script: ${paths[lib]}`);\n          s.src = paths[lib];\n        });\n    }\n\n    function showError(err) {\n      outputDiv.innerHTML = `<div class=\"error\" style=\"color:red;\">${err}</div>`;\n      throw err;\n    }\n\n    function displayChart(vegaEmbed) {\n      vegaEmbed(outputDiv, spec, embedOpt)\n        .catch(err => showError(`Javascript Error: ${err.message}<br>This usually means there's a typo in your chart specification. See the javascript console for the full traceback.`));\n    }\n\n    if(typeof define === \"function\" && define.amd) {\n      requirejs.config({paths});\n      require([\"vega-embed\"], displayChart, err => showError(`Error loading script: ${err.message}`));\n    } else {\n      maybeLoadScript(\"vega\", \"5\")\n        .then(() => maybeLoadScript(\"vega-lite\", \"4.17.0\"))\n        .then(() => maybeLoadScript(\"vega-embed\", \"6\"))\n        .catch(showError)\n        .then(() => displayChart(vegaEmbed));\n    }\n  })({\"config\": {\"view\": {\"continuousWidth\": 400, \"continuousHeight\": 300}}, \"data\": {\"name\": \"data-62648c40dc40a84dcc0ff734b69b013d\"}, \"mark\": \"bar\", \"encoding\": {\"x\": {\"field\": \"condition\", \"scale\": {\"type\": \"ordinal\"}, \"type\": \"nominal\"}, \"y\": {\"aggregate\": \"mean\", \"field\": \"temperature\", \"scale\": {\"type\": \"linear\", \"zero\": true}, \"type\": \"quantitative\"}}, \"$schema\": \"https://vega.github.io/schema/vega-lite/v4.17.0.json\", \"datasets\": {\"data-62648c40dc40a84dcc0ff734b69b013d\": [{\"temperature\": 15.949648750822519, \"wind\": 44.064474882832506, \"precipitation\": 39.57102111167698, \"condition\": \"sun\"}, {\"temperature\": 35.80410298761198, \"wind\": 57.347114406626844, \"precipitation\": 51.104157124186436, \"condition\": \"snow\"}, {\"temperature\": 34.39048786822457, \"wind\": 96.36048231593197, \"precipitation\": 40.96980376900311, \"condition\": \"drizzle\"}, {\"temperature\": 7.204885708939138, \"wind\": 25.146399378672125, \"precipitation\": 85.49017897658906, \"condition\": \"drizzle\"}, {\"temperature\": 19.55284015712061, \"wind\": 57.88396140686759, \"precipitation\": 73.6976786812617, \"condition\": \"sun\"}, {\"temperature\": 40.95867840323979, \"wind\": 18.240723526069058, \"precipitation\": 12.344374169099414, \"condition\": \"drizzle\"}, {\"temperature\": 8.037410652418316, \"wind\": 34.85524928680391, \"precipitation\": 47.39721336761291, \"condition\": \"drizzle\"}, {\"temperature\": -0.9238346314127046, \"wind\": 38.27888770381765, \"precipitation\": 49.084327395470694, \"condition\": \"snow\"}, {\"temperature\": 5.432162476529914, \"wind\": 26.375774021896824, \"precipitation\": 11.84973364714308, \"condition\": \"fog\"}, {\"temperature\": -0.5233284049906253, \"wind\": 20.341299498563536, \"precipitation\": 17.599397407184547, \"condition\": \"rain\"}, {\"temperature\": -0.32120652264539906, \"wind\": 56.70670804712174, \"precipitation\": 27.900390497052797, \"condition\": \"snow\"}, {\"temperature\": -5.8172209322540835, \"wind\": 7.922327363206739, \"precipitation\": 58.97450879694346, \"condition\": \"sun\"}, {\"temperature\": 29.348029927183475, \"wind\": 42.36486641293023, \"precipitation\": 52.297851298205714, \"condition\": \"snow\"}, {\"temperature\": -3.170224211296139, \"wind\": 25.422063817654927, \"precipitation\": 75.95709912967573, \"condition\": \"sun\"}, {\"temperature\": 29.762058145832015, \"wind\": 60.50785926641081, \"precipitation\": 27.63426836016134, \"condition\": \"sun\"}, {\"temperature\": -2.4226248703646167, \"wind\": 71.82451957436714, \"precipitation\": 27.866577679535155, \"condition\": \"rain\"}, {\"temperature\": 27.72342502276807, \"wind\": 25.495165547172526, \"precipitation\": 56.952472897674525, \"condition\": \"rain\"}, {\"temperature\": 42.86155275131322, \"wind\": 64.07798840013274, \"precipitation\": 43.20732916361416, \"condition\": \"drizzle\"}, {\"temperature\": 17.672356545916294, \"wind\": 69.76681823406481, \"precipitation\": 4.878513449934685, \"condition\": \"snow\"}, {\"temperature\": 14.10656929258668, \"wind\": 57.176270850584096, \"precipitation\": 22.99874996214144, \"condition\": \"sun\"}, {\"temperature\": 13.738975343826219, \"wind\": 47.92233289336022, \"precipitation\": 14.35681797090771, \"condition\": \"drizzle\"}, {\"temperature\": 38.54857944378019, \"wind\": 71.3951998928714, \"precipitation\": 47.86763119099666, \"condition\": \"rain\"}, {\"temperature\": 35.41541728844566, \"wind\": 15.372466094026361, \"precipitation\": 10.140892669165568, \"condition\": \"drizzle\"}, {\"temperature\": 42.8109485726051, \"wind\": 19.292730074798236, \"precipitation\": 83.72184051359054, \"condition\": \"sun\"}, {\"temperature\": 5.541837860134734, \"wind\": 37.91528502390926, \"precipitation\": 1.806095907348293, \"condition\": \"rain\"}, {\"temperature\": 31.26072818540954, \"wind\": 25.613046818128893, \"precipitation\": 93.99993502991724, \"condition\": \"snow\"}, {\"temperature\": 12.652262480706526, \"wind\": 19.716955298970042, \"precipitation\": 4.277209571833773, \"condition\": \"snow\"}, {\"temperature\": 27.464734441100425, \"wind\": 18.45750848171699, \"precipitation\": 14.862245845341137, \"condition\": \"snow\"}, {\"temperature\": 39.17194283180486, \"wind\": 62.584966101983305, \"precipitation\": 61.90806088367137, \"condition\": \"drizzle\"}, {\"temperature\": 20.57556038458332, \"wind\": 6.979458445589614, \"precipitation\": 26.20161503090155, \"condition\": \"fog\"}, {\"temperature\": 43.4376707328582, \"wind\": 91.72880025636312, \"precipitation\": 49.92669754392897, \"condition\": \"rain\"}, {\"temperature\": 37.392448305959796, \"wind\": 37.3453361137289, \"precipitation\": 79.01145543700821, \"condition\": \"rain\"}, {\"temperature\": -0.9740355983502056, \"wind\": 52.36556373635527, \"precipitation\": 30.452338583138562, \"condition\": \"fog\"}, {\"temperature\": 32.483093158374864, \"wind\": 88.0719315131664, \"precipitation\": 79.80325870322564, \"condition\": \"drizzle\"}, {\"temperature\": 35.06833977125789, \"wind\": 20.182255224013822, \"precipitation\": 68.32831560054159, \"condition\": \"drizzle\"}, {\"temperature\": 30.648689765220006, \"wind\": 70.20845647358497, \"precipitation\": 14.839756419615913, \"condition\": \"fog\"}, {\"temperature\": 17.568761783892697, \"wind\": 23.56533394038428, \"precipitation\": 33.43028312709272, \"condition\": \"fog\"}, {\"temperature\": 37.668328098899124, \"wind\": 25.752457285889363, \"precipitation\": 22.16206318576326, \"condition\": \"fog\"}, {\"temperature\": 5.014064033030415, \"wind\": 35.85304116185546, \"precipitation\": 50.430635606761776, \"condition\": \"drizzle\"}, {\"temperature\": 0.07199515030012726, \"wind\": 2.3037918503235444, \"precipitation\": 43.68655656674591, \"condition\": \"snow\"}, {\"temperature\": 5.954592424892175, \"wind\": 97.51084981729826, \"precipitation\": 18.937945167300562, \"condition\": \"fog\"}, {\"temperature\": 30.328519543203832, \"wind\": 11.124122490003696, \"precipitation\": 16.09587268986017, \"condition\": \"rain\"}, {\"temperature\": 14.46236976140856, \"wind\": 51.39244007969178, \"precipitation\": 51.52316459464377, \"condition\": \"fog\"}, {\"temperature\": 9.396286885496181, \"wind\": 14.413632366424933, \"precipitation\": 58.34025135533383, \"condition\": \"drizzle\"}, {\"temperature\": -7.883075294840844, \"wind\": 98.24018815877206, \"precipitation\": 51.405831276908884, \"condition\": \"snow\"}, {\"temperature\": 36.853296493232534, \"wind\": 17.44230067062308, \"precipitation\": 55.91312117168676, \"condition\": \"drizzle\"}, {\"temperature\": -9.582596783874624, \"wind\": 23.835535427130438, \"precipitation\": 61.605688998244446, \"condition\": \"fog\"}, {\"temperature\": -9.419128745924892, \"wind\": 53.25395558360789, \"precipitation\": 78.4515605013817, \"condition\": \"sun\"}, {\"temperature\": 4.571583314676532, \"wind\": 9.068613866100073, \"precipitation\": 42.448264608376526, \"condition\": \"rain\"}, {\"temperature\": 6.6203336157740615, \"wind\": 35.87691221835703, \"precipitation\": 64.98980696659649, \"condition\": \"rain\"}, {\"temperature\": 20.627672555392106, \"wind\": 28.946823430475742, \"precipitation\": 14.301584887467733, \"condition\": \"rain\"}, {\"temperature\": -9.583736731217567, \"wind\": 83.64814422156614, \"precipitation\": 35.873227198260004, \"condition\": \"snow\"}, {\"temperature\": 11.018260277272166, \"wind\": 82.98059861355699, \"precipitation\": 67.52390799343073, \"condition\": \"drizzle\"}, {\"temperature\": 5.411451095385809, \"wind\": 21.05653192591779, \"precipitation\": 98.10920750481597, \"condition\": \"fog\"}, {\"temperature\": 2.807402352777551, \"wind\": 40.81431754466085, \"precipitation\": 17.10555449196962, \"condition\": \"drizzle\"}, {\"temperature\": 33.60928142306782, \"wind\": 68.86862385408263, \"precipitation\": 1.7511520670655312, \"condition\": \"drizzle\"}, {\"temperature\": -3.7305842295491463, \"wind\": 22.99270590580842, \"precipitation\": 20.45024425044729, \"condition\": \"sun\"}, {\"temperature\": 38.88636288200788, \"wind\": 4.451268770649408, \"precipitation\": 50.18581381273084, \"condition\": \"snow\"}, {\"temperature\": 30.677916880360065, \"wind\": 57.58927095398997, \"precipitation\": 3.882294040985468, \"condition\": \"sun\"}, {\"temperature\": 20.936747003011536, \"wind\": 86.15890903839221, \"precipitation\": 84.64626055952643, \"condition\": \"sun\"}, {\"temperature\": 37.960508459665974, \"wind\": 83.22348385800635, \"precipitation\": 78.09579123477448, \"condition\": \"sun\"}, {\"temperature\": 2.789340992140385, \"wind\": 5.604841844996544, \"precipitation\": 64.23176719571818, \"condition\": \"rain\"}, {\"temperature\": -7.362921707472104, \"wind\": 57.37740217449133, \"precipitation\": 18.499742279296438, \"condition\": \"sun\"}, {\"temperature\": 1.1912189059593281, \"wind\": 46.52929788933954, \"precipitation\": 56.223732701756326, \"condition\": \"rain\"}, {\"temperature\": 5.601287545202137, \"wind\": 10.557820768094484, \"precipitation\": 10.005361911795385, \"condition\": \"sun\"}, {\"temperature\": 38.06145401149945, \"wind\": 40.55588658579815, \"precipitation\": 18.57864165136399, \"condition\": \"rain\"}, {\"temperature\": 10.003338415782952, \"wind\": 0.38143550979561347, \"precipitation\": 3.4323593600883995, \"condition\": \"snow\"}, {\"temperature\": 35.51840784136351, \"wind\": 85.38213169679159, \"precipitation\": 72.28024508142481, \"condition\": \"rain\"}, {\"temperature\": 42.22464006089062, \"wind\": 21.90245982426261, \"precipitation\": 64.4540475166047, \"condition\": \"snow\"}, {\"temperature\": 42.62614276410388, \"wind\": 16.596731146807365, \"precipitation\": 85.31723680641925, \"condition\": \"sun\"}, {\"temperature\": 4.666633193701054, \"wind\": 13.9068281587152, \"precipitation\": 87.48180339020342, \"condition\": \"drizzle\"}, {\"temperature\": 16.15426117162615, \"wind\": 38.00342325742586, \"precipitation\": 47.264072847267016, \"condition\": \"rain\"}, {\"temperature\": 15.032591880472172, \"wind\": 86.42884715473586, \"precipitation\": 81.69554228509587, \"condition\": \"rain\"}, {\"temperature\": 35.19149371217065, \"wind\": 72.5074270480888, \"precipitation\": 22.443215096530544, \"condition\": \"sun\"}, {\"temperature\": 26.84120821812121, \"wind\": 83.91441221303555, \"precipitation\": 63.11915666511897, \"condition\": \"drizzle\"}, {\"temperature\": 34.88005063805122, \"wind\": 45.33004448381994, \"precipitation\": 0.9935886811615613, \"condition\": \"rain\"}, {\"temperature\": 41.376840349386185, \"wind\": 7.544840957817378, \"precipitation\": 54.70235300254609, \"condition\": \"snow\"}, {\"temperature\": 36.960725847409456, \"wind\": 49.46574838149229, \"precipitation\": 85.47567556668297, \"condition\": \"snow\"}, {\"temperature\": 14.586289413415074, \"wind\": 4.489700154671472, \"precipitation\": 10.31362572720238, \"condition\": \"sun\"}, {\"temperature\": 20.04343950622185, \"wind\": 66.32817964057357, \"precipitation\": 74.44590348494177, \"condition\": \"sun\"}, {\"temperature\": 25.469560172224703, \"wind\": 82.06241734640489, \"precipitation\": 61.201009993418275, \"condition\": \"rain\"}, {\"temperature\": 20.070995853722245, \"wind\": 46.445227996549974, \"precipitation\": 53.59556892779981, \"condition\": \"snow\"}, {\"temperature\": 5.685018294722338, \"wind\": 58.17077525039538, \"precipitation\": 31.236078403128474, \"condition\": \"snow\"}, {\"temperature\": 42.487483009401764, \"wind\": 71.08000859923487, \"precipitation\": 61.47201457950021, \"condition\": \"rain\"}, {\"temperature\": -7.079256299328551, \"wind\": 27.004309009604967, \"precipitation\": 19.794263832693815, \"condition\": \"rain\"}, {\"temperature\": -5.045047126960084, \"wind\": 88.93771732732128, \"precipitation\": 99.50453536234512, \"condition\": \"fog\"}, {\"temperature\": 25.4533582484732, \"wind\": 96.38774772376792, \"precipitation\": 69.85460214191481, \"condition\": \"rain\"}, {\"temperature\": 22.955919291252926, \"wind\": 88.48558780603962, \"precipitation\": 40.268588772168876, \"condition\": \"snow\"}, {\"temperature\": 27.507453592914565, \"wind\": 29.838439613656075, \"precipitation\": 27.845875256677367, \"condition\": \"fog\"}, {\"temperature\": -6.870451234225997, \"wind\": 54.90225410574824, \"precipitation\": 29.74026895430255, \"condition\": \"snow\"}, {\"temperature\": 41.66879121402853, \"wind\": 21.388390668516323, \"precipitation\": 23.449697200445573, \"condition\": \"sun\"}, {\"temperature\": 15.838369384298645, \"wind\": 14.553164438107524, \"precipitation\": 78.9078385630916, \"condition\": \"sun\"}, {\"temperature\": 13.794652090601591, \"wind\": 31.915985033787553, \"precipitation\": 65.39000850075058, \"condition\": \"fog\"}, {\"temperature\": -0.24791853446323842, \"wind\": 16.053122209894966, \"precipitation\": 26.219628309452382, \"condition\": \"sun\"}, {\"temperature\": 20.625989859426074, \"wind\": 15.348759697534453, \"precipitation\": 94.2004787208339, \"condition\": \"rain\"}, {\"temperature\": 17.22130558630064, \"wind\": 61.15140884010469, \"precipitation\": 27.79385279217691, \"condition\": \"snow\"}, {\"temperature\": 15.342628921870396, \"wind\": 52.15522860596962, \"precipitation\": 44.258578235337545, \"condition\": \"drizzle\"}, {\"temperature\": 43.28838980732394, \"wind\": 30.617573960681387, \"precipitation\": 90.705784312922, \"condition\": \"drizzle\"}, {\"temperature\": 31.752614189233682, \"wind\": 54.002536771242745, \"precipitation\": 98.5871144935895, \"condition\": \"drizzle\"}, {\"temperature\": 3.5475184692079793, \"wind\": 96.91039458765935, \"precipitation\": 50.00054618320339, \"condition\": \"fog\"}]}}, {\"mode\": \"vega-lite\"});\n</script>",
      "text/plain": "alt.Chart(...)"
     },
     "metadata": {},
     "output_type": "display_data"
    }
   ],
   "source": [
    "base = alt.Chart(df)\n",
    "bar = base.mark_bar().encode(\n",
    "    x=alt.X(field=\"condition\", type=\"nominal\", scale=alt.Scale(type=\"ordinal\")),\n",
    "    y=alt.Y(\n",
    "        field=\"temperature\",\n",
    "        type=\"quantitative\",\n",
    "        aggregate=\"mean\",\n",
    "        scale=alt.Scale(type=\"linear\", zero=True),\n",
    "    ),\n",
    ")\n",
    "display_chart(bar)"
   ]
  },
  {
   "cell_type": "markdown",
   "metadata": {},
   "source": [
    "### Radial Chart"
   ]
  },
  {
   "cell_type": "code",
   "execution_count": 175,
   "metadata": {},
   "outputs": [
    {
     "name": "stdout",
     "output_type": "stream",
     "text": [
      "{'field': [{'name': 'temperature', 'type': 'number'},\n",
      "           {'name': 'condition', 'type': 'string'}],\n",
      " 'number_rows': 100,\n",
      " 'view': [{'coordinates': 'polar',\n",
      "           'mark': [{'encoding': [{'channel': 'x', 'field': 'condition'},\n",
      "                                  {'aggregate': 'mean',\n",
      "                                   'channel': 'y',\n",
      "                                   'field': 'temperature'}],\n",
      "                     'type': 'bar'}],\n",
      "           'scale': [{'channel': 'x', 'type': 'ordinal'},\n",
      "                     {'channel': 'y', 'type': 'linear', 'zero': 'true'}]}]}\n"
     ]
    }
   ],
   "source": [
    "facts = [\n",
    "    \"attribute(number_rows,root,100).\",\n",
    "    \"entity(field,root,temperature).\",\n",
    "    \"attribute((field,name),temperature,temperature).\",\n",
    "    \"attribute((field,type),temperature,number).\",\n",
    "    \"entity(field,root,condition).\",\n",
    "    \"attribute((field,name),condition,condition).\",\n",
    "    \"attribute((field,type),condition,string).\",\n",
    "    \"entity(view,root,0).\",\n",
    "    \"attribute((view,coordinates),0,polar).\",\n",
    "    \"entity(mark,0,1).\",\n",
    "    \"attribute((mark,type),1,bar).\",\n",
    "    \"entity(encoding,1,2).\",\n",
    "    \"attribute((encoding,channel),2,x).\",\n",
    "    \"attribute((encoding,field),2,condition).\",\n",
    "    \"entity(encoding,1,3).\",\n",
    "    \"attribute((encoding,channel),3,y).\",\n",
    "    \"attribute((encoding,field),3,temperature).\",\n",
    "    \"attribute((encoding,aggregate),3,mean).\",\n",
    "    \"entity(scale,0,4).\",\n",
    "    \"attribute((scale,channel),4,x).\",\n",
    "    \"attribute((scale,type),4,ordinal).\",\n",
    "    \"entity(scale,0,5).\",\n",
    "    \"attribute((scale,channel),5,y).\",\n",
    "    \"attribute((scale,type),5,linear).\",\n",
    "    \"attribute((scale,zero),5,true).\",\n",
    "]\n",
    "spec = facts_to_dict(facts)\n",
    "pprint(spec)"
   ]
  },
  {
   "cell_type": "code",
   "execution_count": 176,
   "metadata": {},
   "outputs": [
    {
     "name": "stdout",
     "output_type": "stream",
     "text": [
      "{'$schema': 'https://vega.github.io/schema/vega-lite/v4.17.0.json',\n",
      " 'config': {'view': {'continuousHeight': 300, 'continuousWidth': 400}},\n",
      " 'layer': [{'encoding': {'radius': {'aggregate': 'mean',\n",
      "                                    'field': 'temperature',\n",
      "                                    'type': 'quantitative'},\n",
      "                         'theta': {'field': 'condition', 'type': 'nominal'}},\n",
      "            'mark': {'stroke': '#ffffff', 'type': 'arc'}},\n",
      "           {'encoding': {'radius': {'aggregate': 'mean',\n",
      "                                    'field': 'temperature',\n",
      "                                    'type': 'quantitative'},\n",
      "                         'text': {'field': 'condition', 'type': 'nominal'},\n",
      "                         'theta': {'field': 'condition', 'type': 'nominal'}},\n",
      "            'mark': {'radiusOffset': 15, 'type': 'text'}}]}\n"
     ]
    },
    {
     "data": {
      "text/html": "\n<div id=\"altair-viz-76f201ca688146a2a959adcd8eb42b5f\"></div>\n<script type=\"text/javascript\">\n  var VEGA_DEBUG = (typeof VEGA_DEBUG == \"undefined\") ? {} : VEGA_DEBUG;\n  (function(spec, embedOpt){\n    let outputDiv = document.currentScript.previousElementSibling;\n    if (outputDiv.id !== \"altair-viz-76f201ca688146a2a959adcd8eb42b5f\") {\n      outputDiv = document.getElementById(\"altair-viz-76f201ca688146a2a959adcd8eb42b5f\");\n    }\n    const paths = {\n      \"vega\": \"https://cdn.jsdelivr.net/npm//vega@5?noext\",\n      \"vega-lib\": \"https://cdn.jsdelivr.net/npm//vega-lib?noext\",\n      \"vega-lite\": \"https://cdn.jsdelivr.net/npm//vega-lite@4.17.0?noext\",\n      \"vega-embed\": \"https://cdn.jsdelivr.net/npm//vega-embed@6?noext\",\n    };\n\n    function maybeLoadScript(lib, version) {\n      var key = `${lib.replace(\"-\", \"\")}_version`;\n      return (VEGA_DEBUG[key] == version) ?\n        Promise.resolve(paths[lib]) :\n        new Promise(function(resolve, reject) {\n          var s = document.createElement('script');\n          document.getElementsByTagName(\"head\")[0].appendChild(s);\n          s.async = true;\n          s.onload = () => {\n            VEGA_DEBUG[key] = version;\n            return resolve(paths[lib]);\n          };\n          s.onerror = () => reject(`Error loading script: ${paths[lib]}`);\n          s.src = paths[lib];\n        });\n    }\n\n    function showError(err) {\n      outputDiv.innerHTML = `<div class=\"error\" style=\"color:red;\">${err}</div>`;\n      throw err;\n    }\n\n    function displayChart(vegaEmbed) {\n      vegaEmbed(outputDiv, spec, embedOpt)\n        .catch(err => showError(`Javascript Error: ${err.message}<br>This usually means there's a typo in your chart specification. See the javascript console for the full traceback.`));\n    }\n\n    if(typeof define === \"function\" && define.amd) {\n      requirejs.config({paths});\n      require([\"vega-embed\"], displayChart, err => showError(`Error loading script: ${err.message}`));\n    } else {\n      maybeLoadScript(\"vega\", \"5\")\n        .then(() => maybeLoadScript(\"vega-lite\", \"4.17.0\"))\n        .then(() => maybeLoadScript(\"vega-embed\", \"6\"))\n        .catch(showError)\n        .then(() => displayChart(vegaEmbed));\n    }\n  })({\"config\": {\"view\": {\"continuousWidth\": 400, \"continuousHeight\": 300}}, \"layer\": [{\"mark\": {\"type\": \"arc\", \"stroke\": \"#ffffff\"}, \"encoding\": {\"radius\": {\"aggregate\": \"mean\", \"field\": \"temperature\", \"type\": \"quantitative\"}, \"theta\": {\"field\": \"condition\", \"type\": \"nominal\"}}}, {\"mark\": {\"type\": \"text\", \"radiusOffset\": 15}, \"encoding\": {\"radius\": {\"aggregate\": \"mean\", \"field\": \"temperature\", \"type\": \"quantitative\"}, \"text\": {\"field\": \"condition\", \"type\": \"nominal\"}, \"theta\": {\"field\": \"condition\", \"type\": \"nominal\"}}}], \"data\": {\"name\": \"data-62648c40dc40a84dcc0ff734b69b013d\"}, \"$schema\": \"https://vega.github.io/schema/vega-lite/v4.17.0.json\", \"datasets\": {\"data-62648c40dc40a84dcc0ff734b69b013d\": [{\"temperature\": 15.949648750822519, \"wind\": 44.064474882832506, \"precipitation\": 39.57102111167698, \"condition\": \"sun\"}, {\"temperature\": 35.80410298761198, \"wind\": 57.347114406626844, \"precipitation\": 51.104157124186436, \"condition\": \"snow\"}, {\"temperature\": 34.39048786822457, \"wind\": 96.36048231593197, \"precipitation\": 40.96980376900311, \"condition\": \"drizzle\"}, {\"temperature\": 7.204885708939138, \"wind\": 25.146399378672125, \"precipitation\": 85.49017897658906, \"condition\": \"drizzle\"}, {\"temperature\": 19.55284015712061, \"wind\": 57.88396140686759, \"precipitation\": 73.6976786812617, \"condition\": \"sun\"}, {\"temperature\": 40.95867840323979, \"wind\": 18.240723526069058, \"precipitation\": 12.344374169099414, \"condition\": \"drizzle\"}, {\"temperature\": 8.037410652418316, \"wind\": 34.85524928680391, \"precipitation\": 47.39721336761291, \"condition\": \"drizzle\"}, {\"temperature\": -0.9238346314127046, \"wind\": 38.27888770381765, \"precipitation\": 49.084327395470694, \"condition\": \"snow\"}, {\"temperature\": 5.432162476529914, \"wind\": 26.375774021896824, \"precipitation\": 11.84973364714308, \"condition\": \"fog\"}, {\"temperature\": -0.5233284049906253, \"wind\": 20.341299498563536, \"precipitation\": 17.599397407184547, \"condition\": \"rain\"}, {\"temperature\": -0.32120652264539906, \"wind\": 56.70670804712174, \"precipitation\": 27.900390497052797, \"condition\": \"snow\"}, {\"temperature\": -5.8172209322540835, \"wind\": 7.922327363206739, \"precipitation\": 58.97450879694346, \"condition\": \"sun\"}, {\"temperature\": 29.348029927183475, \"wind\": 42.36486641293023, \"precipitation\": 52.297851298205714, \"condition\": \"snow\"}, {\"temperature\": -3.170224211296139, \"wind\": 25.422063817654927, \"precipitation\": 75.95709912967573, \"condition\": \"sun\"}, {\"temperature\": 29.762058145832015, \"wind\": 60.50785926641081, \"precipitation\": 27.63426836016134, \"condition\": \"sun\"}, {\"temperature\": -2.4226248703646167, \"wind\": 71.82451957436714, \"precipitation\": 27.866577679535155, \"condition\": \"rain\"}, {\"temperature\": 27.72342502276807, \"wind\": 25.495165547172526, \"precipitation\": 56.952472897674525, \"condition\": \"rain\"}, {\"temperature\": 42.86155275131322, \"wind\": 64.07798840013274, \"precipitation\": 43.20732916361416, \"condition\": \"drizzle\"}, {\"temperature\": 17.672356545916294, \"wind\": 69.76681823406481, \"precipitation\": 4.878513449934685, \"condition\": \"snow\"}, {\"temperature\": 14.10656929258668, \"wind\": 57.176270850584096, \"precipitation\": 22.99874996214144, \"condition\": \"sun\"}, {\"temperature\": 13.738975343826219, \"wind\": 47.92233289336022, \"precipitation\": 14.35681797090771, \"condition\": \"drizzle\"}, {\"temperature\": 38.54857944378019, \"wind\": 71.3951998928714, \"precipitation\": 47.86763119099666, \"condition\": \"rain\"}, {\"temperature\": 35.41541728844566, \"wind\": 15.372466094026361, \"precipitation\": 10.140892669165568, \"condition\": \"drizzle\"}, {\"temperature\": 42.8109485726051, \"wind\": 19.292730074798236, \"precipitation\": 83.72184051359054, \"condition\": \"sun\"}, {\"temperature\": 5.541837860134734, \"wind\": 37.91528502390926, \"precipitation\": 1.806095907348293, \"condition\": \"rain\"}, {\"temperature\": 31.26072818540954, \"wind\": 25.613046818128893, \"precipitation\": 93.99993502991724, \"condition\": \"snow\"}, {\"temperature\": 12.652262480706526, \"wind\": 19.716955298970042, \"precipitation\": 4.277209571833773, \"condition\": \"snow\"}, {\"temperature\": 27.464734441100425, \"wind\": 18.45750848171699, \"precipitation\": 14.862245845341137, \"condition\": \"snow\"}, {\"temperature\": 39.17194283180486, \"wind\": 62.584966101983305, \"precipitation\": 61.90806088367137, \"condition\": \"drizzle\"}, {\"temperature\": 20.57556038458332, \"wind\": 6.979458445589614, \"precipitation\": 26.20161503090155, \"condition\": \"fog\"}, {\"temperature\": 43.4376707328582, \"wind\": 91.72880025636312, \"precipitation\": 49.92669754392897, \"condition\": \"rain\"}, {\"temperature\": 37.392448305959796, \"wind\": 37.3453361137289, \"precipitation\": 79.01145543700821, \"condition\": \"rain\"}, {\"temperature\": -0.9740355983502056, \"wind\": 52.36556373635527, \"precipitation\": 30.452338583138562, \"condition\": \"fog\"}, {\"temperature\": 32.483093158374864, \"wind\": 88.0719315131664, \"precipitation\": 79.80325870322564, \"condition\": \"drizzle\"}, {\"temperature\": 35.06833977125789, \"wind\": 20.182255224013822, \"precipitation\": 68.32831560054159, \"condition\": \"drizzle\"}, {\"temperature\": 30.648689765220006, \"wind\": 70.20845647358497, \"precipitation\": 14.839756419615913, \"condition\": \"fog\"}, {\"temperature\": 17.568761783892697, \"wind\": 23.56533394038428, \"precipitation\": 33.43028312709272, \"condition\": \"fog\"}, {\"temperature\": 37.668328098899124, \"wind\": 25.752457285889363, \"precipitation\": 22.16206318576326, \"condition\": \"fog\"}, {\"temperature\": 5.014064033030415, \"wind\": 35.85304116185546, \"precipitation\": 50.430635606761776, \"condition\": \"drizzle\"}, {\"temperature\": 0.07199515030012726, \"wind\": 2.3037918503235444, \"precipitation\": 43.68655656674591, \"condition\": \"snow\"}, {\"temperature\": 5.954592424892175, \"wind\": 97.51084981729826, \"precipitation\": 18.937945167300562, \"condition\": \"fog\"}, {\"temperature\": 30.328519543203832, \"wind\": 11.124122490003696, \"precipitation\": 16.09587268986017, \"condition\": \"rain\"}, {\"temperature\": 14.46236976140856, \"wind\": 51.39244007969178, \"precipitation\": 51.52316459464377, \"condition\": \"fog\"}, {\"temperature\": 9.396286885496181, \"wind\": 14.413632366424933, \"precipitation\": 58.34025135533383, \"condition\": \"drizzle\"}, {\"temperature\": -7.883075294840844, \"wind\": 98.24018815877206, \"precipitation\": 51.405831276908884, \"condition\": \"snow\"}, {\"temperature\": 36.853296493232534, \"wind\": 17.44230067062308, \"precipitation\": 55.91312117168676, \"condition\": \"drizzle\"}, {\"temperature\": -9.582596783874624, \"wind\": 23.835535427130438, \"precipitation\": 61.605688998244446, \"condition\": \"fog\"}, {\"temperature\": -9.419128745924892, \"wind\": 53.25395558360789, \"precipitation\": 78.4515605013817, \"condition\": \"sun\"}, {\"temperature\": 4.571583314676532, \"wind\": 9.068613866100073, \"precipitation\": 42.448264608376526, \"condition\": \"rain\"}, {\"temperature\": 6.6203336157740615, \"wind\": 35.87691221835703, \"precipitation\": 64.98980696659649, \"condition\": \"rain\"}, {\"temperature\": 20.627672555392106, \"wind\": 28.946823430475742, \"precipitation\": 14.301584887467733, \"condition\": \"rain\"}, {\"temperature\": -9.583736731217567, \"wind\": 83.64814422156614, \"precipitation\": 35.873227198260004, \"condition\": \"snow\"}, {\"temperature\": 11.018260277272166, \"wind\": 82.98059861355699, \"precipitation\": 67.52390799343073, \"condition\": \"drizzle\"}, {\"temperature\": 5.411451095385809, \"wind\": 21.05653192591779, \"precipitation\": 98.10920750481597, \"condition\": \"fog\"}, {\"temperature\": 2.807402352777551, \"wind\": 40.81431754466085, \"precipitation\": 17.10555449196962, \"condition\": \"drizzle\"}, {\"temperature\": 33.60928142306782, \"wind\": 68.86862385408263, \"precipitation\": 1.7511520670655312, \"condition\": \"drizzle\"}, {\"temperature\": -3.7305842295491463, \"wind\": 22.99270590580842, \"precipitation\": 20.45024425044729, \"condition\": \"sun\"}, {\"temperature\": 38.88636288200788, \"wind\": 4.451268770649408, \"precipitation\": 50.18581381273084, \"condition\": \"snow\"}, {\"temperature\": 30.677916880360065, \"wind\": 57.58927095398997, \"precipitation\": 3.882294040985468, \"condition\": \"sun\"}, {\"temperature\": 20.936747003011536, \"wind\": 86.15890903839221, \"precipitation\": 84.64626055952643, \"condition\": \"sun\"}, {\"temperature\": 37.960508459665974, \"wind\": 83.22348385800635, \"precipitation\": 78.09579123477448, \"condition\": \"sun\"}, {\"temperature\": 2.789340992140385, \"wind\": 5.604841844996544, \"precipitation\": 64.23176719571818, \"condition\": \"rain\"}, {\"temperature\": -7.362921707472104, \"wind\": 57.37740217449133, \"precipitation\": 18.499742279296438, \"condition\": \"sun\"}, {\"temperature\": 1.1912189059593281, \"wind\": 46.52929788933954, \"precipitation\": 56.223732701756326, \"condition\": \"rain\"}, {\"temperature\": 5.601287545202137, \"wind\": 10.557820768094484, \"precipitation\": 10.005361911795385, \"condition\": \"sun\"}, {\"temperature\": 38.06145401149945, \"wind\": 40.55588658579815, \"precipitation\": 18.57864165136399, \"condition\": \"rain\"}, {\"temperature\": 10.003338415782952, \"wind\": 0.38143550979561347, \"precipitation\": 3.4323593600883995, \"condition\": \"snow\"}, {\"temperature\": 35.51840784136351, \"wind\": 85.38213169679159, \"precipitation\": 72.28024508142481, \"condition\": \"rain\"}, {\"temperature\": 42.22464006089062, \"wind\": 21.90245982426261, \"precipitation\": 64.4540475166047, \"condition\": \"snow\"}, {\"temperature\": 42.62614276410388, \"wind\": 16.596731146807365, \"precipitation\": 85.31723680641925, \"condition\": \"sun\"}, {\"temperature\": 4.666633193701054, \"wind\": 13.9068281587152, \"precipitation\": 87.48180339020342, \"condition\": \"drizzle\"}, {\"temperature\": 16.15426117162615, \"wind\": 38.00342325742586, \"precipitation\": 47.264072847267016, \"condition\": \"rain\"}, {\"temperature\": 15.032591880472172, \"wind\": 86.42884715473586, \"precipitation\": 81.69554228509587, \"condition\": \"rain\"}, {\"temperature\": 35.19149371217065, \"wind\": 72.5074270480888, \"precipitation\": 22.443215096530544, \"condition\": \"sun\"}, {\"temperature\": 26.84120821812121, \"wind\": 83.91441221303555, \"precipitation\": 63.11915666511897, \"condition\": \"drizzle\"}, {\"temperature\": 34.88005063805122, \"wind\": 45.33004448381994, \"precipitation\": 0.9935886811615613, \"condition\": \"rain\"}, {\"temperature\": 41.376840349386185, \"wind\": 7.544840957817378, \"precipitation\": 54.70235300254609, \"condition\": \"snow\"}, {\"temperature\": 36.960725847409456, \"wind\": 49.46574838149229, \"precipitation\": 85.47567556668297, \"condition\": \"snow\"}, {\"temperature\": 14.586289413415074, \"wind\": 4.489700154671472, \"precipitation\": 10.31362572720238, \"condition\": \"sun\"}, {\"temperature\": 20.04343950622185, \"wind\": 66.32817964057357, \"precipitation\": 74.44590348494177, \"condition\": \"sun\"}, {\"temperature\": 25.469560172224703, \"wind\": 82.06241734640489, \"precipitation\": 61.201009993418275, \"condition\": \"rain\"}, {\"temperature\": 20.070995853722245, \"wind\": 46.445227996549974, \"precipitation\": 53.59556892779981, \"condition\": \"snow\"}, {\"temperature\": 5.685018294722338, \"wind\": 58.17077525039538, \"precipitation\": 31.236078403128474, \"condition\": \"snow\"}, {\"temperature\": 42.487483009401764, \"wind\": 71.08000859923487, \"precipitation\": 61.47201457950021, \"condition\": \"rain\"}, {\"temperature\": -7.079256299328551, \"wind\": 27.004309009604967, \"precipitation\": 19.794263832693815, \"condition\": \"rain\"}, {\"temperature\": -5.045047126960084, \"wind\": 88.93771732732128, \"precipitation\": 99.50453536234512, \"condition\": \"fog\"}, {\"temperature\": 25.4533582484732, \"wind\": 96.38774772376792, \"precipitation\": 69.85460214191481, \"condition\": \"rain\"}, {\"temperature\": 22.955919291252926, \"wind\": 88.48558780603962, \"precipitation\": 40.268588772168876, \"condition\": \"snow\"}, {\"temperature\": 27.507453592914565, \"wind\": 29.838439613656075, \"precipitation\": 27.845875256677367, \"condition\": \"fog\"}, {\"temperature\": -6.870451234225997, \"wind\": 54.90225410574824, \"precipitation\": 29.74026895430255, \"condition\": \"snow\"}, {\"temperature\": 41.66879121402853, \"wind\": 21.388390668516323, \"precipitation\": 23.449697200445573, \"condition\": \"sun\"}, {\"temperature\": 15.838369384298645, \"wind\": 14.553164438107524, \"precipitation\": 78.9078385630916, \"condition\": \"sun\"}, {\"temperature\": 13.794652090601591, \"wind\": 31.915985033787553, \"precipitation\": 65.39000850075058, \"condition\": \"fog\"}, {\"temperature\": -0.24791853446323842, \"wind\": 16.053122209894966, \"precipitation\": 26.219628309452382, \"condition\": \"sun\"}, {\"temperature\": 20.625989859426074, \"wind\": 15.348759697534453, \"precipitation\": 94.2004787208339, \"condition\": \"rain\"}, {\"temperature\": 17.22130558630064, \"wind\": 61.15140884010469, \"precipitation\": 27.79385279217691, \"condition\": \"snow\"}, {\"temperature\": 15.342628921870396, \"wind\": 52.15522860596962, \"precipitation\": 44.258578235337545, \"condition\": \"drizzle\"}, {\"temperature\": 43.28838980732394, \"wind\": 30.617573960681387, \"precipitation\": 90.705784312922, \"condition\": \"drizzle\"}, {\"temperature\": 31.752614189233682, \"wind\": 54.002536771242745, \"precipitation\": 98.5871144935895, \"condition\": \"drizzle\"}, {\"temperature\": 3.5475184692079793, \"wind\": 96.91039458765935, \"precipitation\": 50.00054618320339, \"condition\": \"fog\"}]}}, {\"mode\": \"vega-lite\"});\n</script>",
      "text/plain": "alt.LayerChart(...)"
     },
     "metadata": {},
     "output_type": "display_data"
    }
   ],
   "source": [
    "base = alt.Chart(df)\n",
    "arc = base.mark_arc(stroke=\"#ffffff\").encode(\n",
    "    theta=alt.Theta(field=\"condition\", type=\"nominal\"),\n",
    "    radius=alt.Radius(field=\"temperature\", type=\"quantitative\", aggregate=\"mean\"),\n",
    ")\n",
    "text = base.mark_text(radiusOffset=15).encode(\n",
    "    theta=alt.Theta(field=\"condition\", type=\"nominal\"),\n",
    "    radius=alt.Radius(field=\"temperature\", type=\"quantitative\", aggregate=\"mean\"),\n",
    "    text=alt.Text(field=\"condition\", type=\"nominal\"),\n",
    ")\n",
    "display_chart(arc + text)"
   ]
  },
  {
   "cell_type": "markdown",
   "metadata": {},
   "source": [
    "### Histogram"
   ]
  },
  {
   "cell_type": "code",
   "execution_count": 177,
   "metadata": {},
   "outputs": [
    {
     "name": "stdout",
     "output_type": "stream",
     "text": [
      "{'field': [{'name': 'condition', 'type': 'string'}],\n",
      " 'number_rows': 100,\n",
      " 'view': [{'mark': [{'encoding': [{'channel': 'x', 'field': 'condition'},\n",
      "                                  {'aggregate': 'count', 'channel': 'y'}],\n",
      "                     'type': 'bar'}],\n",
      "           'scale': [{'channel': 'x', 'type': 'ordinal'},\n",
      "                     {'channel': 'y', 'type': 'linear', 'zero': 'true'}]}]}\n"
     ]
    }
   ],
   "source": [
    "facts = [\n",
    "    \"attribute(number_rows,root,100).\",\n",
    "    \"entity(field,root,condition).\",\n",
    "    \"attribute((field,name),condition,condition).\",\n",
    "    \"attribute((field,type),condition,string).\",\n",
    "    \"entity(view,root,0).\",\n",
    "    \"entity(mark,0,1).\",\n",
    "    \"attribute((mark,type),1,bar).\",\n",
    "    \"entity(encoding,1,2).\",\n",
    "    \"attribute((encoding,channel),2,x).\",\n",
    "    \"attribute((encoding,field),2,condition).\",\n",
    "    \"entity(encoding,1,3).\",\n",
    "    \"attribute((encoding,channel),3,y).\",\n",
    "    \"attribute((encoding,aggregate),3,count).\",\n",
    "    \"entity(scale,0,4).\",\n",
    "    \"attribute((scale,channel),4,x).\",\n",
    "    \"attribute((scale,type),4,ordinal).\",\n",
    "    \"entity(scale,0,5).\",\n",
    "    \"attribute((scale,channel),5,y).\",\n",
    "    \"attribute((scale,type),5,linear).\",\n",
    "    \"attribute((scale,zero),5,true).\",\n",
    "]\n",
    "spec = facts_to_dict(facts)\n",
    "pprint(spec)"
   ]
  },
  {
   "cell_type": "code",
   "execution_count": 178,
   "metadata": {},
   "outputs": [
    {
     "name": "stdout",
     "output_type": "stream",
     "text": [
      "{'$schema': 'https://vega.github.io/schema/vega-lite/v4.17.0.json',\n",
      " 'config': {'view': {'continuousHeight': 300, 'continuousWidth': 400}},\n",
      " 'encoding': {'x': {'field': 'condition',\n",
      "                    'scale': {'type': 'ordinal'},\n",
      "                    'type': 'nominal'},\n",
      "              'y': {'aggregate': 'count',\n",
      "                    'field': 'condition',\n",
      "                    'scale': {'type': 'linear', 'zero': True},\n",
      "                    'type': 'nominal'}},\n",
      " 'mark': 'bar'}\n"
     ]
    },
    {
     "data": {
      "text/html": "\n<div id=\"altair-viz-5dfea9f5ca5844e7b16d75f695c70eba\"></div>\n<script type=\"text/javascript\">\n  var VEGA_DEBUG = (typeof VEGA_DEBUG == \"undefined\") ? {} : VEGA_DEBUG;\n  (function(spec, embedOpt){\n    let outputDiv = document.currentScript.previousElementSibling;\n    if (outputDiv.id !== \"altair-viz-5dfea9f5ca5844e7b16d75f695c70eba\") {\n      outputDiv = document.getElementById(\"altair-viz-5dfea9f5ca5844e7b16d75f695c70eba\");\n    }\n    const paths = {\n      \"vega\": \"https://cdn.jsdelivr.net/npm//vega@5?noext\",\n      \"vega-lib\": \"https://cdn.jsdelivr.net/npm//vega-lib?noext\",\n      \"vega-lite\": \"https://cdn.jsdelivr.net/npm//vega-lite@4.17.0?noext\",\n      \"vega-embed\": \"https://cdn.jsdelivr.net/npm//vega-embed@6?noext\",\n    };\n\n    function maybeLoadScript(lib, version) {\n      var key = `${lib.replace(\"-\", \"\")}_version`;\n      return (VEGA_DEBUG[key] == version) ?\n        Promise.resolve(paths[lib]) :\n        new Promise(function(resolve, reject) {\n          var s = document.createElement('script');\n          document.getElementsByTagName(\"head\")[0].appendChild(s);\n          s.async = true;\n          s.onload = () => {\n            VEGA_DEBUG[key] = version;\n            return resolve(paths[lib]);\n          };\n          s.onerror = () => reject(`Error loading script: ${paths[lib]}`);\n          s.src = paths[lib];\n        });\n    }\n\n    function showError(err) {\n      outputDiv.innerHTML = `<div class=\"error\" style=\"color:red;\">${err}</div>`;\n      throw err;\n    }\n\n    function displayChart(vegaEmbed) {\n      vegaEmbed(outputDiv, spec, embedOpt)\n        .catch(err => showError(`Javascript Error: ${err.message}<br>This usually means there's a typo in your chart specification. See the javascript console for the full traceback.`));\n    }\n\n    if(typeof define === \"function\" && define.amd) {\n      requirejs.config({paths});\n      require([\"vega-embed\"], displayChart, err => showError(`Error loading script: ${err.message}`));\n    } else {\n      maybeLoadScript(\"vega\", \"5\")\n        .then(() => maybeLoadScript(\"vega-lite\", \"4.17.0\"))\n        .then(() => maybeLoadScript(\"vega-embed\", \"6\"))\n        .catch(showError)\n        .then(() => displayChart(vegaEmbed));\n    }\n  })({\"config\": {\"view\": {\"continuousWidth\": 400, \"continuousHeight\": 300}}, \"data\": {\"name\": \"data-62648c40dc40a84dcc0ff734b69b013d\"}, \"mark\": \"bar\", \"encoding\": {\"x\": {\"field\": \"condition\", \"scale\": {\"type\": \"ordinal\"}, \"type\": \"nominal\"}, \"y\": {\"aggregate\": \"count\", \"field\": \"condition\", \"scale\": {\"type\": \"linear\", \"zero\": true}, \"type\": \"nominal\"}}, \"$schema\": \"https://vega.github.io/schema/vega-lite/v4.17.0.json\", \"datasets\": {\"data-62648c40dc40a84dcc0ff734b69b013d\": [{\"temperature\": 15.949648750822519, \"wind\": 44.064474882832506, \"precipitation\": 39.57102111167698, \"condition\": \"sun\"}, {\"temperature\": 35.80410298761198, \"wind\": 57.347114406626844, \"precipitation\": 51.104157124186436, \"condition\": \"snow\"}, {\"temperature\": 34.39048786822457, \"wind\": 96.36048231593197, \"precipitation\": 40.96980376900311, \"condition\": \"drizzle\"}, {\"temperature\": 7.204885708939138, \"wind\": 25.146399378672125, \"precipitation\": 85.49017897658906, \"condition\": \"drizzle\"}, {\"temperature\": 19.55284015712061, \"wind\": 57.88396140686759, \"precipitation\": 73.6976786812617, \"condition\": \"sun\"}, {\"temperature\": 40.95867840323979, \"wind\": 18.240723526069058, \"precipitation\": 12.344374169099414, \"condition\": \"drizzle\"}, {\"temperature\": 8.037410652418316, \"wind\": 34.85524928680391, \"precipitation\": 47.39721336761291, \"condition\": \"drizzle\"}, {\"temperature\": -0.9238346314127046, \"wind\": 38.27888770381765, \"precipitation\": 49.084327395470694, \"condition\": \"snow\"}, {\"temperature\": 5.432162476529914, \"wind\": 26.375774021896824, \"precipitation\": 11.84973364714308, \"condition\": \"fog\"}, {\"temperature\": -0.5233284049906253, \"wind\": 20.341299498563536, \"precipitation\": 17.599397407184547, \"condition\": \"rain\"}, {\"temperature\": -0.32120652264539906, \"wind\": 56.70670804712174, \"precipitation\": 27.900390497052797, \"condition\": \"snow\"}, {\"temperature\": -5.8172209322540835, \"wind\": 7.922327363206739, \"precipitation\": 58.97450879694346, \"condition\": \"sun\"}, {\"temperature\": 29.348029927183475, \"wind\": 42.36486641293023, \"precipitation\": 52.297851298205714, \"condition\": \"snow\"}, {\"temperature\": -3.170224211296139, \"wind\": 25.422063817654927, \"precipitation\": 75.95709912967573, \"condition\": \"sun\"}, {\"temperature\": 29.762058145832015, \"wind\": 60.50785926641081, \"precipitation\": 27.63426836016134, \"condition\": \"sun\"}, {\"temperature\": -2.4226248703646167, \"wind\": 71.82451957436714, \"precipitation\": 27.866577679535155, \"condition\": \"rain\"}, {\"temperature\": 27.72342502276807, \"wind\": 25.495165547172526, \"precipitation\": 56.952472897674525, \"condition\": \"rain\"}, {\"temperature\": 42.86155275131322, \"wind\": 64.07798840013274, \"precipitation\": 43.20732916361416, \"condition\": \"drizzle\"}, {\"temperature\": 17.672356545916294, \"wind\": 69.76681823406481, \"precipitation\": 4.878513449934685, \"condition\": \"snow\"}, {\"temperature\": 14.10656929258668, \"wind\": 57.176270850584096, \"precipitation\": 22.99874996214144, \"condition\": \"sun\"}, {\"temperature\": 13.738975343826219, \"wind\": 47.92233289336022, \"precipitation\": 14.35681797090771, \"condition\": \"drizzle\"}, {\"temperature\": 38.54857944378019, \"wind\": 71.3951998928714, \"precipitation\": 47.86763119099666, \"condition\": \"rain\"}, {\"temperature\": 35.41541728844566, \"wind\": 15.372466094026361, \"precipitation\": 10.140892669165568, \"condition\": \"drizzle\"}, {\"temperature\": 42.8109485726051, \"wind\": 19.292730074798236, \"precipitation\": 83.72184051359054, \"condition\": \"sun\"}, {\"temperature\": 5.541837860134734, \"wind\": 37.91528502390926, \"precipitation\": 1.806095907348293, \"condition\": \"rain\"}, {\"temperature\": 31.26072818540954, \"wind\": 25.613046818128893, \"precipitation\": 93.99993502991724, \"condition\": \"snow\"}, {\"temperature\": 12.652262480706526, \"wind\": 19.716955298970042, \"precipitation\": 4.277209571833773, \"condition\": \"snow\"}, {\"temperature\": 27.464734441100425, \"wind\": 18.45750848171699, \"precipitation\": 14.862245845341137, \"condition\": \"snow\"}, {\"temperature\": 39.17194283180486, \"wind\": 62.584966101983305, \"precipitation\": 61.90806088367137, \"condition\": \"drizzle\"}, {\"temperature\": 20.57556038458332, \"wind\": 6.979458445589614, \"precipitation\": 26.20161503090155, \"condition\": \"fog\"}, {\"temperature\": 43.4376707328582, \"wind\": 91.72880025636312, \"precipitation\": 49.92669754392897, \"condition\": \"rain\"}, {\"temperature\": 37.392448305959796, \"wind\": 37.3453361137289, \"precipitation\": 79.01145543700821, \"condition\": \"rain\"}, {\"temperature\": -0.9740355983502056, \"wind\": 52.36556373635527, \"precipitation\": 30.452338583138562, \"condition\": \"fog\"}, {\"temperature\": 32.483093158374864, \"wind\": 88.0719315131664, \"precipitation\": 79.80325870322564, \"condition\": \"drizzle\"}, {\"temperature\": 35.06833977125789, \"wind\": 20.182255224013822, \"precipitation\": 68.32831560054159, \"condition\": \"drizzle\"}, {\"temperature\": 30.648689765220006, \"wind\": 70.20845647358497, \"precipitation\": 14.839756419615913, \"condition\": \"fog\"}, {\"temperature\": 17.568761783892697, \"wind\": 23.56533394038428, \"precipitation\": 33.43028312709272, \"condition\": \"fog\"}, {\"temperature\": 37.668328098899124, \"wind\": 25.752457285889363, \"precipitation\": 22.16206318576326, \"condition\": \"fog\"}, {\"temperature\": 5.014064033030415, \"wind\": 35.85304116185546, \"precipitation\": 50.430635606761776, \"condition\": \"drizzle\"}, {\"temperature\": 0.07199515030012726, \"wind\": 2.3037918503235444, \"precipitation\": 43.68655656674591, \"condition\": \"snow\"}, {\"temperature\": 5.954592424892175, \"wind\": 97.51084981729826, \"precipitation\": 18.937945167300562, \"condition\": \"fog\"}, {\"temperature\": 30.328519543203832, \"wind\": 11.124122490003696, \"precipitation\": 16.09587268986017, \"condition\": \"rain\"}, {\"temperature\": 14.46236976140856, \"wind\": 51.39244007969178, \"precipitation\": 51.52316459464377, \"condition\": \"fog\"}, {\"temperature\": 9.396286885496181, \"wind\": 14.413632366424933, \"precipitation\": 58.34025135533383, \"condition\": \"drizzle\"}, {\"temperature\": -7.883075294840844, \"wind\": 98.24018815877206, \"precipitation\": 51.405831276908884, \"condition\": \"snow\"}, {\"temperature\": 36.853296493232534, \"wind\": 17.44230067062308, \"precipitation\": 55.91312117168676, \"condition\": \"drizzle\"}, {\"temperature\": -9.582596783874624, \"wind\": 23.835535427130438, \"precipitation\": 61.605688998244446, \"condition\": \"fog\"}, {\"temperature\": -9.419128745924892, \"wind\": 53.25395558360789, \"precipitation\": 78.4515605013817, \"condition\": \"sun\"}, {\"temperature\": 4.571583314676532, \"wind\": 9.068613866100073, \"precipitation\": 42.448264608376526, \"condition\": \"rain\"}, {\"temperature\": 6.6203336157740615, \"wind\": 35.87691221835703, \"precipitation\": 64.98980696659649, \"condition\": \"rain\"}, {\"temperature\": 20.627672555392106, \"wind\": 28.946823430475742, \"precipitation\": 14.301584887467733, \"condition\": \"rain\"}, {\"temperature\": -9.583736731217567, \"wind\": 83.64814422156614, \"precipitation\": 35.873227198260004, \"condition\": \"snow\"}, {\"temperature\": 11.018260277272166, \"wind\": 82.98059861355699, \"precipitation\": 67.52390799343073, \"condition\": \"drizzle\"}, {\"temperature\": 5.411451095385809, \"wind\": 21.05653192591779, \"precipitation\": 98.10920750481597, \"condition\": \"fog\"}, {\"temperature\": 2.807402352777551, \"wind\": 40.81431754466085, \"precipitation\": 17.10555449196962, \"condition\": \"drizzle\"}, {\"temperature\": 33.60928142306782, \"wind\": 68.86862385408263, \"precipitation\": 1.7511520670655312, \"condition\": \"drizzle\"}, {\"temperature\": -3.7305842295491463, \"wind\": 22.99270590580842, \"precipitation\": 20.45024425044729, \"condition\": \"sun\"}, {\"temperature\": 38.88636288200788, \"wind\": 4.451268770649408, \"precipitation\": 50.18581381273084, \"condition\": \"snow\"}, {\"temperature\": 30.677916880360065, \"wind\": 57.58927095398997, \"precipitation\": 3.882294040985468, \"condition\": \"sun\"}, {\"temperature\": 20.936747003011536, \"wind\": 86.15890903839221, \"precipitation\": 84.64626055952643, \"condition\": \"sun\"}, {\"temperature\": 37.960508459665974, \"wind\": 83.22348385800635, \"precipitation\": 78.09579123477448, \"condition\": \"sun\"}, {\"temperature\": 2.789340992140385, \"wind\": 5.604841844996544, \"precipitation\": 64.23176719571818, \"condition\": \"rain\"}, {\"temperature\": -7.362921707472104, \"wind\": 57.37740217449133, \"precipitation\": 18.499742279296438, \"condition\": \"sun\"}, {\"temperature\": 1.1912189059593281, \"wind\": 46.52929788933954, \"precipitation\": 56.223732701756326, \"condition\": \"rain\"}, {\"temperature\": 5.601287545202137, \"wind\": 10.557820768094484, \"precipitation\": 10.005361911795385, \"condition\": \"sun\"}, {\"temperature\": 38.06145401149945, \"wind\": 40.55588658579815, \"precipitation\": 18.57864165136399, \"condition\": \"rain\"}, {\"temperature\": 10.003338415782952, \"wind\": 0.38143550979561347, \"precipitation\": 3.4323593600883995, \"condition\": \"snow\"}, {\"temperature\": 35.51840784136351, \"wind\": 85.38213169679159, \"precipitation\": 72.28024508142481, \"condition\": \"rain\"}, {\"temperature\": 42.22464006089062, \"wind\": 21.90245982426261, \"precipitation\": 64.4540475166047, \"condition\": \"snow\"}, {\"temperature\": 42.62614276410388, \"wind\": 16.596731146807365, \"precipitation\": 85.31723680641925, \"condition\": \"sun\"}, {\"temperature\": 4.666633193701054, \"wind\": 13.9068281587152, \"precipitation\": 87.48180339020342, \"condition\": \"drizzle\"}, {\"temperature\": 16.15426117162615, \"wind\": 38.00342325742586, \"precipitation\": 47.264072847267016, \"condition\": \"rain\"}, {\"temperature\": 15.032591880472172, \"wind\": 86.42884715473586, \"precipitation\": 81.69554228509587, \"condition\": \"rain\"}, {\"temperature\": 35.19149371217065, \"wind\": 72.5074270480888, \"precipitation\": 22.443215096530544, \"condition\": \"sun\"}, {\"temperature\": 26.84120821812121, \"wind\": 83.91441221303555, \"precipitation\": 63.11915666511897, \"condition\": \"drizzle\"}, {\"temperature\": 34.88005063805122, \"wind\": 45.33004448381994, \"precipitation\": 0.9935886811615613, \"condition\": \"rain\"}, {\"temperature\": 41.376840349386185, \"wind\": 7.544840957817378, \"precipitation\": 54.70235300254609, \"condition\": \"snow\"}, {\"temperature\": 36.960725847409456, \"wind\": 49.46574838149229, \"precipitation\": 85.47567556668297, \"condition\": \"snow\"}, {\"temperature\": 14.586289413415074, \"wind\": 4.489700154671472, \"precipitation\": 10.31362572720238, \"condition\": \"sun\"}, {\"temperature\": 20.04343950622185, \"wind\": 66.32817964057357, \"precipitation\": 74.44590348494177, \"condition\": \"sun\"}, {\"temperature\": 25.469560172224703, \"wind\": 82.06241734640489, \"precipitation\": 61.201009993418275, \"condition\": \"rain\"}, {\"temperature\": 20.070995853722245, \"wind\": 46.445227996549974, \"precipitation\": 53.59556892779981, \"condition\": \"snow\"}, {\"temperature\": 5.685018294722338, \"wind\": 58.17077525039538, \"precipitation\": 31.236078403128474, \"condition\": \"snow\"}, {\"temperature\": 42.487483009401764, \"wind\": 71.08000859923487, \"precipitation\": 61.47201457950021, \"condition\": \"rain\"}, {\"temperature\": -7.079256299328551, \"wind\": 27.004309009604967, \"precipitation\": 19.794263832693815, \"condition\": \"rain\"}, {\"temperature\": -5.045047126960084, \"wind\": 88.93771732732128, \"precipitation\": 99.50453536234512, \"condition\": \"fog\"}, {\"temperature\": 25.4533582484732, \"wind\": 96.38774772376792, \"precipitation\": 69.85460214191481, \"condition\": \"rain\"}, {\"temperature\": 22.955919291252926, \"wind\": 88.48558780603962, \"precipitation\": 40.268588772168876, \"condition\": \"snow\"}, {\"temperature\": 27.507453592914565, \"wind\": 29.838439613656075, \"precipitation\": 27.845875256677367, \"condition\": \"fog\"}, {\"temperature\": -6.870451234225997, \"wind\": 54.90225410574824, \"precipitation\": 29.74026895430255, \"condition\": \"snow\"}, {\"temperature\": 41.66879121402853, \"wind\": 21.388390668516323, \"precipitation\": 23.449697200445573, \"condition\": \"sun\"}, {\"temperature\": 15.838369384298645, \"wind\": 14.553164438107524, \"precipitation\": 78.9078385630916, \"condition\": \"sun\"}, {\"temperature\": 13.794652090601591, \"wind\": 31.915985033787553, \"precipitation\": 65.39000850075058, \"condition\": \"fog\"}, {\"temperature\": -0.24791853446323842, \"wind\": 16.053122209894966, \"precipitation\": 26.219628309452382, \"condition\": \"sun\"}, {\"temperature\": 20.625989859426074, \"wind\": 15.348759697534453, \"precipitation\": 94.2004787208339, \"condition\": \"rain\"}, {\"temperature\": 17.22130558630064, \"wind\": 61.15140884010469, \"precipitation\": 27.79385279217691, \"condition\": \"snow\"}, {\"temperature\": 15.342628921870396, \"wind\": 52.15522860596962, \"precipitation\": 44.258578235337545, \"condition\": \"drizzle\"}, {\"temperature\": 43.28838980732394, \"wind\": 30.617573960681387, \"precipitation\": 90.705784312922, \"condition\": \"drizzle\"}, {\"temperature\": 31.752614189233682, \"wind\": 54.002536771242745, \"precipitation\": 98.5871144935895, \"condition\": \"drizzle\"}, {\"temperature\": 3.5475184692079793, \"wind\": 96.91039458765935, \"precipitation\": 50.00054618320339, \"condition\": \"fog\"}]}}, {\"mode\": \"vega-lite\"});\n</script>",
      "text/plain": "alt.Chart(...)"
     },
     "metadata": {},
     "output_type": "display_data"
    }
   ],
   "source": [
    "base = alt.Chart(df)\n",
    "bar = base.mark_bar().encode(\n",
    "    x=alt.X(field=\"condition\", type=\"nominal\", scale=alt.Scale(type=\"ordinal\")),\n",
    "    y=alt.Y(\n",
    "        field=\"condition\",\n",
    "        type=\"nominal\",\n",
    "        aggregate=\"count\",\n",
    "        scale=alt.Scale(type=\"linear\", zero=True),\n",
    "    ),\n",
    ")\n",
    "display_chart(bar)"
   ]
  },
  {
   "cell_type": "markdown",
   "metadata": {},
   "source": [
    "### Binned Histrogram"
   ]
  },
  {
   "cell_type": "code",
   "execution_count": 179,
   "metadata": {},
   "outputs": [
    {
     "name": "stdout",
     "output_type": "stream",
     "text": [
      "{'field': [{'name': 'temperature', 'type': 'number'}],\n",
      " 'number_rows': 100,\n",
      " 'view': [{'mark': [{'encoding': [{'binning': 10,\n",
      "                                   'channel': 'x',\n",
      "                                   'field': 'temperature'},\n",
      "                                  {'aggregate': 'count', 'channel': 'y'}],\n",
      "                     'type': 'bar'}],\n",
      "           'scale': [{'channel': 'x', 'type': 'linear'},\n",
      "                     {'channel': 'y', 'type': 'linear', 'zero': 'true'}]}]}\n"
     ]
    }
   ],
   "source": [
    "facts = [\n",
    "    \"attribute(number_rows,root,100).\",\n",
    "    \"entity(field,root,temperature).\",\n",
    "    \"attribute((field,name),temperature,temperature).\",\n",
    "    \"attribute((field,type),temperature,number).\",\n",
    "    \"entity(view,root,0).\",\n",
    "    \"entity(mark,0,1).\",\n",
    "    \"attribute((mark,type),1,bar).\",\n",
    "    \"entity(encoding,1,2).\",\n",
    "    \"attribute((encoding,channel),2,x).\",\n",
    "    \"attribute((encoding,field),2,temperature).\",\n",
    "    \"attribute((encoding,binning),2,10).\",\n",
    "    \"entity(encoding,1,3).\",\n",
    "    \"attribute((encoding,channel),3,y).\",\n",
    "    \"attribute((encoding,aggregate),3,count).\",\n",
    "    \"entity(scale,0,4).\",\n",
    "    \"attribute((scale,channel),4,x).\",\n",
    "    \"attribute((scale,type),4,linear).\",\n",
    "    \"entity(scale,0,5).\",\n",
    "    \"attribute((scale,channel),5,y).\",\n",
    "    \"attribute((scale,type),5,linear).\",\n",
    "    \"attribute((scale,zero),5,true).\",\n",
    "]\n",
    "spec = facts_to_dict(facts)\n",
    "pprint(spec)"
   ]
  },
  {
   "cell_type": "code",
   "execution_count": 180,
   "metadata": {},
   "outputs": [
    {
     "name": "stdout",
     "output_type": "stream",
     "text": [
      "{'$schema': 'https://vega.github.io/schema/vega-lite/v4.17.0.json',\n",
      " 'config': {'view': {'continuousHeight': 300, 'continuousWidth': 400}},\n",
      " 'encoding': {'x': {'bin': {'maxbins': 10},\n",
      "                    'field': 'temperature',\n",
      "                    'scale': {'type': 'linear'},\n",
      "                    'type': 'quantitative'},\n",
      "              'y': {'aggregate': 'count',\n",
      "                    'field': 'temperature',\n",
      "                    'scale': {'type': 'linear', 'zero': True},\n",
      "                    'type': 'quantitative'}},\n",
      " 'mark': 'bar'}\n"
     ]
    },
    {
     "data": {
      "text/html": "\n<div id=\"altair-viz-1bbfebfa86a7467d9eabc0c1d09a17e4\"></div>\n<script type=\"text/javascript\">\n  var VEGA_DEBUG = (typeof VEGA_DEBUG == \"undefined\") ? {} : VEGA_DEBUG;\n  (function(spec, embedOpt){\n    let outputDiv = document.currentScript.previousElementSibling;\n    if (outputDiv.id !== \"altair-viz-1bbfebfa86a7467d9eabc0c1d09a17e4\") {\n      outputDiv = document.getElementById(\"altair-viz-1bbfebfa86a7467d9eabc0c1d09a17e4\");\n    }\n    const paths = {\n      \"vega\": \"https://cdn.jsdelivr.net/npm//vega@5?noext\",\n      \"vega-lib\": \"https://cdn.jsdelivr.net/npm//vega-lib?noext\",\n      \"vega-lite\": \"https://cdn.jsdelivr.net/npm//vega-lite@4.17.0?noext\",\n      \"vega-embed\": \"https://cdn.jsdelivr.net/npm//vega-embed@6?noext\",\n    };\n\n    function maybeLoadScript(lib, version) {\n      var key = `${lib.replace(\"-\", \"\")}_version`;\n      return (VEGA_DEBUG[key] == version) ?\n        Promise.resolve(paths[lib]) :\n        new Promise(function(resolve, reject) {\n          var s = document.createElement('script');\n          document.getElementsByTagName(\"head\")[0].appendChild(s);\n          s.async = true;\n          s.onload = () => {\n            VEGA_DEBUG[key] = version;\n            return resolve(paths[lib]);\n          };\n          s.onerror = () => reject(`Error loading script: ${paths[lib]}`);\n          s.src = paths[lib];\n        });\n    }\n\n    function showError(err) {\n      outputDiv.innerHTML = `<div class=\"error\" style=\"color:red;\">${err}</div>`;\n      throw err;\n    }\n\n    function displayChart(vegaEmbed) {\n      vegaEmbed(outputDiv, spec, embedOpt)\n        .catch(err => showError(`Javascript Error: ${err.message}<br>This usually means there's a typo in your chart specification. See the javascript console for the full traceback.`));\n    }\n\n    if(typeof define === \"function\" && define.amd) {\n      requirejs.config({paths});\n      require([\"vega-embed\"], displayChart, err => showError(`Error loading script: ${err.message}`));\n    } else {\n      maybeLoadScript(\"vega\", \"5\")\n        .then(() => maybeLoadScript(\"vega-lite\", \"4.17.0\"))\n        .then(() => maybeLoadScript(\"vega-embed\", \"6\"))\n        .catch(showError)\n        .then(() => displayChart(vegaEmbed));\n    }\n  })({\"config\": {\"view\": {\"continuousWidth\": 400, \"continuousHeight\": 300}}, \"data\": {\"name\": \"data-62648c40dc40a84dcc0ff734b69b013d\"}, \"mark\": \"bar\", \"encoding\": {\"x\": {\"bin\": {\"maxbins\": 10}, \"field\": \"temperature\", \"scale\": {\"type\": \"linear\"}, \"type\": \"quantitative\"}, \"y\": {\"aggregate\": \"count\", \"field\": \"temperature\", \"scale\": {\"type\": \"linear\", \"zero\": true}, \"type\": \"quantitative\"}}, \"$schema\": \"https://vega.github.io/schema/vega-lite/v4.17.0.json\", \"datasets\": {\"data-62648c40dc40a84dcc0ff734b69b013d\": [{\"temperature\": 15.949648750822519, \"wind\": 44.064474882832506, \"precipitation\": 39.57102111167698, \"condition\": \"sun\"}, {\"temperature\": 35.80410298761198, \"wind\": 57.347114406626844, \"precipitation\": 51.104157124186436, \"condition\": \"snow\"}, {\"temperature\": 34.39048786822457, \"wind\": 96.36048231593197, \"precipitation\": 40.96980376900311, \"condition\": \"drizzle\"}, {\"temperature\": 7.204885708939138, \"wind\": 25.146399378672125, \"precipitation\": 85.49017897658906, \"condition\": \"drizzle\"}, {\"temperature\": 19.55284015712061, \"wind\": 57.88396140686759, \"precipitation\": 73.6976786812617, \"condition\": \"sun\"}, {\"temperature\": 40.95867840323979, \"wind\": 18.240723526069058, \"precipitation\": 12.344374169099414, \"condition\": \"drizzle\"}, {\"temperature\": 8.037410652418316, \"wind\": 34.85524928680391, \"precipitation\": 47.39721336761291, \"condition\": \"drizzle\"}, {\"temperature\": -0.9238346314127046, \"wind\": 38.27888770381765, \"precipitation\": 49.084327395470694, \"condition\": \"snow\"}, {\"temperature\": 5.432162476529914, \"wind\": 26.375774021896824, \"precipitation\": 11.84973364714308, \"condition\": \"fog\"}, {\"temperature\": -0.5233284049906253, \"wind\": 20.341299498563536, \"precipitation\": 17.599397407184547, \"condition\": \"rain\"}, {\"temperature\": -0.32120652264539906, \"wind\": 56.70670804712174, \"precipitation\": 27.900390497052797, \"condition\": \"snow\"}, {\"temperature\": -5.8172209322540835, \"wind\": 7.922327363206739, \"precipitation\": 58.97450879694346, \"condition\": \"sun\"}, {\"temperature\": 29.348029927183475, \"wind\": 42.36486641293023, \"precipitation\": 52.297851298205714, \"condition\": \"snow\"}, {\"temperature\": -3.170224211296139, \"wind\": 25.422063817654927, \"precipitation\": 75.95709912967573, \"condition\": \"sun\"}, {\"temperature\": 29.762058145832015, \"wind\": 60.50785926641081, \"precipitation\": 27.63426836016134, \"condition\": \"sun\"}, {\"temperature\": -2.4226248703646167, \"wind\": 71.82451957436714, \"precipitation\": 27.866577679535155, \"condition\": \"rain\"}, {\"temperature\": 27.72342502276807, \"wind\": 25.495165547172526, \"precipitation\": 56.952472897674525, \"condition\": \"rain\"}, {\"temperature\": 42.86155275131322, \"wind\": 64.07798840013274, \"precipitation\": 43.20732916361416, \"condition\": \"drizzle\"}, {\"temperature\": 17.672356545916294, \"wind\": 69.76681823406481, \"precipitation\": 4.878513449934685, \"condition\": \"snow\"}, {\"temperature\": 14.10656929258668, \"wind\": 57.176270850584096, \"precipitation\": 22.99874996214144, \"condition\": \"sun\"}, {\"temperature\": 13.738975343826219, \"wind\": 47.92233289336022, \"precipitation\": 14.35681797090771, \"condition\": \"drizzle\"}, {\"temperature\": 38.54857944378019, \"wind\": 71.3951998928714, \"precipitation\": 47.86763119099666, \"condition\": \"rain\"}, {\"temperature\": 35.41541728844566, \"wind\": 15.372466094026361, \"precipitation\": 10.140892669165568, \"condition\": \"drizzle\"}, {\"temperature\": 42.8109485726051, \"wind\": 19.292730074798236, \"precipitation\": 83.72184051359054, \"condition\": \"sun\"}, {\"temperature\": 5.541837860134734, \"wind\": 37.91528502390926, \"precipitation\": 1.806095907348293, \"condition\": \"rain\"}, {\"temperature\": 31.26072818540954, \"wind\": 25.613046818128893, \"precipitation\": 93.99993502991724, \"condition\": \"snow\"}, {\"temperature\": 12.652262480706526, \"wind\": 19.716955298970042, \"precipitation\": 4.277209571833773, \"condition\": \"snow\"}, {\"temperature\": 27.464734441100425, \"wind\": 18.45750848171699, \"precipitation\": 14.862245845341137, \"condition\": \"snow\"}, {\"temperature\": 39.17194283180486, \"wind\": 62.584966101983305, \"precipitation\": 61.90806088367137, \"condition\": \"drizzle\"}, {\"temperature\": 20.57556038458332, \"wind\": 6.979458445589614, \"precipitation\": 26.20161503090155, \"condition\": \"fog\"}, {\"temperature\": 43.4376707328582, \"wind\": 91.72880025636312, \"precipitation\": 49.92669754392897, \"condition\": \"rain\"}, {\"temperature\": 37.392448305959796, \"wind\": 37.3453361137289, \"precipitation\": 79.01145543700821, \"condition\": \"rain\"}, {\"temperature\": -0.9740355983502056, \"wind\": 52.36556373635527, \"precipitation\": 30.452338583138562, \"condition\": \"fog\"}, {\"temperature\": 32.483093158374864, \"wind\": 88.0719315131664, \"precipitation\": 79.80325870322564, \"condition\": \"drizzle\"}, {\"temperature\": 35.06833977125789, \"wind\": 20.182255224013822, \"precipitation\": 68.32831560054159, \"condition\": \"drizzle\"}, {\"temperature\": 30.648689765220006, \"wind\": 70.20845647358497, \"precipitation\": 14.839756419615913, \"condition\": \"fog\"}, {\"temperature\": 17.568761783892697, \"wind\": 23.56533394038428, \"precipitation\": 33.43028312709272, \"condition\": \"fog\"}, {\"temperature\": 37.668328098899124, \"wind\": 25.752457285889363, \"precipitation\": 22.16206318576326, \"condition\": \"fog\"}, {\"temperature\": 5.014064033030415, \"wind\": 35.85304116185546, \"precipitation\": 50.430635606761776, \"condition\": \"drizzle\"}, {\"temperature\": 0.07199515030012726, \"wind\": 2.3037918503235444, \"precipitation\": 43.68655656674591, \"condition\": \"snow\"}, {\"temperature\": 5.954592424892175, \"wind\": 97.51084981729826, \"precipitation\": 18.937945167300562, \"condition\": \"fog\"}, {\"temperature\": 30.328519543203832, \"wind\": 11.124122490003696, \"precipitation\": 16.09587268986017, \"condition\": \"rain\"}, {\"temperature\": 14.46236976140856, \"wind\": 51.39244007969178, \"precipitation\": 51.52316459464377, \"condition\": \"fog\"}, {\"temperature\": 9.396286885496181, \"wind\": 14.413632366424933, \"precipitation\": 58.34025135533383, \"condition\": \"drizzle\"}, {\"temperature\": -7.883075294840844, \"wind\": 98.24018815877206, \"precipitation\": 51.405831276908884, \"condition\": \"snow\"}, {\"temperature\": 36.853296493232534, \"wind\": 17.44230067062308, \"precipitation\": 55.91312117168676, \"condition\": \"drizzle\"}, {\"temperature\": -9.582596783874624, \"wind\": 23.835535427130438, \"precipitation\": 61.605688998244446, \"condition\": \"fog\"}, {\"temperature\": -9.419128745924892, \"wind\": 53.25395558360789, \"precipitation\": 78.4515605013817, \"condition\": \"sun\"}, {\"temperature\": 4.571583314676532, \"wind\": 9.068613866100073, \"precipitation\": 42.448264608376526, \"condition\": \"rain\"}, {\"temperature\": 6.6203336157740615, \"wind\": 35.87691221835703, \"precipitation\": 64.98980696659649, \"condition\": \"rain\"}, {\"temperature\": 20.627672555392106, \"wind\": 28.946823430475742, \"precipitation\": 14.301584887467733, \"condition\": \"rain\"}, {\"temperature\": -9.583736731217567, \"wind\": 83.64814422156614, \"precipitation\": 35.873227198260004, \"condition\": \"snow\"}, {\"temperature\": 11.018260277272166, \"wind\": 82.98059861355699, \"precipitation\": 67.52390799343073, \"condition\": \"drizzle\"}, {\"temperature\": 5.411451095385809, \"wind\": 21.05653192591779, \"precipitation\": 98.10920750481597, \"condition\": \"fog\"}, {\"temperature\": 2.807402352777551, \"wind\": 40.81431754466085, \"precipitation\": 17.10555449196962, \"condition\": \"drizzle\"}, {\"temperature\": 33.60928142306782, \"wind\": 68.86862385408263, \"precipitation\": 1.7511520670655312, \"condition\": \"drizzle\"}, {\"temperature\": -3.7305842295491463, \"wind\": 22.99270590580842, \"precipitation\": 20.45024425044729, \"condition\": \"sun\"}, {\"temperature\": 38.88636288200788, \"wind\": 4.451268770649408, \"precipitation\": 50.18581381273084, \"condition\": \"snow\"}, {\"temperature\": 30.677916880360065, \"wind\": 57.58927095398997, \"precipitation\": 3.882294040985468, \"condition\": \"sun\"}, {\"temperature\": 20.936747003011536, \"wind\": 86.15890903839221, \"precipitation\": 84.64626055952643, \"condition\": \"sun\"}, {\"temperature\": 37.960508459665974, \"wind\": 83.22348385800635, \"precipitation\": 78.09579123477448, \"condition\": \"sun\"}, {\"temperature\": 2.789340992140385, \"wind\": 5.604841844996544, \"precipitation\": 64.23176719571818, \"condition\": \"rain\"}, {\"temperature\": -7.362921707472104, \"wind\": 57.37740217449133, \"precipitation\": 18.499742279296438, \"condition\": \"sun\"}, {\"temperature\": 1.1912189059593281, \"wind\": 46.52929788933954, \"precipitation\": 56.223732701756326, \"condition\": \"rain\"}, {\"temperature\": 5.601287545202137, \"wind\": 10.557820768094484, \"precipitation\": 10.005361911795385, \"condition\": \"sun\"}, {\"temperature\": 38.06145401149945, \"wind\": 40.55588658579815, \"precipitation\": 18.57864165136399, \"condition\": \"rain\"}, {\"temperature\": 10.003338415782952, \"wind\": 0.38143550979561347, \"precipitation\": 3.4323593600883995, \"condition\": \"snow\"}, {\"temperature\": 35.51840784136351, \"wind\": 85.38213169679159, \"precipitation\": 72.28024508142481, \"condition\": \"rain\"}, {\"temperature\": 42.22464006089062, \"wind\": 21.90245982426261, \"precipitation\": 64.4540475166047, \"condition\": \"snow\"}, {\"temperature\": 42.62614276410388, \"wind\": 16.596731146807365, \"precipitation\": 85.31723680641925, \"condition\": \"sun\"}, {\"temperature\": 4.666633193701054, \"wind\": 13.9068281587152, \"precipitation\": 87.48180339020342, \"condition\": \"drizzle\"}, {\"temperature\": 16.15426117162615, \"wind\": 38.00342325742586, \"precipitation\": 47.264072847267016, \"condition\": \"rain\"}, {\"temperature\": 15.032591880472172, \"wind\": 86.42884715473586, \"precipitation\": 81.69554228509587, \"condition\": \"rain\"}, {\"temperature\": 35.19149371217065, \"wind\": 72.5074270480888, \"precipitation\": 22.443215096530544, \"condition\": \"sun\"}, {\"temperature\": 26.84120821812121, \"wind\": 83.91441221303555, \"precipitation\": 63.11915666511897, \"condition\": \"drizzle\"}, {\"temperature\": 34.88005063805122, \"wind\": 45.33004448381994, \"precipitation\": 0.9935886811615613, \"condition\": \"rain\"}, {\"temperature\": 41.376840349386185, \"wind\": 7.544840957817378, \"precipitation\": 54.70235300254609, \"condition\": \"snow\"}, {\"temperature\": 36.960725847409456, \"wind\": 49.46574838149229, \"precipitation\": 85.47567556668297, \"condition\": \"snow\"}, {\"temperature\": 14.586289413415074, \"wind\": 4.489700154671472, \"precipitation\": 10.31362572720238, \"condition\": \"sun\"}, {\"temperature\": 20.04343950622185, \"wind\": 66.32817964057357, \"precipitation\": 74.44590348494177, \"condition\": \"sun\"}, {\"temperature\": 25.469560172224703, \"wind\": 82.06241734640489, \"precipitation\": 61.201009993418275, \"condition\": \"rain\"}, {\"temperature\": 20.070995853722245, \"wind\": 46.445227996549974, \"precipitation\": 53.59556892779981, \"condition\": \"snow\"}, {\"temperature\": 5.685018294722338, \"wind\": 58.17077525039538, \"precipitation\": 31.236078403128474, \"condition\": \"snow\"}, {\"temperature\": 42.487483009401764, \"wind\": 71.08000859923487, \"precipitation\": 61.47201457950021, \"condition\": \"rain\"}, {\"temperature\": -7.079256299328551, \"wind\": 27.004309009604967, \"precipitation\": 19.794263832693815, \"condition\": \"rain\"}, {\"temperature\": -5.045047126960084, \"wind\": 88.93771732732128, \"precipitation\": 99.50453536234512, \"condition\": \"fog\"}, {\"temperature\": 25.4533582484732, \"wind\": 96.38774772376792, \"precipitation\": 69.85460214191481, \"condition\": \"rain\"}, {\"temperature\": 22.955919291252926, \"wind\": 88.48558780603962, \"precipitation\": 40.268588772168876, \"condition\": \"snow\"}, {\"temperature\": 27.507453592914565, \"wind\": 29.838439613656075, \"precipitation\": 27.845875256677367, \"condition\": \"fog\"}, {\"temperature\": -6.870451234225997, \"wind\": 54.90225410574824, \"precipitation\": 29.74026895430255, \"condition\": \"snow\"}, {\"temperature\": 41.66879121402853, \"wind\": 21.388390668516323, \"precipitation\": 23.449697200445573, \"condition\": \"sun\"}, {\"temperature\": 15.838369384298645, \"wind\": 14.553164438107524, \"precipitation\": 78.9078385630916, \"condition\": \"sun\"}, {\"temperature\": 13.794652090601591, \"wind\": 31.915985033787553, \"precipitation\": 65.39000850075058, \"condition\": \"fog\"}, {\"temperature\": -0.24791853446323842, \"wind\": 16.053122209894966, \"precipitation\": 26.219628309452382, \"condition\": \"sun\"}, {\"temperature\": 20.625989859426074, \"wind\": 15.348759697534453, \"precipitation\": 94.2004787208339, \"condition\": \"rain\"}, {\"temperature\": 17.22130558630064, \"wind\": 61.15140884010469, \"precipitation\": 27.79385279217691, \"condition\": \"snow\"}, {\"temperature\": 15.342628921870396, \"wind\": 52.15522860596962, \"precipitation\": 44.258578235337545, \"condition\": \"drizzle\"}, {\"temperature\": 43.28838980732394, \"wind\": 30.617573960681387, \"precipitation\": 90.705784312922, \"condition\": \"drizzle\"}, {\"temperature\": 31.752614189233682, \"wind\": 54.002536771242745, \"precipitation\": 98.5871144935895, \"condition\": \"drizzle\"}, {\"temperature\": 3.5475184692079793, \"wind\": 96.91039458765935, \"precipitation\": 50.00054618320339, \"condition\": \"fog\"}]}}, {\"mode\": \"vega-lite\"});\n</script>",
      "text/plain": "alt.Chart(...)"
     },
     "metadata": {},
     "output_type": "display_data"
    }
   ],
   "source": [
    "base = alt.Chart(df)\n",
    "bar = base.mark_bar().encode(\n",
    "    x=alt.X(\n",
    "        field=\"temperature\",\n",
    "        type=\"quantitative\",\n",
    "        bin=alt.Bin(maxbins=10),\n",
    "        scale=alt.Scale(type=\"linear\"),\n",
    "    ),\n",
    "    y=alt.Y(\n",
    "        field=\"temperature\",\n",
    "        type=\"quantitative\",\n",
    "        aggregate=\"count\",\n",
    "        scale=alt.Scale(type=\"linear\", zero=True),\n",
    "    ),\n",
    ")\n",
    "display_chart(bar)"
   ]
  },
  {
   "cell_type": "markdown",
   "metadata": {},
   "source": [
    "### Scatterplot"
   ]
  },
  {
   "cell_type": "code",
   "execution_count": 181,
   "metadata": {},
   "outputs": [
    {
     "name": "stdout",
     "output_type": "stream",
     "text": [
      "{'field': [{'name': 'temperature', 'type': 'number'},\n",
      "           {'name': 'wind', 'type': 'number'}],\n",
      " 'number_rows': 100,\n",
      " 'view': [{'mark': [{'encoding': [{'channel': 'x', 'field': 'temperature'},\n",
      "                                  {'channel': 'y', 'field': 'wind'}],\n",
      "                     'type': 'point'}],\n",
      "           'scale': [{'channel': 'x', 'type': 'linear'},\n",
      "                     {'channel': 'y', 'type': 'linear'}]}]}\n"
     ]
    }
   ],
   "source": [
    "facts = [\n",
    "    \"attribute(number_rows,root,100).\",\n",
    "    \"entity(field,root,temperature).\",\n",
    "    \"attribute((field,name),temperature,temperature).\",\n",
    "    \"attribute((field,type),temperature,number).\",\n",
    "    \"entity(field,root,wind).\",\n",
    "    \"attribute((field,name),wind,wind).\",\n",
    "    \"attribute((field,type),wind,number).\",\n",
    "    \"entity(view,root,0).\",\n",
    "    \"entity(mark,0,1).\",\n",
    "    \"attribute((mark,type),1,point).\",\n",
    "    \"entity(encoding,1,2).\",\n",
    "    \"attribute((encoding,channel),2,x).\",\n",
    "    \"attribute((encoding,field),2,temperature).\",\n",
    "    \"entity(encoding,1,3).\",\n",
    "    \"attribute((encoding,channel),3,y).\",\n",
    "    \"attribute((encoding,field),3,wind).\",\n",
    "    \"entity(scale,0,4).\",\n",
    "    \"attribute((scale,channel),4,x).\",\n",
    "    \"attribute((scale,type),4,linear).\",\n",
    "    \"entity(scale,0,5).\",\n",
    "    \"attribute((scale,channel),5,y).\",\n",
    "    \"attribute((scale,type),5,linear).\",\n",
    "]\n",
    "spec = facts_to_dict(facts)\n",
    "pprint(spec)"
   ]
  },
  {
   "cell_type": "code",
   "execution_count": 182,
   "metadata": {},
   "outputs": [
    {
     "name": "stdout",
     "output_type": "stream",
     "text": [
      "{'$schema': 'https://vega.github.io/schema/vega-lite/v4.17.0.json',\n",
      " 'config': {'view': {'continuousHeight': 300, 'continuousWidth': 400}},\n",
      " 'encoding': {'x': {'field': 'temperature',\n",
      "                    'scale': {'type': 'linear'},\n",
      "                    'type': 'quantitative'},\n",
      "              'y': {'field': 'wind',\n",
      "                    'scale': {'type': 'linear'},\n",
      "                    'type': 'quantitative'}},\n",
      " 'mark': 'point'}\n"
     ]
    },
    {
     "data": {
      "text/html": "\n<div id=\"altair-viz-40a57bbf6cf94224bcf5fefb4a8623f8\"></div>\n<script type=\"text/javascript\">\n  var VEGA_DEBUG = (typeof VEGA_DEBUG == \"undefined\") ? {} : VEGA_DEBUG;\n  (function(spec, embedOpt){\n    let outputDiv = document.currentScript.previousElementSibling;\n    if (outputDiv.id !== \"altair-viz-40a57bbf6cf94224bcf5fefb4a8623f8\") {\n      outputDiv = document.getElementById(\"altair-viz-40a57bbf6cf94224bcf5fefb4a8623f8\");\n    }\n    const paths = {\n      \"vega\": \"https://cdn.jsdelivr.net/npm//vega@5?noext\",\n      \"vega-lib\": \"https://cdn.jsdelivr.net/npm//vega-lib?noext\",\n      \"vega-lite\": \"https://cdn.jsdelivr.net/npm//vega-lite@4.17.0?noext\",\n      \"vega-embed\": \"https://cdn.jsdelivr.net/npm//vega-embed@6?noext\",\n    };\n\n    function maybeLoadScript(lib, version) {\n      var key = `${lib.replace(\"-\", \"\")}_version`;\n      return (VEGA_DEBUG[key] == version) ?\n        Promise.resolve(paths[lib]) :\n        new Promise(function(resolve, reject) {\n          var s = document.createElement('script');\n          document.getElementsByTagName(\"head\")[0].appendChild(s);\n          s.async = true;\n          s.onload = () => {\n            VEGA_DEBUG[key] = version;\n            return resolve(paths[lib]);\n          };\n          s.onerror = () => reject(`Error loading script: ${paths[lib]}`);\n          s.src = paths[lib];\n        });\n    }\n\n    function showError(err) {\n      outputDiv.innerHTML = `<div class=\"error\" style=\"color:red;\">${err}</div>`;\n      throw err;\n    }\n\n    function displayChart(vegaEmbed) {\n      vegaEmbed(outputDiv, spec, embedOpt)\n        .catch(err => showError(`Javascript Error: ${err.message}<br>This usually means there's a typo in your chart specification. See the javascript console for the full traceback.`));\n    }\n\n    if(typeof define === \"function\" && define.amd) {\n      requirejs.config({paths});\n      require([\"vega-embed\"], displayChart, err => showError(`Error loading script: ${err.message}`));\n    } else {\n      maybeLoadScript(\"vega\", \"5\")\n        .then(() => maybeLoadScript(\"vega-lite\", \"4.17.0\"))\n        .then(() => maybeLoadScript(\"vega-embed\", \"6\"))\n        .catch(showError)\n        .then(() => displayChart(vegaEmbed));\n    }\n  })({\"config\": {\"view\": {\"continuousWidth\": 400, \"continuousHeight\": 300}}, \"data\": {\"name\": \"data-62648c40dc40a84dcc0ff734b69b013d\"}, \"mark\": \"point\", \"encoding\": {\"x\": {\"field\": \"temperature\", \"scale\": {\"type\": \"linear\"}, \"type\": \"quantitative\"}, \"y\": {\"field\": \"wind\", \"scale\": {\"type\": \"linear\"}, \"type\": \"quantitative\"}}, \"$schema\": \"https://vega.github.io/schema/vega-lite/v4.17.0.json\", \"datasets\": {\"data-62648c40dc40a84dcc0ff734b69b013d\": [{\"temperature\": 15.949648750822519, \"wind\": 44.064474882832506, \"precipitation\": 39.57102111167698, \"condition\": \"sun\"}, {\"temperature\": 35.80410298761198, \"wind\": 57.347114406626844, \"precipitation\": 51.104157124186436, \"condition\": \"snow\"}, {\"temperature\": 34.39048786822457, \"wind\": 96.36048231593197, \"precipitation\": 40.96980376900311, \"condition\": \"drizzle\"}, {\"temperature\": 7.204885708939138, \"wind\": 25.146399378672125, \"precipitation\": 85.49017897658906, \"condition\": \"drizzle\"}, {\"temperature\": 19.55284015712061, \"wind\": 57.88396140686759, \"precipitation\": 73.6976786812617, \"condition\": \"sun\"}, {\"temperature\": 40.95867840323979, \"wind\": 18.240723526069058, \"precipitation\": 12.344374169099414, \"condition\": \"drizzle\"}, {\"temperature\": 8.037410652418316, \"wind\": 34.85524928680391, \"precipitation\": 47.39721336761291, \"condition\": \"drizzle\"}, {\"temperature\": -0.9238346314127046, \"wind\": 38.27888770381765, \"precipitation\": 49.084327395470694, \"condition\": \"snow\"}, {\"temperature\": 5.432162476529914, \"wind\": 26.375774021896824, \"precipitation\": 11.84973364714308, \"condition\": \"fog\"}, {\"temperature\": -0.5233284049906253, \"wind\": 20.341299498563536, \"precipitation\": 17.599397407184547, \"condition\": \"rain\"}, {\"temperature\": -0.32120652264539906, \"wind\": 56.70670804712174, \"precipitation\": 27.900390497052797, \"condition\": \"snow\"}, {\"temperature\": -5.8172209322540835, \"wind\": 7.922327363206739, \"precipitation\": 58.97450879694346, \"condition\": \"sun\"}, {\"temperature\": 29.348029927183475, \"wind\": 42.36486641293023, \"precipitation\": 52.297851298205714, \"condition\": \"snow\"}, {\"temperature\": -3.170224211296139, \"wind\": 25.422063817654927, \"precipitation\": 75.95709912967573, \"condition\": \"sun\"}, {\"temperature\": 29.762058145832015, \"wind\": 60.50785926641081, \"precipitation\": 27.63426836016134, \"condition\": \"sun\"}, {\"temperature\": -2.4226248703646167, \"wind\": 71.82451957436714, \"precipitation\": 27.866577679535155, \"condition\": \"rain\"}, {\"temperature\": 27.72342502276807, \"wind\": 25.495165547172526, \"precipitation\": 56.952472897674525, \"condition\": \"rain\"}, {\"temperature\": 42.86155275131322, \"wind\": 64.07798840013274, \"precipitation\": 43.20732916361416, \"condition\": \"drizzle\"}, {\"temperature\": 17.672356545916294, \"wind\": 69.76681823406481, \"precipitation\": 4.878513449934685, \"condition\": \"snow\"}, {\"temperature\": 14.10656929258668, \"wind\": 57.176270850584096, \"precipitation\": 22.99874996214144, \"condition\": \"sun\"}, {\"temperature\": 13.738975343826219, \"wind\": 47.92233289336022, \"precipitation\": 14.35681797090771, \"condition\": \"drizzle\"}, {\"temperature\": 38.54857944378019, \"wind\": 71.3951998928714, \"precipitation\": 47.86763119099666, \"condition\": \"rain\"}, {\"temperature\": 35.41541728844566, \"wind\": 15.372466094026361, \"precipitation\": 10.140892669165568, \"condition\": \"drizzle\"}, {\"temperature\": 42.8109485726051, \"wind\": 19.292730074798236, \"precipitation\": 83.72184051359054, \"condition\": \"sun\"}, {\"temperature\": 5.541837860134734, \"wind\": 37.91528502390926, \"precipitation\": 1.806095907348293, \"condition\": \"rain\"}, {\"temperature\": 31.26072818540954, \"wind\": 25.613046818128893, \"precipitation\": 93.99993502991724, \"condition\": \"snow\"}, {\"temperature\": 12.652262480706526, \"wind\": 19.716955298970042, \"precipitation\": 4.277209571833773, \"condition\": \"snow\"}, {\"temperature\": 27.464734441100425, \"wind\": 18.45750848171699, \"precipitation\": 14.862245845341137, \"condition\": \"snow\"}, {\"temperature\": 39.17194283180486, \"wind\": 62.584966101983305, \"precipitation\": 61.90806088367137, \"condition\": \"drizzle\"}, {\"temperature\": 20.57556038458332, \"wind\": 6.979458445589614, \"precipitation\": 26.20161503090155, \"condition\": \"fog\"}, {\"temperature\": 43.4376707328582, \"wind\": 91.72880025636312, \"precipitation\": 49.92669754392897, \"condition\": \"rain\"}, {\"temperature\": 37.392448305959796, \"wind\": 37.3453361137289, \"precipitation\": 79.01145543700821, \"condition\": \"rain\"}, {\"temperature\": -0.9740355983502056, \"wind\": 52.36556373635527, \"precipitation\": 30.452338583138562, \"condition\": \"fog\"}, {\"temperature\": 32.483093158374864, \"wind\": 88.0719315131664, \"precipitation\": 79.80325870322564, \"condition\": \"drizzle\"}, {\"temperature\": 35.06833977125789, \"wind\": 20.182255224013822, \"precipitation\": 68.32831560054159, \"condition\": \"drizzle\"}, {\"temperature\": 30.648689765220006, \"wind\": 70.20845647358497, \"precipitation\": 14.839756419615913, \"condition\": \"fog\"}, {\"temperature\": 17.568761783892697, \"wind\": 23.56533394038428, \"precipitation\": 33.43028312709272, \"condition\": \"fog\"}, {\"temperature\": 37.668328098899124, \"wind\": 25.752457285889363, \"precipitation\": 22.16206318576326, \"condition\": \"fog\"}, {\"temperature\": 5.014064033030415, \"wind\": 35.85304116185546, \"precipitation\": 50.430635606761776, \"condition\": \"drizzle\"}, {\"temperature\": 0.07199515030012726, \"wind\": 2.3037918503235444, \"precipitation\": 43.68655656674591, \"condition\": \"snow\"}, {\"temperature\": 5.954592424892175, \"wind\": 97.51084981729826, \"precipitation\": 18.937945167300562, \"condition\": \"fog\"}, {\"temperature\": 30.328519543203832, \"wind\": 11.124122490003696, \"precipitation\": 16.09587268986017, \"condition\": \"rain\"}, {\"temperature\": 14.46236976140856, \"wind\": 51.39244007969178, \"precipitation\": 51.52316459464377, \"condition\": \"fog\"}, {\"temperature\": 9.396286885496181, \"wind\": 14.413632366424933, \"precipitation\": 58.34025135533383, \"condition\": \"drizzle\"}, {\"temperature\": -7.883075294840844, \"wind\": 98.24018815877206, \"precipitation\": 51.405831276908884, \"condition\": \"snow\"}, {\"temperature\": 36.853296493232534, \"wind\": 17.44230067062308, \"precipitation\": 55.91312117168676, \"condition\": \"drizzle\"}, {\"temperature\": -9.582596783874624, \"wind\": 23.835535427130438, \"precipitation\": 61.605688998244446, \"condition\": \"fog\"}, {\"temperature\": -9.419128745924892, \"wind\": 53.25395558360789, \"precipitation\": 78.4515605013817, \"condition\": \"sun\"}, {\"temperature\": 4.571583314676532, \"wind\": 9.068613866100073, \"precipitation\": 42.448264608376526, \"condition\": \"rain\"}, {\"temperature\": 6.6203336157740615, \"wind\": 35.87691221835703, \"precipitation\": 64.98980696659649, \"condition\": \"rain\"}, {\"temperature\": 20.627672555392106, \"wind\": 28.946823430475742, \"precipitation\": 14.301584887467733, \"condition\": \"rain\"}, {\"temperature\": -9.583736731217567, \"wind\": 83.64814422156614, \"precipitation\": 35.873227198260004, \"condition\": \"snow\"}, {\"temperature\": 11.018260277272166, \"wind\": 82.98059861355699, \"precipitation\": 67.52390799343073, \"condition\": \"drizzle\"}, {\"temperature\": 5.411451095385809, \"wind\": 21.05653192591779, \"precipitation\": 98.10920750481597, \"condition\": \"fog\"}, {\"temperature\": 2.807402352777551, \"wind\": 40.81431754466085, \"precipitation\": 17.10555449196962, \"condition\": \"drizzle\"}, {\"temperature\": 33.60928142306782, \"wind\": 68.86862385408263, \"precipitation\": 1.7511520670655312, \"condition\": \"drizzle\"}, {\"temperature\": -3.7305842295491463, \"wind\": 22.99270590580842, \"precipitation\": 20.45024425044729, \"condition\": \"sun\"}, {\"temperature\": 38.88636288200788, \"wind\": 4.451268770649408, \"precipitation\": 50.18581381273084, \"condition\": \"snow\"}, {\"temperature\": 30.677916880360065, \"wind\": 57.58927095398997, \"precipitation\": 3.882294040985468, \"condition\": \"sun\"}, {\"temperature\": 20.936747003011536, \"wind\": 86.15890903839221, \"precipitation\": 84.64626055952643, \"condition\": \"sun\"}, {\"temperature\": 37.960508459665974, \"wind\": 83.22348385800635, \"precipitation\": 78.09579123477448, \"condition\": \"sun\"}, {\"temperature\": 2.789340992140385, \"wind\": 5.604841844996544, \"precipitation\": 64.23176719571818, \"condition\": \"rain\"}, {\"temperature\": -7.362921707472104, \"wind\": 57.37740217449133, \"precipitation\": 18.499742279296438, \"condition\": \"sun\"}, {\"temperature\": 1.1912189059593281, \"wind\": 46.52929788933954, \"precipitation\": 56.223732701756326, \"condition\": \"rain\"}, {\"temperature\": 5.601287545202137, \"wind\": 10.557820768094484, \"precipitation\": 10.005361911795385, \"condition\": \"sun\"}, {\"temperature\": 38.06145401149945, \"wind\": 40.55588658579815, \"precipitation\": 18.57864165136399, \"condition\": \"rain\"}, {\"temperature\": 10.003338415782952, \"wind\": 0.38143550979561347, \"precipitation\": 3.4323593600883995, \"condition\": \"snow\"}, {\"temperature\": 35.51840784136351, \"wind\": 85.38213169679159, \"precipitation\": 72.28024508142481, \"condition\": \"rain\"}, {\"temperature\": 42.22464006089062, \"wind\": 21.90245982426261, \"precipitation\": 64.4540475166047, \"condition\": \"snow\"}, {\"temperature\": 42.62614276410388, \"wind\": 16.596731146807365, \"precipitation\": 85.31723680641925, \"condition\": \"sun\"}, {\"temperature\": 4.666633193701054, \"wind\": 13.9068281587152, \"precipitation\": 87.48180339020342, \"condition\": \"drizzle\"}, {\"temperature\": 16.15426117162615, \"wind\": 38.00342325742586, \"precipitation\": 47.264072847267016, \"condition\": \"rain\"}, {\"temperature\": 15.032591880472172, \"wind\": 86.42884715473586, \"precipitation\": 81.69554228509587, \"condition\": \"rain\"}, {\"temperature\": 35.19149371217065, \"wind\": 72.5074270480888, \"precipitation\": 22.443215096530544, \"condition\": \"sun\"}, {\"temperature\": 26.84120821812121, \"wind\": 83.91441221303555, \"precipitation\": 63.11915666511897, \"condition\": \"drizzle\"}, {\"temperature\": 34.88005063805122, \"wind\": 45.33004448381994, \"precipitation\": 0.9935886811615613, \"condition\": \"rain\"}, {\"temperature\": 41.376840349386185, \"wind\": 7.544840957817378, \"precipitation\": 54.70235300254609, \"condition\": \"snow\"}, {\"temperature\": 36.960725847409456, \"wind\": 49.46574838149229, \"precipitation\": 85.47567556668297, \"condition\": \"snow\"}, {\"temperature\": 14.586289413415074, \"wind\": 4.489700154671472, \"precipitation\": 10.31362572720238, \"condition\": \"sun\"}, {\"temperature\": 20.04343950622185, \"wind\": 66.32817964057357, \"precipitation\": 74.44590348494177, \"condition\": \"sun\"}, {\"temperature\": 25.469560172224703, \"wind\": 82.06241734640489, \"precipitation\": 61.201009993418275, \"condition\": \"rain\"}, {\"temperature\": 20.070995853722245, \"wind\": 46.445227996549974, \"precipitation\": 53.59556892779981, \"condition\": \"snow\"}, {\"temperature\": 5.685018294722338, \"wind\": 58.17077525039538, \"precipitation\": 31.236078403128474, \"condition\": \"snow\"}, {\"temperature\": 42.487483009401764, \"wind\": 71.08000859923487, \"precipitation\": 61.47201457950021, \"condition\": \"rain\"}, {\"temperature\": -7.079256299328551, \"wind\": 27.004309009604967, \"precipitation\": 19.794263832693815, \"condition\": \"rain\"}, {\"temperature\": -5.045047126960084, \"wind\": 88.93771732732128, \"precipitation\": 99.50453536234512, \"condition\": \"fog\"}, {\"temperature\": 25.4533582484732, \"wind\": 96.38774772376792, \"precipitation\": 69.85460214191481, \"condition\": \"rain\"}, {\"temperature\": 22.955919291252926, \"wind\": 88.48558780603962, \"precipitation\": 40.268588772168876, \"condition\": \"snow\"}, {\"temperature\": 27.507453592914565, \"wind\": 29.838439613656075, \"precipitation\": 27.845875256677367, \"condition\": \"fog\"}, {\"temperature\": -6.870451234225997, \"wind\": 54.90225410574824, \"precipitation\": 29.74026895430255, \"condition\": \"snow\"}, {\"temperature\": 41.66879121402853, \"wind\": 21.388390668516323, \"precipitation\": 23.449697200445573, \"condition\": \"sun\"}, {\"temperature\": 15.838369384298645, \"wind\": 14.553164438107524, \"precipitation\": 78.9078385630916, \"condition\": \"sun\"}, {\"temperature\": 13.794652090601591, \"wind\": 31.915985033787553, \"precipitation\": 65.39000850075058, \"condition\": \"fog\"}, {\"temperature\": -0.24791853446323842, \"wind\": 16.053122209894966, \"precipitation\": 26.219628309452382, \"condition\": \"sun\"}, {\"temperature\": 20.625989859426074, \"wind\": 15.348759697534453, \"precipitation\": 94.2004787208339, \"condition\": \"rain\"}, {\"temperature\": 17.22130558630064, \"wind\": 61.15140884010469, \"precipitation\": 27.79385279217691, \"condition\": \"snow\"}, {\"temperature\": 15.342628921870396, \"wind\": 52.15522860596962, \"precipitation\": 44.258578235337545, \"condition\": \"drizzle\"}, {\"temperature\": 43.28838980732394, \"wind\": 30.617573960681387, \"precipitation\": 90.705784312922, \"condition\": \"drizzle\"}, {\"temperature\": 31.752614189233682, \"wind\": 54.002536771242745, \"precipitation\": 98.5871144935895, \"condition\": \"drizzle\"}, {\"temperature\": 3.5475184692079793, \"wind\": 96.91039458765935, \"precipitation\": 50.00054618320339, \"condition\": \"fog\"}]}}, {\"mode\": \"vega-lite\"});\n</script>",
      "text/plain": "alt.Chart(...)"
     },
     "metadata": {},
     "output_type": "display_data"
    }
   ],
   "source": [
    "base = alt.Chart(df)\n",
    "point = base.mark_point().encode(\n",
    "    x=alt.X(field=\"temperature\", type=\"quantitative\", scale=alt.Scale(type=\"linear\")),\n",
    "    y=alt.Y(field=\"wind\", type=\"quantitative\", scale=alt.Scale(type=\"linear\")),\n",
    ")\n",
    "display_chart(point)"
   ]
  },
  {
   "cell_type": "markdown",
   "metadata": {},
   "source": [
    "### Scatterplot with Color"
   ]
  },
  {
   "cell_type": "code",
   "execution_count": 183,
   "metadata": {},
   "outputs": [
    {
     "name": "stdout",
     "output_type": "stream",
     "text": [
      "{'field': [{'name': 'temperature', 'type': 'number'},\n",
      "           {'name': 'wind', 'type': 'number'},\n",
      "           {'name': 'condition', 'type': 'string'}],\n",
      " 'number_rows': 100,\n",
      " 'view': [{'mark': [{'encoding': [{'channel': 'x', 'field': 'temperature'},\n",
      "                                  {'channel': 'y', 'field': 'wind'},\n",
      "                                  {'channel': 'color', 'field': 'condition'}],\n",
      "                     'type': 'point'}],\n",
      "           'scale': [{'channel': 'x', 'type': 'linear'},\n",
      "                     {'channel': 'y', 'type': 'linear'},\n",
      "                     {'channel': 'color', 'type': 'categorical'}]}]}\n"
     ]
    }
   ],
   "source": [
    "facts = [\n",
    "    \"attribute(number_rows,root,100).\",\n",
    "    \"entity(field,root,temperature).\",\n",
    "    \"attribute((field,name),temperature,temperature).\",\n",
    "    \"attribute((field,type),temperature,number).\",\n",
    "    \"entity(field,root,wind).\",\n",
    "    \"attribute((field,name),wind,wind).\",\n",
    "    \"attribute((field,type),wind,number).\",\n",
    "    \"entity(field,root,condition).\",\n",
    "    \"attribute((field,name),condition,condition).\",\n",
    "    \"attribute((field,type),condition,string).\",\n",
    "    \"entity(view,root,0).\",\n",
    "    \"entity(mark,0,1).\",\n",
    "    \"attribute((mark,type),1,point).\",\n",
    "    \"entity(encoding,1,2).\",\n",
    "    \"attribute((encoding,channel),2,x).\",\n",
    "    \"attribute((encoding,field),2,temperature).\",\n",
    "    \"entity(encoding,1,3).\",\n",
    "    \"attribute((encoding,channel),3,y).\",\n",
    "    \"attribute((encoding,field),3,wind).\",\n",
    "    \"entity(encoding,1,4).\",\n",
    "    \"attribute((encoding,channel),4,color).\",\n",
    "    \"attribute((encoding,field),4,condition).\",\n",
    "    \"entity(scale,0,5).\",\n",
    "    \"attribute((scale,channel),5,x).\",\n",
    "    \"attribute((scale,type),5,linear).\",\n",
    "    \"entity(scale,0,6).\",\n",
    "    \"attribute((scale,channel),6,y).\",\n",
    "    \"attribute((scale,type),6,linear).\",\n",
    "    \"entity(scale,0,7).\",\n",
    "    \"attribute((scale,channel),7,color).\",\n",
    "    \"attribute((scale,type),7,categorical).\",\n",
    "]\n",
    "spec = facts_to_dict(facts)\n",
    "pprint(spec)"
   ]
  },
  {
   "cell_type": "code",
   "execution_count": 184,
   "metadata": {},
   "outputs": [
    {
     "name": "stdout",
     "output_type": "stream",
     "text": [
      "{'$schema': 'https://vega.github.io/schema/vega-lite/v4.17.0.json',\n",
      " 'config': {'view': {'continuousHeight': 300, 'continuousWidth': 400}},\n",
      " 'encoding': {'color': {'field': 'condition',\n",
      "                        'scale': {'type': 'ordinal'},\n",
      "                        'type': 'nominal'},\n",
      "              'x': {'field': 'temperature',\n",
      "                    'scale': {'type': 'linear'},\n",
      "                    'type': 'quantitative'},\n",
      "              'y': {'field': 'wind',\n",
      "                    'scale': {'type': 'linear'},\n",
      "                    'type': 'quantitative'}},\n",
      " 'mark': 'point'}\n"
     ]
    },
    {
     "data": {
      "text/html": "\n<div id=\"altair-viz-337c27c073594990819134a7f45ebb38\"></div>\n<script type=\"text/javascript\">\n  var VEGA_DEBUG = (typeof VEGA_DEBUG == \"undefined\") ? {} : VEGA_DEBUG;\n  (function(spec, embedOpt){\n    let outputDiv = document.currentScript.previousElementSibling;\n    if (outputDiv.id !== \"altair-viz-337c27c073594990819134a7f45ebb38\") {\n      outputDiv = document.getElementById(\"altair-viz-337c27c073594990819134a7f45ebb38\");\n    }\n    const paths = {\n      \"vega\": \"https://cdn.jsdelivr.net/npm//vega@5?noext\",\n      \"vega-lib\": \"https://cdn.jsdelivr.net/npm//vega-lib?noext\",\n      \"vega-lite\": \"https://cdn.jsdelivr.net/npm//vega-lite@4.17.0?noext\",\n      \"vega-embed\": \"https://cdn.jsdelivr.net/npm//vega-embed@6?noext\",\n    };\n\n    function maybeLoadScript(lib, version) {\n      var key = `${lib.replace(\"-\", \"\")}_version`;\n      return (VEGA_DEBUG[key] == version) ?\n        Promise.resolve(paths[lib]) :\n        new Promise(function(resolve, reject) {\n          var s = document.createElement('script');\n          document.getElementsByTagName(\"head\")[0].appendChild(s);\n          s.async = true;\n          s.onload = () => {\n            VEGA_DEBUG[key] = version;\n            return resolve(paths[lib]);\n          };\n          s.onerror = () => reject(`Error loading script: ${paths[lib]}`);\n          s.src = paths[lib];\n        });\n    }\n\n    function showError(err) {\n      outputDiv.innerHTML = `<div class=\"error\" style=\"color:red;\">${err}</div>`;\n      throw err;\n    }\n\n    function displayChart(vegaEmbed) {\n      vegaEmbed(outputDiv, spec, embedOpt)\n        .catch(err => showError(`Javascript Error: ${err.message}<br>This usually means there's a typo in your chart specification. See the javascript console for the full traceback.`));\n    }\n\n    if(typeof define === \"function\" && define.amd) {\n      requirejs.config({paths});\n      require([\"vega-embed\"], displayChart, err => showError(`Error loading script: ${err.message}`));\n    } else {\n      maybeLoadScript(\"vega\", \"5\")\n        .then(() => maybeLoadScript(\"vega-lite\", \"4.17.0\"))\n        .then(() => maybeLoadScript(\"vega-embed\", \"6\"))\n        .catch(showError)\n        .then(() => displayChart(vegaEmbed));\n    }\n  })({\"config\": {\"view\": {\"continuousWidth\": 400, \"continuousHeight\": 300}}, \"data\": {\"name\": \"data-62648c40dc40a84dcc0ff734b69b013d\"}, \"mark\": \"point\", \"encoding\": {\"color\": {\"field\": \"condition\", \"scale\": {\"type\": \"ordinal\"}, \"type\": \"nominal\"}, \"x\": {\"field\": \"temperature\", \"scale\": {\"type\": \"linear\"}, \"type\": \"quantitative\"}, \"y\": {\"field\": \"wind\", \"scale\": {\"type\": \"linear\"}, \"type\": \"quantitative\"}}, \"$schema\": \"https://vega.github.io/schema/vega-lite/v4.17.0.json\", \"datasets\": {\"data-62648c40dc40a84dcc0ff734b69b013d\": [{\"temperature\": 15.949648750822519, \"wind\": 44.064474882832506, \"precipitation\": 39.57102111167698, \"condition\": \"sun\"}, {\"temperature\": 35.80410298761198, \"wind\": 57.347114406626844, \"precipitation\": 51.104157124186436, \"condition\": \"snow\"}, {\"temperature\": 34.39048786822457, \"wind\": 96.36048231593197, \"precipitation\": 40.96980376900311, \"condition\": \"drizzle\"}, {\"temperature\": 7.204885708939138, \"wind\": 25.146399378672125, \"precipitation\": 85.49017897658906, \"condition\": \"drizzle\"}, {\"temperature\": 19.55284015712061, \"wind\": 57.88396140686759, \"precipitation\": 73.6976786812617, \"condition\": \"sun\"}, {\"temperature\": 40.95867840323979, \"wind\": 18.240723526069058, \"precipitation\": 12.344374169099414, \"condition\": \"drizzle\"}, {\"temperature\": 8.037410652418316, \"wind\": 34.85524928680391, \"precipitation\": 47.39721336761291, \"condition\": \"drizzle\"}, {\"temperature\": -0.9238346314127046, \"wind\": 38.27888770381765, \"precipitation\": 49.084327395470694, \"condition\": \"snow\"}, {\"temperature\": 5.432162476529914, \"wind\": 26.375774021896824, \"precipitation\": 11.84973364714308, \"condition\": \"fog\"}, {\"temperature\": -0.5233284049906253, \"wind\": 20.341299498563536, \"precipitation\": 17.599397407184547, \"condition\": \"rain\"}, {\"temperature\": -0.32120652264539906, \"wind\": 56.70670804712174, \"precipitation\": 27.900390497052797, \"condition\": \"snow\"}, {\"temperature\": -5.8172209322540835, \"wind\": 7.922327363206739, \"precipitation\": 58.97450879694346, \"condition\": \"sun\"}, {\"temperature\": 29.348029927183475, \"wind\": 42.36486641293023, \"precipitation\": 52.297851298205714, \"condition\": \"snow\"}, {\"temperature\": -3.170224211296139, \"wind\": 25.422063817654927, \"precipitation\": 75.95709912967573, \"condition\": \"sun\"}, {\"temperature\": 29.762058145832015, \"wind\": 60.50785926641081, \"precipitation\": 27.63426836016134, \"condition\": \"sun\"}, {\"temperature\": -2.4226248703646167, \"wind\": 71.82451957436714, \"precipitation\": 27.866577679535155, \"condition\": \"rain\"}, {\"temperature\": 27.72342502276807, \"wind\": 25.495165547172526, \"precipitation\": 56.952472897674525, \"condition\": \"rain\"}, {\"temperature\": 42.86155275131322, \"wind\": 64.07798840013274, \"precipitation\": 43.20732916361416, \"condition\": \"drizzle\"}, {\"temperature\": 17.672356545916294, \"wind\": 69.76681823406481, \"precipitation\": 4.878513449934685, \"condition\": \"snow\"}, {\"temperature\": 14.10656929258668, \"wind\": 57.176270850584096, \"precipitation\": 22.99874996214144, \"condition\": \"sun\"}, {\"temperature\": 13.738975343826219, \"wind\": 47.92233289336022, \"precipitation\": 14.35681797090771, \"condition\": \"drizzle\"}, {\"temperature\": 38.54857944378019, \"wind\": 71.3951998928714, \"precipitation\": 47.86763119099666, \"condition\": \"rain\"}, {\"temperature\": 35.41541728844566, \"wind\": 15.372466094026361, \"precipitation\": 10.140892669165568, \"condition\": \"drizzle\"}, {\"temperature\": 42.8109485726051, \"wind\": 19.292730074798236, \"precipitation\": 83.72184051359054, \"condition\": \"sun\"}, {\"temperature\": 5.541837860134734, \"wind\": 37.91528502390926, \"precipitation\": 1.806095907348293, \"condition\": \"rain\"}, {\"temperature\": 31.26072818540954, \"wind\": 25.613046818128893, \"precipitation\": 93.99993502991724, \"condition\": \"snow\"}, {\"temperature\": 12.652262480706526, \"wind\": 19.716955298970042, \"precipitation\": 4.277209571833773, \"condition\": \"snow\"}, {\"temperature\": 27.464734441100425, \"wind\": 18.45750848171699, \"precipitation\": 14.862245845341137, \"condition\": \"snow\"}, {\"temperature\": 39.17194283180486, \"wind\": 62.584966101983305, \"precipitation\": 61.90806088367137, \"condition\": \"drizzle\"}, {\"temperature\": 20.57556038458332, \"wind\": 6.979458445589614, \"precipitation\": 26.20161503090155, \"condition\": \"fog\"}, {\"temperature\": 43.4376707328582, \"wind\": 91.72880025636312, \"precipitation\": 49.92669754392897, \"condition\": \"rain\"}, {\"temperature\": 37.392448305959796, \"wind\": 37.3453361137289, \"precipitation\": 79.01145543700821, \"condition\": \"rain\"}, {\"temperature\": -0.9740355983502056, \"wind\": 52.36556373635527, \"precipitation\": 30.452338583138562, \"condition\": \"fog\"}, {\"temperature\": 32.483093158374864, \"wind\": 88.0719315131664, \"precipitation\": 79.80325870322564, \"condition\": \"drizzle\"}, {\"temperature\": 35.06833977125789, \"wind\": 20.182255224013822, \"precipitation\": 68.32831560054159, \"condition\": \"drizzle\"}, {\"temperature\": 30.648689765220006, \"wind\": 70.20845647358497, \"precipitation\": 14.839756419615913, \"condition\": \"fog\"}, {\"temperature\": 17.568761783892697, \"wind\": 23.56533394038428, \"precipitation\": 33.43028312709272, \"condition\": \"fog\"}, {\"temperature\": 37.668328098899124, \"wind\": 25.752457285889363, \"precipitation\": 22.16206318576326, \"condition\": \"fog\"}, {\"temperature\": 5.014064033030415, \"wind\": 35.85304116185546, \"precipitation\": 50.430635606761776, \"condition\": \"drizzle\"}, {\"temperature\": 0.07199515030012726, \"wind\": 2.3037918503235444, \"precipitation\": 43.68655656674591, \"condition\": \"snow\"}, {\"temperature\": 5.954592424892175, \"wind\": 97.51084981729826, \"precipitation\": 18.937945167300562, \"condition\": \"fog\"}, {\"temperature\": 30.328519543203832, \"wind\": 11.124122490003696, \"precipitation\": 16.09587268986017, \"condition\": \"rain\"}, {\"temperature\": 14.46236976140856, \"wind\": 51.39244007969178, \"precipitation\": 51.52316459464377, \"condition\": \"fog\"}, {\"temperature\": 9.396286885496181, \"wind\": 14.413632366424933, \"precipitation\": 58.34025135533383, \"condition\": \"drizzle\"}, {\"temperature\": -7.883075294840844, \"wind\": 98.24018815877206, \"precipitation\": 51.405831276908884, \"condition\": \"snow\"}, {\"temperature\": 36.853296493232534, \"wind\": 17.44230067062308, \"precipitation\": 55.91312117168676, \"condition\": \"drizzle\"}, {\"temperature\": -9.582596783874624, \"wind\": 23.835535427130438, \"precipitation\": 61.605688998244446, \"condition\": \"fog\"}, {\"temperature\": -9.419128745924892, \"wind\": 53.25395558360789, \"precipitation\": 78.4515605013817, \"condition\": \"sun\"}, {\"temperature\": 4.571583314676532, \"wind\": 9.068613866100073, \"precipitation\": 42.448264608376526, \"condition\": \"rain\"}, {\"temperature\": 6.6203336157740615, \"wind\": 35.87691221835703, \"precipitation\": 64.98980696659649, \"condition\": \"rain\"}, {\"temperature\": 20.627672555392106, \"wind\": 28.946823430475742, \"precipitation\": 14.301584887467733, \"condition\": \"rain\"}, {\"temperature\": -9.583736731217567, \"wind\": 83.64814422156614, \"precipitation\": 35.873227198260004, \"condition\": \"snow\"}, {\"temperature\": 11.018260277272166, \"wind\": 82.98059861355699, \"precipitation\": 67.52390799343073, \"condition\": \"drizzle\"}, {\"temperature\": 5.411451095385809, \"wind\": 21.05653192591779, \"precipitation\": 98.10920750481597, \"condition\": \"fog\"}, {\"temperature\": 2.807402352777551, \"wind\": 40.81431754466085, \"precipitation\": 17.10555449196962, \"condition\": \"drizzle\"}, {\"temperature\": 33.60928142306782, \"wind\": 68.86862385408263, \"precipitation\": 1.7511520670655312, \"condition\": \"drizzle\"}, {\"temperature\": -3.7305842295491463, \"wind\": 22.99270590580842, \"precipitation\": 20.45024425044729, \"condition\": \"sun\"}, {\"temperature\": 38.88636288200788, \"wind\": 4.451268770649408, \"precipitation\": 50.18581381273084, \"condition\": \"snow\"}, {\"temperature\": 30.677916880360065, \"wind\": 57.58927095398997, \"precipitation\": 3.882294040985468, \"condition\": \"sun\"}, {\"temperature\": 20.936747003011536, \"wind\": 86.15890903839221, \"precipitation\": 84.64626055952643, \"condition\": \"sun\"}, {\"temperature\": 37.960508459665974, \"wind\": 83.22348385800635, \"precipitation\": 78.09579123477448, \"condition\": \"sun\"}, {\"temperature\": 2.789340992140385, \"wind\": 5.604841844996544, \"precipitation\": 64.23176719571818, \"condition\": \"rain\"}, {\"temperature\": -7.362921707472104, \"wind\": 57.37740217449133, \"precipitation\": 18.499742279296438, \"condition\": \"sun\"}, {\"temperature\": 1.1912189059593281, \"wind\": 46.52929788933954, \"precipitation\": 56.223732701756326, \"condition\": \"rain\"}, {\"temperature\": 5.601287545202137, \"wind\": 10.557820768094484, \"precipitation\": 10.005361911795385, \"condition\": \"sun\"}, {\"temperature\": 38.06145401149945, \"wind\": 40.55588658579815, \"precipitation\": 18.57864165136399, \"condition\": \"rain\"}, {\"temperature\": 10.003338415782952, \"wind\": 0.38143550979561347, \"precipitation\": 3.4323593600883995, \"condition\": \"snow\"}, {\"temperature\": 35.51840784136351, \"wind\": 85.38213169679159, \"precipitation\": 72.28024508142481, \"condition\": \"rain\"}, {\"temperature\": 42.22464006089062, \"wind\": 21.90245982426261, \"precipitation\": 64.4540475166047, \"condition\": \"snow\"}, {\"temperature\": 42.62614276410388, \"wind\": 16.596731146807365, \"precipitation\": 85.31723680641925, \"condition\": \"sun\"}, {\"temperature\": 4.666633193701054, \"wind\": 13.9068281587152, \"precipitation\": 87.48180339020342, \"condition\": \"drizzle\"}, {\"temperature\": 16.15426117162615, \"wind\": 38.00342325742586, \"precipitation\": 47.264072847267016, \"condition\": \"rain\"}, {\"temperature\": 15.032591880472172, \"wind\": 86.42884715473586, \"precipitation\": 81.69554228509587, \"condition\": \"rain\"}, {\"temperature\": 35.19149371217065, \"wind\": 72.5074270480888, \"precipitation\": 22.443215096530544, \"condition\": \"sun\"}, {\"temperature\": 26.84120821812121, \"wind\": 83.91441221303555, \"precipitation\": 63.11915666511897, \"condition\": \"drizzle\"}, {\"temperature\": 34.88005063805122, \"wind\": 45.33004448381994, \"precipitation\": 0.9935886811615613, \"condition\": \"rain\"}, {\"temperature\": 41.376840349386185, \"wind\": 7.544840957817378, \"precipitation\": 54.70235300254609, \"condition\": \"snow\"}, {\"temperature\": 36.960725847409456, \"wind\": 49.46574838149229, \"precipitation\": 85.47567556668297, \"condition\": \"snow\"}, {\"temperature\": 14.586289413415074, \"wind\": 4.489700154671472, \"precipitation\": 10.31362572720238, \"condition\": \"sun\"}, {\"temperature\": 20.04343950622185, \"wind\": 66.32817964057357, \"precipitation\": 74.44590348494177, \"condition\": \"sun\"}, {\"temperature\": 25.469560172224703, \"wind\": 82.06241734640489, \"precipitation\": 61.201009993418275, \"condition\": \"rain\"}, {\"temperature\": 20.070995853722245, \"wind\": 46.445227996549974, \"precipitation\": 53.59556892779981, \"condition\": \"snow\"}, {\"temperature\": 5.685018294722338, \"wind\": 58.17077525039538, \"precipitation\": 31.236078403128474, \"condition\": \"snow\"}, {\"temperature\": 42.487483009401764, \"wind\": 71.08000859923487, \"precipitation\": 61.47201457950021, \"condition\": \"rain\"}, {\"temperature\": -7.079256299328551, \"wind\": 27.004309009604967, \"precipitation\": 19.794263832693815, \"condition\": \"rain\"}, {\"temperature\": -5.045047126960084, \"wind\": 88.93771732732128, \"precipitation\": 99.50453536234512, \"condition\": \"fog\"}, {\"temperature\": 25.4533582484732, \"wind\": 96.38774772376792, \"precipitation\": 69.85460214191481, \"condition\": \"rain\"}, {\"temperature\": 22.955919291252926, \"wind\": 88.48558780603962, \"precipitation\": 40.268588772168876, \"condition\": \"snow\"}, {\"temperature\": 27.507453592914565, \"wind\": 29.838439613656075, \"precipitation\": 27.845875256677367, \"condition\": \"fog\"}, {\"temperature\": -6.870451234225997, \"wind\": 54.90225410574824, \"precipitation\": 29.74026895430255, \"condition\": \"snow\"}, {\"temperature\": 41.66879121402853, \"wind\": 21.388390668516323, \"precipitation\": 23.449697200445573, \"condition\": \"sun\"}, {\"temperature\": 15.838369384298645, \"wind\": 14.553164438107524, \"precipitation\": 78.9078385630916, \"condition\": \"sun\"}, {\"temperature\": 13.794652090601591, \"wind\": 31.915985033787553, \"precipitation\": 65.39000850075058, \"condition\": \"fog\"}, {\"temperature\": -0.24791853446323842, \"wind\": 16.053122209894966, \"precipitation\": 26.219628309452382, \"condition\": \"sun\"}, {\"temperature\": 20.625989859426074, \"wind\": 15.348759697534453, \"precipitation\": 94.2004787208339, \"condition\": \"rain\"}, {\"temperature\": 17.22130558630064, \"wind\": 61.15140884010469, \"precipitation\": 27.79385279217691, \"condition\": \"snow\"}, {\"temperature\": 15.342628921870396, \"wind\": 52.15522860596962, \"precipitation\": 44.258578235337545, \"condition\": \"drizzle\"}, {\"temperature\": 43.28838980732394, \"wind\": 30.617573960681387, \"precipitation\": 90.705784312922, \"condition\": \"drizzle\"}, {\"temperature\": 31.752614189233682, \"wind\": 54.002536771242745, \"precipitation\": 98.5871144935895, \"condition\": \"drizzle\"}, {\"temperature\": 3.5475184692079793, \"wind\": 96.91039458765935, \"precipitation\": 50.00054618320339, \"condition\": \"fog\"}]}}, {\"mode\": \"vega-lite\"});\n</script>",
      "text/plain": "alt.Chart(...)"
     },
     "metadata": {},
     "output_type": "display_data"
    }
   ],
   "source": [
    "base = alt.Chart(df)\n",
    "point = base.mark_point().encode(\n",
    "    x=alt.X(field=\"temperature\", type=\"quantitative\", scale=alt.Scale(type=\"linear\")),\n",
    "    y=alt.Y(field=\"wind\", type=\"quantitative\", scale=alt.Scale(type=\"linear\")),\n",
    "    color=alt.Color(field=\"condition\", type=\"nominal\", scale=alt.Scale(type=\"ordinal\")),\n",
    ")\n",
    "display_chart(point)"
   ]
  },
  {
   "cell_type": "code",
   "execution_count": 185,
   "metadata": {},
   "outputs": [
    {
     "name": "stdout",
     "output_type": "stream",
     "text": [
      "{'field': [{'name': 'temperature', 'type': 'number'},\n",
      "           {'name': 'wind', 'type': 'number'},\n",
      "           {'name': 'precipitation', 'type': 'number'}],\n",
      " 'number_rows': 100,\n",
      " 'view': [{'mark': [{'encoding': [{'channel': 'x', 'field': 'temperature'},\n",
      "                                  {'channel': 'y', 'field': 'wind'},\n",
      "                                  {'channel': 'size',\n",
      "                                   'field': 'precipitation'}],\n",
      "                     'type': 'point'}],\n",
      "           'scale': [{'channel': 'x', 'type': 'linear'},\n",
      "                     {'channel': 'y', 'type': 'linear'},\n",
      "                     {'channel': 'size', 'type': 'linear'}]}]}\n"
     ]
    }
   ],
   "source": [
    "facts = [\n",
    "    \"attribute(number_rows,root,100).\",\n",
    "    \"entity(field,root,temperature).\",\n",
    "    \"attribute((field,name),temperature,temperature).\",\n",
    "    \"attribute((field,type),temperature,number).\",\n",
    "    \"entity(field,root,wind).\",\n",
    "    \"attribute((field,name),wind,wind).\",\n",
    "    \"attribute((field,type),wind,number).\",\n",
    "    \"entity(field,root,precipitation).\",\n",
    "    \"attribute((field,name),precipitation,precipitation).\",\n",
    "    \"attribute((field,type),precipitation,number).\",\n",
    "    \"entity(view,root,0).\",\n",
    "    \"entity(mark,0,1).\",\n",
    "    \"attribute((mark,type),1,point).\",\n",
    "    \"entity(encoding,1,2).\",\n",
    "    \"attribute((encoding,channel),2,x).\",\n",
    "    \"attribute((encoding,field),2,temperature).\",\n",
    "    \"entity(encoding,1,3).\",\n",
    "    \"attribute((encoding,channel),3,y).\",\n",
    "    \"attribute((encoding,field),3,wind).\",\n",
    "    \"entity(encoding,1,4).\",\n",
    "    \"attribute((encoding,channel),4,size).\",\n",
    "    \"attribute((encoding,field),4,precipitation).\",\n",
    "    \"entity(scale,0,5).\",\n",
    "    \"attribute((scale,channel),5,x).\",\n",
    "    \"attribute((scale,type),5,linear).\",\n",
    "    \"entity(scale,0,6).\",\n",
    "    \"attribute((scale,channel),6,y).\",\n",
    "    \"attribute((scale,type),6,linear).\",\n",
    "    \"entity(scale,0,7).\",\n",
    "    \"attribute((scale,channel),7,size).\",\n",
    "    \"attribute((scale,type),7,linear).\",\n",
    "]\n",
    "spec = facts_to_dict(facts)\n",
    "pprint(spec)"
   ]
  },
  {
   "cell_type": "markdown",
   "metadata": {},
   "source": [
    "### Bubble Chart"
   ]
  },
  {
   "cell_type": "code",
   "execution_count": 186,
   "metadata": {},
   "outputs": [
    {
     "name": "stdout",
     "output_type": "stream",
     "text": [
      "{'$schema': 'https://vega.github.io/schema/vega-lite/v4.17.0.json',\n",
      " 'config': {'view': {'continuousHeight': 300, 'continuousWidth': 400}},\n",
      " 'encoding': {'size': {'field': 'precipitation',\n",
      "                       'scale': {'type': 'linear'},\n",
      "                       'type': 'quantitative'},\n",
      "              'x': {'field': 'temperature',\n",
      "                    'scale': {'type': 'linear'},\n",
      "                    'type': 'quantitative'},\n",
      "              'y': {'field': 'wind',\n",
      "                    'scale': {'type': 'linear'},\n",
      "                    'type': 'quantitative'}},\n",
      " 'mark': 'point'}\n"
     ]
    },
    {
     "data": {
      "text/html": "\n<div id=\"altair-viz-aec86a2d062547dfbfae5af982f57fe2\"></div>\n<script type=\"text/javascript\">\n  var VEGA_DEBUG = (typeof VEGA_DEBUG == \"undefined\") ? {} : VEGA_DEBUG;\n  (function(spec, embedOpt){\n    let outputDiv = document.currentScript.previousElementSibling;\n    if (outputDiv.id !== \"altair-viz-aec86a2d062547dfbfae5af982f57fe2\") {\n      outputDiv = document.getElementById(\"altair-viz-aec86a2d062547dfbfae5af982f57fe2\");\n    }\n    const paths = {\n      \"vega\": \"https://cdn.jsdelivr.net/npm//vega@5?noext\",\n      \"vega-lib\": \"https://cdn.jsdelivr.net/npm//vega-lib?noext\",\n      \"vega-lite\": \"https://cdn.jsdelivr.net/npm//vega-lite@4.17.0?noext\",\n      \"vega-embed\": \"https://cdn.jsdelivr.net/npm//vega-embed@6?noext\",\n    };\n\n    function maybeLoadScript(lib, version) {\n      var key = `${lib.replace(\"-\", \"\")}_version`;\n      return (VEGA_DEBUG[key] == version) ?\n        Promise.resolve(paths[lib]) :\n        new Promise(function(resolve, reject) {\n          var s = document.createElement('script');\n          document.getElementsByTagName(\"head\")[0].appendChild(s);\n          s.async = true;\n          s.onload = () => {\n            VEGA_DEBUG[key] = version;\n            return resolve(paths[lib]);\n          };\n          s.onerror = () => reject(`Error loading script: ${paths[lib]}`);\n          s.src = paths[lib];\n        });\n    }\n\n    function showError(err) {\n      outputDiv.innerHTML = `<div class=\"error\" style=\"color:red;\">${err}</div>`;\n      throw err;\n    }\n\n    function displayChart(vegaEmbed) {\n      vegaEmbed(outputDiv, spec, embedOpt)\n        .catch(err => showError(`Javascript Error: ${err.message}<br>This usually means there's a typo in your chart specification. See the javascript console for the full traceback.`));\n    }\n\n    if(typeof define === \"function\" && define.amd) {\n      requirejs.config({paths});\n      require([\"vega-embed\"], displayChart, err => showError(`Error loading script: ${err.message}`));\n    } else {\n      maybeLoadScript(\"vega\", \"5\")\n        .then(() => maybeLoadScript(\"vega-lite\", \"4.17.0\"))\n        .then(() => maybeLoadScript(\"vega-embed\", \"6\"))\n        .catch(showError)\n        .then(() => displayChart(vegaEmbed));\n    }\n  })({\"config\": {\"view\": {\"continuousWidth\": 400, \"continuousHeight\": 300}}, \"data\": {\"name\": \"data-62648c40dc40a84dcc0ff734b69b013d\"}, \"mark\": \"point\", \"encoding\": {\"size\": {\"field\": \"precipitation\", \"scale\": {\"type\": \"linear\"}, \"type\": \"quantitative\"}, \"x\": {\"field\": \"temperature\", \"scale\": {\"type\": \"linear\"}, \"type\": \"quantitative\"}, \"y\": {\"field\": \"wind\", \"scale\": {\"type\": \"linear\"}, \"type\": \"quantitative\"}}, \"$schema\": \"https://vega.github.io/schema/vega-lite/v4.17.0.json\", \"datasets\": {\"data-62648c40dc40a84dcc0ff734b69b013d\": [{\"temperature\": 15.949648750822519, \"wind\": 44.064474882832506, \"precipitation\": 39.57102111167698, \"condition\": \"sun\"}, {\"temperature\": 35.80410298761198, \"wind\": 57.347114406626844, \"precipitation\": 51.104157124186436, \"condition\": \"snow\"}, {\"temperature\": 34.39048786822457, \"wind\": 96.36048231593197, \"precipitation\": 40.96980376900311, \"condition\": \"drizzle\"}, {\"temperature\": 7.204885708939138, \"wind\": 25.146399378672125, \"precipitation\": 85.49017897658906, \"condition\": \"drizzle\"}, {\"temperature\": 19.55284015712061, \"wind\": 57.88396140686759, \"precipitation\": 73.6976786812617, \"condition\": \"sun\"}, {\"temperature\": 40.95867840323979, \"wind\": 18.240723526069058, \"precipitation\": 12.344374169099414, \"condition\": \"drizzle\"}, {\"temperature\": 8.037410652418316, \"wind\": 34.85524928680391, \"precipitation\": 47.39721336761291, \"condition\": \"drizzle\"}, {\"temperature\": -0.9238346314127046, \"wind\": 38.27888770381765, \"precipitation\": 49.084327395470694, \"condition\": \"snow\"}, {\"temperature\": 5.432162476529914, \"wind\": 26.375774021896824, \"precipitation\": 11.84973364714308, \"condition\": \"fog\"}, {\"temperature\": -0.5233284049906253, \"wind\": 20.341299498563536, \"precipitation\": 17.599397407184547, \"condition\": \"rain\"}, {\"temperature\": -0.32120652264539906, \"wind\": 56.70670804712174, \"precipitation\": 27.900390497052797, \"condition\": \"snow\"}, {\"temperature\": -5.8172209322540835, \"wind\": 7.922327363206739, \"precipitation\": 58.97450879694346, \"condition\": \"sun\"}, {\"temperature\": 29.348029927183475, \"wind\": 42.36486641293023, \"precipitation\": 52.297851298205714, \"condition\": \"snow\"}, {\"temperature\": -3.170224211296139, \"wind\": 25.422063817654927, \"precipitation\": 75.95709912967573, \"condition\": \"sun\"}, {\"temperature\": 29.762058145832015, \"wind\": 60.50785926641081, \"precipitation\": 27.63426836016134, \"condition\": \"sun\"}, {\"temperature\": -2.4226248703646167, \"wind\": 71.82451957436714, \"precipitation\": 27.866577679535155, \"condition\": \"rain\"}, {\"temperature\": 27.72342502276807, \"wind\": 25.495165547172526, \"precipitation\": 56.952472897674525, \"condition\": \"rain\"}, {\"temperature\": 42.86155275131322, \"wind\": 64.07798840013274, \"precipitation\": 43.20732916361416, \"condition\": \"drizzle\"}, {\"temperature\": 17.672356545916294, \"wind\": 69.76681823406481, \"precipitation\": 4.878513449934685, \"condition\": \"snow\"}, {\"temperature\": 14.10656929258668, \"wind\": 57.176270850584096, \"precipitation\": 22.99874996214144, \"condition\": \"sun\"}, {\"temperature\": 13.738975343826219, \"wind\": 47.92233289336022, \"precipitation\": 14.35681797090771, \"condition\": \"drizzle\"}, {\"temperature\": 38.54857944378019, \"wind\": 71.3951998928714, \"precipitation\": 47.86763119099666, \"condition\": \"rain\"}, {\"temperature\": 35.41541728844566, \"wind\": 15.372466094026361, \"precipitation\": 10.140892669165568, \"condition\": \"drizzle\"}, {\"temperature\": 42.8109485726051, \"wind\": 19.292730074798236, \"precipitation\": 83.72184051359054, \"condition\": \"sun\"}, {\"temperature\": 5.541837860134734, \"wind\": 37.91528502390926, \"precipitation\": 1.806095907348293, \"condition\": \"rain\"}, {\"temperature\": 31.26072818540954, \"wind\": 25.613046818128893, \"precipitation\": 93.99993502991724, \"condition\": \"snow\"}, {\"temperature\": 12.652262480706526, \"wind\": 19.716955298970042, \"precipitation\": 4.277209571833773, \"condition\": \"snow\"}, {\"temperature\": 27.464734441100425, \"wind\": 18.45750848171699, \"precipitation\": 14.862245845341137, \"condition\": \"snow\"}, {\"temperature\": 39.17194283180486, \"wind\": 62.584966101983305, \"precipitation\": 61.90806088367137, \"condition\": \"drizzle\"}, {\"temperature\": 20.57556038458332, \"wind\": 6.979458445589614, \"precipitation\": 26.20161503090155, \"condition\": \"fog\"}, {\"temperature\": 43.4376707328582, \"wind\": 91.72880025636312, \"precipitation\": 49.92669754392897, \"condition\": \"rain\"}, {\"temperature\": 37.392448305959796, \"wind\": 37.3453361137289, \"precipitation\": 79.01145543700821, \"condition\": \"rain\"}, {\"temperature\": -0.9740355983502056, \"wind\": 52.36556373635527, \"precipitation\": 30.452338583138562, \"condition\": \"fog\"}, {\"temperature\": 32.483093158374864, \"wind\": 88.0719315131664, \"precipitation\": 79.80325870322564, \"condition\": \"drizzle\"}, {\"temperature\": 35.06833977125789, \"wind\": 20.182255224013822, \"precipitation\": 68.32831560054159, \"condition\": \"drizzle\"}, {\"temperature\": 30.648689765220006, \"wind\": 70.20845647358497, \"precipitation\": 14.839756419615913, \"condition\": \"fog\"}, {\"temperature\": 17.568761783892697, \"wind\": 23.56533394038428, \"precipitation\": 33.43028312709272, \"condition\": \"fog\"}, {\"temperature\": 37.668328098899124, \"wind\": 25.752457285889363, \"precipitation\": 22.16206318576326, \"condition\": \"fog\"}, {\"temperature\": 5.014064033030415, \"wind\": 35.85304116185546, \"precipitation\": 50.430635606761776, \"condition\": \"drizzle\"}, {\"temperature\": 0.07199515030012726, \"wind\": 2.3037918503235444, \"precipitation\": 43.68655656674591, \"condition\": \"snow\"}, {\"temperature\": 5.954592424892175, \"wind\": 97.51084981729826, \"precipitation\": 18.937945167300562, \"condition\": \"fog\"}, {\"temperature\": 30.328519543203832, \"wind\": 11.124122490003696, \"precipitation\": 16.09587268986017, \"condition\": \"rain\"}, {\"temperature\": 14.46236976140856, \"wind\": 51.39244007969178, \"precipitation\": 51.52316459464377, \"condition\": \"fog\"}, {\"temperature\": 9.396286885496181, \"wind\": 14.413632366424933, \"precipitation\": 58.34025135533383, \"condition\": \"drizzle\"}, {\"temperature\": -7.883075294840844, \"wind\": 98.24018815877206, \"precipitation\": 51.405831276908884, \"condition\": \"snow\"}, {\"temperature\": 36.853296493232534, \"wind\": 17.44230067062308, \"precipitation\": 55.91312117168676, \"condition\": \"drizzle\"}, {\"temperature\": -9.582596783874624, \"wind\": 23.835535427130438, \"precipitation\": 61.605688998244446, \"condition\": \"fog\"}, {\"temperature\": -9.419128745924892, \"wind\": 53.25395558360789, \"precipitation\": 78.4515605013817, \"condition\": \"sun\"}, {\"temperature\": 4.571583314676532, \"wind\": 9.068613866100073, \"precipitation\": 42.448264608376526, \"condition\": \"rain\"}, {\"temperature\": 6.6203336157740615, \"wind\": 35.87691221835703, \"precipitation\": 64.98980696659649, \"condition\": \"rain\"}, {\"temperature\": 20.627672555392106, \"wind\": 28.946823430475742, \"precipitation\": 14.301584887467733, \"condition\": \"rain\"}, {\"temperature\": -9.583736731217567, \"wind\": 83.64814422156614, \"precipitation\": 35.873227198260004, \"condition\": \"snow\"}, {\"temperature\": 11.018260277272166, \"wind\": 82.98059861355699, \"precipitation\": 67.52390799343073, \"condition\": \"drizzle\"}, {\"temperature\": 5.411451095385809, \"wind\": 21.05653192591779, \"precipitation\": 98.10920750481597, \"condition\": \"fog\"}, {\"temperature\": 2.807402352777551, \"wind\": 40.81431754466085, \"precipitation\": 17.10555449196962, \"condition\": \"drizzle\"}, {\"temperature\": 33.60928142306782, \"wind\": 68.86862385408263, \"precipitation\": 1.7511520670655312, \"condition\": \"drizzle\"}, {\"temperature\": -3.7305842295491463, \"wind\": 22.99270590580842, \"precipitation\": 20.45024425044729, \"condition\": \"sun\"}, {\"temperature\": 38.88636288200788, \"wind\": 4.451268770649408, \"precipitation\": 50.18581381273084, \"condition\": \"snow\"}, {\"temperature\": 30.677916880360065, \"wind\": 57.58927095398997, \"precipitation\": 3.882294040985468, \"condition\": \"sun\"}, {\"temperature\": 20.936747003011536, \"wind\": 86.15890903839221, \"precipitation\": 84.64626055952643, \"condition\": \"sun\"}, {\"temperature\": 37.960508459665974, \"wind\": 83.22348385800635, \"precipitation\": 78.09579123477448, \"condition\": \"sun\"}, {\"temperature\": 2.789340992140385, \"wind\": 5.604841844996544, \"precipitation\": 64.23176719571818, \"condition\": \"rain\"}, {\"temperature\": -7.362921707472104, \"wind\": 57.37740217449133, \"precipitation\": 18.499742279296438, \"condition\": \"sun\"}, {\"temperature\": 1.1912189059593281, \"wind\": 46.52929788933954, \"precipitation\": 56.223732701756326, \"condition\": \"rain\"}, {\"temperature\": 5.601287545202137, \"wind\": 10.557820768094484, \"precipitation\": 10.005361911795385, \"condition\": \"sun\"}, {\"temperature\": 38.06145401149945, \"wind\": 40.55588658579815, \"precipitation\": 18.57864165136399, \"condition\": \"rain\"}, {\"temperature\": 10.003338415782952, \"wind\": 0.38143550979561347, \"precipitation\": 3.4323593600883995, \"condition\": \"snow\"}, {\"temperature\": 35.51840784136351, \"wind\": 85.38213169679159, \"precipitation\": 72.28024508142481, \"condition\": \"rain\"}, {\"temperature\": 42.22464006089062, \"wind\": 21.90245982426261, \"precipitation\": 64.4540475166047, \"condition\": \"snow\"}, {\"temperature\": 42.62614276410388, \"wind\": 16.596731146807365, \"precipitation\": 85.31723680641925, \"condition\": \"sun\"}, {\"temperature\": 4.666633193701054, \"wind\": 13.9068281587152, \"precipitation\": 87.48180339020342, \"condition\": \"drizzle\"}, {\"temperature\": 16.15426117162615, \"wind\": 38.00342325742586, \"precipitation\": 47.264072847267016, \"condition\": \"rain\"}, {\"temperature\": 15.032591880472172, \"wind\": 86.42884715473586, \"precipitation\": 81.69554228509587, \"condition\": \"rain\"}, {\"temperature\": 35.19149371217065, \"wind\": 72.5074270480888, \"precipitation\": 22.443215096530544, \"condition\": \"sun\"}, {\"temperature\": 26.84120821812121, \"wind\": 83.91441221303555, \"precipitation\": 63.11915666511897, \"condition\": \"drizzle\"}, {\"temperature\": 34.88005063805122, \"wind\": 45.33004448381994, \"precipitation\": 0.9935886811615613, \"condition\": \"rain\"}, {\"temperature\": 41.376840349386185, \"wind\": 7.544840957817378, \"precipitation\": 54.70235300254609, \"condition\": \"snow\"}, {\"temperature\": 36.960725847409456, \"wind\": 49.46574838149229, \"precipitation\": 85.47567556668297, \"condition\": \"snow\"}, {\"temperature\": 14.586289413415074, \"wind\": 4.489700154671472, \"precipitation\": 10.31362572720238, \"condition\": \"sun\"}, {\"temperature\": 20.04343950622185, \"wind\": 66.32817964057357, \"precipitation\": 74.44590348494177, \"condition\": \"sun\"}, {\"temperature\": 25.469560172224703, \"wind\": 82.06241734640489, \"precipitation\": 61.201009993418275, \"condition\": \"rain\"}, {\"temperature\": 20.070995853722245, \"wind\": 46.445227996549974, \"precipitation\": 53.59556892779981, \"condition\": \"snow\"}, {\"temperature\": 5.685018294722338, \"wind\": 58.17077525039538, \"precipitation\": 31.236078403128474, \"condition\": \"snow\"}, {\"temperature\": 42.487483009401764, \"wind\": 71.08000859923487, \"precipitation\": 61.47201457950021, \"condition\": \"rain\"}, {\"temperature\": -7.079256299328551, \"wind\": 27.004309009604967, \"precipitation\": 19.794263832693815, \"condition\": \"rain\"}, {\"temperature\": -5.045047126960084, \"wind\": 88.93771732732128, \"precipitation\": 99.50453536234512, \"condition\": \"fog\"}, {\"temperature\": 25.4533582484732, \"wind\": 96.38774772376792, \"precipitation\": 69.85460214191481, \"condition\": \"rain\"}, {\"temperature\": 22.955919291252926, \"wind\": 88.48558780603962, \"precipitation\": 40.268588772168876, \"condition\": \"snow\"}, {\"temperature\": 27.507453592914565, \"wind\": 29.838439613656075, \"precipitation\": 27.845875256677367, \"condition\": \"fog\"}, {\"temperature\": -6.870451234225997, \"wind\": 54.90225410574824, \"precipitation\": 29.74026895430255, \"condition\": \"snow\"}, {\"temperature\": 41.66879121402853, \"wind\": 21.388390668516323, \"precipitation\": 23.449697200445573, \"condition\": \"sun\"}, {\"temperature\": 15.838369384298645, \"wind\": 14.553164438107524, \"precipitation\": 78.9078385630916, \"condition\": \"sun\"}, {\"temperature\": 13.794652090601591, \"wind\": 31.915985033787553, \"precipitation\": 65.39000850075058, \"condition\": \"fog\"}, {\"temperature\": -0.24791853446323842, \"wind\": 16.053122209894966, \"precipitation\": 26.219628309452382, \"condition\": \"sun\"}, {\"temperature\": 20.625989859426074, \"wind\": 15.348759697534453, \"precipitation\": 94.2004787208339, \"condition\": \"rain\"}, {\"temperature\": 17.22130558630064, \"wind\": 61.15140884010469, \"precipitation\": 27.79385279217691, \"condition\": \"snow\"}, {\"temperature\": 15.342628921870396, \"wind\": 52.15522860596962, \"precipitation\": 44.258578235337545, \"condition\": \"drizzle\"}, {\"temperature\": 43.28838980732394, \"wind\": 30.617573960681387, \"precipitation\": 90.705784312922, \"condition\": \"drizzle\"}, {\"temperature\": 31.752614189233682, \"wind\": 54.002536771242745, \"precipitation\": 98.5871144935895, \"condition\": \"drizzle\"}, {\"temperature\": 3.5475184692079793, \"wind\": 96.91039458765935, \"precipitation\": 50.00054618320339, \"condition\": \"fog\"}]}}, {\"mode\": \"vega-lite\"});\n</script>",
      "text/plain": "alt.Chart(...)"
     },
     "metadata": {},
     "output_type": "display_data"
    }
   ],
   "source": [
    "base = alt.Chart(df)\n",
    "point = base.mark_point().encode(\n",
    "    x=alt.X(field=\"temperature\", type=\"quantitative\", scale=alt.Scale(type=\"linear\")),\n",
    "    y=alt.Y(field=\"wind\", type=\"quantitative\", scale=alt.Scale(type=\"linear\")),\n",
    "    size=alt.Size(\n",
    "        field=\"precipitation\", type=\"quantitative\", scale=alt.Scale(type=\"linear\")\n",
    "    ),\n",
    ")\n",
    "display_chart(point)"
   ]
  },
  {
   "cell_type": "markdown",
   "metadata": {},
   "source": [
    "## Stacked Charts"
   ]
  },
  {
   "cell_type": "markdown",
   "metadata": {},
   "source": [
    "### Pie Chart"
   ]
  },
  {
   "cell_type": "code",
   "execution_count": 187,
   "metadata": {},
   "outputs": [
    {
     "name": "stdout",
     "output_type": "stream",
     "text": [
      "{'field': [{'name': 'temperature', 'type': 'number'},\n",
      "           {'name': 'condition', 'type': 'string'}],\n",
      " 'number_rows': 100,\n",
      " 'view': [{'coordinates': 'polar',\n",
      "           'mark': [{'encoding': [{'aggregate': 'count',\n",
      "                                   'channel': 'y',\n",
      "                                   'stack': 'zero'},\n",
      "                                  {'channel': 'color', 'field': 'condition'}],\n",
      "                     'type': 'bar'}],\n",
      "           'scale': [{'channel': 'y', 'type': 'linear', 'zero': 'true'},\n",
      "                     {'channel': 'color', 'type': 'categorical'}]}]}\n"
     ]
    }
   ],
   "source": [
    "facts = [\n",
    "    \"attribute(number_rows,root,100).\",\n",
    "    \"entity(field,root,temperature).\",\n",
    "    \"attribute((field,name),temperature,temperature).\",\n",
    "    \"attribute((field,type),temperature,number).\",\n",
    "    \"entity(field,root,condition).\",\n",
    "    \"attribute((field,name),condition,condition).\",\n",
    "    \"attribute((field,type),condition,string).\",\n",
    "    \"entity(view,root,0).\",\n",
    "    \"attribute((view,coordinates),0,polar).\",\n",
    "    \"entity(mark,0,1).\",\n",
    "    \"attribute((mark,type),1,bar).\",\n",
    "    \"entity(encoding,1,2).\",\n",
    "    \"attribute((encoding,channel),2,y).\",\n",
    "    \"attribute((encoding,aggregate),2,count).\",\n",
    "    \"attribute((encoding,stack),2,zero).\",\n",
    "    \"entity(encoding,1,3).\",\n",
    "    \"attribute((encoding,channel),3,color).\",\n",
    "    \"attribute((encoding,field),3,condition).\",\n",
    "    \"entity(scale,0,4).\",\n",
    "    \"attribute((scale,channel),4,y).\",\n",
    "    \"attribute((scale,type),4,linear).\",\n",
    "    \"attribute((scale,zero),4,true).\",\n",
    "    \"entity(scale,0,5).\",\n",
    "    \"attribute((scale,channel),5,color).\",\n",
    "    \"attribute((scale,type),5,categorical).\",\n",
    "]\n",
    "spec = facts_to_dict(facts)\n",
    "pprint(spec)"
   ]
  },
  {
   "cell_type": "code",
   "execution_count": 188,
   "metadata": {},
   "outputs": [
    {
     "name": "stdout",
     "output_type": "stream",
     "text": [
      "{'$schema': 'https://vega.github.io/schema/vega-lite/v4.17.0.json',\n",
      " 'config': {'view': {'continuousHeight': 300, 'continuousWidth': 400}},\n",
      " 'encoding': {'color': {'field': 'condition',\n",
      "                        'scale': {'type': 'ordinal'},\n",
      "                        'type': 'nominal'},\n",
      "              'theta': {'aggregate': 'count',\n",
      "                        'field': 'temperature',\n",
      "                        'scale': {'type': 'linear', 'zero': True},\n",
      "                        'stack': 'zero',\n",
      "                        'type': 'quantitative'}},\n",
      " 'mark': 'arc'}\n"
     ]
    },
    {
     "data": {
      "text/html": "\n<div id=\"altair-viz-921eb2f507f545cc97f581e31a3c5293\"></div>\n<script type=\"text/javascript\">\n  var VEGA_DEBUG = (typeof VEGA_DEBUG == \"undefined\") ? {} : VEGA_DEBUG;\n  (function(spec, embedOpt){\n    let outputDiv = document.currentScript.previousElementSibling;\n    if (outputDiv.id !== \"altair-viz-921eb2f507f545cc97f581e31a3c5293\") {\n      outputDiv = document.getElementById(\"altair-viz-921eb2f507f545cc97f581e31a3c5293\");\n    }\n    const paths = {\n      \"vega\": \"https://cdn.jsdelivr.net/npm//vega@5?noext\",\n      \"vega-lib\": \"https://cdn.jsdelivr.net/npm//vega-lib?noext\",\n      \"vega-lite\": \"https://cdn.jsdelivr.net/npm//vega-lite@4.17.0?noext\",\n      \"vega-embed\": \"https://cdn.jsdelivr.net/npm//vega-embed@6?noext\",\n    };\n\n    function maybeLoadScript(lib, version) {\n      var key = `${lib.replace(\"-\", \"\")}_version`;\n      return (VEGA_DEBUG[key] == version) ?\n        Promise.resolve(paths[lib]) :\n        new Promise(function(resolve, reject) {\n          var s = document.createElement('script');\n          document.getElementsByTagName(\"head\")[0].appendChild(s);\n          s.async = true;\n          s.onload = () => {\n            VEGA_DEBUG[key] = version;\n            return resolve(paths[lib]);\n          };\n          s.onerror = () => reject(`Error loading script: ${paths[lib]}`);\n          s.src = paths[lib];\n        });\n    }\n\n    function showError(err) {\n      outputDiv.innerHTML = `<div class=\"error\" style=\"color:red;\">${err}</div>`;\n      throw err;\n    }\n\n    function displayChart(vegaEmbed) {\n      vegaEmbed(outputDiv, spec, embedOpt)\n        .catch(err => showError(`Javascript Error: ${err.message}<br>This usually means there's a typo in your chart specification. See the javascript console for the full traceback.`));\n    }\n\n    if(typeof define === \"function\" && define.amd) {\n      requirejs.config({paths});\n      require([\"vega-embed\"], displayChart, err => showError(`Error loading script: ${err.message}`));\n    } else {\n      maybeLoadScript(\"vega\", \"5\")\n        .then(() => maybeLoadScript(\"vega-lite\", \"4.17.0\"))\n        .then(() => maybeLoadScript(\"vega-embed\", \"6\"))\n        .catch(showError)\n        .then(() => displayChart(vegaEmbed));\n    }\n  })({\"config\": {\"view\": {\"continuousWidth\": 400, \"continuousHeight\": 300}}, \"data\": {\"name\": \"data-62648c40dc40a84dcc0ff734b69b013d\"}, \"mark\": \"arc\", \"encoding\": {\"color\": {\"field\": \"condition\", \"scale\": {\"type\": \"ordinal\"}, \"type\": \"nominal\"}, \"theta\": {\"aggregate\": \"count\", \"field\": \"temperature\", \"scale\": {\"type\": \"linear\", \"zero\": true}, \"stack\": \"zero\", \"type\": \"quantitative\"}}, \"$schema\": \"https://vega.github.io/schema/vega-lite/v4.17.0.json\", \"datasets\": {\"data-62648c40dc40a84dcc0ff734b69b013d\": [{\"temperature\": 15.949648750822519, \"wind\": 44.064474882832506, \"precipitation\": 39.57102111167698, \"condition\": \"sun\"}, {\"temperature\": 35.80410298761198, \"wind\": 57.347114406626844, \"precipitation\": 51.104157124186436, \"condition\": \"snow\"}, {\"temperature\": 34.39048786822457, \"wind\": 96.36048231593197, \"precipitation\": 40.96980376900311, \"condition\": \"drizzle\"}, {\"temperature\": 7.204885708939138, \"wind\": 25.146399378672125, \"precipitation\": 85.49017897658906, \"condition\": \"drizzle\"}, {\"temperature\": 19.55284015712061, \"wind\": 57.88396140686759, \"precipitation\": 73.6976786812617, \"condition\": \"sun\"}, {\"temperature\": 40.95867840323979, \"wind\": 18.240723526069058, \"precipitation\": 12.344374169099414, \"condition\": \"drizzle\"}, {\"temperature\": 8.037410652418316, \"wind\": 34.85524928680391, \"precipitation\": 47.39721336761291, \"condition\": \"drizzle\"}, {\"temperature\": -0.9238346314127046, \"wind\": 38.27888770381765, \"precipitation\": 49.084327395470694, \"condition\": \"snow\"}, {\"temperature\": 5.432162476529914, \"wind\": 26.375774021896824, \"precipitation\": 11.84973364714308, \"condition\": \"fog\"}, {\"temperature\": -0.5233284049906253, \"wind\": 20.341299498563536, \"precipitation\": 17.599397407184547, \"condition\": \"rain\"}, {\"temperature\": -0.32120652264539906, \"wind\": 56.70670804712174, \"precipitation\": 27.900390497052797, \"condition\": \"snow\"}, {\"temperature\": -5.8172209322540835, \"wind\": 7.922327363206739, \"precipitation\": 58.97450879694346, \"condition\": \"sun\"}, {\"temperature\": 29.348029927183475, \"wind\": 42.36486641293023, \"precipitation\": 52.297851298205714, \"condition\": \"snow\"}, {\"temperature\": -3.170224211296139, \"wind\": 25.422063817654927, \"precipitation\": 75.95709912967573, \"condition\": \"sun\"}, {\"temperature\": 29.762058145832015, \"wind\": 60.50785926641081, \"precipitation\": 27.63426836016134, \"condition\": \"sun\"}, {\"temperature\": -2.4226248703646167, \"wind\": 71.82451957436714, \"precipitation\": 27.866577679535155, \"condition\": \"rain\"}, {\"temperature\": 27.72342502276807, \"wind\": 25.495165547172526, \"precipitation\": 56.952472897674525, \"condition\": \"rain\"}, {\"temperature\": 42.86155275131322, \"wind\": 64.07798840013274, \"precipitation\": 43.20732916361416, \"condition\": \"drizzle\"}, {\"temperature\": 17.672356545916294, \"wind\": 69.76681823406481, \"precipitation\": 4.878513449934685, \"condition\": \"snow\"}, {\"temperature\": 14.10656929258668, \"wind\": 57.176270850584096, \"precipitation\": 22.99874996214144, \"condition\": \"sun\"}, {\"temperature\": 13.738975343826219, \"wind\": 47.92233289336022, \"precipitation\": 14.35681797090771, \"condition\": \"drizzle\"}, {\"temperature\": 38.54857944378019, \"wind\": 71.3951998928714, \"precipitation\": 47.86763119099666, \"condition\": \"rain\"}, {\"temperature\": 35.41541728844566, \"wind\": 15.372466094026361, \"precipitation\": 10.140892669165568, \"condition\": \"drizzle\"}, {\"temperature\": 42.8109485726051, \"wind\": 19.292730074798236, \"precipitation\": 83.72184051359054, \"condition\": \"sun\"}, {\"temperature\": 5.541837860134734, \"wind\": 37.91528502390926, \"precipitation\": 1.806095907348293, \"condition\": \"rain\"}, {\"temperature\": 31.26072818540954, \"wind\": 25.613046818128893, \"precipitation\": 93.99993502991724, \"condition\": \"snow\"}, {\"temperature\": 12.652262480706526, \"wind\": 19.716955298970042, \"precipitation\": 4.277209571833773, \"condition\": \"snow\"}, {\"temperature\": 27.464734441100425, \"wind\": 18.45750848171699, \"precipitation\": 14.862245845341137, \"condition\": \"snow\"}, {\"temperature\": 39.17194283180486, \"wind\": 62.584966101983305, \"precipitation\": 61.90806088367137, \"condition\": \"drizzle\"}, {\"temperature\": 20.57556038458332, \"wind\": 6.979458445589614, \"precipitation\": 26.20161503090155, \"condition\": \"fog\"}, {\"temperature\": 43.4376707328582, \"wind\": 91.72880025636312, \"precipitation\": 49.92669754392897, \"condition\": \"rain\"}, {\"temperature\": 37.392448305959796, \"wind\": 37.3453361137289, \"precipitation\": 79.01145543700821, \"condition\": \"rain\"}, {\"temperature\": -0.9740355983502056, \"wind\": 52.36556373635527, \"precipitation\": 30.452338583138562, \"condition\": \"fog\"}, {\"temperature\": 32.483093158374864, \"wind\": 88.0719315131664, \"precipitation\": 79.80325870322564, \"condition\": \"drizzle\"}, {\"temperature\": 35.06833977125789, \"wind\": 20.182255224013822, \"precipitation\": 68.32831560054159, \"condition\": \"drizzle\"}, {\"temperature\": 30.648689765220006, \"wind\": 70.20845647358497, \"precipitation\": 14.839756419615913, \"condition\": \"fog\"}, {\"temperature\": 17.568761783892697, \"wind\": 23.56533394038428, \"precipitation\": 33.43028312709272, \"condition\": \"fog\"}, {\"temperature\": 37.668328098899124, \"wind\": 25.752457285889363, \"precipitation\": 22.16206318576326, \"condition\": \"fog\"}, {\"temperature\": 5.014064033030415, \"wind\": 35.85304116185546, \"precipitation\": 50.430635606761776, \"condition\": \"drizzle\"}, {\"temperature\": 0.07199515030012726, \"wind\": 2.3037918503235444, \"precipitation\": 43.68655656674591, \"condition\": \"snow\"}, {\"temperature\": 5.954592424892175, \"wind\": 97.51084981729826, \"precipitation\": 18.937945167300562, \"condition\": \"fog\"}, {\"temperature\": 30.328519543203832, \"wind\": 11.124122490003696, \"precipitation\": 16.09587268986017, \"condition\": \"rain\"}, {\"temperature\": 14.46236976140856, \"wind\": 51.39244007969178, \"precipitation\": 51.52316459464377, \"condition\": \"fog\"}, {\"temperature\": 9.396286885496181, \"wind\": 14.413632366424933, \"precipitation\": 58.34025135533383, \"condition\": \"drizzle\"}, {\"temperature\": -7.883075294840844, \"wind\": 98.24018815877206, \"precipitation\": 51.405831276908884, \"condition\": \"snow\"}, {\"temperature\": 36.853296493232534, \"wind\": 17.44230067062308, \"precipitation\": 55.91312117168676, \"condition\": \"drizzle\"}, {\"temperature\": -9.582596783874624, \"wind\": 23.835535427130438, \"precipitation\": 61.605688998244446, \"condition\": \"fog\"}, {\"temperature\": -9.419128745924892, \"wind\": 53.25395558360789, \"precipitation\": 78.4515605013817, \"condition\": \"sun\"}, {\"temperature\": 4.571583314676532, \"wind\": 9.068613866100073, \"precipitation\": 42.448264608376526, \"condition\": \"rain\"}, {\"temperature\": 6.6203336157740615, \"wind\": 35.87691221835703, \"precipitation\": 64.98980696659649, \"condition\": \"rain\"}, {\"temperature\": 20.627672555392106, \"wind\": 28.946823430475742, \"precipitation\": 14.301584887467733, \"condition\": \"rain\"}, {\"temperature\": -9.583736731217567, \"wind\": 83.64814422156614, \"precipitation\": 35.873227198260004, \"condition\": \"snow\"}, {\"temperature\": 11.018260277272166, \"wind\": 82.98059861355699, \"precipitation\": 67.52390799343073, \"condition\": \"drizzle\"}, {\"temperature\": 5.411451095385809, \"wind\": 21.05653192591779, \"precipitation\": 98.10920750481597, \"condition\": \"fog\"}, {\"temperature\": 2.807402352777551, \"wind\": 40.81431754466085, \"precipitation\": 17.10555449196962, \"condition\": \"drizzle\"}, {\"temperature\": 33.60928142306782, \"wind\": 68.86862385408263, \"precipitation\": 1.7511520670655312, \"condition\": \"drizzle\"}, {\"temperature\": -3.7305842295491463, \"wind\": 22.99270590580842, \"precipitation\": 20.45024425044729, \"condition\": \"sun\"}, {\"temperature\": 38.88636288200788, \"wind\": 4.451268770649408, \"precipitation\": 50.18581381273084, \"condition\": \"snow\"}, {\"temperature\": 30.677916880360065, \"wind\": 57.58927095398997, \"precipitation\": 3.882294040985468, \"condition\": \"sun\"}, {\"temperature\": 20.936747003011536, \"wind\": 86.15890903839221, \"precipitation\": 84.64626055952643, \"condition\": \"sun\"}, {\"temperature\": 37.960508459665974, \"wind\": 83.22348385800635, \"precipitation\": 78.09579123477448, \"condition\": \"sun\"}, {\"temperature\": 2.789340992140385, \"wind\": 5.604841844996544, \"precipitation\": 64.23176719571818, \"condition\": \"rain\"}, {\"temperature\": -7.362921707472104, \"wind\": 57.37740217449133, \"precipitation\": 18.499742279296438, \"condition\": \"sun\"}, {\"temperature\": 1.1912189059593281, \"wind\": 46.52929788933954, \"precipitation\": 56.223732701756326, \"condition\": \"rain\"}, {\"temperature\": 5.601287545202137, \"wind\": 10.557820768094484, \"precipitation\": 10.005361911795385, \"condition\": \"sun\"}, {\"temperature\": 38.06145401149945, \"wind\": 40.55588658579815, \"precipitation\": 18.57864165136399, \"condition\": \"rain\"}, {\"temperature\": 10.003338415782952, \"wind\": 0.38143550979561347, \"precipitation\": 3.4323593600883995, \"condition\": \"snow\"}, {\"temperature\": 35.51840784136351, \"wind\": 85.38213169679159, \"precipitation\": 72.28024508142481, \"condition\": \"rain\"}, {\"temperature\": 42.22464006089062, \"wind\": 21.90245982426261, \"precipitation\": 64.4540475166047, \"condition\": \"snow\"}, {\"temperature\": 42.62614276410388, \"wind\": 16.596731146807365, \"precipitation\": 85.31723680641925, \"condition\": \"sun\"}, {\"temperature\": 4.666633193701054, \"wind\": 13.9068281587152, \"precipitation\": 87.48180339020342, \"condition\": \"drizzle\"}, {\"temperature\": 16.15426117162615, \"wind\": 38.00342325742586, \"precipitation\": 47.264072847267016, \"condition\": \"rain\"}, {\"temperature\": 15.032591880472172, \"wind\": 86.42884715473586, \"precipitation\": 81.69554228509587, \"condition\": \"rain\"}, {\"temperature\": 35.19149371217065, \"wind\": 72.5074270480888, \"precipitation\": 22.443215096530544, \"condition\": \"sun\"}, {\"temperature\": 26.84120821812121, \"wind\": 83.91441221303555, \"precipitation\": 63.11915666511897, \"condition\": \"drizzle\"}, {\"temperature\": 34.88005063805122, \"wind\": 45.33004448381994, \"precipitation\": 0.9935886811615613, \"condition\": \"rain\"}, {\"temperature\": 41.376840349386185, \"wind\": 7.544840957817378, \"precipitation\": 54.70235300254609, \"condition\": \"snow\"}, {\"temperature\": 36.960725847409456, \"wind\": 49.46574838149229, \"precipitation\": 85.47567556668297, \"condition\": \"snow\"}, {\"temperature\": 14.586289413415074, \"wind\": 4.489700154671472, \"precipitation\": 10.31362572720238, \"condition\": \"sun\"}, {\"temperature\": 20.04343950622185, \"wind\": 66.32817964057357, \"precipitation\": 74.44590348494177, \"condition\": \"sun\"}, {\"temperature\": 25.469560172224703, \"wind\": 82.06241734640489, \"precipitation\": 61.201009993418275, \"condition\": \"rain\"}, {\"temperature\": 20.070995853722245, \"wind\": 46.445227996549974, \"precipitation\": 53.59556892779981, \"condition\": \"snow\"}, {\"temperature\": 5.685018294722338, \"wind\": 58.17077525039538, \"precipitation\": 31.236078403128474, \"condition\": \"snow\"}, {\"temperature\": 42.487483009401764, \"wind\": 71.08000859923487, \"precipitation\": 61.47201457950021, \"condition\": \"rain\"}, {\"temperature\": -7.079256299328551, \"wind\": 27.004309009604967, \"precipitation\": 19.794263832693815, \"condition\": \"rain\"}, {\"temperature\": -5.045047126960084, \"wind\": 88.93771732732128, \"precipitation\": 99.50453536234512, \"condition\": \"fog\"}, {\"temperature\": 25.4533582484732, \"wind\": 96.38774772376792, \"precipitation\": 69.85460214191481, \"condition\": \"rain\"}, {\"temperature\": 22.955919291252926, \"wind\": 88.48558780603962, \"precipitation\": 40.268588772168876, \"condition\": \"snow\"}, {\"temperature\": 27.507453592914565, \"wind\": 29.838439613656075, \"precipitation\": 27.845875256677367, \"condition\": \"fog\"}, {\"temperature\": -6.870451234225997, \"wind\": 54.90225410574824, \"precipitation\": 29.74026895430255, \"condition\": \"snow\"}, {\"temperature\": 41.66879121402853, \"wind\": 21.388390668516323, \"precipitation\": 23.449697200445573, \"condition\": \"sun\"}, {\"temperature\": 15.838369384298645, \"wind\": 14.553164438107524, \"precipitation\": 78.9078385630916, \"condition\": \"sun\"}, {\"temperature\": 13.794652090601591, \"wind\": 31.915985033787553, \"precipitation\": 65.39000850075058, \"condition\": \"fog\"}, {\"temperature\": -0.24791853446323842, \"wind\": 16.053122209894966, \"precipitation\": 26.219628309452382, \"condition\": \"sun\"}, {\"temperature\": 20.625989859426074, \"wind\": 15.348759697534453, \"precipitation\": 94.2004787208339, \"condition\": \"rain\"}, {\"temperature\": 17.22130558630064, \"wind\": 61.15140884010469, \"precipitation\": 27.79385279217691, \"condition\": \"snow\"}, {\"temperature\": 15.342628921870396, \"wind\": 52.15522860596962, \"precipitation\": 44.258578235337545, \"condition\": \"drizzle\"}, {\"temperature\": 43.28838980732394, \"wind\": 30.617573960681387, \"precipitation\": 90.705784312922, \"condition\": \"drizzle\"}, {\"temperature\": 31.752614189233682, \"wind\": 54.002536771242745, \"precipitation\": 98.5871144935895, \"condition\": \"drizzle\"}, {\"temperature\": 3.5475184692079793, \"wind\": 96.91039458765935, \"precipitation\": 50.00054618320339, \"condition\": \"fog\"}]}}, {\"mode\": \"vega-lite\"});\n</script>",
      "text/plain": "alt.Chart(...)"
     },
     "metadata": {},
     "output_type": "display_data"
    }
   ],
   "source": [
    "base = alt.Chart(df)\n",
    "arc = base.mark_arc().encode(\n",
    "    theta=alt.Theta(\n",
    "        field=\"temperature\",\n",
    "        type=\"quantitative\",\n",
    "        aggregate=\"count\",\n",
    "        stack=\"zero\",\n",
    "        scale=alt.Scale(type=\"linear\", zero=True),\n",
    "    ),\n",
    "    color=alt.Color(field=\"condition\", type=\"nominal\", scale=alt.Scale(type=\"ordinal\")),\n",
    ")\n",
    "display_chart(arc)"
   ]
  },
  {
   "cell_type": "markdown",
   "metadata": {},
   "source": [
    "### Stacked Bar Chart"
   ]
  },
  {
   "cell_type": "code",
   "execution_count": 189,
   "metadata": {},
   "outputs": [
    {
     "name": "stdout",
     "output_type": "stream",
     "text": [
      "{'field': [{'name': 'temperature', 'type': 'number'},\n",
      "           {'name': 'condition', 'type': 'string'}],\n",
      " 'number_rows': 100,\n",
      " 'view': [{'mark': [{'encoding': [{'binning': 10,\n",
      "                                   'channel': 'x',\n",
      "                                   'field': 'temperature'},\n",
      "                                  {'aggregate': 'count',\n",
      "                                   'channel': 'y',\n",
      "                                   'stack': 'zero'},\n",
      "                                  {'channel': 'color', 'field': 'condition'}],\n",
      "                     'type': 'bar'}],\n",
      "           'scale': [{'channel': 'x', 'type': 'linear'},\n",
      "                     {'channel': 'y', 'type': 'linear', 'zero': 'true'},\n",
      "                     {'channel': 'color', 'type': 'categorical'}]}]}\n"
     ]
    }
   ],
   "source": [
    "facts = [\n",
    "    \"attribute(number_rows,root,100).\",\n",
    "    \"entity(field,root,temperature).\",\n",
    "    \"attribute((field,name),temperature,temperature).\",\n",
    "    \"attribute((field,type),temperature,number).\",\n",
    "    \"entity(field,root,condition).\",\n",
    "    \"attribute((field,name),condition,condition).\",\n",
    "    \"attribute((field,type),condition,string).\",\n",
    "    \"entity(view,root,0).\",\n",
    "    \"entity(mark,0,1).\",\n",
    "    \"attribute((mark,type),1,bar).\",\n",
    "    \"entity(encoding,1,2).\",\n",
    "    \"attribute((encoding,channel),2,x).\",\n",
    "    \"attribute((encoding,field),2,temperature).\",\n",
    "    \"attribute((encoding,binning),2,10).\",\n",
    "    \"entity(encoding,1,3).\",\n",
    "    \"attribute((encoding,channel),3,y).\",\n",
    "    \"attribute((encoding,aggregate),3,count).\",\n",
    "    \"attribute((encoding,stack),3,zero).\",\n",
    "    \"entity(encoding,1,4).\",\n",
    "    \"attribute((encoding,channel),4,color).\",\n",
    "    \"attribute((encoding,field),4,condition).\",\n",
    "    \"entity(scale,0,5).\",\n",
    "    \"attribute((scale,channel),5,x).\",\n",
    "    \"attribute((scale,type),5,linear).\",\n",
    "    \"entity(scale,0,6).\",\n",
    "    \"attribute((scale,channel),6,y).\",\n",
    "    \"attribute((scale,type),6,linear).\",\n",
    "    \"attribute((scale,zero),6,true).\",\n",
    "    \"entity(scale,0,7).\",\n",
    "    \"attribute((scale,channel),7,color).\",\n",
    "    \"attribute((scale,type),7,categorical).\",\n",
    "]\n",
    "spec = facts_to_dict(facts)\n",
    "pprint(spec)"
   ]
  },
  {
   "cell_type": "code",
   "execution_count": 190,
   "metadata": {},
   "outputs": [
    {
     "name": "stdout",
     "output_type": "stream",
     "text": [
      "{'$schema': 'https://vega.github.io/schema/vega-lite/v4.17.0.json',\n",
      " 'config': {'view': {'continuousHeight': 300, 'continuousWidth': 400}},\n",
      " 'encoding': {'color': {'field': 'condition', 'type': 'nominal'},\n",
      "              'x': {'bin': {'maxbins': 10},\n",
      "                    'field': 'temperature',\n",
      "                    'scale': {'type': 'linear'},\n",
      "                    'type': 'quantitative'},\n",
      "              'y': {'aggregate': 'count',\n",
      "                    'field': 'temperature',\n",
      "                    'scale': {'type': 'linear', 'zero': True},\n",
      "                    'stack': 'zero',\n",
      "                    'type': 'quantitative'}},\n",
      " 'mark': 'bar'}\n"
     ]
    },
    {
     "data": {
      "text/html": "\n<div id=\"altair-viz-307d1fe059a1401e8388a08a97e164f1\"></div>\n<script type=\"text/javascript\">\n  var VEGA_DEBUG = (typeof VEGA_DEBUG == \"undefined\") ? {} : VEGA_DEBUG;\n  (function(spec, embedOpt){\n    let outputDiv = document.currentScript.previousElementSibling;\n    if (outputDiv.id !== \"altair-viz-307d1fe059a1401e8388a08a97e164f1\") {\n      outputDiv = document.getElementById(\"altair-viz-307d1fe059a1401e8388a08a97e164f1\");\n    }\n    const paths = {\n      \"vega\": \"https://cdn.jsdelivr.net/npm//vega@5?noext\",\n      \"vega-lib\": \"https://cdn.jsdelivr.net/npm//vega-lib?noext\",\n      \"vega-lite\": \"https://cdn.jsdelivr.net/npm//vega-lite@4.17.0?noext\",\n      \"vega-embed\": \"https://cdn.jsdelivr.net/npm//vega-embed@6?noext\",\n    };\n\n    function maybeLoadScript(lib, version) {\n      var key = `${lib.replace(\"-\", \"\")}_version`;\n      return (VEGA_DEBUG[key] == version) ?\n        Promise.resolve(paths[lib]) :\n        new Promise(function(resolve, reject) {\n          var s = document.createElement('script');\n          document.getElementsByTagName(\"head\")[0].appendChild(s);\n          s.async = true;\n          s.onload = () => {\n            VEGA_DEBUG[key] = version;\n            return resolve(paths[lib]);\n          };\n          s.onerror = () => reject(`Error loading script: ${paths[lib]}`);\n          s.src = paths[lib];\n        });\n    }\n\n    function showError(err) {\n      outputDiv.innerHTML = `<div class=\"error\" style=\"color:red;\">${err}</div>`;\n      throw err;\n    }\n\n    function displayChart(vegaEmbed) {\n      vegaEmbed(outputDiv, spec, embedOpt)\n        .catch(err => showError(`Javascript Error: ${err.message}<br>This usually means there's a typo in your chart specification. See the javascript console for the full traceback.`));\n    }\n\n    if(typeof define === \"function\" && define.amd) {\n      requirejs.config({paths});\n      require([\"vega-embed\"], displayChart, err => showError(`Error loading script: ${err.message}`));\n    } else {\n      maybeLoadScript(\"vega\", \"5\")\n        .then(() => maybeLoadScript(\"vega-lite\", \"4.17.0\"))\n        .then(() => maybeLoadScript(\"vega-embed\", \"6\"))\n        .catch(showError)\n        .then(() => displayChart(vegaEmbed));\n    }\n  })({\"config\": {\"view\": {\"continuousWidth\": 400, \"continuousHeight\": 300}}, \"data\": {\"name\": \"data-62648c40dc40a84dcc0ff734b69b013d\"}, \"mark\": \"bar\", \"encoding\": {\"color\": {\"field\": \"condition\", \"type\": \"nominal\"}, \"x\": {\"bin\": {\"maxbins\": 10}, \"field\": \"temperature\", \"scale\": {\"type\": \"linear\"}, \"type\": \"quantitative\"}, \"y\": {\"aggregate\": \"count\", \"field\": \"temperature\", \"scale\": {\"type\": \"linear\", \"zero\": true}, \"stack\": \"zero\", \"type\": \"quantitative\"}}, \"$schema\": \"https://vega.github.io/schema/vega-lite/v4.17.0.json\", \"datasets\": {\"data-62648c40dc40a84dcc0ff734b69b013d\": [{\"temperature\": 15.949648750822519, \"wind\": 44.064474882832506, \"precipitation\": 39.57102111167698, \"condition\": \"sun\"}, {\"temperature\": 35.80410298761198, \"wind\": 57.347114406626844, \"precipitation\": 51.104157124186436, \"condition\": \"snow\"}, {\"temperature\": 34.39048786822457, \"wind\": 96.36048231593197, \"precipitation\": 40.96980376900311, \"condition\": \"drizzle\"}, {\"temperature\": 7.204885708939138, \"wind\": 25.146399378672125, \"precipitation\": 85.49017897658906, \"condition\": \"drizzle\"}, {\"temperature\": 19.55284015712061, \"wind\": 57.88396140686759, \"precipitation\": 73.6976786812617, \"condition\": \"sun\"}, {\"temperature\": 40.95867840323979, \"wind\": 18.240723526069058, \"precipitation\": 12.344374169099414, \"condition\": \"drizzle\"}, {\"temperature\": 8.037410652418316, \"wind\": 34.85524928680391, \"precipitation\": 47.39721336761291, \"condition\": \"drizzle\"}, {\"temperature\": -0.9238346314127046, \"wind\": 38.27888770381765, \"precipitation\": 49.084327395470694, \"condition\": \"snow\"}, {\"temperature\": 5.432162476529914, \"wind\": 26.375774021896824, \"precipitation\": 11.84973364714308, \"condition\": \"fog\"}, {\"temperature\": -0.5233284049906253, \"wind\": 20.341299498563536, \"precipitation\": 17.599397407184547, \"condition\": \"rain\"}, {\"temperature\": -0.32120652264539906, \"wind\": 56.70670804712174, \"precipitation\": 27.900390497052797, \"condition\": \"snow\"}, {\"temperature\": -5.8172209322540835, \"wind\": 7.922327363206739, \"precipitation\": 58.97450879694346, \"condition\": \"sun\"}, {\"temperature\": 29.348029927183475, \"wind\": 42.36486641293023, \"precipitation\": 52.297851298205714, \"condition\": \"snow\"}, {\"temperature\": -3.170224211296139, \"wind\": 25.422063817654927, \"precipitation\": 75.95709912967573, \"condition\": \"sun\"}, {\"temperature\": 29.762058145832015, \"wind\": 60.50785926641081, \"precipitation\": 27.63426836016134, \"condition\": \"sun\"}, {\"temperature\": -2.4226248703646167, \"wind\": 71.82451957436714, \"precipitation\": 27.866577679535155, \"condition\": \"rain\"}, {\"temperature\": 27.72342502276807, \"wind\": 25.495165547172526, \"precipitation\": 56.952472897674525, \"condition\": \"rain\"}, {\"temperature\": 42.86155275131322, \"wind\": 64.07798840013274, \"precipitation\": 43.20732916361416, \"condition\": \"drizzle\"}, {\"temperature\": 17.672356545916294, \"wind\": 69.76681823406481, \"precipitation\": 4.878513449934685, \"condition\": \"snow\"}, {\"temperature\": 14.10656929258668, \"wind\": 57.176270850584096, \"precipitation\": 22.99874996214144, \"condition\": \"sun\"}, {\"temperature\": 13.738975343826219, \"wind\": 47.92233289336022, \"precipitation\": 14.35681797090771, \"condition\": \"drizzle\"}, {\"temperature\": 38.54857944378019, \"wind\": 71.3951998928714, \"precipitation\": 47.86763119099666, \"condition\": \"rain\"}, {\"temperature\": 35.41541728844566, \"wind\": 15.372466094026361, \"precipitation\": 10.140892669165568, \"condition\": \"drizzle\"}, {\"temperature\": 42.8109485726051, \"wind\": 19.292730074798236, \"precipitation\": 83.72184051359054, \"condition\": \"sun\"}, {\"temperature\": 5.541837860134734, \"wind\": 37.91528502390926, \"precipitation\": 1.806095907348293, \"condition\": \"rain\"}, {\"temperature\": 31.26072818540954, \"wind\": 25.613046818128893, \"precipitation\": 93.99993502991724, \"condition\": \"snow\"}, {\"temperature\": 12.652262480706526, \"wind\": 19.716955298970042, \"precipitation\": 4.277209571833773, \"condition\": \"snow\"}, {\"temperature\": 27.464734441100425, \"wind\": 18.45750848171699, \"precipitation\": 14.862245845341137, \"condition\": \"snow\"}, {\"temperature\": 39.17194283180486, \"wind\": 62.584966101983305, \"precipitation\": 61.90806088367137, \"condition\": \"drizzle\"}, {\"temperature\": 20.57556038458332, \"wind\": 6.979458445589614, \"precipitation\": 26.20161503090155, \"condition\": \"fog\"}, {\"temperature\": 43.4376707328582, \"wind\": 91.72880025636312, \"precipitation\": 49.92669754392897, \"condition\": \"rain\"}, {\"temperature\": 37.392448305959796, \"wind\": 37.3453361137289, \"precipitation\": 79.01145543700821, \"condition\": \"rain\"}, {\"temperature\": -0.9740355983502056, \"wind\": 52.36556373635527, \"precipitation\": 30.452338583138562, \"condition\": \"fog\"}, {\"temperature\": 32.483093158374864, \"wind\": 88.0719315131664, \"precipitation\": 79.80325870322564, \"condition\": \"drizzle\"}, {\"temperature\": 35.06833977125789, \"wind\": 20.182255224013822, \"precipitation\": 68.32831560054159, \"condition\": \"drizzle\"}, {\"temperature\": 30.648689765220006, \"wind\": 70.20845647358497, \"precipitation\": 14.839756419615913, \"condition\": \"fog\"}, {\"temperature\": 17.568761783892697, \"wind\": 23.56533394038428, \"precipitation\": 33.43028312709272, \"condition\": \"fog\"}, {\"temperature\": 37.668328098899124, \"wind\": 25.752457285889363, \"precipitation\": 22.16206318576326, \"condition\": \"fog\"}, {\"temperature\": 5.014064033030415, \"wind\": 35.85304116185546, \"precipitation\": 50.430635606761776, \"condition\": \"drizzle\"}, {\"temperature\": 0.07199515030012726, \"wind\": 2.3037918503235444, \"precipitation\": 43.68655656674591, \"condition\": \"snow\"}, {\"temperature\": 5.954592424892175, \"wind\": 97.51084981729826, \"precipitation\": 18.937945167300562, \"condition\": \"fog\"}, {\"temperature\": 30.328519543203832, \"wind\": 11.124122490003696, \"precipitation\": 16.09587268986017, \"condition\": \"rain\"}, {\"temperature\": 14.46236976140856, \"wind\": 51.39244007969178, \"precipitation\": 51.52316459464377, \"condition\": \"fog\"}, {\"temperature\": 9.396286885496181, \"wind\": 14.413632366424933, \"precipitation\": 58.34025135533383, \"condition\": \"drizzle\"}, {\"temperature\": -7.883075294840844, \"wind\": 98.24018815877206, \"precipitation\": 51.405831276908884, \"condition\": \"snow\"}, {\"temperature\": 36.853296493232534, \"wind\": 17.44230067062308, \"precipitation\": 55.91312117168676, \"condition\": \"drizzle\"}, {\"temperature\": -9.582596783874624, \"wind\": 23.835535427130438, \"precipitation\": 61.605688998244446, \"condition\": \"fog\"}, {\"temperature\": -9.419128745924892, \"wind\": 53.25395558360789, \"precipitation\": 78.4515605013817, \"condition\": \"sun\"}, {\"temperature\": 4.571583314676532, \"wind\": 9.068613866100073, \"precipitation\": 42.448264608376526, \"condition\": \"rain\"}, {\"temperature\": 6.6203336157740615, \"wind\": 35.87691221835703, \"precipitation\": 64.98980696659649, \"condition\": \"rain\"}, {\"temperature\": 20.627672555392106, \"wind\": 28.946823430475742, \"precipitation\": 14.301584887467733, \"condition\": \"rain\"}, {\"temperature\": -9.583736731217567, \"wind\": 83.64814422156614, \"precipitation\": 35.873227198260004, \"condition\": \"snow\"}, {\"temperature\": 11.018260277272166, \"wind\": 82.98059861355699, \"precipitation\": 67.52390799343073, \"condition\": \"drizzle\"}, {\"temperature\": 5.411451095385809, \"wind\": 21.05653192591779, \"precipitation\": 98.10920750481597, \"condition\": \"fog\"}, {\"temperature\": 2.807402352777551, \"wind\": 40.81431754466085, \"precipitation\": 17.10555449196962, \"condition\": \"drizzle\"}, {\"temperature\": 33.60928142306782, \"wind\": 68.86862385408263, \"precipitation\": 1.7511520670655312, \"condition\": \"drizzle\"}, {\"temperature\": -3.7305842295491463, \"wind\": 22.99270590580842, \"precipitation\": 20.45024425044729, \"condition\": \"sun\"}, {\"temperature\": 38.88636288200788, \"wind\": 4.451268770649408, \"precipitation\": 50.18581381273084, \"condition\": \"snow\"}, {\"temperature\": 30.677916880360065, \"wind\": 57.58927095398997, \"precipitation\": 3.882294040985468, \"condition\": \"sun\"}, {\"temperature\": 20.936747003011536, \"wind\": 86.15890903839221, \"precipitation\": 84.64626055952643, \"condition\": \"sun\"}, {\"temperature\": 37.960508459665974, \"wind\": 83.22348385800635, \"precipitation\": 78.09579123477448, \"condition\": \"sun\"}, {\"temperature\": 2.789340992140385, \"wind\": 5.604841844996544, \"precipitation\": 64.23176719571818, \"condition\": \"rain\"}, {\"temperature\": -7.362921707472104, \"wind\": 57.37740217449133, \"precipitation\": 18.499742279296438, \"condition\": \"sun\"}, {\"temperature\": 1.1912189059593281, \"wind\": 46.52929788933954, \"precipitation\": 56.223732701756326, \"condition\": \"rain\"}, {\"temperature\": 5.601287545202137, \"wind\": 10.557820768094484, \"precipitation\": 10.005361911795385, \"condition\": \"sun\"}, {\"temperature\": 38.06145401149945, \"wind\": 40.55588658579815, \"precipitation\": 18.57864165136399, \"condition\": \"rain\"}, {\"temperature\": 10.003338415782952, \"wind\": 0.38143550979561347, \"precipitation\": 3.4323593600883995, \"condition\": \"snow\"}, {\"temperature\": 35.51840784136351, \"wind\": 85.38213169679159, \"precipitation\": 72.28024508142481, \"condition\": \"rain\"}, {\"temperature\": 42.22464006089062, \"wind\": 21.90245982426261, \"precipitation\": 64.4540475166047, \"condition\": \"snow\"}, {\"temperature\": 42.62614276410388, \"wind\": 16.596731146807365, \"precipitation\": 85.31723680641925, \"condition\": \"sun\"}, {\"temperature\": 4.666633193701054, \"wind\": 13.9068281587152, \"precipitation\": 87.48180339020342, \"condition\": \"drizzle\"}, {\"temperature\": 16.15426117162615, \"wind\": 38.00342325742586, \"precipitation\": 47.264072847267016, \"condition\": \"rain\"}, {\"temperature\": 15.032591880472172, \"wind\": 86.42884715473586, \"precipitation\": 81.69554228509587, \"condition\": \"rain\"}, {\"temperature\": 35.19149371217065, \"wind\": 72.5074270480888, \"precipitation\": 22.443215096530544, \"condition\": \"sun\"}, {\"temperature\": 26.84120821812121, \"wind\": 83.91441221303555, \"precipitation\": 63.11915666511897, \"condition\": \"drizzle\"}, {\"temperature\": 34.88005063805122, \"wind\": 45.33004448381994, \"precipitation\": 0.9935886811615613, \"condition\": \"rain\"}, {\"temperature\": 41.376840349386185, \"wind\": 7.544840957817378, \"precipitation\": 54.70235300254609, \"condition\": \"snow\"}, {\"temperature\": 36.960725847409456, \"wind\": 49.46574838149229, \"precipitation\": 85.47567556668297, \"condition\": \"snow\"}, {\"temperature\": 14.586289413415074, \"wind\": 4.489700154671472, \"precipitation\": 10.31362572720238, \"condition\": \"sun\"}, {\"temperature\": 20.04343950622185, \"wind\": 66.32817964057357, \"precipitation\": 74.44590348494177, \"condition\": \"sun\"}, {\"temperature\": 25.469560172224703, \"wind\": 82.06241734640489, \"precipitation\": 61.201009993418275, \"condition\": \"rain\"}, {\"temperature\": 20.070995853722245, \"wind\": 46.445227996549974, \"precipitation\": 53.59556892779981, \"condition\": \"snow\"}, {\"temperature\": 5.685018294722338, \"wind\": 58.17077525039538, \"precipitation\": 31.236078403128474, \"condition\": \"snow\"}, {\"temperature\": 42.487483009401764, \"wind\": 71.08000859923487, \"precipitation\": 61.47201457950021, \"condition\": \"rain\"}, {\"temperature\": -7.079256299328551, \"wind\": 27.004309009604967, \"precipitation\": 19.794263832693815, \"condition\": \"rain\"}, {\"temperature\": -5.045047126960084, \"wind\": 88.93771732732128, \"precipitation\": 99.50453536234512, \"condition\": \"fog\"}, {\"temperature\": 25.4533582484732, \"wind\": 96.38774772376792, \"precipitation\": 69.85460214191481, \"condition\": \"rain\"}, {\"temperature\": 22.955919291252926, \"wind\": 88.48558780603962, \"precipitation\": 40.268588772168876, \"condition\": \"snow\"}, {\"temperature\": 27.507453592914565, \"wind\": 29.838439613656075, \"precipitation\": 27.845875256677367, \"condition\": \"fog\"}, {\"temperature\": -6.870451234225997, \"wind\": 54.90225410574824, \"precipitation\": 29.74026895430255, \"condition\": \"snow\"}, {\"temperature\": 41.66879121402853, \"wind\": 21.388390668516323, \"precipitation\": 23.449697200445573, \"condition\": \"sun\"}, {\"temperature\": 15.838369384298645, \"wind\": 14.553164438107524, \"precipitation\": 78.9078385630916, \"condition\": \"sun\"}, {\"temperature\": 13.794652090601591, \"wind\": 31.915985033787553, \"precipitation\": 65.39000850075058, \"condition\": \"fog\"}, {\"temperature\": -0.24791853446323842, \"wind\": 16.053122209894966, \"precipitation\": 26.219628309452382, \"condition\": \"sun\"}, {\"temperature\": 20.625989859426074, \"wind\": 15.348759697534453, \"precipitation\": 94.2004787208339, \"condition\": \"rain\"}, {\"temperature\": 17.22130558630064, \"wind\": 61.15140884010469, \"precipitation\": 27.79385279217691, \"condition\": \"snow\"}, {\"temperature\": 15.342628921870396, \"wind\": 52.15522860596962, \"precipitation\": 44.258578235337545, \"condition\": \"drizzle\"}, {\"temperature\": 43.28838980732394, \"wind\": 30.617573960681387, \"precipitation\": 90.705784312922, \"condition\": \"drizzle\"}, {\"temperature\": 31.752614189233682, \"wind\": 54.002536771242745, \"precipitation\": 98.5871144935895, \"condition\": \"drizzle\"}, {\"temperature\": 3.5475184692079793, \"wind\": 96.91039458765935, \"precipitation\": 50.00054618320339, \"condition\": \"fog\"}]}}, {\"mode\": \"vega-lite\"});\n</script>",
      "text/plain": "alt.Chart(...)"
     },
     "metadata": {},
     "output_type": "display_data"
    }
   ],
   "source": [
    "base = alt.Chart(df)\n",
    "bar = base.mark_bar().encode(\n",
    "    x=alt.X(\n",
    "        field=\"temperature\",\n",
    "        type=\"quantitative\",\n",
    "        bin=alt.Bin(maxbins=10),\n",
    "        scale=alt.Scale(type=\"linear\"),\n",
    "    ),\n",
    "    y=alt.Y(\n",
    "        field=\"temperature\",\n",
    "        type=\"quantitative\",\n",
    "        aggregate=\"count\",\n",
    "        stack=\"zero\",\n",
    "        scale=alt.Scale(type=\"linear\", zero=True),\n",
    "    ),\n",
    "    color=alt.Color(field=\"condition\", type=\"nominal\"),\n",
    ")\n",
    "display_chart(bar)"
   ]
  },
  {
   "cell_type": "markdown",
   "metadata": {},
   "source": [
    "### Normalized (Percentage) Stacked Bar Chart"
   ]
  },
  {
   "cell_type": "code",
   "execution_count": 191,
   "metadata": {},
   "outputs": [
    {
     "name": "stdout",
     "output_type": "stream",
     "text": [
      "{'field': [{'name': 'temperature', 'type': 'number'},\n",
      "           {'name': 'condition', 'type': 'string'}],\n",
      " 'number_rows': 100,\n",
      " 'view': [{'mark': [{'encoding': [{'aggregate': 'count',\n",
      "                                   'channel': 'x',\n",
      "                                   'stack': 'normalize'},\n",
      "                                  {'binning': 10,\n",
      "                                   'channel': 'y',\n",
      "                                   'field': 'temperature'},\n",
      "                                  {'channel': 'color', 'field': 'condition'}],\n",
      "                     'type': 'bar'}],\n",
      "           'scale': [{'channel': 'x', 'type': 'linear', 'zero': 'true'},\n",
      "                     {'channel': 'y', 'type': 'linear'},\n",
      "                     {'channel': 'color', 'type': 'categorical'}]}]}\n"
     ]
    }
   ],
   "source": [
    "facts = [\n",
    "    \"attribute(number_rows,root,100).\",\n",
    "    \"entity(field,root,temperature).\",\n",
    "    \"attribute((field,name),temperature,temperature).\",\n",
    "    \"attribute((field,type),temperature,number).\",\n",
    "    \"entity(field,root,condition).\",\n",
    "    \"attribute((field,name),condition,condition).\",\n",
    "    \"attribute((field,type),condition,string).\",\n",
    "    \"entity(view,root,0).\",\n",
    "    \"entity(mark,0,1).\",\n",
    "    \"attribute((mark,type),1,bar).\",\n",
    "    \"entity(encoding,1,2).\",\n",
    "    \"attribute((encoding,channel),2,x).\",\n",
    "    \"attribute((encoding,aggregate),2,count).\",\n",
    "    \"attribute((encoding,stack),2,normalize).\",\n",
    "    \"entity(encoding,1,3).\",\n",
    "    \"attribute((encoding,channel),3,y).\",\n",
    "    \"attribute((encoding,field),3,temperature).\",\n",
    "    \"attribute((encoding,binning),3,10).\",\n",
    "    \"entity(encoding,1,4).\",\n",
    "    \"attribute((encoding,channel),4,color).\",\n",
    "    \"attribute((encoding,field),4,condition).\",\n",
    "    \"entity(scale,0,5).\",\n",
    "    \"attribute((scale,channel),5,x).\",\n",
    "    \"attribute((scale,type),5,linear).\",\n",
    "    \"attribute((scale,zero),5,true).\",\n",
    "    \"entity(scale,0,6).\",\n",
    "    \"attribute((scale,channel),6,y).\",\n",
    "    \"attribute((scale,type),6,linear).\",\n",
    "    \"entity(scale,0,7).\",\n",
    "    \"attribute((scale,channel),7,color).\",\n",
    "    \"attribute((scale,type),7,categorical).\",\n",
    "]\n",
    "spec = facts_to_dict(facts)\n",
    "pprint(spec)"
   ]
  },
  {
   "cell_type": "code",
   "execution_count": 192,
   "metadata": {},
   "outputs": [
    {
     "name": "stdout",
     "output_type": "stream",
     "text": [
      "{'$schema': 'https://vega.github.io/schema/vega-lite/v4.17.0.json',\n",
      " 'config': {'view': {'continuousHeight': 300, 'continuousWidth': 400}},\n",
      " 'encoding': {'color': {'field': 'condition', 'type': 'nominal'},\n",
      "              'x': {'aggregate': 'count',\n",
      "                    'field': 'temperature',\n",
      "                    'scale': {'type': 'linear', 'zero': True},\n",
      "                    'stack': 'normalize',\n",
      "                    'type': 'quantitative'},\n",
      "              'y': {'bin': {'maxbins': 10},\n",
      "                    'field': 'temperature',\n",
      "                    'scale': {'type': 'linear'},\n",
      "                    'type': 'quantitative'}},\n",
      " 'mark': 'bar'}\n"
     ]
    },
    {
     "data": {
      "text/html": "\n<div id=\"altair-viz-24edd154d35846c28f937f289d2811c6\"></div>\n<script type=\"text/javascript\">\n  var VEGA_DEBUG = (typeof VEGA_DEBUG == \"undefined\") ? {} : VEGA_DEBUG;\n  (function(spec, embedOpt){\n    let outputDiv = document.currentScript.previousElementSibling;\n    if (outputDiv.id !== \"altair-viz-24edd154d35846c28f937f289d2811c6\") {\n      outputDiv = document.getElementById(\"altair-viz-24edd154d35846c28f937f289d2811c6\");\n    }\n    const paths = {\n      \"vega\": \"https://cdn.jsdelivr.net/npm//vega@5?noext\",\n      \"vega-lib\": \"https://cdn.jsdelivr.net/npm//vega-lib?noext\",\n      \"vega-lite\": \"https://cdn.jsdelivr.net/npm//vega-lite@4.17.0?noext\",\n      \"vega-embed\": \"https://cdn.jsdelivr.net/npm//vega-embed@6?noext\",\n    };\n\n    function maybeLoadScript(lib, version) {\n      var key = `${lib.replace(\"-\", \"\")}_version`;\n      return (VEGA_DEBUG[key] == version) ?\n        Promise.resolve(paths[lib]) :\n        new Promise(function(resolve, reject) {\n          var s = document.createElement('script');\n          document.getElementsByTagName(\"head\")[0].appendChild(s);\n          s.async = true;\n          s.onload = () => {\n            VEGA_DEBUG[key] = version;\n            return resolve(paths[lib]);\n          };\n          s.onerror = () => reject(`Error loading script: ${paths[lib]}`);\n          s.src = paths[lib];\n        });\n    }\n\n    function showError(err) {\n      outputDiv.innerHTML = `<div class=\"error\" style=\"color:red;\">${err}</div>`;\n      throw err;\n    }\n\n    function displayChart(vegaEmbed) {\n      vegaEmbed(outputDiv, spec, embedOpt)\n        .catch(err => showError(`Javascript Error: ${err.message}<br>This usually means there's a typo in your chart specification. See the javascript console for the full traceback.`));\n    }\n\n    if(typeof define === \"function\" && define.amd) {\n      requirejs.config({paths});\n      require([\"vega-embed\"], displayChart, err => showError(`Error loading script: ${err.message}`));\n    } else {\n      maybeLoadScript(\"vega\", \"5\")\n        .then(() => maybeLoadScript(\"vega-lite\", \"4.17.0\"))\n        .then(() => maybeLoadScript(\"vega-embed\", \"6\"))\n        .catch(showError)\n        .then(() => displayChart(vegaEmbed));\n    }\n  })({\"config\": {\"view\": {\"continuousWidth\": 400, \"continuousHeight\": 300}}, \"data\": {\"name\": \"data-62648c40dc40a84dcc0ff734b69b013d\"}, \"mark\": \"bar\", \"encoding\": {\"color\": {\"field\": \"condition\", \"type\": \"nominal\"}, \"x\": {\"aggregate\": \"count\", \"field\": \"temperature\", \"scale\": {\"type\": \"linear\", \"zero\": true}, \"stack\": \"normalize\", \"type\": \"quantitative\"}, \"y\": {\"bin\": {\"maxbins\": 10}, \"field\": \"temperature\", \"scale\": {\"type\": \"linear\"}, \"type\": \"quantitative\"}}, \"$schema\": \"https://vega.github.io/schema/vega-lite/v4.17.0.json\", \"datasets\": {\"data-62648c40dc40a84dcc0ff734b69b013d\": [{\"temperature\": 15.949648750822519, \"wind\": 44.064474882832506, \"precipitation\": 39.57102111167698, \"condition\": \"sun\"}, {\"temperature\": 35.80410298761198, \"wind\": 57.347114406626844, \"precipitation\": 51.104157124186436, \"condition\": \"snow\"}, {\"temperature\": 34.39048786822457, \"wind\": 96.36048231593197, \"precipitation\": 40.96980376900311, \"condition\": \"drizzle\"}, {\"temperature\": 7.204885708939138, \"wind\": 25.146399378672125, \"precipitation\": 85.49017897658906, \"condition\": \"drizzle\"}, {\"temperature\": 19.55284015712061, \"wind\": 57.88396140686759, \"precipitation\": 73.6976786812617, \"condition\": \"sun\"}, {\"temperature\": 40.95867840323979, \"wind\": 18.240723526069058, \"precipitation\": 12.344374169099414, \"condition\": \"drizzle\"}, {\"temperature\": 8.037410652418316, \"wind\": 34.85524928680391, \"precipitation\": 47.39721336761291, \"condition\": \"drizzle\"}, {\"temperature\": -0.9238346314127046, \"wind\": 38.27888770381765, \"precipitation\": 49.084327395470694, \"condition\": \"snow\"}, {\"temperature\": 5.432162476529914, \"wind\": 26.375774021896824, \"precipitation\": 11.84973364714308, \"condition\": \"fog\"}, {\"temperature\": -0.5233284049906253, \"wind\": 20.341299498563536, \"precipitation\": 17.599397407184547, \"condition\": \"rain\"}, {\"temperature\": -0.32120652264539906, \"wind\": 56.70670804712174, \"precipitation\": 27.900390497052797, \"condition\": \"snow\"}, {\"temperature\": -5.8172209322540835, \"wind\": 7.922327363206739, \"precipitation\": 58.97450879694346, \"condition\": \"sun\"}, {\"temperature\": 29.348029927183475, \"wind\": 42.36486641293023, \"precipitation\": 52.297851298205714, \"condition\": \"snow\"}, {\"temperature\": -3.170224211296139, \"wind\": 25.422063817654927, \"precipitation\": 75.95709912967573, \"condition\": \"sun\"}, {\"temperature\": 29.762058145832015, \"wind\": 60.50785926641081, \"precipitation\": 27.63426836016134, \"condition\": \"sun\"}, {\"temperature\": -2.4226248703646167, \"wind\": 71.82451957436714, \"precipitation\": 27.866577679535155, \"condition\": \"rain\"}, {\"temperature\": 27.72342502276807, \"wind\": 25.495165547172526, \"precipitation\": 56.952472897674525, \"condition\": \"rain\"}, {\"temperature\": 42.86155275131322, \"wind\": 64.07798840013274, \"precipitation\": 43.20732916361416, \"condition\": \"drizzle\"}, {\"temperature\": 17.672356545916294, \"wind\": 69.76681823406481, \"precipitation\": 4.878513449934685, \"condition\": \"snow\"}, {\"temperature\": 14.10656929258668, \"wind\": 57.176270850584096, \"precipitation\": 22.99874996214144, \"condition\": \"sun\"}, {\"temperature\": 13.738975343826219, \"wind\": 47.92233289336022, \"precipitation\": 14.35681797090771, \"condition\": \"drizzle\"}, {\"temperature\": 38.54857944378019, \"wind\": 71.3951998928714, \"precipitation\": 47.86763119099666, \"condition\": \"rain\"}, {\"temperature\": 35.41541728844566, \"wind\": 15.372466094026361, \"precipitation\": 10.140892669165568, \"condition\": \"drizzle\"}, {\"temperature\": 42.8109485726051, \"wind\": 19.292730074798236, \"precipitation\": 83.72184051359054, \"condition\": \"sun\"}, {\"temperature\": 5.541837860134734, \"wind\": 37.91528502390926, \"precipitation\": 1.806095907348293, \"condition\": \"rain\"}, {\"temperature\": 31.26072818540954, \"wind\": 25.613046818128893, \"precipitation\": 93.99993502991724, \"condition\": \"snow\"}, {\"temperature\": 12.652262480706526, \"wind\": 19.716955298970042, \"precipitation\": 4.277209571833773, \"condition\": \"snow\"}, {\"temperature\": 27.464734441100425, \"wind\": 18.45750848171699, \"precipitation\": 14.862245845341137, \"condition\": \"snow\"}, {\"temperature\": 39.17194283180486, \"wind\": 62.584966101983305, \"precipitation\": 61.90806088367137, \"condition\": \"drizzle\"}, {\"temperature\": 20.57556038458332, \"wind\": 6.979458445589614, \"precipitation\": 26.20161503090155, \"condition\": \"fog\"}, {\"temperature\": 43.4376707328582, \"wind\": 91.72880025636312, \"precipitation\": 49.92669754392897, \"condition\": \"rain\"}, {\"temperature\": 37.392448305959796, \"wind\": 37.3453361137289, \"precipitation\": 79.01145543700821, \"condition\": \"rain\"}, {\"temperature\": -0.9740355983502056, \"wind\": 52.36556373635527, \"precipitation\": 30.452338583138562, \"condition\": \"fog\"}, {\"temperature\": 32.483093158374864, \"wind\": 88.0719315131664, \"precipitation\": 79.80325870322564, \"condition\": \"drizzle\"}, {\"temperature\": 35.06833977125789, \"wind\": 20.182255224013822, \"precipitation\": 68.32831560054159, \"condition\": \"drizzle\"}, {\"temperature\": 30.648689765220006, \"wind\": 70.20845647358497, \"precipitation\": 14.839756419615913, \"condition\": \"fog\"}, {\"temperature\": 17.568761783892697, \"wind\": 23.56533394038428, \"precipitation\": 33.43028312709272, \"condition\": \"fog\"}, {\"temperature\": 37.668328098899124, \"wind\": 25.752457285889363, \"precipitation\": 22.16206318576326, \"condition\": \"fog\"}, {\"temperature\": 5.014064033030415, \"wind\": 35.85304116185546, \"precipitation\": 50.430635606761776, \"condition\": \"drizzle\"}, {\"temperature\": 0.07199515030012726, \"wind\": 2.3037918503235444, \"precipitation\": 43.68655656674591, \"condition\": \"snow\"}, {\"temperature\": 5.954592424892175, \"wind\": 97.51084981729826, \"precipitation\": 18.937945167300562, \"condition\": \"fog\"}, {\"temperature\": 30.328519543203832, \"wind\": 11.124122490003696, \"precipitation\": 16.09587268986017, \"condition\": \"rain\"}, {\"temperature\": 14.46236976140856, \"wind\": 51.39244007969178, \"precipitation\": 51.52316459464377, \"condition\": \"fog\"}, {\"temperature\": 9.396286885496181, \"wind\": 14.413632366424933, \"precipitation\": 58.34025135533383, \"condition\": \"drizzle\"}, {\"temperature\": -7.883075294840844, \"wind\": 98.24018815877206, \"precipitation\": 51.405831276908884, \"condition\": \"snow\"}, {\"temperature\": 36.853296493232534, \"wind\": 17.44230067062308, \"precipitation\": 55.91312117168676, \"condition\": \"drizzle\"}, {\"temperature\": -9.582596783874624, \"wind\": 23.835535427130438, \"precipitation\": 61.605688998244446, \"condition\": \"fog\"}, {\"temperature\": -9.419128745924892, \"wind\": 53.25395558360789, \"precipitation\": 78.4515605013817, \"condition\": \"sun\"}, {\"temperature\": 4.571583314676532, \"wind\": 9.068613866100073, \"precipitation\": 42.448264608376526, \"condition\": \"rain\"}, {\"temperature\": 6.6203336157740615, \"wind\": 35.87691221835703, \"precipitation\": 64.98980696659649, \"condition\": \"rain\"}, {\"temperature\": 20.627672555392106, \"wind\": 28.946823430475742, \"precipitation\": 14.301584887467733, \"condition\": \"rain\"}, {\"temperature\": -9.583736731217567, \"wind\": 83.64814422156614, \"precipitation\": 35.873227198260004, \"condition\": \"snow\"}, {\"temperature\": 11.018260277272166, \"wind\": 82.98059861355699, \"precipitation\": 67.52390799343073, \"condition\": \"drizzle\"}, {\"temperature\": 5.411451095385809, \"wind\": 21.05653192591779, \"precipitation\": 98.10920750481597, \"condition\": \"fog\"}, {\"temperature\": 2.807402352777551, \"wind\": 40.81431754466085, \"precipitation\": 17.10555449196962, \"condition\": \"drizzle\"}, {\"temperature\": 33.60928142306782, \"wind\": 68.86862385408263, \"precipitation\": 1.7511520670655312, \"condition\": \"drizzle\"}, {\"temperature\": -3.7305842295491463, \"wind\": 22.99270590580842, \"precipitation\": 20.45024425044729, \"condition\": \"sun\"}, {\"temperature\": 38.88636288200788, \"wind\": 4.451268770649408, \"precipitation\": 50.18581381273084, \"condition\": \"snow\"}, {\"temperature\": 30.677916880360065, \"wind\": 57.58927095398997, \"precipitation\": 3.882294040985468, \"condition\": \"sun\"}, {\"temperature\": 20.936747003011536, \"wind\": 86.15890903839221, \"precipitation\": 84.64626055952643, \"condition\": \"sun\"}, {\"temperature\": 37.960508459665974, \"wind\": 83.22348385800635, \"precipitation\": 78.09579123477448, \"condition\": \"sun\"}, {\"temperature\": 2.789340992140385, \"wind\": 5.604841844996544, \"precipitation\": 64.23176719571818, \"condition\": \"rain\"}, {\"temperature\": -7.362921707472104, \"wind\": 57.37740217449133, \"precipitation\": 18.499742279296438, \"condition\": \"sun\"}, {\"temperature\": 1.1912189059593281, \"wind\": 46.52929788933954, \"precipitation\": 56.223732701756326, \"condition\": \"rain\"}, {\"temperature\": 5.601287545202137, \"wind\": 10.557820768094484, \"precipitation\": 10.005361911795385, \"condition\": \"sun\"}, {\"temperature\": 38.06145401149945, \"wind\": 40.55588658579815, \"precipitation\": 18.57864165136399, \"condition\": \"rain\"}, {\"temperature\": 10.003338415782952, \"wind\": 0.38143550979561347, \"precipitation\": 3.4323593600883995, \"condition\": \"snow\"}, {\"temperature\": 35.51840784136351, \"wind\": 85.38213169679159, \"precipitation\": 72.28024508142481, \"condition\": \"rain\"}, {\"temperature\": 42.22464006089062, \"wind\": 21.90245982426261, \"precipitation\": 64.4540475166047, \"condition\": \"snow\"}, {\"temperature\": 42.62614276410388, \"wind\": 16.596731146807365, \"precipitation\": 85.31723680641925, \"condition\": \"sun\"}, {\"temperature\": 4.666633193701054, \"wind\": 13.9068281587152, \"precipitation\": 87.48180339020342, \"condition\": \"drizzle\"}, {\"temperature\": 16.15426117162615, \"wind\": 38.00342325742586, \"precipitation\": 47.264072847267016, \"condition\": \"rain\"}, {\"temperature\": 15.032591880472172, \"wind\": 86.42884715473586, \"precipitation\": 81.69554228509587, \"condition\": \"rain\"}, {\"temperature\": 35.19149371217065, \"wind\": 72.5074270480888, \"precipitation\": 22.443215096530544, \"condition\": \"sun\"}, {\"temperature\": 26.84120821812121, \"wind\": 83.91441221303555, \"precipitation\": 63.11915666511897, \"condition\": \"drizzle\"}, {\"temperature\": 34.88005063805122, \"wind\": 45.33004448381994, \"precipitation\": 0.9935886811615613, \"condition\": \"rain\"}, {\"temperature\": 41.376840349386185, \"wind\": 7.544840957817378, \"precipitation\": 54.70235300254609, \"condition\": \"snow\"}, {\"temperature\": 36.960725847409456, \"wind\": 49.46574838149229, \"precipitation\": 85.47567556668297, \"condition\": \"snow\"}, {\"temperature\": 14.586289413415074, \"wind\": 4.489700154671472, \"precipitation\": 10.31362572720238, \"condition\": \"sun\"}, {\"temperature\": 20.04343950622185, \"wind\": 66.32817964057357, \"precipitation\": 74.44590348494177, \"condition\": \"sun\"}, {\"temperature\": 25.469560172224703, \"wind\": 82.06241734640489, \"precipitation\": 61.201009993418275, \"condition\": \"rain\"}, {\"temperature\": 20.070995853722245, \"wind\": 46.445227996549974, \"precipitation\": 53.59556892779981, \"condition\": \"snow\"}, {\"temperature\": 5.685018294722338, \"wind\": 58.17077525039538, \"precipitation\": 31.236078403128474, \"condition\": \"snow\"}, {\"temperature\": 42.487483009401764, \"wind\": 71.08000859923487, \"precipitation\": 61.47201457950021, \"condition\": \"rain\"}, {\"temperature\": -7.079256299328551, \"wind\": 27.004309009604967, \"precipitation\": 19.794263832693815, \"condition\": \"rain\"}, {\"temperature\": -5.045047126960084, \"wind\": 88.93771732732128, \"precipitation\": 99.50453536234512, \"condition\": \"fog\"}, {\"temperature\": 25.4533582484732, \"wind\": 96.38774772376792, \"precipitation\": 69.85460214191481, \"condition\": \"rain\"}, {\"temperature\": 22.955919291252926, \"wind\": 88.48558780603962, \"precipitation\": 40.268588772168876, \"condition\": \"snow\"}, {\"temperature\": 27.507453592914565, \"wind\": 29.838439613656075, \"precipitation\": 27.845875256677367, \"condition\": \"fog\"}, {\"temperature\": -6.870451234225997, \"wind\": 54.90225410574824, \"precipitation\": 29.74026895430255, \"condition\": \"snow\"}, {\"temperature\": 41.66879121402853, \"wind\": 21.388390668516323, \"precipitation\": 23.449697200445573, \"condition\": \"sun\"}, {\"temperature\": 15.838369384298645, \"wind\": 14.553164438107524, \"precipitation\": 78.9078385630916, \"condition\": \"sun\"}, {\"temperature\": 13.794652090601591, \"wind\": 31.915985033787553, \"precipitation\": 65.39000850075058, \"condition\": \"fog\"}, {\"temperature\": -0.24791853446323842, \"wind\": 16.053122209894966, \"precipitation\": 26.219628309452382, \"condition\": \"sun\"}, {\"temperature\": 20.625989859426074, \"wind\": 15.348759697534453, \"precipitation\": 94.2004787208339, \"condition\": \"rain\"}, {\"temperature\": 17.22130558630064, \"wind\": 61.15140884010469, \"precipitation\": 27.79385279217691, \"condition\": \"snow\"}, {\"temperature\": 15.342628921870396, \"wind\": 52.15522860596962, \"precipitation\": 44.258578235337545, \"condition\": \"drizzle\"}, {\"temperature\": 43.28838980732394, \"wind\": 30.617573960681387, \"precipitation\": 90.705784312922, \"condition\": \"drizzle\"}, {\"temperature\": 31.752614189233682, \"wind\": 54.002536771242745, \"precipitation\": 98.5871144935895, \"condition\": \"drizzle\"}, {\"temperature\": 3.5475184692079793, \"wind\": 96.91039458765935, \"precipitation\": 50.00054618320339, \"condition\": \"fog\"}]}}, {\"mode\": \"vega-lite\"});\n</script>",
      "text/plain": "alt.Chart(...)"
     },
     "metadata": {},
     "output_type": "display_data"
    }
   ],
   "source": [
    "base = alt.Chart(df)\n",
    "bar = base.mark_bar().encode(\n",
    "    x=alt.X(\n",
    "        field=\"temperature\",\n",
    "        type=\"quantitative\",\n",
    "        aggregate=\"count\",\n",
    "        stack=\"normalize\",\n",
    "        scale=alt.Scale(type=\"linear\", zero=True),\n",
    "    ),\n",
    "    y=alt.Y(\n",
    "        field=\"temperature\",\n",
    "        type=\"quantitative\",\n",
    "        bin=alt.Bin(maxbins=10),\n",
    "        scale=alt.Scale(type=\"linear\"),\n",
    "    ),\n",
    "    color=alt.Color(field=\"condition\", type=\"nominal\"),\n",
    ")\n",
    "display_chart(bar)"
   ]
  },
  {
   "cell_type": "markdown",
   "metadata": {},
   "source": [
    "## Multi Mark (Layered) Charts"
   ]
  },
  {
   "cell_type": "markdown",
   "metadata": {},
   "source": [
    "### Bar with a Tick"
   ]
  },
  {
   "cell_type": "code",
   "execution_count": 193,
   "metadata": {},
   "outputs": [
    {
     "name": "stdout",
     "output_type": "stream",
     "text": [
      "{'field': [{'name': 'temperature', 'type': 'number'}],\n",
      " 'number_rows': 100,\n",
      " 'view': [{'mark': [{'encoding': [{'aggregate': 'mean',\n",
      "                                   'channel': 'x',\n",
      "                                   'field': 'temperature'}],\n",
      "                     'type': 'bar'},\n",
      "                    {'encoding': [{'channel': 'x', 'field': 'temperature'}],\n",
      "                     'type': 'tick'}],\n",
      "           'scale': [{'channel': 'x', 'type': 'linear', 'zero': 'true'}]}]}\n"
     ]
    }
   ],
   "source": [
    "facts = [\n",
    "    \"attribute(number_rows,root,100).\",\n",
    "    \"entity(field,root,temperature).\",\n",
    "    \"attribute((field,name),temperature,temperature).\",\n",
    "    \"attribute((field,type),temperature,number).\",\n",
    "    \"entity(view,root,0).\",\n",
    "    \"entity(mark,0,1).\",\n",
    "    \"attribute((mark,type),1,bar).\",\n",
    "    \"entity(encoding,1,2).\",\n",
    "    \"attribute((encoding,channel),2,x).\",\n",
    "    \"attribute((encoding,aggregate),2,mean).\",\n",
    "    \"attribute((encoding,field),2,temperature).\",\n",
    "    \"entity(mark,0,3).\",\n",
    "    \"attribute((mark,type),3,tick).\",\n",
    "    \"entity(encoding,3,4).\",\n",
    "    \"attribute((encoding,channel),4,x).\",\n",
    "    \"attribute((encoding,field),4,temperature).\",\n",
    "    \"entity(scale,0,5).\",\n",
    "    \"attribute((scale,channel),5,x).\",\n",
    "    \"attribute((scale,type),5,linear).\",\n",
    "    \"attribute((scale,zero),5,true).\",\n",
    "]\n",
    "spec = facts_to_dict(facts)\n",
    "pprint(spec)"
   ]
  },
  {
   "cell_type": "code",
   "execution_count": 194,
   "metadata": {},
   "outputs": [
    {
     "name": "stdout",
     "output_type": "stream",
     "text": [
      "{'$schema': 'https://vega.github.io/schema/vega-lite/v4.17.0.json',\n",
      " 'config': {'view': {'continuousHeight': 300, 'continuousWidth': 400}},\n",
      " 'layer': [{'encoding': {'x': {'aggregate': 'mean',\n",
      "                               'field': 'temperature',\n",
      "                               'scale': {'type': 'linear', 'zero': True},\n",
      "                               'type': 'quantitative'}},\n",
      "            'mark': 'bar'},\n",
      "           {'encoding': {'x': {'field': 'temperature',\n",
      "                               'scale': {'type': 'linear', 'zero': True},\n",
      "                               'type': 'quantitative'}},\n",
      "            'mark': 'tick'}]}\n"
     ]
    },
    {
     "data": {
      "text/html": "\n<div id=\"altair-viz-8d1ba54340b04db3827f0b394213830b\"></div>\n<script type=\"text/javascript\">\n  var VEGA_DEBUG = (typeof VEGA_DEBUG == \"undefined\") ? {} : VEGA_DEBUG;\n  (function(spec, embedOpt){\n    let outputDiv = document.currentScript.previousElementSibling;\n    if (outputDiv.id !== \"altair-viz-8d1ba54340b04db3827f0b394213830b\") {\n      outputDiv = document.getElementById(\"altair-viz-8d1ba54340b04db3827f0b394213830b\");\n    }\n    const paths = {\n      \"vega\": \"https://cdn.jsdelivr.net/npm//vega@5?noext\",\n      \"vega-lib\": \"https://cdn.jsdelivr.net/npm//vega-lib?noext\",\n      \"vega-lite\": \"https://cdn.jsdelivr.net/npm//vega-lite@4.17.0?noext\",\n      \"vega-embed\": \"https://cdn.jsdelivr.net/npm//vega-embed@6?noext\",\n    };\n\n    function maybeLoadScript(lib, version) {\n      var key = `${lib.replace(\"-\", \"\")}_version`;\n      return (VEGA_DEBUG[key] == version) ?\n        Promise.resolve(paths[lib]) :\n        new Promise(function(resolve, reject) {\n          var s = document.createElement('script');\n          document.getElementsByTagName(\"head\")[0].appendChild(s);\n          s.async = true;\n          s.onload = () => {\n            VEGA_DEBUG[key] = version;\n            return resolve(paths[lib]);\n          };\n          s.onerror = () => reject(`Error loading script: ${paths[lib]}`);\n          s.src = paths[lib];\n        });\n    }\n\n    function showError(err) {\n      outputDiv.innerHTML = `<div class=\"error\" style=\"color:red;\">${err}</div>`;\n      throw err;\n    }\n\n    function displayChart(vegaEmbed) {\n      vegaEmbed(outputDiv, spec, embedOpt)\n        .catch(err => showError(`Javascript Error: ${err.message}<br>This usually means there's a typo in your chart specification. See the javascript console for the full traceback.`));\n    }\n\n    if(typeof define === \"function\" && define.amd) {\n      requirejs.config({paths});\n      require([\"vega-embed\"], displayChart, err => showError(`Error loading script: ${err.message}`));\n    } else {\n      maybeLoadScript(\"vega\", \"5\")\n        .then(() => maybeLoadScript(\"vega-lite\", \"4.17.0\"))\n        .then(() => maybeLoadScript(\"vega-embed\", \"6\"))\n        .catch(showError)\n        .then(() => displayChart(vegaEmbed));\n    }\n  })({\"config\": {\"view\": {\"continuousWidth\": 400, \"continuousHeight\": 300}}, \"layer\": [{\"mark\": \"bar\", \"encoding\": {\"x\": {\"aggregate\": \"mean\", \"field\": \"temperature\", \"scale\": {\"type\": \"linear\", \"zero\": true}, \"type\": \"quantitative\"}}}, {\"mark\": \"tick\", \"encoding\": {\"x\": {\"field\": \"temperature\", \"scale\": {\"type\": \"linear\", \"zero\": true}, \"type\": \"quantitative\"}}}], \"data\": {\"name\": \"data-62648c40dc40a84dcc0ff734b69b013d\"}, \"$schema\": \"https://vega.github.io/schema/vega-lite/v4.17.0.json\", \"datasets\": {\"data-62648c40dc40a84dcc0ff734b69b013d\": [{\"temperature\": 15.949648750822519, \"wind\": 44.064474882832506, \"precipitation\": 39.57102111167698, \"condition\": \"sun\"}, {\"temperature\": 35.80410298761198, \"wind\": 57.347114406626844, \"precipitation\": 51.104157124186436, \"condition\": \"snow\"}, {\"temperature\": 34.39048786822457, \"wind\": 96.36048231593197, \"precipitation\": 40.96980376900311, \"condition\": \"drizzle\"}, {\"temperature\": 7.204885708939138, \"wind\": 25.146399378672125, \"precipitation\": 85.49017897658906, \"condition\": \"drizzle\"}, {\"temperature\": 19.55284015712061, \"wind\": 57.88396140686759, \"precipitation\": 73.6976786812617, \"condition\": \"sun\"}, {\"temperature\": 40.95867840323979, \"wind\": 18.240723526069058, \"precipitation\": 12.344374169099414, \"condition\": \"drizzle\"}, {\"temperature\": 8.037410652418316, \"wind\": 34.85524928680391, \"precipitation\": 47.39721336761291, \"condition\": \"drizzle\"}, {\"temperature\": -0.9238346314127046, \"wind\": 38.27888770381765, \"precipitation\": 49.084327395470694, \"condition\": \"snow\"}, {\"temperature\": 5.432162476529914, \"wind\": 26.375774021896824, \"precipitation\": 11.84973364714308, \"condition\": \"fog\"}, {\"temperature\": -0.5233284049906253, \"wind\": 20.341299498563536, \"precipitation\": 17.599397407184547, \"condition\": \"rain\"}, {\"temperature\": -0.32120652264539906, \"wind\": 56.70670804712174, \"precipitation\": 27.900390497052797, \"condition\": \"snow\"}, {\"temperature\": -5.8172209322540835, \"wind\": 7.922327363206739, \"precipitation\": 58.97450879694346, \"condition\": \"sun\"}, {\"temperature\": 29.348029927183475, \"wind\": 42.36486641293023, \"precipitation\": 52.297851298205714, \"condition\": \"snow\"}, {\"temperature\": -3.170224211296139, \"wind\": 25.422063817654927, \"precipitation\": 75.95709912967573, \"condition\": \"sun\"}, {\"temperature\": 29.762058145832015, \"wind\": 60.50785926641081, \"precipitation\": 27.63426836016134, \"condition\": \"sun\"}, {\"temperature\": -2.4226248703646167, \"wind\": 71.82451957436714, \"precipitation\": 27.866577679535155, \"condition\": \"rain\"}, {\"temperature\": 27.72342502276807, \"wind\": 25.495165547172526, \"precipitation\": 56.952472897674525, \"condition\": \"rain\"}, {\"temperature\": 42.86155275131322, \"wind\": 64.07798840013274, \"precipitation\": 43.20732916361416, \"condition\": \"drizzle\"}, {\"temperature\": 17.672356545916294, \"wind\": 69.76681823406481, \"precipitation\": 4.878513449934685, \"condition\": \"snow\"}, {\"temperature\": 14.10656929258668, \"wind\": 57.176270850584096, \"precipitation\": 22.99874996214144, \"condition\": \"sun\"}, {\"temperature\": 13.738975343826219, \"wind\": 47.92233289336022, \"precipitation\": 14.35681797090771, \"condition\": \"drizzle\"}, {\"temperature\": 38.54857944378019, \"wind\": 71.3951998928714, \"precipitation\": 47.86763119099666, \"condition\": \"rain\"}, {\"temperature\": 35.41541728844566, \"wind\": 15.372466094026361, \"precipitation\": 10.140892669165568, \"condition\": \"drizzle\"}, {\"temperature\": 42.8109485726051, \"wind\": 19.292730074798236, \"precipitation\": 83.72184051359054, \"condition\": \"sun\"}, {\"temperature\": 5.541837860134734, \"wind\": 37.91528502390926, \"precipitation\": 1.806095907348293, \"condition\": \"rain\"}, {\"temperature\": 31.26072818540954, \"wind\": 25.613046818128893, \"precipitation\": 93.99993502991724, \"condition\": \"snow\"}, {\"temperature\": 12.652262480706526, \"wind\": 19.716955298970042, \"precipitation\": 4.277209571833773, \"condition\": \"snow\"}, {\"temperature\": 27.464734441100425, \"wind\": 18.45750848171699, \"precipitation\": 14.862245845341137, \"condition\": \"snow\"}, {\"temperature\": 39.17194283180486, \"wind\": 62.584966101983305, \"precipitation\": 61.90806088367137, \"condition\": \"drizzle\"}, {\"temperature\": 20.57556038458332, \"wind\": 6.979458445589614, \"precipitation\": 26.20161503090155, \"condition\": \"fog\"}, {\"temperature\": 43.4376707328582, \"wind\": 91.72880025636312, \"precipitation\": 49.92669754392897, \"condition\": \"rain\"}, {\"temperature\": 37.392448305959796, \"wind\": 37.3453361137289, \"precipitation\": 79.01145543700821, \"condition\": \"rain\"}, {\"temperature\": -0.9740355983502056, \"wind\": 52.36556373635527, \"precipitation\": 30.452338583138562, \"condition\": \"fog\"}, {\"temperature\": 32.483093158374864, \"wind\": 88.0719315131664, \"precipitation\": 79.80325870322564, \"condition\": \"drizzle\"}, {\"temperature\": 35.06833977125789, \"wind\": 20.182255224013822, \"precipitation\": 68.32831560054159, \"condition\": \"drizzle\"}, {\"temperature\": 30.648689765220006, \"wind\": 70.20845647358497, \"precipitation\": 14.839756419615913, \"condition\": \"fog\"}, {\"temperature\": 17.568761783892697, \"wind\": 23.56533394038428, \"precipitation\": 33.43028312709272, \"condition\": \"fog\"}, {\"temperature\": 37.668328098899124, \"wind\": 25.752457285889363, \"precipitation\": 22.16206318576326, \"condition\": \"fog\"}, {\"temperature\": 5.014064033030415, \"wind\": 35.85304116185546, \"precipitation\": 50.430635606761776, \"condition\": \"drizzle\"}, {\"temperature\": 0.07199515030012726, \"wind\": 2.3037918503235444, \"precipitation\": 43.68655656674591, \"condition\": \"snow\"}, {\"temperature\": 5.954592424892175, \"wind\": 97.51084981729826, \"precipitation\": 18.937945167300562, \"condition\": \"fog\"}, {\"temperature\": 30.328519543203832, \"wind\": 11.124122490003696, \"precipitation\": 16.09587268986017, \"condition\": \"rain\"}, {\"temperature\": 14.46236976140856, \"wind\": 51.39244007969178, \"precipitation\": 51.52316459464377, \"condition\": \"fog\"}, {\"temperature\": 9.396286885496181, \"wind\": 14.413632366424933, \"precipitation\": 58.34025135533383, \"condition\": \"drizzle\"}, {\"temperature\": -7.883075294840844, \"wind\": 98.24018815877206, \"precipitation\": 51.405831276908884, \"condition\": \"snow\"}, {\"temperature\": 36.853296493232534, \"wind\": 17.44230067062308, \"precipitation\": 55.91312117168676, \"condition\": \"drizzle\"}, {\"temperature\": -9.582596783874624, \"wind\": 23.835535427130438, \"precipitation\": 61.605688998244446, \"condition\": \"fog\"}, {\"temperature\": -9.419128745924892, \"wind\": 53.25395558360789, \"precipitation\": 78.4515605013817, \"condition\": \"sun\"}, {\"temperature\": 4.571583314676532, \"wind\": 9.068613866100073, \"precipitation\": 42.448264608376526, \"condition\": \"rain\"}, {\"temperature\": 6.6203336157740615, \"wind\": 35.87691221835703, \"precipitation\": 64.98980696659649, \"condition\": \"rain\"}, {\"temperature\": 20.627672555392106, \"wind\": 28.946823430475742, \"precipitation\": 14.301584887467733, \"condition\": \"rain\"}, {\"temperature\": -9.583736731217567, \"wind\": 83.64814422156614, \"precipitation\": 35.873227198260004, \"condition\": \"snow\"}, {\"temperature\": 11.018260277272166, \"wind\": 82.98059861355699, \"precipitation\": 67.52390799343073, \"condition\": \"drizzle\"}, {\"temperature\": 5.411451095385809, \"wind\": 21.05653192591779, \"precipitation\": 98.10920750481597, \"condition\": \"fog\"}, {\"temperature\": 2.807402352777551, \"wind\": 40.81431754466085, \"precipitation\": 17.10555449196962, \"condition\": \"drizzle\"}, {\"temperature\": 33.60928142306782, \"wind\": 68.86862385408263, \"precipitation\": 1.7511520670655312, \"condition\": \"drizzle\"}, {\"temperature\": -3.7305842295491463, \"wind\": 22.99270590580842, \"precipitation\": 20.45024425044729, \"condition\": \"sun\"}, {\"temperature\": 38.88636288200788, \"wind\": 4.451268770649408, \"precipitation\": 50.18581381273084, \"condition\": \"snow\"}, {\"temperature\": 30.677916880360065, \"wind\": 57.58927095398997, \"precipitation\": 3.882294040985468, \"condition\": \"sun\"}, {\"temperature\": 20.936747003011536, \"wind\": 86.15890903839221, \"precipitation\": 84.64626055952643, \"condition\": \"sun\"}, {\"temperature\": 37.960508459665974, \"wind\": 83.22348385800635, \"precipitation\": 78.09579123477448, \"condition\": \"sun\"}, {\"temperature\": 2.789340992140385, \"wind\": 5.604841844996544, \"precipitation\": 64.23176719571818, \"condition\": \"rain\"}, {\"temperature\": -7.362921707472104, \"wind\": 57.37740217449133, \"precipitation\": 18.499742279296438, \"condition\": \"sun\"}, {\"temperature\": 1.1912189059593281, \"wind\": 46.52929788933954, \"precipitation\": 56.223732701756326, \"condition\": \"rain\"}, {\"temperature\": 5.601287545202137, \"wind\": 10.557820768094484, \"precipitation\": 10.005361911795385, \"condition\": \"sun\"}, {\"temperature\": 38.06145401149945, \"wind\": 40.55588658579815, \"precipitation\": 18.57864165136399, \"condition\": \"rain\"}, {\"temperature\": 10.003338415782952, \"wind\": 0.38143550979561347, \"precipitation\": 3.4323593600883995, \"condition\": \"snow\"}, {\"temperature\": 35.51840784136351, \"wind\": 85.38213169679159, \"precipitation\": 72.28024508142481, \"condition\": \"rain\"}, {\"temperature\": 42.22464006089062, \"wind\": 21.90245982426261, \"precipitation\": 64.4540475166047, \"condition\": \"snow\"}, {\"temperature\": 42.62614276410388, \"wind\": 16.596731146807365, \"precipitation\": 85.31723680641925, \"condition\": \"sun\"}, {\"temperature\": 4.666633193701054, \"wind\": 13.9068281587152, \"precipitation\": 87.48180339020342, \"condition\": \"drizzle\"}, {\"temperature\": 16.15426117162615, \"wind\": 38.00342325742586, \"precipitation\": 47.264072847267016, \"condition\": \"rain\"}, {\"temperature\": 15.032591880472172, \"wind\": 86.42884715473586, \"precipitation\": 81.69554228509587, \"condition\": \"rain\"}, {\"temperature\": 35.19149371217065, \"wind\": 72.5074270480888, \"precipitation\": 22.443215096530544, \"condition\": \"sun\"}, {\"temperature\": 26.84120821812121, \"wind\": 83.91441221303555, \"precipitation\": 63.11915666511897, \"condition\": \"drizzle\"}, {\"temperature\": 34.88005063805122, \"wind\": 45.33004448381994, \"precipitation\": 0.9935886811615613, \"condition\": \"rain\"}, {\"temperature\": 41.376840349386185, \"wind\": 7.544840957817378, \"precipitation\": 54.70235300254609, \"condition\": \"snow\"}, {\"temperature\": 36.960725847409456, \"wind\": 49.46574838149229, \"precipitation\": 85.47567556668297, \"condition\": \"snow\"}, {\"temperature\": 14.586289413415074, \"wind\": 4.489700154671472, \"precipitation\": 10.31362572720238, \"condition\": \"sun\"}, {\"temperature\": 20.04343950622185, \"wind\": 66.32817964057357, \"precipitation\": 74.44590348494177, \"condition\": \"sun\"}, {\"temperature\": 25.469560172224703, \"wind\": 82.06241734640489, \"precipitation\": 61.201009993418275, \"condition\": \"rain\"}, {\"temperature\": 20.070995853722245, \"wind\": 46.445227996549974, \"precipitation\": 53.59556892779981, \"condition\": \"snow\"}, {\"temperature\": 5.685018294722338, \"wind\": 58.17077525039538, \"precipitation\": 31.236078403128474, \"condition\": \"snow\"}, {\"temperature\": 42.487483009401764, \"wind\": 71.08000859923487, \"precipitation\": 61.47201457950021, \"condition\": \"rain\"}, {\"temperature\": -7.079256299328551, \"wind\": 27.004309009604967, \"precipitation\": 19.794263832693815, \"condition\": \"rain\"}, {\"temperature\": -5.045047126960084, \"wind\": 88.93771732732128, \"precipitation\": 99.50453536234512, \"condition\": \"fog\"}, {\"temperature\": 25.4533582484732, \"wind\": 96.38774772376792, \"precipitation\": 69.85460214191481, \"condition\": \"rain\"}, {\"temperature\": 22.955919291252926, \"wind\": 88.48558780603962, \"precipitation\": 40.268588772168876, \"condition\": \"snow\"}, {\"temperature\": 27.507453592914565, \"wind\": 29.838439613656075, \"precipitation\": 27.845875256677367, \"condition\": \"fog\"}, {\"temperature\": -6.870451234225997, \"wind\": 54.90225410574824, \"precipitation\": 29.74026895430255, \"condition\": \"snow\"}, {\"temperature\": 41.66879121402853, \"wind\": 21.388390668516323, \"precipitation\": 23.449697200445573, \"condition\": \"sun\"}, {\"temperature\": 15.838369384298645, \"wind\": 14.553164438107524, \"precipitation\": 78.9078385630916, \"condition\": \"sun\"}, {\"temperature\": 13.794652090601591, \"wind\": 31.915985033787553, \"precipitation\": 65.39000850075058, \"condition\": \"fog\"}, {\"temperature\": -0.24791853446323842, \"wind\": 16.053122209894966, \"precipitation\": 26.219628309452382, \"condition\": \"sun\"}, {\"temperature\": 20.625989859426074, \"wind\": 15.348759697534453, \"precipitation\": 94.2004787208339, \"condition\": \"rain\"}, {\"temperature\": 17.22130558630064, \"wind\": 61.15140884010469, \"precipitation\": 27.79385279217691, \"condition\": \"snow\"}, {\"temperature\": 15.342628921870396, \"wind\": 52.15522860596962, \"precipitation\": 44.258578235337545, \"condition\": \"drizzle\"}, {\"temperature\": 43.28838980732394, \"wind\": 30.617573960681387, \"precipitation\": 90.705784312922, \"condition\": \"drizzle\"}, {\"temperature\": 31.752614189233682, \"wind\": 54.002536771242745, \"precipitation\": 98.5871144935895, \"condition\": \"drizzle\"}, {\"temperature\": 3.5475184692079793, \"wind\": 96.91039458765935, \"precipitation\": 50.00054618320339, \"condition\": \"fog\"}]}}, {\"mode\": \"vega-lite\"});\n</script>",
      "text/plain": "alt.LayerChart(...)"
     },
     "metadata": {},
     "output_type": "display_data"
    }
   ],
   "source": [
    "base = alt.Chart(df)\n",
    "bar = base.mark_bar().encode(\n",
    "    x=alt.X(\n",
    "        field=\"temperature\",\n",
    "        type=\"quantitative\",\n",
    "        aggregate=\"mean\",\n",
    "        scale=alt.Scale(type=\"linear\", zero=True),\n",
    "    ),\n",
    ")\n",
    "tick = base.mark_tick().encode(\n",
    "    x=alt.X(\n",
    "        field=\"temperature\",\n",
    "        type=\"quantitative\",\n",
    "        scale=alt.Scale(type=\"linear\", zero=True),\n",
    "    ),\n",
    ")\n",
    "display_chart(bar + tick)"
   ]
  },
  {
   "cell_type": "markdown",
   "metadata": {},
   "source": [
    "## Facets"
   ]
  },
  {
   "cell_type": "markdown",
   "metadata": {},
   "source": [
    "### Facet Scatterplot into Columns"
   ]
  },
  {
   "cell_type": "code",
   "execution_count": 195,
   "metadata": {},
   "outputs": [
    {
     "name": "stdout",
     "output_type": "stream",
     "text": [
      "{'field': [{'name': 'temperature', 'type': 'number'},\n",
      "           {'name': 'wind', 'type': 'number'},\n",
      "           {'name': 'condition', 'type': 'string'}],\n",
      " 'number_rows': 100,\n",
      " 'view': [{'facet': [{'channel': 'col', 'field': 'condition'}],\n",
      "           'mark': [{'encoding': [{'channel': 'x', 'field': 'temperature'},\n",
      "                                  {'channel': 'y', 'field': 'wind'}],\n",
      "                     'type': 'point'}],\n",
      "           'scale': [{'channel': 'x', 'type': 'linear'},\n",
      "                     {'channel': 'y', 'type': 'linear'}]}]}\n"
     ]
    }
   ],
   "source": [
    "facts = [\n",
    "    \"attribute(number_rows,root,100).\",\n",
    "    \"entity(field,root,temperature).\",\n",
    "    \"attribute((field,name),temperature,temperature).\",\n",
    "    \"attribute((field,type),temperature,number).\",\n",
    "    \"entity(field,root,wind).\",\n",
    "    \"attribute((field,name),wind,wind).\",\n",
    "    \"attribute((field,type),wind,number).\",\n",
    "    \"entity(field,root,condition).\",\n",
    "    \"attribute((field,name),condition,condition).\",\n",
    "    \"attribute((field,type),condition,string).\",\n",
    "    \"entity(view,root,0).\",\n",
    "    \"entity(mark,0,1).\",\n",
    "    \"attribute((mark,type),1,point).\",\n",
    "    \"entity(encoding,1,2).\",\n",
    "    \"attribute((encoding,channel),2,x).\",\n",
    "    \"attribute((encoding,field),2,temperature).\",\n",
    "    \"entity(encoding,1,3).\",\n",
    "    \"attribute((encoding,channel),3,y).\",\n",
    "    \"attribute((encoding,field),3,wind).\",\n",
    "    \"entity(scale,0,4).\",\n",
    "    \"attribute((scale,channel),4,x).\",\n",
    "    \"attribute((scale,type),4,linear).\",\n",
    "    \"entity(scale,0,5).\",\n",
    "    \"attribute((scale,channel),5,y).\",\n",
    "    \"attribute((scale,type),5,linear).\",\n",
    "    \"entity(facet,0,6).\",\n",
    "    \"attribute((facet,channel),6,col).\",\n",
    "    \"attribute((facet,field),6,condition).\",\n",
    "]\n",
    "spec = facts_to_dict(facts)\n",
    "pprint(spec)"
   ]
  },
  {
   "cell_type": "code",
   "execution_count": 196,
   "metadata": {},
   "outputs": [
    {
     "name": "stdout",
     "output_type": "stream",
     "text": [
      "{'$schema': 'https://vega.github.io/schema/vega-lite/v4.17.0.json',\n",
      " 'config': {'view': {'continuousHeight': 300, 'continuousWidth': 400}},\n",
      " 'facet': {'column': {'field': 'condition', 'type': 'nominal'}},\n",
      " 'spec': {'encoding': {'x': {'field': 'temperature', 'type': 'quantitative'},\n",
      "                       'y': {'field': 'wind', 'type': 'quantitative'}},\n",
      "          'mark': 'point'}}\n"
     ]
    },
    {
     "data": {
      "text/html": "\n<div id=\"altair-viz-976c9e3183d442a1ae4a76775228208b\"></div>\n<script type=\"text/javascript\">\n  var VEGA_DEBUG = (typeof VEGA_DEBUG == \"undefined\") ? {} : VEGA_DEBUG;\n  (function(spec, embedOpt){\n    let outputDiv = document.currentScript.previousElementSibling;\n    if (outputDiv.id !== \"altair-viz-976c9e3183d442a1ae4a76775228208b\") {\n      outputDiv = document.getElementById(\"altair-viz-976c9e3183d442a1ae4a76775228208b\");\n    }\n    const paths = {\n      \"vega\": \"https://cdn.jsdelivr.net/npm//vega@5?noext\",\n      \"vega-lib\": \"https://cdn.jsdelivr.net/npm//vega-lib?noext\",\n      \"vega-lite\": \"https://cdn.jsdelivr.net/npm//vega-lite@4.17.0?noext\",\n      \"vega-embed\": \"https://cdn.jsdelivr.net/npm//vega-embed@6?noext\",\n    };\n\n    function maybeLoadScript(lib, version) {\n      var key = `${lib.replace(\"-\", \"\")}_version`;\n      return (VEGA_DEBUG[key] == version) ?\n        Promise.resolve(paths[lib]) :\n        new Promise(function(resolve, reject) {\n          var s = document.createElement('script');\n          document.getElementsByTagName(\"head\")[0].appendChild(s);\n          s.async = true;\n          s.onload = () => {\n            VEGA_DEBUG[key] = version;\n            return resolve(paths[lib]);\n          };\n          s.onerror = () => reject(`Error loading script: ${paths[lib]}`);\n          s.src = paths[lib];\n        });\n    }\n\n    function showError(err) {\n      outputDiv.innerHTML = `<div class=\"error\" style=\"color:red;\">${err}</div>`;\n      throw err;\n    }\n\n    function displayChart(vegaEmbed) {\n      vegaEmbed(outputDiv, spec, embedOpt)\n        .catch(err => showError(`Javascript Error: ${err.message}<br>This usually means there's a typo in your chart specification. See the javascript console for the full traceback.`));\n    }\n\n    if(typeof define === \"function\" && define.amd) {\n      requirejs.config({paths});\n      require([\"vega-embed\"], displayChart, err => showError(`Error loading script: ${err.message}`));\n    } else {\n      maybeLoadScript(\"vega\", \"5\")\n        .then(() => maybeLoadScript(\"vega-lite\", \"4.17.0\"))\n        .then(() => maybeLoadScript(\"vega-embed\", \"6\"))\n        .catch(showError)\n        .then(() => displayChart(vegaEmbed));\n    }\n  })({\"config\": {\"view\": {\"continuousWidth\": 400, \"continuousHeight\": 300}}, \"data\": {\"name\": \"data-62648c40dc40a84dcc0ff734b69b013d\"}, \"facet\": {\"column\": {\"field\": \"condition\", \"type\": \"nominal\"}}, \"spec\": {\"mark\": \"point\", \"encoding\": {\"x\": {\"field\": \"temperature\", \"type\": \"quantitative\"}, \"y\": {\"field\": \"wind\", \"type\": \"quantitative\"}}}, \"$schema\": \"https://vega.github.io/schema/vega-lite/v4.17.0.json\", \"datasets\": {\"data-62648c40dc40a84dcc0ff734b69b013d\": [{\"temperature\": 15.949648750822519, \"wind\": 44.064474882832506, \"precipitation\": 39.57102111167698, \"condition\": \"sun\"}, {\"temperature\": 35.80410298761198, \"wind\": 57.347114406626844, \"precipitation\": 51.104157124186436, \"condition\": \"snow\"}, {\"temperature\": 34.39048786822457, \"wind\": 96.36048231593197, \"precipitation\": 40.96980376900311, \"condition\": \"drizzle\"}, {\"temperature\": 7.204885708939138, \"wind\": 25.146399378672125, \"precipitation\": 85.49017897658906, \"condition\": \"drizzle\"}, {\"temperature\": 19.55284015712061, \"wind\": 57.88396140686759, \"precipitation\": 73.6976786812617, \"condition\": \"sun\"}, {\"temperature\": 40.95867840323979, \"wind\": 18.240723526069058, \"precipitation\": 12.344374169099414, \"condition\": \"drizzle\"}, {\"temperature\": 8.037410652418316, \"wind\": 34.85524928680391, \"precipitation\": 47.39721336761291, \"condition\": \"drizzle\"}, {\"temperature\": -0.9238346314127046, \"wind\": 38.27888770381765, \"precipitation\": 49.084327395470694, \"condition\": \"snow\"}, {\"temperature\": 5.432162476529914, \"wind\": 26.375774021896824, \"precipitation\": 11.84973364714308, \"condition\": \"fog\"}, {\"temperature\": -0.5233284049906253, \"wind\": 20.341299498563536, \"precipitation\": 17.599397407184547, \"condition\": \"rain\"}, {\"temperature\": -0.32120652264539906, \"wind\": 56.70670804712174, \"precipitation\": 27.900390497052797, \"condition\": \"snow\"}, {\"temperature\": -5.8172209322540835, \"wind\": 7.922327363206739, \"precipitation\": 58.97450879694346, \"condition\": \"sun\"}, {\"temperature\": 29.348029927183475, \"wind\": 42.36486641293023, \"precipitation\": 52.297851298205714, \"condition\": \"snow\"}, {\"temperature\": -3.170224211296139, \"wind\": 25.422063817654927, \"precipitation\": 75.95709912967573, \"condition\": \"sun\"}, {\"temperature\": 29.762058145832015, \"wind\": 60.50785926641081, \"precipitation\": 27.63426836016134, \"condition\": \"sun\"}, {\"temperature\": -2.4226248703646167, \"wind\": 71.82451957436714, \"precipitation\": 27.866577679535155, \"condition\": \"rain\"}, {\"temperature\": 27.72342502276807, \"wind\": 25.495165547172526, \"precipitation\": 56.952472897674525, \"condition\": \"rain\"}, {\"temperature\": 42.86155275131322, \"wind\": 64.07798840013274, \"precipitation\": 43.20732916361416, \"condition\": \"drizzle\"}, {\"temperature\": 17.672356545916294, \"wind\": 69.76681823406481, \"precipitation\": 4.878513449934685, \"condition\": \"snow\"}, {\"temperature\": 14.10656929258668, \"wind\": 57.176270850584096, \"precipitation\": 22.99874996214144, \"condition\": \"sun\"}, {\"temperature\": 13.738975343826219, \"wind\": 47.92233289336022, \"precipitation\": 14.35681797090771, \"condition\": \"drizzle\"}, {\"temperature\": 38.54857944378019, \"wind\": 71.3951998928714, \"precipitation\": 47.86763119099666, \"condition\": \"rain\"}, {\"temperature\": 35.41541728844566, \"wind\": 15.372466094026361, \"precipitation\": 10.140892669165568, \"condition\": \"drizzle\"}, {\"temperature\": 42.8109485726051, \"wind\": 19.292730074798236, \"precipitation\": 83.72184051359054, \"condition\": \"sun\"}, {\"temperature\": 5.541837860134734, \"wind\": 37.91528502390926, \"precipitation\": 1.806095907348293, \"condition\": \"rain\"}, {\"temperature\": 31.26072818540954, \"wind\": 25.613046818128893, \"precipitation\": 93.99993502991724, \"condition\": \"snow\"}, {\"temperature\": 12.652262480706526, \"wind\": 19.716955298970042, \"precipitation\": 4.277209571833773, \"condition\": \"snow\"}, {\"temperature\": 27.464734441100425, \"wind\": 18.45750848171699, \"precipitation\": 14.862245845341137, \"condition\": \"snow\"}, {\"temperature\": 39.17194283180486, \"wind\": 62.584966101983305, \"precipitation\": 61.90806088367137, \"condition\": \"drizzle\"}, {\"temperature\": 20.57556038458332, \"wind\": 6.979458445589614, \"precipitation\": 26.20161503090155, \"condition\": \"fog\"}, {\"temperature\": 43.4376707328582, \"wind\": 91.72880025636312, \"precipitation\": 49.92669754392897, \"condition\": \"rain\"}, {\"temperature\": 37.392448305959796, \"wind\": 37.3453361137289, \"precipitation\": 79.01145543700821, \"condition\": \"rain\"}, {\"temperature\": -0.9740355983502056, \"wind\": 52.36556373635527, \"precipitation\": 30.452338583138562, \"condition\": \"fog\"}, {\"temperature\": 32.483093158374864, \"wind\": 88.0719315131664, \"precipitation\": 79.80325870322564, \"condition\": \"drizzle\"}, {\"temperature\": 35.06833977125789, \"wind\": 20.182255224013822, \"precipitation\": 68.32831560054159, \"condition\": \"drizzle\"}, {\"temperature\": 30.648689765220006, \"wind\": 70.20845647358497, \"precipitation\": 14.839756419615913, \"condition\": \"fog\"}, {\"temperature\": 17.568761783892697, \"wind\": 23.56533394038428, \"precipitation\": 33.43028312709272, \"condition\": \"fog\"}, {\"temperature\": 37.668328098899124, \"wind\": 25.752457285889363, \"precipitation\": 22.16206318576326, \"condition\": \"fog\"}, {\"temperature\": 5.014064033030415, \"wind\": 35.85304116185546, \"precipitation\": 50.430635606761776, \"condition\": \"drizzle\"}, {\"temperature\": 0.07199515030012726, \"wind\": 2.3037918503235444, \"precipitation\": 43.68655656674591, \"condition\": \"snow\"}, {\"temperature\": 5.954592424892175, \"wind\": 97.51084981729826, \"precipitation\": 18.937945167300562, \"condition\": \"fog\"}, {\"temperature\": 30.328519543203832, \"wind\": 11.124122490003696, \"precipitation\": 16.09587268986017, \"condition\": \"rain\"}, {\"temperature\": 14.46236976140856, \"wind\": 51.39244007969178, \"precipitation\": 51.52316459464377, \"condition\": \"fog\"}, {\"temperature\": 9.396286885496181, \"wind\": 14.413632366424933, \"precipitation\": 58.34025135533383, \"condition\": \"drizzle\"}, {\"temperature\": -7.883075294840844, \"wind\": 98.24018815877206, \"precipitation\": 51.405831276908884, \"condition\": \"snow\"}, {\"temperature\": 36.853296493232534, \"wind\": 17.44230067062308, \"precipitation\": 55.91312117168676, \"condition\": \"drizzle\"}, {\"temperature\": -9.582596783874624, \"wind\": 23.835535427130438, \"precipitation\": 61.605688998244446, \"condition\": \"fog\"}, {\"temperature\": -9.419128745924892, \"wind\": 53.25395558360789, \"precipitation\": 78.4515605013817, \"condition\": \"sun\"}, {\"temperature\": 4.571583314676532, \"wind\": 9.068613866100073, \"precipitation\": 42.448264608376526, \"condition\": \"rain\"}, {\"temperature\": 6.6203336157740615, \"wind\": 35.87691221835703, \"precipitation\": 64.98980696659649, \"condition\": \"rain\"}, {\"temperature\": 20.627672555392106, \"wind\": 28.946823430475742, \"precipitation\": 14.301584887467733, \"condition\": \"rain\"}, {\"temperature\": -9.583736731217567, \"wind\": 83.64814422156614, \"precipitation\": 35.873227198260004, \"condition\": \"snow\"}, {\"temperature\": 11.018260277272166, \"wind\": 82.98059861355699, \"precipitation\": 67.52390799343073, \"condition\": \"drizzle\"}, {\"temperature\": 5.411451095385809, \"wind\": 21.05653192591779, \"precipitation\": 98.10920750481597, \"condition\": \"fog\"}, {\"temperature\": 2.807402352777551, \"wind\": 40.81431754466085, \"precipitation\": 17.10555449196962, \"condition\": \"drizzle\"}, {\"temperature\": 33.60928142306782, \"wind\": 68.86862385408263, \"precipitation\": 1.7511520670655312, \"condition\": \"drizzle\"}, {\"temperature\": -3.7305842295491463, \"wind\": 22.99270590580842, \"precipitation\": 20.45024425044729, \"condition\": \"sun\"}, {\"temperature\": 38.88636288200788, \"wind\": 4.451268770649408, \"precipitation\": 50.18581381273084, \"condition\": \"snow\"}, {\"temperature\": 30.677916880360065, \"wind\": 57.58927095398997, \"precipitation\": 3.882294040985468, \"condition\": \"sun\"}, {\"temperature\": 20.936747003011536, \"wind\": 86.15890903839221, \"precipitation\": 84.64626055952643, \"condition\": \"sun\"}, {\"temperature\": 37.960508459665974, \"wind\": 83.22348385800635, \"precipitation\": 78.09579123477448, \"condition\": \"sun\"}, {\"temperature\": 2.789340992140385, \"wind\": 5.604841844996544, \"precipitation\": 64.23176719571818, \"condition\": \"rain\"}, {\"temperature\": -7.362921707472104, \"wind\": 57.37740217449133, \"precipitation\": 18.499742279296438, \"condition\": \"sun\"}, {\"temperature\": 1.1912189059593281, \"wind\": 46.52929788933954, \"precipitation\": 56.223732701756326, \"condition\": \"rain\"}, {\"temperature\": 5.601287545202137, \"wind\": 10.557820768094484, \"precipitation\": 10.005361911795385, \"condition\": \"sun\"}, {\"temperature\": 38.06145401149945, \"wind\": 40.55588658579815, \"precipitation\": 18.57864165136399, \"condition\": \"rain\"}, {\"temperature\": 10.003338415782952, \"wind\": 0.38143550979561347, \"precipitation\": 3.4323593600883995, \"condition\": \"snow\"}, {\"temperature\": 35.51840784136351, \"wind\": 85.38213169679159, \"precipitation\": 72.28024508142481, \"condition\": \"rain\"}, {\"temperature\": 42.22464006089062, \"wind\": 21.90245982426261, \"precipitation\": 64.4540475166047, \"condition\": \"snow\"}, {\"temperature\": 42.62614276410388, \"wind\": 16.596731146807365, \"precipitation\": 85.31723680641925, \"condition\": \"sun\"}, {\"temperature\": 4.666633193701054, \"wind\": 13.9068281587152, \"precipitation\": 87.48180339020342, \"condition\": \"drizzle\"}, {\"temperature\": 16.15426117162615, \"wind\": 38.00342325742586, \"precipitation\": 47.264072847267016, \"condition\": \"rain\"}, {\"temperature\": 15.032591880472172, \"wind\": 86.42884715473586, \"precipitation\": 81.69554228509587, \"condition\": \"rain\"}, {\"temperature\": 35.19149371217065, \"wind\": 72.5074270480888, \"precipitation\": 22.443215096530544, \"condition\": \"sun\"}, {\"temperature\": 26.84120821812121, \"wind\": 83.91441221303555, \"precipitation\": 63.11915666511897, \"condition\": \"drizzle\"}, {\"temperature\": 34.88005063805122, \"wind\": 45.33004448381994, \"precipitation\": 0.9935886811615613, \"condition\": \"rain\"}, {\"temperature\": 41.376840349386185, \"wind\": 7.544840957817378, \"precipitation\": 54.70235300254609, \"condition\": \"snow\"}, {\"temperature\": 36.960725847409456, \"wind\": 49.46574838149229, \"precipitation\": 85.47567556668297, \"condition\": \"snow\"}, {\"temperature\": 14.586289413415074, \"wind\": 4.489700154671472, \"precipitation\": 10.31362572720238, \"condition\": \"sun\"}, {\"temperature\": 20.04343950622185, \"wind\": 66.32817964057357, \"precipitation\": 74.44590348494177, \"condition\": \"sun\"}, {\"temperature\": 25.469560172224703, \"wind\": 82.06241734640489, \"precipitation\": 61.201009993418275, \"condition\": \"rain\"}, {\"temperature\": 20.070995853722245, \"wind\": 46.445227996549974, \"precipitation\": 53.59556892779981, \"condition\": \"snow\"}, {\"temperature\": 5.685018294722338, \"wind\": 58.17077525039538, \"precipitation\": 31.236078403128474, \"condition\": \"snow\"}, {\"temperature\": 42.487483009401764, \"wind\": 71.08000859923487, \"precipitation\": 61.47201457950021, \"condition\": \"rain\"}, {\"temperature\": -7.079256299328551, \"wind\": 27.004309009604967, \"precipitation\": 19.794263832693815, \"condition\": \"rain\"}, {\"temperature\": -5.045047126960084, \"wind\": 88.93771732732128, \"precipitation\": 99.50453536234512, \"condition\": \"fog\"}, {\"temperature\": 25.4533582484732, \"wind\": 96.38774772376792, \"precipitation\": 69.85460214191481, \"condition\": \"rain\"}, {\"temperature\": 22.955919291252926, \"wind\": 88.48558780603962, \"precipitation\": 40.268588772168876, \"condition\": \"snow\"}, {\"temperature\": 27.507453592914565, \"wind\": 29.838439613656075, \"precipitation\": 27.845875256677367, \"condition\": \"fog\"}, {\"temperature\": -6.870451234225997, \"wind\": 54.90225410574824, \"precipitation\": 29.74026895430255, \"condition\": \"snow\"}, {\"temperature\": 41.66879121402853, \"wind\": 21.388390668516323, \"precipitation\": 23.449697200445573, \"condition\": \"sun\"}, {\"temperature\": 15.838369384298645, \"wind\": 14.553164438107524, \"precipitation\": 78.9078385630916, \"condition\": \"sun\"}, {\"temperature\": 13.794652090601591, \"wind\": 31.915985033787553, \"precipitation\": 65.39000850075058, \"condition\": \"fog\"}, {\"temperature\": -0.24791853446323842, \"wind\": 16.053122209894966, \"precipitation\": 26.219628309452382, \"condition\": \"sun\"}, {\"temperature\": 20.625989859426074, \"wind\": 15.348759697534453, \"precipitation\": 94.2004787208339, \"condition\": \"rain\"}, {\"temperature\": 17.22130558630064, \"wind\": 61.15140884010469, \"precipitation\": 27.79385279217691, \"condition\": \"snow\"}, {\"temperature\": 15.342628921870396, \"wind\": 52.15522860596962, \"precipitation\": 44.258578235337545, \"condition\": \"drizzle\"}, {\"temperature\": 43.28838980732394, \"wind\": 30.617573960681387, \"precipitation\": 90.705784312922, \"condition\": \"drizzle\"}, {\"temperature\": 31.752614189233682, \"wind\": 54.002536771242745, \"precipitation\": 98.5871144935895, \"condition\": \"drizzle\"}, {\"temperature\": 3.5475184692079793, \"wind\": 96.91039458765935, \"precipitation\": 50.00054618320339, \"condition\": \"fog\"}]}}, {\"mode\": \"vega-lite\"});\n</script>",
      "text/plain": "alt.FacetChart(...)"
     },
     "metadata": {},
     "output_type": "display_data"
    }
   ],
   "source": [
    "base = alt.Chart(df)\n",
    "point = base.mark_point().encode(\n",
    "    x=alt.X(field=\"temperature\", type=\"quantitative\"),\n",
    "    y=alt.Y(field=\"wind\", type=\"quantitative\"),\n",
    ")\n",
    "facet = point.facet(column=alt.Column(field=\"condition\", type=\"nominal\"))\n",
    "display_chart(facet)"
   ]
  },
  {
   "cell_type": "markdown",
   "metadata": {},
   "source": [
    "### Facet Scatterplot by Binned Data into Columns"
   ]
  },
  {
   "cell_type": "code",
   "execution_count": 197,
   "metadata": {},
   "outputs": [
    {
     "name": "stdout",
     "output_type": "stream",
     "text": [
      "{'field': [{'name': 'temperature', 'type': 'number'},\n",
      "           {'name': 'wind', 'type': 'number'},\n",
      "           {'name': 'condition', 'type': 'string'}],\n",
      " 'number_rows': 100,\n",
      " 'view': [{'facet': [{'binning': 10, 'channel': 'col', 'field': 'temperature'}],\n",
      "           'mark': [{'encoding': [{'channel': 'x', 'field': 'condition'},\n",
      "                                  {'channel': 'y', 'field': 'wind'}],\n",
      "                     'type': 'point'}],\n",
      "           'scale': [{'channel': 'x', 'type': 'ordinal'},\n",
      "                     {'channel': 'y', 'type': 'linear'}]}]}\n"
     ]
    }
   ],
   "source": [
    "facts = [\n",
    "    \"attribute(number_rows,root,100).\",\n",
    "    \"entity(field,root,temperature).\",\n",
    "    \"attribute((field,name),temperature,temperature).\",\n",
    "    \"attribute((field,type),temperature,number).\",\n",
    "    \"entity(field,root,wind).\",\n",
    "    \"attribute((field,name),wind,wind).\",\n",
    "    \"attribute((field,type),wind,number).\",\n",
    "    \"entity(field,root,condition).\",\n",
    "    \"attribute((field,name),condition,condition).\",\n",
    "    \"attribute((field,type),condition,string).\",\n",
    "    \"entity(view,root,0).\",\n",
    "    \"entity(mark,0,1).\",\n",
    "    \"attribute((mark,type),1,point).\",\n",
    "    \"entity(encoding,1,2).\",\n",
    "    \"attribute((encoding,channel),2,x).\",\n",
    "    \"attribute((encoding,field),2,condition).\",\n",
    "    \"entity(encoding,1,3).\",\n",
    "    \"attribute((encoding,channel),3,y).\",\n",
    "    \"attribute((encoding,field),3,wind).\",\n",
    "    \"entity(scale,0,4).\",\n",
    "    \"attribute((scale,channel),4,x).\",\n",
    "    \"attribute((scale,type),4,ordinal).\",\n",
    "    \"entity(scale,0,5).\",\n",
    "    \"attribute((scale,channel),5,y).\",\n",
    "    \"attribute((scale,type),5,linear).\",\n",
    "    \"entity(facet,0,6).\",\n",
    "    \"attribute((facet,channel),6,col).\",\n",
    "    \"attribute((facet,field),6,temperature).\",\n",
    "    \"attribute((facet,binning),6,10).\",\n",
    "]\n",
    "spec = facts_to_dict(facts)\n",
    "pprint(spec)"
   ]
  },
  {
   "cell_type": "code",
   "execution_count": 198,
   "metadata": {},
   "outputs": [
    {
     "name": "stdout",
     "output_type": "stream",
     "text": [
      "{'$schema': 'https://vega.github.io/schema/vega-lite/v4.17.0.json',\n",
      " 'config': {'view': {'continuousHeight': 300, 'continuousWidth': 400}},\n",
      " 'facet': {'column': {'bin': {'maxbins': 10},\n",
      "                      'field': 'temperature',\n",
      "                      'type': 'quantitative'}},\n",
      " 'spec': {'encoding': {'x': {'field': 'condition',\n",
      "                             'scale': {'type': 'ordinal'},\n",
      "                             'type': 'nominal'},\n",
      "                       'y': {'field': 'wind',\n",
      "                             'scale': {'type': 'linear'},\n",
      "                             'type': 'quantitative'}},\n",
      "          'mark': 'point'}}\n"
     ]
    },
    {
     "data": {
      "text/html": "\n<div id=\"altair-viz-8687013e82ad4a8d977d030f432b34eb\"></div>\n<script type=\"text/javascript\">\n  var VEGA_DEBUG = (typeof VEGA_DEBUG == \"undefined\") ? {} : VEGA_DEBUG;\n  (function(spec, embedOpt){\n    let outputDiv = document.currentScript.previousElementSibling;\n    if (outputDiv.id !== \"altair-viz-8687013e82ad4a8d977d030f432b34eb\") {\n      outputDiv = document.getElementById(\"altair-viz-8687013e82ad4a8d977d030f432b34eb\");\n    }\n    const paths = {\n      \"vega\": \"https://cdn.jsdelivr.net/npm//vega@5?noext\",\n      \"vega-lib\": \"https://cdn.jsdelivr.net/npm//vega-lib?noext\",\n      \"vega-lite\": \"https://cdn.jsdelivr.net/npm//vega-lite@4.17.0?noext\",\n      \"vega-embed\": \"https://cdn.jsdelivr.net/npm//vega-embed@6?noext\",\n    };\n\n    function maybeLoadScript(lib, version) {\n      var key = `${lib.replace(\"-\", \"\")}_version`;\n      return (VEGA_DEBUG[key] == version) ?\n        Promise.resolve(paths[lib]) :\n        new Promise(function(resolve, reject) {\n          var s = document.createElement('script');\n          document.getElementsByTagName(\"head\")[0].appendChild(s);\n          s.async = true;\n          s.onload = () => {\n            VEGA_DEBUG[key] = version;\n            return resolve(paths[lib]);\n          };\n          s.onerror = () => reject(`Error loading script: ${paths[lib]}`);\n          s.src = paths[lib];\n        });\n    }\n\n    function showError(err) {\n      outputDiv.innerHTML = `<div class=\"error\" style=\"color:red;\">${err}</div>`;\n      throw err;\n    }\n\n    function displayChart(vegaEmbed) {\n      vegaEmbed(outputDiv, spec, embedOpt)\n        .catch(err => showError(`Javascript Error: ${err.message}<br>This usually means there's a typo in your chart specification. See the javascript console for the full traceback.`));\n    }\n\n    if(typeof define === \"function\" && define.amd) {\n      requirejs.config({paths});\n      require([\"vega-embed\"], displayChart, err => showError(`Error loading script: ${err.message}`));\n    } else {\n      maybeLoadScript(\"vega\", \"5\")\n        .then(() => maybeLoadScript(\"vega-lite\", \"4.17.0\"))\n        .then(() => maybeLoadScript(\"vega-embed\", \"6\"))\n        .catch(showError)\n        .then(() => displayChart(vegaEmbed));\n    }\n  })({\"config\": {\"view\": {\"continuousWidth\": 400, \"continuousHeight\": 300}}, \"data\": {\"name\": \"data-62648c40dc40a84dcc0ff734b69b013d\"}, \"facet\": {\"column\": {\"bin\": {\"maxbins\": 10}, \"field\": \"temperature\", \"type\": \"quantitative\"}}, \"spec\": {\"mark\": \"point\", \"encoding\": {\"x\": {\"field\": \"condition\", \"scale\": {\"type\": \"ordinal\"}, \"type\": \"nominal\"}, \"y\": {\"field\": \"wind\", \"scale\": {\"type\": \"linear\"}, \"type\": \"quantitative\"}}}, \"$schema\": \"https://vega.github.io/schema/vega-lite/v4.17.0.json\", \"datasets\": {\"data-62648c40dc40a84dcc0ff734b69b013d\": [{\"temperature\": 15.949648750822519, \"wind\": 44.064474882832506, \"precipitation\": 39.57102111167698, \"condition\": \"sun\"}, {\"temperature\": 35.80410298761198, \"wind\": 57.347114406626844, \"precipitation\": 51.104157124186436, \"condition\": \"snow\"}, {\"temperature\": 34.39048786822457, \"wind\": 96.36048231593197, \"precipitation\": 40.96980376900311, \"condition\": \"drizzle\"}, {\"temperature\": 7.204885708939138, \"wind\": 25.146399378672125, \"precipitation\": 85.49017897658906, \"condition\": \"drizzle\"}, {\"temperature\": 19.55284015712061, \"wind\": 57.88396140686759, \"precipitation\": 73.6976786812617, \"condition\": \"sun\"}, {\"temperature\": 40.95867840323979, \"wind\": 18.240723526069058, \"precipitation\": 12.344374169099414, \"condition\": \"drizzle\"}, {\"temperature\": 8.037410652418316, \"wind\": 34.85524928680391, \"precipitation\": 47.39721336761291, \"condition\": \"drizzle\"}, {\"temperature\": -0.9238346314127046, \"wind\": 38.27888770381765, \"precipitation\": 49.084327395470694, \"condition\": \"snow\"}, {\"temperature\": 5.432162476529914, \"wind\": 26.375774021896824, \"precipitation\": 11.84973364714308, \"condition\": \"fog\"}, {\"temperature\": -0.5233284049906253, \"wind\": 20.341299498563536, \"precipitation\": 17.599397407184547, \"condition\": \"rain\"}, {\"temperature\": -0.32120652264539906, \"wind\": 56.70670804712174, \"precipitation\": 27.900390497052797, \"condition\": \"snow\"}, {\"temperature\": -5.8172209322540835, \"wind\": 7.922327363206739, \"precipitation\": 58.97450879694346, \"condition\": \"sun\"}, {\"temperature\": 29.348029927183475, \"wind\": 42.36486641293023, \"precipitation\": 52.297851298205714, \"condition\": \"snow\"}, {\"temperature\": -3.170224211296139, \"wind\": 25.422063817654927, \"precipitation\": 75.95709912967573, \"condition\": \"sun\"}, {\"temperature\": 29.762058145832015, \"wind\": 60.50785926641081, \"precipitation\": 27.63426836016134, \"condition\": \"sun\"}, {\"temperature\": -2.4226248703646167, \"wind\": 71.82451957436714, \"precipitation\": 27.866577679535155, \"condition\": \"rain\"}, {\"temperature\": 27.72342502276807, \"wind\": 25.495165547172526, \"precipitation\": 56.952472897674525, \"condition\": \"rain\"}, {\"temperature\": 42.86155275131322, \"wind\": 64.07798840013274, \"precipitation\": 43.20732916361416, \"condition\": \"drizzle\"}, {\"temperature\": 17.672356545916294, \"wind\": 69.76681823406481, \"precipitation\": 4.878513449934685, \"condition\": \"snow\"}, {\"temperature\": 14.10656929258668, \"wind\": 57.176270850584096, \"precipitation\": 22.99874996214144, \"condition\": \"sun\"}, {\"temperature\": 13.738975343826219, \"wind\": 47.92233289336022, \"precipitation\": 14.35681797090771, \"condition\": \"drizzle\"}, {\"temperature\": 38.54857944378019, \"wind\": 71.3951998928714, \"precipitation\": 47.86763119099666, \"condition\": \"rain\"}, {\"temperature\": 35.41541728844566, \"wind\": 15.372466094026361, \"precipitation\": 10.140892669165568, \"condition\": \"drizzle\"}, {\"temperature\": 42.8109485726051, \"wind\": 19.292730074798236, \"precipitation\": 83.72184051359054, \"condition\": \"sun\"}, {\"temperature\": 5.541837860134734, \"wind\": 37.91528502390926, \"precipitation\": 1.806095907348293, \"condition\": \"rain\"}, {\"temperature\": 31.26072818540954, \"wind\": 25.613046818128893, \"precipitation\": 93.99993502991724, \"condition\": \"snow\"}, {\"temperature\": 12.652262480706526, \"wind\": 19.716955298970042, \"precipitation\": 4.277209571833773, \"condition\": \"snow\"}, {\"temperature\": 27.464734441100425, \"wind\": 18.45750848171699, \"precipitation\": 14.862245845341137, \"condition\": \"snow\"}, {\"temperature\": 39.17194283180486, \"wind\": 62.584966101983305, \"precipitation\": 61.90806088367137, \"condition\": \"drizzle\"}, {\"temperature\": 20.57556038458332, \"wind\": 6.979458445589614, \"precipitation\": 26.20161503090155, \"condition\": \"fog\"}, {\"temperature\": 43.4376707328582, \"wind\": 91.72880025636312, \"precipitation\": 49.92669754392897, \"condition\": \"rain\"}, {\"temperature\": 37.392448305959796, \"wind\": 37.3453361137289, \"precipitation\": 79.01145543700821, \"condition\": \"rain\"}, {\"temperature\": -0.9740355983502056, \"wind\": 52.36556373635527, \"precipitation\": 30.452338583138562, \"condition\": \"fog\"}, {\"temperature\": 32.483093158374864, \"wind\": 88.0719315131664, \"precipitation\": 79.80325870322564, \"condition\": \"drizzle\"}, {\"temperature\": 35.06833977125789, \"wind\": 20.182255224013822, \"precipitation\": 68.32831560054159, \"condition\": \"drizzle\"}, {\"temperature\": 30.648689765220006, \"wind\": 70.20845647358497, \"precipitation\": 14.839756419615913, \"condition\": \"fog\"}, {\"temperature\": 17.568761783892697, \"wind\": 23.56533394038428, \"precipitation\": 33.43028312709272, \"condition\": \"fog\"}, {\"temperature\": 37.668328098899124, \"wind\": 25.752457285889363, \"precipitation\": 22.16206318576326, \"condition\": \"fog\"}, {\"temperature\": 5.014064033030415, \"wind\": 35.85304116185546, \"precipitation\": 50.430635606761776, \"condition\": \"drizzle\"}, {\"temperature\": 0.07199515030012726, \"wind\": 2.3037918503235444, \"precipitation\": 43.68655656674591, \"condition\": \"snow\"}, {\"temperature\": 5.954592424892175, \"wind\": 97.51084981729826, \"precipitation\": 18.937945167300562, \"condition\": \"fog\"}, {\"temperature\": 30.328519543203832, \"wind\": 11.124122490003696, \"precipitation\": 16.09587268986017, \"condition\": \"rain\"}, {\"temperature\": 14.46236976140856, \"wind\": 51.39244007969178, \"precipitation\": 51.52316459464377, \"condition\": \"fog\"}, {\"temperature\": 9.396286885496181, \"wind\": 14.413632366424933, \"precipitation\": 58.34025135533383, \"condition\": \"drizzle\"}, {\"temperature\": -7.883075294840844, \"wind\": 98.24018815877206, \"precipitation\": 51.405831276908884, \"condition\": \"snow\"}, {\"temperature\": 36.853296493232534, \"wind\": 17.44230067062308, \"precipitation\": 55.91312117168676, \"condition\": \"drizzle\"}, {\"temperature\": -9.582596783874624, \"wind\": 23.835535427130438, \"precipitation\": 61.605688998244446, \"condition\": \"fog\"}, {\"temperature\": -9.419128745924892, \"wind\": 53.25395558360789, \"precipitation\": 78.4515605013817, \"condition\": \"sun\"}, {\"temperature\": 4.571583314676532, \"wind\": 9.068613866100073, \"precipitation\": 42.448264608376526, \"condition\": \"rain\"}, {\"temperature\": 6.6203336157740615, \"wind\": 35.87691221835703, \"precipitation\": 64.98980696659649, \"condition\": \"rain\"}, {\"temperature\": 20.627672555392106, \"wind\": 28.946823430475742, \"precipitation\": 14.301584887467733, \"condition\": \"rain\"}, {\"temperature\": -9.583736731217567, \"wind\": 83.64814422156614, \"precipitation\": 35.873227198260004, \"condition\": \"snow\"}, {\"temperature\": 11.018260277272166, \"wind\": 82.98059861355699, \"precipitation\": 67.52390799343073, \"condition\": \"drizzle\"}, {\"temperature\": 5.411451095385809, \"wind\": 21.05653192591779, \"precipitation\": 98.10920750481597, \"condition\": \"fog\"}, {\"temperature\": 2.807402352777551, \"wind\": 40.81431754466085, \"precipitation\": 17.10555449196962, \"condition\": \"drizzle\"}, {\"temperature\": 33.60928142306782, \"wind\": 68.86862385408263, \"precipitation\": 1.7511520670655312, \"condition\": \"drizzle\"}, {\"temperature\": -3.7305842295491463, \"wind\": 22.99270590580842, \"precipitation\": 20.45024425044729, \"condition\": \"sun\"}, {\"temperature\": 38.88636288200788, \"wind\": 4.451268770649408, \"precipitation\": 50.18581381273084, \"condition\": \"snow\"}, {\"temperature\": 30.677916880360065, \"wind\": 57.58927095398997, \"precipitation\": 3.882294040985468, \"condition\": \"sun\"}, {\"temperature\": 20.936747003011536, \"wind\": 86.15890903839221, \"precipitation\": 84.64626055952643, \"condition\": \"sun\"}, {\"temperature\": 37.960508459665974, \"wind\": 83.22348385800635, \"precipitation\": 78.09579123477448, \"condition\": \"sun\"}, {\"temperature\": 2.789340992140385, \"wind\": 5.604841844996544, \"precipitation\": 64.23176719571818, \"condition\": \"rain\"}, {\"temperature\": -7.362921707472104, \"wind\": 57.37740217449133, \"precipitation\": 18.499742279296438, \"condition\": \"sun\"}, {\"temperature\": 1.1912189059593281, \"wind\": 46.52929788933954, \"precipitation\": 56.223732701756326, \"condition\": \"rain\"}, {\"temperature\": 5.601287545202137, \"wind\": 10.557820768094484, \"precipitation\": 10.005361911795385, \"condition\": \"sun\"}, {\"temperature\": 38.06145401149945, \"wind\": 40.55588658579815, \"precipitation\": 18.57864165136399, \"condition\": \"rain\"}, {\"temperature\": 10.003338415782952, \"wind\": 0.38143550979561347, \"precipitation\": 3.4323593600883995, \"condition\": \"snow\"}, {\"temperature\": 35.51840784136351, \"wind\": 85.38213169679159, \"precipitation\": 72.28024508142481, \"condition\": \"rain\"}, {\"temperature\": 42.22464006089062, \"wind\": 21.90245982426261, \"precipitation\": 64.4540475166047, \"condition\": \"snow\"}, {\"temperature\": 42.62614276410388, \"wind\": 16.596731146807365, \"precipitation\": 85.31723680641925, \"condition\": \"sun\"}, {\"temperature\": 4.666633193701054, \"wind\": 13.9068281587152, \"precipitation\": 87.48180339020342, \"condition\": \"drizzle\"}, {\"temperature\": 16.15426117162615, \"wind\": 38.00342325742586, \"precipitation\": 47.264072847267016, \"condition\": \"rain\"}, {\"temperature\": 15.032591880472172, \"wind\": 86.42884715473586, \"precipitation\": 81.69554228509587, \"condition\": \"rain\"}, {\"temperature\": 35.19149371217065, \"wind\": 72.5074270480888, \"precipitation\": 22.443215096530544, \"condition\": \"sun\"}, {\"temperature\": 26.84120821812121, \"wind\": 83.91441221303555, \"precipitation\": 63.11915666511897, \"condition\": \"drizzle\"}, {\"temperature\": 34.88005063805122, \"wind\": 45.33004448381994, \"precipitation\": 0.9935886811615613, \"condition\": \"rain\"}, {\"temperature\": 41.376840349386185, \"wind\": 7.544840957817378, \"precipitation\": 54.70235300254609, \"condition\": \"snow\"}, {\"temperature\": 36.960725847409456, \"wind\": 49.46574838149229, \"precipitation\": 85.47567556668297, \"condition\": \"snow\"}, {\"temperature\": 14.586289413415074, \"wind\": 4.489700154671472, \"precipitation\": 10.31362572720238, \"condition\": \"sun\"}, {\"temperature\": 20.04343950622185, \"wind\": 66.32817964057357, \"precipitation\": 74.44590348494177, \"condition\": \"sun\"}, {\"temperature\": 25.469560172224703, \"wind\": 82.06241734640489, \"precipitation\": 61.201009993418275, \"condition\": \"rain\"}, {\"temperature\": 20.070995853722245, \"wind\": 46.445227996549974, \"precipitation\": 53.59556892779981, \"condition\": \"snow\"}, {\"temperature\": 5.685018294722338, \"wind\": 58.17077525039538, \"precipitation\": 31.236078403128474, \"condition\": \"snow\"}, {\"temperature\": 42.487483009401764, \"wind\": 71.08000859923487, \"precipitation\": 61.47201457950021, \"condition\": \"rain\"}, {\"temperature\": -7.079256299328551, \"wind\": 27.004309009604967, \"precipitation\": 19.794263832693815, \"condition\": \"rain\"}, {\"temperature\": -5.045047126960084, \"wind\": 88.93771732732128, \"precipitation\": 99.50453536234512, \"condition\": \"fog\"}, {\"temperature\": 25.4533582484732, \"wind\": 96.38774772376792, \"precipitation\": 69.85460214191481, \"condition\": \"rain\"}, {\"temperature\": 22.955919291252926, \"wind\": 88.48558780603962, \"precipitation\": 40.268588772168876, \"condition\": \"snow\"}, {\"temperature\": 27.507453592914565, \"wind\": 29.838439613656075, \"precipitation\": 27.845875256677367, \"condition\": \"fog\"}, {\"temperature\": -6.870451234225997, \"wind\": 54.90225410574824, \"precipitation\": 29.74026895430255, \"condition\": \"snow\"}, {\"temperature\": 41.66879121402853, \"wind\": 21.388390668516323, \"precipitation\": 23.449697200445573, \"condition\": \"sun\"}, {\"temperature\": 15.838369384298645, \"wind\": 14.553164438107524, \"precipitation\": 78.9078385630916, \"condition\": \"sun\"}, {\"temperature\": 13.794652090601591, \"wind\": 31.915985033787553, \"precipitation\": 65.39000850075058, \"condition\": \"fog\"}, {\"temperature\": -0.24791853446323842, \"wind\": 16.053122209894966, \"precipitation\": 26.219628309452382, \"condition\": \"sun\"}, {\"temperature\": 20.625989859426074, \"wind\": 15.348759697534453, \"precipitation\": 94.2004787208339, \"condition\": \"rain\"}, {\"temperature\": 17.22130558630064, \"wind\": 61.15140884010469, \"precipitation\": 27.79385279217691, \"condition\": \"snow\"}, {\"temperature\": 15.342628921870396, \"wind\": 52.15522860596962, \"precipitation\": 44.258578235337545, \"condition\": \"drizzle\"}, {\"temperature\": 43.28838980732394, \"wind\": 30.617573960681387, \"precipitation\": 90.705784312922, \"condition\": \"drizzle\"}, {\"temperature\": 31.752614189233682, \"wind\": 54.002536771242745, \"precipitation\": 98.5871144935895, \"condition\": \"drizzle\"}, {\"temperature\": 3.5475184692079793, \"wind\": 96.91039458765935, \"precipitation\": 50.00054618320339, \"condition\": \"fog\"}]}}, {\"mode\": \"vega-lite\"});\n</script>",
      "text/plain": "alt.FacetChart(...)"
     },
     "metadata": {},
     "output_type": "display_data"
    }
   ],
   "source": [
    "base = alt.Chart(df)\n",
    "point = base.mark_point().encode(\n",
    "    x=alt.X(field=\"condition\", type=\"nominal\", scale=alt.Scale(type=\"ordinal\")),\n",
    "    y=alt.Y(field=\"wind\", type=\"quantitative\", scale=alt.Scale(type=\"linear\")),\n",
    ")\n",
    "facet = point.facet(\n",
    "    column=alt.Column(field=\"temperature\", type=\"quantitative\", bin=alt.Bin(maxbins=10))\n",
    ")\n",
    "display_chart(facet)"
   ]
  },
  {
   "cell_type": "markdown",
   "metadata": {},
   "source": [
    "## Multiple Views"
   ]
  },
  {
   "cell_type": "markdown",
   "metadata": {},
   "source": [
    "### Tick Plot and Histogram"
   ]
  },
  {
   "cell_type": "code",
   "execution_count": 199,
   "metadata": {},
   "outputs": [
    {
     "name": "stdout",
     "output_type": "stream",
     "text": [
      "{'field': [{'name': 'temperature', 'type': 'number'},\n",
      "           {'name': 'condition', 'type': 'string'}],\n",
      " 'number_rows': 100,\n",
      " 'view': [{'mark': [{'encoding': [{'channel': 'y', 'field': 'temperature'}],\n",
      "                     'type': 'tick'}],\n",
      "           'scale': [{'channel': 'y', 'type': 'linear', 'zero': 'true'}]},\n",
      "          {'mark': [{'encoding': [{'channel': 'x', 'field': 'condition'},\n",
      "                                  {'aggregate': 'count', 'channel': 'y'}],\n",
      "                     'type': 'bar'}],\n",
      "           'scale': [{'channel': 'x', 'type': 'ordinal'},\n",
      "                     {'channel': 'y', 'type': 'linear', 'zero': 'true'}]}]}\n"
     ]
    }
   ],
   "source": [
    "facts = [\n",
    "    \"attribute(number_rows,root,100).\",\n",
    "    \"entity(field,root,temperature).\",\n",
    "    \"attribute((field,name),temperature,temperature).\",\n",
    "    \"attribute((field,type),temperature,number).\",\n",
    "    \"entity(field,root,condition).\",\n",
    "    \"attribute((field,name),condition,condition).\",\n",
    "    \"attribute((field,type),condition,string).\",\n",
    "    \"entity(view,root,0).\",\n",
    "    \"entity(mark,0,1).\",\n",
    "    \"attribute((mark,type),1,tick).\",\n",
    "    \"entity(encoding,1,2).\",\n",
    "    \"attribute((encoding,channel),2,y).\",\n",
    "    \"attribute((encoding,field),2,temperature).\",\n",
    "    \"entity(scale,0,3).\",\n",
    "    \"attribute((scale,channel),3,y).\",\n",
    "    \"attribute((scale,type),3,linear).\",\n",
    "    \"attribute((scale,zero),3,true).\",\n",
    "    \"entity(view,root,4).\",\n",
    "    \"entity(mark,4,5).\",\n",
    "    \"attribute((mark,type),5,bar).\",\n",
    "    \"entity(encoding,5,6).\",\n",
    "    \"attribute((encoding,channel),6,x).\",\n",
    "    \"attribute((encoding,field),6,condition).\",\n",
    "    \"entity(encoding,5,7).\",\n",
    "    \"attribute((encoding,channel),7,y).\",\n",
    "    \"attribute((encoding,aggregate),7,count).\",\n",
    "    \"entity(scale,4,8).\",\n",
    "    \"attribute((scale,channel),8,x).\",\n",
    "    \"attribute((scale,type),8,ordinal).\",\n",
    "    \"entity(scale,4,9).\",\n",
    "    \"attribute((scale,channel),9,y).\",\n",
    "    \"attribute((scale,type),9,linear).\",\n",
    "    \"attribute((scale,zero),9,true).\",\n",
    "]\n",
    "spec = facts_to_dict(facts)\n",
    "pprint(spec)"
   ]
  },
  {
   "cell_type": "code",
   "execution_count": 200,
   "metadata": {},
   "outputs": [
    {
     "name": "stdout",
     "output_type": "stream",
     "text": [
      "{'$schema': 'https://vega.github.io/schema/vega-lite/v4.17.0.json',\n",
      " 'config': {'view': {'continuousHeight': 300, 'continuousWidth': 400}},\n",
      " 'hconcat': [{'encoding': {'y': {'field': 'temperature',\n",
      "                                 'scale': {'type': 'linear', 'zero': True},\n",
      "                                 'type': 'quantitative'}},\n",
      "              'mark': 'tick'},\n",
      "             {'encoding': {'x': {'field': 'condition',\n",
      "                                 'scale': {'type': 'ordinal'},\n",
      "                                 'type': 'nominal'},\n",
      "                           'y': {'aggregate': 'count',\n",
      "                                 'field': 'condition',\n",
      "                                 'type': 'nominal'}},\n",
      "              'mark': 'bar'}]}\n"
     ]
    },
    {
     "data": {
      "text/html": "\n<div id=\"altair-viz-5f823ab697d94f82b5f1e626d671c3f1\"></div>\n<script type=\"text/javascript\">\n  var VEGA_DEBUG = (typeof VEGA_DEBUG == \"undefined\") ? {} : VEGA_DEBUG;\n  (function(spec, embedOpt){\n    let outputDiv = document.currentScript.previousElementSibling;\n    if (outputDiv.id !== \"altair-viz-5f823ab697d94f82b5f1e626d671c3f1\") {\n      outputDiv = document.getElementById(\"altair-viz-5f823ab697d94f82b5f1e626d671c3f1\");\n    }\n    const paths = {\n      \"vega\": \"https://cdn.jsdelivr.net/npm//vega@5?noext\",\n      \"vega-lib\": \"https://cdn.jsdelivr.net/npm//vega-lib?noext\",\n      \"vega-lite\": \"https://cdn.jsdelivr.net/npm//vega-lite@4.17.0?noext\",\n      \"vega-embed\": \"https://cdn.jsdelivr.net/npm//vega-embed@6?noext\",\n    };\n\n    function maybeLoadScript(lib, version) {\n      var key = `${lib.replace(\"-\", \"\")}_version`;\n      return (VEGA_DEBUG[key] == version) ?\n        Promise.resolve(paths[lib]) :\n        new Promise(function(resolve, reject) {\n          var s = document.createElement('script');\n          document.getElementsByTagName(\"head\")[0].appendChild(s);\n          s.async = true;\n          s.onload = () => {\n            VEGA_DEBUG[key] = version;\n            return resolve(paths[lib]);\n          };\n          s.onerror = () => reject(`Error loading script: ${paths[lib]}`);\n          s.src = paths[lib];\n        });\n    }\n\n    function showError(err) {\n      outputDiv.innerHTML = `<div class=\"error\" style=\"color:red;\">${err}</div>`;\n      throw err;\n    }\n\n    function displayChart(vegaEmbed) {\n      vegaEmbed(outputDiv, spec, embedOpt)\n        .catch(err => showError(`Javascript Error: ${err.message}<br>This usually means there's a typo in your chart specification. See the javascript console for the full traceback.`));\n    }\n\n    if(typeof define === \"function\" && define.amd) {\n      requirejs.config({paths});\n      require([\"vega-embed\"], displayChart, err => showError(`Error loading script: ${err.message}`));\n    } else {\n      maybeLoadScript(\"vega\", \"5\")\n        .then(() => maybeLoadScript(\"vega-lite\", \"4.17.0\"))\n        .then(() => maybeLoadScript(\"vega-embed\", \"6\"))\n        .catch(showError)\n        .then(() => displayChart(vegaEmbed));\n    }\n  })({\"config\": {\"view\": {\"continuousWidth\": 400, \"continuousHeight\": 300}}, \"hconcat\": [{\"mark\": \"tick\", \"encoding\": {\"y\": {\"field\": \"temperature\", \"scale\": {\"type\": \"linear\", \"zero\": true}, \"type\": \"quantitative\"}}}, {\"mark\": \"bar\", \"encoding\": {\"x\": {\"field\": \"condition\", \"scale\": {\"type\": \"ordinal\"}, \"type\": \"nominal\"}, \"y\": {\"aggregate\": \"count\", \"field\": \"condition\", \"type\": \"nominal\"}}}], \"data\": {\"name\": \"data-62648c40dc40a84dcc0ff734b69b013d\"}, \"$schema\": \"https://vega.github.io/schema/vega-lite/v4.17.0.json\", \"datasets\": {\"data-62648c40dc40a84dcc0ff734b69b013d\": [{\"temperature\": 15.949648750822519, \"wind\": 44.064474882832506, \"precipitation\": 39.57102111167698, \"condition\": \"sun\"}, {\"temperature\": 35.80410298761198, \"wind\": 57.347114406626844, \"precipitation\": 51.104157124186436, \"condition\": \"snow\"}, {\"temperature\": 34.39048786822457, \"wind\": 96.36048231593197, \"precipitation\": 40.96980376900311, \"condition\": \"drizzle\"}, {\"temperature\": 7.204885708939138, \"wind\": 25.146399378672125, \"precipitation\": 85.49017897658906, \"condition\": \"drizzle\"}, {\"temperature\": 19.55284015712061, \"wind\": 57.88396140686759, \"precipitation\": 73.6976786812617, \"condition\": \"sun\"}, {\"temperature\": 40.95867840323979, \"wind\": 18.240723526069058, \"precipitation\": 12.344374169099414, \"condition\": \"drizzle\"}, {\"temperature\": 8.037410652418316, \"wind\": 34.85524928680391, \"precipitation\": 47.39721336761291, \"condition\": \"drizzle\"}, {\"temperature\": -0.9238346314127046, \"wind\": 38.27888770381765, \"precipitation\": 49.084327395470694, \"condition\": \"snow\"}, {\"temperature\": 5.432162476529914, \"wind\": 26.375774021896824, \"precipitation\": 11.84973364714308, \"condition\": \"fog\"}, {\"temperature\": -0.5233284049906253, \"wind\": 20.341299498563536, \"precipitation\": 17.599397407184547, \"condition\": \"rain\"}, {\"temperature\": -0.32120652264539906, \"wind\": 56.70670804712174, \"precipitation\": 27.900390497052797, \"condition\": \"snow\"}, {\"temperature\": -5.8172209322540835, \"wind\": 7.922327363206739, \"precipitation\": 58.97450879694346, \"condition\": \"sun\"}, {\"temperature\": 29.348029927183475, \"wind\": 42.36486641293023, \"precipitation\": 52.297851298205714, \"condition\": \"snow\"}, {\"temperature\": -3.170224211296139, \"wind\": 25.422063817654927, \"precipitation\": 75.95709912967573, \"condition\": \"sun\"}, {\"temperature\": 29.762058145832015, \"wind\": 60.50785926641081, \"precipitation\": 27.63426836016134, \"condition\": \"sun\"}, {\"temperature\": -2.4226248703646167, \"wind\": 71.82451957436714, \"precipitation\": 27.866577679535155, \"condition\": \"rain\"}, {\"temperature\": 27.72342502276807, \"wind\": 25.495165547172526, \"precipitation\": 56.952472897674525, \"condition\": \"rain\"}, {\"temperature\": 42.86155275131322, \"wind\": 64.07798840013274, \"precipitation\": 43.20732916361416, \"condition\": \"drizzle\"}, {\"temperature\": 17.672356545916294, \"wind\": 69.76681823406481, \"precipitation\": 4.878513449934685, \"condition\": \"snow\"}, {\"temperature\": 14.10656929258668, \"wind\": 57.176270850584096, \"precipitation\": 22.99874996214144, \"condition\": \"sun\"}, {\"temperature\": 13.738975343826219, \"wind\": 47.92233289336022, \"precipitation\": 14.35681797090771, \"condition\": \"drizzle\"}, {\"temperature\": 38.54857944378019, \"wind\": 71.3951998928714, \"precipitation\": 47.86763119099666, \"condition\": \"rain\"}, {\"temperature\": 35.41541728844566, \"wind\": 15.372466094026361, \"precipitation\": 10.140892669165568, \"condition\": \"drizzle\"}, {\"temperature\": 42.8109485726051, \"wind\": 19.292730074798236, \"precipitation\": 83.72184051359054, \"condition\": \"sun\"}, {\"temperature\": 5.541837860134734, \"wind\": 37.91528502390926, \"precipitation\": 1.806095907348293, \"condition\": \"rain\"}, {\"temperature\": 31.26072818540954, \"wind\": 25.613046818128893, \"precipitation\": 93.99993502991724, \"condition\": \"snow\"}, {\"temperature\": 12.652262480706526, \"wind\": 19.716955298970042, \"precipitation\": 4.277209571833773, \"condition\": \"snow\"}, {\"temperature\": 27.464734441100425, \"wind\": 18.45750848171699, \"precipitation\": 14.862245845341137, \"condition\": \"snow\"}, {\"temperature\": 39.17194283180486, \"wind\": 62.584966101983305, \"precipitation\": 61.90806088367137, \"condition\": \"drizzle\"}, {\"temperature\": 20.57556038458332, \"wind\": 6.979458445589614, \"precipitation\": 26.20161503090155, \"condition\": \"fog\"}, {\"temperature\": 43.4376707328582, \"wind\": 91.72880025636312, \"precipitation\": 49.92669754392897, \"condition\": \"rain\"}, {\"temperature\": 37.392448305959796, \"wind\": 37.3453361137289, \"precipitation\": 79.01145543700821, \"condition\": \"rain\"}, {\"temperature\": -0.9740355983502056, \"wind\": 52.36556373635527, \"precipitation\": 30.452338583138562, \"condition\": \"fog\"}, {\"temperature\": 32.483093158374864, \"wind\": 88.0719315131664, \"precipitation\": 79.80325870322564, \"condition\": \"drizzle\"}, {\"temperature\": 35.06833977125789, \"wind\": 20.182255224013822, \"precipitation\": 68.32831560054159, \"condition\": \"drizzle\"}, {\"temperature\": 30.648689765220006, \"wind\": 70.20845647358497, \"precipitation\": 14.839756419615913, \"condition\": \"fog\"}, {\"temperature\": 17.568761783892697, \"wind\": 23.56533394038428, \"precipitation\": 33.43028312709272, \"condition\": \"fog\"}, {\"temperature\": 37.668328098899124, \"wind\": 25.752457285889363, \"precipitation\": 22.16206318576326, \"condition\": \"fog\"}, {\"temperature\": 5.014064033030415, \"wind\": 35.85304116185546, \"precipitation\": 50.430635606761776, \"condition\": \"drizzle\"}, {\"temperature\": 0.07199515030012726, \"wind\": 2.3037918503235444, \"precipitation\": 43.68655656674591, \"condition\": \"snow\"}, {\"temperature\": 5.954592424892175, \"wind\": 97.51084981729826, \"precipitation\": 18.937945167300562, \"condition\": \"fog\"}, {\"temperature\": 30.328519543203832, \"wind\": 11.124122490003696, \"precipitation\": 16.09587268986017, \"condition\": \"rain\"}, {\"temperature\": 14.46236976140856, \"wind\": 51.39244007969178, \"precipitation\": 51.52316459464377, \"condition\": \"fog\"}, {\"temperature\": 9.396286885496181, \"wind\": 14.413632366424933, \"precipitation\": 58.34025135533383, \"condition\": \"drizzle\"}, {\"temperature\": -7.883075294840844, \"wind\": 98.24018815877206, \"precipitation\": 51.405831276908884, \"condition\": \"snow\"}, {\"temperature\": 36.853296493232534, \"wind\": 17.44230067062308, \"precipitation\": 55.91312117168676, \"condition\": \"drizzle\"}, {\"temperature\": -9.582596783874624, \"wind\": 23.835535427130438, \"precipitation\": 61.605688998244446, \"condition\": \"fog\"}, {\"temperature\": -9.419128745924892, \"wind\": 53.25395558360789, \"precipitation\": 78.4515605013817, \"condition\": \"sun\"}, {\"temperature\": 4.571583314676532, \"wind\": 9.068613866100073, \"precipitation\": 42.448264608376526, \"condition\": \"rain\"}, {\"temperature\": 6.6203336157740615, \"wind\": 35.87691221835703, \"precipitation\": 64.98980696659649, \"condition\": \"rain\"}, {\"temperature\": 20.627672555392106, \"wind\": 28.946823430475742, \"precipitation\": 14.301584887467733, \"condition\": \"rain\"}, {\"temperature\": -9.583736731217567, \"wind\": 83.64814422156614, \"precipitation\": 35.873227198260004, \"condition\": \"snow\"}, {\"temperature\": 11.018260277272166, \"wind\": 82.98059861355699, \"precipitation\": 67.52390799343073, \"condition\": \"drizzle\"}, {\"temperature\": 5.411451095385809, \"wind\": 21.05653192591779, \"precipitation\": 98.10920750481597, \"condition\": \"fog\"}, {\"temperature\": 2.807402352777551, \"wind\": 40.81431754466085, \"precipitation\": 17.10555449196962, \"condition\": \"drizzle\"}, {\"temperature\": 33.60928142306782, \"wind\": 68.86862385408263, \"precipitation\": 1.7511520670655312, \"condition\": \"drizzle\"}, {\"temperature\": -3.7305842295491463, \"wind\": 22.99270590580842, \"precipitation\": 20.45024425044729, \"condition\": \"sun\"}, {\"temperature\": 38.88636288200788, \"wind\": 4.451268770649408, \"precipitation\": 50.18581381273084, \"condition\": \"snow\"}, {\"temperature\": 30.677916880360065, \"wind\": 57.58927095398997, \"precipitation\": 3.882294040985468, \"condition\": \"sun\"}, {\"temperature\": 20.936747003011536, \"wind\": 86.15890903839221, \"precipitation\": 84.64626055952643, \"condition\": \"sun\"}, {\"temperature\": 37.960508459665974, \"wind\": 83.22348385800635, \"precipitation\": 78.09579123477448, \"condition\": \"sun\"}, {\"temperature\": 2.789340992140385, \"wind\": 5.604841844996544, \"precipitation\": 64.23176719571818, \"condition\": \"rain\"}, {\"temperature\": -7.362921707472104, \"wind\": 57.37740217449133, \"precipitation\": 18.499742279296438, \"condition\": \"sun\"}, {\"temperature\": 1.1912189059593281, \"wind\": 46.52929788933954, \"precipitation\": 56.223732701756326, \"condition\": \"rain\"}, {\"temperature\": 5.601287545202137, \"wind\": 10.557820768094484, \"precipitation\": 10.005361911795385, \"condition\": \"sun\"}, {\"temperature\": 38.06145401149945, \"wind\": 40.55588658579815, \"precipitation\": 18.57864165136399, \"condition\": \"rain\"}, {\"temperature\": 10.003338415782952, \"wind\": 0.38143550979561347, \"precipitation\": 3.4323593600883995, \"condition\": \"snow\"}, {\"temperature\": 35.51840784136351, \"wind\": 85.38213169679159, \"precipitation\": 72.28024508142481, \"condition\": \"rain\"}, {\"temperature\": 42.22464006089062, \"wind\": 21.90245982426261, \"precipitation\": 64.4540475166047, \"condition\": \"snow\"}, {\"temperature\": 42.62614276410388, \"wind\": 16.596731146807365, \"precipitation\": 85.31723680641925, \"condition\": \"sun\"}, {\"temperature\": 4.666633193701054, \"wind\": 13.9068281587152, \"precipitation\": 87.48180339020342, \"condition\": \"drizzle\"}, {\"temperature\": 16.15426117162615, \"wind\": 38.00342325742586, \"precipitation\": 47.264072847267016, \"condition\": \"rain\"}, {\"temperature\": 15.032591880472172, \"wind\": 86.42884715473586, \"precipitation\": 81.69554228509587, \"condition\": \"rain\"}, {\"temperature\": 35.19149371217065, \"wind\": 72.5074270480888, \"precipitation\": 22.443215096530544, \"condition\": \"sun\"}, {\"temperature\": 26.84120821812121, \"wind\": 83.91441221303555, \"precipitation\": 63.11915666511897, \"condition\": \"drizzle\"}, {\"temperature\": 34.88005063805122, \"wind\": 45.33004448381994, \"precipitation\": 0.9935886811615613, \"condition\": \"rain\"}, {\"temperature\": 41.376840349386185, \"wind\": 7.544840957817378, \"precipitation\": 54.70235300254609, \"condition\": \"snow\"}, {\"temperature\": 36.960725847409456, \"wind\": 49.46574838149229, \"precipitation\": 85.47567556668297, \"condition\": \"snow\"}, {\"temperature\": 14.586289413415074, \"wind\": 4.489700154671472, \"precipitation\": 10.31362572720238, \"condition\": \"sun\"}, {\"temperature\": 20.04343950622185, \"wind\": 66.32817964057357, \"precipitation\": 74.44590348494177, \"condition\": \"sun\"}, {\"temperature\": 25.469560172224703, \"wind\": 82.06241734640489, \"precipitation\": 61.201009993418275, \"condition\": \"rain\"}, {\"temperature\": 20.070995853722245, \"wind\": 46.445227996549974, \"precipitation\": 53.59556892779981, \"condition\": \"snow\"}, {\"temperature\": 5.685018294722338, \"wind\": 58.17077525039538, \"precipitation\": 31.236078403128474, \"condition\": \"snow\"}, {\"temperature\": 42.487483009401764, \"wind\": 71.08000859923487, \"precipitation\": 61.47201457950021, \"condition\": \"rain\"}, {\"temperature\": -7.079256299328551, \"wind\": 27.004309009604967, \"precipitation\": 19.794263832693815, \"condition\": \"rain\"}, {\"temperature\": -5.045047126960084, \"wind\": 88.93771732732128, \"precipitation\": 99.50453536234512, \"condition\": \"fog\"}, {\"temperature\": 25.4533582484732, \"wind\": 96.38774772376792, \"precipitation\": 69.85460214191481, \"condition\": \"rain\"}, {\"temperature\": 22.955919291252926, \"wind\": 88.48558780603962, \"precipitation\": 40.268588772168876, \"condition\": \"snow\"}, {\"temperature\": 27.507453592914565, \"wind\": 29.838439613656075, \"precipitation\": 27.845875256677367, \"condition\": \"fog\"}, {\"temperature\": -6.870451234225997, \"wind\": 54.90225410574824, \"precipitation\": 29.74026895430255, \"condition\": \"snow\"}, {\"temperature\": 41.66879121402853, \"wind\": 21.388390668516323, \"precipitation\": 23.449697200445573, \"condition\": \"sun\"}, {\"temperature\": 15.838369384298645, \"wind\": 14.553164438107524, \"precipitation\": 78.9078385630916, \"condition\": \"sun\"}, {\"temperature\": 13.794652090601591, \"wind\": 31.915985033787553, \"precipitation\": 65.39000850075058, \"condition\": \"fog\"}, {\"temperature\": -0.24791853446323842, \"wind\": 16.053122209894966, \"precipitation\": 26.219628309452382, \"condition\": \"sun\"}, {\"temperature\": 20.625989859426074, \"wind\": 15.348759697534453, \"precipitation\": 94.2004787208339, \"condition\": \"rain\"}, {\"temperature\": 17.22130558630064, \"wind\": 61.15140884010469, \"precipitation\": 27.79385279217691, \"condition\": \"snow\"}, {\"temperature\": 15.342628921870396, \"wind\": 52.15522860596962, \"precipitation\": 44.258578235337545, \"condition\": \"drizzle\"}, {\"temperature\": 43.28838980732394, \"wind\": 30.617573960681387, \"precipitation\": 90.705784312922, \"condition\": \"drizzle\"}, {\"temperature\": 31.752614189233682, \"wind\": 54.002536771242745, \"precipitation\": 98.5871144935895, \"condition\": \"drizzle\"}, {\"temperature\": 3.5475184692079793, \"wind\": 96.91039458765935, \"precipitation\": 50.00054618320339, \"condition\": \"fog\"}]}}, {\"mode\": \"vega-lite\"});\n</script>",
      "text/plain": "alt.HConcatChart(...)"
     },
     "metadata": {},
     "output_type": "display_data"
    }
   ],
   "source": [
    "base = alt.Chart(df)\n",
    "\n",
    "tick = base.mark_tick().encode(\n",
    "    y=alt.Y(\n",
    "        field=\"temperature\",\n",
    "        type=\"quantitative\",\n",
    "        scale=alt.Scale(type=\"linear\", zero=True),\n",
    "    )\n",
    ")\n",
    "view_1 = tick\n",
    "\n",
    "bar = base.mark_bar().encode(\n",
    "    x=alt.X(field=\"condition\", type=\"nominal\", scale=alt.Scale(type=\"ordinal\")),\n",
    "    y=alt.Y(field=\"condition\", type=\"nominal\", aggregate=\"count\"),\n",
    ")\n",
    "view_2 = bar\n",
    "\n",
    "display_chart(view_1 | view_2)"
   ]
  },
  {
   "cell_type": "markdown",
   "metadata": {},
   "source": [
    "### Tick Plot and Histogram with Shared Y-Scale"
   ]
  },
  {
   "cell_type": "code",
   "execution_count": 201,
   "metadata": {},
   "outputs": [
    {
     "name": "stdout",
     "output_type": "stream",
     "text": [
      "{'field': [{'name': 'temperature', 'type': 'number'},\n",
      "           {'name': 'condition', 'type': 'string'}],\n",
      " 'number_rows': 100,\n",
      " 'scale': [{'channel': 'y', 'type': 'linear', 'zero': 'true'}],\n",
      " 'view': [{'mark': [{'encoding': [{'channel': 'y', 'field': 'temperature'}],\n",
      "                     'type': 'tick'}]},\n",
      "          {'mark': [{'encoding': [{'aggregate': 'mean',\n",
      "                                   'channel': 'y',\n",
      "                                   'field': 'temperature'},\n",
      "                                  {'channel': 'x', 'field': 'condition'}],\n",
      "                     'type': 'bar'}],\n",
      "           'scale': [{'channel': 'x', 'type': 'ordinal'}]}]}\n"
     ]
    }
   ],
   "source": [
    "facts = [\n",
    "    \"attribute(number_rows,root,100).\",\n",
    "    \"entity(field,root,temperature).\",\n",
    "    \"attribute((field,name),temperature,temperature).\",\n",
    "    \"attribute((field,type),temperature,number).\",\n",
    "    \"entity(field,root,condition).\",\n",
    "    \"attribute((field,name),condition,condition).\",\n",
    "    \"attribute((field,type),condition,string).\",\n",
    "    \"entity(view,root,0).\",\n",
    "    \"entity(mark,0,1).\",\n",
    "    \"attribute((mark,type),1,tick).\",\n",
    "    \"entity(encoding,1,2).\",\n",
    "    \"attribute((encoding,channel),2,y).\",\n",
    "    \"attribute((encoding,field),2,temperature).\",\n",
    "    \"entity(view,root,3).\",\n",
    "    \"entity(mark,3,4).\",\n",
    "    \"attribute((mark,type),4,bar).\",\n",
    "    \"entity(encoding,4,5).\",\n",
    "    \"attribute((encoding,channel),5,y).\",\n",
    "    \"attribute((encoding,field),5,temperature).\",\n",
    "    \"attribute((encoding,aggregate),5,mean).\",\n",
    "    \"entity(encoding,4,6).\",\n",
    "    \"attribute((encoding,channel),6,x).\",\n",
    "    \"attribute((encoding,field),6,condition).\",\n",
    "    \"entity(scale,3,7).\",\n",
    "    \"attribute((scale,channel),7,x).\",\n",
    "    \"attribute((scale,type),7,ordinal).\",\n",
    "    \"entity(scale,root,8).\",\n",
    "    \"attribute((scale,channel),8,y).\",\n",
    "    \"attribute((scale,type),8,linear).\",\n",
    "    \"attribute((scale,zero),8,true).\",\n",
    "]\n",
    "spec = facts_to_dict(facts)\n",
    "pprint(spec)"
   ]
  },
  {
   "cell_type": "code",
   "execution_count": 202,
   "metadata": {},
   "outputs": [
    {
     "name": "stdout",
     "output_type": "stream",
     "text": [
      "{'$schema': 'https://vega.github.io/schema/vega-lite/v4.17.0.json',\n",
      " 'config': {'view': {'continuousHeight': 300, 'continuousWidth': 400}},\n",
      " 'hconcat': [{'encoding': {'y': {'field': 'temperature',\n",
      "                                 'type': 'quantitative'}},\n",
      "              'mark': 'tick'},\n",
      "             {'encoding': {'x': {'field': 'condition', 'type': 'nominal'},\n",
      "                           'y': {'aggregate': 'mean',\n",
      "                                 'field': 'temperature',\n",
      "                                 'type': 'quantitative'}},\n",
      "              'mark': 'bar'}],\n",
      " 'resolve': {'scale': {'y': 'shared'}}}\n"
     ]
    },
    {
     "data": {
      "text/html": "\n<div id=\"altair-viz-7a1ce97cbfdd49ffbdc78652791616aa\"></div>\n<script type=\"text/javascript\">\n  var VEGA_DEBUG = (typeof VEGA_DEBUG == \"undefined\") ? {} : VEGA_DEBUG;\n  (function(spec, embedOpt){\n    let outputDiv = document.currentScript.previousElementSibling;\n    if (outputDiv.id !== \"altair-viz-7a1ce97cbfdd49ffbdc78652791616aa\") {\n      outputDiv = document.getElementById(\"altair-viz-7a1ce97cbfdd49ffbdc78652791616aa\");\n    }\n    const paths = {\n      \"vega\": \"https://cdn.jsdelivr.net/npm//vega@5?noext\",\n      \"vega-lib\": \"https://cdn.jsdelivr.net/npm//vega-lib?noext\",\n      \"vega-lite\": \"https://cdn.jsdelivr.net/npm//vega-lite@4.17.0?noext\",\n      \"vega-embed\": \"https://cdn.jsdelivr.net/npm//vega-embed@6?noext\",\n    };\n\n    function maybeLoadScript(lib, version) {\n      var key = `${lib.replace(\"-\", \"\")}_version`;\n      return (VEGA_DEBUG[key] == version) ?\n        Promise.resolve(paths[lib]) :\n        new Promise(function(resolve, reject) {\n          var s = document.createElement('script');\n          document.getElementsByTagName(\"head\")[0].appendChild(s);\n          s.async = true;\n          s.onload = () => {\n            VEGA_DEBUG[key] = version;\n            return resolve(paths[lib]);\n          };\n          s.onerror = () => reject(`Error loading script: ${paths[lib]}`);\n          s.src = paths[lib];\n        });\n    }\n\n    function showError(err) {\n      outputDiv.innerHTML = `<div class=\"error\" style=\"color:red;\">${err}</div>`;\n      throw err;\n    }\n\n    function displayChart(vegaEmbed) {\n      vegaEmbed(outputDiv, spec, embedOpt)\n        .catch(err => showError(`Javascript Error: ${err.message}<br>This usually means there's a typo in your chart specification. See the javascript console for the full traceback.`));\n    }\n\n    if(typeof define === \"function\" && define.amd) {\n      requirejs.config({paths});\n      require([\"vega-embed\"], displayChart, err => showError(`Error loading script: ${err.message}`));\n    } else {\n      maybeLoadScript(\"vega\", \"5\")\n        .then(() => maybeLoadScript(\"vega-lite\", \"4.17.0\"))\n        .then(() => maybeLoadScript(\"vega-embed\", \"6\"))\n        .catch(showError)\n        .then(() => displayChart(vegaEmbed));\n    }\n  })({\"config\": {\"view\": {\"continuousWidth\": 400, \"continuousHeight\": 300}}, \"hconcat\": [{\"mark\": \"tick\", \"encoding\": {\"y\": {\"field\": \"temperature\", \"type\": \"quantitative\"}}}, {\"mark\": \"bar\", \"encoding\": {\"x\": {\"field\": \"condition\", \"type\": \"nominal\"}, \"y\": {\"aggregate\": \"mean\", \"field\": \"temperature\", \"type\": \"quantitative\"}}}], \"data\": {\"name\": \"data-62648c40dc40a84dcc0ff734b69b013d\"}, \"resolve\": {\"scale\": {\"y\": \"shared\"}}, \"$schema\": \"https://vega.github.io/schema/vega-lite/v4.17.0.json\", \"datasets\": {\"data-62648c40dc40a84dcc0ff734b69b013d\": [{\"temperature\": 15.949648750822519, \"wind\": 44.064474882832506, \"precipitation\": 39.57102111167698, \"condition\": \"sun\"}, {\"temperature\": 35.80410298761198, \"wind\": 57.347114406626844, \"precipitation\": 51.104157124186436, \"condition\": \"snow\"}, {\"temperature\": 34.39048786822457, \"wind\": 96.36048231593197, \"precipitation\": 40.96980376900311, \"condition\": \"drizzle\"}, {\"temperature\": 7.204885708939138, \"wind\": 25.146399378672125, \"precipitation\": 85.49017897658906, \"condition\": \"drizzle\"}, {\"temperature\": 19.55284015712061, \"wind\": 57.88396140686759, \"precipitation\": 73.6976786812617, \"condition\": \"sun\"}, {\"temperature\": 40.95867840323979, \"wind\": 18.240723526069058, \"precipitation\": 12.344374169099414, \"condition\": \"drizzle\"}, {\"temperature\": 8.037410652418316, \"wind\": 34.85524928680391, \"precipitation\": 47.39721336761291, \"condition\": \"drizzle\"}, {\"temperature\": -0.9238346314127046, \"wind\": 38.27888770381765, \"precipitation\": 49.084327395470694, \"condition\": \"snow\"}, {\"temperature\": 5.432162476529914, \"wind\": 26.375774021896824, \"precipitation\": 11.84973364714308, \"condition\": \"fog\"}, {\"temperature\": -0.5233284049906253, \"wind\": 20.341299498563536, \"precipitation\": 17.599397407184547, \"condition\": \"rain\"}, {\"temperature\": -0.32120652264539906, \"wind\": 56.70670804712174, \"precipitation\": 27.900390497052797, \"condition\": \"snow\"}, {\"temperature\": -5.8172209322540835, \"wind\": 7.922327363206739, \"precipitation\": 58.97450879694346, \"condition\": \"sun\"}, {\"temperature\": 29.348029927183475, \"wind\": 42.36486641293023, \"precipitation\": 52.297851298205714, \"condition\": \"snow\"}, {\"temperature\": -3.170224211296139, \"wind\": 25.422063817654927, \"precipitation\": 75.95709912967573, \"condition\": \"sun\"}, {\"temperature\": 29.762058145832015, \"wind\": 60.50785926641081, \"precipitation\": 27.63426836016134, \"condition\": \"sun\"}, {\"temperature\": -2.4226248703646167, \"wind\": 71.82451957436714, \"precipitation\": 27.866577679535155, \"condition\": \"rain\"}, {\"temperature\": 27.72342502276807, \"wind\": 25.495165547172526, \"precipitation\": 56.952472897674525, \"condition\": \"rain\"}, {\"temperature\": 42.86155275131322, \"wind\": 64.07798840013274, \"precipitation\": 43.20732916361416, \"condition\": \"drizzle\"}, {\"temperature\": 17.672356545916294, \"wind\": 69.76681823406481, \"precipitation\": 4.878513449934685, \"condition\": \"snow\"}, {\"temperature\": 14.10656929258668, \"wind\": 57.176270850584096, \"precipitation\": 22.99874996214144, \"condition\": \"sun\"}, {\"temperature\": 13.738975343826219, \"wind\": 47.92233289336022, \"precipitation\": 14.35681797090771, \"condition\": \"drizzle\"}, {\"temperature\": 38.54857944378019, \"wind\": 71.3951998928714, \"precipitation\": 47.86763119099666, \"condition\": \"rain\"}, {\"temperature\": 35.41541728844566, \"wind\": 15.372466094026361, \"precipitation\": 10.140892669165568, \"condition\": \"drizzle\"}, {\"temperature\": 42.8109485726051, \"wind\": 19.292730074798236, \"precipitation\": 83.72184051359054, \"condition\": \"sun\"}, {\"temperature\": 5.541837860134734, \"wind\": 37.91528502390926, \"precipitation\": 1.806095907348293, \"condition\": \"rain\"}, {\"temperature\": 31.26072818540954, \"wind\": 25.613046818128893, \"precipitation\": 93.99993502991724, \"condition\": \"snow\"}, {\"temperature\": 12.652262480706526, \"wind\": 19.716955298970042, \"precipitation\": 4.277209571833773, \"condition\": \"snow\"}, {\"temperature\": 27.464734441100425, \"wind\": 18.45750848171699, \"precipitation\": 14.862245845341137, \"condition\": \"snow\"}, {\"temperature\": 39.17194283180486, \"wind\": 62.584966101983305, \"precipitation\": 61.90806088367137, \"condition\": \"drizzle\"}, {\"temperature\": 20.57556038458332, \"wind\": 6.979458445589614, \"precipitation\": 26.20161503090155, \"condition\": \"fog\"}, {\"temperature\": 43.4376707328582, \"wind\": 91.72880025636312, \"precipitation\": 49.92669754392897, \"condition\": \"rain\"}, {\"temperature\": 37.392448305959796, \"wind\": 37.3453361137289, \"precipitation\": 79.01145543700821, \"condition\": \"rain\"}, {\"temperature\": -0.9740355983502056, \"wind\": 52.36556373635527, \"precipitation\": 30.452338583138562, \"condition\": \"fog\"}, {\"temperature\": 32.483093158374864, \"wind\": 88.0719315131664, \"precipitation\": 79.80325870322564, \"condition\": \"drizzle\"}, {\"temperature\": 35.06833977125789, \"wind\": 20.182255224013822, \"precipitation\": 68.32831560054159, \"condition\": \"drizzle\"}, {\"temperature\": 30.648689765220006, \"wind\": 70.20845647358497, \"precipitation\": 14.839756419615913, \"condition\": \"fog\"}, {\"temperature\": 17.568761783892697, \"wind\": 23.56533394038428, \"precipitation\": 33.43028312709272, \"condition\": \"fog\"}, {\"temperature\": 37.668328098899124, \"wind\": 25.752457285889363, \"precipitation\": 22.16206318576326, \"condition\": \"fog\"}, {\"temperature\": 5.014064033030415, \"wind\": 35.85304116185546, \"precipitation\": 50.430635606761776, \"condition\": \"drizzle\"}, {\"temperature\": 0.07199515030012726, \"wind\": 2.3037918503235444, \"precipitation\": 43.68655656674591, \"condition\": \"snow\"}, {\"temperature\": 5.954592424892175, \"wind\": 97.51084981729826, \"precipitation\": 18.937945167300562, \"condition\": \"fog\"}, {\"temperature\": 30.328519543203832, \"wind\": 11.124122490003696, \"precipitation\": 16.09587268986017, \"condition\": \"rain\"}, {\"temperature\": 14.46236976140856, \"wind\": 51.39244007969178, \"precipitation\": 51.52316459464377, \"condition\": \"fog\"}, {\"temperature\": 9.396286885496181, \"wind\": 14.413632366424933, \"precipitation\": 58.34025135533383, \"condition\": \"drizzle\"}, {\"temperature\": -7.883075294840844, \"wind\": 98.24018815877206, \"precipitation\": 51.405831276908884, \"condition\": \"snow\"}, {\"temperature\": 36.853296493232534, \"wind\": 17.44230067062308, \"precipitation\": 55.91312117168676, \"condition\": \"drizzle\"}, {\"temperature\": -9.582596783874624, \"wind\": 23.835535427130438, \"precipitation\": 61.605688998244446, \"condition\": \"fog\"}, {\"temperature\": -9.419128745924892, \"wind\": 53.25395558360789, \"precipitation\": 78.4515605013817, \"condition\": \"sun\"}, {\"temperature\": 4.571583314676532, \"wind\": 9.068613866100073, \"precipitation\": 42.448264608376526, \"condition\": \"rain\"}, {\"temperature\": 6.6203336157740615, \"wind\": 35.87691221835703, \"precipitation\": 64.98980696659649, \"condition\": \"rain\"}, {\"temperature\": 20.627672555392106, \"wind\": 28.946823430475742, \"precipitation\": 14.301584887467733, \"condition\": \"rain\"}, {\"temperature\": -9.583736731217567, \"wind\": 83.64814422156614, \"precipitation\": 35.873227198260004, \"condition\": \"snow\"}, {\"temperature\": 11.018260277272166, \"wind\": 82.98059861355699, \"precipitation\": 67.52390799343073, \"condition\": \"drizzle\"}, {\"temperature\": 5.411451095385809, \"wind\": 21.05653192591779, \"precipitation\": 98.10920750481597, \"condition\": \"fog\"}, {\"temperature\": 2.807402352777551, \"wind\": 40.81431754466085, \"precipitation\": 17.10555449196962, \"condition\": \"drizzle\"}, {\"temperature\": 33.60928142306782, \"wind\": 68.86862385408263, \"precipitation\": 1.7511520670655312, \"condition\": \"drizzle\"}, {\"temperature\": -3.7305842295491463, \"wind\": 22.99270590580842, \"precipitation\": 20.45024425044729, \"condition\": \"sun\"}, {\"temperature\": 38.88636288200788, \"wind\": 4.451268770649408, \"precipitation\": 50.18581381273084, \"condition\": \"snow\"}, {\"temperature\": 30.677916880360065, \"wind\": 57.58927095398997, \"precipitation\": 3.882294040985468, \"condition\": \"sun\"}, {\"temperature\": 20.936747003011536, \"wind\": 86.15890903839221, \"precipitation\": 84.64626055952643, \"condition\": \"sun\"}, {\"temperature\": 37.960508459665974, \"wind\": 83.22348385800635, \"precipitation\": 78.09579123477448, \"condition\": \"sun\"}, {\"temperature\": 2.789340992140385, \"wind\": 5.604841844996544, \"precipitation\": 64.23176719571818, \"condition\": \"rain\"}, {\"temperature\": -7.362921707472104, \"wind\": 57.37740217449133, \"precipitation\": 18.499742279296438, \"condition\": \"sun\"}, {\"temperature\": 1.1912189059593281, \"wind\": 46.52929788933954, \"precipitation\": 56.223732701756326, \"condition\": \"rain\"}, {\"temperature\": 5.601287545202137, \"wind\": 10.557820768094484, \"precipitation\": 10.005361911795385, \"condition\": \"sun\"}, {\"temperature\": 38.06145401149945, \"wind\": 40.55588658579815, \"precipitation\": 18.57864165136399, \"condition\": \"rain\"}, {\"temperature\": 10.003338415782952, \"wind\": 0.38143550979561347, \"precipitation\": 3.4323593600883995, \"condition\": \"snow\"}, {\"temperature\": 35.51840784136351, \"wind\": 85.38213169679159, \"precipitation\": 72.28024508142481, \"condition\": \"rain\"}, {\"temperature\": 42.22464006089062, \"wind\": 21.90245982426261, \"precipitation\": 64.4540475166047, \"condition\": \"snow\"}, {\"temperature\": 42.62614276410388, \"wind\": 16.596731146807365, \"precipitation\": 85.31723680641925, \"condition\": \"sun\"}, {\"temperature\": 4.666633193701054, \"wind\": 13.9068281587152, \"precipitation\": 87.48180339020342, \"condition\": \"drizzle\"}, {\"temperature\": 16.15426117162615, \"wind\": 38.00342325742586, \"precipitation\": 47.264072847267016, \"condition\": \"rain\"}, {\"temperature\": 15.032591880472172, \"wind\": 86.42884715473586, \"precipitation\": 81.69554228509587, \"condition\": \"rain\"}, {\"temperature\": 35.19149371217065, \"wind\": 72.5074270480888, \"precipitation\": 22.443215096530544, \"condition\": \"sun\"}, {\"temperature\": 26.84120821812121, \"wind\": 83.91441221303555, \"precipitation\": 63.11915666511897, \"condition\": \"drizzle\"}, {\"temperature\": 34.88005063805122, \"wind\": 45.33004448381994, \"precipitation\": 0.9935886811615613, \"condition\": \"rain\"}, {\"temperature\": 41.376840349386185, \"wind\": 7.544840957817378, \"precipitation\": 54.70235300254609, \"condition\": \"snow\"}, {\"temperature\": 36.960725847409456, \"wind\": 49.46574838149229, \"precipitation\": 85.47567556668297, \"condition\": \"snow\"}, {\"temperature\": 14.586289413415074, \"wind\": 4.489700154671472, \"precipitation\": 10.31362572720238, \"condition\": \"sun\"}, {\"temperature\": 20.04343950622185, \"wind\": 66.32817964057357, \"precipitation\": 74.44590348494177, \"condition\": \"sun\"}, {\"temperature\": 25.469560172224703, \"wind\": 82.06241734640489, \"precipitation\": 61.201009993418275, \"condition\": \"rain\"}, {\"temperature\": 20.070995853722245, \"wind\": 46.445227996549974, \"precipitation\": 53.59556892779981, \"condition\": \"snow\"}, {\"temperature\": 5.685018294722338, \"wind\": 58.17077525039538, \"precipitation\": 31.236078403128474, \"condition\": \"snow\"}, {\"temperature\": 42.487483009401764, \"wind\": 71.08000859923487, \"precipitation\": 61.47201457950021, \"condition\": \"rain\"}, {\"temperature\": -7.079256299328551, \"wind\": 27.004309009604967, \"precipitation\": 19.794263832693815, \"condition\": \"rain\"}, {\"temperature\": -5.045047126960084, \"wind\": 88.93771732732128, \"precipitation\": 99.50453536234512, \"condition\": \"fog\"}, {\"temperature\": 25.4533582484732, \"wind\": 96.38774772376792, \"precipitation\": 69.85460214191481, \"condition\": \"rain\"}, {\"temperature\": 22.955919291252926, \"wind\": 88.48558780603962, \"precipitation\": 40.268588772168876, \"condition\": \"snow\"}, {\"temperature\": 27.507453592914565, \"wind\": 29.838439613656075, \"precipitation\": 27.845875256677367, \"condition\": \"fog\"}, {\"temperature\": -6.870451234225997, \"wind\": 54.90225410574824, \"precipitation\": 29.74026895430255, \"condition\": \"snow\"}, {\"temperature\": 41.66879121402853, \"wind\": 21.388390668516323, \"precipitation\": 23.449697200445573, \"condition\": \"sun\"}, {\"temperature\": 15.838369384298645, \"wind\": 14.553164438107524, \"precipitation\": 78.9078385630916, \"condition\": \"sun\"}, {\"temperature\": 13.794652090601591, \"wind\": 31.915985033787553, \"precipitation\": 65.39000850075058, \"condition\": \"fog\"}, {\"temperature\": -0.24791853446323842, \"wind\": 16.053122209894966, \"precipitation\": 26.219628309452382, \"condition\": \"sun\"}, {\"temperature\": 20.625989859426074, \"wind\": 15.348759697534453, \"precipitation\": 94.2004787208339, \"condition\": \"rain\"}, {\"temperature\": 17.22130558630064, \"wind\": 61.15140884010469, \"precipitation\": 27.79385279217691, \"condition\": \"snow\"}, {\"temperature\": 15.342628921870396, \"wind\": 52.15522860596962, \"precipitation\": 44.258578235337545, \"condition\": \"drizzle\"}, {\"temperature\": 43.28838980732394, \"wind\": 30.617573960681387, \"precipitation\": 90.705784312922, \"condition\": \"drizzle\"}, {\"temperature\": 31.752614189233682, \"wind\": 54.002536771242745, \"precipitation\": 98.5871144935895, \"condition\": \"drizzle\"}, {\"temperature\": 3.5475184692079793, \"wind\": 96.91039458765935, \"precipitation\": 50.00054618320339, \"condition\": \"fog\"}]}}, {\"mode\": \"vega-lite\"});\n</script>",
      "text/plain": "alt.HConcatChart(...)"
     },
     "metadata": {},
     "output_type": "display_data"
    }
   ],
   "source": [
    "base = alt.Chart(df)\n",
    "\n",
    "tick = base.mark_tick().encode(y=alt.Y(field=\"temperature\", type=\"quantitative\"))\n",
    "view_1 = tick\n",
    "\n",
    "bar = base.mark_bar().encode(\n",
    "    x=alt.X(field=\"condition\", type=\"nominal\"),\n",
    "    y=alt.Y(field=\"temperature\", type=\"quantitative\", aggregate=\"mean\"),\n",
    ")\n",
    "view_2 = bar\n",
    "chart = alt.hconcat(view_1, view_2).resolve_scale(y=\"shared\")\n",
    "\n",
    "display_chart(chart)"
   ]
  },
  {
   "cell_type": "code",
   "execution_count": 203,
   "metadata": {},
   "outputs": [],
   "source": [
    "from typing import Mapping, Generic, TypeVar\n",
    "from abc import ABC, abstractmethod\n",
    "\n",
    "T = TypeVar(\"T\")\n",
    "SpecProperty = str | int | float | bool | None | dict\n",
    "\n",
    "\n",
    "class BaseRenderer(ABC, Generic[T]):\n",
    "    \"\"\"\n",
    "    Base class for all renderers.\n",
    "    \"\"\"\n",
    "\n",
    "    def render(self, spec: Mapping) -> T:\n",
    "        \"\"\"\n",
    "        Render a dictionary-based specification\n",
    "        into a concrete rendering product of type `T`.\n",
    "        The rendering object's actual type depends on the concrete renderer.\n",
    "\n",
    "        :param spec: dictionary-based specification\n",
    "        :return: product of the rendering\n",
    "        \"\"\"\n",
    "\n",
    "        def visit_mapping(\n",
    "            dct: Mapping, path: tuple[str | int, ...] = (), acc: T = self._initial\n",
    "        ):\n",
    "            \"\"\"\n",
    "            Recursively visit a dictionary-based specification.\n",
    "\n",
    "            :param dct: dictionary-based specification\n",
    "            :param path: path to the current node\n",
    "            :param acc: accumulated rendering product\n",
    "            \"\"\"\n",
    "            for key, value in dct.items():\n",
    "                if isinstance(value, dict):\n",
    "                    # if the current value does not have further dicts in it, then call the visitor\n",
    "                    if not any(isinstance(v, dict) for v in value.values()):\n",
    "                        acc = self._visitor(value, path + (key,), acc)\n",
    "                    else:\n",
    "                        visit_mapping(value, path + (key,), acc)\n",
    "                elif isinstance(value, list):\n",
    "                    for i, item in enumerate(value):\n",
    "                        visit_mapping(item, path + (key, i), acc)\n",
    "                else:\n",
    "                    acc = self._visitor(value, path + (key,), acc)\n",
    "\n",
    "        return visit_mapping(spec)\n",
    "\n",
    "    @property\n",
    "    @abstractmethod\n",
    "    def _initial(self) -> T:\n",
    "        raise NotImplementedError\n",
    "\n",
    "    @abstractmethod\n",
    "    def _visitor(self, value: SpecProperty, path: tuple[str | int, ...], acc: T) -> T:\n",
    "        raise NotImplementedError\n",
    "\n",
    "\n",
    "class VegaLiteRenderer(BaseRenderer):\n",
    "    @property\n",
    "    def _initial(self) -> T:\n",
    "        return {}\n",
    "\n",
    "    def _visitor(self, value: SpecProperty, path: tuple[str | int, ...], acc: T) -> T:\n",
    "        print(path, value)\n",
    "        return acc"
   ]
  },
  {
   "cell_type": "code",
   "execution_count": 205,
   "outputs": [
    {
     "name": "stdout",
     "output_type": "stream",
     "text": [
      "{'number_rows': 100, 'field': [{'name': 'temperature', 'type': 'number'}, {'name': 'condition', 'type': 'string'}], 'view': [{'mark': [{'type': 'tick', 'encoding': [{'channel': 'y', 'field': 'temperature'}]}]}, {'mark': [{'type': 'bar', 'encoding': [{'channel': 'y', 'field': 'temperature', 'aggregate': 'mean'}, {'channel': 'x', 'field': 'condition'}]}], 'scale': [{'channel': 'x', 'type': 'ordinal'}]}], 'scale': [{'channel': 'y', 'type': 'linear', 'zero': 'true'}]}\n",
      "('number_rows',) 100\n",
      "('field', 0, 'name') temperature\n",
      "('field', 0, 'type') number\n",
      "('field', 1, 'name') condition\n",
      "('field', 1, 'type') string\n",
      "('view', 0, 'mark', 0, 'type') tick\n",
      "('view', 0, 'mark', 0, 'encoding', 0, 'channel') y\n",
      "('view', 0, 'mark', 0, 'encoding', 0, 'field') temperature\n",
      "('view', 1, 'mark', 0, 'type') bar\n",
      "('view', 1, 'mark', 0, 'encoding', 0, 'channel') y\n",
      "('view', 1, 'mark', 0, 'encoding', 0, 'field') temperature\n",
      "('view', 1, 'mark', 0, 'encoding', 0, 'aggregate') mean\n",
      "('view', 1, 'mark', 0, 'encoding', 1, 'channel') x\n",
      "('view', 1, 'mark', 0, 'encoding', 1, 'field') condition\n",
      "('view', 1, 'scale', 0, 'channel') x\n",
      "('view', 1, 'scale', 0, 'type') ordinal\n",
      "('scale', 0, 'channel') y\n",
      "('scale', 0, 'type') linear\n",
      "('scale', 0, 'zero') true\n"
     ]
    }
   ],
   "source": [
    "vl = VegaLiteRenderer()\n",
    "print(spec)\n",
    "vl.render(spec)"
   ],
   "metadata": {
    "collapsed": false
   }
  },
  {
   "cell_type": "code",
   "execution_count": null,
   "outputs": [],
   "source": [],
   "metadata": {
    "collapsed": false
   }
  }
 ],
 "metadata": {
  "kernelspec": {
   "display_name": "Python 3 (ipykernel)",
   "language": "python",
   "name": "python3"
  },
  "language_info": {
   "codemirror_mode": {
    "name": "ipython",
    "version": 3
   },
   "file_extension": ".py",
   "mimetype": "text/x-python",
   "name": "python",
   "nbconvert_exporter": "python",
   "pygments_lexer": "ipython3",
   "version": "3.10.3"
  }
 },
 "nbformat": 4,
 "nbformat_minor": 1
}
