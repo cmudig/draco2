{
 "cells": [
  {
   "cell_type": "markdown",
   "metadata": {},
   "source": [
    "# Example Charts\n",
    "\n",
    "This notebook recreates the examples from [https://dig.cmu.edu/draco2/facts/examples.html#](https://dig.cmu.edu/draco2/facts/examples.html#)."
   ]
  },
  {
   "cell_type": "code",
   "execution_count": 1,
   "metadata": {},
   "outputs": [],
   "source": [
    "from pprint import pprint\n",
    "from draco.fact_utils import answer_set_to_dict\n",
    "from draco.run import run_clingo\n",
    "import altair as alt\n",
    "from altair import datum"
   ]
  },
  {
   "cell_type": "code",
   "execution_count": 2,
   "metadata": {},
   "outputs": [],
   "source": [
    "def facts_to_dict(facts: list[str]):\n",
    "    result = run_clingo(facts)\n",
    "    return answer_set_to_dict(next(result).answer_set)"
   ]
  },
  {
   "cell_type": "code",
   "execution_count": 3,
   "metadata": {},
   "outputs": [],
   "source": [
    "from IPython.display import display\n",
    "import json\n",
    "\n",
    "\n",
    "def display_chart(chart: alt.Chart):\n",
    "    dct = json.loads(chart.to_json())\n",
    "    dct.pop(\"data\")\n",
    "    dct.pop(\"datasets\")\n",
    "    pprint(dct)\n",
    "    display(chart)"
   ]
  },
  {
   "cell_type": "code",
   "execution_count": 4,
   "metadata": {},
   "outputs": [],
   "source": [
    "import pandas as pd\n",
    "import random\n",
    "\n",
    "# Generate a random dataframe with the following columns:\n",
    "# - temperature: a random float between -10 and 44\n",
    "# - wind: a random float between 0 and 100\n",
    "# - precipitation: a random float between 0 and 100\n",
    "# - condition: a random string from the list [\"drizzle\", \"fog\", \"rain\", \"sun\", \"snow\"]\n",
    "NUM_ROWS = 100\n",
    "df = pd.DataFrame(\n",
    "    {\n",
    "        \"temperature\": [random.uniform(-10, 44) for _ in range(NUM_ROWS)],\n",
    "        \"wind\": [random.uniform(0, 100) for _ in range(NUM_ROWS)],\n",
    "        \"precipitation\": [random.uniform(0, 100) for _ in range(NUM_ROWS)],\n",
    "        \"condition\": [\n",
    "            random.choice([\"drizzle\", \"fog\", \"rain\", \"sun\", \"snow\"])\n",
    "            for _ in range(NUM_ROWS)\n",
    "        ],\n",
    "    }\n",
    ")"
   ]
  },
  {
   "cell_type": "code",
   "execution_count": 5,
   "metadata": {},
   "outputs": [
    {
     "data": {
      "text/html": [
       "<div>\n",
       "<style scoped>\n",
       "    .dataframe tbody tr th:only-of-type {\n",
       "        vertical-align: middle;\n",
       "    }\n",
       "\n",
       "    .dataframe tbody tr th {\n",
       "        vertical-align: top;\n",
       "    }\n",
       "\n",
       "    .dataframe thead th {\n",
       "        text-align: right;\n",
       "    }\n",
       "</style>\n",
       "<table border=\"1\" class=\"dataframe\">\n",
       "  <thead>\n",
       "    <tr style=\"text-align: right;\">\n",
       "      <th></th>\n",
       "      <th>temperature</th>\n",
       "      <th>wind</th>\n",
       "      <th>precipitation</th>\n",
       "      <th>condition</th>\n",
       "    </tr>\n",
       "  </thead>\n",
       "  <tbody>\n",
       "    <tr>\n",
       "      <th>0</th>\n",
       "      <td>17.893653</td>\n",
       "      <td>78.756856</td>\n",
       "      <td>41.611246</td>\n",
       "      <td>rain</td>\n",
       "    </tr>\n",
       "    <tr>\n",
       "      <th>1</th>\n",
       "      <td>5.622818</td>\n",
       "      <td>25.421999</td>\n",
       "      <td>74.905551</td>\n",
       "      <td>rain</td>\n",
       "    </tr>\n",
       "    <tr>\n",
       "      <th>2</th>\n",
       "      <td>23.390209</td>\n",
       "      <td>9.846103</td>\n",
       "      <td>81.335364</td>\n",
       "      <td>rain</td>\n",
       "    </tr>\n",
       "    <tr>\n",
       "      <th>3</th>\n",
       "      <td>20.889554</td>\n",
       "      <td>27.535213</td>\n",
       "      <td>27.654932</td>\n",
       "      <td>drizzle</td>\n",
       "    </tr>\n",
       "    <tr>\n",
       "      <th>4</th>\n",
       "      <td>33.910262</td>\n",
       "      <td>97.910328</td>\n",
       "      <td>36.534943</td>\n",
       "      <td>snow</td>\n",
       "    </tr>\n",
       "  </tbody>\n",
       "</table>\n",
       "</div>"
      ],
      "text/plain": [
       "   temperature       wind  precipitation condition\n",
       "0    17.893653  78.756856      41.611246      rain\n",
       "1     5.622818  25.421999      74.905551      rain\n",
       "2    23.390209   9.846103      81.335364      rain\n",
       "3    20.889554  27.535213      27.654932   drizzle\n",
       "4    33.910262  97.910328      36.534943      snow"
      ]
     },
     "execution_count": 5,
     "metadata": {},
     "output_type": "execute_result"
    }
   ],
   "source": [
    "df.head()"
   ]
  },
  {
   "cell_type": "markdown",
   "metadata": {},
   "source": [
    "## Single View, Single Mark Charts"
   ]
  },
  {
   "cell_type": "markdown",
   "metadata": {},
   "source": [
    "### Tick Plot"
   ]
  },
  {
   "cell_type": "code",
   "execution_count": 6,
   "metadata": {},
   "outputs": [
    {
     "name": "stdout",
     "output_type": "stream",
     "text": [
      "{'field': [{'name': 'temperature', 'type': 'number'}],\n",
      " 'number_rows': 100,\n",
      " 'view': [{'mark': [{'encoding': [{'channel': 'x', 'field': 'temperature'}],\n",
      "                     'type': 'tick'}],\n",
      "           'scale': [{'channel': 'x', 'type': 'linear'}]}]}\n"
     ]
    }
   ],
   "source": [
    "facts = [\n",
    "    \"attribute(number_rows,root,100).\",\n",
    "    \"entity(field,root,temperature).\",\n",
    "    \"attribute((field,name),temperature,temperature).\",\n",
    "    \"attribute((field,type),temperature,number).\",\n",
    "    \"entity(view,root,0).\",\n",
    "    \"entity(mark,0,1).\",\n",
    "    \"attribute((mark,type),1,tick).\",\n",
    "    \"entity(encoding,1,2).\",\n",
    "    \"attribute((encoding,channel),2,x).\",\n",
    "    \"attribute((encoding,field),2,temperature).\",\n",
    "    \"entity(scale,0,3).\",\n",
    "    \"attribute((scale,channel),3,x).\",\n",
    "    \"attribute((scale,type),3,linear).\",\n",
    "]\n",
    "spec = facts_to_dict(facts)\n",
    "pprint(spec)"
   ]
  },
  {
   "cell_type": "code",
   "execution_count": 7,
   "metadata": {},
   "outputs": [
    {
     "name": "stdout",
     "output_type": "stream",
     "text": [
      "{'$schema': 'https://vega.github.io/schema/vega-lite/v4.17.0.json',\n",
      " 'config': {'view': {'continuousHeight': 300, 'continuousWidth': 400}},\n",
      " 'encoding': {'x': {'field': 'temperature',\n",
      "                    'scale': {'type': 'linear'},\n",
      "                    'type': 'quantitative'}},\n",
      " 'mark': 'tick'}\n"
     ]
    },
    {
     "name": "stderr",
     "output_type": "stream",
     "text": [
      "/Users/petergy/Library/Caches/pypoetry/virtualenvs/draco-q9RTEhXP-py3.10/lib/python3.10/site-packages/altair/utils/core.py:317: FutureWarning: iteritems is deprecated and will be removed in a future version. Use .items instead.\n",
      "  for col_name, dtype in df.dtypes.iteritems():\n"
     ]
    },
    {
     "data": {
      "text/html": [
       "\n",
       "<div id=\"altair-viz-f6c5563422c540eaae9ec3011032853a\"></div>\n",
       "<script type=\"text/javascript\">\n",
       "  var VEGA_DEBUG = (typeof VEGA_DEBUG == \"undefined\") ? {} : VEGA_DEBUG;\n",
       "  (function(spec, embedOpt){\n",
       "    let outputDiv = document.currentScript.previousElementSibling;\n",
       "    if (outputDiv.id !== \"altair-viz-f6c5563422c540eaae9ec3011032853a\") {\n",
       "      outputDiv = document.getElementById(\"altair-viz-f6c5563422c540eaae9ec3011032853a\");\n",
       "    }\n",
       "    const paths = {\n",
       "      \"vega\": \"https://cdn.jsdelivr.net/npm//vega@5?noext\",\n",
       "      \"vega-lib\": \"https://cdn.jsdelivr.net/npm//vega-lib?noext\",\n",
       "      \"vega-lite\": \"https://cdn.jsdelivr.net/npm//vega-lite@4.17.0?noext\",\n",
       "      \"vega-embed\": \"https://cdn.jsdelivr.net/npm//vega-embed@6?noext\",\n",
       "    };\n",
       "\n",
       "    function maybeLoadScript(lib, version) {\n",
       "      var key = `${lib.replace(\"-\", \"\")}_version`;\n",
       "      return (VEGA_DEBUG[key] == version) ?\n",
       "        Promise.resolve(paths[lib]) :\n",
       "        new Promise(function(resolve, reject) {\n",
       "          var s = document.createElement('script');\n",
       "          document.getElementsByTagName(\"head\")[0].appendChild(s);\n",
       "          s.async = true;\n",
       "          s.onload = () => {\n",
       "            VEGA_DEBUG[key] = version;\n",
       "            return resolve(paths[lib]);\n",
       "          };\n",
       "          s.onerror = () => reject(`Error loading script: ${paths[lib]}`);\n",
       "          s.src = paths[lib];\n",
       "        });\n",
       "    }\n",
       "\n",
       "    function showError(err) {\n",
       "      outputDiv.innerHTML = `<div class=\"error\" style=\"color:red;\">${err}</div>`;\n",
       "      throw err;\n",
       "    }\n",
       "\n",
       "    function displayChart(vegaEmbed) {\n",
       "      vegaEmbed(outputDiv, spec, embedOpt)\n",
       "        .catch(err => showError(`Javascript Error: ${err.message}<br>This usually means there's a typo in your chart specification. See the javascript console for the full traceback.`));\n",
       "    }\n",
       "\n",
       "    if(typeof define === \"function\" && define.amd) {\n",
       "      requirejs.config({paths});\n",
       "      require([\"vega-embed\"], displayChart, err => showError(`Error loading script: ${err.message}`));\n",
       "    } else {\n",
       "      maybeLoadScript(\"vega\", \"5\")\n",
       "        .then(() => maybeLoadScript(\"vega-lite\", \"4.17.0\"))\n",
       "        .then(() => maybeLoadScript(\"vega-embed\", \"6\"))\n",
       "        .catch(showError)\n",
       "        .then(() => displayChart(vegaEmbed));\n",
       "    }\n",
       "  })({\"config\": {\"view\": {\"continuousWidth\": 400, \"continuousHeight\": 300}}, \"data\": {\"name\": \"data-124c435c1b687eb7890344117a1c86b4\"}, \"mark\": \"tick\", \"encoding\": {\"x\": {\"field\": \"temperature\", \"scale\": {\"type\": \"linear\"}, \"type\": \"quantitative\"}}, \"$schema\": \"https://vega.github.io/schema/vega-lite/v4.17.0.json\", \"datasets\": {\"data-124c435c1b687eb7890344117a1c86b4\": [{\"temperature\": 17.89365303788651, \"wind\": 78.75685633883592, \"precipitation\": 41.61124606702779, \"condition\": \"rain\"}, {\"temperature\": 5.622818441769336, \"wind\": 25.421998841055917, \"precipitation\": 74.90555083684964, \"condition\": \"rain\"}, {\"temperature\": 23.3902094090436, \"wind\": 9.846103163487696, \"precipitation\": 81.33536438710783, \"condition\": \"rain\"}, {\"temperature\": 20.889554427248395, \"wind\": 27.53521295661492, \"precipitation\": 27.6549324712597, \"condition\": \"drizzle\"}, {\"temperature\": 33.91026207788065, \"wind\": 97.91032820138525, \"precipitation\": 36.53494267552425, \"condition\": \"snow\"}, {\"temperature\": 39.65611406756084, \"wind\": 24.27383951799732, \"precipitation\": 33.38647147375286, \"condition\": \"rain\"}, {\"temperature\": 5.670659801967243, \"wind\": 98.20197823012846, \"precipitation\": 93.72832557739356, \"condition\": \"snow\"}, {\"temperature\": -2.2776070811204505, \"wind\": 77.90443786588797, \"precipitation\": 50.102310147035375, \"condition\": \"drizzle\"}, {\"temperature\": 43.104548648992775, \"wind\": 74.77698982401796, \"precipitation\": 89.95647852559429, \"condition\": \"sun\"}, {\"temperature\": 1.8049661385207525, \"wind\": 91.29152261118769, \"precipitation\": 29.77145087552332, \"condition\": \"fog\"}, {\"temperature\": 14.327115187571408, \"wind\": 45.054261048821296, \"precipitation\": 17.654846400296798, \"condition\": \"drizzle\"}, {\"temperature\": 25.44797791508993, \"wind\": 22.265267642454656, \"precipitation\": 60.37929677885421, \"condition\": \"drizzle\"}, {\"temperature\": 11.19016835531465, \"wind\": 77.30294308487814, \"precipitation\": 71.65443847888368, \"condition\": \"snow\"}, {\"temperature\": 22.948827407585433, \"wind\": 27.03785915458824, \"precipitation\": 92.68901140573688, \"condition\": \"snow\"}, {\"temperature\": 33.16555388154543, \"wind\": 92.1292103045794, \"precipitation\": 39.10838647644195, \"condition\": \"snow\"}, {\"temperature\": 9.981393546660723, \"wind\": 66.73004528306666, \"precipitation\": 19.36957583451713, \"condition\": \"drizzle\"}, {\"temperature\": 2.837559858993796, \"wind\": 18.62443662393004, \"precipitation\": 57.42273968155751, \"condition\": \"sun\"}, {\"temperature\": 39.14290590745285, \"wind\": 32.52859013259527, \"precipitation\": 88.21897530715309, \"condition\": \"rain\"}, {\"temperature\": 39.2325438266719, \"wind\": 2.511353474345024, \"precipitation\": 78.95158173752907, \"condition\": \"fog\"}, {\"temperature\": 2.949456835649645, \"wind\": 1.9370157264502197, \"precipitation\": 3.5337114891518584, \"condition\": \"fog\"}, {\"temperature\": 28.422917308067277, \"wind\": 6.822434636914776, \"precipitation\": 84.5655158038795, \"condition\": \"fog\"}, {\"temperature\": 28.406344711783838, \"wind\": 95.25216996998444, \"precipitation\": 2.312429289727791, \"condition\": \"fog\"}, {\"temperature\": 23.929825809705775, \"wind\": 28.441727967722407, \"precipitation\": 94.94371547195382, \"condition\": \"drizzle\"}, {\"temperature\": 25.144603850494207, \"wind\": 5.7248518372133965, \"precipitation\": 72.55961327284773, \"condition\": \"drizzle\"}, {\"temperature\": -3.1069016270510676, \"wind\": 90.56068308052812, \"precipitation\": 8.208347981870512, \"condition\": \"rain\"}, {\"temperature\": 43.07443333444708, \"wind\": 63.33777651825151, \"precipitation\": 35.343598004733714, \"condition\": \"sun\"}, {\"temperature\": -8.715631484900875, \"wind\": 78.50049089036061, \"precipitation\": 16.726772866900042, \"condition\": \"fog\"}, {\"temperature\": 10.058625587365142, \"wind\": 82.55410159133031, \"precipitation\": 49.82193593499935, \"condition\": \"fog\"}, {\"temperature\": 27.912341883718938, \"wind\": 45.94389098129158, \"precipitation\": 87.71806691348185, \"condition\": \"sun\"}, {\"temperature\": 28.827008981675903, \"wind\": 14.352645600160752, \"precipitation\": 95.30777240838884, \"condition\": \"sun\"}, {\"temperature\": -5.245472855196331, \"wind\": 24.463633090927274, \"precipitation\": 63.1630488725617, \"condition\": \"fog\"}, {\"temperature\": -4.738627417736829, \"wind\": 87.61779675788263, \"precipitation\": 67.17488470646667, \"condition\": \"fog\"}, {\"temperature\": -1.6463371096382655, \"wind\": 34.15953757649686, \"precipitation\": 83.20021064524306, \"condition\": \"rain\"}, {\"temperature\": -8.671469939339552, \"wind\": 28.02148157701091, \"precipitation\": 8.858286414027772, \"condition\": \"snow\"}, {\"temperature\": 23.586980668182306, \"wind\": 32.61177727202879, \"precipitation\": 90.55384722692395, \"condition\": \"snow\"}, {\"temperature\": 42.93552301196303, \"wind\": 17.459007963452034, \"precipitation\": 76.26693620563219, \"condition\": \"sun\"}, {\"temperature\": 14.04271616398174, \"wind\": 31.44611970670743, \"precipitation\": 27.736449442339893, \"condition\": \"rain\"}, {\"temperature\": 33.93136729382773, \"wind\": 85.0980112392488, \"precipitation\": 48.72266227519502, \"condition\": \"fog\"}, {\"temperature\": 29.10713627050935, \"wind\": 25.401508775422734, \"precipitation\": 83.25120184383715, \"condition\": \"fog\"}, {\"temperature\": 23.33130010979005, \"wind\": 38.960479467358745, \"precipitation\": 84.8094568801428, \"condition\": \"rain\"}, {\"temperature\": 27.820447049966695, \"wind\": 97.47611794506456, \"precipitation\": 59.404606053602336, \"condition\": \"fog\"}, {\"temperature\": 24.704809156505995, \"wind\": 56.929461372432655, \"precipitation\": 16.583726619344496, \"condition\": \"drizzle\"}, {\"temperature\": 42.73839675123029, \"wind\": 19.024929246369528, \"precipitation\": 37.515692671204135, \"condition\": \"sun\"}, {\"temperature\": 39.73480992464111, \"wind\": 63.10268501376382, \"precipitation\": 15.20512544845365, \"condition\": \"fog\"}, {\"temperature\": 34.928857478491054, \"wind\": 44.34437827092474, \"precipitation\": 2.9919970218495684, \"condition\": \"sun\"}, {\"temperature\": 12.475457440238529, \"wind\": 45.63508245761745, \"precipitation\": 1.5684442569828705, \"condition\": \"fog\"}, {\"temperature\": 11.485742656702111, \"wind\": 35.43011450755876, \"precipitation\": 46.843314320146966, \"condition\": \"fog\"}, {\"temperature\": 16.58332024159822, \"wind\": 85.9387003246595, \"precipitation\": 67.67417859666371, \"condition\": \"sun\"}, {\"temperature\": 42.96961504747511, \"wind\": 61.02100908610409, \"precipitation\": 40.19537213295094, \"condition\": \"snow\"}, {\"temperature\": 43.01306682260888, \"wind\": 91.58796490357004, \"precipitation\": 10.242970289225461, \"condition\": \"sun\"}, {\"temperature\": 17.888206090116245, \"wind\": 29.82373325722851, \"precipitation\": 44.29455934969246, \"condition\": \"sun\"}, {\"temperature\": 13.700882757230424, \"wind\": 46.93705512034313, \"precipitation\": 76.07676796446637, \"condition\": \"rain\"}, {\"temperature\": 4.986331720563626, \"wind\": 81.90760931416689, \"precipitation\": 34.892239668746406, \"condition\": \"drizzle\"}, {\"temperature\": -1.4778346288931683, \"wind\": 3.9791854357363987, \"precipitation\": 7.535152538482148, \"condition\": \"drizzle\"}, {\"temperature\": 16.892161248783623, \"wind\": 31.993361074291926, \"precipitation\": 60.46401934620111, \"condition\": \"drizzle\"}, {\"temperature\": -7.17506030059671, \"wind\": 5.042336185555952, \"precipitation\": 88.35922403405787, \"condition\": \"drizzle\"}, {\"temperature\": 9.85908134441586, \"wind\": 48.491362316119236, \"precipitation\": 23.80248472573617, \"condition\": \"snow\"}, {\"temperature\": 28.54368725395195, \"wind\": 5.72748587709313, \"precipitation\": 25.974359374267742, \"condition\": \"drizzle\"}, {\"temperature\": 41.85044222939622, \"wind\": 3.311333417116047, \"precipitation\": 1.7918023488591839, \"condition\": \"snow\"}, {\"temperature\": 39.51847585775124, \"wind\": 89.64939452111453, \"precipitation\": 48.53950512768904, \"condition\": \"fog\"}, {\"temperature\": 4.1511791382858725, \"wind\": 58.14172937556887, \"precipitation\": 79.66452798481971, \"condition\": \"drizzle\"}, {\"temperature\": 7.316849144326355, \"wind\": 6.796864846855866, \"precipitation\": 33.619090549629306, \"condition\": \"snow\"}, {\"temperature\": -6.040726652488083, \"wind\": 24.37214720554359, \"precipitation\": 71.46568853073089, \"condition\": \"rain\"}, {\"temperature\": 28.05026452008928, \"wind\": 19.39989397387041, \"precipitation\": 71.68725771245654, \"condition\": \"drizzle\"}, {\"temperature\": 35.30623993317926, \"wind\": 66.54091843981752, \"precipitation\": 22.884049790672588, \"condition\": \"rain\"}, {\"temperature\": -9.078168118751755, \"wind\": 54.53321547753263, \"precipitation\": 66.43449936744369, \"condition\": \"sun\"}, {\"temperature\": 34.31111609068961, \"wind\": 92.79899053872957, \"precipitation\": 61.9431928594434, \"condition\": \"sun\"}, {\"temperature\": -0.5340863902706268, \"wind\": 89.18484464889846, \"precipitation\": 88.49655552922172, \"condition\": \"rain\"}, {\"temperature\": -7.331283732097262, \"wind\": 16.43300088620039, \"precipitation\": 92.15523633598885, \"condition\": \"drizzle\"}, {\"temperature\": 34.4512940591614, \"wind\": 16.982566694713043, \"precipitation\": 66.50391898652623, \"condition\": \"fog\"}, {\"temperature\": 2.292195972387347, \"wind\": 78.07758659490037, \"precipitation\": 85.08941323813521, \"condition\": \"snow\"}, {\"temperature\": 10.280188069701488, \"wind\": 64.37598506985243, \"precipitation\": 46.13428294966927, \"condition\": \"sun\"}, {\"temperature\": 14.385637791164196, \"wind\": 27.710246014732775, \"precipitation\": 82.18132103083111, \"condition\": \"rain\"}, {\"temperature\": 15.068929930658907, \"wind\": 90.37313777532859, \"precipitation\": 95.42688091272505, \"condition\": \"rain\"}, {\"temperature\": -5.931704200276687, \"wind\": 76.30697305192514, \"precipitation\": 48.17926018036856, \"condition\": \"drizzle\"}, {\"temperature\": -1.2238906425326128, \"wind\": 77.25655113115953, \"precipitation\": 12.189057445370022, \"condition\": \"sun\"}, {\"temperature\": 17.981273164150583, \"wind\": 99.8855194023956, \"precipitation\": 5.951490853046981, \"condition\": \"drizzle\"}, {\"temperature\": 8.333054222089164, \"wind\": 22.351144710727677, \"precipitation\": 1.9907985646430038, \"condition\": \"rain\"}, {\"temperature\": 40.99117292213711, \"wind\": 12.537186007473021, \"precipitation\": 3.0957134444521195, \"condition\": \"drizzle\"}, {\"temperature\": 36.29560583814439, \"wind\": 47.282861379528676, \"precipitation\": 50.72175472263106, \"condition\": \"fog\"}, {\"temperature\": 8.011942225789358, \"wind\": 80.64679426688298, \"precipitation\": 84.74031260132877, \"condition\": \"sun\"}, {\"temperature\": 32.64189921238727, \"wind\": 78.38867921926278, \"precipitation\": 94.27015659699374, \"condition\": \"fog\"}, {\"temperature\": -4.159829210634211, \"wind\": 53.39060475873939, \"precipitation\": 50.60795287404672, \"condition\": \"fog\"}, {\"temperature\": -6.602296737522483, \"wind\": 86.55899134629715, \"precipitation\": 62.64697378600636, \"condition\": \"fog\"}, {\"temperature\": 40.135239145180655, \"wind\": 16.633704419495032, \"precipitation\": 41.391087682479736, \"condition\": \"drizzle\"}, {\"temperature\": 26.95881305440288, \"wind\": 85.8809786017975, \"precipitation\": 71.9617762842435, \"condition\": \"drizzle\"}, {\"temperature\": 11.92991543604046, \"wind\": 76.39140196294017, \"precipitation\": 60.40612399492309, \"condition\": \"drizzle\"}, {\"temperature\": 19.566301202766702, \"wind\": 72.97802286558691, \"precipitation\": 29.681848692175006, \"condition\": \"drizzle\"}, {\"temperature\": 10.481864045771506, \"wind\": 10.269367839292642, \"precipitation\": 85.87287289024248, \"condition\": \"rain\"}, {\"temperature\": -9.620152753805623, \"wind\": 64.57630699894213, \"precipitation\": 29.06583641537993, \"condition\": \"drizzle\"}, {\"temperature\": 24.85823346816882, \"wind\": 64.44200648973889, \"precipitation\": 32.79358601401415, \"condition\": \"sun\"}, {\"temperature\": -9.71401231081625, \"wind\": 46.94482107365025, \"precipitation\": 71.95828763550503, \"condition\": \"rain\"}, {\"temperature\": 15.802582568794556, \"wind\": 5.568264782160037, \"precipitation\": 16.50277435360922, \"condition\": \"sun\"}, {\"temperature\": 29.44740698845427, \"wind\": 66.4224540835048, \"precipitation\": 96.91347272575433, \"condition\": \"snow\"}, {\"temperature\": 0.1789559651072139, \"wind\": 37.144396583281235, \"precipitation\": 7.3927878065009445, \"condition\": \"snow\"}, {\"temperature\": 37.90262114384076, \"wind\": 23.744567572534315, \"precipitation\": 85.44013318397162, \"condition\": \"fog\"}, {\"temperature\": 40.40503203411964, \"wind\": 71.68155336881077, \"precipitation\": 91.260802513042, \"condition\": \"snow\"}, {\"temperature\": 2.723433474361908, \"wind\": 5.85694236985378, \"precipitation\": 54.0295184169758, \"condition\": \"drizzle\"}, {\"temperature\": 9.452609321039336, \"wind\": 52.7843932253772, \"precipitation\": 90.04450333194686, \"condition\": \"fog\"}, {\"temperature\": 18.909153974667404, \"wind\": 13.725377509230263, \"precipitation\": 34.56974350594094, \"condition\": \"sun\"}]}}, {\"mode\": \"vega-lite\"});\n",
       "</script>"
      ],
      "text/plain": [
       "alt.Chart(...)"
      ]
     },
     "metadata": {},
     "output_type": "display_data"
    }
   ],
   "source": [
    "base = alt.Chart(df)\n",
    "tick = base.mark_tick().encode(\n",
    "    x=alt.X(field=\"temperature\", type=\"quantitative\", scale=alt.Scale(type=\"linear\"))\n",
    ")\n",
    "display_chart(tick)"
   ]
  },
  {
   "cell_type": "markdown",
   "metadata": {},
   "source": [
    "### Tick Plot with a Log Scale"
   ]
  },
  {
   "cell_type": "code",
   "execution_count": 8,
   "metadata": {},
   "outputs": [
    {
     "name": "stdout",
     "output_type": "stream",
     "text": [
      "{'field': [{'name': 'temperature', 'type': 'number'}],\n",
      " 'number_rows': 100,\n",
      " 'view': [{'mark': [{'encoding': [{'channel': 'x', 'field': 'temperature'}],\n",
      "                     'type': 'tick'}],\n",
      "           'scale': [{'channel': 'x', 'type': 'log'}]}]}\n"
     ]
    }
   ],
   "source": [
    "facts = [\n",
    "    \"attribute(number_rows,root,100).\",\n",
    "    \"entity(field,root,temperature).\",\n",
    "    \"attribute((field,name),temperature,temperature).\",\n",
    "    \"attribute((field,type),temperature,number).\",\n",
    "    \"entity(view,root,0).\",\n",
    "    \"entity(mark,0,1).\",\n",
    "    \"attribute((mark,type),1,tick).\",\n",
    "    \"entity(encoding,1,2).\",\n",
    "    \"attribute((encoding,channel),2,x).\",\n",
    "    \"attribute((encoding,field),2,temperature).\",\n",
    "    \"entity(scale,0,3).\",\n",
    "    \"attribute((scale,channel),3,x).\",\n",
    "    \"attribute((scale,type),3,log).\",\n",
    "]\n",
    "spec = facts_to_dict(facts)\n",
    "pprint(spec)"
   ]
  },
  {
   "cell_type": "code",
   "execution_count": 9,
   "metadata": {},
   "outputs": [
    {
     "name": "stdout",
     "output_type": "stream",
     "text": [
      "{'$schema': 'https://vega.github.io/schema/vega-lite/v4.17.0.json',\n",
      " 'config': {'view': {'continuousHeight': 300, 'continuousWidth': 400}},\n",
      " 'encoding': {'x': {'field': 'temperature',\n",
      "                    'scale': {'type': 'log'},\n",
      "                    'type': 'quantitative'}},\n",
      " 'mark': 'tick',\n",
      " 'transform': [{'filter': '(datum.temperature > 0)'}]}\n"
     ]
    },
    {
     "data": {
      "text/html": [
       "\n",
       "<div id=\"altair-viz-10c87efffabd4a5fbf200fde56afa627\"></div>\n",
       "<script type=\"text/javascript\">\n",
       "  var VEGA_DEBUG = (typeof VEGA_DEBUG == \"undefined\") ? {} : VEGA_DEBUG;\n",
       "  (function(spec, embedOpt){\n",
       "    let outputDiv = document.currentScript.previousElementSibling;\n",
       "    if (outputDiv.id !== \"altair-viz-10c87efffabd4a5fbf200fde56afa627\") {\n",
       "      outputDiv = document.getElementById(\"altair-viz-10c87efffabd4a5fbf200fde56afa627\");\n",
       "    }\n",
       "    const paths = {\n",
       "      \"vega\": \"https://cdn.jsdelivr.net/npm//vega@5?noext\",\n",
       "      \"vega-lib\": \"https://cdn.jsdelivr.net/npm//vega-lib?noext\",\n",
       "      \"vega-lite\": \"https://cdn.jsdelivr.net/npm//vega-lite@4.17.0?noext\",\n",
       "      \"vega-embed\": \"https://cdn.jsdelivr.net/npm//vega-embed@6?noext\",\n",
       "    };\n",
       "\n",
       "    function maybeLoadScript(lib, version) {\n",
       "      var key = `${lib.replace(\"-\", \"\")}_version`;\n",
       "      return (VEGA_DEBUG[key] == version) ?\n",
       "        Promise.resolve(paths[lib]) :\n",
       "        new Promise(function(resolve, reject) {\n",
       "          var s = document.createElement('script');\n",
       "          document.getElementsByTagName(\"head\")[0].appendChild(s);\n",
       "          s.async = true;\n",
       "          s.onload = () => {\n",
       "            VEGA_DEBUG[key] = version;\n",
       "            return resolve(paths[lib]);\n",
       "          };\n",
       "          s.onerror = () => reject(`Error loading script: ${paths[lib]}`);\n",
       "          s.src = paths[lib];\n",
       "        });\n",
       "    }\n",
       "\n",
       "    function showError(err) {\n",
       "      outputDiv.innerHTML = `<div class=\"error\" style=\"color:red;\">${err}</div>`;\n",
       "      throw err;\n",
       "    }\n",
       "\n",
       "    function displayChart(vegaEmbed) {\n",
       "      vegaEmbed(outputDiv, spec, embedOpt)\n",
       "        .catch(err => showError(`Javascript Error: ${err.message}<br>This usually means there's a typo in your chart specification. See the javascript console for the full traceback.`));\n",
       "    }\n",
       "\n",
       "    if(typeof define === \"function\" && define.amd) {\n",
       "      requirejs.config({paths});\n",
       "      require([\"vega-embed\"], displayChart, err => showError(`Error loading script: ${err.message}`));\n",
       "    } else {\n",
       "      maybeLoadScript(\"vega\", \"5\")\n",
       "        .then(() => maybeLoadScript(\"vega-lite\", \"4.17.0\"))\n",
       "        .then(() => maybeLoadScript(\"vega-embed\", \"6\"))\n",
       "        .catch(showError)\n",
       "        .then(() => displayChart(vegaEmbed));\n",
       "    }\n",
       "  })({\"config\": {\"view\": {\"continuousWidth\": 400, \"continuousHeight\": 300}}, \"data\": {\"name\": \"data-124c435c1b687eb7890344117a1c86b4\"}, \"mark\": \"tick\", \"encoding\": {\"x\": {\"field\": \"temperature\", \"scale\": {\"type\": \"log\"}, \"type\": \"quantitative\"}}, \"transform\": [{\"filter\": \"(datum.temperature > 0)\"}], \"$schema\": \"https://vega.github.io/schema/vega-lite/v4.17.0.json\", \"datasets\": {\"data-124c435c1b687eb7890344117a1c86b4\": [{\"temperature\": 17.89365303788651, \"wind\": 78.75685633883592, \"precipitation\": 41.61124606702779, \"condition\": \"rain\"}, {\"temperature\": 5.622818441769336, \"wind\": 25.421998841055917, \"precipitation\": 74.90555083684964, \"condition\": \"rain\"}, {\"temperature\": 23.3902094090436, \"wind\": 9.846103163487696, \"precipitation\": 81.33536438710783, \"condition\": \"rain\"}, {\"temperature\": 20.889554427248395, \"wind\": 27.53521295661492, \"precipitation\": 27.6549324712597, \"condition\": \"drizzle\"}, {\"temperature\": 33.91026207788065, \"wind\": 97.91032820138525, \"precipitation\": 36.53494267552425, \"condition\": \"snow\"}, {\"temperature\": 39.65611406756084, \"wind\": 24.27383951799732, \"precipitation\": 33.38647147375286, \"condition\": \"rain\"}, {\"temperature\": 5.670659801967243, \"wind\": 98.20197823012846, \"precipitation\": 93.72832557739356, \"condition\": \"snow\"}, {\"temperature\": -2.2776070811204505, \"wind\": 77.90443786588797, \"precipitation\": 50.102310147035375, \"condition\": \"drizzle\"}, {\"temperature\": 43.104548648992775, \"wind\": 74.77698982401796, \"precipitation\": 89.95647852559429, \"condition\": \"sun\"}, {\"temperature\": 1.8049661385207525, \"wind\": 91.29152261118769, \"precipitation\": 29.77145087552332, \"condition\": \"fog\"}, {\"temperature\": 14.327115187571408, \"wind\": 45.054261048821296, \"precipitation\": 17.654846400296798, \"condition\": \"drizzle\"}, {\"temperature\": 25.44797791508993, \"wind\": 22.265267642454656, \"precipitation\": 60.37929677885421, \"condition\": \"drizzle\"}, {\"temperature\": 11.19016835531465, \"wind\": 77.30294308487814, \"precipitation\": 71.65443847888368, \"condition\": \"snow\"}, {\"temperature\": 22.948827407585433, \"wind\": 27.03785915458824, \"precipitation\": 92.68901140573688, \"condition\": \"snow\"}, {\"temperature\": 33.16555388154543, \"wind\": 92.1292103045794, \"precipitation\": 39.10838647644195, \"condition\": \"snow\"}, {\"temperature\": 9.981393546660723, \"wind\": 66.73004528306666, \"precipitation\": 19.36957583451713, \"condition\": \"drizzle\"}, {\"temperature\": 2.837559858993796, \"wind\": 18.62443662393004, \"precipitation\": 57.42273968155751, \"condition\": \"sun\"}, {\"temperature\": 39.14290590745285, \"wind\": 32.52859013259527, \"precipitation\": 88.21897530715309, \"condition\": \"rain\"}, {\"temperature\": 39.2325438266719, \"wind\": 2.511353474345024, \"precipitation\": 78.95158173752907, \"condition\": \"fog\"}, {\"temperature\": 2.949456835649645, \"wind\": 1.9370157264502197, \"precipitation\": 3.5337114891518584, \"condition\": \"fog\"}, {\"temperature\": 28.422917308067277, \"wind\": 6.822434636914776, \"precipitation\": 84.5655158038795, \"condition\": \"fog\"}, {\"temperature\": 28.406344711783838, \"wind\": 95.25216996998444, \"precipitation\": 2.312429289727791, \"condition\": \"fog\"}, {\"temperature\": 23.929825809705775, \"wind\": 28.441727967722407, \"precipitation\": 94.94371547195382, \"condition\": \"drizzle\"}, {\"temperature\": 25.144603850494207, \"wind\": 5.7248518372133965, \"precipitation\": 72.55961327284773, \"condition\": \"drizzle\"}, {\"temperature\": -3.1069016270510676, \"wind\": 90.56068308052812, \"precipitation\": 8.208347981870512, \"condition\": \"rain\"}, {\"temperature\": 43.07443333444708, \"wind\": 63.33777651825151, \"precipitation\": 35.343598004733714, \"condition\": \"sun\"}, {\"temperature\": -8.715631484900875, \"wind\": 78.50049089036061, \"precipitation\": 16.726772866900042, \"condition\": \"fog\"}, {\"temperature\": 10.058625587365142, \"wind\": 82.55410159133031, \"precipitation\": 49.82193593499935, \"condition\": \"fog\"}, {\"temperature\": 27.912341883718938, \"wind\": 45.94389098129158, \"precipitation\": 87.71806691348185, \"condition\": \"sun\"}, {\"temperature\": 28.827008981675903, \"wind\": 14.352645600160752, \"precipitation\": 95.30777240838884, \"condition\": \"sun\"}, {\"temperature\": -5.245472855196331, \"wind\": 24.463633090927274, \"precipitation\": 63.1630488725617, \"condition\": \"fog\"}, {\"temperature\": -4.738627417736829, \"wind\": 87.61779675788263, \"precipitation\": 67.17488470646667, \"condition\": \"fog\"}, {\"temperature\": -1.6463371096382655, \"wind\": 34.15953757649686, \"precipitation\": 83.20021064524306, \"condition\": \"rain\"}, {\"temperature\": -8.671469939339552, \"wind\": 28.02148157701091, \"precipitation\": 8.858286414027772, \"condition\": \"snow\"}, {\"temperature\": 23.586980668182306, \"wind\": 32.61177727202879, \"precipitation\": 90.55384722692395, \"condition\": \"snow\"}, {\"temperature\": 42.93552301196303, \"wind\": 17.459007963452034, \"precipitation\": 76.26693620563219, \"condition\": \"sun\"}, {\"temperature\": 14.04271616398174, \"wind\": 31.44611970670743, \"precipitation\": 27.736449442339893, \"condition\": \"rain\"}, {\"temperature\": 33.93136729382773, \"wind\": 85.0980112392488, \"precipitation\": 48.72266227519502, \"condition\": \"fog\"}, {\"temperature\": 29.10713627050935, \"wind\": 25.401508775422734, \"precipitation\": 83.25120184383715, \"condition\": \"fog\"}, {\"temperature\": 23.33130010979005, \"wind\": 38.960479467358745, \"precipitation\": 84.8094568801428, \"condition\": \"rain\"}, {\"temperature\": 27.820447049966695, \"wind\": 97.47611794506456, \"precipitation\": 59.404606053602336, \"condition\": \"fog\"}, {\"temperature\": 24.704809156505995, \"wind\": 56.929461372432655, \"precipitation\": 16.583726619344496, \"condition\": \"drizzle\"}, {\"temperature\": 42.73839675123029, \"wind\": 19.024929246369528, \"precipitation\": 37.515692671204135, \"condition\": \"sun\"}, {\"temperature\": 39.73480992464111, \"wind\": 63.10268501376382, \"precipitation\": 15.20512544845365, \"condition\": \"fog\"}, {\"temperature\": 34.928857478491054, \"wind\": 44.34437827092474, \"precipitation\": 2.9919970218495684, \"condition\": \"sun\"}, {\"temperature\": 12.475457440238529, \"wind\": 45.63508245761745, \"precipitation\": 1.5684442569828705, \"condition\": \"fog\"}, {\"temperature\": 11.485742656702111, \"wind\": 35.43011450755876, \"precipitation\": 46.843314320146966, \"condition\": \"fog\"}, {\"temperature\": 16.58332024159822, \"wind\": 85.9387003246595, \"precipitation\": 67.67417859666371, \"condition\": \"sun\"}, {\"temperature\": 42.96961504747511, \"wind\": 61.02100908610409, \"precipitation\": 40.19537213295094, \"condition\": \"snow\"}, {\"temperature\": 43.01306682260888, \"wind\": 91.58796490357004, \"precipitation\": 10.242970289225461, \"condition\": \"sun\"}, {\"temperature\": 17.888206090116245, \"wind\": 29.82373325722851, \"precipitation\": 44.29455934969246, \"condition\": \"sun\"}, {\"temperature\": 13.700882757230424, \"wind\": 46.93705512034313, \"precipitation\": 76.07676796446637, \"condition\": \"rain\"}, {\"temperature\": 4.986331720563626, \"wind\": 81.90760931416689, \"precipitation\": 34.892239668746406, \"condition\": \"drizzle\"}, {\"temperature\": -1.4778346288931683, \"wind\": 3.9791854357363987, \"precipitation\": 7.535152538482148, \"condition\": \"drizzle\"}, {\"temperature\": 16.892161248783623, \"wind\": 31.993361074291926, \"precipitation\": 60.46401934620111, \"condition\": \"drizzle\"}, {\"temperature\": -7.17506030059671, \"wind\": 5.042336185555952, \"precipitation\": 88.35922403405787, \"condition\": \"drizzle\"}, {\"temperature\": 9.85908134441586, \"wind\": 48.491362316119236, \"precipitation\": 23.80248472573617, \"condition\": \"snow\"}, {\"temperature\": 28.54368725395195, \"wind\": 5.72748587709313, \"precipitation\": 25.974359374267742, \"condition\": \"drizzle\"}, {\"temperature\": 41.85044222939622, \"wind\": 3.311333417116047, \"precipitation\": 1.7918023488591839, \"condition\": \"snow\"}, {\"temperature\": 39.51847585775124, \"wind\": 89.64939452111453, \"precipitation\": 48.53950512768904, \"condition\": \"fog\"}, {\"temperature\": 4.1511791382858725, \"wind\": 58.14172937556887, \"precipitation\": 79.66452798481971, \"condition\": \"drizzle\"}, {\"temperature\": 7.316849144326355, \"wind\": 6.796864846855866, \"precipitation\": 33.619090549629306, \"condition\": \"snow\"}, {\"temperature\": -6.040726652488083, \"wind\": 24.37214720554359, \"precipitation\": 71.46568853073089, \"condition\": \"rain\"}, {\"temperature\": 28.05026452008928, \"wind\": 19.39989397387041, \"precipitation\": 71.68725771245654, \"condition\": \"drizzle\"}, {\"temperature\": 35.30623993317926, \"wind\": 66.54091843981752, \"precipitation\": 22.884049790672588, \"condition\": \"rain\"}, {\"temperature\": -9.078168118751755, \"wind\": 54.53321547753263, \"precipitation\": 66.43449936744369, \"condition\": \"sun\"}, {\"temperature\": 34.31111609068961, \"wind\": 92.79899053872957, \"precipitation\": 61.9431928594434, \"condition\": \"sun\"}, {\"temperature\": -0.5340863902706268, \"wind\": 89.18484464889846, \"precipitation\": 88.49655552922172, \"condition\": \"rain\"}, {\"temperature\": -7.331283732097262, \"wind\": 16.43300088620039, \"precipitation\": 92.15523633598885, \"condition\": \"drizzle\"}, {\"temperature\": 34.4512940591614, \"wind\": 16.982566694713043, \"precipitation\": 66.50391898652623, \"condition\": \"fog\"}, {\"temperature\": 2.292195972387347, \"wind\": 78.07758659490037, \"precipitation\": 85.08941323813521, \"condition\": \"snow\"}, {\"temperature\": 10.280188069701488, \"wind\": 64.37598506985243, \"precipitation\": 46.13428294966927, \"condition\": \"sun\"}, {\"temperature\": 14.385637791164196, \"wind\": 27.710246014732775, \"precipitation\": 82.18132103083111, \"condition\": \"rain\"}, {\"temperature\": 15.068929930658907, \"wind\": 90.37313777532859, \"precipitation\": 95.42688091272505, \"condition\": \"rain\"}, {\"temperature\": -5.931704200276687, \"wind\": 76.30697305192514, \"precipitation\": 48.17926018036856, \"condition\": \"drizzle\"}, {\"temperature\": -1.2238906425326128, \"wind\": 77.25655113115953, \"precipitation\": 12.189057445370022, \"condition\": \"sun\"}, {\"temperature\": 17.981273164150583, \"wind\": 99.8855194023956, \"precipitation\": 5.951490853046981, \"condition\": \"drizzle\"}, {\"temperature\": 8.333054222089164, \"wind\": 22.351144710727677, \"precipitation\": 1.9907985646430038, \"condition\": \"rain\"}, {\"temperature\": 40.99117292213711, \"wind\": 12.537186007473021, \"precipitation\": 3.0957134444521195, \"condition\": \"drizzle\"}, {\"temperature\": 36.29560583814439, \"wind\": 47.282861379528676, \"precipitation\": 50.72175472263106, \"condition\": \"fog\"}, {\"temperature\": 8.011942225789358, \"wind\": 80.64679426688298, \"precipitation\": 84.74031260132877, \"condition\": \"sun\"}, {\"temperature\": 32.64189921238727, \"wind\": 78.38867921926278, \"precipitation\": 94.27015659699374, \"condition\": \"fog\"}, {\"temperature\": -4.159829210634211, \"wind\": 53.39060475873939, \"precipitation\": 50.60795287404672, \"condition\": \"fog\"}, {\"temperature\": -6.602296737522483, \"wind\": 86.55899134629715, \"precipitation\": 62.64697378600636, \"condition\": \"fog\"}, {\"temperature\": 40.135239145180655, \"wind\": 16.633704419495032, \"precipitation\": 41.391087682479736, \"condition\": \"drizzle\"}, {\"temperature\": 26.95881305440288, \"wind\": 85.8809786017975, \"precipitation\": 71.9617762842435, \"condition\": \"drizzle\"}, {\"temperature\": 11.92991543604046, \"wind\": 76.39140196294017, \"precipitation\": 60.40612399492309, \"condition\": \"drizzle\"}, {\"temperature\": 19.566301202766702, \"wind\": 72.97802286558691, \"precipitation\": 29.681848692175006, \"condition\": \"drizzle\"}, {\"temperature\": 10.481864045771506, \"wind\": 10.269367839292642, \"precipitation\": 85.87287289024248, \"condition\": \"rain\"}, {\"temperature\": -9.620152753805623, \"wind\": 64.57630699894213, \"precipitation\": 29.06583641537993, \"condition\": \"drizzle\"}, {\"temperature\": 24.85823346816882, \"wind\": 64.44200648973889, \"precipitation\": 32.79358601401415, \"condition\": \"sun\"}, {\"temperature\": -9.71401231081625, \"wind\": 46.94482107365025, \"precipitation\": 71.95828763550503, \"condition\": \"rain\"}, {\"temperature\": 15.802582568794556, \"wind\": 5.568264782160037, \"precipitation\": 16.50277435360922, \"condition\": \"sun\"}, {\"temperature\": 29.44740698845427, \"wind\": 66.4224540835048, \"precipitation\": 96.91347272575433, \"condition\": \"snow\"}, {\"temperature\": 0.1789559651072139, \"wind\": 37.144396583281235, \"precipitation\": 7.3927878065009445, \"condition\": \"snow\"}, {\"temperature\": 37.90262114384076, \"wind\": 23.744567572534315, \"precipitation\": 85.44013318397162, \"condition\": \"fog\"}, {\"temperature\": 40.40503203411964, \"wind\": 71.68155336881077, \"precipitation\": 91.260802513042, \"condition\": \"snow\"}, {\"temperature\": 2.723433474361908, \"wind\": 5.85694236985378, \"precipitation\": 54.0295184169758, \"condition\": \"drizzle\"}, {\"temperature\": 9.452609321039336, \"wind\": 52.7843932253772, \"precipitation\": 90.04450333194686, \"condition\": \"fog\"}, {\"temperature\": 18.909153974667404, \"wind\": 13.725377509230263, \"precipitation\": 34.56974350594094, \"condition\": \"sun\"}]}}, {\"mode\": \"vega-lite\"});\n",
       "</script>"
      ],
      "text/plain": [
       "alt.Chart(...)"
      ]
     },
     "metadata": {},
     "output_type": "display_data"
    }
   ],
   "source": [
    "base = alt.Chart(df).transform_filter(datum.temperature > 0)\n",
    "tick = base.mark_tick().encode(\n",
    "    x=alt.X(field=\"temperature\", type=\"quantitative\", scale=alt.Scale(type=\"log\"))\n",
    ")\n",
    "display_chart(tick)"
   ]
  },
  {
   "cell_type": "markdown",
   "metadata": {},
   "source": [
    "### Bar Chart"
   ]
  },
  {
   "cell_type": "code",
   "execution_count": 10,
   "metadata": {},
   "outputs": [
    {
     "name": "stdout",
     "output_type": "stream",
     "text": [
      "{'field': [{'name': 'temperature', 'type': 'number'},\n",
      "           {'name': 'condition', 'type': 'string'}],\n",
      " 'number_rows': 100,\n",
      " 'view': [{'coordinates': 'cartesian',\n",
      "           'mark': [{'encoding': [{'channel': 'x', 'field': 'condition'},\n",
      "                                  {'aggregate': 'mean',\n",
      "                                   'channel': 'y',\n",
      "                                   'field': 'temperature'}],\n",
      "                     'type': 'bar'}],\n",
      "           'scale': [{'channel': 'x', 'type': 'ordinal'},\n",
      "                     {'channel': 'y', 'type': 'linear', 'zero': 'true'}]}]}\n"
     ]
    }
   ],
   "source": [
    "facts = [\n",
    "    \"attribute(number_rows,root,100).\",\n",
    "    \"entity(field,root,temperature).\",\n",
    "    \"attribute((field,name),temperature,temperature).\",\n",
    "    \"attribute((field,type),temperature,number).\",\n",
    "    \"entity(field,root,condition).\",\n",
    "    \"attribute((field,name),condition,condition).\",\n",
    "    \"attribute((field,type),condition,string).\",\n",
    "    \"entity(view,root,0).\",\n",
    "    \"attribute((view,coordinates),0,cartesian).\",\n",
    "    \"entity(mark,0,1).\",\n",
    "    \"attribute((mark,type),1,bar).\",\n",
    "    \"entity(encoding,1,2).\",\n",
    "    \"attribute((encoding,channel),2,x).\",\n",
    "    \"attribute((encoding,field),2,condition).\",\n",
    "    \"entity(encoding,1,3).\",\n",
    "    \"attribute((encoding,channel),3,y).\",\n",
    "    \"attribute((encoding,field),3,temperature).\",\n",
    "    \"attribute((encoding,aggregate),3,mean).\",\n",
    "    \"entity(scale,0,4).\",\n",
    "    \"attribute((scale,channel),4,x).\",\n",
    "    \"attribute((scale,type),4,ordinal).\",\n",
    "    \"entity(scale,0,5).\",\n",
    "    \"attribute((scale,channel),5,y).\",\n",
    "    \"attribute((scale,type),5,linear).\",\n",
    "    \"attribute((scale,zero),5,true).\",\n",
    "]\n",
    "spec = facts_to_dict(facts)\n",
    "pprint(spec)"
   ]
  },
  {
   "cell_type": "code",
   "execution_count": 11,
   "metadata": {},
   "outputs": [
    {
     "name": "stdout",
     "output_type": "stream",
     "text": [
      "{'$schema': 'https://vega.github.io/schema/vega-lite/v4.17.0.json',\n",
      " 'config': {'view': {'continuousHeight': 300, 'continuousWidth': 400}},\n",
      " 'encoding': {'x': {'field': 'condition',\n",
      "                    'scale': {'type': 'ordinal'},\n",
      "                    'type': 'nominal'},\n",
      "              'y': {'aggregate': 'mean',\n",
      "                    'field': 'temperature',\n",
      "                    'scale': {'type': 'linear', 'zero': True},\n",
      "                    'type': 'quantitative'}},\n",
      " 'mark': 'bar'}\n"
     ]
    },
    {
     "data": {
      "text/html": [
       "\n",
       "<div id=\"altair-viz-b18a0dbc088a4de1a10024c672dd4a35\"></div>\n",
       "<script type=\"text/javascript\">\n",
       "  var VEGA_DEBUG = (typeof VEGA_DEBUG == \"undefined\") ? {} : VEGA_DEBUG;\n",
       "  (function(spec, embedOpt){\n",
       "    let outputDiv = document.currentScript.previousElementSibling;\n",
       "    if (outputDiv.id !== \"altair-viz-b18a0dbc088a4de1a10024c672dd4a35\") {\n",
       "      outputDiv = document.getElementById(\"altair-viz-b18a0dbc088a4de1a10024c672dd4a35\");\n",
       "    }\n",
       "    const paths = {\n",
       "      \"vega\": \"https://cdn.jsdelivr.net/npm//vega@5?noext\",\n",
       "      \"vega-lib\": \"https://cdn.jsdelivr.net/npm//vega-lib?noext\",\n",
       "      \"vega-lite\": \"https://cdn.jsdelivr.net/npm//vega-lite@4.17.0?noext\",\n",
       "      \"vega-embed\": \"https://cdn.jsdelivr.net/npm//vega-embed@6?noext\",\n",
       "    };\n",
       "\n",
       "    function maybeLoadScript(lib, version) {\n",
       "      var key = `${lib.replace(\"-\", \"\")}_version`;\n",
       "      return (VEGA_DEBUG[key] == version) ?\n",
       "        Promise.resolve(paths[lib]) :\n",
       "        new Promise(function(resolve, reject) {\n",
       "          var s = document.createElement('script');\n",
       "          document.getElementsByTagName(\"head\")[0].appendChild(s);\n",
       "          s.async = true;\n",
       "          s.onload = () => {\n",
       "            VEGA_DEBUG[key] = version;\n",
       "            return resolve(paths[lib]);\n",
       "          };\n",
       "          s.onerror = () => reject(`Error loading script: ${paths[lib]}`);\n",
       "          s.src = paths[lib];\n",
       "        });\n",
       "    }\n",
       "\n",
       "    function showError(err) {\n",
       "      outputDiv.innerHTML = `<div class=\"error\" style=\"color:red;\">${err}</div>`;\n",
       "      throw err;\n",
       "    }\n",
       "\n",
       "    function displayChart(vegaEmbed) {\n",
       "      vegaEmbed(outputDiv, spec, embedOpt)\n",
       "        .catch(err => showError(`Javascript Error: ${err.message}<br>This usually means there's a typo in your chart specification. See the javascript console for the full traceback.`));\n",
       "    }\n",
       "\n",
       "    if(typeof define === \"function\" && define.amd) {\n",
       "      requirejs.config({paths});\n",
       "      require([\"vega-embed\"], displayChart, err => showError(`Error loading script: ${err.message}`));\n",
       "    } else {\n",
       "      maybeLoadScript(\"vega\", \"5\")\n",
       "        .then(() => maybeLoadScript(\"vega-lite\", \"4.17.0\"))\n",
       "        .then(() => maybeLoadScript(\"vega-embed\", \"6\"))\n",
       "        .catch(showError)\n",
       "        .then(() => displayChart(vegaEmbed));\n",
       "    }\n",
       "  })({\"config\": {\"view\": {\"continuousWidth\": 400, \"continuousHeight\": 300}}, \"data\": {\"name\": \"data-124c435c1b687eb7890344117a1c86b4\"}, \"mark\": \"bar\", \"encoding\": {\"x\": {\"field\": \"condition\", \"scale\": {\"type\": \"ordinal\"}, \"type\": \"nominal\"}, \"y\": {\"aggregate\": \"mean\", \"field\": \"temperature\", \"scale\": {\"type\": \"linear\", \"zero\": true}, \"type\": \"quantitative\"}}, \"$schema\": \"https://vega.github.io/schema/vega-lite/v4.17.0.json\", \"datasets\": {\"data-124c435c1b687eb7890344117a1c86b4\": [{\"temperature\": 17.89365303788651, \"wind\": 78.75685633883592, \"precipitation\": 41.61124606702779, \"condition\": \"rain\"}, {\"temperature\": 5.622818441769336, \"wind\": 25.421998841055917, \"precipitation\": 74.90555083684964, \"condition\": \"rain\"}, {\"temperature\": 23.3902094090436, \"wind\": 9.846103163487696, \"precipitation\": 81.33536438710783, \"condition\": \"rain\"}, {\"temperature\": 20.889554427248395, \"wind\": 27.53521295661492, \"precipitation\": 27.6549324712597, \"condition\": \"drizzle\"}, {\"temperature\": 33.91026207788065, \"wind\": 97.91032820138525, \"precipitation\": 36.53494267552425, \"condition\": \"snow\"}, {\"temperature\": 39.65611406756084, \"wind\": 24.27383951799732, \"precipitation\": 33.38647147375286, \"condition\": \"rain\"}, {\"temperature\": 5.670659801967243, \"wind\": 98.20197823012846, \"precipitation\": 93.72832557739356, \"condition\": \"snow\"}, {\"temperature\": -2.2776070811204505, \"wind\": 77.90443786588797, \"precipitation\": 50.102310147035375, \"condition\": \"drizzle\"}, {\"temperature\": 43.104548648992775, \"wind\": 74.77698982401796, \"precipitation\": 89.95647852559429, \"condition\": \"sun\"}, {\"temperature\": 1.8049661385207525, \"wind\": 91.29152261118769, \"precipitation\": 29.77145087552332, \"condition\": \"fog\"}, {\"temperature\": 14.327115187571408, \"wind\": 45.054261048821296, \"precipitation\": 17.654846400296798, \"condition\": \"drizzle\"}, {\"temperature\": 25.44797791508993, \"wind\": 22.265267642454656, \"precipitation\": 60.37929677885421, \"condition\": \"drizzle\"}, {\"temperature\": 11.19016835531465, \"wind\": 77.30294308487814, \"precipitation\": 71.65443847888368, \"condition\": \"snow\"}, {\"temperature\": 22.948827407585433, \"wind\": 27.03785915458824, \"precipitation\": 92.68901140573688, \"condition\": \"snow\"}, {\"temperature\": 33.16555388154543, \"wind\": 92.1292103045794, \"precipitation\": 39.10838647644195, \"condition\": \"snow\"}, {\"temperature\": 9.981393546660723, \"wind\": 66.73004528306666, \"precipitation\": 19.36957583451713, \"condition\": \"drizzle\"}, {\"temperature\": 2.837559858993796, \"wind\": 18.62443662393004, \"precipitation\": 57.42273968155751, \"condition\": \"sun\"}, {\"temperature\": 39.14290590745285, \"wind\": 32.52859013259527, \"precipitation\": 88.21897530715309, \"condition\": \"rain\"}, {\"temperature\": 39.2325438266719, \"wind\": 2.511353474345024, \"precipitation\": 78.95158173752907, \"condition\": \"fog\"}, {\"temperature\": 2.949456835649645, \"wind\": 1.9370157264502197, \"precipitation\": 3.5337114891518584, \"condition\": \"fog\"}, {\"temperature\": 28.422917308067277, \"wind\": 6.822434636914776, \"precipitation\": 84.5655158038795, \"condition\": \"fog\"}, {\"temperature\": 28.406344711783838, \"wind\": 95.25216996998444, \"precipitation\": 2.312429289727791, \"condition\": \"fog\"}, {\"temperature\": 23.929825809705775, \"wind\": 28.441727967722407, \"precipitation\": 94.94371547195382, \"condition\": \"drizzle\"}, {\"temperature\": 25.144603850494207, \"wind\": 5.7248518372133965, \"precipitation\": 72.55961327284773, \"condition\": \"drizzle\"}, {\"temperature\": -3.1069016270510676, \"wind\": 90.56068308052812, \"precipitation\": 8.208347981870512, \"condition\": \"rain\"}, {\"temperature\": 43.07443333444708, \"wind\": 63.33777651825151, \"precipitation\": 35.343598004733714, \"condition\": \"sun\"}, {\"temperature\": -8.715631484900875, \"wind\": 78.50049089036061, \"precipitation\": 16.726772866900042, \"condition\": \"fog\"}, {\"temperature\": 10.058625587365142, \"wind\": 82.55410159133031, \"precipitation\": 49.82193593499935, \"condition\": \"fog\"}, {\"temperature\": 27.912341883718938, \"wind\": 45.94389098129158, \"precipitation\": 87.71806691348185, \"condition\": \"sun\"}, {\"temperature\": 28.827008981675903, \"wind\": 14.352645600160752, \"precipitation\": 95.30777240838884, \"condition\": \"sun\"}, {\"temperature\": -5.245472855196331, \"wind\": 24.463633090927274, \"precipitation\": 63.1630488725617, \"condition\": \"fog\"}, {\"temperature\": -4.738627417736829, \"wind\": 87.61779675788263, \"precipitation\": 67.17488470646667, \"condition\": \"fog\"}, {\"temperature\": -1.6463371096382655, \"wind\": 34.15953757649686, \"precipitation\": 83.20021064524306, \"condition\": \"rain\"}, {\"temperature\": -8.671469939339552, \"wind\": 28.02148157701091, \"precipitation\": 8.858286414027772, \"condition\": \"snow\"}, {\"temperature\": 23.586980668182306, \"wind\": 32.61177727202879, \"precipitation\": 90.55384722692395, \"condition\": \"snow\"}, {\"temperature\": 42.93552301196303, \"wind\": 17.459007963452034, \"precipitation\": 76.26693620563219, \"condition\": \"sun\"}, {\"temperature\": 14.04271616398174, \"wind\": 31.44611970670743, \"precipitation\": 27.736449442339893, \"condition\": \"rain\"}, {\"temperature\": 33.93136729382773, \"wind\": 85.0980112392488, \"precipitation\": 48.72266227519502, \"condition\": \"fog\"}, {\"temperature\": 29.10713627050935, \"wind\": 25.401508775422734, \"precipitation\": 83.25120184383715, \"condition\": \"fog\"}, {\"temperature\": 23.33130010979005, \"wind\": 38.960479467358745, \"precipitation\": 84.8094568801428, \"condition\": \"rain\"}, {\"temperature\": 27.820447049966695, \"wind\": 97.47611794506456, \"precipitation\": 59.404606053602336, \"condition\": \"fog\"}, {\"temperature\": 24.704809156505995, \"wind\": 56.929461372432655, \"precipitation\": 16.583726619344496, \"condition\": \"drizzle\"}, {\"temperature\": 42.73839675123029, \"wind\": 19.024929246369528, \"precipitation\": 37.515692671204135, \"condition\": \"sun\"}, {\"temperature\": 39.73480992464111, \"wind\": 63.10268501376382, \"precipitation\": 15.20512544845365, \"condition\": \"fog\"}, {\"temperature\": 34.928857478491054, \"wind\": 44.34437827092474, \"precipitation\": 2.9919970218495684, \"condition\": \"sun\"}, {\"temperature\": 12.475457440238529, \"wind\": 45.63508245761745, \"precipitation\": 1.5684442569828705, \"condition\": \"fog\"}, {\"temperature\": 11.485742656702111, \"wind\": 35.43011450755876, \"precipitation\": 46.843314320146966, \"condition\": \"fog\"}, {\"temperature\": 16.58332024159822, \"wind\": 85.9387003246595, \"precipitation\": 67.67417859666371, \"condition\": \"sun\"}, {\"temperature\": 42.96961504747511, \"wind\": 61.02100908610409, \"precipitation\": 40.19537213295094, \"condition\": \"snow\"}, {\"temperature\": 43.01306682260888, \"wind\": 91.58796490357004, \"precipitation\": 10.242970289225461, \"condition\": \"sun\"}, {\"temperature\": 17.888206090116245, \"wind\": 29.82373325722851, \"precipitation\": 44.29455934969246, \"condition\": \"sun\"}, {\"temperature\": 13.700882757230424, \"wind\": 46.93705512034313, \"precipitation\": 76.07676796446637, \"condition\": \"rain\"}, {\"temperature\": 4.986331720563626, \"wind\": 81.90760931416689, \"precipitation\": 34.892239668746406, \"condition\": \"drizzle\"}, {\"temperature\": -1.4778346288931683, \"wind\": 3.9791854357363987, \"precipitation\": 7.535152538482148, \"condition\": \"drizzle\"}, {\"temperature\": 16.892161248783623, \"wind\": 31.993361074291926, \"precipitation\": 60.46401934620111, \"condition\": \"drizzle\"}, {\"temperature\": -7.17506030059671, \"wind\": 5.042336185555952, \"precipitation\": 88.35922403405787, \"condition\": \"drizzle\"}, {\"temperature\": 9.85908134441586, \"wind\": 48.491362316119236, \"precipitation\": 23.80248472573617, \"condition\": \"snow\"}, {\"temperature\": 28.54368725395195, \"wind\": 5.72748587709313, \"precipitation\": 25.974359374267742, \"condition\": \"drizzle\"}, {\"temperature\": 41.85044222939622, \"wind\": 3.311333417116047, \"precipitation\": 1.7918023488591839, \"condition\": \"snow\"}, {\"temperature\": 39.51847585775124, \"wind\": 89.64939452111453, \"precipitation\": 48.53950512768904, \"condition\": \"fog\"}, {\"temperature\": 4.1511791382858725, \"wind\": 58.14172937556887, \"precipitation\": 79.66452798481971, \"condition\": \"drizzle\"}, {\"temperature\": 7.316849144326355, \"wind\": 6.796864846855866, \"precipitation\": 33.619090549629306, \"condition\": \"snow\"}, {\"temperature\": -6.040726652488083, \"wind\": 24.37214720554359, \"precipitation\": 71.46568853073089, \"condition\": \"rain\"}, {\"temperature\": 28.05026452008928, \"wind\": 19.39989397387041, \"precipitation\": 71.68725771245654, \"condition\": \"drizzle\"}, {\"temperature\": 35.30623993317926, \"wind\": 66.54091843981752, \"precipitation\": 22.884049790672588, \"condition\": \"rain\"}, {\"temperature\": -9.078168118751755, \"wind\": 54.53321547753263, \"precipitation\": 66.43449936744369, \"condition\": \"sun\"}, {\"temperature\": 34.31111609068961, \"wind\": 92.79899053872957, \"precipitation\": 61.9431928594434, \"condition\": \"sun\"}, {\"temperature\": -0.5340863902706268, \"wind\": 89.18484464889846, \"precipitation\": 88.49655552922172, \"condition\": \"rain\"}, {\"temperature\": -7.331283732097262, \"wind\": 16.43300088620039, \"precipitation\": 92.15523633598885, \"condition\": \"drizzle\"}, {\"temperature\": 34.4512940591614, \"wind\": 16.982566694713043, \"precipitation\": 66.50391898652623, \"condition\": \"fog\"}, {\"temperature\": 2.292195972387347, \"wind\": 78.07758659490037, \"precipitation\": 85.08941323813521, \"condition\": \"snow\"}, {\"temperature\": 10.280188069701488, \"wind\": 64.37598506985243, \"precipitation\": 46.13428294966927, \"condition\": \"sun\"}, {\"temperature\": 14.385637791164196, \"wind\": 27.710246014732775, \"precipitation\": 82.18132103083111, \"condition\": \"rain\"}, {\"temperature\": 15.068929930658907, \"wind\": 90.37313777532859, \"precipitation\": 95.42688091272505, \"condition\": \"rain\"}, {\"temperature\": -5.931704200276687, \"wind\": 76.30697305192514, \"precipitation\": 48.17926018036856, \"condition\": \"drizzle\"}, {\"temperature\": -1.2238906425326128, \"wind\": 77.25655113115953, \"precipitation\": 12.189057445370022, \"condition\": \"sun\"}, {\"temperature\": 17.981273164150583, \"wind\": 99.8855194023956, \"precipitation\": 5.951490853046981, \"condition\": \"drizzle\"}, {\"temperature\": 8.333054222089164, \"wind\": 22.351144710727677, \"precipitation\": 1.9907985646430038, \"condition\": \"rain\"}, {\"temperature\": 40.99117292213711, \"wind\": 12.537186007473021, \"precipitation\": 3.0957134444521195, \"condition\": \"drizzle\"}, {\"temperature\": 36.29560583814439, \"wind\": 47.282861379528676, \"precipitation\": 50.72175472263106, \"condition\": \"fog\"}, {\"temperature\": 8.011942225789358, \"wind\": 80.64679426688298, \"precipitation\": 84.74031260132877, \"condition\": \"sun\"}, {\"temperature\": 32.64189921238727, \"wind\": 78.38867921926278, \"precipitation\": 94.27015659699374, \"condition\": \"fog\"}, {\"temperature\": -4.159829210634211, \"wind\": 53.39060475873939, \"precipitation\": 50.60795287404672, \"condition\": \"fog\"}, {\"temperature\": -6.602296737522483, \"wind\": 86.55899134629715, \"precipitation\": 62.64697378600636, \"condition\": \"fog\"}, {\"temperature\": 40.135239145180655, \"wind\": 16.633704419495032, \"precipitation\": 41.391087682479736, \"condition\": \"drizzle\"}, {\"temperature\": 26.95881305440288, \"wind\": 85.8809786017975, \"precipitation\": 71.9617762842435, \"condition\": \"drizzle\"}, {\"temperature\": 11.92991543604046, \"wind\": 76.39140196294017, \"precipitation\": 60.40612399492309, \"condition\": \"drizzle\"}, {\"temperature\": 19.566301202766702, \"wind\": 72.97802286558691, \"precipitation\": 29.681848692175006, \"condition\": \"drizzle\"}, {\"temperature\": 10.481864045771506, \"wind\": 10.269367839292642, \"precipitation\": 85.87287289024248, \"condition\": \"rain\"}, {\"temperature\": -9.620152753805623, \"wind\": 64.57630699894213, \"precipitation\": 29.06583641537993, \"condition\": \"drizzle\"}, {\"temperature\": 24.85823346816882, \"wind\": 64.44200648973889, \"precipitation\": 32.79358601401415, \"condition\": \"sun\"}, {\"temperature\": -9.71401231081625, \"wind\": 46.94482107365025, \"precipitation\": 71.95828763550503, \"condition\": \"rain\"}, {\"temperature\": 15.802582568794556, \"wind\": 5.568264782160037, \"precipitation\": 16.50277435360922, \"condition\": \"sun\"}, {\"temperature\": 29.44740698845427, \"wind\": 66.4224540835048, \"precipitation\": 96.91347272575433, \"condition\": \"snow\"}, {\"temperature\": 0.1789559651072139, \"wind\": 37.144396583281235, \"precipitation\": 7.3927878065009445, \"condition\": \"snow\"}, {\"temperature\": 37.90262114384076, \"wind\": 23.744567572534315, \"precipitation\": 85.44013318397162, \"condition\": \"fog\"}, {\"temperature\": 40.40503203411964, \"wind\": 71.68155336881077, \"precipitation\": 91.260802513042, \"condition\": \"snow\"}, {\"temperature\": 2.723433474361908, \"wind\": 5.85694236985378, \"precipitation\": 54.0295184169758, \"condition\": \"drizzle\"}, {\"temperature\": 9.452609321039336, \"wind\": 52.7843932253772, \"precipitation\": 90.04450333194686, \"condition\": \"fog\"}, {\"temperature\": 18.909153974667404, \"wind\": 13.725377509230263, \"precipitation\": 34.56974350594094, \"condition\": \"sun\"}]}}, {\"mode\": \"vega-lite\"});\n",
       "</script>"
      ],
      "text/plain": [
       "alt.Chart(...)"
      ]
     },
     "metadata": {},
     "output_type": "display_data"
    }
   ],
   "source": [
    "base = alt.Chart(df)\n",
    "bar = base.mark_bar().encode(\n",
    "    x=alt.X(field=\"condition\", type=\"nominal\", scale=alt.Scale(type=\"ordinal\")),\n",
    "    y=alt.Y(\n",
    "        field=\"temperature\",\n",
    "        type=\"quantitative\",\n",
    "        aggregate=\"mean\",\n",
    "        scale=alt.Scale(type=\"linear\", zero=True),\n",
    "    ),\n",
    ")\n",
    "display_chart(bar)"
   ]
  },
  {
   "cell_type": "markdown",
   "metadata": {},
   "source": [
    "### Radial Chart"
   ]
  },
  {
   "cell_type": "code",
   "execution_count": 12,
   "metadata": {},
   "outputs": [
    {
     "name": "stdout",
     "output_type": "stream",
     "text": [
      "{'field': [{'name': 'temperature', 'type': 'number'},\n",
      "           {'name': 'condition', 'type': 'string'}],\n",
      " 'number_rows': 100,\n",
      " 'view': [{'coordinates': 'polar',\n",
      "           'mark': [{'encoding': [{'channel': 'x', 'field': 'condition'},\n",
      "                                  {'aggregate': 'mean',\n",
      "                                   'channel': 'y',\n",
      "                                   'field': 'temperature'}],\n",
      "                     'type': 'bar'}],\n",
      "           'scale': [{'channel': 'x', 'type': 'ordinal'},\n",
      "                     {'channel': 'y', 'type': 'linear', 'zero': 'true'}]}]}\n"
     ]
    }
   ],
   "source": [
    "facts = [\n",
    "    \"attribute(number_rows,root,100).\",\n",
    "    \"entity(field,root,temperature).\",\n",
    "    \"attribute((field,name),temperature,temperature).\",\n",
    "    \"attribute((field,type),temperature,number).\",\n",
    "    \"entity(field,root,condition).\",\n",
    "    \"attribute((field,name),condition,condition).\",\n",
    "    \"attribute((field,type),condition,string).\",\n",
    "    \"entity(view,root,0).\",\n",
    "    \"attribute((view,coordinates),0,polar).\",\n",
    "    \"entity(mark,0,1).\",\n",
    "    \"attribute((mark,type),1,bar).\",\n",
    "    \"entity(encoding,1,2).\",\n",
    "    \"attribute((encoding,channel),2,x).\",\n",
    "    \"attribute((encoding,field),2,condition).\",\n",
    "    \"entity(encoding,1,3).\",\n",
    "    \"attribute((encoding,channel),3,y).\",\n",
    "    \"attribute((encoding,field),3,temperature).\",\n",
    "    \"attribute((encoding,aggregate),3,mean).\",\n",
    "    \"entity(scale,0,4).\",\n",
    "    \"attribute((scale,channel),4,x).\",\n",
    "    \"attribute((scale,type),4,ordinal).\",\n",
    "    \"entity(scale,0,5).\",\n",
    "    \"attribute((scale,channel),5,y).\",\n",
    "    \"attribute((scale,type),5,linear).\",\n",
    "    \"attribute((scale,zero),5,true).\",\n",
    "]\n",
    "spec = facts_to_dict(facts)\n",
    "pprint(spec)"
   ]
  },
  {
   "cell_type": "code",
   "execution_count": 13,
   "metadata": {},
   "outputs": [
    {
     "name": "stdout",
     "output_type": "stream",
     "text": [
      "{'$schema': 'https://vega.github.io/schema/vega-lite/v4.17.0.json',\n",
      " 'config': {'view': {'continuousHeight': 300, 'continuousWidth': 400}},\n",
      " 'layer': [{'encoding': {'radius': {'aggregate': 'mean',\n",
      "                                    'field': 'temperature',\n",
      "                                    'type': 'quantitative'},\n",
      "                         'theta': {'field': 'condition', 'type': 'nominal'}},\n",
      "            'mark': {'stroke': '#ffffff', 'type': 'arc'}},\n",
      "           {'encoding': {'radius': {'aggregate': 'mean',\n",
      "                                    'field': 'temperature',\n",
      "                                    'type': 'quantitative'},\n",
      "                         'text': {'field': 'condition', 'type': 'nominal'},\n",
      "                         'theta': {'field': 'condition', 'type': 'nominal'}},\n",
      "            'mark': {'radiusOffset': 15, 'type': 'text'}}]}\n"
     ]
    },
    {
     "data": {
      "text/html": [
       "\n",
       "<div id=\"altair-viz-e87f676f7bec4b4e825d4f3fceacc659\"></div>\n",
       "<script type=\"text/javascript\">\n",
       "  var VEGA_DEBUG = (typeof VEGA_DEBUG == \"undefined\") ? {} : VEGA_DEBUG;\n",
       "  (function(spec, embedOpt){\n",
       "    let outputDiv = document.currentScript.previousElementSibling;\n",
       "    if (outputDiv.id !== \"altair-viz-e87f676f7bec4b4e825d4f3fceacc659\") {\n",
       "      outputDiv = document.getElementById(\"altair-viz-e87f676f7bec4b4e825d4f3fceacc659\");\n",
       "    }\n",
       "    const paths = {\n",
       "      \"vega\": \"https://cdn.jsdelivr.net/npm//vega@5?noext\",\n",
       "      \"vega-lib\": \"https://cdn.jsdelivr.net/npm//vega-lib?noext\",\n",
       "      \"vega-lite\": \"https://cdn.jsdelivr.net/npm//vega-lite@4.17.0?noext\",\n",
       "      \"vega-embed\": \"https://cdn.jsdelivr.net/npm//vega-embed@6?noext\",\n",
       "    };\n",
       "\n",
       "    function maybeLoadScript(lib, version) {\n",
       "      var key = `${lib.replace(\"-\", \"\")}_version`;\n",
       "      return (VEGA_DEBUG[key] == version) ?\n",
       "        Promise.resolve(paths[lib]) :\n",
       "        new Promise(function(resolve, reject) {\n",
       "          var s = document.createElement('script');\n",
       "          document.getElementsByTagName(\"head\")[0].appendChild(s);\n",
       "          s.async = true;\n",
       "          s.onload = () => {\n",
       "            VEGA_DEBUG[key] = version;\n",
       "            return resolve(paths[lib]);\n",
       "          };\n",
       "          s.onerror = () => reject(`Error loading script: ${paths[lib]}`);\n",
       "          s.src = paths[lib];\n",
       "        });\n",
       "    }\n",
       "\n",
       "    function showError(err) {\n",
       "      outputDiv.innerHTML = `<div class=\"error\" style=\"color:red;\">${err}</div>`;\n",
       "      throw err;\n",
       "    }\n",
       "\n",
       "    function displayChart(vegaEmbed) {\n",
       "      vegaEmbed(outputDiv, spec, embedOpt)\n",
       "        .catch(err => showError(`Javascript Error: ${err.message}<br>This usually means there's a typo in your chart specification. See the javascript console for the full traceback.`));\n",
       "    }\n",
       "\n",
       "    if(typeof define === \"function\" && define.amd) {\n",
       "      requirejs.config({paths});\n",
       "      require([\"vega-embed\"], displayChart, err => showError(`Error loading script: ${err.message}`));\n",
       "    } else {\n",
       "      maybeLoadScript(\"vega\", \"5\")\n",
       "        .then(() => maybeLoadScript(\"vega-lite\", \"4.17.0\"))\n",
       "        .then(() => maybeLoadScript(\"vega-embed\", \"6\"))\n",
       "        .catch(showError)\n",
       "        .then(() => displayChart(vegaEmbed));\n",
       "    }\n",
       "  })({\"config\": {\"view\": {\"continuousWidth\": 400, \"continuousHeight\": 300}}, \"layer\": [{\"mark\": {\"type\": \"arc\", \"stroke\": \"#ffffff\"}, \"encoding\": {\"radius\": {\"aggregate\": \"mean\", \"field\": \"temperature\", \"type\": \"quantitative\"}, \"theta\": {\"field\": \"condition\", \"type\": \"nominal\"}}}, {\"mark\": {\"type\": \"text\", \"radiusOffset\": 15}, \"encoding\": {\"radius\": {\"aggregate\": \"mean\", \"field\": \"temperature\", \"type\": \"quantitative\"}, \"text\": {\"field\": \"condition\", \"type\": \"nominal\"}, \"theta\": {\"field\": \"condition\", \"type\": \"nominal\"}}}], \"data\": {\"name\": \"data-124c435c1b687eb7890344117a1c86b4\"}, \"$schema\": \"https://vega.github.io/schema/vega-lite/v4.17.0.json\", \"datasets\": {\"data-124c435c1b687eb7890344117a1c86b4\": [{\"temperature\": 17.89365303788651, \"wind\": 78.75685633883592, \"precipitation\": 41.61124606702779, \"condition\": \"rain\"}, {\"temperature\": 5.622818441769336, \"wind\": 25.421998841055917, \"precipitation\": 74.90555083684964, \"condition\": \"rain\"}, {\"temperature\": 23.3902094090436, \"wind\": 9.846103163487696, \"precipitation\": 81.33536438710783, \"condition\": \"rain\"}, {\"temperature\": 20.889554427248395, \"wind\": 27.53521295661492, \"precipitation\": 27.6549324712597, \"condition\": \"drizzle\"}, {\"temperature\": 33.91026207788065, \"wind\": 97.91032820138525, \"precipitation\": 36.53494267552425, \"condition\": \"snow\"}, {\"temperature\": 39.65611406756084, \"wind\": 24.27383951799732, \"precipitation\": 33.38647147375286, \"condition\": \"rain\"}, {\"temperature\": 5.670659801967243, \"wind\": 98.20197823012846, \"precipitation\": 93.72832557739356, \"condition\": \"snow\"}, {\"temperature\": -2.2776070811204505, \"wind\": 77.90443786588797, \"precipitation\": 50.102310147035375, \"condition\": \"drizzle\"}, {\"temperature\": 43.104548648992775, \"wind\": 74.77698982401796, \"precipitation\": 89.95647852559429, \"condition\": \"sun\"}, {\"temperature\": 1.8049661385207525, \"wind\": 91.29152261118769, \"precipitation\": 29.77145087552332, \"condition\": \"fog\"}, {\"temperature\": 14.327115187571408, \"wind\": 45.054261048821296, \"precipitation\": 17.654846400296798, \"condition\": \"drizzle\"}, {\"temperature\": 25.44797791508993, \"wind\": 22.265267642454656, \"precipitation\": 60.37929677885421, \"condition\": \"drizzle\"}, {\"temperature\": 11.19016835531465, \"wind\": 77.30294308487814, \"precipitation\": 71.65443847888368, \"condition\": \"snow\"}, {\"temperature\": 22.948827407585433, \"wind\": 27.03785915458824, \"precipitation\": 92.68901140573688, \"condition\": \"snow\"}, {\"temperature\": 33.16555388154543, \"wind\": 92.1292103045794, \"precipitation\": 39.10838647644195, \"condition\": \"snow\"}, {\"temperature\": 9.981393546660723, \"wind\": 66.73004528306666, \"precipitation\": 19.36957583451713, \"condition\": \"drizzle\"}, {\"temperature\": 2.837559858993796, \"wind\": 18.62443662393004, \"precipitation\": 57.42273968155751, \"condition\": \"sun\"}, {\"temperature\": 39.14290590745285, \"wind\": 32.52859013259527, \"precipitation\": 88.21897530715309, \"condition\": \"rain\"}, {\"temperature\": 39.2325438266719, \"wind\": 2.511353474345024, \"precipitation\": 78.95158173752907, \"condition\": \"fog\"}, {\"temperature\": 2.949456835649645, \"wind\": 1.9370157264502197, \"precipitation\": 3.5337114891518584, \"condition\": \"fog\"}, {\"temperature\": 28.422917308067277, \"wind\": 6.822434636914776, \"precipitation\": 84.5655158038795, \"condition\": \"fog\"}, {\"temperature\": 28.406344711783838, \"wind\": 95.25216996998444, \"precipitation\": 2.312429289727791, \"condition\": \"fog\"}, {\"temperature\": 23.929825809705775, \"wind\": 28.441727967722407, \"precipitation\": 94.94371547195382, \"condition\": \"drizzle\"}, {\"temperature\": 25.144603850494207, \"wind\": 5.7248518372133965, \"precipitation\": 72.55961327284773, \"condition\": \"drizzle\"}, {\"temperature\": -3.1069016270510676, \"wind\": 90.56068308052812, \"precipitation\": 8.208347981870512, \"condition\": \"rain\"}, {\"temperature\": 43.07443333444708, \"wind\": 63.33777651825151, \"precipitation\": 35.343598004733714, \"condition\": \"sun\"}, {\"temperature\": -8.715631484900875, \"wind\": 78.50049089036061, \"precipitation\": 16.726772866900042, \"condition\": \"fog\"}, {\"temperature\": 10.058625587365142, \"wind\": 82.55410159133031, \"precipitation\": 49.82193593499935, \"condition\": \"fog\"}, {\"temperature\": 27.912341883718938, \"wind\": 45.94389098129158, \"precipitation\": 87.71806691348185, \"condition\": \"sun\"}, {\"temperature\": 28.827008981675903, \"wind\": 14.352645600160752, \"precipitation\": 95.30777240838884, \"condition\": \"sun\"}, {\"temperature\": -5.245472855196331, \"wind\": 24.463633090927274, \"precipitation\": 63.1630488725617, \"condition\": \"fog\"}, {\"temperature\": -4.738627417736829, \"wind\": 87.61779675788263, \"precipitation\": 67.17488470646667, \"condition\": \"fog\"}, {\"temperature\": -1.6463371096382655, \"wind\": 34.15953757649686, \"precipitation\": 83.20021064524306, \"condition\": \"rain\"}, {\"temperature\": -8.671469939339552, \"wind\": 28.02148157701091, \"precipitation\": 8.858286414027772, \"condition\": \"snow\"}, {\"temperature\": 23.586980668182306, \"wind\": 32.61177727202879, \"precipitation\": 90.55384722692395, \"condition\": \"snow\"}, {\"temperature\": 42.93552301196303, \"wind\": 17.459007963452034, \"precipitation\": 76.26693620563219, \"condition\": \"sun\"}, {\"temperature\": 14.04271616398174, \"wind\": 31.44611970670743, \"precipitation\": 27.736449442339893, \"condition\": \"rain\"}, {\"temperature\": 33.93136729382773, \"wind\": 85.0980112392488, \"precipitation\": 48.72266227519502, \"condition\": \"fog\"}, {\"temperature\": 29.10713627050935, \"wind\": 25.401508775422734, \"precipitation\": 83.25120184383715, \"condition\": \"fog\"}, {\"temperature\": 23.33130010979005, \"wind\": 38.960479467358745, \"precipitation\": 84.8094568801428, \"condition\": \"rain\"}, {\"temperature\": 27.820447049966695, \"wind\": 97.47611794506456, \"precipitation\": 59.404606053602336, \"condition\": \"fog\"}, {\"temperature\": 24.704809156505995, \"wind\": 56.929461372432655, \"precipitation\": 16.583726619344496, \"condition\": \"drizzle\"}, {\"temperature\": 42.73839675123029, \"wind\": 19.024929246369528, \"precipitation\": 37.515692671204135, \"condition\": \"sun\"}, {\"temperature\": 39.73480992464111, \"wind\": 63.10268501376382, \"precipitation\": 15.20512544845365, \"condition\": \"fog\"}, {\"temperature\": 34.928857478491054, \"wind\": 44.34437827092474, \"precipitation\": 2.9919970218495684, \"condition\": \"sun\"}, {\"temperature\": 12.475457440238529, \"wind\": 45.63508245761745, \"precipitation\": 1.5684442569828705, \"condition\": \"fog\"}, {\"temperature\": 11.485742656702111, \"wind\": 35.43011450755876, \"precipitation\": 46.843314320146966, \"condition\": \"fog\"}, {\"temperature\": 16.58332024159822, \"wind\": 85.9387003246595, \"precipitation\": 67.67417859666371, \"condition\": \"sun\"}, {\"temperature\": 42.96961504747511, \"wind\": 61.02100908610409, \"precipitation\": 40.19537213295094, \"condition\": \"snow\"}, {\"temperature\": 43.01306682260888, \"wind\": 91.58796490357004, \"precipitation\": 10.242970289225461, \"condition\": \"sun\"}, {\"temperature\": 17.888206090116245, \"wind\": 29.82373325722851, \"precipitation\": 44.29455934969246, \"condition\": \"sun\"}, {\"temperature\": 13.700882757230424, \"wind\": 46.93705512034313, \"precipitation\": 76.07676796446637, \"condition\": \"rain\"}, {\"temperature\": 4.986331720563626, \"wind\": 81.90760931416689, \"precipitation\": 34.892239668746406, \"condition\": \"drizzle\"}, {\"temperature\": -1.4778346288931683, \"wind\": 3.9791854357363987, \"precipitation\": 7.535152538482148, \"condition\": \"drizzle\"}, {\"temperature\": 16.892161248783623, \"wind\": 31.993361074291926, \"precipitation\": 60.46401934620111, \"condition\": \"drizzle\"}, {\"temperature\": -7.17506030059671, \"wind\": 5.042336185555952, \"precipitation\": 88.35922403405787, \"condition\": \"drizzle\"}, {\"temperature\": 9.85908134441586, \"wind\": 48.491362316119236, \"precipitation\": 23.80248472573617, \"condition\": \"snow\"}, {\"temperature\": 28.54368725395195, \"wind\": 5.72748587709313, \"precipitation\": 25.974359374267742, \"condition\": \"drizzle\"}, {\"temperature\": 41.85044222939622, \"wind\": 3.311333417116047, \"precipitation\": 1.7918023488591839, \"condition\": \"snow\"}, {\"temperature\": 39.51847585775124, \"wind\": 89.64939452111453, \"precipitation\": 48.53950512768904, \"condition\": \"fog\"}, {\"temperature\": 4.1511791382858725, \"wind\": 58.14172937556887, \"precipitation\": 79.66452798481971, \"condition\": \"drizzle\"}, {\"temperature\": 7.316849144326355, \"wind\": 6.796864846855866, \"precipitation\": 33.619090549629306, \"condition\": \"snow\"}, {\"temperature\": -6.040726652488083, \"wind\": 24.37214720554359, \"precipitation\": 71.46568853073089, \"condition\": \"rain\"}, {\"temperature\": 28.05026452008928, \"wind\": 19.39989397387041, \"precipitation\": 71.68725771245654, \"condition\": \"drizzle\"}, {\"temperature\": 35.30623993317926, \"wind\": 66.54091843981752, \"precipitation\": 22.884049790672588, \"condition\": \"rain\"}, {\"temperature\": -9.078168118751755, \"wind\": 54.53321547753263, \"precipitation\": 66.43449936744369, \"condition\": \"sun\"}, {\"temperature\": 34.31111609068961, \"wind\": 92.79899053872957, \"precipitation\": 61.9431928594434, \"condition\": \"sun\"}, {\"temperature\": -0.5340863902706268, \"wind\": 89.18484464889846, \"precipitation\": 88.49655552922172, \"condition\": \"rain\"}, {\"temperature\": -7.331283732097262, \"wind\": 16.43300088620039, \"precipitation\": 92.15523633598885, \"condition\": \"drizzle\"}, {\"temperature\": 34.4512940591614, \"wind\": 16.982566694713043, \"precipitation\": 66.50391898652623, \"condition\": \"fog\"}, {\"temperature\": 2.292195972387347, \"wind\": 78.07758659490037, \"precipitation\": 85.08941323813521, \"condition\": \"snow\"}, {\"temperature\": 10.280188069701488, \"wind\": 64.37598506985243, \"precipitation\": 46.13428294966927, \"condition\": \"sun\"}, {\"temperature\": 14.385637791164196, \"wind\": 27.710246014732775, \"precipitation\": 82.18132103083111, \"condition\": \"rain\"}, {\"temperature\": 15.068929930658907, \"wind\": 90.37313777532859, \"precipitation\": 95.42688091272505, \"condition\": \"rain\"}, {\"temperature\": -5.931704200276687, \"wind\": 76.30697305192514, \"precipitation\": 48.17926018036856, \"condition\": \"drizzle\"}, {\"temperature\": -1.2238906425326128, \"wind\": 77.25655113115953, \"precipitation\": 12.189057445370022, \"condition\": \"sun\"}, {\"temperature\": 17.981273164150583, \"wind\": 99.8855194023956, \"precipitation\": 5.951490853046981, \"condition\": \"drizzle\"}, {\"temperature\": 8.333054222089164, \"wind\": 22.351144710727677, \"precipitation\": 1.9907985646430038, \"condition\": \"rain\"}, {\"temperature\": 40.99117292213711, \"wind\": 12.537186007473021, \"precipitation\": 3.0957134444521195, \"condition\": \"drizzle\"}, {\"temperature\": 36.29560583814439, \"wind\": 47.282861379528676, \"precipitation\": 50.72175472263106, \"condition\": \"fog\"}, {\"temperature\": 8.011942225789358, \"wind\": 80.64679426688298, \"precipitation\": 84.74031260132877, \"condition\": \"sun\"}, {\"temperature\": 32.64189921238727, \"wind\": 78.38867921926278, \"precipitation\": 94.27015659699374, \"condition\": \"fog\"}, {\"temperature\": -4.159829210634211, \"wind\": 53.39060475873939, \"precipitation\": 50.60795287404672, \"condition\": \"fog\"}, {\"temperature\": -6.602296737522483, \"wind\": 86.55899134629715, \"precipitation\": 62.64697378600636, \"condition\": \"fog\"}, {\"temperature\": 40.135239145180655, \"wind\": 16.633704419495032, \"precipitation\": 41.391087682479736, \"condition\": \"drizzle\"}, {\"temperature\": 26.95881305440288, \"wind\": 85.8809786017975, \"precipitation\": 71.9617762842435, \"condition\": \"drizzle\"}, {\"temperature\": 11.92991543604046, \"wind\": 76.39140196294017, \"precipitation\": 60.40612399492309, \"condition\": \"drizzle\"}, {\"temperature\": 19.566301202766702, \"wind\": 72.97802286558691, \"precipitation\": 29.681848692175006, \"condition\": \"drizzle\"}, {\"temperature\": 10.481864045771506, \"wind\": 10.269367839292642, \"precipitation\": 85.87287289024248, \"condition\": \"rain\"}, {\"temperature\": -9.620152753805623, \"wind\": 64.57630699894213, \"precipitation\": 29.06583641537993, \"condition\": \"drizzle\"}, {\"temperature\": 24.85823346816882, \"wind\": 64.44200648973889, \"precipitation\": 32.79358601401415, \"condition\": \"sun\"}, {\"temperature\": -9.71401231081625, \"wind\": 46.94482107365025, \"precipitation\": 71.95828763550503, \"condition\": \"rain\"}, {\"temperature\": 15.802582568794556, \"wind\": 5.568264782160037, \"precipitation\": 16.50277435360922, \"condition\": \"sun\"}, {\"temperature\": 29.44740698845427, \"wind\": 66.4224540835048, \"precipitation\": 96.91347272575433, \"condition\": \"snow\"}, {\"temperature\": 0.1789559651072139, \"wind\": 37.144396583281235, \"precipitation\": 7.3927878065009445, \"condition\": \"snow\"}, {\"temperature\": 37.90262114384076, \"wind\": 23.744567572534315, \"precipitation\": 85.44013318397162, \"condition\": \"fog\"}, {\"temperature\": 40.40503203411964, \"wind\": 71.68155336881077, \"precipitation\": 91.260802513042, \"condition\": \"snow\"}, {\"temperature\": 2.723433474361908, \"wind\": 5.85694236985378, \"precipitation\": 54.0295184169758, \"condition\": \"drizzle\"}, {\"temperature\": 9.452609321039336, \"wind\": 52.7843932253772, \"precipitation\": 90.04450333194686, \"condition\": \"fog\"}, {\"temperature\": 18.909153974667404, \"wind\": 13.725377509230263, \"precipitation\": 34.56974350594094, \"condition\": \"sun\"}]}}, {\"mode\": \"vega-lite\"});\n",
       "</script>"
      ],
      "text/plain": [
       "alt.LayerChart(...)"
      ]
     },
     "metadata": {},
     "output_type": "display_data"
    }
   ],
   "source": [
    "base = alt.Chart(df)\n",
    "arc = base.mark_arc(stroke=\"#ffffff\").encode(\n",
    "    theta=alt.Theta(field=\"condition\", type=\"nominal\"),\n",
    "    radius=alt.Radius(field=\"temperature\", type=\"quantitative\", aggregate=\"mean\"),\n",
    ")\n",
    "text = base.mark_text(radiusOffset=15).encode(\n",
    "    theta=alt.Theta(field=\"condition\", type=\"nominal\"),\n",
    "    radius=alt.Radius(field=\"temperature\", type=\"quantitative\", aggregate=\"mean\"),\n",
    "    text=alt.Text(field=\"condition\", type=\"nominal\"),\n",
    ")\n",
    "display_chart(arc + text)"
   ]
  },
  {
   "cell_type": "markdown",
   "metadata": {},
   "source": [
    "### Histogram"
   ]
  },
  {
   "cell_type": "code",
   "execution_count": 14,
   "metadata": {},
   "outputs": [
    {
     "name": "stdout",
     "output_type": "stream",
     "text": [
      "{'field': [{'name': 'condition', 'type': 'string'}],\n",
      " 'number_rows': 100,\n",
      " 'view': [{'mark': [{'encoding': [{'channel': 'x', 'field': 'condition'},\n",
      "                                  {'aggregate': 'count', 'channel': 'y'}],\n",
      "                     'type': 'bar'}],\n",
      "           'scale': [{'channel': 'x', 'type': 'ordinal'},\n",
      "                     {'channel': 'y', 'type': 'linear', 'zero': 'true'}]}]}\n"
     ]
    }
   ],
   "source": [
    "facts = [\n",
    "    \"attribute(number_rows,root,100).\",\n",
    "    \"entity(field,root,condition).\",\n",
    "    \"attribute((field,name),condition,condition).\",\n",
    "    \"attribute((field,type),condition,string).\",\n",
    "    \"entity(view,root,0).\",\n",
    "    \"entity(mark,0,1).\",\n",
    "    \"attribute((mark,type),1,bar).\",\n",
    "    \"entity(encoding,1,2).\",\n",
    "    \"attribute((encoding,channel),2,x).\",\n",
    "    \"attribute((encoding,field),2,condition).\",\n",
    "    \"entity(encoding,1,3).\",\n",
    "    \"attribute((encoding,channel),3,y).\",\n",
    "    \"attribute((encoding,aggregate),3,count).\",\n",
    "    \"entity(scale,0,4).\",\n",
    "    \"attribute((scale,channel),4,x).\",\n",
    "    \"attribute((scale,type),4,ordinal).\",\n",
    "    \"entity(scale,0,5).\",\n",
    "    \"attribute((scale,channel),5,y).\",\n",
    "    \"attribute((scale,type),5,linear).\",\n",
    "    \"attribute((scale,zero),5,true).\",\n",
    "]\n",
    "spec = facts_to_dict(facts)\n",
    "pprint(spec)"
   ]
  },
  {
   "cell_type": "code",
   "execution_count": 15,
   "metadata": {},
   "outputs": [
    {
     "name": "stdout",
     "output_type": "stream",
     "text": [
      "{'$schema': 'https://vega.github.io/schema/vega-lite/v4.17.0.json',\n",
      " 'config': {'view': {'continuousHeight': 300, 'continuousWidth': 400}},\n",
      " 'encoding': {'x': {'field': 'condition',\n",
      "                    'scale': {'type': 'ordinal'},\n",
      "                    'type': 'nominal'},\n",
      "              'y': {'aggregate': 'count',\n",
      "                    'field': 'condition',\n",
      "                    'scale': {'type': 'linear', 'zero': True},\n",
      "                    'type': 'nominal'}},\n",
      " 'mark': 'bar'}\n"
     ]
    },
    {
     "data": {
      "text/html": [
       "\n",
       "<div id=\"altair-viz-2d84e9fbf07d4dff819e0d162ad29bfc\"></div>\n",
       "<script type=\"text/javascript\">\n",
       "  var VEGA_DEBUG = (typeof VEGA_DEBUG == \"undefined\") ? {} : VEGA_DEBUG;\n",
       "  (function(spec, embedOpt){\n",
       "    let outputDiv = document.currentScript.previousElementSibling;\n",
       "    if (outputDiv.id !== \"altair-viz-2d84e9fbf07d4dff819e0d162ad29bfc\") {\n",
       "      outputDiv = document.getElementById(\"altair-viz-2d84e9fbf07d4dff819e0d162ad29bfc\");\n",
       "    }\n",
       "    const paths = {\n",
       "      \"vega\": \"https://cdn.jsdelivr.net/npm//vega@5?noext\",\n",
       "      \"vega-lib\": \"https://cdn.jsdelivr.net/npm//vega-lib?noext\",\n",
       "      \"vega-lite\": \"https://cdn.jsdelivr.net/npm//vega-lite@4.17.0?noext\",\n",
       "      \"vega-embed\": \"https://cdn.jsdelivr.net/npm//vega-embed@6?noext\",\n",
       "    };\n",
       "\n",
       "    function maybeLoadScript(lib, version) {\n",
       "      var key = `${lib.replace(\"-\", \"\")}_version`;\n",
       "      return (VEGA_DEBUG[key] == version) ?\n",
       "        Promise.resolve(paths[lib]) :\n",
       "        new Promise(function(resolve, reject) {\n",
       "          var s = document.createElement('script');\n",
       "          document.getElementsByTagName(\"head\")[0].appendChild(s);\n",
       "          s.async = true;\n",
       "          s.onload = () => {\n",
       "            VEGA_DEBUG[key] = version;\n",
       "            return resolve(paths[lib]);\n",
       "          };\n",
       "          s.onerror = () => reject(`Error loading script: ${paths[lib]}`);\n",
       "          s.src = paths[lib];\n",
       "        });\n",
       "    }\n",
       "\n",
       "    function showError(err) {\n",
       "      outputDiv.innerHTML = `<div class=\"error\" style=\"color:red;\">${err}</div>`;\n",
       "      throw err;\n",
       "    }\n",
       "\n",
       "    function displayChart(vegaEmbed) {\n",
       "      vegaEmbed(outputDiv, spec, embedOpt)\n",
       "        .catch(err => showError(`Javascript Error: ${err.message}<br>This usually means there's a typo in your chart specification. See the javascript console for the full traceback.`));\n",
       "    }\n",
       "\n",
       "    if(typeof define === \"function\" && define.amd) {\n",
       "      requirejs.config({paths});\n",
       "      require([\"vega-embed\"], displayChart, err => showError(`Error loading script: ${err.message}`));\n",
       "    } else {\n",
       "      maybeLoadScript(\"vega\", \"5\")\n",
       "        .then(() => maybeLoadScript(\"vega-lite\", \"4.17.0\"))\n",
       "        .then(() => maybeLoadScript(\"vega-embed\", \"6\"))\n",
       "        .catch(showError)\n",
       "        .then(() => displayChart(vegaEmbed));\n",
       "    }\n",
       "  })({\"config\": {\"view\": {\"continuousWidth\": 400, \"continuousHeight\": 300}}, \"data\": {\"name\": \"data-124c435c1b687eb7890344117a1c86b4\"}, \"mark\": \"bar\", \"encoding\": {\"x\": {\"field\": \"condition\", \"scale\": {\"type\": \"ordinal\"}, \"type\": \"nominal\"}, \"y\": {\"aggregate\": \"count\", \"field\": \"condition\", \"scale\": {\"type\": \"linear\", \"zero\": true}, \"type\": \"nominal\"}}, \"$schema\": \"https://vega.github.io/schema/vega-lite/v4.17.0.json\", \"datasets\": {\"data-124c435c1b687eb7890344117a1c86b4\": [{\"temperature\": 17.89365303788651, \"wind\": 78.75685633883592, \"precipitation\": 41.61124606702779, \"condition\": \"rain\"}, {\"temperature\": 5.622818441769336, \"wind\": 25.421998841055917, \"precipitation\": 74.90555083684964, \"condition\": \"rain\"}, {\"temperature\": 23.3902094090436, \"wind\": 9.846103163487696, \"precipitation\": 81.33536438710783, \"condition\": \"rain\"}, {\"temperature\": 20.889554427248395, \"wind\": 27.53521295661492, \"precipitation\": 27.6549324712597, \"condition\": \"drizzle\"}, {\"temperature\": 33.91026207788065, \"wind\": 97.91032820138525, \"precipitation\": 36.53494267552425, \"condition\": \"snow\"}, {\"temperature\": 39.65611406756084, \"wind\": 24.27383951799732, \"precipitation\": 33.38647147375286, \"condition\": \"rain\"}, {\"temperature\": 5.670659801967243, \"wind\": 98.20197823012846, \"precipitation\": 93.72832557739356, \"condition\": \"snow\"}, {\"temperature\": -2.2776070811204505, \"wind\": 77.90443786588797, \"precipitation\": 50.102310147035375, \"condition\": \"drizzle\"}, {\"temperature\": 43.104548648992775, \"wind\": 74.77698982401796, \"precipitation\": 89.95647852559429, \"condition\": \"sun\"}, {\"temperature\": 1.8049661385207525, \"wind\": 91.29152261118769, \"precipitation\": 29.77145087552332, \"condition\": \"fog\"}, {\"temperature\": 14.327115187571408, \"wind\": 45.054261048821296, \"precipitation\": 17.654846400296798, \"condition\": \"drizzle\"}, {\"temperature\": 25.44797791508993, \"wind\": 22.265267642454656, \"precipitation\": 60.37929677885421, \"condition\": \"drizzle\"}, {\"temperature\": 11.19016835531465, \"wind\": 77.30294308487814, \"precipitation\": 71.65443847888368, \"condition\": \"snow\"}, {\"temperature\": 22.948827407585433, \"wind\": 27.03785915458824, \"precipitation\": 92.68901140573688, \"condition\": \"snow\"}, {\"temperature\": 33.16555388154543, \"wind\": 92.1292103045794, \"precipitation\": 39.10838647644195, \"condition\": \"snow\"}, {\"temperature\": 9.981393546660723, \"wind\": 66.73004528306666, \"precipitation\": 19.36957583451713, \"condition\": \"drizzle\"}, {\"temperature\": 2.837559858993796, \"wind\": 18.62443662393004, \"precipitation\": 57.42273968155751, \"condition\": \"sun\"}, {\"temperature\": 39.14290590745285, \"wind\": 32.52859013259527, \"precipitation\": 88.21897530715309, \"condition\": \"rain\"}, {\"temperature\": 39.2325438266719, \"wind\": 2.511353474345024, \"precipitation\": 78.95158173752907, \"condition\": \"fog\"}, {\"temperature\": 2.949456835649645, \"wind\": 1.9370157264502197, \"precipitation\": 3.5337114891518584, \"condition\": \"fog\"}, {\"temperature\": 28.422917308067277, \"wind\": 6.822434636914776, \"precipitation\": 84.5655158038795, \"condition\": \"fog\"}, {\"temperature\": 28.406344711783838, \"wind\": 95.25216996998444, \"precipitation\": 2.312429289727791, \"condition\": \"fog\"}, {\"temperature\": 23.929825809705775, \"wind\": 28.441727967722407, \"precipitation\": 94.94371547195382, \"condition\": \"drizzle\"}, {\"temperature\": 25.144603850494207, \"wind\": 5.7248518372133965, \"precipitation\": 72.55961327284773, \"condition\": \"drizzle\"}, {\"temperature\": -3.1069016270510676, \"wind\": 90.56068308052812, \"precipitation\": 8.208347981870512, \"condition\": \"rain\"}, {\"temperature\": 43.07443333444708, \"wind\": 63.33777651825151, \"precipitation\": 35.343598004733714, \"condition\": \"sun\"}, {\"temperature\": -8.715631484900875, \"wind\": 78.50049089036061, \"precipitation\": 16.726772866900042, \"condition\": \"fog\"}, {\"temperature\": 10.058625587365142, \"wind\": 82.55410159133031, \"precipitation\": 49.82193593499935, \"condition\": \"fog\"}, {\"temperature\": 27.912341883718938, \"wind\": 45.94389098129158, \"precipitation\": 87.71806691348185, \"condition\": \"sun\"}, {\"temperature\": 28.827008981675903, \"wind\": 14.352645600160752, \"precipitation\": 95.30777240838884, \"condition\": \"sun\"}, {\"temperature\": -5.245472855196331, \"wind\": 24.463633090927274, \"precipitation\": 63.1630488725617, \"condition\": \"fog\"}, {\"temperature\": -4.738627417736829, \"wind\": 87.61779675788263, \"precipitation\": 67.17488470646667, \"condition\": \"fog\"}, {\"temperature\": -1.6463371096382655, \"wind\": 34.15953757649686, \"precipitation\": 83.20021064524306, \"condition\": \"rain\"}, {\"temperature\": -8.671469939339552, \"wind\": 28.02148157701091, \"precipitation\": 8.858286414027772, \"condition\": \"snow\"}, {\"temperature\": 23.586980668182306, \"wind\": 32.61177727202879, \"precipitation\": 90.55384722692395, \"condition\": \"snow\"}, {\"temperature\": 42.93552301196303, \"wind\": 17.459007963452034, \"precipitation\": 76.26693620563219, \"condition\": \"sun\"}, {\"temperature\": 14.04271616398174, \"wind\": 31.44611970670743, \"precipitation\": 27.736449442339893, \"condition\": \"rain\"}, {\"temperature\": 33.93136729382773, \"wind\": 85.0980112392488, \"precipitation\": 48.72266227519502, \"condition\": \"fog\"}, {\"temperature\": 29.10713627050935, \"wind\": 25.401508775422734, \"precipitation\": 83.25120184383715, \"condition\": \"fog\"}, {\"temperature\": 23.33130010979005, \"wind\": 38.960479467358745, \"precipitation\": 84.8094568801428, \"condition\": \"rain\"}, {\"temperature\": 27.820447049966695, \"wind\": 97.47611794506456, \"precipitation\": 59.404606053602336, \"condition\": \"fog\"}, {\"temperature\": 24.704809156505995, \"wind\": 56.929461372432655, \"precipitation\": 16.583726619344496, \"condition\": \"drizzle\"}, {\"temperature\": 42.73839675123029, \"wind\": 19.024929246369528, \"precipitation\": 37.515692671204135, \"condition\": \"sun\"}, {\"temperature\": 39.73480992464111, \"wind\": 63.10268501376382, \"precipitation\": 15.20512544845365, \"condition\": \"fog\"}, {\"temperature\": 34.928857478491054, \"wind\": 44.34437827092474, \"precipitation\": 2.9919970218495684, \"condition\": \"sun\"}, {\"temperature\": 12.475457440238529, \"wind\": 45.63508245761745, \"precipitation\": 1.5684442569828705, \"condition\": \"fog\"}, {\"temperature\": 11.485742656702111, \"wind\": 35.43011450755876, \"precipitation\": 46.843314320146966, \"condition\": \"fog\"}, {\"temperature\": 16.58332024159822, \"wind\": 85.9387003246595, \"precipitation\": 67.67417859666371, \"condition\": \"sun\"}, {\"temperature\": 42.96961504747511, \"wind\": 61.02100908610409, \"precipitation\": 40.19537213295094, \"condition\": \"snow\"}, {\"temperature\": 43.01306682260888, \"wind\": 91.58796490357004, \"precipitation\": 10.242970289225461, \"condition\": \"sun\"}, {\"temperature\": 17.888206090116245, \"wind\": 29.82373325722851, \"precipitation\": 44.29455934969246, \"condition\": \"sun\"}, {\"temperature\": 13.700882757230424, \"wind\": 46.93705512034313, \"precipitation\": 76.07676796446637, \"condition\": \"rain\"}, {\"temperature\": 4.986331720563626, \"wind\": 81.90760931416689, \"precipitation\": 34.892239668746406, \"condition\": \"drizzle\"}, {\"temperature\": -1.4778346288931683, \"wind\": 3.9791854357363987, \"precipitation\": 7.535152538482148, \"condition\": \"drizzle\"}, {\"temperature\": 16.892161248783623, \"wind\": 31.993361074291926, \"precipitation\": 60.46401934620111, \"condition\": \"drizzle\"}, {\"temperature\": -7.17506030059671, \"wind\": 5.042336185555952, \"precipitation\": 88.35922403405787, \"condition\": \"drizzle\"}, {\"temperature\": 9.85908134441586, \"wind\": 48.491362316119236, \"precipitation\": 23.80248472573617, \"condition\": \"snow\"}, {\"temperature\": 28.54368725395195, \"wind\": 5.72748587709313, \"precipitation\": 25.974359374267742, \"condition\": \"drizzle\"}, {\"temperature\": 41.85044222939622, \"wind\": 3.311333417116047, \"precipitation\": 1.7918023488591839, \"condition\": \"snow\"}, {\"temperature\": 39.51847585775124, \"wind\": 89.64939452111453, \"precipitation\": 48.53950512768904, \"condition\": \"fog\"}, {\"temperature\": 4.1511791382858725, \"wind\": 58.14172937556887, \"precipitation\": 79.66452798481971, \"condition\": \"drizzle\"}, {\"temperature\": 7.316849144326355, \"wind\": 6.796864846855866, \"precipitation\": 33.619090549629306, \"condition\": \"snow\"}, {\"temperature\": -6.040726652488083, \"wind\": 24.37214720554359, \"precipitation\": 71.46568853073089, \"condition\": \"rain\"}, {\"temperature\": 28.05026452008928, \"wind\": 19.39989397387041, \"precipitation\": 71.68725771245654, \"condition\": \"drizzle\"}, {\"temperature\": 35.30623993317926, \"wind\": 66.54091843981752, \"precipitation\": 22.884049790672588, \"condition\": \"rain\"}, {\"temperature\": -9.078168118751755, \"wind\": 54.53321547753263, \"precipitation\": 66.43449936744369, \"condition\": \"sun\"}, {\"temperature\": 34.31111609068961, \"wind\": 92.79899053872957, \"precipitation\": 61.9431928594434, \"condition\": \"sun\"}, {\"temperature\": -0.5340863902706268, \"wind\": 89.18484464889846, \"precipitation\": 88.49655552922172, \"condition\": \"rain\"}, {\"temperature\": -7.331283732097262, \"wind\": 16.43300088620039, \"precipitation\": 92.15523633598885, \"condition\": \"drizzle\"}, {\"temperature\": 34.4512940591614, \"wind\": 16.982566694713043, \"precipitation\": 66.50391898652623, \"condition\": \"fog\"}, {\"temperature\": 2.292195972387347, \"wind\": 78.07758659490037, \"precipitation\": 85.08941323813521, \"condition\": \"snow\"}, {\"temperature\": 10.280188069701488, \"wind\": 64.37598506985243, \"precipitation\": 46.13428294966927, \"condition\": \"sun\"}, {\"temperature\": 14.385637791164196, \"wind\": 27.710246014732775, \"precipitation\": 82.18132103083111, \"condition\": \"rain\"}, {\"temperature\": 15.068929930658907, \"wind\": 90.37313777532859, \"precipitation\": 95.42688091272505, \"condition\": \"rain\"}, {\"temperature\": -5.931704200276687, \"wind\": 76.30697305192514, \"precipitation\": 48.17926018036856, \"condition\": \"drizzle\"}, {\"temperature\": -1.2238906425326128, \"wind\": 77.25655113115953, \"precipitation\": 12.189057445370022, \"condition\": \"sun\"}, {\"temperature\": 17.981273164150583, \"wind\": 99.8855194023956, \"precipitation\": 5.951490853046981, \"condition\": \"drizzle\"}, {\"temperature\": 8.333054222089164, \"wind\": 22.351144710727677, \"precipitation\": 1.9907985646430038, \"condition\": \"rain\"}, {\"temperature\": 40.99117292213711, \"wind\": 12.537186007473021, \"precipitation\": 3.0957134444521195, \"condition\": \"drizzle\"}, {\"temperature\": 36.29560583814439, \"wind\": 47.282861379528676, \"precipitation\": 50.72175472263106, \"condition\": \"fog\"}, {\"temperature\": 8.011942225789358, \"wind\": 80.64679426688298, \"precipitation\": 84.74031260132877, \"condition\": \"sun\"}, {\"temperature\": 32.64189921238727, \"wind\": 78.38867921926278, \"precipitation\": 94.27015659699374, \"condition\": \"fog\"}, {\"temperature\": -4.159829210634211, \"wind\": 53.39060475873939, \"precipitation\": 50.60795287404672, \"condition\": \"fog\"}, {\"temperature\": -6.602296737522483, \"wind\": 86.55899134629715, \"precipitation\": 62.64697378600636, \"condition\": \"fog\"}, {\"temperature\": 40.135239145180655, \"wind\": 16.633704419495032, \"precipitation\": 41.391087682479736, \"condition\": \"drizzle\"}, {\"temperature\": 26.95881305440288, \"wind\": 85.8809786017975, \"precipitation\": 71.9617762842435, \"condition\": \"drizzle\"}, {\"temperature\": 11.92991543604046, \"wind\": 76.39140196294017, \"precipitation\": 60.40612399492309, \"condition\": \"drizzle\"}, {\"temperature\": 19.566301202766702, \"wind\": 72.97802286558691, \"precipitation\": 29.681848692175006, \"condition\": \"drizzle\"}, {\"temperature\": 10.481864045771506, \"wind\": 10.269367839292642, \"precipitation\": 85.87287289024248, \"condition\": \"rain\"}, {\"temperature\": -9.620152753805623, \"wind\": 64.57630699894213, \"precipitation\": 29.06583641537993, \"condition\": \"drizzle\"}, {\"temperature\": 24.85823346816882, \"wind\": 64.44200648973889, \"precipitation\": 32.79358601401415, \"condition\": \"sun\"}, {\"temperature\": -9.71401231081625, \"wind\": 46.94482107365025, \"precipitation\": 71.95828763550503, \"condition\": \"rain\"}, {\"temperature\": 15.802582568794556, \"wind\": 5.568264782160037, \"precipitation\": 16.50277435360922, \"condition\": \"sun\"}, {\"temperature\": 29.44740698845427, \"wind\": 66.4224540835048, \"precipitation\": 96.91347272575433, \"condition\": \"snow\"}, {\"temperature\": 0.1789559651072139, \"wind\": 37.144396583281235, \"precipitation\": 7.3927878065009445, \"condition\": \"snow\"}, {\"temperature\": 37.90262114384076, \"wind\": 23.744567572534315, \"precipitation\": 85.44013318397162, \"condition\": \"fog\"}, {\"temperature\": 40.40503203411964, \"wind\": 71.68155336881077, \"precipitation\": 91.260802513042, \"condition\": \"snow\"}, {\"temperature\": 2.723433474361908, \"wind\": 5.85694236985378, \"precipitation\": 54.0295184169758, \"condition\": \"drizzle\"}, {\"temperature\": 9.452609321039336, \"wind\": 52.7843932253772, \"precipitation\": 90.04450333194686, \"condition\": \"fog\"}, {\"temperature\": 18.909153974667404, \"wind\": 13.725377509230263, \"precipitation\": 34.56974350594094, \"condition\": \"sun\"}]}}, {\"mode\": \"vega-lite\"});\n",
       "</script>"
      ],
      "text/plain": [
       "alt.Chart(...)"
      ]
     },
     "metadata": {},
     "output_type": "display_data"
    }
   ],
   "source": [
    "base = alt.Chart(df)\n",
    "bar = base.mark_bar().encode(\n",
    "    x=alt.X(field=\"condition\", type=\"nominal\", scale=alt.Scale(type=\"ordinal\")),\n",
    "    y=alt.Y(\n",
    "        field=\"condition\",\n",
    "        type=\"nominal\",\n",
    "        aggregate=\"count\",\n",
    "        scale=alt.Scale(type=\"linear\", zero=True),\n",
    "    ),\n",
    ")\n",
    "display_chart(bar)"
   ]
  },
  {
   "cell_type": "markdown",
   "metadata": {},
   "source": [
    "### Binned Histrogram"
   ]
  },
  {
   "cell_type": "code",
   "execution_count": 16,
   "metadata": {},
   "outputs": [
    {
     "name": "stdout",
     "output_type": "stream",
     "text": [
      "{'field': [{'name': 'temperature', 'type': 'number'}],\n",
      " 'number_rows': 100,\n",
      " 'view': [{'mark': [{'encoding': [{'binning': 10,\n",
      "                                   'channel': 'x',\n",
      "                                   'field': 'temperature'},\n",
      "                                  {'aggregate': 'count', 'channel': 'y'}],\n",
      "                     'type': 'bar'}],\n",
      "           'scale': [{'channel': 'x', 'type': 'linear'},\n",
      "                     {'channel': 'y', 'type': 'linear', 'zero': 'true'}]}]}\n"
     ]
    }
   ],
   "source": [
    "facts = [\n",
    "    \"attribute(number_rows,root,100).\",\n",
    "    \"entity(field,root,temperature).\",\n",
    "    \"attribute((field,name),temperature,temperature).\",\n",
    "    \"attribute((field,type),temperature,number).\",\n",
    "    \"entity(view,root,0).\",\n",
    "    \"entity(mark,0,1).\",\n",
    "    \"attribute((mark,type),1,bar).\",\n",
    "    \"entity(encoding,1,2).\",\n",
    "    \"attribute((encoding,channel),2,x).\",\n",
    "    \"attribute((encoding,field),2,temperature).\",\n",
    "    \"attribute((encoding,binning),2,10).\",\n",
    "    \"entity(encoding,1,3).\",\n",
    "    \"attribute((encoding,channel),3,y).\",\n",
    "    \"attribute((encoding,aggregate),3,count).\",\n",
    "    \"entity(scale,0,4).\",\n",
    "    \"attribute((scale,channel),4,x).\",\n",
    "    \"attribute((scale,type),4,linear).\",\n",
    "    \"entity(scale,0,5).\",\n",
    "    \"attribute((scale,channel),5,y).\",\n",
    "    \"attribute((scale,type),5,linear).\",\n",
    "    \"attribute((scale,zero),5,true).\",\n",
    "]\n",
    "spec = facts_to_dict(facts)\n",
    "pprint(spec)"
   ]
  },
  {
   "cell_type": "code",
   "execution_count": 17,
   "metadata": {},
   "outputs": [
    {
     "name": "stdout",
     "output_type": "stream",
     "text": [
      "{'$schema': 'https://vega.github.io/schema/vega-lite/v4.17.0.json',\n",
      " 'config': {'view': {'continuousHeight': 300, 'continuousWidth': 400}},\n",
      " 'encoding': {'x': {'bin': {'maxbins': 10},\n",
      "                    'field': 'temperature',\n",
      "                    'scale': {'type': 'linear'},\n",
      "                    'type': 'quantitative'},\n",
      "              'y': {'aggregate': 'count',\n",
      "                    'field': 'temperature',\n",
      "                    'scale': {'type': 'linear', 'zero': True},\n",
      "                    'type': 'quantitative'}},\n",
      " 'mark': 'bar'}\n"
     ]
    },
    {
     "data": {
      "text/html": [
       "\n",
       "<div id=\"altair-viz-40955606031d44dcad549867a58bdc9f\"></div>\n",
       "<script type=\"text/javascript\">\n",
       "  var VEGA_DEBUG = (typeof VEGA_DEBUG == \"undefined\") ? {} : VEGA_DEBUG;\n",
       "  (function(spec, embedOpt){\n",
       "    let outputDiv = document.currentScript.previousElementSibling;\n",
       "    if (outputDiv.id !== \"altair-viz-40955606031d44dcad549867a58bdc9f\") {\n",
       "      outputDiv = document.getElementById(\"altair-viz-40955606031d44dcad549867a58bdc9f\");\n",
       "    }\n",
       "    const paths = {\n",
       "      \"vega\": \"https://cdn.jsdelivr.net/npm//vega@5?noext\",\n",
       "      \"vega-lib\": \"https://cdn.jsdelivr.net/npm//vega-lib?noext\",\n",
       "      \"vega-lite\": \"https://cdn.jsdelivr.net/npm//vega-lite@4.17.0?noext\",\n",
       "      \"vega-embed\": \"https://cdn.jsdelivr.net/npm//vega-embed@6?noext\",\n",
       "    };\n",
       "\n",
       "    function maybeLoadScript(lib, version) {\n",
       "      var key = `${lib.replace(\"-\", \"\")}_version`;\n",
       "      return (VEGA_DEBUG[key] == version) ?\n",
       "        Promise.resolve(paths[lib]) :\n",
       "        new Promise(function(resolve, reject) {\n",
       "          var s = document.createElement('script');\n",
       "          document.getElementsByTagName(\"head\")[0].appendChild(s);\n",
       "          s.async = true;\n",
       "          s.onload = () => {\n",
       "            VEGA_DEBUG[key] = version;\n",
       "            return resolve(paths[lib]);\n",
       "          };\n",
       "          s.onerror = () => reject(`Error loading script: ${paths[lib]}`);\n",
       "          s.src = paths[lib];\n",
       "        });\n",
       "    }\n",
       "\n",
       "    function showError(err) {\n",
       "      outputDiv.innerHTML = `<div class=\"error\" style=\"color:red;\">${err}</div>`;\n",
       "      throw err;\n",
       "    }\n",
       "\n",
       "    function displayChart(vegaEmbed) {\n",
       "      vegaEmbed(outputDiv, spec, embedOpt)\n",
       "        .catch(err => showError(`Javascript Error: ${err.message}<br>This usually means there's a typo in your chart specification. See the javascript console for the full traceback.`));\n",
       "    }\n",
       "\n",
       "    if(typeof define === \"function\" && define.amd) {\n",
       "      requirejs.config({paths});\n",
       "      require([\"vega-embed\"], displayChart, err => showError(`Error loading script: ${err.message}`));\n",
       "    } else {\n",
       "      maybeLoadScript(\"vega\", \"5\")\n",
       "        .then(() => maybeLoadScript(\"vega-lite\", \"4.17.0\"))\n",
       "        .then(() => maybeLoadScript(\"vega-embed\", \"6\"))\n",
       "        .catch(showError)\n",
       "        .then(() => displayChart(vegaEmbed));\n",
       "    }\n",
       "  })({\"config\": {\"view\": {\"continuousWidth\": 400, \"continuousHeight\": 300}}, \"data\": {\"name\": \"data-124c435c1b687eb7890344117a1c86b4\"}, \"mark\": \"bar\", \"encoding\": {\"x\": {\"bin\": {\"maxbins\": 10}, \"field\": \"temperature\", \"scale\": {\"type\": \"linear\"}, \"type\": \"quantitative\"}, \"y\": {\"aggregate\": \"count\", \"field\": \"temperature\", \"scale\": {\"type\": \"linear\", \"zero\": true}, \"type\": \"quantitative\"}}, \"$schema\": \"https://vega.github.io/schema/vega-lite/v4.17.0.json\", \"datasets\": {\"data-124c435c1b687eb7890344117a1c86b4\": [{\"temperature\": 17.89365303788651, \"wind\": 78.75685633883592, \"precipitation\": 41.61124606702779, \"condition\": \"rain\"}, {\"temperature\": 5.622818441769336, \"wind\": 25.421998841055917, \"precipitation\": 74.90555083684964, \"condition\": \"rain\"}, {\"temperature\": 23.3902094090436, \"wind\": 9.846103163487696, \"precipitation\": 81.33536438710783, \"condition\": \"rain\"}, {\"temperature\": 20.889554427248395, \"wind\": 27.53521295661492, \"precipitation\": 27.6549324712597, \"condition\": \"drizzle\"}, {\"temperature\": 33.91026207788065, \"wind\": 97.91032820138525, \"precipitation\": 36.53494267552425, \"condition\": \"snow\"}, {\"temperature\": 39.65611406756084, \"wind\": 24.27383951799732, \"precipitation\": 33.38647147375286, \"condition\": \"rain\"}, {\"temperature\": 5.670659801967243, \"wind\": 98.20197823012846, \"precipitation\": 93.72832557739356, \"condition\": \"snow\"}, {\"temperature\": -2.2776070811204505, \"wind\": 77.90443786588797, \"precipitation\": 50.102310147035375, \"condition\": \"drizzle\"}, {\"temperature\": 43.104548648992775, \"wind\": 74.77698982401796, \"precipitation\": 89.95647852559429, \"condition\": \"sun\"}, {\"temperature\": 1.8049661385207525, \"wind\": 91.29152261118769, \"precipitation\": 29.77145087552332, \"condition\": \"fog\"}, {\"temperature\": 14.327115187571408, \"wind\": 45.054261048821296, \"precipitation\": 17.654846400296798, \"condition\": \"drizzle\"}, {\"temperature\": 25.44797791508993, \"wind\": 22.265267642454656, \"precipitation\": 60.37929677885421, \"condition\": \"drizzle\"}, {\"temperature\": 11.19016835531465, \"wind\": 77.30294308487814, \"precipitation\": 71.65443847888368, \"condition\": \"snow\"}, {\"temperature\": 22.948827407585433, \"wind\": 27.03785915458824, \"precipitation\": 92.68901140573688, \"condition\": \"snow\"}, {\"temperature\": 33.16555388154543, \"wind\": 92.1292103045794, \"precipitation\": 39.10838647644195, \"condition\": \"snow\"}, {\"temperature\": 9.981393546660723, \"wind\": 66.73004528306666, \"precipitation\": 19.36957583451713, \"condition\": \"drizzle\"}, {\"temperature\": 2.837559858993796, \"wind\": 18.62443662393004, \"precipitation\": 57.42273968155751, \"condition\": \"sun\"}, {\"temperature\": 39.14290590745285, \"wind\": 32.52859013259527, \"precipitation\": 88.21897530715309, \"condition\": \"rain\"}, {\"temperature\": 39.2325438266719, \"wind\": 2.511353474345024, \"precipitation\": 78.95158173752907, \"condition\": \"fog\"}, {\"temperature\": 2.949456835649645, \"wind\": 1.9370157264502197, \"precipitation\": 3.5337114891518584, \"condition\": \"fog\"}, {\"temperature\": 28.422917308067277, \"wind\": 6.822434636914776, \"precipitation\": 84.5655158038795, \"condition\": \"fog\"}, {\"temperature\": 28.406344711783838, \"wind\": 95.25216996998444, \"precipitation\": 2.312429289727791, \"condition\": \"fog\"}, {\"temperature\": 23.929825809705775, \"wind\": 28.441727967722407, \"precipitation\": 94.94371547195382, \"condition\": \"drizzle\"}, {\"temperature\": 25.144603850494207, \"wind\": 5.7248518372133965, \"precipitation\": 72.55961327284773, \"condition\": \"drizzle\"}, {\"temperature\": -3.1069016270510676, \"wind\": 90.56068308052812, \"precipitation\": 8.208347981870512, \"condition\": \"rain\"}, {\"temperature\": 43.07443333444708, \"wind\": 63.33777651825151, \"precipitation\": 35.343598004733714, \"condition\": \"sun\"}, {\"temperature\": -8.715631484900875, \"wind\": 78.50049089036061, \"precipitation\": 16.726772866900042, \"condition\": \"fog\"}, {\"temperature\": 10.058625587365142, \"wind\": 82.55410159133031, \"precipitation\": 49.82193593499935, \"condition\": \"fog\"}, {\"temperature\": 27.912341883718938, \"wind\": 45.94389098129158, \"precipitation\": 87.71806691348185, \"condition\": \"sun\"}, {\"temperature\": 28.827008981675903, \"wind\": 14.352645600160752, \"precipitation\": 95.30777240838884, \"condition\": \"sun\"}, {\"temperature\": -5.245472855196331, \"wind\": 24.463633090927274, \"precipitation\": 63.1630488725617, \"condition\": \"fog\"}, {\"temperature\": -4.738627417736829, \"wind\": 87.61779675788263, \"precipitation\": 67.17488470646667, \"condition\": \"fog\"}, {\"temperature\": -1.6463371096382655, \"wind\": 34.15953757649686, \"precipitation\": 83.20021064524306, \"condition\": \"rain\"}, {\"temperature\": -8.671469939339552, \"wind\": 28.02148157701091, \"precipitation\": 8.858286414027772, \"condition\": \"snow\"}, {\"temperature\": 23.586980668182306, \"wind\": 32.61177727202879, \"precipitation\": 90.55384722692395, \"condition\": \"snow\"}, {\"temperature\": 42.93552301196303, \"wind\": 17.459007963452034, \"precipitation\": 76.26693620563219, \"condition\": \"sun\"}, {\"temperature\": 14.04271616398174, \"wind\": 31.44611970670743, \"precipitation\": 27.736449442339893, \"condition\": \"rain\"}, {\"temperature\": 33.93136729382773, \"wind\": 85.0980112392488, \"precipitation\": 48.72266227519502, \"condition\": \"fog\"}, {\"temperature\": 29.10713627050935, \"wind\": 25.401508775422734, \"precipitation\": 83.25120184383715, \"condition\": \"fog\"}, {\"temperature\": 23.33130010979005, \"wind\": 38.960479467358745, \"precipitation\": 84.8094568801428, \"condition\": \"rain\"}, {\"temperature\": 27.820447049966695, \"wind\": 97.47611794506456, \"precipitation\": 59.404606053602336, \"condition\": \"fog\"}, {\"temperature\": 24.704809156505995, \"wind\": 56.929461372432655, \"precipitation\": 16.583726619344496, \"condition\": \"drizzle\"}, {\"temperature\": 42.73839675123029, \"wind\": 19.024929246369528, \"precipitation\": 37.515692671204135, \"condition\": \"sun\"}, {\"temperature\": 39.73480992464111, \"wind\": 63.10268501376382, \"precipitation\": 15.20512544845365, \"condition\": \"fog\"}, {\"temperature\": 34.928857478491054, \"wind\": 44.34437827092474, \"precipitation\": 2.9919970218495684, \"condition\": \"sun\"}, {\"temperature\": 12.475457440238529, \"wind\": 45.63508245761745, \"precipitation\": 1.5684442569828705, \"condition\": \"fog\"}, {\"temperature\": 11.485742656702111, \"wind\": 35.43011450755876, \"precipitation\": 46.843314320146966, \"condition\": \"fog\"}, {\"temperature\": 16.58332024159822, \"wind\": 85.9387003246595, \"precipitation\": 67.67417859666371, \"condition\": \"sun\"}, {\"temperature\": 42.96961504747511, \"wind\": 61.02100908610409, \"precipitation\": 40.19537213295094, \"condition\": \"snow\"}, {\"temperature\": 43.01306682260888, \"wind\": 91.58796490357004, \"precipitation\": 10.242970289225461, \"condition\": \"sun\"}, {\"temperature\": 17.888206090116245, \"wind\": 29.82373325722851, \"precipitation\": 44.29455934969246, \"condition\": \"sun\"}, {\"temperature\": 13.700882757230424, \"wind\": 46.93705512034313, \"precipitation\": 76.07676796446637, \"condition\": \"rain\"}, {\"temperature\": 4.986331720563626, \"wind\": 81.90760931416689, \"precipitation\": 34.892239668746406, \"condition\": \"drizzle\"}, {\"temperature\": -1.4778346288931683, \"wind\": 3.9791854357363987, \"precipitation\": 7.535152538482148, \"condition\": \"drizzle\"}, {\"temperature\": 16.892161248783623, \"wind\": 31.993361074291926, \"precipitation\": 60.46401934620111, \"condition\": \"drizzle\"}, {\"temperature\": -7.17506030059671, \"wind\": 5.042336185555952, \"precipitation\": 88.35922403405787, \"condition\": \"drizzle\"}, {\"temperature\": 9.85908134441586, \"wind\": 48.491362316119236, \"precipitation\": 23.80248472573617, \"condition\": \"snow\"}, {\"temperature\": 28.54368725395195, \"wind\": 5.72748587709313, \"precipitation\": 25.974359374267742, \"condition\": \"drizzle\"}, {\"temperature\": 41.85044222939622, \"wind\": 3.311333417116047, \"precipitation\": 1.7918023488591839, \"condition\": \"snow\"}, {\"temperature\": 39.51847585775124, \"wind\": 89.64939452111453, \"precipitation\": 48.53950512768904, \"condition\": \"fog\"}, {\"temperature\": 4.1511791382858725, \"wind\": 58.14172937556887, \"precipitation\": 79.66452798481971, \"condition\": \"drizzle\"}, {\"temperature\": 7.316849144326355, \"wind\": 6.796864846855866, \"precipitation\": 33.619090549629306, \"condition\": \"snow\"}, {\"temperature\": -6.040726652488083, \"wind\": 24.37214720554359, \"precipitation\": 71.46568853073089, \"condition\": \"rain\"}, {\"temperature\": 28.05026452008928, \"wind\": 19.39989397387041, \"precipitation\": 71.68725771245654, \"condition\": \"drizzle\"}, {\"temperature\": 35.30623993317926, \"wind\": 66.54091843981752, \"precipitation\": 22.884049790672588, \"condition\": \"rain\"}, {\"temperature\": -9.078168118751755, \"wind\": 54.53321547753263, \"precipitation\": 66.43449936744369, \"condition\": \"sun\"}, {\"temperature\": 34.31111609068961, \"wind\": 92.79899053872957, \"precipitation\": 61.9431928594434, \"condition\": \"sun\"}, {\"temperature\": -0.5340863902706268, \"wind\": 89.18484464889846, \"precipitation\": 88.49655552922172, \"condition\": \"rain\"}, {\"temperature\": -7.331283732097262, \"wind\": 16.43300088620039, \"precipitation\": 92.15523633598885, \"condition\": \"drizzle\"}, {\"temperature\": 34.4512940591614, \"wind\": 16.982566694713043, \"precipitation\": 66.50391898652623, \"condition\": \"fog\"}, {\"temperature\": 2.292195972387347, \"wind\": 78.07758659490037, \"precipitation\": 85.08941323813521, \"condition\": \"snow\"}, {\"temperature\": 10.280188069701488, \"wind\": 64.37598506985243, \"precipitation\": 46.13428294966927, \"condition\": \"sun\"}, {\"temperature\": 14.385637791164196, \"wind\": 27.710246014732775, \"precipitation\": 82.18132103083111, \"condition\": \"rain\"}, {\"temperature\": 15.068929930658907, \"wind\": 90.37313777532859, \"precipitation\": 95.42688091272505, \"condition\": \"rain\"}, {\"temperature\": -5.931704200276687, \"wind\": 76.30697305192514, \"precipitation\": 48.17926018036856, \"condition\": \"drizzle\"}, {\"temperature\": -1.2238906425326128, \"wind\": 77.25655113115953, \"precipitation\": 12.189057445370022, \"condition\": \"sun\"}, {\"temperature\": 17.981273164150583, \"wind\": 99.8855194023956, \"precipitation\": 5.951490853046981, \"condition\": \"drizzle\"}, {\"temperature\": 8.333054222089164, \"wind\": 22.351144710727677, \"precipitation\": 1.9907985646430038, \"condition\": \"rain\"}, {\"temperature\": 40.99117292213711, \"wind\": 12.537186007473021, \"precipitation\": 3.0957134444521195, \"condition\": \"drizzle\"}, {\"temperature\": 36.29560583814439, \"wind\": 47.282861379528676, \"precipitation\": 50.72175472263106, \"condition\": \"fog\"}, {\"temperature\": 8.011942225789358, \"wind\": 80.64679426688298, \"precipitation\": 84.74031260132877, \"condition\": \"sun\"}, {\"temperature\": 32.64189921238727, \"wind\": 78.38867921926278, \"precipitation\": 94.27015659699374, \"condition\": \"fog\"}, {\"temperature\": -4.159829210634211, \"wind\": 53.39060475873939, \"precipitation\": 50.60795287404672, \"condition\": \"fog\"}, {\"temperature\": -6.602296737522483, \"wind\": 86.55899134629715, \"precipitation\": 62.64697378600636, \"condition\": \"fog\"}, {\"temperature\": 40.135239145180655, \"wind\": 16.633704419495032, \"precipitation\": 41.391087682479736, \"condition\": \"drizzle\"}, {\"temperature\": 26.95881305440288, \"wind\": 85.8809786017975, \"precipitation\": 71.9617762842435, \"condition\": \"drizzle\"}, {\"temperature\": 11.92991543604046, \"wind\": 76.39140196294017, \"precipitation\": 60.40612399492309, \"condition\": \"drizzle\"}, {\"temperature\": 19.566301202766702, \"wind\": 72.97802286558691, \"precipitation\": 29.681848692175006, \"condition\": \"drizzle\"}, {\"temperature\": 10.481864045771506, \"wind\": 10.269367839292642, \"precipitation\": 85.87287289024248, \"condition\": \"rain\"}, {\"temperature\": -9.620152753805623, \"wind\": 64.57630699894213, \"precipitation\": 29.06583641537993, \"condition\": \"drizzle\"}, {\"temperature\": 24.85823346816882, \"wind\": 64.44200648973889, \"precipitation\": 32.79358601401415, \"condition\": \"sun\"}, {\"temperature\": -9.71401231081625, \"wind\": 46.94482107365025, \"precipitation\": 71.95828763550503, \"condition\": \"rain\"}, {\"temperature\": 15.802582568794556, \"wind\": 5.568264782160037, \"precipitation\": 16.50277435360922, \"condition\": \"sun\"}, {\"temperature\": 29.44740698845427, \"wind\": 66.4224540835048, \"precipitation\": 96.91347272575433, \"condition\": \"snow\"}, {\"temperature\": 0.1789559651072139, \"wind\": 37.144396583281235, \"precipitation\": 7.3927878065009445, \"condition\": \"snow\"}, {\"temperature\": 37.90262114384076, \"wind\": 23.744567572534315, \"precipitation\": 85.44013318397162, \"condition\": \"fog\"}, {\"temperature\": 40.40503203411964, \"wind\": 71.68155336881077, \"precipitation\": 91.260802513042, \"condition\": \"snow\"}, {\"temperature\": 2.723433474361908, \"wind\": 5.85694236985378, \"precipitation\": 54.0295184169758, \"condition\": \"drizzle\"}, {\"temperature\": 9.452609321039336, \"wind\": 52.7843932253772, \"precipitation\": 90.04450333194686, \"condition\": \"fog\"}, {\"temperature\": 18.909153974667404, \"wind\": 13.725377509230263, \"precipitation\": 34.56974350594094, \"condition\": \"sun\"}]}}, {\"mode\": \"vega-lite\"});\n",
       "</script>"
      ],
      "text/plain": [
       "alt.Chart(...)"
      ]
     },
     "metadata": {},
     "output_type": "display_data"
    }
   ],
   "source": [
    "base = alt.Chart(df)\n",
    "bar = base.mark_bar().encode(\n",
    "    x=alt.X(\n",
    "        field=\"temperature\",\n",
    "        type=\"quantitative\",\n",
    "        bin=alt.Bin(maxbins=10),\n",
    "        scale=alt.Scale(type=\"linear\"),\n",
    "    ),\n",
    "    y=alt.Y(\n",
    "        field=\"temperature\",\n",
    "        type=\"quantitative\",\n",
    "        aggregate=\"count\",\n",
    "        scale=alt.Scale(type=\"linear\", zero=True),\n",
    "    ),\n",
    ")\n",
    "display_chart(bar)"
   ]
  },
  {
   "cell_type": "markdown",
   "metadata": {},
   "source": [
    "### Scatterplot"
   ]
  },
  {
   "cell_type": "code",
   "execution_count": 18,
   "metadata": {},
   "outputs": [
    {
     "name": "stdout",
     "output_type": "stream",
     "text": [
      "{'field': [{'name': 'temperature', 'type': 'number'},\n",
      "           {'name': 'wind', 'type': 'number'}],\n",
      " 'number_rows': 100,\n",
      " 'view': [{'mark': [{'encoding': [{'channel': 'x', 'field': 'temperature'},\n",
      "                                  {'channel': 'y', 'field': 'wind'}],\n",
      "                     'type': 'point'}],\n",
      "           'scale': [{'channel': 'x', 'type': 'linear'},\n",
      "                     {'channel': 'y', 'type': 'linear'}]}]}\n"
     ]
    }
   ],
   "source": [
    "facts = [\n",
    "    \"attribute(number_rows,root,100).\",\n",
    "    \"entity(field,root,temperature).\",\n",
    "    \"attribute((field,name),temperature,temperature).\",\n",
    "    \"attribute((field,type),temperature,number).\",\n",
    "    \"entity(field,root,wind).\",\n",
    "    \"attribute((field,name),wind,wind).\",\n",
    "    \"attribute((field,type),wind,number).\",\n",
    "    \"entity(view,root,0).\",\n",
    "    \"entity(mark,0,1).\",\n",
    "    \"attribute((mark,type),1,point).\",\n",
    "    \"entity(encoding,1,2).\",\n",
    "    \"attribute((encoding,channel),2,x).\",\n",
    "    \"attribute((encoding,field),2,temperature).\",\n",
    "    \"entity(encoding,1,3).\",\n",
    "    \"attribute((encoding,channel),3,y).\",\n",
    "    \"attribute((encoding,field),3,wind).\",\n",
    "    \"entity(scale,0,4).\",\n",
    "    \"attribute((scale,channel),4,x).\",\n",
    "    \"attribute((scale,type),4,linear).\",\n",
    "    \"entity(scale,0,5).\",\n",
    "    \"attribute((scale,channel),5,y).\",\n",
    "    \"attribute((scale,type),5,linear).\",\n",
    "]\n",
    "spec = facts_to_dict(facts)\n",
    "pprint(spec)"
   ]
  },
  {
   "cell_type": "code",
   "execution_count": 19,
   "metadata": {},
   "outputs": [
    {
     "name": "stdout",
     "output_type": "stream",
     "text": [
      "{'$schema': 'https://vega.github.io/schema/vega-lite/v4.17.0.json',\n",
      " 'config': {'view': {'continuousHeight': 300, 'continuousWidth': 400}},\n",
      " 'encoding': {'x': {'field': 'temperature',\n",
      "                    'scale': {'type': 'linear'},\n",
      "                    'type': 'quantitative'},\n",
      "              'y': {'field': 'wind',\n",
      "                    'scale': {'type': 'linear'},\n",
      "                    'type': 'quantitative'}},\n",
      " 'mark': 'point'}\n"
     ]
    },
    {
     "data": {
      "text/html": [
       "\n",
       "<div id=\"altair-viz-3f52494786fc44e6901ce8f6b23e3318\"></div>\n",
       "<script type=\"text/javascript\">\n",
       "  var VEGA_DEBUG = (typeof VEGA_DEBUG == \"undefined\") ? {} : VEGA_DEBUG;\n",
       "  (function(spec, embedOpt){\n",
       "    let outputDiv = document.currentScript.previousElementSibling;\n",
       "    if (outputDiv.id !== \"altair-viz-3f52494786fc44e6901ce8f6b23e3318\") {\n",
       "      outputDiv = document.getElementById(\"altair-viz-3f52494786fc44e6901ce8f6b23e3318\");\n",
       "    }\n",
       "    const paths = {\n",
       "      \"vega\": \"https://cdn.jsdelivr.net/npm//vega@5?noext\",\n",
       "      \"vega-lib\": \"https://cdn.jsdelivr.net/npm//vega-lib?noext\",\n",
       "      \"vega-lite\": \"https://cdn.jsdelivr.net/npm//vega-lite@4.17.0?noext\",\n",
       "      \"vega-embed\": \"https://cdn.jsdelivr.net/npm//vega-embed@6?noext\",\n",
       "    };\n",
       "\n",
       "    function maybeLoadScript(lib, version) {\n",
       "      var key = `${lib.replace(\"-\", \"\")}_version`;\n",
       "      return (VEGA_DEBUG[key] == version) ?\n",
       "        Promise.resolve(paths[lib]) :\n",
       "        new Promise(function(resolve, reject) {\n",
       "          var s = document.createElement('script');\n",
       "          document.getElementsByTagName(\"head\")[0].appendChild(s);\n",
       "          s.async = true;\n",
       "          s.onload = () => {\n",
       "            VEGA_DEBUG[key] = version;\n",
       "            return resolve(paths[lib]);\n",
       "          };\n",
       "          s.onerror = () => reject(`Error loading script: ${paths[lib]}`);\n",
       "          s.src = paths[lib];\n",
       "        });\n",
       "    }\n",
       "\n",
       "    function showError(err) {\n",
       "      outputDiv.innerHTML = `<div class=\"error\" style=\"color:red;\">${err}</div>`;\n",
       "      throw err;\n",
       "    }\n",
       "\n",
       "    function displayChart(vegaEmbed) {\n",
       "      vegaEmbed(outputDiv, spec, embedOpt)\n",
       "        .catch(err => showError(`Javascript Error: ${err.message}<br>This usually means there's a typo in your chart specification. See the javascript console for the full traceback.`));\n",
       "    }\n",
       "\n",
       "    if(typeof define === \"function\" && define.amd) {\n",
       "      requirejs.config({paths});\n",
       "      require([\"vega-embed\"], displayChart, err => showError(`Error loading script: ${err.message}`));\n",
       "    } else {\n",
       "      maybeLoadScript(\"vega\", \"5\")\n",
       "        .then(() => maybeLoadScript(\"vega-lite\", \"4.17.0\"))\n",
       "        .then(() => maybeLoadScript(\"vega-embed\", \"6\"))\n",
       "        .catch(showError)\n",
       "        .then(() => displayChart(vegaEmbed));\n",
       "    }\n",
       "  })({\"config\": {\"view\": {\"continuousWidth\": 400, \"continuousHeight\": 300}}, \"data\": {\"name\": \"data-124c435c1b687eb7890344117a1c86b4\"}, \"mark\": \"point\", \"encoding\": {\"x\": {\"field\": \"temperature\", \"scale\": {\"type\": \"linear\"}, \"type\": \"quantitative\"}, \"y\": {\"field\": \"wind\", \"scale\": {\"type\": \"linear\"}, \"type\": \"quantitative\"}}, \"$schema\": \"https://vega.github.io/schema/vega-lite/v4.17.0.json\", \"datasets\": {\"data-124c435c1b687eb7890344117a1c86b4\": [{\"temperature\": 17.89365303788651, \"wind\": 78.75685633883592, \"precipitation\": 41.61124606702779, \"condition\": \"rain\"}, {\"temperature\": 5.622818441769336, \"wind\": 25.421998841055917, \"precipitation\": 74.90555083684964, \"condition\": \"rain\"}, {\"temperature\": 23.3902094090436, \"wind\": 9.846103163487696, \"precipitation\": 81.33536438710783, \"condition\": \"rain\"}, {\"temperature\": 20.889554427248395, \"wind\": 27.53521295661492, \"precipitation\": 27.6549324712597, \"condition\": \"drizzle\"}, {\"temperature\": 33.91026207788065, \"wind\": 97.91032820138525, \"precipitation\": 36.53494267552425, \"condition\": \"snow\"}, {\"temperature\": 39.65611406756084, \"wind\": 24.27383951799732, \"precipitation\": 33.38647147375286, \"condition\": \"rain\"}, {\"temperature\": 5.670659801967243, \"wind\": 98.20197823012846, \"precipitation\": 93.72832557739356, \"condition\": \"snow\"}, {\"temperature\": -2.2776070811204505, \"wind\": 77.90443786588797, \"precipitation\": 50.102310147035375, \"condition\": \"drizzle\"}, {\"temperature\": 43.104548648992775, \"wind\": 74.77698982401796, \"precipitation\": 89.95647852559429, \"condition\": \"sun\"}, {\"temperature\": 1.8049661385207525, \"wind\": 91.29152261118769, \"precipitation\": 29.77145087552332, \"condition\": \"fog\"}, {\"temperature\": 14.327115187571408, \"wind\": 45.054261048821296, \"precipitation\": 17.654846400296798, \"condition\": \"drizzle\"}, {\"temperature\": 25.44797791508993, \"wind\": 22.265267642454656, \"precipitation\": 60.37929677885421, \"condition\": \"drizzle\"}, {\"temperature\": 11.19016835531465, \"wind\": 77.30294308487814, \"precipitation\": 71.65443847888368, \"condition\": \"snow\"}, {\"temperature\": 22.948827407585433, \"wind\": 27.03785915458824, \"precipitation\": 92.68901140573688, \"condition\": \"snow\"}, {\"temperature\": 33.16555388154543, \"wind\": 92.1292103045794, \"precipitation\": 39.10838647644195, \"condition\": \"snow\"}, {\"temperature\": 9.981393546660723, \"wind\": 66.73004528306666, \"precipitation\": 19.36957583451713, \"condition\": \"drizzle\"}, {\"temperature\": 2.837559858993796, \"wind\": 18.62443662393004, \"precipitation\": 57.42273968155751, \"condition\": \"sun\"}, {\"temperature\": 39.14290590745285, \"wind\": 32.52859013259527, \"precipitation\": 88.21897530715309, \"condition\": \"rain\"}, {\"temperature\": 39.2325438266719, \"wind\": 2.511353474345024, \"precipitation\": 78.95158173752907, \"condition\": \"fog\"}, {\"temperature\": 2.949456835649645, \"wind\": 1.9370157264502197, \"precipitation\": 3.5337114891518584, \"condition\": \"fog\"}, {\"temperature\": 28.422917308067277, \"wind\": 6.822434636914776, \"precipitation\": 84.5655158038795, \"condition\": \"fog\"}, {\"temperature\": 28.406344711783838, \"wind\": 95.25216996998444, \"precipitation\": 2.312429289727791, \"condition\": \"fog\"}, {\"temperature\": 23.929825809705775, \"wind\": 28.441727967722407, \"precipitation\": 94.94371547195382, \"condition\": \"drizzle\"}, {\"temperature\": 25.144603850494207, \"wind\": 5.7248518372133965, \"precipitation\": 72.55961327284773, \"condition\": \"drizzle\"}, {\"temperature\": -3.1069016270510676, \"wind\": 90.56068308052812, \"precipitation\": 8.208347981870512, \"condition\": \"rain\"}, {\"temperature\": 43.07443333444708, \"wind\": 63.33777651825151, \"precipitation\": 35.343598004733714, \"condition\": \"sun\"}, {\"temperature\": -8.715631484900875, \"wind\": 78.50049089036061, \"precipitation\": 16.726772866900042, \"condition\": \"fog\"}, {\"temperature\": 10.058625587365142, \"wind\": 82.55410159133031, \"precipitation\": 49.82193593499935, \"condition\": \"fog\"}, {\"temperature\": 27.912341883718938, \"wind\": 45.94389098129158, \"precipitation\": 87.71806691348185, \"condition\": \"sun\"}, {\"temperature\": 28.827008981675903, \"wind\": 14.352645600160752, \"precipitation\": 95.30777240838884, \"condition\": \"sun\"}, {\"temperature\": -5.245472855196331, \"wind\": 24.463633090927274, \"precipitation\": 63.1630488725617, \"condition\": \"fog\"}, {\"temperature\": -4.738627417736829, \"wind\": 87.61779675788263, \"precipitation\": 67.17488470646667, \"condition\": \"fog\"}, {\"temperature\": -1.6463371096382655, \"wind\": 34.15953757649686, \"precipitation\": 83.20021064524306, \"condition\": \"rain\"}, {\"temperature\": -8.671469939339552, \"wind\": 28.02148157701091, \"precipitation\": 8.858286414027772, \"condition\": \"snow\"}, {\"temperature\": 23.586980668182306, \"wind\": 32.61177727202879, \"precipitation\": 90.55384722692395, \"condition\": \"snow\"}, {\"temperature\": 42.93552301196303, \"wind\": 17.459007963452034, \"precipitation\": 76.26693620563219, \"condition\": \"sun\"}, {\"temperature\": 14.04271616398174, \"wind\": 31.44611970670743, \"precipitation\": 27.736449442339893, \"condition\": \"rain\"}, {\"temperature\": 33.93136729382773, \"wind\": 85.0980112392488, \"precipitation\": 48.72266227519502, \"condition\": \"fog\"}, {\"temperature\": 29.10713627050935, \"wind\": 25.401508775422734, \"precipitation\": 83.25120184383715, \"condition\": \"fog\"}, {\"temperature\": 23.33130010979005, \"wind\": 38.960479467358745, \"precipitation\": 84.8094568801428, \"condition\": \"rain\"}, {\"temperature\": 27.820447049966695, \"wind\": 97.47611794506456, \"precipitation\": 59.404606053602336, \"condition\": \"fog\"}, {\"temperature\": 24.704809156505995, \"wind\": 56.929461372432655, \"precipitation\": 16.583726619344496, \"condition\": \"drizzle\"}, {\"temperature\": 42.73839675123029, \"wind\": 19.024929246369528, \"precipitation\": 37.515692671204135, \"condition\": \"sun\"}, {\"temperature\": 39.73480992464111, \"wind\": 63.10268501376382, \"precipitation\": 15.20512544845365, \"condition\": \"fog\"}, {\"temperature\": 34.928857478491054, \"wind\": 44.34437827092474, \"precipitation\": 2.9919970218495684, \"condition\": \"sun\"}, {\"temperature\": 12.475457440238529, \"wind\": 45.63508245761745, \"precipitation\": 1.5684442569828705, \"condition\": \"fog\"}, {\"temperature\": 11.485742656702111, \"wind\": 35.43011450755876, \"precipitation\": 46.843314320146966, \"condition\": \"fog\"}, {\"temperature\": 16.58332024159822, \"wind\": 85.9387003246595, \"precipitation\": 67.67417859666371, \"condition\": \"sun\"}, {\"temperature\": 42.96961504747511, \"wind\": 61.02100908610409, \"precipitation\": 40.19537213295094, \"condition\": \"snow\"}, {\"temperature\": 43.01306682260888, \"wind\": 91.58796490357004, \"precipitation\": 10.242970289225461, \"condition\": \"sun\"}, {\"temperature\": 17.888206090116245, \"wind\": 29.82373325722851, \"precipitation\": 44.29455934969246, \"condition\": \"sun\"}, {\"temperature\": 13.700882757230424, \"wind\": 46.93705512034313, \"precipitation\": 76.07676796446637, \"condition\": \"rain\"}, {\"temperature\": 4.986331720563626, \"wind\": 81.90760931416689, \"precipitation\": 34.892239668746406, \"condition\": \"drizzle\"}, {\"temperature\": -1.4778346288931683, \"wind\": 3.9791854357363987, \"precipitation\": 7.535152538482148, \"condition\": \"drizzle\"}, {\"temperature\": 16.892161248783623, \"wind\": 31.993361074291926, \"precipitation\": 60.46401934620111, \"condition\": \"drizzle\"}, {\"temperature\": -7.17506030059671, \"wind\": 5.042336185555952, \"precipitation\": 88.35922403405787, \"condition\": \"drizzle\"}, {\"temperature\": 9.85908134441586, \"wind\": 48.491362316119236, \"precipitation\": 23.80248472573617, \"condition\": \"snow\"}, {\"temperature\": 28.54368725395195, \"wind\": 5.72748587709313, \"precipitation\": 25.974359374267742, \"condition\": \"drizzle\"}, {\"temperature\": 41.85044222939622, \"wind\": 3.311333417116047, \"precipitation\": 1.7918023488591839, \"condition\": \"snow\"}, {\"temperature\": 39.51847585775124, \"wind\": 89.64939452111453, \"precipitation\": 48.53950512768904, \"condition\": \"fog\"}, {\"temperature\": 4.1511791382858725, \"wind\": 58.14172937556887, \"precipitation\": 79.66452798481971, \"condition\": \"drizzle\"}, {\"temperature\": 7.316849144326355, \"wind\": 6.796864846855866, \"precipitation\": 33.619090549629306, \"condition\": \"snow\"}, {\"temperature\": -6.040726652488083, \"wind\": 24.37214720554359, \"precipitation\": 71.46568853073089, \"condition\": \"rain\"}, {\"temperature\": 28.05026452008928, \"wind\": 19.39989397387041, \"precipitation\": 71.68725771245654, \"condition\": \"drizzle\"}, {\"temperature\": 35.30623993317926, \"wind\": 66.54091843981752, \"precipitation\": 22.884049790672588, \"condition\": \"rain\"}, {\"temperature\": -9.078168118751755, \"wind\": 54.53321547753263, \"precipitation\": 66.43449936744369, \"condition\": \"sun\"}, {\"temperature\": 34.31111609068961, \"wind\": 92.79899053872957, \"precipitation\": 61.9431928594434, \"condition\": \"sun\"}, {\"temperature\": -0.5340863902706268, \"wind\": 89.18484464889846, \"precipitation\": 88.49655552922172, \"condition\": \"rain\"}, {\"temperature\": -7.331283732097262, \"wind\": 16.43300088620039, \"precipitation\": 92.15523633598885, \"condition\": \"drizzle\"}, {\"temperature\": 34.4512940591614, \"wind\": 16.982566694713043, \"precipitation\": 66.50391898652623, \"condition\": \"fog\"}, {\"temperature\": 2.292195972387347, \"wind\": 78.07758659490037, \"precipitation\": 85.08941323813521, \"condition\": \"snow\"}, {\"temperature\": 10.280188069701488, \"wind\": 64.37598506985243, \"precipitation\": 46.13428294966927, \"condition\": \"sun\"}, {\"temperature\": 14.385637791164196, \"wind\": 27.710246014732775, \"precipitation\": 82.18132103083111, \"condition\": \"rain\"}, {\"temperature\": 15.068929930658907, \"wind\": 90.37313777532859, \"precipitation\": 95.42688091272505, \"condition\": \"rain\"}, {\"temperature\": -5.931704200276687, \"wind\": 76.30697305192514, \"precipitation\": 48.17926018036856, \"condition\": \"drizzle\"}, {\"temperature\": -1.2238906425326128, \"wind\": 77.25655113115953, \"precipitation\": 12.189057445370022, \"condition\": \"sun\"}, {\"temperature\": 17.981273164150583, \"wind\": 99.8855194023956, \"precipitation\": 5.951490853046981, \"condition\": \"drizzle\"}, {\"temperature\": 8.333054222089164, \"wind\": 22.351144710727677, \"precipitation\": 1.9907985646430038, \"condition\": \"rain\"}, {\"temperature\": 40.99117292213711, \"wind\": 12.537186007473021, \"precipitation\": 3.0957134444521195, \"condition\": \"drizzle\"}, {\"temperature\": 36.29560583814439, \"wind\": 47.282861379528676, \"precipitation\": 50.72175472263106, \"condition\": \"fog\"}, {\"temperature\": 8.011942225789358, \"wind\": 80.64679426688298, \"precipitation\": 84.74031260132877, \"condition\": \"sun\"}, {\"temperature\": 32.64189921238727, \"wind\": 78.38867921926278, \"precipitation\": 94.27015659699374, \"condition\": \"fog\"}, {\"temperature\": -4.159829210634211, \"wind\": 53.39060475873939, \"precipitation\": 50.60795287404672, \"condition\": \"fog\"}, {\"temperature\": -6.602296737522483, \"wind\": 86.55899134629715, \"precipitation\": 62.64697378600636, \"condition\": \"fog\"}, {\"temperature\": 40.135239145180655, \"wind\": 16.633704419495032, \"precipitation\": 41.391087682479736, \"condition\": \"drizzle\"}, {\"temperature\": 26.95881305440288, \"wind\": 85.8809786017975, \"precipitation\": 71.9617762842435, \"condition\": \"drizzle\"}, {\"temperature\": 11.92991543604046, \"wind\": 76.39140196294017, \"precipitation\": 60.40612399492309, \"condition\": \"drizzle\"}, {\"temperature\": 19.566301202766702, \"wind\": 72.97802286558691, \"precipitation\": 29.681848692175006, \"condition\": \"drizzle\"}, {\"temperature\": 10.481864045771506, \"wind\": 10.269367839292642, \"precipitation\": 85.87287289024248, \"condition\": \"rain\"}, {\"temperature\": -9.620152753805623, \"wind\": 64.57630699894213, \"precipitation\": 29.06583641537993, \"condition\": \"drizzle\"}, {\"temperature\": 24.85823346816882, \"wind\": 64.44200648973889, \"precipitation\": 32.79358601401415, \"condition\": \"sun\"}, {\"temperature\": -9.71401231081625, \"wind\": 46.94482107365025, \"precipitation\": 71.95828763550503, \"condition\": \"rain\"}, {\"temperature\": 15.802582568794556, \"wind\": 5.568264782160037, \"precipitation\": 16.50277435360922, \"condition\": \"sun\"}, {\"temperature\": 29.44740698845427, \"wind\": 66.4224540835048, \"precipitation\": 96.91347272575433, \"condition\": \"snow\"}, {\"temperature\": 0.1789559651072139, \"wind\": 37.144396583281235, \"precipitation\": 7.3927878065009445, \"condition\": \"snow\"}, {\"temperature\": 37.90262114384076, \"wind\": 23.744567572534315, \"precipitation\": 85.44013318397162, \"condition\": \"fog\"}, {\"temperature\": 40.40503203411964, \"wind\": 71.68155336881077, \"precipitation\": 91.260802513042, \"condition\": \"snow\"}, {\"temperature\": 2.723433474361908, \"wind\": 5.85694236985378, \"precipitation\": 54.0295184169758, \"condition\": \"drizzle\"}, {\"temperature\": 9.452609321039336, \"wind\": 52.7843932253772, \"precipitation\": 90.04450333194686, \"condition\": \"fog\"}, {\"temperature\": 18.909153974667404, \"wind\": 13.725377509230263, \"precipitation\": 34.56974350594094, \"condition\": \"sun\"}]}}, {\"mode\": \"vega-lite\"});\n",
       "</script>"
      ],
      "text/plain": [
       "alt.Chart(...)"
      ]
     },
     "metadata": {},
     "output_type": "display_data"
    }
   ],
   "source": [
    "base = alt.Chart(df)\n",
    "point = base.mark_point().encode(\n",
    "    x=alt.X(field=\"temperature\", type=\"quantitative\", scale=alt.Scale(type=\"linear\")),\n",
    "    y=alt.Y(field=\"wind\", type=\"quantitative\", scale=alt.Scale(type=\"linear\")),\n",
    ")\n",
    "display_chart(point)"
   ]
  },
  {
   "cell_type": "markdown",
   "metadata": {},
   "source": [
    "### Scatterplot with Color"
   ]
  },
  {
   "cell_type": "code",
   "execution_count": 20,
   "metadata": {},
   "outputs": [
    {
     "name": "stdout",
     "output_type": "stream",
     "text": [
      "{'field': [{'name': 'temperature', 'type': 'number'},\n",
      "           {'name': 'wind', 'type': 'number'},\n",
      "           {'name': 'condition', 'type': 'string'}],\n",
      " 'number_rows': 100,\n",
      " 'view': [{'mark': [{'encoding': [{'channel': 'x', 'field': 'temperature'},\n",
      "                                  {'channel': 'y', 'field': 'wind'},\n",
      "                                  {'channel': 'color', 'field': 'condition'}],\n",
      "                     'type': 'point'}],\n",
      "           'scale': [{'channel': 'x', 'type': 'linear'},\n",
      "                     {'channel': 'y', 'type': 'linear'},\n",
      "                     {'channel': 'color', 'type': 'categorical'}]}]}\n"
     ]
    }
   ],
   "source": [
    "facts = [\n",
    "    \"attribute(number_rows,root,100).\",\n",
    "    \"entity(field,root,temperature).\",\n",
    "    \"attribute((field,name),temperature,temperature).\",\n",
    "    \"attribute((field,type),temperature,number).\",\n",
    "    \"entity(field,root,wind).\",\n",
    "    \"attribute((field,name),wind,wind).\",\n",
    "    \"attribute((field,type),wind,number).\",\n",
    "    \"entity(field,root,condition).\",\n",
    "    \"attribute((field,name),condition,condition).\",\n",
    "    \"attribute((field,type),condition,string).\",\n",
    "    \"entity(view,root,0).\",\n",
    "    \"entity(mark,0,1).\",\n",
    "    \"attribute((mark,type),1,point).\",\n",
    "    \"entity(encoding,1,2).\",\n",
    "    \"attribute((encoding,channel),2,x).\",\n",
    "    \"attribute((encoding,field),2,temperature).\",\n",
    "    \"entity(encoding,1,3).\",\n",
    "    \"attribute((encoding,channel),3,y).\",\n",
    "    \"attribute((encoding,field),3,wind).\",\n",
    "    \"entity(encoding,1,4).\",\n",
    "    \"attribute((encoding,channel),4,color).\",\n",
    "    \"attribute((encoding,field),4,condition).\",\n",
    "    \"entity(scale,0,5).\",\n",
    "    \"attribute((scale,channel),5,x).\",\n",
    "    \"attribute((scale,type),5,linear).\",\n",
    "    \"entity(scale,0,6).\",\n",
    "    \"attribute((scale,channel),6,y).\",\n",
    "    \"attribute((scale,type),6,linear).\",\n",
    "    \"entity(scale,0,7).\",\n",
    "    \"attribute((scale,channel),7,color).\",\n",
    "    \"attribute((scale,type),7,categorical).\",\n",
    "]\n",
    "spec = facts_to_dict(facts)\n",
    "pprint(spec)"
   ]
  },
  {
   "cell_type": "code",
   "execution_count": 21,
   "metadata": {},
   "outputs": [
    {
     "name": "stdout",
     "output_type": "stream",
     "text": [
      "{'$schema': 'https://vega.github.io/schema/vega-lite/v4.17.0.json',\n",
      " 'config': {'view': {'continuousHeight': 300, 'continuousWidth': 400}},\n",
      " 'encoding': {'color': {'field': 'condition',\n",
      "                        'scale': {'type': 'ordinal'},\n",
      "                        'type': 'nominal'},\n",
      "              'x': {'field': 'temperature',\n",
      "                    'scale': {'type': 'linear'},\n",
      "                    'type': 'quantitative'},\n",
      "              'y': {'field': 'wind',\n",
      "                    'scale': {'type': 'linear'},\n",
      "                    'type': 'quantitative'}},\n",
      " 'mark': 'point'}\n"
     ]
    },
    {
     "data": {
      "text/html": [
       "\n",
       "<div id=\"altair-viz-0315458b06324779bfca5bf02434d6d7\"></div>\n",
       "<script type=\"text/javascript\">\n",
       "  var VEGA_DEBUG = (typeof VEGA_DEBUG == \"undefined\") ? {} : VEGA_DEBUG;\n",
       "  (function(spec, embedOpt){\n",
       "    let outputDiv = document.currentScript.previousElementSibling;\n",
       "    if (outputDiv.id !== \"altair-viz-0315458b06324779bfca5bf02434d6d7\") {\n",
       "      outputDiv = document.getElementById(\"altair-viz-0315458b06324779bfca5bf02434d6d7\");\n",
       "    }\n",
       "    const paths = {\n",
       "      \"vega\": \"https://cdn.jsdelivr.net/npm//vega@5?noext\",\n",
       "      \"vega-lib\": \"https://cdn.jsdelivr.net/npm//vega-lib?noext\",\n",
       "      \"vega-lite\": \"https://cdn.jsdelivr.net/npm//vega-lite@4.17.0?noext\",\n",
       "      \"vega-embed\": \"https://cdn.jsdelivr.net/npm//vega-embed@6?noext\",\n",
       "    };\n",
       "\n",
       "    function maybeLoadScript(lib, version) {\n",
       "      var key = `${lib.replace(\"-\", \"\")}_version`;\n",
       "      return (VEGA_DEBUG[key] == version) ?\n",
       "        Promise.resolve(paths[lib]) :\n",
       "        new Promise(function(resolve, reject) {\n",
       "          var s = document.createElement('script');\n",
       "          document.getElementsByTagName(\"head\")[0].appendChild(s);\n",
       "          s.async = true;\n",
       "          s.onload = () => {\n",
       "            VEGA_DEBUG[key] = version;\n",
       "            return resolve(paths[lib]);\n",
       "          };\n",
       "          s.onerror = () => reject(`Error loading script: ${paths[lib]}`);\n",
       "          s.src = paths[lib];\n",
       "        });\n",
       "    }\n",
       "\n",
       "    function showError(err) {\n",
       "      outputDiv.innerHTML = `<div class=\"error\" style=\"color:red;\">${err}</div>`;\n",
       "      throw err;\n",
       "    }\n",
       "\n",
       "    function displayChart(vegaEmbed) {\n",
       "      vegaEmbed(outputDiv, spec, embedOpt)\n",
       "        .catch(err => showError(`Javascript Error: ${err.message}<br>This usually means there's a typo in your chart specification. See the javascript console for the full traceback.`));\n",
       "    }\n",
       "\n",
       "    if(typeof define === \"function\" && define.amd) {\n",
       "      requirejs.config({paths});\n",
       "      require([\"vega-embed\"], displayChart, err => showError(`Error loading script: ${err.message}`));\n",
       "    } else {\n",
       "      maybeLoadScript(\"vega\", \"5\")\n",
       "        .then(() => maybeLoadScript(\"vega-lite\", \"4.17.0\"))\n",
       "        .then(() => maybeLoadScript(\"vega-embed\", \"6\"))\n",
       "        .catch(showError)\n",
       "        .then(() => displayChart(vegaEmbed));\n",
       "    }\n",
       "  })({\"config\": {\"view\": {\"continuousWidth\": 400, \"continuousHeight\": 300}}, \"data\": {\"name\": \"data-124c435c1b687eb7890344117a1c86b4\"}, \"mark\": \"point\", \"encoding\": {\"color\": {\"field\": \"condition\", \"scale\": {\"type\": \"ordinal\"}, \"type\": \"nominal\"}, \"x\": {\"field\": \"temperature\", \"scale\": {\"type\": \"linear\"}, \"type\": \"quantitative\"}, \"y\": {\"field\": \"wind\", \"scale\": {\"type\": \"linear\"}, \"type\": \"quantitative\"}}, \"$schema\": \"https://vega.github.io/schema/vega-lite/v4.17.0.json\", \"datasets\": {\"data-124c435c1b687eb7890344117a1c86b4\": [{\"temperature\": 17.89365303788651, \"wind\": 78.75685633883592, \"precipitation\": 41.61124606702779, \"condition\": \"rain\"}, {\"temperature\": 5.622818441769336, \"wind\": 25.421998841055917, \"precipitation\": 74.90555083684964, \"condition\": \"rain\"}, {\"temperature\": 23.3902094090436, \"wind\": 9.846103163487696, \"precipitation\": 81.33536438710783, \"condition\": \"rain\"}, {\"temperature\": 20.889554427248395, \"wind\": 27.53521295661492, \"precipitation\": 27.6549324712597, \"condition\": \"drizzle\"}, {\"temperature\": 33.91026207788065, \"wind\": 97.91032820138525, \"precipitation\": 36.53494267552425, \"condition\": \"snow\"}, {\"temperature\": 39.65611406756084, \"wind\": 24.27383951799732, \"precipitation\": 33.38647147375286, \"condition\": \"rain\"}, {\"temperature\": 5.670659801967243, \"wind\": 98.20197823012846, \"precipitation\": 93.72832557739356, \"condition\": \"snow\"}, {\"temperature\": -2.2776070811204505, \"wind\": 77.90443786588797, \"precipitation\": 50.102310147035375, \"condition\": \"drizzle\"}, {\"temperature\": 43.104548648992775, \"wind\": 74.77698982401796, \"precipitation\": 89.95647852559429, \"condition\": \"sun\"}, {\"temperature\": 1.8049661385207525, \"wind\": 91.29152261118769, \"precipitation\": 29.77145087552332, \"condition\": \"fog\"}, {\"temperature\": 14.327115187571408, \"wind\": 45.054261048821296, \"precipitation\": 17.654846400296798, \"condition\": \"drizzle\"}, {\"temperature\": 25.44797791508993, \"wind\": 22.265267642454656, \"precipitation\": 60.37929677885421, \"condition\": \"drizzle\"}, {\"temperature\": 11.19016835531465, \"wind\": 77.30294308487814, \"precipitation\": 71.65443847888368, \"condition\": \"snow\"}, {\"temperature\": 22.948827407585433, \"wind\": 27.03785915458824, \"precipitation\": 92.68901140573688, \"condition\": \"snow\"}, {\"temperature\": 33.16555388154543, \"wind\": 92.1292103045794, \"precipitation\": 39.10838647644195, \"condition\": \"snow\"}, {\"temperature\": 9.981393546660723, \"wind\": 66.73004528306666, \"precipitation\": 19.36957583451713, \"condition\": \"drizzle\"}, {\"temperature\": 2.837559858993796, \"wind\": 18.62443662393004, \"precipitation\": 57.42273968155751, \"condition\": \"sun\"}, {\"temperature\": 39.14290590745285, \"wind\": 32.52859013259527, \"precipitation\": 88.21897530715309, \"condition\": \"rain\"}, {\"temperature\": 39.2325438266719, \"wind\": 2.511353474345024, \"precipitation\": 78.95158173752907, \"condition\": \"fog\"}, {\"temperature\": 2.949456835649645, \"wind\": 1.9370157264502197, \"precipitation\": 3.5337114891518584, \"condition\": \"fog\"}, {\"temperature\": 28.422917308067277, \"wind\": 6.822434636914776, \"precipitation\": 84.5655158038795, \"condition\": \"fog\"}, {\"temperature\": 28.406344711783838, \"wind\": 95.25216996998444, \"precipitation\": 2.312429289727791, \"condition\": \"fog\"}, {\"temperature\": 23.929825809705775, \"wind\": 28.441727967722407, \"precipitation\": 94.94371547195382, \"condition\": \"drizzle\"}, {\"temperature\": 25.144603850494207, \"wind\": 5.7248518372133965, \"precipitation\": 72.55961327284773, \"condition\": \"drizzle\"}, {\"temperature\": -3.1069016270510676, \"wind\": 90.56068308052812, \"precipitation\": 8.208347981870512, \"condition\": \"rain\"}, {\"temperature\": 43.07443333444708, \"wind\": 63.33777651825151, \"precipitation\": 35.343598004733714, \"condition\": \"sun\"}, {\"temperature\": -8.715631484900875, \"wind\": 78.50049089036061, \"precipitation\": 16.726772866900042, \"condition\": \"fog\"}, {\"temperature\": 10.058625587365142, \"wind\": 82.55410159133031, \"precipitation\": 49.82193593499935, \"condition\": \"fog\"}, {\"temperature\": 27.912341883718938, \"wind\": 45.94389098129158, \"precipitation\": 87.71806691348185, \"condition\": \"sun\"}, {\"temperature\": 28.827008981675903, \"wind\": 14.352645600160752, \"precipitation\": 95.30777240838884, \"condition\": \"sun\"}, {\"temperature\": -5.245472855196331, \"wind\": 24.463633090927274, \"precipitation\": 63.1630488725617, \"condition\": \"fog\"}, {\"temperature\": -4.738627417736829, \"wind\": 87.61779675788263, \"precipitation\": 67.17488470646667, \"condition\": \"fog\"}, {\"temperature\": -1.6463371096382655, \"wind\": 34.15953757649686, \"precipitation\": 83.20021064524306, \"condition\": \"rain\"}, {\"temperature\": -8.671469939339552, \"wind\": 28.02148157701091, \"precipitation\": 8.858286414027772, \"condition\": \"snow\"}, {\"temperature\": 23.586980668182306, \"wind\": 32.61177727202879, \"precipitation\": 90.55384722692395, \"condition\": \"snow\"}, {\"temperature\": 42.93552301196303, \"wind\": 17.459007963452034, \"precipitation\": 76.26693620563219, \"condition\": \"sun\"}, {\"temperature\": 14.04271616398174, \"wind\": 31.44611970670743, \"precipitation\": 27.736449442339893, \"condition\": \"rain\"}, {\"temperature\": 33.93136729382773, \"wind\": 85.0980112392488, \"precipitation\": 48.72266227519502, \"condition\": \"fog\"}, {\"temperature\": 29.10713627050935, \"wind\": 25.401508775422734, \"precipitation\": 83.25120184383715, \"condition\": \"fog\"}, {\"temperature\": 23.33130010979005, \"wind\": 38.960479467358745, \"precipitation\": 84.8094568801428, \"condition\": \"rain\"}, {\"temperature\": 27.820447049966695, \"wind\": 97.47611794506456, \"precipitation\": 59.404606053602336, \"condition\": \"fog\"}, {\"temperature\": 24.704809156505995, \"wind\": 56.929461372432655, \"precipitation\": 16.583726619344496, \"condition\": \"drizzle\"}, {\"temperature\": 42.73839675123029, \"wind\": 19.024929246369528, \"precipitation\": 37.515692671204135, \"condition\": \"sun\"}, {\"temperature\": 39.73480992464111, \"wind\": 63.10268501376382, \"precipitation\": 15.20512544845365, \"condition\": \"fog\"}, {\"temperature\": 34.928857478491054, \"wind\": 44.34437827092474, \"precipitation\": 2.9919970218495684, \"condition\": \"sun\"}, {\"temperature\": 12.475457440238529, \"wind\": 45.63508245761745, \"precipitation\": 1.5684442569828705, \"condition\": \"fog\"}, {\"temperature\": 11.485742656702111, \"wind\": 35.43011450755876, \"precipitation\": 46.843314320146966, \"condition\": \"fog\"}, {\"temperature\": 16.58332024159822, \"wind\": 85.9387003246595, \"precipitation\": 67.67417859666371, \"condition\": \"sun\"}, {\"temperature\": 42.96961504747511, \"wind\": 61.02100908610409, \"precipitation\": 40.19537213295094, \"condition\": \"snow\"}, {\"temperature\": 43.01306682260888, \"wind\": 91.58796490357004, \"precipitation\": 10.242970289225461, \"condition\": \"sun\"}, {\"temperature\": 17.888206090116245, \"wind\": 29.82373325722851, \"precipitation\": 44.29455934969246, \"condition\": \"sun\"}, {\"temperature\": 13.700882757230424, \"wind\": 46.93705512034313, \"precipitation\": 76.07676796446637, \"condition\": \"rain\"}, {\"temperature\": 4.986331720563626, \"wind\": 81.90760931416689, \"precipitation\": 34.892239668746406, \"condition\": \"drizzle\"}, {\"temperature\": -1.4778346288931683, \"wind\": 3.9791854357363987, \"precipitation\": 7.535152538482148, \"condition\": \"drizzle\"}, {\"temperature\": 16.892161248783623, \"wind\": 31.993361074291926, \"precipitation\": 60.46401934620111, \"condition\": \"drizzle\"}, {\"temperature\": -7.17506030059671, \"wind\": 5.042336185555952, \"precipitation\": 88.35922403405787, \"condition\": \"drizzle\"}, {\"temperature\": 9.85908134441586, \"wind\": 48.491362316119236, \"precipitation\": 23.80248472573617, \"condition\": \"snow\"}, {\"temperature\": 28.54368725395195, \"wind\": 5.72748587709313, \"precipitation\": 25.974359374267742, \"condition\": \"drizzle\"}, {\"temperature\": 41.85044222939622, \"wind\": 3.311333417116047, \"precipitation\": 1.7918023488591839, \"condition\": \"snow\"}, {\"temperature\": 39.51847585775124, \"wind\": 89.64939452111453, \"precipitation\": 48.53950512768904, \"condition\": \"fog\"}, {\"temperature\": 4.1511791382858725, \"wind\": 58.14172937556887, \"precipitation\": 79.66452798481971, \"condition\": \"drizzle\"}, {\"temperature\": 7.316849144326355, \"wind\": 6.796864846855866, \"precipitation\": 33.619090549629306, \"condition\": \"snow\"}, {\"temperature\": -6.040726652488083, \"wind\": 24.37214720554359, \"precipitation\": 71.46568853073089, \"condition\": \"rain\"}, {\"temperature\": 28.05026452008928, \"wind\": 19.39989397387041, \"precipitation\": 71.68725771245654, \"condition\": \"drizzle\"}, {\"temperature\": 35.30623993317926, \"wind\": 66.54091843981752, \"precipitation\": 22.884049790672588, \"condition\": \"rain\"}, {\"temperature\": -9.078168118751755, \"wind\": 54.53321547753263, \"precipitation\": 66.43449936744369, \"condition\": \"sun\"}, {\"temperature\": 34.31111609068961, \"wind\": 92.79899053872957, \"precipitation\": 61.9431928594434, \"condition\": \"sun\"}, {\"temperature\": -0.5340863902706268, \"wind\": 89.18484464889846, \"precipitation\": 88.49655552922172, \"condition\": \"rain\"}, {\"temperature\": -7.331283732097262, \"wind\": 16.43300088620039, \"precipitation\": 92.15523633598885, \"condition\": \"drizzle\"}, {\"temperature\": 34.4512940591614, \"wind\": 16.982566694713043, \"precipitation\": 66.50391898652623, \"condition\": \"fog\"}, {\"temperature\": 2.292195972387347, \"wind\": 78.07758659490037, \"precipitation\": 85.08941323813521, \"condition\": \"snow\"}, {\"temperature\": 10.280188069701488, \"wind\": 64.37598506985243, \"precipitation\": 46.13428294966927, \"condition\": \"sun\"}, {\"temperature\": 14.385637791164196, \"wind\": 27.710246014732775, \"precipitation\": 82.18132103083111, \"condition\": \"rain\"}, {\"temperature\": 15.068929930658907, \"wind\": 90.37313777532859, \"precipitation\": 95.42688091272505, \"condition\": \"rain\"}, {\"temperature\": -5.931704200276687, \"wind\": 76.30697305192514, \"precipitation\": 48.17926018036856, \"condition\": \"drizzle\"}, {\"temperature\": -1.2238906425326128, \"wind\": 77.25655113115953, \"precipitation\": 12.189057445370022, \"condition\": \"sun\"}, {\"temperature\": 17.981273164150583, \"wind\": 99.8855194023956, \"precipitation\": 5.951490853046981, \"condition\": \"drizzle\"}, {\"temperature\": 8.333054222089164, \"wind\": 22.351144710727677, \"precipitation\": 1.9907985646430038, \"condition\": \"rain\"}, {\"temperature\": 40.99117292213711, \"wind\": 12.537186007473021, \"precipitation\": 3.0957134444521195, \"condition\": \"drizzle\"}, {\"temperature\": 36.29560583814439, \"wind\": 47.282861379528676, \"precipitation\": 50.72175472263106, \"condition\": \"fog\"}, {\"temperature\": 8.011942225789358, \"wind\": 80.64679426688298, \"precipitation\": 84.74031260132877, \"condition\": \"sun\"}, {\"temperature\": 32.64189921238727, \"wind\": 78.38867921926278, \"precipitation\": 94.27015659699374, \"condition\": \"fog\"}, {\"temperature\": -4.159829210634211, \"wind\": 53.39060475873939, \"precipitation\": 50.60795287404672, \"condition\": \"fog\"}, {\"temperature\": -6.602296737522483, \"wind\": 86.55899134629715, \"precipitation\": 62.64697378600636, \"condition\": \"fog\"}, {\"temperature\": 40.135239145180655, \"wind\": 16.633704419495032, \"precipitation\": 41.391087682479736, \"condition\": \"drizzle\"}, {\"temperature\": 26.95881305440288, \"wind\": 85.8809786017975, \"precipitation\": 71.9617762842435, \"condition\": \"drizzle\"}, {\"temperature\": 11.92991543604046, \"wind\": 76.39140196294017, \"precipitation\": 60.40612399492309, \"condition\": \"drizzle\"}, {\"temperature\": 19.566301202766702, \"wind\": 72.97802286558691, \"precipitation\": 29.681848692175006, \"condition\": \"drizzle\"}, {\"temperature\": 10.481864045771506, \"wind\": 10.269367839292642, \"precipitation\": 85.87287289024248, \"condition\": \"rain\"}, {\"temperature\": -9.620152753805623, \"wind\": 64.57630699894213, \"precipitation\": 29.06583641537993, \"condition\": \"drizzle\"}, {\"temperature\": 24.85823346816882, \"wind\": 64.44200648973889, \"precipitation\": 32.79358601401415, \"condition\": \"sun\"}, {\"temperature\": -9.71401231081625, \"wind\": 46.94482107365025, \"precipitation\": 71.95828763550503, \"condition\": \"rain\"}, {\"temperature\": 15.802582568794556, \"wind\": 5.568264782160037, \"precipitation\": 16.50277435360922, \"condition\": \"sun\"}, {\"temperature\": 29.44740698845427, \"wind\": 66.4224540835048, \"precipitation\": 96.91347272575433, \"condition\": \"snow\"}, {\"temperature\": 0.1789559651072139, \"wind\": 37.144396583281235, \"precipitation\": 7.3927878065009445, \"condition\": \"snow\"}, {\"temperature\": 37.90262114384076, \"wind\": 23.744567572534315, \"precipitation\": 85.44013318397162, \"condition\": \"fog\"}, {\"temperature\": 40.40503203411964, \"wind\": 71.68155336881077, \"precipitation\": 91.260802513042, \"condition\": \"snow\"}, {\"temperature\": 2.723433474361908, \"wind\": 5.85694236985378, \"precipitation\": 54.0295184169758, \"condition\": \"drizzle\"}, {\"temperature\": 9.452609321039336, \"wind\": 52.7843932253772, \"precipitation\": 90.04450333194686, \"condition\": \"fog\"}, {\"temperature\": 18.909153974667404, \"wind\": 13.725377509230263, \"precipitation\": 34.56974350594094, \"condition\": \"sun\"}]}}, {\"mode\": \"vega-lite\"});\n",
       "</script>"
      ],
      "text/plain": [
       "alt.Chart(...)"
      ]
     },
     "metadata": {},
     "output_type": "display_data"
    }
   ],
   "source": [
    "base = alt.Chart(df)\n",
    "point = base.mark_point().encode(\n",
    "    x=alt.X(field=\"temperature\", type=\"quantitative\", scale=alt.Scale(type=\"linear\")),\n",
    "    y=alt.Y(field=\"wind\", type=\"quantitative\", scale=alt.Scale(type=\"linear\")),\n",
    "    color=alt.Color(field=\"condition\", type=\"nominal\", scale=alt.Scale(type=\"ordinal\")),\n",
    ")\n",
    "display_chart(point)"
   ]
  },
  {
   "cell_type": "code",
   "execution_count": 22,
   "metadata": {},
   "outputs": [
    {
     "name": "stdout",
     "output_type": "stream",
     "text": [
      "{'field': [{'name': 'temperature', 'type': 'number'},\n",
      "           {'name': 'wind', 'type': 'number'},\n",
      "           {'name': 'precipitation', 'type': 'number'}],\n",
      " 'number_rows': 100,\n",
      " 'view': [{'mark': [{'encoding': [{'channel': 'x', 'field': 'temperature'},\n",
      "                                  {'channel': 'y', 'field': 'wind'},\n",
      "                                  {'channel': 'size',\n",
      "                                   'field': 'precipitation'}],\n",
      "                     'type': 'point'}],\n",
      "           'scale': [{'channel': 'x', 'type': 'linear'},\n",
      "                     {'channel': 'y', 'type': 'linear'},\n",
      "                     {'channel': 'size', 'type': 'linear'}]}]}\n"
     ]
    }
   ],
   "source": [
    "facts = [\n",
    "    \"attribute(number_rows,root,100).\",\n",
    "    \"entity(field,root,temperature).\",\n",
    "    \"attribute((field,name),temperature,temperature).\",\n",
    "    \"attribute((field,type),temperature,number).\",\n",
    "    \"entity(field,root,wind).\",\n",
    "    \"attribute((field,name),wind,wind).\",\n",
    "    \"attribute((field,type),wind,number).\",\n",
    "    \"entity(field,root,precipitation).\",\n",
    "    \"attribute((field,name),precipitation,precipitation).\",\n",
    "    \"attribute((field,type),precipitation,number).\",\n",
    "    \"entity(view,root,0).\",\n",
    "    \"entity(mark,0,1).\",\n",
    "    \"attribute((mark,type),1,point).\",\n",
    "    \"entity(encoding,1,2).\",\n",
    "    \"attribute((encoding,channel),2,x).\",\n",
    "    \"attribute((encoding,field),2,temperature).\",\n",
    "    \"entity(encoding,1,3).\",\n",
    "    \"attribute((encoding,channel),3,y).\",\n",
    "    \"attribute((encoding,field),3,wind).\",\n",
    "    \"entity(encoding,1,4).\",\n",
    "    \"attribute((encoding,channel),4,size).\",\n",
    "    \"attribute((encoding,field),4,precipitation).\",\n",
    "    \"entity(scale,0,5).\",\n",
    "    \"attribute((scale,channel),5,x).\",\n",
    "    \"attribute((scale,type),5,linear).\",\n",
    "    \"entity(scale,0,6).\",\n",
    "    \"attribute((scale,channel),6,y).\",\n",
    "    \"attribute((scale,type),6,linear).\",\n",
    "    \"entity(scale,0,7).\",\n",
    "    \"attribute((scale,channel),7,size).\",\n",
    "    \"attribute((scale,type),7,linear).\",\n",
    "]\n",
    "spec = facts_to_dict(facts)\n",
    "pprint(spec)"
   ]
  },
  {
   "cell_type": "markdown",
   "metadata": {},
   "source": [
    "### Bubble Chart"
   ]
  },
  {
   "cell_type": "code",
   "execution_count": 23,
   "metadata": {},
   "outputs": [
    {
     "name": "stdout",
     "output_type": "stream",
     "text": [
      "{'$schema': 'https://vega.github.io/schema/vega-lite/v4.17.0.json',\n",
      " 'config': {'view': {'continuousHeight': 300, 'continuousWidth': 400}},\n",
      " 'encoding': {'size': {'field': 'precipitation',\n",
      "                       'scale': {'type': 'linear'},\n",
      "                       'type': 'quantitative'},\n",
      "              'x': {'field': 'temperature',\n",
      "                    'scale': {'type': 'linear'},\n",
      "                    'type': 'quantitative'},\n",
      "              'y': {'field': 'wind',\n",
      "                    'scale': {'type': 'linear'},\n",
      "                    'type': 'quantitative'}},\n",
      " 'mark': 'point'}\n"
     ]
    },
    {
     "data": {
      "text/html": [
       "\n",
       "<div id=\"altair-viz-de5073febaf9418b85be790adfc43747\"></div>\n",
       "<script type=\"text/javascript\">\n",
       "  var VEGA_DEBUG = (typeof VEGA_DEBUG == \"undefined\") ? {} : VEGA_DEBUG;\n",
       "  (function(spec, embedOpt){\n",
       "    let outputDiv = document.currentScript.previousElementSibling;\n",
       "    if (outputDiv.id !== \"altair-viz-de5073febaf9418b85be790adfc43747\") {\n",
       "      outputDiv = document.getElementById(\"altair-viz-de5073febaf9418b85be790adfc43747\");\n",
       "    }\n",
       "    const paths = {\n",
       "      \"vega\": \"https://cdn.jsdelivr.net/npm//vega@5?noext\",\n",
       "      \"vega-lib\": \"https://cdn.jsdelivr.net/npm//vega-lib?noext\",\n",
       "      \"vega-lite\": \"https://cdn.jsdelivr.net/npm//vega-lite@4.17.0?noext\",\n",
       "      \"vega-embed\": \"https://cdn.jsdelivr.net/npm//vega-embed@6?noext\",\n",
       "    };\n",
       "\n",
       "    function maybeLoadScript(lib, version) {\n",
       "      var key = `${lib.replace(\"-\", \"\")}_version`;\n",
       "      return (VEGA_DEBUG[key] == version) ?\n",
       "        Promise.resolve(paths[lib]) :\n",
       "        new Promise(function(resolve, reject) {\n",
       "          var s = document.createElement('script');\n",
       "          document.getElementsByTagName(\"head\")[0].appendChild(s);\n",
       "          s.async = true;\n",
       "          s.onload = () => {\n",
       "            VEGA_DEBUG[key] = version;\n",
       "            return resolve(paths[lib]);\n",
       "          };\n",
       "          s.onerror = () => reject(`Error loading script: ${paths[lib]}`);\n",
       "          s.src = paths[lib];\n",
       "        });\n",
       "    }\n",
       "\n",
       "    function showError(err) {\n",
       "      outputDiv.innerHTML = `<div class=\"error\" style=\"color:red;\">${err}</div>`;\n",
       "      throw err;\n",
       "    }\n",
       "\n",
       "    function displayChart(vegaEmbed) {\n",
       "      vegaEmbed(outputDiv, spec, embedOpt)\n",
       "        .catch(err => showError(`Javascript Error: ${err.message}<br>This usually means there's a typo in your chart specification. See the javascript console for the full traceback.`));\n",
       "    }\n",
       "\n",
       "    if(typeof define === \"function\" && define.amd) {\n",
       "      requirejs.config({paths});\n",
       "      require([\"vega-embed\"], displayChart, err => showError(`Error loading script: ${err.message}`));\n",
       "    } else {\n",
       "      maybeLoadScript(\"vega\", \"5\")\n",
       "        .then(() => maybeLoadScript(\"vega-lite\", \"4.17.0\"))\n",
       "        .then(() => maybeLoadScript(\"vega-embed\", \"6\"))\n",
       "        .catch(showError)\n",
       "        .then(() => displayChart(vegaEmbed));\n",
       "    }\n",
       "  })({\"config\": {\"view\": {\"continuousWidth\": 400, \"continuousHeight\": 300}}, \"data\": {\"name\": \"data-124c435c1b687eb7890344117a1c86b4\"}, \"mark\": \"point\", \"encoding\": {\"size\": {\"field\": \"precipitation\", \"scale\": {\"type\": \"linear\"}, \"type\": \"quantitative\"}, \"x\": {\"field\": \"temperature\", \"scale\": {\"type\": \"linear\"}, \"type\": \"quantitative\"}, \"y\": {\"field\": \"wind\", \"scale\": {\"type\": \"linear\"}, \"type\": \"quantitative\"}}, \"$schema\": \"https://vega.github.io/schema/vega-lite/v4.17.0.json\", \"datasets\": {\"data-124c435c1b687eb7890344117a1c86b4\": [{\"temperature\": 17.89365303788651, \"wind\": 78.75685633883592, \"precipitation\": 41.61124606702779, \"condition\": \"rain\"}, {\"temperature\": 5.622818441769336, \"wind\": 25.421998841055917, \"precipitation\": 74.90555083684964, \"condition\": \"rain\"}, {\"temperature\": 23.3902094090436, \"wind\": 9.846103163487696, \"precipitation\": 81.33536438710783, \"condition\": \"rain\"}, {\"temperature\": 20.889554427248395, \"wind\": 27.53521295661492, \"precipitation\": 27.6549324712597, \"condition\": \"drizzle\"}, {\"temperature\": 33.91026207788065, \"wind\": 97.91032820138525, \"precipitation\": 36.53494267552425, \"condition\": \"snow\"}, {\"temperature\": 39.65611406756084, \"wind\": 24.27383951799732, \"precipitation\": 33.38647147375286, \"condition\": \"rain\"}, {\"temperature\": 5.670659801967243, \"wind\": 98.20197823012846, \"precipitation\": 93.72832557739356, \"condition\": \"snow\"}, {\"temperature\": -2.2776070811204505, \"wind\": 77.90443786588797, \"precipitation\": 50.102310147035375, \"condition\": \"drizzle\"}, {\"temperature\": 43.104548648992775, \"wind\": 74.77698982401796, \"precipitation\": 89.95647852559429, \"condition\": \"sun\"}, {\"temperature\": 1.8049661385207525, \"wind\": 91.29152261118769, \"precipitation\": 29.77145087552332, \"condition\": \"fog\"}, {\"temperature\": 14.327115187571408, \"wind\": 45.054261048821296, \"precipitation\": 17.654846400296798, \"condition\": \"drizzle\"}, {\"temperature\": 25.44797791508993, \"wind\": 22.265267642454656, \"precipitation\": 60.37929677885421, \"condition\": \"drizzle\"}, {\"temperature\": 11.19016835531465, \"wind\": 77.30294308487814, \"precipitation\": 71.65443847888368, \"condition\": \"snow\"}, {\"temperature\": 22.948827407585433, \"wind\": 27.03785915458824, \"precipitation\": 92.68901140573688, \"condition\": \"snow\"}, {\"temperature\": 33.16555388154543, \"wind\": 92.1292103045794, \"precipitation\": 39.10838647644195, \"condition\": \"snow\"}, {\"temperature\": 9.981393546660723, \"wind\": 66.73004528306666, \"precipitation\": 19.36957583451713, \"condition\": \"drizzle\"}, {\"temperature\": 2.837559858993796, \"wind\": 18.62443662393004, \"precipitation\": 57.42273968155751, \"condition\": \"sun\"}, {\"temperature\": 39.14290590745285, \"wind\": 32.52859013259527, \"precipitation\": 88.21897530715309, \"condition\": \"rain\"}, {\"temperature\": 39.2325438266719, \"wind\": 2.511353474345024, \"precipitation\": 78.95158173752907, \"condition\": \"fog\"}, {\"temperature\": 2.949456835649645, \"wind\": 1.9370157264502197, \"precipitation\": 3.5337114891518584, \"condition\": \"fog\"}, {\"temperature\": 28.422917308067277, \"wind\": 6.822434636914776, \"precipitation\": 84.5655158038795, \"condition\": \"fog\"}, {\"temperature\": 28.406344711783838, \"wind\": 95.25216996998444, \"precipitation\": 2.312429289727791, \"condition\": \"fog\"}, {\"temperature\": 23.929825809705775, \"wind\": 28.441727967722407, \"precipitation\": 94.94371547195382, \"condition\": \"drizzle\"}, {\"temperature\": 25.144603850494207, \"wind\": 5.7248518372133965, \"precipitation\": 72.55961327284773, \"condition\": \"drizzle\"}, {\"temperature\": -3.1069016270510676, \"wind\": 90.56068308052812, \"precipitation\": 8.208347981870512, \"condition\": \"rain\"}, {\"temperature\": 43.07443333444708, \"wind\": 63.33777651825151, \"precipitation\": 35.343598004733714, \"condition\": \"sun\"}, {\"temperature\": -8.715631484900875, \"wind\": 78.50049089036061, \"precipitation\": 16.726772866900042, \"condition\": \"fog\"}, {\"temperature\": 10.058625587365142, \"wind\": 82.55410159133031, \"precipitation\": 49.82193593499935, \"condition\": \"fog\"}, {\"temperature\": 27.912341883718938, \"wind\": 45.94389098129158, \"precipitation\": 87.71806691348185, \"condition\": \"sun\"}, {\"temperature\": 28.827008981675903, \"wind\": 14.352645600160752, \"precipitation\": 95.30777240838884, \"condition\": \"sun\"}, {\"temperature\": -5.245472855196331, \"wind\": 24.463633090927274, \"precipitation\": 63.1630488725617, \"condition\": \"fog\"}, {\"temperature\": -4.738627417736829, \"wind\": 87.61779675788263, \"precipitation\": 67.17488470646667, \"condition\": \"fog\"}, {\"temperature\": -1.6463371096382655, \"wind\": 34.15953757649686, \"precipitation\": 83.20021064524306, \"condition\": \"rain\"}, {\"temperature\": -8.671469939339552, \"wind\": 28.02148157701091, \"precipitation\": 8.858286414027772, \"condition\": \"snow\"}, {\"temperature\": 23.586980668182306, \"wind\": 32.61177727202879, \"precipitation\": 90.55384722692395, \"condition\": \"snow\"}, {\"temperature\": 42.93552301196303, \"wind\": 17.459007963452034, \"precipitation\": 76.26693620563219, \"condition\": \"sun\"}, {\"temperature\": 14.04271616398174, \"wind\": 31.44611970670743, \"precipitation\": 27.736449442339893, \"condition\": \"rain\"}, {\"temperature\": 33.93136729382773, \"wind\": 85.0980112392488, \"precipitation\": 48.72266227519502, \"condition\": \"fog\"}, {\"temperature\": 29.10713627050935, \"wind\": 25.401508775422734, \"precipitation\": 83.25120184383715, \"condition\": \"fog\"}, {\"temperature\": 23.33130010979005, \"wind\": 38.960479467358745, \"precipitation\": 84.8094568801428, \"condition\": \"rain\"}, {\"temperature\": 27.820447049966695, \"wind\": 97.47611794506456, \"precipitation\": 59.404606053602336, \"condition\": \"fog\"}, {\"temperature\": 24.704809156505995, \"wind\": 56.929461372432655, \"precipitation\": 16.583726619344496, \"condition\": \"drizzle\"}, {\"temperature\": 42.73839675123029, \"wind\": 19.024929246369528, \"precipitation\": 37.515692671204135, \"condition\": \"sun\"}, {\"temperature\": 39.73480992464111, \"wind\": 63.10268501376382, \"precipitation\": 15.20512544845365, \"condition\": \"fog\"}, {\"temperature\": 34.928857478491054, \"wind\": 44.34437827092474, \"precipitation\": 2.9919970218495684, \"condition\": \"sun\"}, {\"temperature\": 12.475457440238529, \"wind\": 45.63508245761745, \"precipitation\": 1.5684442569828705, \"condition\": \"fog\"}, {\"temperature\": 11.485742656702111, \"wind\": 35.43011450755876, \"precipitation\": 46.843314320146966, \"condition\": \"fog\"}, {\"temperature\": 16.58332024159822, \"wind\": 85.9387003246595, \"precipitation\": 67.67417859666371, \"condition\": \"sun\"}, {\"temperature\": 42.96961504747511, \"wind\": 61.02100908610409, \"precipitation\": 40.19537213295094, \"condition\": \"snow\"}, {\"temperature\": 43.01306682260888, \"wind\": 91.58796490357004, \"precipitation\": 10.242970289225461, \"condition\": \"sun\"}, {\"temperature\": 17.888206090116245, \"wind\": 29.82373325722851, \"precipitation\": 44.29455934969246, \"condition\": \"sun\"}, {\"temperature\": 13.700882757230424, \"wind\": 46.93705512034313, \"precipitation\": 76.07676796446637, \"condition\": \"rain\"}, {\"temperature\": 4.986331720563626, \"wind\": 81.90760931416689, \"precipitation\": 34.892239668746406, \"condition\": \"drizzle\"}, {\"temperature\": -1.4778346288931683, \"wind\": 3.9791854357363987, \"precipitation\": 7.535152538482148, \"condition\": \"drizzle\"}, {\"temperature\": 16.892161248783623, \"wind\": 31.993361074291926, \"precipitation\": 60.46401934620111, \"condition\": \"drizzle\"}, {\"temperature\": -7.17506030059671, \"wind\": 5.042336185555952, \"precipitation\": 88.35922403405787, \"condition\": \"drizzle\"}, {\"temperature\": 9.85908134441586, \"wind\": 48.491362316119236, \"precipitation\": 23.80248472573617, \"condition\": \"snow\"}, {\"temperature\": 28.54368725395195, \"wind\": 5.72748587709313, \"precipitation\": 25.974359374267742, \"condition\": \"drizzle\"}, {\"temperature\": 41.85044222939622, \"wind\": 3.311333417116047, \"precipitation\": 1.7918023488591839, \"condition\": \"snow\"}, {\"temperature\": 39.51847585775124, \"wind\": 89.64939452111453, \"precipitation\": 48.53950512768904, \"condition\": \"fog\"}, {\"temperature\": 4.1511791382858725, \"wind\": 58.14172937556887, \"precipitation\": 79.66452798481971, \"condition\": \"drizzle\"}, {\"temperature\": 7.316849144326355, \"wind\": 6.796864846855866, \"precipitation\": 33.619090549629306, \"condition\": \"snow\"}, {\"temperature\": -6.040726652488083, \"wind\": 24.37214720554359, \"precipitation\": 71.46568853073089, \"condition\": \"rain\"}, {\"temperature\": 28.05026452008928, \"wind\": 19.39989397387041, \"precipitation\": 71.68725771245654, \"condition\": \"drizzle\"}, {\"temperature\": 35.30623993317926, \"wind\": 66.54091843981752, \"precipitation\": 22.884049790672588, \"condition\": \"rain\"}, {\"temperature\": -9.078168118751755, \"wind\": 54.53321547753263, \"precipitation\": 66.43449936744369, \"condition\": \"sun\"}, {\"temperature\": 34.31111609068961, \"wind\": 92.79899053872957, \"precipitation\": 61.9431928594434, \"condition\": \"sun\"}, {\"temperature\": -0.5340863902706268, \"wind\": 89.18484464889846, \"precipitation\": 88.49655552922172, \"condition\": \"rain\"}, {\"temperature\": -7.331283732097262, \"wind\": 16.43300088620039, \"precipitation\": 92.15523633598885, \"condition\": \"drizzle\"}, {\"temperature\": 34.4512940591614, \"wind\": 16.982566694713043, \"precipitation\": 66.50391898652623, \"condition\": \"fog\"}, {\"temperature\": 2.292195972387347, \"wind\": 78.07758659490037, \"precipitation\": 85.08941323813521, \"condition\": \"snow\"}, {\"temperature\": 10.280188069701488, \"wind\": 64.37598506985243, \"precipitation\": 46.13428294966927, \"condition\": \"sun\"}, {\"temperature\": 14.385637791164196, \"wind\": 27.710246014732775, \"precipitation\": 82.18132103083111, \"condition\": \"rain\"}, {\"temperature\": 15.068929930658907, \"wind\": 90.37313777532859, \"precipitation\": 95.42688091272505, \"condition\": \"rain\"}, {\"temperature\": -5.931704200276687, \"wind\": 76.30697305192514, \"precipitation\": 48.17926018036856, \"condition\": \"drizzle\"}, {\"temperature\": -1.2238906425326128, \"wind\": 77.25655113115953, \"precipitation\": 12.189057445370022, \"condition\": \"sun\"}, {\"temperature\": 17.981273164150583, \"wind\": 99.8855194023956, \"precipitation\": 5.951490853046981, \"condition\": \"drizzle\"}, {\"temperature\": 8.333054222089164, \"wind\": 22.351144710727677, \"precipitation\": 1.9907985646430038, \"condition\": \"rain\"}, {\"temperature\": 40.99117292213711, \"wind\": 12.537186007473021, \"precipitation\": 3.0957134444521195, \"condition\": \"drizzle\"}, {\"temperature\": 36.29560583814439, \"wind\": 47.282861379528676, \"precipitation\": 50.72175472263106, \"condition\": \"fog\"}, {\"temperature\": 8.011942225789358, \"wind\": 80.64679426688298, \"precipitation\": 84.74031260132877, \"condition\": \"sun\"}, {\"temperature\": 32.64189921238727, \"wind\": 78.38867921926278, \"precipitation\": 94.27015659699374, \"condition\": \"fog\"}, {\"temperature\": -4.159829210634211, \"wind\": 53.39060475873939, \"precipitation\": 50.60795287404672, \"condition\": \"fog\"}, {\"temperature\": -6.602296737522483, \"wind\": 86.55899134629715, \"precipitation\": 62.64697378600636, \"condition\": \"fog\"}, {\"temperature\": 40.135239145180655, \"wind\": 16.633704419495032, \"precipitation\": 41.391087682479736, \"condition\": \"drizzle\"}, {\"temperature\": 26.95881305440288, \"wind\": 85.8809786017975, \"precipitation\": 71.9617762842435, \"condition\": \"drizzle\"}, {\"temperature\": 11.92991543604046, \"wind\": 76.39140196294017, \"precipitation\": 60.40612399492309, \"condition\": \"drizzle\"}, {\"temperature\": 19.566301202766702, \"wind\": 72.97802286558691, \"precipitation\": 29.681848692175006, \"condition\": \"drizzle\"}, {\"temperature\": 10.481864045771506, \"wind\": 10.269367839292642, \"precipitation\": 85.87287289024248, \"condition\": \"rain\"}, {\"temperature\": -9.620152753805623, \"wind\": 64.57630699894213, \"precipitation\": 29.06583641537993, \"condition\": \"drizzle\"}, {\"temperature\": 24.85823346816882, \"wind\": 64.44200648973889, \"precipitation\": 32.79358601401415, \"condition\": \"sun\"}, {\"temperature\": -9.71401231081625, \"wind\": 46.94482107365025, \"precipitation\": 71.95828763550503, \"condition\": \"rain\"}, {\"temperature\": 15.802582568794556, \"wind\": 5.568264782160037, \"precipitation\": 16.50277435360922, \"condition\": \"sun\"}, {\"temperature\": 29.44740698845427, \"wind\": 66.4224540835048, \"precipitation\": 96.91347272575433, \"condition\": \"snow\"}, {\"temperature\": 0.1789559651072139, \"wind\": 37.144396583281235, \"precipitation\": 7.3927878065009445, \"condition\": \"snow\"}, {\"temperature\": 37.90262114384076, \"wind\": 23.744567572534315, \"precipitation\": 85.44013318397162, \"condition\": \"fog\"}, {\"temperature\": 40.40503203411964, \"wind\": 71.68155336881077, \"precipitation\": 91.260802513042, \"condition\": \"snow\"}, {\"temperature\": 2.723433474361908, \"wind\": 5.85694236985378, \"precipitation\": 54.0295184169758, \"condition\": \"drizzle\"}, {\"temperature\": 9.452609321039336, \"wind\": 52.7843932253772, \"precipitation\": 90.04450333194686, \"condition\": \"fog\"}, {\"temperature\": 18.909153974667404, \"wind\": 13.725377509230263, \"precipitation\": 34.56974350594094, \"condition\": \"sun\"}]}}, {\"mode\": \"vega-lite\"});\n",
       "</script>"
      ],
      "text/plain": [
       "alt.Chart(...)"
      ]
     },
     "metadata": {},
     "output_type": "display_data"
    }
   ],
   "source": [
    "base = alt.Chart(df)\n",
    "point = base.mark_point().encode(\n",
    "    x=alt.X(field=\"temperature\", type=\"quantitative\", scale=alt.Scale(type=\"linear\")),\n",
    "    y=alt.Y(field=\"wind\", type=\"quantitative\", scale=alt.Scale(type=\"linear\")),\n",
    "    size=alt.Size(\n",
    "        field=\"precipitation\", type=\"quantitative\", scale=alt.Scale(type=\"linear\")\n",
    "    ),\n",
    ")\n",
    "display_chart(point)"
   ]
  },
  {
   "cell_type": "markdown",
   "metadata": {},
   "source": [
    "## Stacked Charts"
   ]
  },
  {
   "cell_type": "markdown",
   "metadata": {},
   "source": [
    "### Pie Chart"
   ]
  },
  {
   "cell_type": "code",
   "execution_count": 24,
   "metadata": {},
   "outputs": [
    {
     "name": "stdout",
     "output_type": "stream",
     "text": [
      "{'field': [{'name': 'temperature', 'type': 'number'},\n",
      "           {'name': 'condition', 'type': 'string'}],\n",
      " 'number_rows': 100,\n",
      " 'view': [{'coordinates': 'polar',\n",
      "           'mark': [{'encoding': [{'aggregate': 'count',\n",
      "                                   'channel': 'y',\n",
      "                                   'stack': 'zero'},\n",
      "                                  {'channel': 'color', 'field': 'condition'}],\n",
      "                     'type': 'bar'}],\n",
      "           'scale': [{'channel': 'y', 'type': 'linear', 'zero': 'true'},\n",
      "                     {'channel': 'color', 'type': 'categorical'}]}]}\n"
     ]
    }
   ],
   "source": [
    "facts = [\n",
    "    \"attribute(number_rows,root,100).\",\n",
    "    \"entity(field,root,temperature).\",\n",
    "    \"attribute((field,name),temperature,temperature).\",\n",
    "    \"attribute((field,type),temperature,number).\",\n",
    "    \"entity(field,root,condition).\",\n",
    "    \"attribute((field,name),condition,condition).\",\n",
    "    \"attribute((field,type),condition,string).\",\n",
    "    \"entity(view,root,0).\",\n",
    "    \"attribute((view,coordinates),0,polar).\",\n",
    "    \"entity(mark,0,1).\",\n",
    "    \"attribute((mark,type),1,bar).\",\n",
    "    \"entity(encoding,1,2).\",\n",
    "    \"attribute((encoding,channel),2,y).\",\n",
    "    \"attribute((encoding,aggregate),2,count).\",\n",
    "    \"attribute((encoding,stack),2,zero).\",\n",
    "    \"entity(encoding,1,3).\",\n",
    "    \"attribute((encoding,channel),3,color).\",\n",
    "    \"attribute((encoding,field),3,condition).\",\n",
    "    \"entity(scale,0,4).\",\n",
    "    \"attribute((scale,channel),4,y).\",\n",
    "    \"attribute((scale,type),4,linear).\",\n",
    "    \"attribute((scale,zero),4,true).\",\n",
    "    \"entity(scale,0,5).\",\n",
    "    \"attribute((scale,channel),5,color).\",\n",
    "    \"attribute((scale,type),5,categorical).\",\n",
    "]\n",
    "spec = facts_to_dict(facts)\n",
    "pprint(spec)"
   ]
  },
  {
   "cell_type": "code",
   "execution_count": 25,
   "metadata": {},
   "outputs": [
    {
     "name": "stdout",
     "output_type": "stream",
     "text": [
      "{'$schema': 'https://vega.github.io/schema/vega-lite/v4.17.0.json',\n",
      " 'config': {'view': {'continuousHeight': 300, 'continuousWidth': 400}},\n",
      " 'encoding': {'color': {'field': 'condition',\n",
      "                        'scale': {'type': 'ordinal'},\n",
      "                        'type': 'nominal'},\n",
      "              'theta': {'aggregate': 'count',\n",
      "                        'field': 'temperature',\n",
      "                        'scale': {'type': 'linear', 'zero': True},\n",
      "                        'stack': 'zero',\n",
      "                        'type': 'quantitative'}},\n",
      " 'mark': 'arc'}\n"
     ]
    },
    {
     "data": {
      "text/html": [
       "\n",
       "<div id=\"altair-viz-9484947c91d946a78fb71ea822f817da\"></div>\n",
       "<script type=\"text/javascript\">\n",
       "  var VEGA_DEBUG = (typeof VEGA_DEBUG == \"undefined\") ? {} : VEGA_DEBUG;\n",
       "  (function(spec, embedOpt){\n",
       "    let outputDiv = document.currentScript.previousElementSibling;\n",
       "    if (outputDiv.id !== \"altair-viz-9484947c91d946a78fb71ea822f817da\") {\n",
       "      outputDiv = document.getElementById(\"altair-viz-9484947c91d946a78fb71ea822f817da\");\n",
       "    }\n",
       "    const paths = {\n",
       "      \"vega\": \"https://cdn.jsdelivr.net/npm//vega@5?noext\",\n",
       "      \"vega-lib\": \"https://cdn.jsdelivr.net/npm//vega-lib?noext\",\n",
       "      \"vega-lite\": \"https://cdn.jsdelivr.net/npm//vega-lite@4.17.0?noext\",\n",
       "      \"vega-embed\": \"https://cdn.jsdelivr.net/npm//vega-embed@6?noext\",\n",
       "    };\n",
       "\n",
       "    function maybeLoadScript(lib, version) {\n",
       "      var key = `${lib.replace(\"-\", \"\")}_version`;\n",
       "      return (VEGA_DEBUG[key] == version) ?\n",
       "        Promise.resolve(paths[lib]) :\n",
       "        new Promise(function(resolve, reject) {\n",
       "          var s = document.createElement('script');\n",
       "          document.getElementsByTagName(\"head\")[0].appendChild(s);\n",
       "          s.async = true;\n",
       "          s.onload = () => {\n",
       "            VEGA_DEBUG[key] = version;\n",
       "            return resolve(paths[lib]);\n",
       "          };\n",
       "          s.onerror = () => reject(`Error loading script: ${paths[lib]}`);\n",
       "          s.src = paths[lib];\n",
       "        });\n",
       "    }\n",
       "\n",
       "    function showError(err) {\n",
       "      outputDiv.innerHTML = `<div class=\"error\" style=\"color:red;\">${err}</div>`;\n",
       "      throw err;\n",
       "    }\n",
       "\n",
       "    function displayChart(vegaEmbed) {\n",
       "      vegaEmbed(outputDiv, spec, embedOpt)\n",
       "        .catch(err => showError(`Javascript Error: ${err.message}<br>This usually means there's a typo in your chart specification. See the javascript console for the full traceback.`));\n",
       "    }\n",
       "\n",
       "    if(typeof define === \"function\" && define.amd) {\n",
       "      requirejs.config({paths});\n",
       "      require([\"vega-embed\"], displayChart, err => showError(`Error loading script: ${err.message}`));\n",
       "    } else {\n",
       "      maybeLoadScript(\"vega\", \"5\")\n",
       "        .then(() => maybeLoadScript(\"vega-lite\", \"4.17.0\"))\n",
       "        .then(() => maybeLoadScript(\"vega-embed\", \"6\"))\n",
       "        .catch(showError)\n",
       "        .then(() => displayChart(vegaEmbed));\n",
       "    }\n",
       "  })({\"config\": {\"view\": {\"continuousWidth\": 400, \"continuousHeight\": 300}}, \"data\": {\"name\": \"data-124c435c1b687eb7890344117a1c86b4\"}, \"mark\": \"arc\", \"encoding\": {\"color\": {\"field\": \"condition\", \"scale\": {\"type\": \"ordinal\"}, \"type\": \"nominal\"}, \"theta\": {\"aggregate\": \"count\", \"field\": \"temperature\", \"scale\": {\"type\": \"linear\", \"zero\": true}, \"stack\": \"zero\", \"type\": \"quantitative\"}}, \"$schema\": \"https://vega.github.io/schema/vega-lite/v4.17.0.json\", \"datasets\": {\"data-124c435c1b687eb7890344117a1c86b4\": [{\"temperature\": 17.89365303788651, \"wind\": 78.75685633883592, \"precipitation\": 41.61124606702779, \"condition\": \"rain\"}, {\"temperature\": 5.622818441769336, \"wind\": 25.421998841055917, \"precipitation\": 74.90555083684964, \"condition\": \"rain\"}, {\"temperature\": 23.3902094090436, \"wind\": 9.846103163487696, \"precipitation\": 81.33536438710783, \"condition\": \"rain\"}, {\"temperature\": 20.889554427248395, \"wind\": 27.53521295661492, \"precipitation\": 27.6549324712597, \"condition\": \"drizzle\"}, {\"temperature\": 33.91026207788065, \"wind\": 97.91032820138525, \"precipitation\": 36.53494267552425, \"condition\": \"snow\"}, {\"temperature\": 39.65611406756084, \"wind\": 24.27383951799732, \"precipitation\": 33.38647147375286, \"condition\": \"rain\"}, {\"temperature\": 5.670659801967243, \"wind\": 98.20197823012846, \"precipitation\": 93.72832557739356, \"condition\": \"snow\"}, {\"temperature\": -2.2776070811204505, \"wind\": 77.90443786588797, \"precipitation\": 50.102310147035375, \"condition\": \"drizzle\"}, {\"temperature\": 43.104548648992775, \"wind\": 74.77698982401796, \"precipitation\": 89.95647852559429, \"condition\": \"sun\"}, {\"temperature\": 1.8049661385207525, \"wind\": 91.29152261118769, \"precipitation\": 29.77145087552332, \"condition\": \"fog\"}, {\"temperature\": 14.327115187571408, \"wind\": 45.054261048821296, \"precipitation\": 17.654846400296798, \"condition\": \"drizzle\"}, {\"temperature\": 25.44797791508993, \"wind\": 22.265267642454656, \"precipitation\": 60.37929677885421, \"condition\": \"drizzle\"}, {\"temperature\": 11.19016835531465, \"wind\": 77.30294308487814, \"precipitation\": 71.65443847888368, \"condition\": \"snow\"}, {\"temperature\": 22.948827407585433, \"wind\": 27.03785915458824, \"precipitation\": 92.68901140573688, \"condition\": \"snow\"}, {\"temperature\": 33.16555388154543, \"wind\": 92.1292103045794, \"precipitation\": 39.10838647644195, \"condition\": \"snow\"}, {\"temperature\": 9.981393546660723, \"wind\": 66.73004528306666, \"precipitation\": 19.36957583451713, \"condition\": \"drizzle\"}, {\"temperature\": 2.837559858993796, \"wind\": 18.62443662393004, \"precipitation\": 57.42273968155751, \"condition\": \"sun\"}, {\"temperature\": 39.14290590745285, \"wind\": 32.52859013259527, \"precipitation\": 88.21897530715309, \"condition\": \"rain\"}, {\"temperature\": 39.2325438266719, \"wind\": 2.511353474345024, \"precipitation\": 78.95158173752907, \"condition\": \"fog\"}, {\"temperature\": 2.949456835649645, \"wind\": 1.9370157264502197, \"precipitation\": 3.5337114891518584, \"condition\": \"fog\"}, {\"temperature\": 28.422917308067277, \"wind\": 6.822434636914776, \"precipitation\": 84.5655158038795, \"condition\": \"fog\"}, {\"temperature\": 28.406344711783838, \"wind\": 95.25216996998444, \"precipitation\": 2.312429289727791, \"condition\": \"fog\"}, {\"temperature\": 23.929825809705775, \"wind\": 28.441727967722407, \"precipitation\": 94.94371547195382, \"condition\": \"drizzle\"}, {\"temperature\": 25.144603850494207, \"wind\": 5.7248518372133965, \"precipitation\": 72.55961327284773, \"condition\": \"drizzle\"}, {\"temperature\": -3.1069016270510676, \"wind\": 90.56068308052812, \"precipitation\": 8.208347981870512, \"condition\": \"rain\"}, {\"temperature\": 43.07443333444708, \"wind\": 63.33777651825151, \"precipitation\": 35.343598004733714, \"condition\": \"sun\"}, {\"temperature\": -8.715631484900875, \"wind\": 78.50049089036061, \"precipitation\": 16.726772866900042, \"condition\": \"fog\"}, {\"temperature\": 10.058625587365142, \"wind\": 82.55410159133031, \"precipitation\": 49.82193593499935, \"condition\": \"fog\"}, {\"temperature\": 27.912341883718938, \"wind\": 45.94389098129158, \"precipitation\": 87.71806691348185, \"condition\": \"sun\"}, {\"temperature\": 28.827008981675903, \"wind\": 14.352645600160752, \"precipitation\": 95.30777240838884, \"condition\": \"sun\"}, {\"temperature\": -5.245472855196331, \"wind\": 24.463633090927274, \"precipitation\": 63.1630488725617, \"condition\": \"fog\"}, {\"temperature\": -4.738627417736829, \"wind\": 87.61779675788263, \"precipitation\": 67.17488470646667, \"condition\": \"fog\"}, {\"temperature\": -1.6463371096382655, \"wind\": 34.15953757649686, \"precipitation\": 83.20021064524306, \"condition\": \"rain\"}, {\"temperature\": -8.671469939339552, \"wind\": 28.02148157701091, \"precipitation\": 8.858286414027772, \"condition\": \"snow\"}, {\"temperature\": 23.586980668182306, \"wind\": 32.61177727202879, \"precipitation\": 90.55384722692395, \"condition\": \"snow\"}, {\"temperature\": 42.93552301196303, \"wind\": 17.459007963452034, \"precipitation\": 76.26693620563219, \"condition\": \"sun\"}, {\"temperature\": 14.04271616398174, \"wind\": 31.44611970670743, \"precipitation\": 27.736449442339893, \"condition\": \"rain\"}, {\"temperature\": 33.93136729382773, \"wind\": 85.0980112392488, \"precipitation\": 48.72266227519502, \"condition\": \"fog\"}, {\"temperature\": 29.10713627050935, \"wind\": 25.401508775422734, \"precipitation\": 83.25120184383715, \"condition\": \"fog\"}, {\"temperature\": 23.33130010979005, \"wind\": 38.960479467358745, \"precipitation\": 84.8094568801428, \"condition\": \"rain\"}, {\"temperature\": 27.820447049966695, \"wind\": 97.47611794506456, \"precipitation\": 59.404606053602336, \"condition\": \"fog\"}, {\"temperature\": 24.704809156505995, \"wind\": 56.929461372432655, \"precipitation\": 16.583726619344496, \"condition\": \"drizzle\"}, {\"temperature\": 42.73839675123029, \"wind\": 19.024929246369528, \"precipitation\": 37.515692671204135, \"condition\": \"sun\"}, {\"temperature\": 39.73480992464111, \"wind\": 63.10268501376382, \"precipitation\": 15.20512544845365, \"condition\": \"fog\"}, {\"temperature\": 34.928857478491054, \"wind\": 44.34437827092474, \"precipitation\": 2.9919970218495684, \"condition\": \"sun\"}, {\"temperature\": 12.475457440238529, \"wind\": 45.63508245761745, \"precipitation\": 1.5684442569828705, \"condition\": \"fog\"}, {\"temperature\": 11.485742656702111, \"wind\": 35.43011450755876, \"precipitation\": 46.843314320146966, \"condition\": \"fog\"}, {\"temperature\": 16.58332024159822, \"wind\": 85.9387003246595, \"precipitation\": 67.67417859666371, \"condition\": \"sun\"}, {\"temperature\": 42.96961504747511, \"wind\": 61.02100908610409, \"precipitation\": 40.19537213295094, \"condition\": \"snow\"}, {\"temperature\": 43.01306682260888, \"wind\": 91.58796490357004, \"precipitation\": 10.242970289225461, \"condition\": \"sun\"}, {\"temperature\": 17.888206090116245, \"wind\": 29.82373325722851, \"precipitation\": 44.29455934969246, \"condition\": \"sun\"}, {\"temperature\": 13.700882757230424, \"wind\": 46.93705512034313, \"precipitation\": 76.07676796446637, \"condition\": \"rain\"}, {\"temperature\": 4.986331720563626, \"wind\": 81.90760931416689, \"precipitation\": 34.892239668746406, \"condition\": \"drizzle\"}, {\"temperature\": -1.4778346288931683, \"wind\": 3.9791854357363987, \"precipitation\": 7.535152538482148, \"condition\": \"drizzle\"}, {\"temperature\": 16.892161248783623, \"wind\": 31.993361074291926, \"precipitation\": 60.46401934620111, \"condition\": \"drizzle\"}, {\"temperature\": -7.17506030059671, \"wind\": 5.042336185555952, \"precipitation\": 88.35922403405787, \"condition\": \"drizzle\"}, {\"temperature\": 9.85908134441586, \"wind\": 48.491362316119236, \"precipitation\": 23.80248472573617, \"condition\": \"snow\"}, {\"temperature\": 28.54368725395195, \"wind\": 5.72748587709313, \"precipitation\": 25.974359374267742, \"condition\": \"drizzle\"}, {\"temperature\": 41.85044222939622, \"wind\": 3.311333417116047, \"precipitation\": 1.7918023488591839, \"condition\": \"snow\"}, {\"temperature\": 39.51847585775124, \"wind\": 89.64939452111453, \"precipitation\": 48.53950512768904, \"condition\": \"fog\"}, {\"temperature\": 4.1511791382858725, \"wind\": 58.14172937556887, \"precipitation\": 79.66452798481971, \"condition\": \"drizzle\"}, {\"temperature\": 7.316849144326355, \"wind\": 6.796864846855866, \"precipitation\": 33.619090549629306, \"condition\": \"snow\"}, {\"temperature\": -6.040726652488083, \"wind\": 24.37214720554359, \"precipitation\": 71.46568853073089, \"condition\": \"rain\"}, {\"temperature\": 28.05026452008928, \"wind\": 19.39989397387041, \"precipitation\": 71.68725771245654, \"condition\": \"drizzle\"}, {\"temperature\": 35.30623993317926, \"wind\": 66.54091843981752, \"precipitation\": 22.884049790672588, \"condition\": \"rain\"}, {\"temperature\": -9.078168118751755, \"wind\": 54.53321547753263, \"precipitation\": 66.43449936744369, \"condition\": \"sun\"}, {\"temperature\": 34.31111609068961, \"wind\": 92.79899053872957, \"precipitation\": 61.9431928594434, \"condition\": \"sun\"}, {\"temperature\": -0.5340863902706268, \"wind\": 89.18484464889846, \"precipitation\": 88.49655552922172, \"condition\": \"rain\"}, {\"temperature\": -7.331283732097262, \"wind\": 16.43300088620039, \"precipitation\": 92.15523633598885, \"condition\": \"drizzle\"}, {\"temperature\": 34.4512940591614, \"wind\": 16.982566694713043, \"precipitation\": 66.50391898652623, \"condition\": \"fog\"}, {\"temperature\": 2.292195972387347, \"wind\": 78.07758659490037, \"precipitation\": 85.08941323813521, \"condition\": \"snow\"}, {\"temperature\": 10.280188069701488, \"wind\": 64.37598506985243, \"precipitation\": 46.13428294966927, \"condition\": \"sun\"}, {\"temperature\": 14.385637791164196, \"wind\": 27.710246014732775, \"precipitation\": 82.18132103083111, \"condition\": \"rain\"}, {\"temperature\": 15.068929930658907, \"wind\": 90.37313777532859, \"precipitation\": 95.42688091272505, \"condition\": \"rain\"}, {\"temperature\": -5.931704200276687, \"wind\": 76.30697305192514, \"precipitation\": 48.17926018036856, \"condition\": \"drizzle\"}, {\"temperature\": -1.2238906425326128, \"wind\": 77.25655113115953, \"precipitation\": 12.189057445370022, \"condition\": \"sun\"}, {\"temperature\": 17.981273164150583, \"wind\": 99.8855194023956, \"precipitation\": 5.951490853046981, \"condition\": \"drizzle\"}, {\"temperature\": 8.333054222089164, \"wind\": 22.351144710727677, \"precipitation\": 1.9907985646430038, \"condition\": \"rain\"}, {\"temperature\": 40.99117292213711, \"wind\": 12.537186007473021, \"precipitation\": 3.0957134444521195, \"condition\": \"drizzle\"}, {\"temperature\": 36.29560583814439, \"wind\": 47.282861379528676, \"precipitation\": 50.72175472263106, \"condition\": \"fog\"}, {\"temperature\": 8.011942225789358, \"wind\": 80.64679426688298, \"precipitation\": 84.74031260132877, \"condition\": \"sun\"}, {\"temperature\": 32.64189921238727, \"wind\": 78.38867921926278, \"precipitation\": 94.27015659699374, \"condition\": \"fog\"}, {\"temperature\": -4.159829210634211, \"wind\": 53.39060475873939, \"precipitation\": 50.60795287404672, \"condition\": \"fog\"}, {\"temperature\": -6.602296737522483, \"wind\": 86.55899134629715, \"precipitation\": 62.64697378600636, \"condition\": \"fog\"}, {\"temperature\": 40.135239145180655, \"wind\": 16.633704419495032, \"precipitation\": 41.391087682479736, \"condition\": \"drizzle\"}, {\"temperature\": 26.95881305440288, \"wind\": 85.8809786017975, \"precipitation\": 71.9617762842435, \"condition\": \"drizzle\"}, {\"temperature\": 11.92991543604046, \"wind\": 76.39140196294017, \"precipitation\": 60.40612399492309, \"condition\": \"drizzle\"}, {\"temperature\": 19.566301202766702, \"wind\": 72.97802286558691, \"precipitation\": 29.681848692175006, \"condition\": \"drizzle\"}, {\"temperature\": 10.481864045771506, \"wind\": 10.269367839292642, \"precipitation\": 85.87287289024248, \"condition\": \"rain\"}, {\"temperature\": -9.620152753805623, \"wind\": 64.57630699894213, \"precipitation\": 29.06583641537993, \"condition\": \"drizzle\"}, {\"temperature\": 24.85823346816882, \"wind\": 64.44200648973889, \"precipitation\": 32.79358601401415, \"condition\": \"sun\"}, {\"temperature\": -9.71401231081625, \"wind\": 46.94482107365025, \"precipitation\": 71.95828763550503, \"condition\": \"rain\"}, {\"temperature\": 15.802582568794556, \"wind\": 5.568264782160037, \"precipitation\": 16.50277435360922, \"condition\": \"sun\"}, {\"temperature\": 29.44740698845427, \"wind\": 66.4224540835048, \"precipitation\": 96.91347272575433, \"condition\": \"snow\"}, {\"temperature\": 0.1789559651072139, \"wind\": 37.144396583281235, \"precipitation\": 7.3927878065009445, \"condition\": \"snow\"}, {\"temperature\": 37.90262114384076, \"wind\": 23.744567572534315, \"precipitation\": 85.44013318397162, \"condition\": \"fog\"}, {\"temperature\": 40.40503203411964, \"wind\": 71.68155336881077, \"precipitation\": 91.260802513042, \"condition\": \"snow\"}, {\"temperature\": 2.723433474361908, \"wind\": 5.85694236985378, \"precipitation\": 54.0295184169758, \"condition\": \"drizzle\"}, {\"temperature\": 9.452609321039336, \"wind\": 52.7843932253772, \"precipitation\": 90.04450333194686, \"condition\": \"fog\"}, {\"temperature\": 18.909153974667404, \"wind\": 13.725377509230263, \"precipitation\": 34.56974350594094, \"condition\": \"sun\"}]}}, {\"mode\": \"vega-lite\"});\n",
       "</script>"
      ],
      "text/plain": [
       "alt.Chart(...)"
      ]
     },
     "metadata": {},
     "output_type": "display_data"
    }
   ],
   "source": [
    "base = alt.Chart(df)\n",
    "arc = base.mark_arc().encode(\n",
    "    theta=alt.Theta(\n",
    "        field=\"temperature\",\n",
    "        type=\"quantitative\",\n",
    "        aggregate=\"count\",\n",
    "        stack=\"zero\",\n",
    "        scale=alt.Scale(type=\"linear\", zero=True),\n",
    "    ),\n",
    "    color=alt.Color(field=\"condition\", type=\"nominal\", scale=alt.Scale(type=\"ordinal\")),\n",
    ")\n",
    "display_chart(arc)"
   ]
  },
  {
   "cell_type": "markdown",
   "metadata": {},
   "source": [
    "### Stacked Bar Chart"
   ]
  },
  {
   "cell_type": "code",
   "execution_count": 26,
   "metadata": {},
   "outputs": [
    {
     "name": "stdout",
     "output_type": "stream",
     "text": [
      "{'field': [{'name': 'temperature', 'type': 'number'},\n",
      "           {'name': 'condition', 'type': 'string'}],\n",
      " 'number_rows': 100,\n",
      " 'view': [{'mark': [{'encoding': [{'binning': 10,\n",
      "                                   'channel': 'x',\n",
      "                                   'field': 'temperature'},\n",
      "                                  {'aggregate': 'count',\n",
      "                                   'channel': 'y',\n",
      "                                   'stack': 'zero'},\n",
      "                                  {'channel': 'color', 'field': 'condition'}],\n",
      "                     'type': 'bar'}],\n",
      "           'scale': [{'channel': 'x', 'type': 'linear'},\n",
      "                     {'channel': 'y', 'type': 'linear', 'zero': 'true'},\n",
      "                     {'channel': 'color', 'type': 'categorical'}]}]}\n"
     ]
    }
   ],
   "source": [
    "facts = [\n",
    "    \"attribute(number_rows,root,100).\",\n",
    "    \"entity(field,root,temperature).\",\n",
    "    \"attribute((field,name),temperature,temperature).\",\n",
    "    \"attribute((field,type),temperature,number).\",\n",
    "    \"entity(field,root,condition).\",\n",
    "    \"attribute((field,name),condition,condition).\",\n",
    "    \"attribute((field,type),condition,string).\",\n",
    "    \"entity(view,root,0).\",\n",
    "    \"entity(mark,0,1).\",\n",
    "    \"attribute((mark,type),1,bar).\",\n",
    "    \"entity(encoding,1,2).\",\n",
    "    \"attribute((encoding,channel),2,x).\",\n",
    "    \"attribute((encoding,field),2,temperature).\",\n",
    "    \"attribute((encoding,binning),2,10).\",\n",
    "    \"entity(encoding,1,3).\",\n",
    "    \"attribute((encoding,channel),3,y).\",\n",
    "    \"attribute((encoding,aggregate),3,count).\",\n",
    "    \"attribute((encoding,stack),3,zero).\",\n",
    "    \"entity(encoding,1,4).\",\n",
    "    \"attribute((encoding,channel),4,color).\",\n",
    "    \"attribute((encoding,field),4,condition).\",\n",
    "    \"entity(scale,0,5).\",\n",
    "    \"attribute((scale,channel),5,x).\",\n",
    "    \"attribute((scale,type),5,linear).\",\n",
    "    \"entity(scale,0,6).\",\n",
    "    \"attribute((scale,channel),6,y).\",\n",
    "    \"attribute((scale,type),6,linear).\",\n",
    "    \"attribute((scale,zero),6,true).\",\n",
    "    \"entity(scale,0,7).\",\n",
    "    \"attribute((scale,channel),7,color).\",\n",
    "    \"attribute((scale,type),7,categorical).\",\n",
    "]\n",
    "spec = facts_to_dict(facts)\n",
    "pprint(spec)"
   ]
  },
  {
   "cell_type": "code",
   "execution_count": 27,
   "metadata": {},
   "outputs": [
    {
     "name": "stdout",
     "output_type": "stream",
     "text": [
      "{'$schema': 'https://vega.github.io/schema/vega-lite/v4.17.0.json',\n",
      " 'config': {'view': {'continuousHeight': 300, 'continuousWidth': 400}},\n",
      " 'encoding': {'color': {'field': 'condition', 'type': 'nominal'},\n",
      "              'x': {'bin': {'maxbins': 10},\n",
      "                    'field': 'temperature',\n",
      "                    'scale': {'type': 'linear'},\n",
      "                    'type': 'quantitative'},\n",
      "              'y': {'aggregate': 'count',\n",
      "                    'field': 'temperature',\n",
      "                    'scale': {'type': 'linear', 'zero': True},\n",
      "                    'stack': 'zero',\n",
      "                    'type': 'quantitative'}},\n",
      " 'mark': 'bar'}\n"
     ]
    },
    {
     "data": {
      "text/html": [
       "\n",
       "<div id=\"altair-viz-c74a57805701497d860de07f0d55f978\"></div>\n",
       "<script type=\"text/javascript\">\n",
       "  var VEGA_DEBUG = (typeof VEGA_DEBUG == \"undefined\") ? {} : VEGA_DEBUG;\n",
       "  (function(spec, embedOpt){\n",
       "    let outputDiv = document.currentScript.previousElementSibling;\n",
       "    if (outputDiv.id !== \"altair-viz-c74a57805701497d860de07f0d55f978\") {\n",
       "      outputDiv = document.getElementById(\"altair-viz-c74a57805701497d860de07f0d55f978\");\n",
       "    }\n",
       "    const paths = {\n",
       "      \"vega\": \"https://cdn.jsdelivr.net/npm//vega@5?noext\",\n",
       "      \"vega-lib\": \"https://cdn.jsdelivr.net/npm//vega-lib?noext\",\n",
       "      \"vega-lite\": \"https://cdn.jsdelivr.net/npm//vega-lite@4.17.0?noext\",\n",
       "      \"vega-embed\": \"https://cdn.jsdelivr.net/npm//vega-embed@6?noext\",\n",
       "    };\n",
       "\n",
       "    function maybeLoadScript(lib, version) {\n",
       "      var key = `${lib.replace(\"-\", \"\")}_version`;\n",
       "      return (VEGA_DEBUG[key] == version) ?\n",
       "        Promise.resolve(paths[lib]) :\n",
       "        new Promise(function(resolve, reject) {\n",
       "          var s = document.createElement('script');\n",
       "          document.getElementsByTagName(\"head\")[0].appendChild(s);\n",
       "          s.async = true;\n",
       "          s.onload = () => {\n",
       "            VEGA_DEBUG[key] = version;\n",
       "            return resolve(paths[lib]);\n",
       "          };\n",
       "          s.onerror = () => reject(`Error loading script: ${paths[lib]}`);\n",
       "          s.src = paths[lib];\n",
       "        });\n",
       "    }\n",
       "\n",
       "    function showError(err) {\n",
       "      outputDiv.innerHTML = `<div class=\"error\" style=\"color:red;\">${err}</div>`;\n",
       "      throw err;\n",
       "    }\n",
       "\n",
       "    function displayChart(vegaEmbed) {\n",
       "      vegaEmbed(outputDiv, spec, embedOpt)\n",
       "        .catch(err => showError(`Javascript Error: ${err.message}<br>This usually means there's a typo in your chart specification. See the javascript console for the full traceback.`));\n",
       "    }\n",
       "\n",
       "    if(typeof define === \"function\" && define.amd) {\n",
       "      requirejs.config({paths});\n",
       "      require([\"vega-embed\"], displayChart, err => showError(`Error loading script: ${err.message}`));\n",
       "    } else {\n",
       "      maybeLoadScript(\"vega\", \"5\")\n",
       "        .then(() => maybeLoadScript(\"vega-lite\", \"4.17.0\"))\n",
       "        .then(() => maybeLoadScript(\"vega-embed\", \"6\"))\n",
       "        .catch(showError)\n",
       "        .then(() => displayChart(vegaEmbed));\n",
       "    }\n",
       "  })({\"config\": {\"view\": {\"continuousWidth\": 400, \"continuousHeight\": 300}}, \"data\": {\"name\": \"data-124c435c1b687eb7890344117a1c86b4\"}, \"mark\": \"bar\", \"encoding\": {\"color\": {\"field\": \"condition\", \"type\": \"nominal\"}, \"x\": {\"bin\": {\"maxbins\": 10}, \"field\": \"temperature\", \"scale\": {\"type\": \"linear\"}, \"type\": \"quantitative\"}, \"y\": {\"aggregate\": \"count\", \"field\": \"temperature\", \"scale\": {\"type\": \"linear\", \"zero\": true}, \"stack\": \"zero\", \"type\": \"quantitative\"}}, \"$schema\": \"https://vega.github.io/schema/vega-lite/v4.17.0.json\", \"datasets\": {\"data-124c435c1b687eb7890344117a1c86b4\": [{\"temperature\": 17.89365303788651, \"wind\": 78.75685633883592, \"precipitation\": 41.61124606702779, \"condition\": \"rain\"}, {\"temperature\": 5.622818441769336, \"wind\": 25.421998841055917, \"precipitation\": 74.90555083684964, \"condition\": \"rain\"}, {\"temperature\": 23.3902094090436, \"wind\": 9.846103163487696, \"precipitation\": 81.33536438710783, \"condition\": \"rain\"}, {\"temperature\": 20.889554427248395, \"wind\": 27.53521295661492, \"precipitation\": 27.6549324712597, \"condition\": \"drizzle\"}, {\"temperature\": 33.91026207788065, \"wind\": 97.91032820138525, \"precipitation\": 36.53494267552425, \"condition\": \"snow\"}, {\"temperature\": 39.65611406756084, \"wind\": 24.27383951799732, \"precipitation\": 33.38647147375286, \"condition\": \"rain\"}, {\"temperature\": 5.670659801967243, \"wind\": 98.20197823012846, \"precipitation\": 93.72832557739356, \"condition\": \"snow\"}, {\"temperature\": -2.2776070811204505, \"wind\": 77.90443786588797, \"precipitation\": 50.102310147035375, \"condition\": \"drizzle\"}, {\"temperature\": 43.104548648992775, \"wind\": 74.77698982401796, \"precipitation\": 89.95647852559429, \"condition\": \"sun\"}, {\"temperature\": 1.8049661385207525, \"wind\": 91.29152261118769, \"precipitation\": 29.77145087552332, \"condition\": \"fog\"}, {\"temperature\": 14.327115187571408, \"wind\": 45.054261048821296, \"precipitation\": 17.654846400296798, \"condition\": \"drizzle\"}, {\"temperature\": 25.44797791508993, \"wind\": 22.265267642454656, \"precipitation\": 60.37929677885421, \"condition\": \"drizzle\"}, {\"temperature\": 11.19016835531465, \"wind\": 77.30294308487814, \"precipitation\": 71.65443847888368, \"condition\": \"snow\"}, {\"temperature\": 22.948827407585433, \"wind\": 27.03785915458824, \"precipitation\": 92.68901140573688, \"condition\": \"snow\"}, {\"temperature\": 33.16555388154543, \"wind\": 92.1292103045794, \"precipitation\": 39.10838647644195, \"condition\": \"snow\"}, {\"temperature\": 9.981393546660723, \"wind\": 66.73004528306666, \"precipitation\": 19.36957583451713, \"condition\": \"drizzle\"}, {\"temperature\": 2.837559858993796, \"wind\": 18.62443662393004, \"precipitation\": 57.42273968155751, \"condition\": \"sun\"}, {\"temperature\": 39.14290590745285, \"wind\": 32.52859013259527, \"precipitation\": 88.21897530715309, \"condition\": \"rain\"}, {\"temperature\": 39.2325438266719, \"wind\": 2.511353474345024, \"precipitation\": 78.95158173752907, \"condition\": \"fog\"}, {\"temperature\": 2.949456835649645, \"wind\": 1.9370157264502197, \"precipitation\": 3.5337114891518584, \"condition\": \"fog\"}, {\"temperature\": 28.422917308067277, \"wind\": 6.822434636914776, \"precipitation\": 84.5655158038795, \"condition\": \"fog\"}, {\"temperature\": 28.406344711783838, \"wind\": 95.25216996998444, \"precipitation\": 2.312429289727791, \"condition\": \"fog\"}, {\"temperature\": 23.929825809705775, \"wind\": 28.441727967722407, \"precipitation\": 94.94371547195382, \"condition\": \"drizzle\"}, {\"temperature\": 25.144603850494207, \"wind\": 5.7248518372133965, \"precipitation\": 72.55961327284773, \"condition\": \"drizzle\"}, {\"temperature\": -3.1069016270510676, \"wind\": 90.56068308052812, \"precipitation\": 8.208347981870512, \"condition\": \"rain\"}, {\"temperature\": 43.07443333444708, \"wind\": 63.33777651825151, \"precipitation\": 35.343598004733714, \"condition\": \"sun\"}, {\"temperature\": -8.715631484900875, \"wind\": 78.50049089036061, \"precipitation\": 16.726772866900042, \"condition\": \"fog\"}, {\"temperature\": 10.058625587365142, \"wind\": 82.55410159133031, \"precipitation\": 49.82193593499935, \"condition\": \"fog\"}, {\"temperature\": 27.912341883718938, \"wind\": 45.94389098129158, \"precipitation\": 87.71806691348185, \"condition\": \"sun\"}, {\"temperature\": 28.827008981675903, \"wind\": 14.352645600160752, \"precipitation\": 95.30777240838884, \"condition\": \"sun\"}, {\"temperature\": -5.245472855196331, \"wind\": 24.463633090927274, \"precipitation\": 63.1630488725617, \"condition\": \"fog\"}, {\"temperature\": -4.738627417736829, \"wind\": 87.61779675788263, \"precipitation\": 67.17488470646667, \"condition\": \"fog\"}, {\"temperature\": -1.6463371096382655, \"wind\": 34.15953757649686, \"precipitation\": 83.20021064524306, \"condition\": \"rain\"}, {\"temperature\": -8.671469939339552, \"wind\": 28.02148157701091, \"precipitation\": 8.858286414027772, \"condition\": \"snow\"}, {\"temperature\": 23.586980668182306, \"wind\": 32.61177727202879, \"precipitation\": 90.55384722692395, \"condition\": \"snow\"}, {\"temperature\": 42.93552301196303, \"wind\": 17.459007963452034, \"precipitation\": 76.26693620563219, \"condition\": \"sun\"}, {\"temperature\": 14.04271616398174, \"wind\": 31.44611970670743, \"precipitation\": 27.736449442339893, \"condition\": \"rain\"}, {\"temperature\": 33.93136729382773, \"wind\": 85.0980112392488, \"precipitation\": 48.72266227519502, \"condition\": \"fog\"}, {\"temperature\": 29.10713627050935, \"wind\": 25.401508775422734, \"precipitation\": 83.25120184383715, \"condition\": \"fog\"}, {\"temperature\": 23.33130010979005, \"wind\": 38.960479467358745, \"precipitation\": 84.8094568801428, \"condition\": \"rain\"}, {\"temperature\": 27.820447049966695, \"wind\": 97.47611794506456, \"precipitation\": 59.404606053602336, \"condition\": \"fog\"}, {\"temperature\": 24.704809156505995, \"wind\": 56.929461372432655, \"precipitation\": 16.583726619344496, \"condition\": \"drizzle\"}, {\"temperature\": 42.73839675123029, \"wind\": 19.024929246369528, \"precipitation\": 37.515692671204135, \"condition\": \"sun\"}, {\"temperature\": 39.73480992464111, \"wind\": 63.10268501376382, \"precipitation\": 15.20512544845365, \"condition\": \"fog\"}, {\"temperature\": 34.928857478491054, \"wind\": 44.34437827092474, \"precipitation\": 2.9919970218495684, \"condition\": \"sun\"}, {\"temperature\": 12.475457440238529, \"wind\": 45.63508245761745, \"precipitation\": 1.5684442569828705, \"condition\": \"fog\"}, {\"temperature\": 11.485742656702111, \"wind\": 35.43011450755876, \"precipitation\": 46.843314320146966, \"condition\": \"fog\"}, {\"temperature\": 16.58332024159822, \"wind\": 85.9387003246595, \"precipitation\": 67.67417859666371, \"condition\": \"sun\"}, {\"temperature\": 42.96961504747511, \"wind\": 61.02100908610409, \"precipitation\": 40.19537213295094, \"condition\": \"snow\"}, {\"temperature\": 43.01306682260888, \"wind\": 91.58796490357004, \"precipitation\": 10.242970289225461, \"condition\": \"sun\"}, {\"temperature\": 17.888206090116245, \"wind\": 29.82373325722851, \"precipitation\": 44.29455934969246, \"condition\": \"sun\"}, {\"temperature\": 13.700882757230424, \"wind\": 46.93705512034313, \"precipitation\": 76.07676796446637, \"condition\": \"rain\"}, {\"temperature\": 4.986331720563626, \"wind\": 81.90760931416689, \"precipitation\": 34.892239668746406, \"condition\": \"drizzle\"}, {\"temperature\": -1.4778346288931683, \"wind\": 3.9791854357363987, \"precipitation\": 7.535152538482148, \"condition\": \"drizzle\"}, {\"temperature\": 16.892161248783623, \"wind\": 31.993361074291926, \"precipitation\": 60.46401934620111, \"condition\": \"drizzle\"}, {\"temperature\": -7.17506030059671, \"wind\": 5.042336185555952, \"precipitation\": 88.35922403405787, \"condition\": \"drizzle\"}, {\"temperature\": 9.85908134441586, \"wind\": 48.491362316119236, \"precipitation\": 23.80248472573617, \"condition\": \"snow\"}, {\"temperature\": 28.54368725395195, \"wind\": 5.72748587709313, \"precipitation\": 25.974359374267742, \"condition\": \"drizzle\"}, {\"temperature\": 41.85044222939622, \"wind\": 3.311333417116047, \"precipitation\": 1.7918023488591839, \"condition\": \"snow\"}, {\"temperature\": 39.51847585775124, \"wind\": 89.64939452111453, \"precipitation\": 48.53950512768904, \"condition\": \"fog\"}, {\"temperature\": 4.1511791382858725, \"wind\": 58.14172937556887, \"precipitation\": 79.66452798481971, \"condition\": \"drizzle\"}, {\"temperature\": 7.316849144326355, \"wind\": 6.796864846855866, \"precipitation\": 33.619090549629306, \"condition\": \"snow\"}, {\"temperature\": -6.040726652488083, \"wind\": 24.37214720554359, \"precipitation\": 71.46568853073089, \"condition\": \"rain\"}, {\"temperature\": 28.05026452008928, \"wind\": 19.39989397387041, \"precipitation\": 71.68725771245654, \"condition\": \"drizzle\"}, {\"temperature\": 35.30623993317926, \"wind\": 66.54091843981752, \"precipitation\": 22.884049790672588, \"condition\": \"rain\"}, {\"temperature\": -9.078168118751755, \"wind\": 54.53321547753263, \"precipitation\": 66.43449936744369, \"condition\": \"sun\"}, {\"temperature\": 34.31111609068961, \"wind\": 92.79899053872957, \"precipitation\": 61.9431928594434, \"condition\": \"sun\"}, {\"temperature\": -0.5340863902706268, \"wind\": 89.18484464889846, \"precipitation\": 88.49655552922172, \"condition\": \"rain\"}, {\"temperature\": -7.331283732097262, \"wind\": 16.43300088620039, \"precipitation\": 92.15523633598885, \"condition\": \"drizzle\"}, {\"temperature\": 34.4512940591614, \"wind\": 16.982566694713043, \"precipitation\": 66.50391898652623, \"condition\": \"fog\"}, {\"temperature\": 2.292195972387347, \"wind\": 78.07758659490037, \"precipitation\": 85.08941323813521, \"condition\": \"snow\"}, {\"temperature\": 10.280188069701488, \"wind\": 64.37598506985243, \"precipitation\": 46.13428294966927, \"condition\": \"sun\"}, {\"temperature\": 14.385637791164196, \"wind\": 27.710246014732775, \"precipitation\": 82.18132103083111, \"condition\": \"rain\"}, {\"temperature\": 15.068929930658907, \"wind\": 90.37313777532859, \"precipitation\": 95.42688091272505, \"condition\": \"rain\"}, {\"temperature\": -5.931704200276687, \"wind\": 76.30697305192514, \"precipitation\": 48.17926018036856, \"condition\": \"drizzle\"}, {\"temperature\": -1.2238906425326128, \"wind\": 77.25655113115953, \"precipitation\": 12.189057445370022, \"condition\": \"sun\"}, {\"temperature\": 17.981273164150583, \"wind\": 99.8855194023956, \"precipitation\": 5.951490853046981, \"condition\": \"drizzle\"}, {\"temperature\": 8.333054222089164, \"wind\": 22.351144710727677, \"precipitation\": 1.9907985646430038, \"condition\": \"rain\"}, {\"temperature\": 40.99117292213711, \"wind\": 12.537186007473021, \"precipitation\": 3.0957134444521195, \"condition\": \"drizzle\"}, {\"temperature\": 36.29560583814439, \"wind\": 47.282861379528676, \"precipitation\": 50.72175472263106, \"condition\": \"fog\"}, {\"temperature\": 8.011942225789358, \"wind\": 80.64679426688298, \"precipitation\": 84.74031260132877, \"condition\": \"sun\"}, {\"temperature\": 32.64189921238727, \"wind\": 78.38867921926278, \"precipitation\": 94.27015659699374, \"condition\": \"fog\"}, {\"temperature\": -4.159829210634211, \"wind\": 53.39060475873939, \"precipitation\": 50.60795287404672, \"condition\": \"fog\"}, {\"temperature\": -6.602296737522483, \"wind\": 86.55899134629715, \"precipitation\": 62.64697378600636, \"condition\": \"fog\"}, {\"temperature\": 40.135239145180655, \"wind\": 16.633704419495032, \"precipitation\": 41.391087682479736, \"condition\": \"drizzle\"}, {\"temperature\": 26.95881305440288, \"wind\": 85.8809786017975, \"precipitation\": 71.9617762842435, \"condition\": \"drizzle\"}, {\"temperature\": 11.92991543604046, \"wind\": 76.39140196294017, \"precipitation\": 60.40612399492309, \"condition\": \"drizzle\"}, {\"temperature\": 19.566301202766702, \"wind\": 72.97802286558691, \"precipitation\": 29.681848692175006, \"condition\": \"drizzle\"}, {\"temperature\": 10.481864045771506, \"wind\": 10.269367839292642, \"precipitation\": 85.87287289024248, \"condition\": \"rain\"}, {\"temperature\": -9.620152753805623, \"wind\": 64.57630699894213, \"precipitation\": 29.06583641537993, \"condition\": \"drizzle\"}, {\"temperature\": 24.85823346816882, \"wind\": 64.44200648973889, \"precipitation\": 32.79358601401415, \"condition\": \"sun\"}, {\"temperature\": -9.71401231081625, \"wind\": 46.94482107365025, \"precipitation\": 71.95828763550503, \"condition\": \"rain\"}, {\"temperature\": 15.802582568794556, \"wind\": 5.568264782160037, \"precipitation\": 16.50277435360922, \"condition\": \"sun\"}, {\"temperature\": 29.44740698845427, \"wind\": 66.4224540835048, \"precipitation\": 96.91347272575433, \"condition\": \"snow\"}, {\"temperature\": 0.1789559651072139, \"wind\": 37.144396583281235, \"precipitation\": 7.3927878065009445, \"condition\": \"snow\"}, {\"temperature\": 37.90262114384076, \"wind\": 23.744567572534315, \"precipitation\": 85.44013318397162, \"condition\": \"fog\"}, {\"temperature\": 40.40503203411964, \"wind\": 71.68155336881077, \"precipitation\": 91.260802513042, \"condition\": \"snow\"}, {\"temperature\": 2.723433474361908, \"wind\": 5.85694236985378, \"precipitation\": 54.0295184169758, \"condition\": \"drizzle\"}, {\"temperature\": 9.452609321039336, \"wind\": 52.7843932253772, \"precipitation\": 90.04450333194686, \"condition\": \"fog\"}, {\"temperature\": 18.909153974667404, \"wind\": 13.725377509230263, \"precipitation\": 34.56974350594094, \"condition\": \"sun\"}]}}, {\"mode\": \"vega-lite\"});\n",
       "</script>"
      ],
      "text/plain": [
       "alt.Chart(...)"
      ]
     },
     "metadata": {},
     "output_type": "display_data"
    }
   ],
   "source": [
    "base = alt.Chart(df)\n",
    "bar = base.mark_bar().encode(\n",
    "    x=alt.X(\n",
    "        field=\"temperature\",\n",
    "        type=\"quantitative\",\n",
    "        bin=alt.Bin(maxbins=10),\n",
    "        scale=alt.Scale(type=\"linear\"),\n",
    "    ),\n",
    "    y=alt.Y(\n",
    "        field=\"temperature\",\n",
    "        type=\"quantitative\",\n",
    "        aggregate=\"count\",\n",
    "        stack=\"zero\",\n",
    "        scale=alt.Scale(type=\"linear\", zero=True),\n",
    "    ),\n",
    "    color=alt.Color(field=\"condition\", type=\"nominal\"),\n",
    ")\n",
    "display_chart(bar)"
   ]
  },
  {
   "cell_type": "markdown",
   "metadata": {},
   "source": [
    "### Normalized (Percentage) Stacked Bar Chart"
   ]
  },
  {
   "cell_type": "code",
   "execution_count": 28,
   "metadata": {},
   "outputs": [
    {
     "name": "stdout",
     "output_type": "stream",
     "text": [
      "{'field': [{'name': 'temperature', 'type': 'number'},\n",
      "           {'name': 'condition', 'type': 'string'}],\n",
      " 'number_rows': 100,\n",
      " 'view': [{'mark': [{'encoding': [{'aggregate': 'count',\n",
      "                                   'channel': 'x',\n",
      "                                   'stack': 'normalize'},\n",
      "                                  {'binning': 10,\n",
      "                                   'channel': 'y',\n",
      "                                   'field': 'temperature'},\n",
      "                                  {'channel': 'color', 'field': 'condition'}],\n",
      "                     'type': 'bar'}],\n",
      "           'scale': [{'channel': 'x', 'type': 'linear', 'zero': 'true'},\n",
      "                     {'channel': 'y', 'type': 'linear'},\n",
      "                     {'channel': 'color', 'type': 'categorical'}]}]}\n"
     ]
    }
   ],
   "source": [
    "facts = [\n",
    "    \"attribute(number_rows,root,100).\",\n",
    "    \"entity(field,root,temperature).\",\n",
    "    \"attribute((field,name),temperature,temperature).\",\n",
    "    \"attribute((field,type),temperature,number).\",\n",
    "    \"entity(field,root,condition).\",\n",
    "    \"attribute((field,name),condition,condition).\",\n",
    "    \"attribute((field,type),condition,string).\",\n",
    "    \"entity(view,root,0).\",\n",
    "    \"entity(mark,0,1).\",\n",
    "    \"attribute((mark,type),1,bar).\",\n",
    "    \"entity(encoding,1,2).\",\n",
    "    \"attribute((encoding,channel),2,x).\",\n",
    "    \"attribute((encoding,aggregate),2,count).\",\n",
    "    \"attribute((encoding,stack),2,normalize).\",\n",
    "    \"entity(encoding,1,3).\",\n",
    "    \"attribute((encoding,channel),3,y).\",\n",
    "    \"attribute((encoding,field),3,temperature).\",\n",
    "    \"attribute((encoding,binning),3,10).\",\n",
    "    \"entity(encoding,1,4).\",\n",
    "    \"attribute((encoding,channel),4,color).\",\n",
    "    \"attribute((encoding,field),4,condition).\",\n",
    "    \"entity(scale,0,5).\",\n",
    "    \"attribute((scale,channel),5,x).\",\n",
    "    \"attribute((scale,type),5,linear).\",\n",
    "    \"attribute((scale,zero),5,true).\",\n",
    "    \"entity(scale,0,6).\",\n",
    "    \"attribute((scale,channel),6,y).\",\n",
    "    \"attribute((scale,type),6,linear).\",\n",
    "    \"entity(scale,0,7).\",\n",
    "    \"attribute((scale,channel),7,color).\",\n",
    "    \"attribute((scale,type),7,categorical).\",\n",
    "]\n",
    "spec = facts_to_dict(facts)\n",
    "pprint(spec)"
   ]
  },
  {
   "cell_type": "code",
   "execution_count": 29,
   "metadata": {},
   "outputs": [
    {
     "name": "stdout",
     "output_type": "stream",
     "text": [
      "{'$schema': 'https://vega.github.io/schema/vega-lite/v4.17.0.json',\n",
      " 'config': {'view': {'continuousHeight': 300, 'continuousWidth': 400}},\n",
      " 'encoding': {'color': {'field': 'condition', 'type': 'nominal'},\n",
      "              'x': {'aggregate': 'count',\n",
      "                    'field': 'temperature',\n",
      "                    'scale': {'type': 'linear', 'zero': True},\n",
      "                    'stack': 'normalize',\n",
      "                    'type': 'quantitative'},\n",
      "              'y': {'bin': {'maxbins': 10},\n",
      "                    'field': 'temperature',\n",
      "                    'scale': {'type': 'linear'},\n",
      "                    'type': 'quantitative'}},\n",
      " 'mark': 'bar'}\n"
     ]
    },
    {
     "data": {
      "text/html": [
       "\n",
       "<div id=\"altair-viz-5ad1866e83964d789591acd276a7b26f\"></div>\n",
       "<script type=\"text/javascript\">\n",
       "  var VEGA_DEBUG = (typeof VEGA_DEBUG == \"undefined\") ? {} : VEGA_DEBUG;\n",
       "  (function(spec, embedOpt){\n",
       "    let outputDiv = document.currentScript.previousElementSibling;\n",
       "    if (outputDiv.id !== \"altair-viz-5ad1866e83964d789591acd276a7b26f\") {\n",
       "      outputDiv = document.getElementById(\"altair-viz-5ad1866e83964d789591acd276a7b26f\");\n",
       "    }\n",
       "    const paths = {\n",
       "      \"vega\": \"https://cdn.jsdelivr.net/npm//vega@5?noext\",\n",
       "      \"vega-lib\": \"https://cdn.jsdelivr.net/npm//vega-lib?noext\",\n",
       "      \"vega-lite\": \"https://cdn.jsdelivr.net/npm//vega-lite@4.17.0?noext\",\n",
       "      \"vega-embed\": \"https://cdn.jsdelivr.net/npm//vega-embed@6?noext\",\n",
       "    };\n",
       "\n",
       "    function maybeLoadScript(lib, version) {\n",
       "      var key = `${lib.replace(\"-\", \"\")}_version`;\n",
       "      return (VEGA_DEBUG[key] == version) ?\n",
       "        Promise.resolve(paths[lib]) :\n",
       "        new Promise(function(resolve, reject) {\n",
       "          var s = document.createElement('script');\n",
       "          document.getElementsByTagName(\"head\")[0].appendChild(s);\n",
       "          s.async = true;\n",
       "          s.onload = () => {\n",
       "            VEGA_DEBUG[key] = version;\n",
       "            return resolve(paths[lib]);\n",
       "          };\n",
       "          s.onerror = () => reject(`Error loading script: ${paths[lib]}`);\n",
       "          s.src = paths[lib];\n",
       "        });\n",
       "    }\n",
       "\n",
       "    function showError(err) {\n",
       "      outputDiv.innerHTML = `<div class=\"error\" style=\"color:red;\">${err}</div>`;\n",
       "      throw err;\n",
       "    }\n",
       "\n",
       "    function displayChart(vegaEmbed) {\n",
       "      vegaEmbed(outputDiv, spec, embedOpt)\n",
       "        .catch(err => showError(`Javascript Error: ${err.message}<br>This usually means there's a typo in your chart specification. See the javascript console for the full traceback.`));\n",
       "    }\n",
       "\n",
       "    if(typeof define === \"function\" && define.amd) {\n",
       "      requirejs.config({paths});\n",
       "      require([\"vega-embed\"], displayChart, err => showError(`Error loading script: ${err.message}`));\n",
       "    } else {\n",
       "      maybeLoadScript(\"vega\", \"5\")\n",
       "        .then(() => maybeLoadScript(\"vega-lite\", \"4.17.0\"))\n",
       "        .then(() => maybeLoadScript(\"vega-embed\", \"6\"))\n",
       "        .catch(showError)\n",
       "        .then(() => displayChart(vegaEmbed));\n",
       "    }\n",
       "  })({\"config\": {\"view\": {\"continuousWidth\": 400, \"continuousHeight\": 300}}, \"data\": {\"name\": \"data-124c435c1b687eb7890344117a1c86b4\"}, \"mark\": \"bar\", \"encoding\": {\"color\": {\"field\": \"condition\", \"type\": \"nominal\"}, \"x\": {\"aggregate\": \"count\", \"field\": \"temperature\", \"scale\": {\"type\": \"linear\", \"zero\": true}, \"stack\": \"normalize\", \"type\": \"quantitative\"}, \"y\": {\"bin\": {\"maxbins\": 10}, \"field\": \"temperature\", \"scale\": {\"type\": \"linear\"}, \"type\": \"quantitative\"}}, \"$schema\": \"https://vega.github.io/schema/vega-lite/v4.17.0.json\", \"datasets\": {\"data-124c435c1b687eb7890344117a1c86b4\": [{\"temperature\": 17.89365303788651, \"wind\": 78.75685633883592, \"precipitation\": 41.61124606702779, \"condition\": \"rain\"}, {\"temperature\": 5.622818441769336, \"wind\": 25.421998841055917, \"precipitation\": 74.90555083684964, \"condition\": \"rain\"}, {\"temperature\": 23.3902094090436, \"wind\": 9.846103163487696, \"precipitation\": 81.33536438710783, \"condition\": \"rain\"}, {\"temperature\": 20.889554427248395, \"wind\": 27.53521295661492, \"precipitation\": 27.6549324712597, \"condition\": \"drizzle\"}, {\"temperature\": 33.91026207788065, \"wind\": 97.91032820138525, \"precipitation\": 36.53494267552425, \"condition\": \"snow\"}, {\"temperature\": 39.65611406756084, \"wind\": 24.27383951799732, \"precipitation\": 33.38647147375286, \"condition\": \"rain\"}, {\"temperature\": 5.670659801967243, \"wind\": 98.20197823012846, \"precipitation\": 93.72832557739356, \"condition\": \"snow\"}, {\"temperature\": -2.2776070811204505, \"wind\": 77.90443786588797, \"precipitation\": 50.102310147035375, \"condition\": \"drizzle\"}, {\"temperature\": 43.104548648992775, \"wind\": 74.77698982401796, \"precipitation\": 89.95647852559429, \"condition\": \"sun\"}, {\"temperature\": 1.8049661385207525, \"wind\": 91.29152261118769, \"precipitation\": 29.77145087552332, \"condition\": \"fog\"}, {\"temperature\": 14.327115187571408, \"wind\": 45.054261048821296, \"precipitation\": 17.654846400296798, \"condition\": \"drizzle\"}, {\"temperature\": 25.44797791508993, \"wind\": 22.265267642454656, \"precipitation\": 60.37929677885421, \"condition\": \"drizzle\"}, {\"temperature\": 11.19016835531465, \"wind\": 77.30294308487814, \"precipitation\": 71.65443847888368, \"condition\": \"snow\"}, {\"temperature\": 22.948827407585433, \"wind\": 27.03785915458824, \"precipitation\": 92.68901140573688, \"condition\": \"snow\"}, {\"temperature\": 33.16555388154543, \"wind\": 92.1292103045794, \"precipitation\": 39.10838647644195, \"condition\": \"snow\"}, {\"temperature\": 9.981393546660723, \"wind\": 66.73004528306666, \"precipitation\": 19.36957583451713, \"condition\": \"drizzle\"}, {\"temperature\": 2.837559858993796, \"wind\": 18.62443662393004, \"precipitation\": 57.42273968155751, \"condition\": \"sun\"}, {\"temperature\": 39.14290590745285, \"wind\": 32.52859013259527, \"precipitation\": 88.21897530715309, \"condition\": \"rain\"}, {\"temperature\": 39.2325438266719, \"wind\": 2.511353474345024, \"precipitation\": 78.95158173752907, \"condition\": \"fog\"}, {\"temperature\": 2.949456835649645, \"wind\": 1.9370157264502197, \"precipitation\": 3.5337114891518584, \"condition\": \"fog\"}, {\"temperature\": 28.422917308067277, \"wind\": 6.822434636914776, \"precipitation\": 84.5655158038795, \"condition\": \"fog\"}, {\"temperature\": 28.406344711783838, \"wind\": 95.25216996998444, \"precipitation\": 2.312429289727791, \"condition\": \"fog\"}, {\"temperature\": 23.929825809705775, \"wind\": 28.441727967722407, \"precipitation\": 94.94371547195382, \"condition\": \"drizzle\"}, {\"temperature\": 25.144603850494207, \"wind\": 5.7248518372133965, \"precipitation\": 72.55961327284773, \"condition\": \"drizzle\"}, {\"temperature\": -3.1069016270510676, \"wind\": 90.56068308052812, \"precipitation\": 8.208347981870512, \"condition\": \"rain\"}, {\"temperature\": 43.07443333444708, \"wind\": 63.33777651825151, \"precipitation\": 35.343598004733714, \"condition\": \"sun\"}, {\"temperature\": -8.715631484900875, \"wind\": 78.50049089036061, \"precipitation\": 16.726772866900042, \"condition\": \"fog\"}, {\"temperature\": 10.058625587365142, \"wind\": 82.55410159133031, \"precipitation\": 49.82193593499935, \"condition\": \"fog\"}, {\"temperature\": 27.912341883718938, \"wind\": 45.94389098129158, \"precipitation\": 87.71806691348185, \"condition\": \"sun\"}, {\"temperature\": 28.827008981675903, \"wind\": 14.352645600160752, \"precipitation\": 95.30777240838884, \"condition\": \"sun\"}, {\"temperature\": -5.245472855196331, \"wind\": 24.463633090927274, \"precipitation\": 63.1630488725617, \"condition\": \"fog\"}, {\"temperature\": -4.738627417736829, \"wind\": 87.61779675788263, \"precipitation\": 67.17488470646667, \"condition\": \"fog\"}, {\"temperature\": -1.6463371096382655, \"wind\": 34.15953757649686, \"precipitation\": 83.20021064524306, \"condition\": \"rain\"}, {\"temperature\": -8.671469939339552, \"wind\": 28.02148157701091, \"precipitation\": 8.858286414027772, \"condition\": \"snow\"}, {\"temperature\": 23.586980668182306, \"wind\": 32.61177727202879, \"precipitation\": 90.55384722692395, \"condition\": \"snow\"}, {\"temperature\": 42.93552301196303, \"wind\": 17.459007963452034, \"precipitation\": 76.26693620563219, \"condition\": \"sun\"}, {\"temperature\": 14.04271616398174, \"wind\": 31.44611970670743, \"precipitation\": 27.736449442339893, \"condition\": \"rain\"}, {\"temperature\": 33.93136729382773, \"wind\": 85.0980112392488, \"precipitation\": 48.72266227519502, \"condition\": \"fog\"}, {\"temperature\": 29.10713627050935, \"wind\": 25.401508775422734, \"precipitation\": 83.25120184383715, \"condition\": \"fog\"}, {\"temperature\": 23.33130010979005, \"wind\": 38.960479467358745, \"precipitation\": 84.8094568801428, \"condition\": \"rain\"}, {\"temperature\": 27.820447049966695, \"wind\": 97.47611794506456, \"precipitation\": 59.404606053602336, \"condition\": \"fog\"}, {\"temperature\": 24.704809156505995, \"wind\": 56.929461372432655, \"precipitation\": 16.583726619344496, \"condition\": \"drizzle\"}, {\"temperature\": 42.73839675123029, \"wind\": 19.024929246369528, \"precipitation\": 37.515692671204135, \"condition\": \"sun\"}, {\"temperature\": 39.73480992464111, \"wind\": 63.10268501376382, \"precipitation\": 15.20512544845365, \"condition\": \"fog\"}, {\"temperature\": 34.928857478491054, \"wind\": 44.34437827092474, \"precipitation\": 2.9919970218495684, \"condition\": \"sun\"}, {\"temperature\": 12.475457440238529, \"wind\": 45.63508245761745, \"precipitation\": 1.5684442569828705, \"condition\": \"fog\"}, {\"temperature\": 11.485742656702111, \"wind\": 35.43011450755876, \"precipitation\": 46.843314320146966, \"condition\": \"fog\"}, {\"temperature\": 16.58332024159822, \"wind\": 85.9387003246595, \"precipitation\": 67.67417859666371, \"condition\": \"sun\"}, {\"temperature\": 42.96961504747511, \"wind\": 61.02100908610409, \"precipitation\": 40.19537213295094, \"condition\": \"snow\"}, {\"temperature\": 43.01306682260888, \"wind\": 91.58796490357004, \"precipitation\": 10.242970289225461, \"condition\": \"sun\"}, {\"temperature\": 17.888206090116245, \"wind\": 29.82373325722851, \"precipitation\": 44.29455934969246, \"condition\": \"sun\"}, {\"temperature\": 13.700882757230424, \"wind\": 46.93705512034313, \"precipitation\": 76.07676796446637, \"condition\": \"rain\"}, {\"temperature\": 4.986331720563626, \"wind\": 81.90760931416689, \"precipitation\": 34.892239668746406, \"condition\": \"drizzle\"}, {\"temperature\": -1.4778346288931683, \"wind\": 3.9791854357363987, \"precipitation\": 7.535152538482148, \"condition\": \"drizzle\"}, {\"temperature\": 16.892161248783623, \"wind\": 31.993361074291926, \"precipitation\": 60.46401934620111, \"condition\": \"drizzle\"}, {\"temperature\": -7.17506030059671, \"wind\": 5.042336185555952, \"precipitation\": 88.35922403405787, \"condition\": \"drizzle\"}, {\"temperature\": 9.85908134441586, \"wind\": 48.491362316119236, \"precipitation\": 23.80248472573617, \"condition\": \"snow\"}, {\"temperature\": 28.54368725395195, \"wind\": 5.72748587709313, \"precipitation\": 25.974359374267742, \"condition\": \"drizzle\"}, {\"temperature\": 41.85044222939622, \"wind\": 3.311333417116047, \"precipitation\": 1.7918023488591839, \"condition\": \"snow\"}, {\"temperature\": 39.51847585775124, \"wind\": 89.64939452111453, \"precipitation\": 48.53950512768904, \"condition\": \"fog\"}, {\"temperature\": 4.1511791382858725, \"wind\": 58.14172937556887, \"precipitation\": 79.66452798481971, \"condition\": \"drizzle\"}, {\"temperature\": 7.316849144326355, \"wind\": 6.796864846855866, \"precipitation\": 33.619090549629306, \"condition\": \"snow\"}, {\"temperature\": -6.040726652488083, \"wind\": 24.37214720554359, \"precipitation\": 71.46568853073089, \"condition\": \"rain\"}, {\"temperature\": 28.05026452008928, \"wind\": 19.39989397387041, \"precipitation\": 71.68725771245654, \"condition\": \"drizzle\"}, {\"temperature\": 35.30623993317926, \"wind\": 66.54091843981752, \"precipitation\": 22.884049790672588, \"condition\": \"rain\"}, {\"temperature\": -9.078168118751755, \"wind\": 54.53321547753263, \"precipitation\": 66.43449936744369, \"condition\": \"sun\"}, {\"temperature\": 34.31111609068961, \"wind\": 92.79899053872957, \"precipitation\": 61.9431928594434, \"condition\": \"sun\"}, {\"temperature\": -0.5340863902706268, \"wind\": 89.18484464889846, \"precipitation\": 88.49655552922172, \"condition\": \"rain\"}, {\"temperature\": -7.331283732097262, \"wind\": 16.43300088620039, \"precipitation\": 92.15523633598885, \"condition\": \"drizzle\"}, {\"temperature\": 34.4512940591614, \"wind\": 16.982566694713043, \"precipitation\": 66.50391898652623, \"condition\": \"fog\"}, {\"temperature\": 2.292195972387347, \"wind\": 78.07758659490037, \"precipitation\": 85.08941323813521, \"condition\": \"snow\"}, {\"temperature\": 10.280188069701488, \"wind\": 64.37598506985243, \"precipitation\": 46.13428294966927, \"condition\": \"sun\"}, {\"temperature\": 14.385637791164196, \"wind\": 27.710246014732775, \"precipitation\": 82.18132103083111, \"condition\": \"rain\"}, {\"temperature\": 15.068929930658907, \"wind\": 90.37313777532859, \"precipitation\": 95.42688091272505, \"condition\": \"rain\"}, {\"temperature\": -5.931704200276687, \"wind\": 76.30697305192514, \"precipitation\": 48.17926018036856, \"condition\": \"drizzle\"}, {\"temperature\": -1.2238906425326128, \"wind\": 77.25655113115953, \"precipitation\": 12.189057445370022, \"condition\": \"sun\"}, {\"temperature\": 17.981273164150583, \"wind\": 99.8855194023956, \"precipitation\": 5.951490853046981, \"condition\": \"drizzle\"}, {\"temperature\": 8.333054222089164, \"wind\": 22.351144710727677, \"precipitation\": 1.9907985646430038, \"condition\": \"rain\"}, {\"temperature\": 40.99117292213711, \"wind\": 12.537186007473021, \"precipitation\": 3.0957134444521195, \"condition\": \"drizzle\"}, {\"temperature\": 36.29560583814439, \"wind\": 47.282861379528676, \"precipitation\": 50.72175472263106, \"condition\": \"fog\"}, {\"temperature\": 8.011942225789358, \"wind\": 80.64679426688298, \"precipitation\": 84.74031260132877, \"condition\": \"sun\"}, {\"temperature\": 32.64189921238727, \"wind\": 78.38867921926278, \"precipitation\": 94.27015659699374, \"condition\": \"fog\"}, {\"temperature\": -4.159829210634211, \"wind\": 53.39060475873939, \"precipitation\": 50.60795287404672, \"condition\": \"fog\"}, {\"temperature\": -6.602296737522483, \"wind\": 86.55899134629715, \"precipitation\": 62.64697378600636, \"condition\": \"fog\"}, {\"temperature\": 40.135239145180655, \"wind\": 16.633704419495032, \"precipitation\": 41.391087682479736, \"condition\": \"drizzle\"}, {\"temperature\": 26.95881305440288, \"wind\": 85.8809786017975, \"precipitation\": 71.9617762842435, \"condition\": \"drizzle\"}, {\"temperature\": 11.92991543604046, \"wind\": 76.39140196294017, \"precipitation\": 60.40612399492309, \"condition\": \"drizzle\"}, {\"temperature\": 19.566301202766702, \"wind\": 72.97802286558691, \"precipitation\": 29.681848692175006, \"condition\": \"drizzle\"}, {\"temperature\": 10.481864045771506, \"wind\": 10.269367839292642, \"precipitation\": 85.87287289024248, \"condition\": \"rain\"}, {\"temperature\": -9.620152753805623, \"wind\": 64.57630699894213, \"precipitation\": 29.06583641537993, \"condition\": \"drizzle\"}, {\"temperature\": 24.85823346816882, \"wind\": 64.44200648973889, \"precipitation\": 32.79358601401415, \"condition\": \"sun\"}, {\"temperature\": -9.71401231081625, \"wind\": 46.94482107365025, \"precipitation\": 71.95828763550503, \"condition\": \"rain\"}, {\"temperature\": 15.802582568794556, \"wind\": 5.568264782160037, \"precipitation\": 16.50277435360922, \"condition\": \"sun\"}, {\"temperature\": 29.44740698845427, \"wind\": 66.4224540835048, \"precipitation\": 96.91347272575433, \"condition\": \"snow\"}, {\"temperature\": 0.1789559651072139, \"wind\": 37.144396583281235, \"precipitation\": 7.3927878065009445, \"condition\": \"snow\"}, {\"temperature\": 37.90262114384076, \"wind\": 23.744567572534315, \"precipitation\": 85.44013318397162, \"condition\": \"fog\"}, {\"temperature\": 40.40503203411964, \"wind\": 71.68155336881077, \"precipitation\": 91.260802513042, \"condition\": \"snow\"}, {\"temperature\": 2.723433474361908, \"wind\": 5.85694236985378, \"precipitation\": 54.0295184169758, \"condition\": \"drizzle\"}, {\"temperature\": 9.452609321039336, \"wind\": 52.7843932253772, \"precipitation\": 90.04450333194686, \"condition\": \"fog\"}, {\"temperature\": 18.909153974667404, \"wind\": 13.725377509230263, \"precipitation\": 34.56974350594094, \"condition\": \"sun\"}]}}, {\"mode\": \"vega-lite\"});\n",
       "</script>"
      ],
      "text/plain": [
       "alt.Chart(...)"
      ]
     },
     "metadata": {},
     "output_type": "display_data"
    }
   ],
   "source": [
    "base = alt.Chart(df)\n",
    "bar = base.mark_bar().encode(\n",
    "    x=alt.X(\n",
    "        field=\"temperature\",\n",
    "        type=\"quantitative\",\n",
    "        aggregate=\"count\",\n",
    "        stack=\"normalize\",\n",
    "        scale=alt.Scale(type=\"linear\", zero=True),\n",
    "    ),\n",
    "    y=alt.Y(\n",
    "        field=\"temperature\",\n",
    "        type=\"quantitative\",\n",
    "        bin=alt.Bin(maxbins=10),\n",
    "        scale=alt.Scale(type=\"linear\"),\n",
    "    ),\n",
    "    color=alt.Color(field=\"condition\", type=\"nominal\"),\n",
    ")\n",
    "display_chart(bar)"
   ]
  },
  {
   "cell_type": "markdown",
   "metadata": {},
   "source": [
    "## Multi Mark (Layered) Charts"
   ]
  },
  {
   "cell_type": "markdown",
   "metadata": {},
   "source": [
    "### Bar with a Tick"
   ]
  },
  {
   "cell_type": "code",
   "execution_count": 30,
   "metadata": {},
   "outputs": [
    {
     "name": "stdout",
     "output_type": "stream",
     "text": [
      "{'field': [{'name': 'temperature', 'type': 'number'}],\n",
      " 'number_rows': 100,\n",
      " 'view': [{'mark': [{'encoding': [{'aggregate': 'mean',\n",
      "                                   'channel': 'x',\n",
      "                                   'field': 'temperature'}],\n",
      "                     'type': 'bar'},\n",
      "                    {'encoding': [{'channel': 'x', 'field': 'temperature'}],\n",
      "                     'type': 'tick'}],\n",
      "           'scale': [{'channel': 'x', 'type': 'linear', 'zero': 'true'}]}]}\n"
     ]
    }
   ],
   "source": [
    "facts = [\n",
    "    \"attribute(number_rows,root,100).\",\n",
    "    \"entity(field,root,temperature).\",\n",
    "    \"attribute((field,name),temperature,temperature).\",\n",
    "    \"attribute((field,type),temperature,number).\",\n",
    "    \"entity(view,root,0).\",\n",
    "    \"entity(mark,0,1).\",\n",
    "    \"attribute((mark,type),1,bar).\",\n",
    "    \"entity(encoding,1,2).\",\n",
    "    \"attribute((encoding,channel),2,x).\",\n",
    "    \"attribute((encoding,aggregate),2,mean).\",\n",
    "    \"attribute((encoding,field),2,temperature).\",\n",
    "    \"entity(mark,0,3).\",\n",
    "    \"attribute((mark,type),3,tick).\",\n",
    "    \"entity(encoding,3,4).\",\n",
    "    \"attribute((encoding,channel),4,x).\",\n",
    "    \"attribute((encoding,field),4,temperature).\",\n",
    "    \"entity(scale,0,5).\",\n",
    "    \"attribute((scale,channel),5,x).\",\n",
    "    \"attribute((scale,type),5,linear).\",\n",
    "    \"attribute((scale,zero),5,true).\",\n",
    "]\n",
    "spec = facts_to_dict(facts)\n",
    "pprint(spec)"
   ]
  },
  {
   "cell_type": "code",
   "execution_count": 31,
   "metadata": {},
   "outputs": [
    {
     "name": "stdout",
     "output_type": "stream",
     "text": [
      "{'$schema': 'https://vega.github.io/schema/vega-lite/v4.17.0.json',\n",
      " 'config': {'view': {'continuousHeight': 300, 'continuousWidth': 400}},\n",
      " 'layer': [{'encoding': {'x': {'aggregate': 'mean',\n",
      "                               'field': 'temperature',\n",
      "                               'scale': {'type': 'linear', 'zero': True},\n",
      "                               'type': 'quantitative'}},\n",
      "            'mark': 'bar'},\n",
      "           {'encoding': {'x': {'field': 'temperature',\n",
      "                               'scale': {'type': 'linear', 'zero': True},\n",
      "                               'type': 'quantitative'}},\n",
      "            'mark': 'tick'}]}\n"
     ]
    },
    {
     "data": {
      "text/html": [
       "\n",
       "<div id=\"altair-viz-45720aa0ec83459e9eae24acc922a7e2\"></div>\n",
       "<script type=\"text/javascript\">\n",
       "  var VEGA_DEBUG = (typeof VEGA_DEBUG == \"undefined\") ? {} : VEGA_DEBUG;\n",
       "  (function(spec, embedOpt){\n",
       "    let outputDiv = document.currentScript.previousElementSibling;\n",
       "    if (outputDiv.id !== \"altair-viz-45720aa0ec83459e9eae24acc922a7e2\") {\n",
       "      outputDiv = document.getElementById(\"altair-viz-45720aa0ec83459e9eae24acc922a7e2\");\n",
       "    }\n",
       "    const paths = {\n",
       "      \"vega\": \"https://cdn.jsdelivr.net/npm//vega@5?noext\",\n",
       "      \"vega-lib\": \"https://cdn.jsdelivr.net/npm//vega-lib?noext\",\n",
       "      \"vega-lite\": \"https://cdn.jsdelivr.net/npm//vega-lite@4.17.0?noext\",\n",
       "      \"vega-embed\": \"https://cdn.jsdelivr.net/npm//vega-embed@6?noext\",\n",
       "    };\n",
       "\n",
       "    function maybeLoadScript(lib, version) {\n",
       "      var key = `${lib.replace(\"-\", \"\")}_version`;\n",
       "      return (VEGA_DEBUG[key] == version) ?\n",
       "        Promise.resolve(paths[lib]) :\n",
       "        new Promise(function(resolve, reject) {\n",
       "          var s = document.createElement('script');\n",
       "          document.getElementsByTagName(\"head\")[0].appendChild(s);\n",
       "          s.async = true;\n",
       "          s.onload = () => {\n",
       "            VEGA_DEBUG[key] = version;\n",
       "            return resolve(paths[lib]);\n",
       "          };\n",
       "          s.onerror = () => reject(`Error loading script: ${paths[lib]}`);\n",
       "          s.src = paths[lib];\n",
       "        });\n",
       "    }\n",
       "\n",
       "    function showError(err) {\n",
       "      outputDiv.innerHTML = `<div class=\"error\" style=\"color:red;\">${err}</div>`;\n",
       "      throw err;\n",
       "    }\n",
       "\n",
       "    function displayChart(vegaEmbed) {\n",
       "      vegaEmbed(outputDiv, spec, embedOpt)\n",
       "        .catch(err => showError(`Javascript Error: ${err.message}<br>This usually means there's a typo in your chart specification. See the javascript console for the full traceback.`));\n",
       "    }\n",
       "\n",
       "    if(typeof define === \"function\" && define.amd) {\n",
       "      requirejs.config({paths});\n",
       "      require([\"vega-embed\"], displayChart, err => showError(`Error loading script: ${err.message}`));\n",
       "    } else {\n",
       "      maybeLoadScript(\"vega\", \"5\")\n",
       "        .then(() => maybeLoadScript(\"vega-lite\", \"4.17.0\"))\n",
       "        .then(() => maybeLoadScript(\"vega-embed\", \"6\"))\n",
       "        .catch(showError)\n",
       "        .then(() => displayChart(vegaEmbed));\n",
       "    }\n",
       "  })({\"config\": {\"view\": {\"continuousWidth\": 400, \"continuousHeight\": 300}}, \"layer\": [{\"mark\": \"bar\", \"encoding\": {\"x\": {\"aggregate\": \"mean\", \"field\": \"temperature\", \"scale\": {\"type\": \"linear\", \"zero\": true}, \"type\": \"quantitative\"}}}, {\"mark\": \"tick\", \"encoding\": {\"x\": {\"field\": \"temperature\", \"scale\": {\"type\": \"linear\", \"zero\": true}, \"type\": \"quantitative\"}}}], \"data\": {\"name\": \"data-124c435c1b687eb7890344117a1c86b4\"}, \"$schema\": \"https://vega.github.io/schema/vega-lite/v4.17.0.json\", \"datasets\": {\"data-124c435c1b687eb7890344117a1c86b4\": [{\"temperature\": 17.89365303788651, \"wind\": 78.75685633883592, \"precipitation\": 41.61124606702779, \"condition\": \"rain\"}, {\"temperature\": 5.622818441769336, \"wind\": 25.421998841055917, \"precipitation\": 74.90555083684964, \"condition\": \"rain\"}, {\"temperature\": 23.3902094090436, \"wind\": 9.846103163487696, \"precipitation\": 81.33536438710783, \"condition\": \"rain\"}, {\"temperature\": 20.889554427248395, \"wind\": 27.53521295661492, \"precipitation\": 27.6549324712597, \"condition\": \"drizzle\"}, {\"temperature\": 33.91026207788065, \"wind\": 97.91032820138525, \"precipitation\": 36.53494267552425, \"condition\": \"snow\"}, {\"temperature\": 39.65611406756084, \"wind\": 24.27383951799732, \"precipitation\": 33.38647147375286, \"condition\": \"rain\"}, {\"temperature\": 5.670659801967243, \"wind\": 98.20197823012846, \"precipitation\": 93.72832557739356, \"condition\": \"snow\"}, {\"temperature\": -2.2776070811204505, \"wind\": 77.90443786588797, \"precipitation\": 50.102310147035375, \"condition\": \"drizzle\"}, {\"temperature\": 43.104548648992775, \"wind\": 74.77698982401796, \"precipitation\": 89.95647852559429, \"condition\": \"sun\"}, {\"temperature\": 1.8049661385207525, \"wind\": 91.29152261118769, \"precipitation\": 29.77145087552332, \"condition\": \"fog\"}, {\"temperature\": 14.327115187571408, \"wind\": 45.054261048821296, \"precipitation\": 17.654846400296798, \"condition\": \"drizzle\"}, {\"temperature\": 25.44797791508993, \"wind\": 22.265267642454656, \"precipitation\": 60.37929677885421, \"condition\": \"drizzle\"}, {\"temperature\": 11.19016835531465, \"wind\": 77.30294308487814, \"precipitation\": 71.65443847888368, \"condition\": \"snow\"}, {\"temperature\": 22.948827407585433, \"wind\": 27.03785915458824, \"precipitation\": 92.68901140573688, \"condition\": \"snow\"}, {\"temperature\": 33.16555388154543, \"wind\": 92.1292103045794, \"precipitation\": 39.10838647644195, \"condition\": \"snow\"}, {\"temperature\": 9.981393546660723, \"wind\": 66.73004528306666, \"precipitation\": 19.36957583451713, \"condition\": \"drizzle\"}, {\"temperature\": 2.837559858993796, \"wind\": 18.62443662393004, \"precipitation\": 57.42273968155751, \"condition\": \"sun\"}, {\"temperature\": 39.14290590745285, \"wind\": 32.52859013259527, \"precipitation\": 88.21897530715309, \"condition\": \"rain\"}, {\"temperature\": 39.2325438266719, \"wind\": 2.511353474345024, \"precipitation\": 78.95158173752907, \"condition\": \"fog\"}, {\"temperature\": 2.949456835649645, \"wind\": 1.9370157264502197, \"precipitation\": 3.5337114891518584, \"condition\": \"fog\"}, {\"temperature\": 28.422917308067277, \"wind\": 6.822434636914776, \"precipitation\": 84.5655158038795, \"condition\": \"fog\"}, {\"temperature\": 28.406344711783838, \"wind\": 95.25216996998444, \"precipitation\": 2.312429289727791, \"condition\": \"fog\"}, {\"temperature\": 23.929825809705775, \"wind\": 28.441727967722407, \"precipitation\": 94.94371547195382, \"condition\": \"drizzle\"}, {\"temperature\": 25.144603850494207, \"wind\": 5.7248518372133965, \"precipitation\": 72.55961327284773, \"condition\": \"drizzle\"}, {\"temperature\": -3.1069016270510676, \"wind\": 90.56068308052812, \"precipitation\": 8.208347981870512, \"condition\": \"rain\"}, {\"temperature\": 43.07443333444708, \"wind\": 63.33777651825151, \"precipitation\": 35.343598004733714, \"condition\": \"sun\"}, {\"temperature\": -8.715631484900875, \"wind\": 78.50049089036061, \"precipitation\": 16.726772866900042, \"condition\": \"fog\"}, {\"temperature\": 10.058625587365142, \"wind\": 82.55410159133031, \"precipitation\": 49.82193593499935, \"condition\": \"fog\"}, {\"temperature\": 27.912341883718938, \"wind\": 45.94389098129158, \"precipitation\": 87.71806691348185, \"condition\": \"sun\"}, {\"temperature\": 28.827008981675903, \"wind\": 14.352645600160752, \"precipitation\": 95.30777240838884, \"condition\": \"sun\"}, {\"temperature\": -5.245472855196331, \"wind\": 24.463633090927274, \"precipitation\": 63.1630488725617, \"condition\": \"fog\"}, {\"temperature\": -4.738627417736829, \"wind\": 87.61779675788263, \"precipitation\": 67.17488470646667, \"condition\": \"fog\"}, {\"temperature\": -1.6463371096382655, \"wind\": 34.15953757649686, \"precipitation\": 83.20021064524306, \"condition\": \"rain\"}, {\"temperature\": -8.671469939339552, \"wind\": 28.02148157701091, \"precipitation\": 8.858286414027772, \"condition\": \"snow\"}, {\"temperature\": 23.586980668182306, \"wind\": 32.61177727202879, \"precipitation\": 90.55384722692395, \"condition\": \"snow\"}, {\"temperature\": 42.93552301196303, \"wind\": 17.459007963452034, \"precipitation\": 76.26693620563219, \"condition\": \"sun\"}, {\"temperature\": 14.04271616398174, \"wind\": 31.44611970670743, \"precipitation\": 27.736449442339893, \"condition\": \"rain\"}, {\"temperature\": 33.93136729382773, \"wind\": 85.0980112392488, \"precipitation\": 48.72266227519502, \"condition\": \"fog\"}, {\"temperature\": 29.10713627050935, \"wind\": 25.401508775422734, \"precipitation\": 83.25120184383715, \"condition\": \"fog\"}, {\"temperature\": 23.33130010979005, \"wind\": 38.960479467358745, \"precipitation\": 84.8094568801428, \"condition\": \"rain\"}, {\"temperature\": 27.820447049966695, \"wind\": 97.47611794506456, \"precipitation\": 59.404606053602336, \"condition\": \"fog\"}, {\"temperature\": 24.704809156505995, \"wind\": 56.929461372432655, \"precipitation\": 16.583726619344496, \"condition\": \"drizzle\"}, {\"temperature\": 42.73839675123029, \"wind\": 19.024929246369528, \"precipitation\": 37.515692671204135, \"condition\": \"sun\"}, {\"temperature\": 39.73480992464111, \"wind\": 63.10268501376382, \"precipitation\": 15.20512544845365, \"condition\": \"fog\"}, {\"temperature\": 34.928857478491054, \"wind\": 44.34437827092474, \"precipitation\": 2.9919970218495684, \"condition\": \"sun\"}, {\"temperature\": 12.475457440238529, \"wind\": 45.63508245761745, \"precipitation\": 1.5684442569828705, \"condition\": \"fog\"}, {\"temperature\": 11.485742656702111, \"wind\": 35.43011450755876, \"precipitation\": 46.843314320146966, \"condition\": \"fog\"}, {\"temperature\": 16.58332024159822, \"wind\": 85.9387003246595, \"precipitation\": 67.67417859666371, \"condition\": \"sun\"}, {\"temperature\": 42.96961504747511, \"wind\": 61.02100908610409, \"precipitation\": 40.19537213295094, \"condition\": \"snow\"}, {\"temperature\": 43.01306682260888, \"wind\": 91.58796490357004, \"precipitation\": 10.242970289225461, \"condition\": \"sun\"}, {\"temperature\": 17.888206090116245, \"wind\": 29.82373325722851, \"precipitation\": 44.29455934969246, \"condition\": \"sun\"}, {\"temperature\": 13.700882757230424, \"wind\": 46.93705512034313, \"precipitation\": 76.07676796446637, \"condition\": \"rain\"}, {\"temperature\": 4.986331720563626, \"wind\": 81.90760931416689, \"precipitation\": 34.892239668746406, \"condition\": \"drizzle\"}, {\"temperature\": -1.4778346288931683, \"wind\": 3.9791854357363987, \"precipitation\": 7.535152538482148, \"condition\": \"drizzle\"}, {\"temperature\": 16.892161248783623, \"wind\": 31.993361074291926, \"precipitation\": 60.46401934620111, \"condition\": \"drizzle\"}, {\"temperature\": -7.17506030059671, \"wind\": 5.042336185555952, \"precipitation\": 88.35922403405787, \"condition\": \"drizzle\"}, {\"temperature\": 9.85908134441586, \"wind\": 48.491362316119236, \"precipitation\": 23.80248472573617, \"condition\": \"snow\"}, {\"temperature\": 28.54368725395195, \"wind\": 5.72748587709313, \"precipitation\": 25.974359374267742, \"condition\": \"drizzle\"}, {\"temperature\": 41.85044222939622, \"wind\": 3.311333417116047, \"precipitation\": 1.7918023488591839, \"condition\": \"snow\"}, {\"temperature\": 39.51847585775124, \"wind\": 89.64939452111453, \"precipitation\": 48.53950512768904, \"condition\": \"fog\"}, {\"temperature\": 4.1511791382858725, \"wind\": 58.14172937556887, \"precipitation\": 79.66452798481971, \"condition\": \"drizzle\"}, {\"temperature\": 7.316849144326355, \"wind\": 6.796864846855866, \"precipitation\": 33.619090549629306, \"condition\": \"snow\"}, {\"temperature\": -6.040726652488083, \"wind\": 24.37214720554359, \"precipitation\": 71.46568853073089, \"condition\": \"rain\"}, {\"temperature\": 28.05026452008928, \"wind\": 19.39989397387041, \"precipitation\": 71.68725771245654, \"condition\": \"drizzle\"}, {\"temperature\": 35.30623993317926, \"wind\": 66.54091843981752, \"precipitation\": 22.884049790672588, \"condition\": \"rain\"}, {\"temperature\": -9.078168118751755, \"wind\": 54.53321547753263, \"precipitation\": 66.43449936744369, \"condition\": \"sun\"}, {\"temperature\": 34.31111609068961, \"wind\": 92.79899053872957, \"precipitation\": 61.9431928594434, \"condition\": \"sun\"}, {\"temperature\": -0.5340863902706268, \"wind\": 89.18484464889846, \"precipitation\": 88.49655552922172, \"condition\": \"rain\"}, {\"temperature\": -7.331283732097262, \"wind\": 16.43300088620039, \"precipitation\": 92.15523633598885, \"condition\": \"drizzle\"}, {\"temperature\": 34.4512940591614, \"wind\": 16.982566694713043, \"precipitation\": 66.50391898652623, \"condition\": \"fog\"}, {\"temperature\": 2.292195972387347, \"wind\": 78.07758659490037, \"precipitation\": 85.08941323813521, \"condition\": \"snow\"}, {\"temperature\": 10.280188069701488, \"wind\": 64.37598506985243, \"precipitation\": 46.13428294966927, \"condition\": \"sun\"}, {\"temperature\": 14.385637791164196, \"wind\": 27.710246014732775, \"precipitation\": 82.18132103083111, \"condition\": \"rain\"}, {\"temperature\": 15.068929930658907, \"wind\": 90.37313777532859, \"precipitation\": 95.42688091272505, \"condition\": \"rain\"}, {\"temperature\": -5.931704200276687, \"wind\": 76.30697305192514, \"precipitation\": 48.17926018036856, \"condition\": \"drizzle\"}, {\"temperature\": -1.2238906425326128, \"wind\": 77.25655113115953, \"precipitation\": 12.189057445370022, \"condition\": \"sun\"}, {\"temperature\": 17.981273164150583, \"wind\": 99.8855194023956, \"precipitation\": 5.951490853046981, \"condition\": \"drizzle\"}, {\"temperature\": 8.333054222089164, \"wind\": 22.351144710727677, \"precipitation\": 1.9907985646430038, \"condition\": \"rain\"}, {\"temperature\": 40.99117292213711, \"wind\": 12.537186007473021, \"precipitation\": 3.0957134444521195, \"condition\": \"drizzle\"}, {\"temperature\": 36.29560583814439, \"wind\": 47.282861379528676, \"precipitation\": 50.72175472263106, \"condition\": \"fog\"}, {\"temperature\": 8.011942225789358, \"wind\": 80.64679426688298, \"precipitation\": 84.74031260132877, \"condition\": \"sun\"}, {\"temperature\": 32.64189921238727, \"wind\": 78.38867921926278, \"precipitation\": 94.27015659699374, \"condition\": \"fog\"}, {\"temperature\": -4.159829210634211, \"wind\": 53.39060475873939, \"precipitation\": 50.60795287404672, \"condition\": \"fog\"}, {\"temperature\": -6.602296737522483, \"wind\": 86.55899134629715, \"precipitation\": 62.64697378600636, \"condition\": \"fog\"}, {\"temperature\": 40.135239145180655, \"wind\": 16.633704419495032, \"precipitation\": 41.391087682479736, \"condition\": \"drizzle\"}, {\"temperature\": 26.95881305440288, \"wind\": 85.8809786017975, \"precipitation\": 71.9617762842435, \"condition\": \"drizzle\"}, {\"temperature\": 11.92991543604046, \"wind\": 76.39140196294017, \"precipitation\": 60.40612399492309, \"condition\": \"drizzle\"}, {\"temperature\": 19.566301202766702, \"wind\": 72.97802286558691, \"precipitation\": 29.681848692175006, \"condition\": \"drizzle\"}, {\"temperature\": 10.481864045771506, \"wind\": 10.269367839292642, \"precipitation\": 85.87287289024248, \"condition\": \"rain\"}, {\"temperature\": -9.620152753805623, \"wind\": 64.57630699894213, \"precipitation\": 29.06583641537993, \"condition\": \"drizzle\"}, {\"temperature\": 24.85823346816882, \"wind\": 64.44200648973889, \"precipitation\": 32.79358601401415, \"condition\": \"sun\"}, {\"temperature\": -9.71401231081625, \"wind\": 46.94482107365025, \"precipitation\": 71.95828763550503, \"condition\": \"rain\"}, {\"temperature\": 15.802582568794556, \"wind\": 5.568264782160037, \"precipitation\": 16.50277435360922, \"condition\": \"sun\"}, {\"temperature\": 29.44740698845427, \"wind\": 66.4224540835048, \"precipitation\": 96.91347272575433, \"condition\": \"snow\"}, {\"temperature\": 0.1789559651072139, \"wind\": 37.144396583281235, \"precipitation\": 7.3927878065009445, \"condition\": \"snow\"}, {\"temperature\": 37.90262114384076, \"wind\": 23.744567572534315, \"precipitation\": 85.44013318397162, \"condition\": \"fog\"}, {\"temperature\": 40.40503203411964, \"wind\": 71.68155336881077, \"precipitation\": 91.260802513042, \"condition\": \"snow\"}, {\"temperature\": 2.723433474361908, \"wind\": 5.85694236985378, \"precipitation\": 54.0295184169758, \"condition\": \"drizzle\"}, {\"temperature\": 9.452609321039336, \"wind\": 52.7843932253772, \"precipitation\": 90.04450333194686, \"condition\": \"fog\"}, {\"temperature\": 18.909153974667404, \"wind\": 13.725377509230263, \"precipitation\": 34.56974350594094, \"condition\": \"sun\"}]}}, {\"mode\": \"vega-lite\"});\n",
       "</script>"
      ],
      "text/plain": [
       "alt.LayerChart(...)"
      ]
     },
     "metadata": {},
     "output_type": "display_data"
    }
   ],
   "source": [
    "base = alt.Chart(df)\n",
    "bar = base.mark_bar().encode(\n",
    "    x=alt.X(\n",
    "        field=\"temperature\",\n",
    "        type=\"quantitative\",\n",
    "        aggregate=\"mean\",\n",
    "        scale=alt.Scale(type=\"linear\", zero=True),\n",
    "    ),\n",
    ")\n",
    "tick = base.mark_tick().encode(\n",
    "    x=alt.X(\n",
    "        field=\"temperature\",\n",
    "        type=\"quantitative\",\n",
    "        scale=alt.Scale(type=\"linear\", zero=True),\n",
    "    ),\n",
    ")\n",
    "display_chart(bar + tick)"
   ]
  },
  {
   "cell_type": "markdown",
   "metadata": {},
   "source": [
    "## Facets"
   ]
  },
  {
   "cell_type": "markdown",
   "metadata": {},
   "source": [
    "### Facet Scatterplot into Columns"
   ]
  },
  {
   "cell_type": "code",
   "execution_count": 32,
   "metadata": {},
   "outputs": [
    {
     "name": "stdout",
     "output_type": "stream",
     "text": [
      "{'field': [{'name': 'temperature', 'type': 'number'},\n",
      "           {'name': 'wind', 'type': 'number'},\n",
      "           {'name': 'condition', 'type': 'string'}],\n",
      " 'number_rows': 100,\n",
      " 'view': [{'facet': [{'channel': 'col', 'field': 'condition'}],\n",
      "           'mark': [{'encoding': [{'channel': 'x', 'field': 'temperature'},\n",
      "                                  {'channel': 'y', 'field': 'wind'}],\n",
      "                     'type': 'point'}],\n",
      "           'scale': [{'channel': 'x', 'type': 'linear'},\n",
      "                     {'channel': 'y', 'type': 'linear'}]}]}\n"
     ]
    }
   ],
   "source": [
    "facts = [\n",
    "    \"attribute(number_rows,root,100).\",\n",
    "    \"entity(field,root,temperature).\",\n",
    "    \"attribute((field,name),temperature,temperature).\",\n",
    "    \"attribute((field,type),temperature,number).\",\n",
    "    \"entity(field,root,wind).\",\n",
    "    \"attribute((field,name),wind,wind).\",\n",
    "    \"attribute((field,type),wind,number).\",\n",
    "    \"entity(field,root,condition).\",\n",
    "    \"attribute((field,name),condition,condition).\",\n",
    "    \"attribute((field,type),condition,string).\",\n",
    "    \"entity(view,root,0).\",\n",
    "    \"entity(mark,0,1).\",\n",
    "    \"attribute((mark,type),1,point).\",\n",
    "    \"entity(encoding,1,2).\",\n",
    "    \"attribute((encoding,channel),2,x).\",\n",
    "    \"attribute((encoding,field),2,temperature).\",\n",
    "    \"entity(encoding,1,3).\",\n",
    "    \"attribute((encoding,channel),3,y).\",\n",
    "    \"attribute((encoding,field),3,wind).\",\n",
    "    \"entity(scale,0,4).\",\n",
    "    \"attribute((scale,channel),4,x).\",\n",
    "    \"attribute((scale,type),4,linear).\",\n",
    "    \"entity(scale,0,5).\",\n",
    "    \"attribute((scale,channel),5,y).\",\n",
    "    \"attribute((scale,type),5,linear).\",\n",
    "    \"entity(facet,0,6).\",\n",
    "    \"attribute((facet,channel),6,col).\",\n",
    "    \"attribute((facet,field),6,condition).\",\n",
    "]\n",
    "spec = facts_to_dict(facts)\n",
    "pprint(spec)"
   ]
  },
  {
   "cell_type": "code",
   "execution_count": 33,
   "metadata": {},
   "outputs": [
    {
     "name": "stdout",
     "output_type": "stream",
     "text": [
      "{'$schema': 'https://vega.github.io/schema/vega-lite/v4.17.0.json',\n",
      " 'config': {'view': {'continuousHeight': 300, 'continuousWidth': 400}},\n",
      " 'facet': {'column': {'field': 'condition', 'type': 'nominal'}},\n",
      " 'spec': {'encoding': {'x': {'field': 'temperature', 'type': 'quantitative'},\n",
      "                       'y': {'field': 'wind', 'type': 'quantitative'}},\n",
      "          'mark': 'point'}}\n"
     ]
    },
    {
     "data": {
      "text/html": [
       "\n",
       "<div id=\"altair-viz-78c0ce065a314936aedb0821d8e70086\"></div>\n",
       "<script type=\"text/javascript\">\n",
       "  var VEGA_DEBUG = (typeof VEGA_DEBUG == \"undefined\") ? {} : VEGA_DEBUG;\n",
       "  (function(spec, embedOpt){\n",
       "    let outputDiv = document.currentScript.previousElementSibling;\n",
       "    if (outputDiv.id !== \"altair-viz-78c0ce065a314936aedb0821d8e70086\") {\n",
       "      outputDiv = document.getElementById(\"altair-viz-78c0ce065a314936aedb0821d8e70086\");\n",
       "    }\n",
       "    const paths = {\n",
       "      \"vega\": \"https://cdn.jsdelivr.net/npm//vega@5?noext\",\n",
       "      \"vega-lib\": \"https://cdn.jsdelivr.net/npm//vega-lib?noext\",\n",
       "      \"vega-lite\": \"https://cdn.jsdelivr.net/npm//vega-lite@4.17.0?noext\",\n",
       "      \"vega-embed\": \"https://cdn.jsdelivr.net/npm//vega-embed@6?noext\",\n",
       "    };\n",
       "\n",
       "    function maybeLoadScript(lib, version) {\n",
       "      var key = `${lib.replace(\"-\", \"\")}_version`;\n",
       "      return (VEGA_DEBUG[key] == version) ?\n",
       "        Promise.resolve(paths[lib]) :\n",
       "        new Promise(function(resolve, reject) {\n",
       "          var s = document.createElement('script');\n",
       "          document.getElementsByTagName(\"head\")[0].appendChild(s);\n",
       "          s.async = true;\n",
       "          s.onload = () => {\n",
       "            VEGA_DEBUG[key] = version;\n",
       "            return resolve(paths[lib]);\n",
       "          };\n",
       "          s.onerror = () => reject(`Error loading script: ${paths[lib]}`);\n",
       "          s.src = paths[lib];\n",
       "        });\n",
       "    }\n",
       "\n",
       "    function showError(err) {\n",
       "      outputDiv.innerHTML = `<div class=\"error\" style=\"color:red;\">${err}</div>`;\n",
       "      throw err;\n",
       "    }\n",
       "\n",
       "    function displayChart(vegaEmbed) {\n",
       "      vegaEmbed(outputDiv, spec, embedOpt)\n",
       "        .catch(err => showError(`Javascript Error: ${err.message}<br>This usually means there's a typo in your chart specification. See the javascript console for the full traceback.`));\n",
       "    }\n",
       "\n",
       "    if(typeof define === \"function\" && define.amd) {\n",
       "      requirejs.config({paths});\n",
       "      require([\"vega-embed\"], displayChart, err => showError(`Error loading script: ${err.message}`));\n",
       "    } else {\n",
       "      maybeLoadScript(\"vega\", \"5\")\n",
       "        .then(() => maybeLoadScript(\"vega-lite\", \"4.17.0\"))\n",
       "        .then(() => maybeLoadScript(\"vega-embed\", \"6\"))\n",
       "        .catch(showError)\n",
       "        .then(() => displayChart(vegaEmbed));\n",
       "    }\n",
       "  })({\"config\": {\"view\": {\"continuousWidth\": 400, \"continuousHeight\": 300}}, \"data\": {\"name\": \"data-124c435c1b687eb7890344117a1c86b4\"}, \"facet\": {\"column\": {\"field\": \"condition\", \"type\": \"nominal\"}}, \"spec\": {\"mark\": \"point\", \"encoding\": {\"x\": {\"field\": \"temperature\", \"type\": \"quantitative\"}, \"y\": {\"field\": \"wind\", \"type\": \"quantitative\"}}}, \"$schema\": \"https://vega.github.io/schema/vega-lite/v4.17.0.json\", \"datasets\": {\"data-124c435c1b687eb7890344117a1c86b4\": [{\"temperature\": 17.89365303788651, \"wind\": 78.75685633883592, \"precipitation\": 41.61124606702779, \"condition\": \"rain\"}, {\"temperature\": 5.622818441769336, \"wind\": 25.421998841055917, \"precipitation\": 74.90555083684964, \"condition\": \"rain\"}, {\"temperature\": 23.3902094090436, \"wind\": 9.846103163487696, \"precipitation\": 81.33536438710783, \"condition\": \"rain\"}, {\"temperature\": 20.889554427248395, \"wind\": 27.53521295661492, \"precipitation\": 27.6549324712597, \"condition\": \"drizzle\"}, {\"temperature\": 33.91026207788065, \"wind\": 97.91032820138525, \"precipitation\": 36.53494267552425, \"condition\": \"snow\"}, {\"temperature\": 39.65611406756084, \"wind\": 24.27383951799732, \"precipitation\": 33.38647147375286, \"condition\": \"rain\"}, {\"temperature\": 5.670659801967243, \"wind\": 98.20197823012846, \"precipitation\": 93.72832557739356, \"condition\": \"snow\"}, {\"temperature\": -2.2776070811204505, \"wind\": 77.90443786588797, \"precipitation\": 50.102310147035375, \"condition\": \"drizzle\"}, {\"temperature\": 43.104548648992775, \"wind\": 74.77698982401796, \"precipitation\": 89.95647852559429, \"condition\": \"sun\"}, {\"temperature\": 1.8049661385207525, \"wind\": 91.29152261118769, \"precipitation\": 29.77145087552332, \"condition\": \"fog\"}, {\"temperature\": 14.327115187571408, \"wind\": 45.054261048821296, \"precipitation\": 17.654846400296798, \"condition\": \"drizzle\"}, {\"temperature\": 25.44797791508993, \"wind\": 22.265267642454656, \"precipitation\": 60.37929677885421, \"condition\": \"drizzle\"}, {\"temperature\": 11.19016835531465, \"wind\": 77.30294308487814, \"precipitation\": 71.65443847888368, \"condition\": \"snow\"}, {\"temperature\": 22.948827407585433, \"wind\": 27.03785915458824, \"precipitation\": 92.68901140573688, \"condition\": \"snow\"}, {\"temperature\": 33.16555388154543, \"wind\": 92.1292103045794, \"precipitation\": 39.10838647644195, \"condition\": \"snow\"}, {\"temperature\": 9.981393546660723, \"wind\": 66.73004528306666, \"precipitation\": 19.36957583451713, \"condition\": \"drizzle\"}, {\"temperature\": 2.837559858993796, \"wind\": 18.62443662393004, \"precipitation\": 57.42273968155751, \"condition\": \"sun\"}, {\"temperature\": 39.14290590745285, \"wind\": 32.52859013259527, \"precipitation\": 88.21897530715309, \"condition\": \"rain\"}, {\"temperature\": 39.2325438266719, \"wind\": 2.511353474345024, \"precipitation\": 78.95158173752907, \"condition\": \"fog\"}, {\"temperature\": 2.949456835649645, \"wind\": 1.9370157264502197, \"precipitation\": 3.5337114891518584, \"condition\": \"fog\"}, {\"temperature\": 28.422917308067277, \"wind\": 6.822434636914776, \"precipitation\": 84.5655158038795, \"condition\": \"fog\"}, {\"temperature\": 28.406344711783838, \"wind\": 95.25216996998444, \"precipitation\": 2.312429289727791, \"condition\": \"fog\"}, {\"temperature\": 23.929825809705775, \"wind\": 28.441727967722407, \"precipitation\": 94.94371547195382, \"condition\": \"drizzle\"}, {\"temperature\": 25.144603850494207, \"wind\": 5.7248518372133965, \"precipitation\": 72.55961327284773, \"condition\": \"drizzle\"}, {\"temperature\": -3.1069016270510676, \"wind\": 90.56068308052812, \"precipitation\": 8.208347981870512, \"condition\": \"rain\"}, {\"temperature\": 43.07443333444708, \"wind\": 63.33777651825151, \"precipitation\": 35.343598004733714, \"condition\": \"sun\"}, {\"temperature\": -8.715631484900875, \"wind\": 78.50049089036061, \"precipitation\": 16.726772866900042, \"condition\": \"fog\"}, {\"temperature\": 10.058625587365142, \"wind\": 82.55410159133031, \"precipitation\": 49.82193593499935, \"condition\": \"fog\"}, {\"temperature\": 27.912341883718938, \"wind\": 45.94389098129158, \"precipitation\": 87.71806691348185, \"condition\": \"sun\"}, {\"temperature\": 28.827008981675903, \"wind\": 14.352645600160752, \"precipitation\": 95.30777240838884, \"condition\": \"sun\"}, {\"temperature\": -5.245472855196331, \"wind\": 24.463633090927274, \"precipitation\": 63.1630488725617, \"condition\": \"fog\"}, {\"temperature\": -4.738627417736829, \"wind\": 87.61779675788263, \"precipitation\": 67.17488470646667, \"condition\": \"fog\"}, {\"temperature\": -1.6463371096382655, \"wind\": 34.15953757649686, \"precipitation\": 83.20021064524306, \"condition\": \"rain\"}, {\"temperature\": -8.671469939339552, \"wind\": 28.02148157701091, \"precipitation\": 8.858286414027772, \"condition\": \"snow\"}, {\"temperature\": 23.586980668182306, \"wind\": 32.61177727202879, \"precipitation\": 90.55384722692395, \"condition\": \"snow\"}, {\"temperature\": 42.93552301196303, \"wind\": 17.459007963452034, \"precipitation\": 76.26693620563219, \"condition\": \"sun\"}, {\"temperature\": 14.04271616398174, \"wind\": 31.44611970670743, \"precipitation\": 27.736449442339893, \"condition\": \"rain\"}, {\"temperature\": 33.93136729382773, \"wind\": 85.0980112392488, \"precipitation\": 48.72266227519502, \"condition\": \"fog\"}, {\"temperature\": 29.10713627050935, \"wind\": 25.401508775422734, \"precipitation\": 83.25120184383715, \"condition\": \"fog\"}, {\"temperature\": 23.33130010979005, \"wind\": 38.960479467358745, \"precipitation\": 84.8094568801428, \"condition\": \"rain\"}, {\"temperature\": 27.820447049966695, \"wind\": 97.47611794506456, \"precipitation\": 59.404606053602336, \"condition\": \"fog\"}, {\"temperature\": 24.704809156505995, \"wind\": 56.929461372432655, \"precipitation\": 16.583726619344496, \"condition\": \"drizzle\"}, {\"temperature\": 42.73839675123029, \"wind\": 19.024929246369528, \"precipitation\": 37.515692671204135, \"condition\": \"sun\"}, {\"temperature\": 39.73480992464111, \"wind\": 63.10268501376382, \"precipitation\": 15.20512544845365, \"condition\": \"fog\"}, {\"temperature\": 34.928857478491054, \"wind\": 44.34437827092474, \"precipitation\": 2.9919970218495684, \"condition\": \"sun\"}, {\"temperature\": 12.475457440238529, \"wind\": 45.63508245761745, \"precipitation\": 1.5684442569828705, \"condition\": \"fog\"}, {\"temperature\": 11.485742656702111, \"wind\": 35.43011450755876, \"precipitation\": 46.843314320146966, \"condition\": \"fog\"}, {\"temperature\": 16.58332024159822, \"wind\": 85.9387003246595, \"precipitation\": 67.67417859666371, \"condition\": \"sun\"}, {\"temperature\": 42.96961504747511, \"wind\": 61.02100908610409, \"precipitation\": 40.19537213295094, \"condition\": \"snow\"}, {\"temperature\": 43.01306682260888, \"wind\": 91.58796490357004, \"precipitation\": 10.242970289225461, \"condition\": \"sun\"}, {\"temperature\": 17.888206090116245, \"wind\": 29.82373325722851, \"precipitation\": 44.29455934969246, \"condition\": \"sun\"}, {\"temperature\": 13.700882757230424, \"wind\": 46.93705512034313, \"precipitation\": 76.07676796446637, \"condition\": \"rain\"}, {\"temperature\": 4.986331720563626, \"wind\": 81.90760931416689, \"precipitation\": 34.892239668746406, \"condition\": \"drizzle\"}, {\"temperature\": -1.4778346288931683, \"wind\": 3.9791854357363987, \"precipitation\": 7.535152538482148, \"condition\": \"drizzle\"}, {\"temperature\": 16.892161248783623, \"wind\": 31.993361074291926, \"precipitation\": 60.46401934620111, \"condition\": \"drizzle\"}, {\"temperature\": -7.17506030059671, \"wind\": 5.042336185555952, \"precipitation\": 88.35922403405787, \"condition\": \"drizzle\"}, {\"temperature\": 9.85908134441586, \"wind\": 48.491362316119236, \"precipitation\": 23.80248472573617, \"condition\": \"snow\"}, {\"temperature\": 28.54368725395195, \"wind\": 5.72748587709313, \"precipitation\": 25.974359374267742, \"condition\": \"drizzle\"}, {\"temperature\": 41.85044222939622, \"wind\": 3.311333417116047, \"precipitation\": 1.7918023488591839, \"condition\": \"snow\"}, {\"temperature\": 39.51847585775124, \"wind\": 89.64939452111453, \"precipitation\": 48.53950512768904, \"condition\": \"fog\"}, {\"temperature\": 4.1511791382858725, \"wind\": 58.14172937556887, \"precipitation\": 79.66452798481971, \"condition\": \"drizzle\"}, {\"temperature\": 7.316849144326355, \"wind\": 6.796864846855866, \"precipitation\": 33.619090549629306, \"condition\": \"snow\"}, {\"temperature\": -6.040726652488083, \"wind\": 24.37214720554359, \"precipitation\": 71.46568853073089, \"condition\": \"rain\"}, {\"temperature\": 28.05026452008928, \"wind\": 19.39989397387041, \"precipitation\": 71.68725771245654, \"condition\": \"drizzle\"}, {\"temperature\": 35.30623993317926, \"wind\": 66.54091843981752, \"precipitation\": 22.884049790672588, \"condition\": \"rain\"}, {\"temperature\": -9.078168118751755, \"wind\": 54.53321547753263, \"precipitation\": 66.43449936744369, \"condition\": \"sun\"}, {\"temperature\": 34.31111609068961, \"wind\": 92.79899053872957, \"precipitation\": 61.9431928594434, \"condition\": \"sun\"}, {\"temperature\": -0.5340863902706268, \"wind\": 89.18484464889846, \"precipitation\": 88.49655552922172, \"condition\": \"rain\"}, {\"temperature\": -7.331283732097262, \"wind\": 16.43300088620039, \"precipitation\": 92.15523633598885, \"condition\": \"drizzle\"}, {\"temperature\": 34.4512940591614, \"wind\": 16.982566694713043, \"precipitation\": 66.50391898652623, \"condition\": \"fog\"}, {\"temperature\": 2.292195972387347, \"wind\": 78.07758659490037, \"precipitation\": 85.08941323813521, \"condition\": \"snow\"}, {\"temperature\": 10.280188069701488, \"wind\": 64.37598506985243, \"precipitation\": 46.13428294966927, \"condition\": \"sun\"}, {\"temperature\": 14.385637791164196, \"wind\": 27.710246014732775, \"precipitation\": 82.18132103083111, \"condition\": \"rain\"}, {\"temperature\": 15.068929930658907, \"wind\": 90.37313777532859, \"precipitation\": 95.42688091272505, \"condition\": \"rain\"}, {\"temperature\": -5.931704200276687, \"wind\": 76.30697305192514, \"precipitation\": 48.17926018036856, \"condition\": \"drizzle\"}, {\"temperature\": -1.2238906425326128, \"wind\": 77.25655113115953, \"precipitation\": 12.189057445370022, \"condition\": \"sun\"}, {\"temperature\": 17.981273164150583, \"wind\": 99.8855194023956, \"precipitation\": 5.951490853046981, \"condition\": \"drizzle\"}, {\"temperature\": 8.333054222089164, \"wind\": 22.351144710727677, \"precipitation\": 1.9907985646430038, \"condition\": \"rain\"}, {\"temperature\": 40.99117292213711, \"wind\": 12.537186007473021, \"precipitation\": 3.0957134444521195, \"condition\": \"drizzle\"}, {\"temperature\": 36.29560583814439, \"wind\": 47.282861379528676, \"precipitation\": 50.72175472263106, \"condition\": \"fog\"}, {\"temperature\": 8.011942225789358, \"wind\": 80.64679426688298, \"precipitation\": 84.74031260132877, \"condition\": \"sun\"}, {\"temperature\": 32.64189921238727, \"wind\": 78.38867921926278, \"precipitation\": 94.27015659699374, \"condition\": \"fog\"}, {\"temperature\": -4.159829210634211, \"wind\": 53.39060475873939, \"precipitation\": 50.60795287404672, \"condition\": \"fog\"}, {\"temperature\": -6.602296737522483, \"wind\": 86.55899134629715, \"precipitation\": 62.64697378600636, \"condition\": \"fog\"}, {\"temperature\": 40.135239145180655, \"wind\": 16.633704419495032, \"precipitation\": 41.391087682479736, \"condition\": \"drizzle\"}, {\"temperature\": 26.95881305440288, \"wind\": 85.8809786017975, \"precipitation\": 71.9617762842435, \"condition\": \"drizzle\"}, {\"temperature\": 11.92991543604046, \"wind\": 76.39140196294017, \"precipitation\": 60.40612399492309, \"condition\": \"drizzle\"}, {\"temperature\": 19.566301202766702, \"wind\": 72.97802286558691, \"precipitation\": 29.681848692175006, \"condition\": \"drizzle\"}, {\"temperature\": 10.481864045771506, \"wind\": 10.269367839292642, \"precipitation\": 85.87287289024248, \"condition\": \"rain\"}, {\"temperature\": -9.620152753805623, \"wind\": 64.57630699894213, \"precipitation\": 29.06583641537993, \"condition\": \"drizzle\"}, {\"temperature\": 24.85823346816882, \"wind\": 64.44200648973889, \"precipitation\": 32.79358601401415, \"condition\": \"sun\"}, {\"temperature\": -9.71401231081625, \"wind\": 46.94482107365025, \"precipitation\": 71.95828763550503, \"condition\": \"rain\"}, {\"temperature\": 15.802582568794556, \"wind\": 5.568264782160037, \"precipitation\": 16.50277435360922, \"condition\": \"sun\"}, {\"temperature\": 29.44740698845427, \"wind\": 66.4224540835048, \"precipitation\": 96.91347272575433, \"condition\": \"snow\"}, {\"temperature\": 0.1789559651072139, \"wind\": 37.144396583281235, \"precipitation\": 7.3927878065009445, \"condition\": \"snow\"}, {\"temperature\": 37.90262114384076, \"wind\": 23.744567572534315, \"precipitation\": 85.44013318397162, \"condition\": \"fog\"}, {\"temperature\": 40.40503203411964, \"wind\": 71.68155336881077, \"precipitation\": 91.260802513042, \"condition\": \"snow\"}, {\"temperature\": 2.723433474361908, \"wind\": 5.85694236985378, \"precipitation\": 54.0295184169758, \"condition\": \"drizzle\"}, {\"temperature\": 9.452609321039336, \"wind\": 52.7843932253772, \"precipitation\": 90.04450333194686, \"condition\": \"fog\"}, {\"temperature\": 18.909153974667404, \"wind\": 13.725377509230263, \"precipitation\": 34.56974350594094, \"condition\": \"sun\"}]}}, {\"mode\": \"vega-lite\"});\n",
       "</script>"
      ],
      "text/plain": [
       "alt.FacetChart(...)"
      ]
     },
     "metadata": {},
     "output_type": "display_data"
    }
   ],
   "source": [
    "base = alt.Chart(df)\n",
    "point = base.mark_point().encode(\n",
    "    x=alt.X(field=\"temperature\", type=\"quantitative\"),\n",
    "    y=alt.Y(field=\"wind\", type=\"quantitative\"),\n",
    ")\n",
    "facet = point.facet(column=alt.Column(field=\"condition\", type=\"nominal\"))\n",
    "display_chart(facet)"
   ]
  },
  {
   "cell_type": "markdown",
   "metadata": {},
   "source": [
    "### Facet Scatterplot by Binned Data into Columns"
   ]
  },
  {
   "cell_type": "code",
   "execution_count": 34,
   "metadata": {},
   "outputs": [
    {
     "name": "stdout",
     "output_type": "stream",
     "text": [
      "{'field': [{'name': 'temperature', 'type': 'number'},\n",
      "           {'name': 'wind', 'type': 'number'},\n",
      "           {'name': 'condition', 'type': 'string'}],\n",
      " 'number_rows': 100,\n",
      " 'view': [{'facet': [{'binning': 10, 'channel': 'col', 'field': 'temperature'}],\n",
      "           'mark': [{'encoding': [{'channel': 'x', 'field': 'condition'},\n",
      "                                  {'channel': 'y', 'field': 'wind'}],\n",
      "                     'type': 'point'}],\n",
      "           'scale': [{'channel': 'x', 'type': 'ordinal'},\n",
      "                     {'channel': 'y', 'type': 'linear'}]}]}\n"
     ]
    }
   ],
   "source": [
    "facts = [\n",
    "    \"attribute(number_rows,root,100).\",\n",
    "    \"entity(field,root,temperature).\",\n",
    "    \"attribute((field,name),temperature,temperature).\",\n",
    "    \"attribute((field,type),temperature,number).\",\n",
    "    \"entity(field,root,wind).\",\n",
    "    \"attribute((field,name),wind,wind).\",\n",
    "    \"attribute((field,type),wind,number).\",\n",
    "    \"entity(field,root,condition).\",\n",
    "    \"attribute((field,name),condition,condition).\",\n",
    "    \"attribute((field,type),condition,string).\",\n",
    "    \"entity(view,root,0).\",\n",
    "    \"entity(mark,0,1).\",\n",
    "    \"attribute((mark,type),1,point).\",\n",
    "    \"entity(encoding,1,2).\",\n",
    "    \"attribute((encoding,channel),2,x).\",\n",
    "    \"attribute((encoding,field),2,condition).\",\n",
    "    \"entity(encoding,1,3).\",\n",
    "    \"attribute((encoding,channel),3,y).\",\n",
    "    \"attribute((encoding,field),3,wind).\",\n",
    "    \"entity(scale,0,4).\",\n",
    "    \"attribute((scale,channel),4,x).\",\n",
    "    \"attribute((scale,type),4,ordinal).\",\n",
    "    \"entity(scale,0,5).\",\n",
    "    \"attribute((scale,channel),5,y).\",\n",
    "    \"attribute((scale,type),5,linear).\",\n",
    "    \"entity(facet,0,6).\",\n",
    "    \"attribute((facet,channel),6,col).\",\n",
    "    \"attribute((facet,field),6,temperature).\",\n",
    "    \"attribute((facet,binning),6,10).\",\n",
    "]\n",
    "spec = facts_to_dict(facts)\n",
    "pprint(spec)"
   ]
  },
  {
   "cell_type": "code",
   "execution_count": 35,
   "metadata": {},
   "outputs": [
    {
     "name": "stdout",
     "output_type": "stream",
     "text": [
      "{'$schema': 'https://vega.github.io/schema/vega-lite/v4.17.0.json',\n",
      " 'config': {'view': {'continuousHeight': 300, 'continuousWidth': 400}},\n",
      " 'facet': {'column': {'bin': {'maxbins': 10},\n",
      "                      'field': 'temperature',\n",
      "                      'type': 'quantitative'}},\n",
      " 'spec': {'encoding': {'x': {'field': 'condition',\n",
      "                             'scale': {'type': 'ordinal'},\n",
      "                             'type': 'nominal'},\n",
      "                       'y': {'field': 'wind',\n",
      "                             'scale': {'type': 'linear'},\n",
      "                             'type': 'quantitative'}},\n",
      "          'mark': 'point'}}\n"
     ]
    },
    {
     "data": {
      "text/html": [
       "\n",
       "<div id=\"altair-viz-c5fe3d16deb44be486d19b73d85fc6db\"></div>\n",
       "<script type=\"text/javascript\">\n",
       "  var VEGA_DEBUG = (typeof VEGA_DEBUG == \"undefined\") ? {} : VEGA_DEBUG;\n",
       "  (function(spec, embedOpt){\n",
       "    let outputDiv = document.currentScript.previousElementSibling;\n",
       "    if (outputDiv.id !== \"altair-viz-c5fe3d16deb44be486d19b73d85fc6db\") {\n",
       "      outputDiv = document.getElementById(\"altair-viz-c5fe3d16deb44be486d19b73d85fc6db\");\n",
       "    }\n",
       "    const paths = {\n",
       "      \"vega\": \"https://cdn.jsdelivr.net/npm//vega@5?noext\",\n",
       "      \"vega-lib\": \"https://cdn.jsdelivr.net/npm//vega-lib?noext\",\n",
       "      \"vega-lite\": \"https://cdn.jsdelivr.net/npm//vega-lite@4.17.0?noext\",\n",
       "      \"vega-embed\": \"https://cdn.jsdelivr.net/npm//vega-embed@6?noext\",\n",
       "    };\n",
       "\n",
       "    function maybeLoadScript(lib, version) {\n",
       "      var key = `${lib.replace(\"-\", \"\")}_version`;\n",
       "      return (VEGA_DEBUG[key] == version) ?\n",
       "        Promise.resolve(paths[lib]) :\n",
       "        new Promise(function(resolve, reject) {\n",
       "          var s = document.createElement('script');\n",
       "          document.getElementsByTagName(\"head\")[0].appendChild(s);\n",
       "          s.async = true;\n",
       "          s.onload = () => {\n",
       "            VEGA_DEBUG[key] = version;\n",
       "            return resolve(paths[lib]);\n",
       "          };\n",
       "          s.onerror = () => reject(`Error loading script: ${paths[lib]}`);\n",
       "          s.src = paths[lib];\n",
       "        });\n",
       "    }\n",
       "\n",
       "    function showError(err) {\n",
       "      outputDiv.innerHTML = `<div class=\"error\" style=\"color:red;\">${err}</div>`;\n",
       "      throw err;\n",
       "    }\n",
       "\n",
       "    function displayChart(vegaEmbed) {\n",
       "      vegaEmbed(outputDiv, spec, embedOpt)\n",
       "        .catch(err => showError(`Javascript Error: ${err.message}<br>This usually means there's a typo in your chart specification. See the javascript console for the full traceback.`));\n",
       "    }\n",
       "\n",
       "    if(typeof define === \"function\" && define.amd) {\n",
       "      requirejs.config({paths});\n",
       "      require([\"vega-embed\"], displayChart, err => showError(`Error loading script: ${err.message}`));\n",
       "    } else {\n",
       "      maybeLoadScript(\"vega\", \"5\")\n",
       "        .then(() => maybeLoadScript(\"vega-lite\", \"4.17.0\"))\n",
       "        .then(() => maybeLoadScript(\"vega-embed\", \"6\"))\n",
       "        .catch(showError)\n",
       "        .then(() => displayChart(vegaEmbed));\n",
       "    }\n",
       "  })({\"config\": {\"view\": {\"continuousWidth\": 400, \"continuousHeight\": 300}}, \"data\": {\"name\": \"data-124c435c1b687eb7890344117a1c86b4\"}, \"facet\": {\"column\": {\"bin\": {\"maxbins\": 10}, \"field\": \"temperature\", \"type\": \"quantitative\"}}, \"spec\": {\"mark\": \"point\", \"encoding\": {\"x\": {\"field\": \"condition\", \"scale\": {\"type\": \"ordinal\"}, \"type\": \"nominal\"}, \"y\": {\"field\": \"wind\", \"scale\": {\"type\": \"linear\"}, \"type\": \"quantitative\"}}}, \"$schema\": \"https://vega.github.io/schema/vega-lite/v4.17.0.json\", \"datasets\": {\"data-124c435c1b687eb7890344117a1c86b4\": [{\"temperature\": 17.89365303788651, \"wind\": 78.75685633883592, \"precipitation\": 41.61124606702779, \"condition\": \"rain\"}, {\"temperature\": 5.622818441769336, \"wind\": 25.421998841055917, \"precipitation\": 74.90555083684964, \"condition\": \"rain\"}, {\"temperature\": 23.3902094090436, \"wind\": 9.846103163487696, \"precipitation\": 81.33536438710783, \"condition\": \"rain\"}, {\"temperature\": 20.889554427248395, \"wind\": 27.53521295661492, \"precipitation\": 27.6549324712597, \"condition\": \"drizzle\"}, {\"temperature\": 33.91026207788065, \"wind\": 97.91032820138525, \"precipitation\": 36.53494267552425, \"condition\": \"snow\"}, {\"temperature\": 39.65611406756084, \"wind\": 24.27383951799732, \"precipitation\": 33.38647147375286, \"condition\": \"rain\"}, {\"temperature\": 5.670659801967243, \"wind\": 98.20197823012846, \"precipitation\": 93.72832557739356, \"condition\": \"snow\"}, {\"temperature\": -2.2776070811204505, \"wind\": 77.90443786588797, \"precipitation\": 50.102310147035375, \"condition\": \"drizzle\"}, {\"temperature\": 43.104548648992775, \"wind\": 74.77698982401796, \"precipitation\": 89.95647852559429, \"condition\": \"sun\"}, {\"temperature\": 1.8049661385207525, \"wind\": 91.29152261118769, \"precipitation\": 29.77145087552332, \"condition\": \"fog\"}, {\"temperature\": 14.327115187571408, \"wind\": 45.054261048821296, \"precipitation\": 17.654846400296798, \"condition\": \"drizzle\"}, {\"temperature\": 25.44797791508993, \"wind\": 22.265267642454656, \"precipitation\": 60.37929677885421, \"condition\": \"drizzle\"}, {\"temperature\": 11.19016835531465, \"wind\": 77.30294308487814, \"precipitation\": 71.65443847888368, \"condition\": \"snow\"}, {\"temperature\": 22.948827407585433, \"wind\": 27.03785915458824, \"precipitation\": 92.68901140573688, \"condition\": \"snow\"}, {\"temperature\": 33.16555388154543, \"wind\": 92.1292103045794, \"precipitation\": 39.10838647644195, \"condition\": \"snow\"}, {\"temperature\": 9.981393546660723, \"wind\": 66.73004528306666, \"precipitation\": 19.36957583451713, \"condition\": \"drizzle\"}, {\"temperature\": 2.837559858993796, \"wind\": 18.62443662393004, \"precipitation\": 57.42273968155751, \"condition\": \"sun\"}, {\"temperature\": 39.14290590745285, \"wind\": 32.52859013259527, \"precipitation\": 88.21897530715309, \"condition\": \"rain\"}, {\"temperature\": 39.2325438266719, \"wind\": 2.511353474345024, \"precipitation\": 78.95158173752907, \"condition\": \"fog\"}, {\"temperature\": 2.949456835649645, \"wind\": 1.9370157264502197, \"precipitation\": 3.5337114891518584, \"condition\": \"fog\"}, {\"temperature\": 28.422917308067277, \"wind\": 6.822434636914776, \"precipitation\": 84.5655158038795, \"condition\": \"fog\"}, {\"temperature\": 28.406344711783838, \"wind\": 95.25216996998444, \"precipitation\": 2.312429289727791, \"condition\": \"fog\"}, {\"temperature\": 23.929825809705775, \"wind\": 28.441727967722407, \"precipitation\": 94.94371547195382, \"condition\": \"drizzle\"}, {\"temperature\": 25.144603850494207, \"wind\": 5.7248518372133965, \"precipitation\": 72.55961327284773, \"condition\": \"drizzle\"}, {\"temperature\": -3.1069016270510676, \"wind\": 90.56068308052812, \"precipitation\": 8.208347981870512, \"condition\": \"rain\"}, {\"temperature\": 43.07443333444708, \"wind\": 63.33777651825151, \"precipitation\": 35.343598004733714, \"condition\": \"sun\"}, {\"temperature\": -8.715631484900875, \"wind\": 78.50049089036061, \"precipitation\": 16.726772866900042, \"condition\": \"fog\"}, {\"temperature\": 10.058625587365142, \"wind\": 82.55410159133031, \"precipitation\": 49.82193593499935, \"condition\": \"fog\"}, {\"temperature\": 27.912341883718938, \"wind\": 45.94389098129158, \"precipitation\": 87.71806691348185, \"condition\": \"sun\"}, {\"temperature\": 28.827008981675903, \"wind\": 14.352645600160752, \"precipitation\": 95.30777240838884, \"condition\": \"sun\"}, {\"temperature\": -5.245472855196331, \"wind\": 24.463633090927274, \"precipitation\": 63.1630488725617, \"condition\": \"fog\"}, {\"temperature\": -4.738627417736829, \"wind\": 87.61779675788263, \"precipitation\": 67.17488470646667, \"condition\": \"fog\"}, {\"temperature\": -1.6463371096382655, \"wind\": 34.15953757649686, \"precipitation\": 83.20021064524306, \"condition\": \"rain\"}, {\"temperature\": -8.671469939339552, \"wind\": 28.02148157701091, \"precipitation\": 8.858286414027772, \"condition\": \"snow\"}, {\"temperature\": 23.586980668182306, \"wind\": 32.61177727202879, \"precipitation\": 90.55384722692395, \"condition\": \"snow\"}, {\"temperature\": 42.93552301196303, \"wind\": 17.459007963452034, \"precipitation\": 76.26693620563219, \"condition\": \"sun\"}, {\"temperature\": 14.04271616398174, \"wind\": 31.44611970670743, \"precipitation\": 27.736449442339893, \"condition\": \"rain\"}, {\"temperature\": 33.93136729382773, \"wind\": 85.0980112392488, \"precipitation\": 48.72266227519502, \"condition\": \"fog\"}, {\"temperature\": 29.10713627050935, \"wind\": 25.401508775422734, \"precipitation\": 83.25120184383715, \"condition\": \"fog\"}, {\"temperature\": 23.33130010979005, \"wind\": 38.960479467358745, \"precipitation\": 84.8094568801428, \"condition\": \"rain\"}, {\"temperature\": 27.820447049966695, \"wind\": 97.47611794506456, \"precipitation\": 59.404606053602336, \"condition\": \"fog\"}, {\"temperature\": 24.704809156505995, \"wind\": 56.929461372432655, \"precipitation\": 16.583726619344496, \"condition\": \"drizzle\"}, {\"temperature\": 42.73839675123029, \"wind\": 19.024929246369528, \"precipitation\": 37.515692671204135, \"condition\": \"sun\"}, {\"temperature\": 39.73480992464111, \"wind\": 63.10268501376382, \"precipitation\": 15.20512544845365, \"condition\": \"fog\"}, {\"temperature\": 34.928857478491054, \"wind\": 44.34437827092474, \"precipitation\": 2.9919970218495684, \"condition\": \"sun\"}, {\"temperature\": 12.475457440238529, \"wind\": 45.63508245761745, \"precipitation\": 1.5684442569828705, \"condition\": \"fog\"}, {\"temperature\": 11.485742656702111, \"wind\": 35.43011450755876, \"precipitation\": 46.843314320146966, \"condition\": \"fog\"}, {\"temperature\": 16.58332024159822, \"wind\": 85.9387003246595, \"precipitation\": 67.67417859666371, \"condition\": \"sun\"}, {\"temperature\": 42.96961504747511, \"wind\": 61.02100908610409, \"precipitation\": 40.19537213295094, \"condition\": \"snow\"}, {\"temperature\": 43.01306682260888, \"wind\": 91.58796490357004, \"precipitation\": 10.242970289225461, \"condition\": \"sun\"}, {\"temperature\": 17.888206090116245, \"wind\": 29.82373325722851, \"precipitation\": 44.29455934969246, \"condition\": \"sun\"}, {\"temperature\": 13.700882757230424, \"wind\": 46.93705512034313, \"precipitation\": 76.07676796446637, \"condition\": \"rain\"}, {\"temperature\": 4.986331720563626, \"wind\": 81.90760931416689, \"precipitation\": 34.892239668746406, \"condition\": \"drizzle\"}, {\"temperature\": -1.4778346288931683, \"wind\": 3.9791854357363987, \"precipitation\": 7.535152538482148, \"condition\": \"drizzle\"}, {\"temperature\": 16.892161248783623, \"wind\": 31.993361074291926, \"precipitation\": 60.46401934620111, \"condition\": \"drizzle\"}, {\"temperature\": -7.17506030059671, \"wind\": 5.042336185555952, \"precipitation\": 88.35922403405787, \"condition\": \"drizzle\"}, {\"temperature\": 9.85908134441586, \"wind\": 48.491362316119236, \"precipitation\": 23.80248472573617, \"condition\": \"snow\"}, {\"temperature\": 28.54368725395195, \"wind\": 5.72748587709313, \"precipitation\": 25.974359374267742, \"condition\": \"drizzle\"}, {\"temperature\": 41.85044222939622, \"wind\": 3.311333417116047, \"precipitation\": 1.7918023488591839, \"condition\": \"snow\"}, {\"temperature\": 39.51847585775124, \"wind\": 89.64939452111453, \"precipitation\": 48.53950512768904, \"condition\": \"fog\"}, {\"temperature\": 4.1511791382858725, \"wind\": 58.14172937556887, \"precipitation\": 79.66452798481971, \"condition\": \"drizzle\"}, {\"temperature\": 7.316849144326355, \"wind\": 6.796864846855866, \"precipitation\": 33.619090549629306, \"condition\": \"snow\"}, {\"temperature\": -6.040726652488083, \"wind\": 24.37214720554359, \"precipitation\": 71.46568853073089, \"condition\": \"rain\"}, {\"temperature\": 28.05026452008928, \"wind\": 19.39989397387041, \"precipitation\": 71.68725771245654, \"condition\": \"drizzle\"}, {\"temperature\": 35.30623993317926, \"wind\": 66.54091843981752, \"precipitation\": 22.884049790672588, \"condition\": \"rain\"}, {\"temperature\": -9.078168118751755, \"wind\": 54.53321547753263, \"precipitation\": 66.43449936744369, \"condition\": \"sun\"}, {\"temperature\": 34.31111609068961, \"wind\": 92.79899053872957, \"precipitation\": 61.9431928594434, \"condition\": \"sun\"}, {\"temperature\": -0.5340863902706268, \"wind\": 89.18484464889846, \"precipitation\": 88.49655552922172, \"condition\": \"rain\"}, {\"temperature\": -7.331283732097262, \"wind\": 16.43300088620039, \"precipitation\": 92.15523633598885, \"condition\": \"drizzle\"}, {\"temperature\": 34.4512940591614, \"wind\": 16.982566694713043, \"precipitation\": 66.50391898652623, \"condition\": \"fog\"}, {\"temperature\": 2.292195972387347, \"wind\": 78.07758659490037, \"precipitation\": 85.08941323813521, \"condition\": \"snow\"}, {\"temperature\": 10.280188069701488, \"wind\": 64.37598506985243, \"precipitation\": 46.13428294966927, \"condition\": \"sun\"}, {\"temperature\": 14.385637791164196, \"wind\": 27.710246014732775, \"precipitation\": 82.18132103083111, \"condition\": \"rain\"}, {\"temperature\": 15.068929930658907, \"wind\": 90.37313777532859, \"precipitation\": 95.42688091272505, \"condition\": \"rain\"}, {\"temperature\": -5.931704200276687, \"wind\": 76.30697305192514, \"precipitation\": 48.17926018036856, \"condition\": \"drizzle\"}, {\"temperature\": -1.2238906425326128, \"wind\": 77.25655113115953, \"precipitation\": 12.189057445370022, \"condition\": \"sun\"}, {\"temperature\": 17.981273164150583, \"wind\": 99.8855194023956, \"precipitation\": 5.951490853046981, \"condition\": \"drizzle\"}, {\"temperature\": 8.333054222089164, \"wind\": 22.351144710727677, \"precipitation\": 1.9907985646430038, \"condition\": \"rain\"}, {\"temperature\": 40.99117292213711, \"wind\": 12.537186007473021, \"precipitation\": 3.0957134444521195, \"condition\": \"drizzle\"}, {\"temperature\": 36.29560583814439, \"wind\": 47.282861379528676, \"precipitation\": 50.72175472263106, \"condition\": \"fog\"}, {\"temperature\": 8.011942225789358, \"wind\": 80.64679426688298, \"precipitation\": 84.74031260132877, \"condition\": \"sun\"}, {\"temperature\": 32.64189921238727, \"wind\": 78.38867921926278, \"precipitation\": 94.27015659699374, \"condition\": \"fog\"}, {\"temperature\": -4.159829210634211, \"wind\": 53.39060475873939, \"precipitation\": 50.60795287404672, \"condition\": \"fog\"}, {\"temperature\": -6.602296737522483, \"wind\": 86.55899134629715, \"precipitation\": 62.64697378600636, \"condition\": \"fog\"}, {\"temperature\": 40.135239145180655, \"wind\": 16.633704419495032, \"precipitation\": 41.391087682479736, \"condition\": \"drizzle\"}, {\"temperature\": 26.95881305440288, \"wind\": 85.8809786017975, \"precipitation\": 71.9617762842435, \"condition\": \"drizzle\"}, {\"temperature\": 11.92991543604046, \"wind\": 76.39140196294017, \"precipitation\": 60.40612399492309, \"condition\": \"drizzle\"}, {\"temperature\": 19.566301202766702, \"wind\": 72.97802286558691, \"precipitation\": 29.681848692175006, \"condition\": \"drizzle\"}, {\"temperature\": 10.481864045771506, \"wind\": 10.269367839292642, \"precipitation\": 85.87287289024248, \"condition\": \"rain\"}, {\"temperature\": -9.620152753805623, \"wind\": 64.57630699894213, \"precipitation\": 29.06583641537993, \"condition\": \"drizzle\"}, {\"temperature\": 24.85823346816882, \"wind\": 64.44200648973889, \"precipitation\": 32.79358601401415, \"condition\": \"sun\"}, {\"temperature\": -9.71401231081625, \"wind\": 46.94482107365025, \"precipitation\": 71.95828763550503, \"condition\": \"rain\"}, {\"temperature\": 15.802582568794556, \"wind\": 5.568264782160037, \"precipitation\": 16.50277435360922, \"condition\": \"sun\"}, {\"temperature\": 29.44740698845427, \"wind\": 66.4224540835048, \"precipitation\": 96.91347272575433, \"condition\": \"snow\"}, {\"temperature\": 0.1789559651072139, \"wind\": 37.144396583281235, \"precipitation\": 7.3927878065009445, \"condition\": \"snow\"}, {\"temperature\": 37.90262114384076, \"wind\": 23.744567572534315, \"precipitation\": 85.44013318397162, \"condition\": \"fog\"}, {\"temperature\": 40.40503203411964, \"wind\": 71.68155336881077, \"precipitation\": 91.260802513042, \"condition\": \"snow\"}, {\"temperature\": 2.723433474361908, \"wind\": 5.85694236985378, \"precipitation\": 54.0295184169758, \"condition\": \"drizzle\"}, {\"temperature\": 9.452609321039336, \"wind\": 52.7843932253772, \"precipitation\": 90.04450333194686, \"condition\": \"fog\"}, {\"temperature\": 18.909153974667404, \"wind\": 13.725377509230263, \"precipitation\": 34.56974350594094, \"condition\": \"sun\"}]}}, {\"mode\": \"vega-lite\"});\n",
       "</script>"
      ],
      "text/plain": [
       "alt.FacetChart(...)"
      ]
     },
     "metadata": {},
     "output_type": "display_data"
    }
   ],
   "source": [
    "base = alt.Chart(df)\n",
    "point = base.mark_point().encode(\n",
    "    x=alt.X(field=\"condition\", type=\"nominal\", scale=alt.Scale(type=\"ordinal\")),\n",
    "    y=alt.Y(field=\"wind\", type=\"quantitative\", scale=alt.Scale(type=\"linear\")),\n",
    ")\n",
    "facet = point.facet(\n",
    "    column=alt.Column(field=\"temperature\", type=\"quantitative\", bin=alt.Bin(maxbins=10))\n",
    ")\n",
    "display_chart(facet)"
   ]
  },
  {
   "cell_type": "markdown",
   "metadata": {},
   "source": [
    "## Multiple Views"
   ]
  },
  {
   "cell_type": "markdown",
   "metadata": {},
   "source": [
    "### Tick Plot and Histogram"
   ]
  },
  {
   "cell_type": "code",
   "execution_count": 36,
   "metadata": {},
   "outputs": [
    {
     "name": "stdout",
     "output_type": "stream",
     "text": [
      "{'field': [{'name': 'temperature', 'type': 'number'},\n",
      "           {'name': 'condition', 'type': 'string'}],\n",
      " 'number_rows': 100,\n",
      " 'view': [{'mark': [{'encoding': [{'channel': 'y', 'field': 'temperature'}],\n",
      "                     'type': 'tick'}],\n",
      "           'scale': [{'channel': 'y', 'type': 'linear', 'zero': 'true'}]},\n",
      "          {'mark': [{'encoding': [{'channel': 'x', 'field': 'condition'},\n",
      "                                  {'aggregate': 'count', 'channel': 'y'}],\n",
      "                     'type': 'bar'}],\n",
      "           'scale': [{'channel': 'x', 'type': 'ordinal'},\n",
      "                     {'channel': 'y', 'type': 'linear', 'zero': 'true'}]}]}\n"
     ]
    }
   ],
   "source": [
    "facts = [\n",
    "    \"attribute(number_rows,root,100).\",\n",
    "    \"entity(field,root,temperature).\",\n",
    "    \"attribute((field,name),temperature,temperature).\",\n",
    "    \"attribute((field,type),temperature,number).\",\n",
    "    \"entity(field,root,condition).\",\n",
    "    \"attribute((field,name),condition,condition).\",\n",
    "    \"attribute((field,type),condition,string).\",\n",
    "    \"entity(view,root,0).\",\n",
    "    \"entity(mark,0,1).\",\n",
    "    \"attribute((mark,type),1,tick).\",\n",
    "    \"entity(encoding,1,2).\",\n",
    "    \"attribute((encoding,channel),2,y).\",\n",
    "    \"attribute((encoding,field),2,temperature).\",\n",
    "    \"entity(scale,0,3).\",\n",
    "    \"attribute((scale,channel),3,y).\",\n",
    "    \"attribute((scale,type),3,linear).\",\n",
    "    \"attribute((scale,zero),3,true).\",\n",
    "    \"entity(view,root,4).\",\n",
    "    \"entity(mark,4,5).\",\n",
    "    \"attribute((mark,type),5,bar).\",\n",
    "    \"entity(encoding,5,6).\",\n",
    "    \"attribute((encoding,channel),6,x).\",\n",
    "    \"attribute((encoding,field),6,condition).\",\n",
    "    \"entity(encoding,5,7).\",\n",
    "    \"attribute((encoding,channel),7,y).\",\n",
    "    \"attribute((encoding,aggregate),7,count).\",\n",
    "    \"entity(scale,4,8).\",\n",
    "    \"attribute((scale,channel),8,x).\",\n",
    "    \"attribute((scale,type),8,ordinal).\",\n",
    "    \"entity(scale,4,9).\",\n",
    "    \"attribute((scale,channel),9,y).\",\n",
    "    \"attribute((scale,type),9,linear).\",\n",
    "    \"attribute((scale,zero),9,true).\",\n",
    "]\n",
    "spec = facts_to_dict(facts)\n",
    "pprint(spec)"
   ]
  },
  {
   "cell_type": "code",
   "execution_count": 37,
   "metadata": {},
   "outputs": [
    {
     "name": "stdout",
     "output_type": "stream",
     "text": [
      "{'$schema': 'https://vega.github.io/schema/vega-lite/v4.17.0.json',\n",
      " 'config': {'view': {'continuousHeight': 300, 'continuousWidth': 400}},\n",
      " 'hconcat': [{'encoding': {'y': {'field': 'temperature',\n",
      "                                 'scale': {'type': 'linear', 'zero': True},\n",
      "                                 'type': 'quantitative'}},\n",
      "              'mark': 'tick'},\n",
      "             {'encoding': {'x': {'field': 'condition',\n",
      "                                 'scale': {'type': 'ordinal'},\n",
      "                                 'type': 'nominal'},\n",
      "                           'y': {'aggregate': 'count',\n",
      "                                 'field': 'condition',\n",
      "                                 'type': 'nominal'}},\n",
      "              'mark': 'bar'}]}\n"
     ]
    },
    {
     "data": {
      "text/html": [
       "\n",
       "<div id=\"altair-viz-cdbdf127e8b64521aae43ca79c62170b\"></div>\n",
       "<script type=\"text/javascript\">\n",
       "  var VEGA_DEBUG = (typeof VEGA_DEBUG == \"undefined\") ? {} : VEGA_DEBUG;\n",
       "  (function(spec, embedOpt){\n",
       "    let outputDiv = document.currentScript.previousElementSibling;\n",
       "    if (outputDiv.id !== \"altair-viz-cdbdf127e8b64521aae43ca79c62170b\") {\n",
       "      outputDiv = document.getElementById(\"altair-viz-cdbdf127e8b64521aae43ca79c62170b\");\n",
       "    }\n",
       "    const paths = {\n",
       "      \"vega\": \"https://cdn.jsdelivr.net/npm//vega@5?noext\",\n",
       "      \"vega-lib\": \"https://cdn.jsdelivr.net/npm//vega-lib?noext\",\n",
       "      \"vega-lite\": \"https://cdn.jsdelivr.net/npm//vega-lite@4.17.0?noext\",\n",
       "      \"vega-embed\": \"https://cdn.jsdelivr.net/npm//vega-embed@6?noext\",\n",
       "    };\n",
       "\n",
       "    function maybeLoadScript(lib, version) {\n",
       "      var key = `${lib.replace(\"-\", \"\")}_version`;\n",
       "      return (VEGA_DEBUG[key] == version) ?\n",
       "        Promise.resolve(paths[lib]) :\n",
       "        new Promise(function(resolve, reject) {\n",
       "          var s = document.createElement('script');\n",
       "          document.getElementsByTagName(\"head\")[0].appendChild(s);\n",
       "          s.async = true;\n",
       "          s.onload = () => {\n",
       "            VEGA_DEBUG[key] = version;\n",
       "            return resolve(paths[lib]);\n",
       "          };\n",
       "          s.onerror = () => reject(`Error loading script: ${paths[lib]}`);\n",
       "          s.src = paths[lib];\n",
       "        });\n",
       "    }\n",
       "\n",
       "    function showError(err) {\n",
       "      outputDiv.innerHTML = `<div class=\"error\" style=\"color:red;\">${err}</div>`;\n",
       "      throw err;\n",
       "    }\n",
       "\n",
       "    function displayChart(vegaEmbed) {\n",
       "      vegaEmbed(outputDiv, spec, embedOpt)\n",
       "        .catch(err => showError(`Javascript Error: ${err.message}<br>This usually means there's a typo in your chart specification. See the javascript console for the full traceback.`));\n",
       "    }\n",
       "\n",
       "    if(typeof define === \"function\" && define.amd) {\n",
       "      requirejs.config({paths});\n",
       "      require([\"vega-embed\"], displayChart, err => showError(`Error loading script: ${err.message}`));\n",
       "    } else {\n",
       "      maybeLoadScript(\"vega\", \"5\")\n",
       "        .then(() => maybeLoadScript(\"vega-lite\", \"4.17.0\"))\n",
       "        .then(() => maybeLoadScript(\"vega-embed\", \"6\"))\n",
       "        .catch(showError)\n",
       "        .then(() => displayChart(vegaEmbed));\n",
       "    }\n",
       "  })({\"config\": {\"view\": {\"continuousWidth\": 400, \"continuousHeight\": 300}}, \"hconcat\": [{\"mark\": \"tick\", \"encoding\": {\"y\": {\"field\": \"temperature\", \"scale\": {\"type\": \"linear\", \"zero\": true}, \"type\": \"quantitative\"}}}, {\"mark\": \"bar\", \"encoding\": {\"x\": {\"field\": \"condition\", \"scale\": {\"type\": \"ordinal\"}, \"type\": \"nominal\"}, \"y\": {\"aggregate\": \"count\", \"field\": \"condition\", \"type\": \"nominal\"}}}], \"data\": {\"name\": \"data-124c435c1b687eb7890344117a1c86b4\"}, \"$schema\": \"https://vega.github.io/schema/vega-lite/v4.17.0.json\", \"datasets\": {\"data-124c435c1b687eb7890344117a1c86b4\": [{\"temperature\": 17.89365303788651, \"wind\": 78.75685633883592, \"precipitation\": 41.61124606702779, \"condition\": \"rain\"}, {\"temperature\": 5.622818441769336, \"wind\": 25.421998841055917, \"precipitation\": 74.90555083684964, \"condition\": \"rain\"}, {\"temperature\": 23.3902094090436, \"wind\": 9.846103163487696, \"precipitation\": 81.33536438710783, \"condition\": \"rain\"}, {\"temperature\": 20.889554427248395, \"wind\": 27.53521295661492, \"precipitation\": 27.6549324712597, \"condition\": \"drizzle\"}, {\"temperature\": 33.91026207788065, \"wind\": 97.91032820138525, \"precipitation\": 36.53494267552425, \"condition\": \"snow\"}, {\"temperature\": 39.65611406756084, \"wind\": 24.27383951799732, \"precipitation\": 33.38647147375286, \"condition\": \"rain\"}, {\"temperature\": 5.670659801967243, \"wind\": 98.20197823012846, \"precipitation\": 93.72832557739356, \"condition\": \"snow\"}, {\"temperature\": -2.2776070811204505, \"wind\": 77.90443786588797, \"precipitation\": 50.102310147035375, \"condition\": \"drizzle\"}, {\"temperature\": 43.104548648992775, \"wind\": 74.77698982401796, \"precipitation\": 89.95647852559429, \"condition\": \"sun\"}, {\"temperature\": 1.8049661385207525, \"wind\": 91.29152261118769, \"precipitation\": 29.77145087552332, \"condition\": \"fog\"}, {\"temperature\": 14.327115187571408, \"wind\": 45.054261048821296, \"precipitation\": 17.654846400296798, \"condition\": \"drizzle\"}, {\"temperature\": 25.44797791508993, \"wind\": 22.265267642454656, \"precipitation\": 60.37929677885421, \"condition\": \"drizzle\"}, {\"temperature\": 11.19016835531465, \"wind\": 77.30294308487814, \"precipitation\": 71.65443847888368, \"condition\": \"snow\"}, {\"temperature\": 22.948827407585433, \"wind\": 27.03785915458824, \"precipitation\": 92.68901140573688, \"condition\": \"snow\"}, {\"temperature\": 33.16555388154543, \"wind\": 92.1292103045794, \"precipitation\": 39.10838647644195, \"condition\": \"snow\"}, {\"temperature\": 9.981393546660723, \"wind\": 66.73004528306666, \"precipitation\": 19.36957583451713, \"condition\": \"drizzle\"}, {\"temperature\": 2.837559858993796, \"wind\": 18.62443662393004, \"precipitation\": 57.42273968155751, \"condition\": \"sun\"}, {\"temperature\": 39.14290590745285, \"wind\": 32.52859013259527, \"precipitation\": 88.21897530715309, \"condition\": \"rain\"}, {\"temperature\": 39.2325438266719, \"wind\": 2.511353474345024, \"precipitation\": 78.95158173752907, \"condition\": \"fog\"}, {\"temperature\": 2.949456835649645, \"wind\": 1.9370157264502197, \"precipitation\": 3.5337114891518584, \"condition\": \"fog\"}, {\"temperature\": 28.422917308067277, \"wind\": 6.822434636914776, \"precipitation\": 84.5655158038795, \"condition\": \"fog\"}, {\"temperature\": 28.406344711783838, \"wind\": 95.25216996998444, \"precipitation\": 2.312429289727791, \"condition\": \"fog\"}, {\"temperature\": 23.929825809705775, \"wind\": 28.441727967722407, \"precipitation\": 94.94371547195382, \"condition\": \"drizzle\"}, {\"temperature\": 25.144603850494207, \"wind\": 5.7248518372133965, \"precipitation\": 72.55961327284773, \"condition\": \"drizzle\"}, {\"temperature\": -3.1069016270510676, \"wind\": 90.56068308052812, \"precipitation\": 8.208347981870512, \"condition\": \"rain\"}, {\"temperature\": 43.07443333444708, \"wind\": 63.33777651825151, \"precipitation\": 35.343598004733714, \"condition\": \"sun\"}, {\"temperature\": -8.715631484900875, \"wind\": 78.50049089036061, \"precipitation\": 16.726772866900042, \"condition\": \"fog\"}, {\"temperature\": 10.058625587365142, \"wind\": 82.55410159133031, \"precipitation\": 49.82193593499935, \"condition\": \"fog\"}, {\"temperature\": 27.912341883718938, \"wind\": 45.94389098129158, \"precipitation\": 87.71806691348185, \"condition\": \"sun\"}, {\"temperature\": 28.827008981675903, \"wind\": 14.352645600160752, \"precipitation\": 95.30777240838884, \"condition\": \"sun\"}, {\"temperature\": -5.245472855196331, \"wind\": 24.463633090927274, \"precipitation\": 63.1630488725617, \"condition\": \"fog\"}, {\"temperature\": -4.738627417736829, \"wind\": 87.61779675788263, \"precipitation\": 67.17488470646667, \"condition\": \"fog\"}, {\"temperature\": -1.6463371096382655, \"wind\": 34.15953757649686, \"precipitation\": 83.20021064524306, \"condition\": \"rain\"}, {\"temperature\": -8.671469939339552, \"wind\": 28.02148157701091, \"precipitation\": 8.858286414027772, \"condition\": \"snow\"}, {\"temperature\": 23.586980668182306, \"wind\": 32.61177727202879, \"precipitation\": 90.55384722692395, \"condition\": \"snow\"}, {\"temperature\": 42.93552301196303, \"wind\": 17.459007963452034, \"precipitation\": 76.26693620563219, \"condition\": \"sun\"}, {\"temperature\": 14.04271616398174, \"wind\": 31.44611970670743, \"precipitation\": 27.736449442339893, \"condition\": \"rain\"}, {\"temperature\": 33.93136729382773, \"wind\": 85.0980112392488, \"precipitation\": 48.72266227519502, \"condition\": \"fog\"}, {\"temperature\": 29.10713627050935, \"wind\": 25.401508775422734, \"precipitation\": 83.25120184383715, \"condition\": \"fog\"}, {\"temperature\": 23.33130010979005, \"wind\": 38.960479467358745, \"precipitation\": 84.8094568801428, \"condition\": \"rain\"}, {\"temperature\": 27.820447049966695, \"wind\": 97.47611794506456, \"precipitation\": 59.404606053602336, \"condition\": \"fog\"}, {\"temperature\": 24.704809156505995, \"wind\": 56.929461372432655, \"precipitation\": 16.583726619344496, \"condition\": \"drizzle\"}, {\"temperature\": 42.73839675123029, \"wind\": 19.024929246369528, \"precipitation\": 37.515692671204135, \"condition\": \"sun\"}, {\"temperature\": 39.73480992464111, \"wind\": 63.10268501376382, \"precipitation\": 15.20512544845365, \"condition\": \"fog\"}, {\"temperature\": 34.928857478491054, \"wind\": 44.34437827092474, \"precipitation\": 2.9919970218495684, \"condition\": \"sun\"}, {\"temperature\": 12.475457440238529, \"wind\": 45.63508245761745, \"precipitation\": 1.5684442569828705, \"condition\": \"fog\"}, {\"temperature\": 11.485742656702111, \"wind\": 35.43011450755876, \"precipitation\": 46.843314320146966, \"condition\": \"fog\"}, {\"temperature\": 16.58332024159822, \"wind\": 85.9387003246595, \"precipitation\": 67.67417859666371, \"condition\": \"sun\"}, {\"temperature\": 42.96961504747511, \"wind\": 61.02100908610409, \"precipitation\": 40.19537213295094, \"condition\": \"snow\"}, {\"temperature\": 43.01306682260888, \"wind\": 91.58796490357004, \"precipitation\": 10.242970289225461, \"condition\": \"sun\"}, {\"temperature\": 17.888206090116245, \"wind\": 29.82373325722851, \"precipitation\": 44.29455934969246, \"condition\": \"sun\"}, {\"temperature\": 13.700882757230424, \"wind\": 46.93705512034313, \"precipitation\": 76.07676796446637, \"condition\": \"rain\"}, {\"temperature\": 4.986331720563626, \"wind\": 81.90760931416689, \"precipitation\": 34.892239668746406, \"condition\": \"drizzle\"}, {\"temperature\": -1.4778346288931683, \"wind\": 3.9791854357363987, \"precipitation\": 7.535152538482148, \"condition\": \"drizzle\"}, {\"temperature\": 16.892161248783623, \"wind\": 31.993361074291926, \"precipitation\": 60.46401934620111, \"condition\": \"drizzle\"}, {\"temperature\": -7.17506030059671, \"wind\": 5.042336185555952, \"precipitation\": 88.35922403405787, \"condition\": \"drizzle\"}, {\"temperature\": 9.85908134441586, \"wind\": 48.491362316119236, \"precipitation\": 23.80248472573617, \"condition\": \"snow\"}, {\"temperature\": 28.54368725395195, \"wind\": 5.72748587709313, \"precipitation\": 25.974359374267742, \"condition\": \"drizzle\"}, {\"temperature\": 41.85044222939622, \"wind\": 3.311333417116047, \"precipitation\": 1.7918023488591839, \"condition\": \"snow\"}, {\"temperature\": 39.51847585775124, \"wind\": 89.64939452111453, \"precipitation\": 48.53950512768904, \"condition\": \"fog\"}, {\"temperature\": 4.1511791382858725, \"wind\": 58.14172937556887, \"precipitation\": 79.66452798481971, \"condition\": \"drizzle\"}, {\"temperature\": 7.316849144326355, \"wind\": 6.796864846855866, \"precipitation\": 33.619090549629306, \"condition\": \"snow\"}, {\"temperature\": -6.040726652488083, \"wind\": 24.37214720554359, \"precipitation\": 71.46568853073089, \"condition\": \"rain\"}, {\"temperature\": 28.05026452008928, \"wind\": 19.39989397387041, \"precipitation\": 71.68725771245654, \"condition\": \"drizzle\"}, {\"temperature\": 35.30623993317926, \"wind\": 66.54091843981752, \"precipitation\": 22.884049790672588, \"condition\": \"rain\"}, {\"temperature\": -9.078168118751755, \"wind\": 54.53321547753263, \"precipitation\": 66.43449936744369, \"condition\": \"sun\"}, {\"temperature\": 34.31111609068961, \"wind\": 92.79899053872957, \"precipitation\": 61.9431928594434, \"condition\": \"sun\"}, {\"temperature\": -0.5340863902706268, \"wind\": 89.18484464889846, \"precipitation\": 88.49655552922172, \"condition\": \"rain\"}, {\"temperature\": -7.331283732097262, \"wind\": 16.43300088620039, \"precipitation\": 92.15523633598885, \"condition\": \"drizzle\"}, {\"temperature\": 34.4512940591614, \"wind\": 16.982566694713043, \"precipitation\": 66.50391898652623, \"condition\": \"fog\"}, {\"temperature\": 2.292195972387347, \"wind\": 78.07758659490037, \"precipitation\": 85.08941323813521, \"condition\": \"snow\"}, {\"temperature\": 10.280188069701488, \"wind\": 64.37598506985243, \"precipitation\": 46.13428294966927, \"condition\": \"sun\"}, {\"temperature\": 14.385637791164196, \"wind\": 27.710246014732775, \"precipitation\": 82.18132103083111, \"condition\": \"rain\"}, {\"temperature\": 15.068929930658907, \"wind\": 90.37313777532859, \"precipitation\": 95.42688091272505, \"condition\": \"rain\"}, {\"temperature\": -5.931704200276687, \"wind\": 76.30697305192514, \"precipitation\": 48.17926018036856, \"condition\": \"drizzle\"}, {\"temperature\": -1.2238906425326128, \"wind\": 77.25655113115953, \"precipitation\": 12.189057445370022, \"condition\": \"sun\"}, {\"temperature\": 17.981273164150583, \"wind\": 99.8855194023956, \"precipitation\": 5.951490853046981, \"condition\": \"drizzle\"}, {\"temperature\": 8.333054222089164, \"wind\": 22.351144710727677, \"precipitation\": 1.9907985646430038, \"condition\": \"rain\"}, {\"temperature\": 40.99117292213711, \"wind\": 12.537186007473021, \"precipitation\": 3.0957134444521195, \"condition\": \"drizzle\"}, {\"temperature\": 36.29560583814439, \"wind\": 47.282861379528676, \"precipitation\": 50.72175472263106, \"condition\": \"fog\"}, {\"temperature\": 8.011942225789358, \"wind\": 80.64679426688298, \"precipitation\": 84.74031260132877, \"condition\": \"sun\"}, {\"temperature\": 32.64189921238727, \"wind\": 78.38867921926278, \"precipitation\": 94.27015659699374, \"condition\": \"fog\"}, {\"temperature\": -4.159829210634211, \"wind\": 53.39060475873939, \"precipitation\": 50.60795287404672, \"condition\": \"fog\"}, {\"temperature\": -6.602296737522483, \"wind\": 86.55899134629715, \"precipitation\": 62.64697378600636, \"condition\": \"fog\"}, {\"temperature\": 40.135239145180655, \"wind\": 16.633704419495032, \"precipitation\": 41.391087682479736, \"condition\": \"drizzle\"}, {\"temperature\": 26.95881305440288, \"wind\": 85.8809786017975, \"precipitation\": 71.9617762842435, \"condition\": \"drizzle\"}, {\"temperature\": 11.92991543604046, \"wind\": 76.39140196294017, \"precipitation\": 60.40612399492309, \"condition\": \"drizzle\"}, {\"temperature\": 19.566301202766702, \"wind\": 72.97802286558691, \"precipitation\": 29.681848692175006, \"condition\": \"drizzle\"}, {\"temperature\": 10.481864045771506, \"wind\": 10.269367839292642, \"precipitation\": 85.87287289024248, \"condition\": \"rain\"}, {\"temperature\": -9.620152753805623, \"wind\": 64.57630699894213, \"precipitation\": 29.06583641537993, \"condition\": \"drizzle\"}, {\"temperature\": 24.85823346816882, \"wind\": 64.44200648973889, \"precipitation\": 32.79358601401415, \"condition\": \"sun\"}, {\"temperature\": -9.71401231081625, \"wind\": 46.94482107365025, \"precipitation\": 71.95828763550503, \"condition\": \"rain\"}, {\"temperature\": 15.802582568794556, \"wind\": 5.568264782160037, \"precipitation\": 16.50277435360922, \"condition\": \"sun\"}, {\"temperature\": 29.44740698845427, \"wind\": 66.4224540835048, \"precipitation\": 96.91347272575433, \"condition\": \"snow\"}, {\"temperature\": 0.1789559651072139, \"wind\": 37.144396583281235, \"precipitation\": 7.3927878065009445, \"condition\": \"snow\"}, {\"temperature\": 37.90262114384076, \"wind\": 23.744567572534315, \"precipitation\": 85.44013318397162, \"condition\": \"fog\"}, {\"temperature\": 40.40503203411964, \"wind\": 71.68155336881077, \"precipitation\": 91.260802513042, \"condition\": \"snow\"}, {\"temperature\": 2.723433474361908, \"wind\": 5.85694236985378, \"precipitation\": 54.0295184169758, \"condition\": \"drizzle\"}, {\"temperature\": 9.452609321039336, \"wind\": 52.7843932253772, \"precipitation\": 90.04450333194686, \"condition\": \"fog\"}, {\"temperature\": 18.909153974667404, \"wind\": 13.725377509230263, \"precipitation\": 34.56974350594094, \"condition\": \"sun\"}]}}, {\"mode\": \"vega-lite\"});\n",
       "</script>"
      ],
      "text/plain": [
       "alt.HConcatChart(...)"
      ]
     },
     "metadata": {},
     "output_type": "display_data"
    }
   ],
   "source": [
    "base = alt.Chart(df)\n",
    "\n",
    "tick = base.mark_tick().encode(\n",
    "    y=alt.Y(\n",
    "        field=\"temperature\",\n",
    "        type=\"quantitative\",\n",
    "        scale=alt.Scale(type=\"linear\", zero=True),\n",
    "    )\n",
    ")\n",
    "view_1 = tick\n",
    "\n",
    "bar = base.mark_bar().encode(\n",
    "    x=alt.X(field=\"condition\", type=\"nominal\", scale=alt.Scale(type=\"ordinal\")),\n",
    "    y=alt.Y(field=\"condition\", type=\"nominal\", aggregate=\"count\"),\n",
    ")\n",
    "view_2 = bar\n",
    "\n",
    "display_chart(view_1 | view_2)"
   ]
  },
  {
   "cell_type": "markdown",
   "metadata": {},
   "source": [
    "### Tick Plot and Histogram with Shared Y-Scale"
   ]
  },
  {
   "cell_type": "code",
   "execution_count": 38,
   "metadata": {},
   "outputs": [
    {
     "name": "stdout",
     "output_type": "stream",
     "text": [
      "{'field': [{'name': 'temperature', 'type': 'number'},\n",
      "           {'name': 'condition', 'type': 'string'}],\n",
      " 'number_rows': 100,\n",
      " 'scale': [{'channel': 'y', 'type': 'linear', 'zero': 'true'}],\n",
      " 'view': [{'mark': [{'encoding': [{'channel': 'y', 'field': 'temperature'}],\n",
      "                     'type': 'tick'}]},\n",
      "          {'mark': [{'encoding': [{'aggregate': 'mean',\n",
      "                                   'channel': 'y',\n",
      "                                   'field': 'temperature'},\n",
      "                                  {'channel': 'x', 'field': 'condition'}],\n",
      "                     'type': 'bar'}],\n",
      "           'scale': [{'channel': 'x', 'type': 'ordinal'}]}]}\n"
     ]
    }
   ],
   "source": [
    "facts = [\n",
    "    \"attribute(number_rows,root,100).\",\n",
    "    \"entity(field,root,temperature).\",\n",
    "    \"attribute((field,name),temperature,temperature).\",\n",
    "    \"attribute((field,type),temperature,number).\",\n",
    "    \"entity(field,root,condition).\",\n",
    "    \"attribute((field,name),condition,condition).\",\n",
    "    \"attribute((field,type),condition,string).\",\n",
    "    \"entity(view,root,0).\",\n",
    "    \"entity(mark,0,1).\",\n",
    "    \"attribute((mark,type),1,tick).\",\n",
    "    \"entity(encoding,1,2).\",\n",
    "    \"attribute((encoding,channel),2,y).\",\n",
    "    \"attribute((encoding,field),2,temperature).\",\n",
    "    \"entity(view,root,3).\",\n",
    "    \"entity(mark,3,4).\",\n",
    "    \"attribute((mark,type),4,bar).\",\n",
    "    \"entity(encoding,4,5).\",\n",
    "    \"attribute((encoding,channel),5,y).\",\n",
    "    \"attribute((encoding,field),5,temperature).\",\n",
    "    \"attribute((encoding,aggregate),5,mean).\",\n",
    "    \"entity(encoding,4,6).\",\n",
    "    \"attribute((encoding,channel),6,x).\",\n",
    "    \"attribute((encoding,field),6,condition).\",\n",
    "    \"entity(scale,3,7).\",\n",
    "    \"attribute((scale,channel),7,x).\",\n",
    "    \"attribute((scale,type),7,ordinal).\",\n",
    "    \"entity(scale,root,8).\",\n",
    "    \"attribute((scale,channel),8,y).\",\n",
    "    \"attribute((scale,type),8,linear).\",\n",
    "    \"attribute((scale,zero),8,true).\",\n",
    "]\n",
    "spec = facts_to_dict(facts)\n",
    "pprint(spec)"
   ]
  },
  {
   "cell_type": "code",
   "execution_count": 39,
   "metadata": {},
   "outputs": [
    {
     "name": "stdout",
     "output_type": "stream",
     "text": [
      "{'$schema': 'https://vega.github.io/schema/vega-lite/v4.17.0.json',\n",
      " 'config': {'view': {'continuousHeight': 300, 'continuousWidth': 400}},\n",
      " 'hconcat': [{'encoding': {'y': {'field': 'temperature',\n",
      "                                 'type': 'quantitative'}},\n",
      "              'mark': 'tick'},\n",
      "             {'encoding': {'x': {'field': 'condition', 'type': 'nominal'},\n",
      "                           'y': {'aggregate': 'mean',\n",
      "                                 'field': 'temperature',\n",
      "                                 'type': 'quantitative'}},\n",
      "              'mark': 'bar'}],\n",
      " 'resolve': {'scale': {'y': 'shared'}}}\n"
     ]
    },
    {
     "data": {
      "text/html": [
       "\n",
       "<div id=\"altair-viz-c5453ab10b844f9b9347bf75335e0699\"></div>\n",
       "<script type=\"text/javascript\">\n",
       "  var VEGA_DEBUG = (typeof VEGA_DEBUG == \"undefined\") ? {} : VEGA_DEBUG;\n",
       "  (function(spec, embedOpt){\n",
       "    let outputDiv = document.currentScript.previousElementSibling;\n",
       "    if (outputDiv.id !== \"altair-viz-c5453ab10b844f9b9347bf75335e0699\") {\n",
       "      outputDiv = document.getElementById(\"altair-viz-c5453ab10b844f9b9347bf75335e0699\");\n",
       "    }\n",
       "    const paths = {\n",
       "      \"vega\": \"https://cdn.jsdelivr.net/npm//vega@5?noext\",\n",
       "      \"vega-lib\": \"https://cdn.jsdelivr.net/npm//vega-lib?noext\",\n",
       "      \"vega-lite\": \"https://cdn.jsdelivr.net/npm//vega-lite@4.17.0?noext\",\n",
       "      \"vega-embed\": \"https://cdn.jsdelivr.net/npm//vega-embed@6?noext\",\n",
       "    };\n",
       "\n",
       "    function maybeLoadScript(lib, version) {\n",
       "      var key = `${lib.replace(\"-\", \"\")}_version`;\n",
       "      return (VEGA_DEBUG[key] == version) ?\n",
       "        Promise.resolve(paths[lib]) :\n",
       "        new Promise(function(resolve, reject) {\n",
       "          var s = document.createElement('script');\n",
       "          document.getElementsByTagName(\"head\")[0].appendChild(s);\n",
       "          s.async = true;\n",
       "          s.onload = () => {\n",
       "            VEGA_DEBUG[key] = version;\n",
       "            return resolve(paths[lib]);\n",
       "          };\n",
       "          s.onerror = () => reject(`Error loading script: ${paths[lib]}`);\n",
       "          s.src = paths[lib];\n",
       "        });\n",
       "    }\n",
       "\n",
       "    function showError(err) {\n",
       "      outputDiv.innerHTML = `<div class=\"error\" style=\"color:red;\">${err}</div>`;\n",
       "      throw err;\n",
       "    }\n",
       "\n",
       "    function displayChart(vegaEmbed) {\n",
       "      vegaEmbed(outputDiv, spec, embedOpt)\n",
       "        .catch(err => showError(`Javascript Error: ${err.message}<br>This usually means there's a typo in your chart specification. See the javascript console for the full traceback.`));\n",
       "    }\n",
       "\n",
       "    if(typeof define === \"function\" && define.amd) {\n",
       "      requirejs.config({paths});\n",
       "      require([\"vega-embed\"], displayChart, err => showError(`Error loading script: ${err.message}`));\n",
       "    } else {\n",
       "      maybeLoadScript(\"vega\", \"5\")\n",
       "        .then(() => maybeLoadScript(\"vega-lite\", \"4.17.0\"))\n",
       "        .then(() => maybeLoadScript(\"vega-embed\", \"6\"))\n",
       "        .catch(showError)\n",
       "        .then(() => displayChart(vegaEmbed));\n",
       "    }\n",
       "  })({\"config\": {\"view\": {\"continuousWidth\": 400, \"continuousHeight\": 300}}, \"hconcat\": [{\"mark\": \"tick\", \"encoding\": {\"y\": {\"field\": \"temperature\", \"type\": \"quantitative\"}}}, {\"mark\": \"bar\", \"encoding\": {\"x\": {\"field\": \"condition\", \"type\": \"nominal\"}, \"y\": {\"aggregate\": \"mean\", \"field\": \"temperature\", \"type\": \"quantitative\"}}}], \"data\": {\"name\": \"data-124c435c1b687eb7890344117a1c86b4\"}, \"resolve\": {\"scale\": {\"y\": \"shared\"}}, \"$schema\": \"https://vega.github.io/schema/vega-lite/v4.17.0.json\", \"datasets\": {\"data-124c435c1b687eb7890344117a1c86b4\": [{\"temperature\": 17.89365303788651, \"wind\": 78.75685633883592, \"precipitation\": 41.61124606702779, \"condition\": \"rain\"}, {\"temperature\": 5.622818441769336, \"wind\": 25.421998841055917, \"precipitation\": 74.90555083684964, \"condition\": \"rain\"}, {\"temperature\": 23.3902094090436, \"wind\": 9.846103163487696, \"precipitation\": 81.33536438710783, \"condition\": \"rain\"}, {\"temperature\": 20.889554427248395, \"wind\": 27.53521295661492, \"precipitation\": 27.6549324712597, \"condition\": \"drizzle\"}, {\"temperature\": 33.91026207788065, \"wind\": 97.91032820138525, \"precipitation\": 36.53494267552425, \"condition\": \"snow\"}, {\"temperature\": 39.65611406756084, \"wind\": 24.27383951799732, \"precipitation\": 33.38647147375286, \"condition\": \"rain\"}, {\"temperature\": 5.670659801967243, \"wind\": 98.20197823012846, \"precipitation\": 93.72832557739356, \"condition\": \"snow\"}, {\"temperature\": -2.2776070811204505, \"wind\": 77.90443786588797, \"precipitation\": 50.102310147035375, \"condition\": \"drizzle\"}, {\"temperature\": 43.104548648992775, \"wind\": 74.77698982401796, \"precipitation\": 89.95647852559429, \"condition\": \"sun\"}, {\"temperature\": 1.8049661385207525, \"wind\": 91.29152261118769, \"precipitation\": 29.77145087552332, \"condition\": \"fog\"}, {\"temperature\": 14.327115187571408, \"wind\": 45.054261048821296, \"precipitation\": 17.654846400296798, \"condition\": \"drizzle\"}, {\"temperature\": 25.44797791508993, \"wind\": 22.265267642454656, \"precipitation\": 60.37929677885421, \"condition\": \"drizzle\"}, {\"temperature\": 11.19016835531465, \"wind\": 77.30294308487814, \"precipitation\": 71.65443847888368, \"condition\": \"snow\"}, {\"temperature\": 22.948827407585433, \"wind\": 27.03785915458824, \"precipitation\": 92.68901140573688, \"condition\": \"snow\"}, {\"temperature\": 33.16555388154543, \"wind\": 92.1292103045794, \"precipitation\": 39.10838647644195, \"condition\": \"snow\"}, {\"temperature\": 9.981393546660723, \"wind\": 66.73004528306666, \"precipitation\": 19.36957583451713, \"condition\": \"drizzle\"}, {\"temperature\": 2.837559858993796, \"wind\": 18.62443662393004, \"precipitation\": 57.42273968155751, \"condition\": \"sun\"}, {\"temperature\": 39.14290590745285, \"wind\": 32.52859013259527, \"precipitation\": 88.21897530715309, \"condition\": \"rain\"}, {\"temperature\": 39.2325438266719, \"wind\": 2.511353474345024, \"precipitation\": 78.95158173752907, \"condition\": \"fog\"}, {\"temperature\": 2.949456835649645, \"wind\": 1.9370157264502197, \"precipitation\": 3.5337114891518584, \"condition\": \"fog\"}, {\"temperature\": 28.422917308067277, \"wind\": 6.822434636914776, \"precipitation\": 84.5655158038795, \"condition\": \"fog\"}, {\"temperature\": 28.406344711783838, \"wind\": 95.25216996998444, \"precipitation\": 2.312429289727791, \"condition\": \"fog\"}, {\"temperature\": 23.929825809705775, \"wind\": 28.441727967722407, \"precipitation\": 94.94371547195382, \"condition\": \"drizzle\"}, {\"temperature\": 25.144603850494207, \"wind\": 5.7248518372133965, \"precipitation\": 72.55961327284773, \"condition\": \"drizzle\"}, {\"temperature\": -3.1069016270510676, \"wind\": 90.56068308052812, \"precipitation\": 8.208347981870512, \"condition\": \"rain\"}, {\"temperature\": 43.07443333444708, \"wind\": 63.33777651825151, \"precipitation\": 35.343598004733714, \"condition\": \"sun\"}, {\"temperature\": -8.715631484900875, \"wind\": 78.50049089036061, \"precipitation\": 16.726772866900042, \"condition\": \"fog\"}, {\"temperature\": 10.058625587365142, \"wind\": 82.55410159133031, \"precipitation\": 49.82193593499935, \"condition\": \"fog\"}, {\"temperature\": 27.912341883718938, \"wind\": 45.94389098129158, \"precipitation\": 87.71806691348185, \"condition\": \"sun\"}, {\"temperature\": 28.827008981675903, \"wind\": 14.352645600160752, \"precipitation\": 95.30777240838884, \"condition\": \"sun\"}, {\"temperature\": -5.245472855196331, \"wind\": 24.463633090927274, \"precipitation\": 63.1630488725617, \"condition\": \"fog\"}, {\"temperature\": -4.738627417736829, \"wind\": 87.61779675788263, \"precipitation\": 67.17488470646667, \"condition\": \"fog\"}, {\"temperature\": -1.6463371096382655, \"wind\": 34.15953757649686, \"precipitation\": 83.20021064524306, \"condition\": \"rain\"}, {\"temperature\": -8.671469939339552, \"wind\": 28.02148157701091, \"precipitation\": 8.858286414027772, \"condition\": \"snow\"}, {\"temperature\": 23.586980668182306, \"wind\": 32.61177727202879, \"precipitation\": 90.55384722692395, \"condition\": \"snow\"}, {\"temperature\": 42.93552301196303, \"wind\": 17.459007963452034, \"precipitation\": 76.26693620563219, \"condition\": \"sun\"}, {\"temperature\": 14.04271616398174, \"wind\": 31.44611970670743, \"precipitation\": 27.736449442339893, \"condition\": \"rain\"}, {\"temperature\": 33.93136729382773, \"wind\": 85.0980112392488, \"precipitation\": 48.72266227519502, \"condition\": \"fog\"}, {\"temperature\": 29.10713627050935, \"wind\": 25.401508775422734, \"precipitation\": 83.25120184383715, \"condition\": \"fog\"}, {\"temperature\": 23.33130010979005, \"wind\": 38.960479467358745, \"precipitation\": 84.8094568801428, \"condition\": \"rain\"}, {\"temperature\": 27.820447049966695, \"wind\": 97.47611794506456, \"precipitation\": 59.404606053602336, \"condition\": \"fog\"}, {\"temperature\": 24.704809156505995, \"wind\": 56.929461372432655, \"precipitation\": 16.583726619344496, \"condition\": \"drizzle\"}, {\"temperature\": 42.73839675123029, \"wind\": 19.024929246369528, \"precipitation\": 37.515692671204135, \"condition\": \"sun\"}, {\"temperature\": 39.73480992464111, \"wind\": 63.10268501376382, \"precipitation\": 15.20512544845365, \"condition\": \"fog\"}, {\"temperature\": 34.928857478491054, \"wind\": 44.34437827092474, \"precipitation\": 2.9919970218495684, \"condition\": \"sun\"}, {\"temperature\": 12.475457440238529, \"wind\": 45.63508245761745, \"precipitation\": 1.5684442569828705, \"condition\": \"fog\"}, {\"temperature\": 11.485742656702111, \"wind\": 35.43011450755876, \"precipitation\": 46.843314320146966, \"condition\": \"fog\"}, {\"temperature\": 16.58332024159822, \"wind\": 85.9387003246595, \"precipitation\": 67.67417859666371, \"condition\": \"sun\"}, {\"temperature\": 42.96961504747511, \"wind\": 61.02100908610409, \"precipitation\": 40.19537213295094, \"condition\": \"snow\"}, {\"temperature\": 43.01306682260888, \"wind\": 91.58796490357004, \"precipitation\": 10.242970289225461, \"condition\": \"sun\"}, {\"temperature\": 17.888206090116245, \"wind\": 29.82373325722851, \"precipitation\": 44.29455934969246, \"condition\": \"sun\"}, {\"temperature\": 13.700882757230424, \"wind\": 46.93705512034313, \"precipitation\": 76.07676796446637, \"condition\": \"rain\"}, {\"temperature\": 4.986331720563626, \"wind\": 81.90760931416689, \"precipitation\": 34.892239668746406, \"condition\": \"drizzle\"}, {\"temperature\": -1.4778346288931683, \"wind\": 3.9791854357363987, \"precipitation\": 7.535152538482148, \"condition\": \"drizzle\"}, {\"temperature\": 16.892161248783623, \"wind\": 31.993361074291926, \"precipitation\": 60.46401934620111, \"condition\": \"drizzle\"}, {\"temperature\": -7.17506030059671, \"wind\": 5.042336185555952, \"precipitation\": 88.35922403405787, \"condition\": \"drizzle\"}, {\"temperature\": 9.85908134441586, \"wind\": 48.491362316119236, \"precipitation\": 23.80248472573617, \"condition\": \"snow\"}, {\"temperature\": 28.54368725395195, \"wind\": 5.72748587709313, \"precipitation\": 25.974359374267742, \"condition\": \"drizzle\"}, {\"temperature\": 41.85044222939622, \"wind\": 3.311333417116047, \"precipitation\": 1.7918023488591839, \"condition\": \"snow\"}, {\"temperature\": 39.51847585775124, \"wind\": 89.64939452111453, \"precipitation\": 48.53950512768904, \"condition\": \"fog\"}, {\"temperature\": 4.1511791382858725, \"wind\": 58.14172937556887, \"precipitation\": 79.66452798481971, \"condition\": \"drizzle\"}, {\"temperature\": 7.316849144326355, \"wind\": 6.796864846855866, \"precipitation\": 33.619090549629306, \"condition\": \"snow\"}, {\"temperature\": -6.040726652488083, \"wind\": 24.37214720554359, \"precipitation\": 71.46568853073089, \"condition\": \"rain\"}, {\"temperature\": 28.05026452008928, \"wind\": 19.39989397387041, \"precipitation\": 71.68725771245654, \"condition\": \"drizzle\"}, {\"temperature\": 35.30623993317926, \"wind\": 66.54091843981752, \"precipitation\": 22.884049790672588, \"condition\": \"rain\"}, {\"temperature\": -9.078168118751755, \"wind\": 54.53321547753263, \"precipitation\": 66.43449936744369, \"condition\": \"sun\"}, {\"temperature\": 34.31111609068961, \"wind\": 92.79899053872957, \"precipitation\": 61.9431928594434, \"condition\": \"sun\"}, {\"temperature\": -0.5340863902706268, \"wind\": 89.18484464889846, \"precipitation\": 88.49655552922172, \"condition\": \"rain\"}, {\"temperature\": -7.331283732097262, \"wind\": 16.43300088620039, \"precipitation\": 92.15523633598885, \"condition\": \"drizzle\"}, {\"temperature\": 34.4512940591614, \"wind\": 16.982566694713043, \"precipitation\": 66.50391898652623, \"condition\": \"fog\"}, {\"temperature\": 2.292195972387347, \"wind\": 78.07758659490037, \"precipitation\": 85.08941323813521, \"condition\": \"snow\"}, {\"temperature\": 10.280188069701488, \"wind\": 64.37598506985243, \"precipitation\": 46.13428294966927, \"condition\": \"sun\"}, {\"temperature\": 14.385637791164196, \"wind\": 27.710246014732775, \"precipitation\": 82.18132103083111, \"condition\": \"rain\"}, {\"temperature\": 15.068929930658907, \"wind\": 90.37313777532859, \"precipitation\": 95.42688091272505, \"condition\": \"rain\"}, {\"temperature\": -5.931704200276687, \"wind\": 76.30697305192514, \"precipitation\": 48.17926018036856, \"condition\": \"drizzle\"}, {\"temperature\": -1.2238906425326128, \"wind\": 77.25655113115953, \"precipitation\": 12.189057445370022, \"condition\": \"sun\"}, {\"temperature\": 17.981273164150583, \"wind\": 99.8855194023956, \"precipitation\": 5.951490853046981, \"condition\": \"drizzle\"}, {\"temperature\": 8.333054222089164, \"wind\": 22.351144710727677, \"precipitation\": 1.9907985646430038, \"condition\": \"rain\"}, {\"temperature\": 40.99117292213711, \"wind\": 12.537186007473021, \"precipitation\": 3.0957134444521195, \"condition\": \"drizzle\"}, {\"temperature\": 36.29560583814439, \"wind\": 47.282861379528676, \"precipitation\": 50.72175472263106, \"condition\": \"fog\"}, {\"temperature\": 8.011942225789358, \"wind\": 80.64679426688298, \"precipitation\": 84.74031260132877, \"condition\": \"sun\"}, {\"temperature\": 32.64189921238727, \"wind\": 78.38867921926278, \"precipitation\": 94.27015659699374, \"condition\": \"fog\"}, {\"temperature\": -4.159829210634211, \"wind\": 53.39060475873939, \"precipitation\": 50.60795287404672, \"condition\": \"fog\"}, {\"temperature\": -6.602296737522483, \"wind\": 86.55899134629715, \"precipitation\": 62.64697378600636, \"condition\": \"fog\"}, {\"temperature\": 40.135239145180655, \"wind\": 16.633704419495032, \"precipitation\": 41.391087682479736, \"condition\": \"drizzle\"}, {\"temperature\": 26.95881305440288, \"wind\": 85.8809786017975, \"precipitation\": 71.9617762842435, \"condition\": \"drizzle\"}, {\"temperature\": 11.92991543604046, \"wind\": 76.39140196294017, \"precipitation\": 60.40612399492309, \"condition\": \"drizzle\"}, {\"temperature\": 19.566301202766702, \"wind\": 72.97802286558691, \"precipitation\": 29.681848692175006, \"condition\": \"drizzle\"}, {\"temperature\": 10.481864045771506, \"wind\": 10.269367839292642, \"precipitation\": 85.87287289024248, \"condition\": \"rain\"}, {\"temperature\": -9.620152753805623, \"wind\": 64.57630699894213, \"precipitation\": 29.06583641537993, \"condition\": \"drizzle\"}, {\"temperature\": 24.85823346816882, \"wind\": 64.44200648973889, \"precipitation\": 32.79358601401415, \"condition\": \"sun\"}, {\"temperature\": -9.71401231081625, \"wind\": 46.94482107365025, \"precipitation\": 71.95828763550503, \"condition\": \"rain\"}, {\"temperature\": 15.802582568794556, \"wind\": 5.568264782160037, \"precipitation\": 16.50277435360922, \"condition\": \"sun\"}, {\"temperature\": 29.44740698845427, \"wind\": 66.4224540835048, \"precipitation\": 96.91347272575433, \"condition\": \"snow\"}, {\"temperature\": 0.1789559651072139, \"wind\": 37.144396583281235, \"precipitation\": 7.3927878065009445, \"condition\": \"snow\"}, {\"temperature\": 37.90262114384076, \"wind\": 23.744567572534315, \"precipitation\": 85.44013318397162, \"condition\": \"fog\"}, {\"temperature\": 40.40503203411964, \"wind\": 71.68155336881077, \"precipitation\": 91.260802513042, \"condition\": \"snow\"}, {\"temperature\": 2.723433474361908, \"wind\": 5.85694236985378, \"precipitation\": 54.0295184169758, \"condition\": \"drizzle\"}, {\"temperature\": 9.452609321039336, \"wind\": 52.7843932253772, \"precipitation\": 90.04450333194686, \"condition\": \"fog\"}, {\"temperature\": 18.909153974667404, \"wind\": 13.725377509230263, \"precipitation\": 34.56974350594094, \"condition\": \"sun\"}]}}, {\"mode\": \"vega-lite\"});\n",
       "</script>"
      ],
      "text/plain": [
       "alt.HConcatChart(...)"
      ]
     },
     "metadata": {},
     "output_type": "display_data"
    }
   ],
   "source": [
    "base = alt.Chart(df)\n",
    "\n",
    "tick = base.mark_tick().encode(y=alt.Y(field=\"temperature\", type=\"quantitative\"))\n",
    "view_1 = tick\n",
    "\n",
    "bar = base.mark_bar().encode(\n",
    "    x=alt.X(field=\"condition\", type=\"nominal\"),\n",
    "    y=alt.Y(field=\"temperature\", type=\"quantitative\", aggregate=\"mean\"),\n",
    ")\n",
    "view_2 = bar\n",
    "chart = alt.hconcat(view_1, view_2).resolve_scale(y=\"shared\")\n",
    "\n",
    "display_chart(chart)"
   ]
  },
  {
   "cell_type": "code",
   "execution_count": null,
   "metadata": {
    "collapsed": false,
    "jupyter": {
     "outputs_hidden": false
    }
   },
   "outputs": [],
   "source": []
  }
 ],
 "metadata": {
  "kernelspec": {
   "display_name": "Python 3 (ipykernel)",
   "language": "python",
   "name": "python3"
  },
  "language_info": {
   "codemirror_mode": {
    "name": "ipython",
    "version": 3
   },
   "file_extension": ".py",
   "mimetype": "text/x-python",
   "name": "python",
   "nbconvert_exporter": "python",
   "pygments_lexer": "ipython3",
   "version": "3.10.0"
  }
 },
 "nbformat": 4,
 "nbformat_minor": 4
}
