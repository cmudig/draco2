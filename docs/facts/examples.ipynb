{
 "cells": [
  {
   "cell_type": "markdown",
   "metadata": {},
   "source": [
    "# Example Charts\n",
    "\n",
    "Draco's specification of visualizations (i.e. charts) support single view and multi view  charts. The specification is inspired by [Vega-Lite](https://vega.github.io/vega-lite/). "
   ]
  },
  {
   "cell_type": "code",
   "execution_count": 1,
   "metadata": {},
   "outputs": [],
   "source": [
    "from draco import dict_union, dict_to_facts, check_spec\n",
    "\n",
    "def show(*args):\n",
    "    spec = dict_union(*args)\n",
    "    prog = dict_to_facts(spec)\n",
    "    assert check_spec(prog), \"Invalid spec\"\n",
    "    return prog"
   ]
  },
  {
   "cell_type": "markdown",
   "metadata": {},
   "source": []
  },
  {
   "cell_type": "markdown",
   "metadata": {},
   "source": [
    "## Data for the Examples\n",
    "\n",
    "As the example, we use a weather dataset."
   ]
  },
  {
   "cell_type": "code",
   "execution_count": 2,
   "metadata": {},
   "outputs": [],
   "source": [
    "def data(fields):\n",
    "    return {\n",
    "        \"number_rows\": 100,\n",
    "        \"field\": [x for x in [{\n",
    "            \"name\": \"temperature\",\n",
    "            \"type\": \"number\"\n",
    "        }, {\n",
    "            \"name\": \"wind\",\n",
    "            \"type\": \"number\"\n",
    "        }, {\n",
    "            \"name\": \"precipitation\",\n",
    "            \"type\": \"number\"\n",
    "        }, {\n",
    "            \"name\": \"condition\",\n",
    "            \"type\": \"string\"\n",
    "        }] if x[\"name\"] in fields]\n",
    "    }"
   ]
  },
  {
   "cell_type": "markdown",
   "metadata": {},
   "source": [
    "## Single View, Single Mark Charts"
   ]
  },
  {
   "cell_type": "code",
   "execution_count": 3,
   "metadata": {},
   "outputs": [
    {
     "data": {
      "text/plain": "['attribute(number_rows,root,100).',\n 'entity(field,root,0).',\n 'attribute((field,name),0,temperature).',\n 'attribute((field,type),0,number).',\n 'entity(mark,root,1).',\n 'attribute((mark,type),1,tick).',\n 'entity(encoding,1,2).',\n 'attribute((encoding,channel),2,x).',\n 'attribute((encoding,field),2,temperature).',\n 'entity(scale,root,3).',\n 'attribute((scale,channel),3,x).',\n 'attribute((scale,type),3,linear).']"
     },
     "execution_count": 3,
     "metadata": {},
     "output_type": "execute_result"
    }
   ],
   "source": [
    "# Tick Plot\n",
    "\n",
    "show(data(['temperature']), {\n",
    "    \"mark\": [{\n",
    "        \"type\": \"tick\",\n",
    "        \"encoding\": [{\n",
    "            \"channel\": \"x\",\n",
    "            \"field\": \"temperature\"\n",
    "        }]\n",
    "    }],\n",
    "    \"scale\": [{\n",
    "        \"channel\": \"x\",\n",
    "        \"type\": \"linear\"\n",
    "    }]\n",
    "})"
   ]
  },
  {
   "cell_type": "code",
   "execution_count": 4,
   "metadata": {},
   "outputs": [
    {
     "data": {
      "text/plain": "['attribute(number_rows,root,100).',\n 'entity(field,root,0).',\n 'attribute((field,name),0,temperature).',\n 'attribute((field,type),0,number).',\n 'entity(mark,root,1).',\n 'attribute((mark,type),1,tick).',\n 'entity(encoding,1,2).',\n 'attribute((encoding,channel),2,x).',\n 'attribute((encoding,field),2,temperature).',\n 'entity(scale,root,3).',\n 'attribute((scale,channel),3,x).',\n 'attribute((scale,type),3,log).']"
     },
     "execution_count": 4,
     "metadata": {},
     "output_type": "execute_result"
    }
   ],
   "source": [
    "# Tick Plot with a Log Scale\n",
    "\n",
    "show(data(['temperature']), {\n",
    "    \"mark\": [{\n",
    "        \"type\": \"tick\",\n",
    "        \"encoding\": [{\n",
    "            \"channel\": \"x\",\n",
    "            \"field\": \"temperature\"\n",
    "        }]\n",
    "    }],\n",
    "    \"scale\": [{\n",
    "        \"channel\": \"x\",\n",
    "        \"type\": \"log\"\n",
    "    }]\n",
    "})"
   ]
  },
  {
   "cell_type": "code",
   "execution_count": 5,
   "metadata": {},
   "outputs": [
    {
     "data": {
      "text/plain": "['attribute(number_rows,root,100).',\n 'entity(field,root,0).',\n 'attribute((field,name),0,temperature).',\n 'attribute((field,type),0,number).',\n 'entity(field,root,1).',\n 'attribute((field,name),1,condition).',\n 'attribute((field,type),1,string).',\n 'entity(mark,root,2).',\n 'attribute((mark,type),2,bar).',\n 'entity(encoding,2,3).',\n 'attribute((encoding,channel),3,x).',\n 'attribute((encoding,field),3,condition).',\n 'entity(encoding,2,4).',\n 'attribute((encoding,channel),4,y).',\n 'attribute((encoding,field),4,temperature).',\n 'attribute((encoding,aggregate),4,mean).',\n 'entity(scale,root,5).',\n 'attribute((scale,channel),5,x).',\n 'attribute((scale,type),5,ordinal).',\n 'entity(scale,root,6).',\n 'attribute((scale,channel),6,y).',\n 'attribute((scale,type),6,linear).']"
     },
     "execution_count": 5,
     "metadata": {},
     "output_type": "execute_result"
    }
   ],
   "source": [
    "# Bar Chart\n",
    "\n",
    "show(data(['condition', 'temperature']), {\n",
    "    \"mark\": [{\n",
    "        \"type\": \"bar\",\n",
    "        \"encoding\": [{\n",
    "            \"channel\": \"x\",\n",
    "            \"field\": \"condition\"\n",
    "        }, {\n",
    "            \"channel\": \"y\",\n",
    "            \"field\": \"temperature\",\n",
    "            \"aggregate\": \"mean\"\n",
    "        }]\n",
    "    }],\n",
    "    \"scale\": [{\n",
    "        \"channel\": \"x\",\n",
    "        \"type\": \"ordinal\"\n",
    "    },{\n",
    "        \"channel\": \"y\",\n",
    "        \"type\": \"linear\"\n",
    "    }]\n",
    "})"
   ]
  },
  {
   "cell_type": "code",
   "execution_count": 6,
   "metadata": {},
   "outputs": [
    {
     "data": {
      "text/plain": "['attribute(number_rows,root,100).',\n 'entity(field,root,0).',\n 'attribute((field,name),0,condition).',\n 'attribute((field,type),0,string).',\n 'entity(mark,root,1).',\n 'attribute((mark,mark_type),1,bar).',\n 'entity(encoding,1,2).',\n 'attribute((encoding,channel),2,x).',\n 'attribute((encoding,field),2,condition).',\n 'entity(encoding,1,3).',\n 'attribute((encoding,channel),3,y).',\n 'attribute((encoding,aggregate),3,count).',\n 'entity(scale,root,4).',\n 'attribute((scale,channel),4,x).',\n 'attribute((scale,type),4,ordinal).',\n 'entity(scale,root,5).',\n 'attribute((scale,channel),5,y).',\n 'attribute((scale,type),5,linear).']"
     },
     "execution_count": 6,
     "metadata": {},
     "output_type": "execute_result"
    }
   ],
   "source": [
    "# Histogram\n",
    "\n",
    "show(data(['condition']), {\n",
    "    \"mark\": [{\n",
    "        \"mark_type\": \"bar\",\n",
    "        \"encoding\": [{\n",
    "            \"channel\": \"x\",\n",
    "            \"field\": \"condition\"\n",
    "        }, {\n",
    "            \"channel\": \"y\",\n",
    "            \"aggregate\": \"count\"\n",
    "        }]\n",
    "    }],\n",
    "    \"scale\": [{\n",
    "        \"channel\": \"x\",\n",
    "        \"type\": \"ordinal\"\n",
    "    },{\n",
    "        \"channel\": \"y\",\n",
    "        \"type\": \"linear\"\n",
    "    }]\n",
    "})"
   ]
  },
  {
   "cell_type": "code",
   "execution_count": 7,
   "metadata": {},
   "outputs": [
    {
     "data": {
      "text/plain": "['attribute(number_rows,root,100).',\n 'entity(field,root,0).',\n 'attribute((field,name),0,temperature).',\n 'attribute((field,type),0,number).',\n 'entity(mark,root,1).',\n 'attribute((mark,mark_type),1,bar).',\n 'entity(encoding,1,2).',\n 'attribute((encoding,channel),2,x).',\n 'attribute((encoding,field),2,temperature).',\n 'attribute((encoding,binning),2).',\n 'entity(encoding,1,3).',\n 'attribute((encoding,channel),3,y).',\n 'attribute((encoding,aggregate),3,count).',\n 'entity(scale,root,4).',\n 'attribute((scale,channel),4,x).',\n 'attribute((scale,type),4,ordinal).',\n 'entity(scale,root,5).',\n 'attribute((scale,channel),5,y).',\n 'attribute((scale,type),5,linear).']"
     },
     "execution_count": 7,
     "metadata": {},
     "output_type": "execute_result"
    }
   ],
   "source": [
    "# Binned Histogram\n",
    "\n",
    "show(data(['temperature']), {\n",
    "    \"mark\": [{\n",
    "        \"mark_type\": \"bar\",\n",
    "        \"encoding\": [{\n",
    "            \"channel\": \"x\",\n",
    "            \"field\": \"temperature\",\n",
    "            \"binning\": True\n",
    "        }, {\n",
    "            \"channel\": \"y\",\n",
    "            \"aggregate\": \"count\"\n",
    "        }]\n",
    "    }],\n",
    "    \"scale\": [{\n",
    "        \"channel\": \"x\",\n",
    "        # TODO: should this be linear? bin-linear?\n",
    "        \"type\": \"ordinal\"\n",
    "    },{\n",
    "        \"channel\": \"y\",\n",
    "        \"type\": \"linear\"\n",
    "    }]\n",
    "})"
   ]
  },
  {
   "cell_type": "code",
   "execution_count": 8,
   "metadata": {},
   "outputs": [
    {
     "data": {
      "text/plain": "['attribute(number_rows,root,100).',\n 'entity(field,root,0).',\n 'attribute((field,name),0,temperature).',\n 'attribute((field,type),0,number).',\n 'entity(field,root,1).',\n 'attribute((field,name),1,wind).',\n 'attribute((field,type),1,number).',\n 'entity(mark,root,2).',\n 'attribute((mark,type),2,point).',\n 'entity(encoding,2,3).',\n 'attribute((encoding,channel),3,x).',\n 'attribute((encoding,field),3,temperature).',\n 'entity(encoding,2,4).',\n 'attribute((encoding,channel),4,y).',\n 'attribute((encoding,field),4,wind).',\n 'entity(scale,root,5).',\n 'attribute((scale,channel),5,x).',\n 'attribute((scale,type),5,linear).',\n 'entity(scale,root,6).',\n 'attribute((scale,channel),6,y).',\n 'attribute((scale,type),6,linear).']"
     },
     "execution_count": 8,
     "metadata": {},
     "output_type": "execute_result"
    }
   ],
   "source": [
    "# Scatterplot\n",
    "\n",
    "show(data(['temperature', 'wind']), {\n",
    "    \"mark\": [{\n",
    "        \"type\": \"point\",\n",
    "        \"encoding\": [{\n",
    "            \"channel\": \"x\",\n",
    "            \"field\": \"temperature\"\n",
    "        }, {\n",
    "            \"channel\": \"y\",\n",
    "            \"field\": \"wind\"\n",
    "        }]\n",
    "    }],\n",
    "    \"scale\": [{\n",
    "        \"channel\": \"x\",\n",
    "        \"type\": \"linear\"\n",
    "    },{\n",
    "        \"channel\": \"y\",\n",
    "        \"type\": \"linear\"\n",
    "    }]\n",
    "})"
   ]
  },
  {
   "cell_type": "code",
   "execution_count": 9,
   "metadata": {},
   "outputs": [
    {
     "data": {
      "text/plain": "['attribute(number_rows,root,100).',\n 'entity(field,root,0).',\n 'attribute((field,name),0,temperature).',\n 'attribute((field,type),0,number).',\n 'entity(field,root,1).',\n 'attribute((field,name),1,wind).',\n 'attribute((field,type),1,number).',\n 'entity(field,root,2).',\n 'attribute((field,name),2,condition).',\n 'attribute((field,type),2,string).',\n 'entity(mark,root,3).',\n 'attribute((mark,type),3,point).',\n 'entity(encoding,3,4).',\n 'attribute((encoding,channel),4,x).',\n 'attribute((encoding,field),4,temperature).',\n 'entity(encoding,3,5).',\n 'attribute((encoding,channel),5,y).',\n 'attribute((encoding,field),5,wind).',\n 'entity(encoding,3,6).',\n 'attribute((encoding,channel),6,color).',\n 'attribute((encoding,field),6,condition).',\n 'entity(scale,root,7).',\n 'attribute((scale,channel),7,x).',\n 'attribute((scale,type),7,linear).',\n 'entity(scale,root,8).',\n 'attribute((scale,channel),8,y).',\n 'attribute((scale,type),8,linear).',\n 'entity(scale,root,9).',\n 'attribute((scale,channel),9,color).',\n 'attribute((scale,type),9,ordinal).']"
     },
     "execution_count": 9,
     "metadata": {},
     "output_type": "execute_result"
    }
   ],
   "source": [
    "# Scatterplot with Color\n",
    "\n",
    "show(data(['temperature', 'wind', 'condition']), {\n",
    "    \"mark\": [{\n",
    "        \"type\": \"point\",\n",
    "        \"encoding\": [{\n",
    "            \"channel\": \"x\",\n",
    "            \"field\": \"temperature\"\n",
    "        }, {\n",
    "            \"channel\": \"y\",\n",
    "            \"field\": \"wind\"\n",
    "        }, {\n",
    "            \"channel\": \"color\",\n",
    "            \"field\": \"condition\"\n",
    "        }]\n",
    "    }],\n",
    "    \"scale\": [{\n",
    "        \"channel\": \"x\",\n",
    "        \"type\": \"linear\"\n",
    "    },{\n",
    "        \"channel\": \"y\",\n",
    "        \"type\": \"linear\"\n",
    "    },{\n",
    "        \"channel\": \"color\",\n",
    "        \"type\": \"ordinal\"\n",
    "    }]\n",
    "})"
   ]
  },
  {
   "cell_type": "code",
   "execution_count": 10,
   "metadata": {},
   "outputs": [
    {
     "data": {
      "text/plain": "['attribute(number_rows,root,100).',\n 'entity(field,root,0).',\n 'attribute((field,name),0,temperature).',\n 'attribute((field,type),0,number).',\n 'entity(field,root,1).',\n 'attribute((field,name),1,wind).',\n 'attribute((field,type),1,number).',\n 'entity(field,root,2).',\n 'attribute((field,name),2,precipitation).',\n 'attribute((field,type),2,number).',\n 'entity(mark,root,3).',\n 'attribute((mark,mark_type),3,point).',\n 'entity(encoding,3,4).',\n 'attribute((encoding,channel),4,x).',\n 'attribute((encoding,field),4,temperature).',\n 'entity(encoding,3,5).',\n 'attribute((encoding,channel),5,y).',\n 'attribute((encoding,field),5,wind).',\n 'entity(encoding,3,6).',\n 'attribute((encoding,channel),6,size).',\n 'attribute((encoding,field),6,precipitation).',\n 'entity(scale,root,7).',\n 'attribute((scale,channel),7,x).',\n 'attribute((scale,type),7,linear).',\n 'entity(scale,root,8).',\n 'attribute((scale,channel),8,y).',\n 'attribute((scale,type),8,linear).',\n 'entity(scale,root,9).',\n 'attribute((scale,channel),9,size).',\n 'attribute((scale,type),9,linear).']"
     },
     "execution_count": 10,
     "metadata": {},
     "output_type": "execute_result"
    }
   ],
   "source": [
    "# Bubble Chart\n",
    "\n",
    "show(data(['temperature', 'wind', 'precipitation']), {\n",
    "    \"mark\": [{\n",
    "        \"mark_type\": \"point\",\n",
    "        \"encoding\": [{\n",
    "            \"channel\": \"x\",\n",
    "            \"field\": \"temperature\"\n",
    "        }, {\n",
    "            \"channel\": \"y\",\n",
    "            \"field\": \"wind\"\n",
    "        }, {\n",
    "            \"channel\": \"size\",\n",
    "            \"field\": \"precipitation\"\n",
    "        }]\n",
    "    }],\n",
    "    \"scale\": [{\n",
    "        \"channel\": \"x\",\n",
    "        \"type\": \"linear\"\n",
    "    },{\n",
    "        \"channel\": \"y\",\n",
    "        \"type\": \"linear\"\n",
    "    },{\n",
    "        \"channel\": \"size\",\n",
    "        \"type\": \"linear\"\n",
    "    }]\n",
    "})"
   ]
  },
  {
   "cell_type": "markdown",
   "metadata": {},
   "source": [
    "## Multi Mark (Layered) Charts"
   ]
  },
  {
   "cell_type": "code",
   "execution_count": 11,
   "metadata": {},
   "outputs": [
    {
     "data": {
      "text/plain": "['attribute(number_rows,root,100).',\n 'entity(field,root,0).',\n 'attribute((field,name),0,temperature).',\n 'attribute((field,type),0,number).',\n 'entity(mark,root,1).',\n 'attribute((mark,type),1,bar).',\n 'entity(encoding,1,2).',\n 'attribute((encoding,channel),2,x).',\n 'attribute((encoding,aggregate),2,mean).',\n 'attribute((encoding,field),2,temperature).',\n 'entity(mark,root,3).',\n 'attribute((mark,type),3,tick).',\n 'entity(encoding,3,4).',\n 'attribute((encoding,channel),4,x).',\n 'attribute((encoding,field),4,temperature).',\n 'entity(scale,root,5).',\n 'attribute((scale,channel),5,x).',\n 'attribute((scale,type),5,linear).']"
     },
     "execution_count": 11,
     "metadata": {},
     "output_type": "execute_result"
    }
   ],
   "source": [
    "# Bar with a Tick\n",
    "\n",
    "show(data(['temperature']), {\n",
    "    \"mark\": [{\n",
    "        \"type\": \"bar\",\n",
    "        \"encoding\": [{\n",
    "            \"channel\": \"x\",\n",
    "            \"aggregate\": \"mean\",\n",
    "            \"field\": \"temperature\"\n",
    "        }]\n",
    "    }, {\n",
    "        \"type\": \"tick\",\n",
    "        \"encoding\": [{\n",
    "            \"channel\": \"x\",\n",
    "            \"field\": \"temperature\"\n",
    "        }]\n",
    "    }],\n",
    "    \"scale\": [{\n",
    "        \"channel\": \"x\",\n",
    "        \"type\": \"linear\"\n",
    "    }]\n",
    "})"
   ]
  },
  {
   "cell_type": "markdown",
   "metadata": {},
   "source": [
    "## Multiple Views\n",
    "\n",
    "Any of the specifications above are a single view. You can also create multiple views."
   ]
  },
  {
   "cell_type": "code",
   "execution_count": 12,
   "metadata": {},
   "outputs": [
    {
     "data": {
      "text/plain": "['attribute(number_rows,root,100).',\n 'entity(field,root,0).',\n 'attribute((field,name),0,temperature).',\n 'attribute((field,type),0,number).',\n 'entity(view,root,1).',\n 'entity(mark,1,2).',\n 'attribute((mark,mark_type),2,tick).',\n 'entity(encoding,2,3).',\n 'attribute((encoding,channel),3,y).',\n 'attribute((encoding,field),3,temperature).',\n 'entity(scale,1,4).',\n 'attribute((scale,channel),4,y).',\n 'attribute((scale,type),4,linear).',\n 'entity(view,root,5).',\n 'entity(mark,5,6).',\n 'attribute((mark,mark_type),6,bar).',\n 'entity(encoding,6,7).',\n 'attribute((encoding,channel),7,x).',\n 'attribute((encoding,field),7,temperature).',\n 'entity(encoding,6,8).',\n 'attribute((encoding,channel),8,y).',\n 'attribute((encoding,aggregate),8,count).',\n 'entity(scale,5,9).',\n 'attribute((scale,channel),9,x).',\n 'attribute((scale,type),9,linear).',\n 'entity(scale,5,10).',\n 'attribute((scale,channel),10,y).',\n 'attribute((scale,type),10,linear).']"
     },
     "execution_count": 12,
     "metadata": {},
     "output_type": "execute_result"
    }
   ],
   "source": [
    "# Tick plot and histogram\n",
    "\n",
    "show(data(['temperature']), {\n",
    "    \"view\": [{\n",
    "        \"mark\": [{\n",
    "            \"mark_type\": \"tick\",\n",
    "            \"encoding\": [{\n",
    "                \"channel\": \"y\",\n",
    "                \"field\": \"temperature\"\n",
    "            }]\n",
    "        }],\n",
    "        \"scale\": [{\n",
    "            \"channel\": \"y\",\n",
    "            \"type\": \"linear\"\n",
    "        }]\n",
    "    },{\n",
    "        \"mark\": [{\n",
    "            \"mark_type\": \"bar\",\n",
    "            \"encoding\": [{\n",
    "                \"channel\": \"x\",\n",
    "                \"field\": \"temperature\"\n",
    "            }, {\n",
    "                \"channel\": \"y\",\n",
    "                \"aggregate\": \"count\"\n",
    "            }]\n",
    "        }],\n",
    "        \"scale\": [{\n",
    "            \"channel\": \"x\",\n",
    "            \"type\": \"linear\"\n",
    "        },{\n",
    "            \"channel\": \"y\",\n",
    "            \"type\": \"linear\"\n",
    "        }]\n",
    "    }]\n",
    "})"
   ]
  },
  {
   "cell_type": "code",
   "execution_count": 13,
   "metadata": {},
   "outputs": [
    {
     "data": {
      "text/plain": "['attribute(number_rows,root,100).',\n 'entity(field,root,0).',\n 'attribute((field,name),0,temperature).',\n 'attribute((field,type),0,number).',\n 'entity(view,root,1).',\n 'entity(mark,1,2).',\n 'attribute((mark,type),2,tick).',\n 'entity(encoding,2,3).',\n 'attribute((encoding,channel),3,y).',\n 'attribute((encoding,field),3,temperature).',\n 'entity(view,root,4).',\n 'entity(mark,4,5).',\n 'attribute((mark,type),5,bar).',\n 'entity(encoding,5,6).',\n 'attribute((encoding,channel),6,x).',\n 'attribute((encoding,field),6,temperature).',\n 'entity(encoding,5,7).',\n 'attribute((encoding,channel),7,y).',\n 'attribute((encoding,aggregate),7,count).',\n 'entity(scale,4,8).',\n 'attribute((scale,channel),8,x).',\n 'attribute((scale,type),8,ordinal).',\n 'entity(scale,root,9).',\n 'attribute((scale,channel),9,y).',\n 'attribute((scale,type),9,linear).']"
     },
     "execution_count": 13,
     "metadata": {},
     "output_type": "execute_result"
    }
   ],
   "source": [
    "# Tick plot and histogram with shared y scale\n",
    "\n",
    "show(data(['temperature']), {\n",
    "    \"view\": [{\n",
    "        \"mark\": [{\n",
    "            \"type\": \"tick\",\n",
    "            \"encoding\": [{\n",
    "                \"channel\": \"y\",\n",
    "                \"field\": \"temperature\"\n",
    "            }]\n",
    "        }]\n",
    "    },{\n",
    "        \"mark\": [{\n",
    "            \"type\": \"bar\",\n",
    "            \"encoding\": [{\n",
    "                \"channel\": \"x\",\n",
    "                \"field\": \"temperature\"\n",
    "            }, {\n",
    "                \"channel\": \"y\",\n",
    "                \"aggregate\": \"count\"\n",
    "            }]\n",
    "        }],\n",
    "        \"scale\": [{\n",
    "            \"channel\": \"x\",\n",
    "            \"type\": \"ordinal\"\n",
    "        }]\n",
    "    }],\n",
    "    \"scale\": [{\n",
    "        \"channel\": \"y\",\n",
    "        \"type\": \"linear\"\n",
    "    }]\n",
    "})"
   ]
  },
  {
   "cell_type": "code",
   "execution_count": null,
   "metadata": {},
   "outputs": [],
   "source": []
  }
 ],
 "metadata": {
  "kernelspec": {
   "display_name": "Python 3.8.8 64-bit ('draco': conda)",
   "metadata": {
    "interpreter": {
     "hash": "1417893cfb28aac8f4900ac927ab2a1a6ab7e8af638d894f5471e1fba60b1e80"
    }
   },
   "name": "python3"
  },
  "language_info": {
   "codemirror_mode": {
    "name": "ipython",
    "version": 3
   },
   "file_extension": ".py",
   "mimetype": "text/x-python",
   "name": "python",
   "nbconvert_exporter": "python",
   "pygments_lexer": "ipython3",
   "version": "3.8.8-final"
  }
 },
 "nbformat": 4,
 "nbformat_minor": 5
}