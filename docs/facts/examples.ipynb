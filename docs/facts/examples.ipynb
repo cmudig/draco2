{
 "cells": [
  {
   "cell_type": "markdown",
   "id": "ab3e56dc",
   "metadata": {},
   "source": [
    "# Example Charts\n",
    "\n",
    "Draco's specification of visualizations (i.e. charts) support single view and multi view  charts. The specification is inspired by [Vega-Lite](https://vega.github.io/vega-lite/). "
   ]
  },
  {
   "cell_type": "code",
   "execution_count": 1,
   "id": "f5e5eb27",
   "metadata": {},
   "outputs": [],
   "source": [
    "from draco import dict_union, dict_to_facts, check_spec, get_violations\n",
    "\n",
    "\n",
    "def show(*args):\n",
    "    spec = dict_union(*args)\n",
    "    prog = dict_to_facts(spec)\n",
    "    if not check_spec(prog):\n",
    "        print(\"\\n\".join(prog))\n",
    "        print(get_violations(prog))\n",
    "        assert False, \"Invalid spec\"\n",
    "    return prog"
   ]
  },
  {
   "cell_type": "markdown",
   "id": "eeafd9ae",
   "metadata": {},
   "source": [
    "## Data for the Examples\n",
    "\n",
    "As the example, we use a weather dataset."
   ]
  },
  {
   "cell_type": "code",
   "execution_count": 4,
   "id": "bea6be5a",
   "metadata": {},
   "outputs": [],
   "source": [
    "def data(fields):\n",
    "    return {\n",
    "        \"number_rows\": 100,\n",
    "        \"field\": [\n",
    "            x\n",
    "            for x in [\n",
    "                {\"name\": \"temperature\", \"type\": \"number\"},\n",
    "                {\"name\": \"wind\", \"type\": \"number\"},\n",
    "                {\"name\": \"precipitation\", \"type\": \"number\"},\n",
    "                {\"name\": \"condition\", \"type\": \"string\"},\n",
    "            ]\n",
    "            if x[\"name\"] in fields\n",
    "        ],\n",
    "    }"
   ]
  },
  {
   "cell_type": "markdown",
   "id": "b844527c",
   "metadata": {},
   "source": [
    "## Single View, Single Mark Charts"
   ]
  },
  {
   "cell_type": "markdown",
   "id": "07223898",
   "metadata": {},
   "source": [
    "### Tick Plot\n",
    "\n",
    "![chart](./tick.png \"Tick Plot\")"
   ]
  },
  {
   "cell_type": "code",
   "execution_count": 5,
   "id": "da257eac",
   "metadata": {},
   "outputs": [
    {
     "data": {
      "text/plain": [
       "['attribute(number_rows,root,100).',\n",
       " 'entity(field,root,0).',\n",
       " 'attribute((field,name),0,temperature).',\n",
       " 'attribute((field,type),0,number).',\n",
       " 'entity(mark,root,1).',\n",
       " 'attribute((mark,type),1,tick).',\n",
       " 'entity(encoding,1,2).',\n",
       " 'attribute((encoding,channel),2,x).',\n",
       " 'attribute((encoding,field),2,temperature).',\n",
       " 'entity(scale,root,3).',\n",
       " 'attribute((scale,channel),3,x).',\n",
       " 'attribute((scale,type),3,linear).']"
      ]
     },
     "execution_count": 5,
     "metadata": {},
     "output_type": "execute_result"
    }
   ],
   "source": [
    "show(\n",
    "    data([\"temperature\"]),\n",
    "    {\n",
    "        \"mark\": [\n",
    "            {\"type\": \"tick\", \"encoding\": [{\"channel\": \"x\", \"field\": \"temperature\"}]}\n",
    "        ],\n",
    "        \"scale\": [{\"channel\": \"x\", \"type\": \"linear\"}],\n",
    "    },\n",
    ")"
   ]
  },
  {
   "cell_type": "markdown",
   "id": "0e37562f",
   "metadata": {},
   "source": [
    "### Tick Plot with a Log Scale\n",
    "\n",
    "![chart](./tick_log.png \"Tick Plot with a Log Scale\")"
   ]
  },
  {
   "cell_type": "code",
   "execution_count": 6,
   "id": "e71fdd9d",
   "metadata": {},
   "outputs": [
    {
     "data": {
      "text/plain": [
       "['attribute(number_rows,root,100).',\n",
       " 'entity(field,root,0).',\n",
       " 'attribute((field,name),0,temperature).',\n",
       " 'attribute((field,type),0,number).',\n",
       " 'entity(mark,root,1).',\n",
       " 'attribute((mark,type),1,tick).',\n",
       " 'entity(encoding,1,2).',\n",
       " 'attribute((encoding,channel),2,x).',\n",
       " 'attribute((encoding,field),2,temperature).',\n",
       " 'entity(scale,root,3).',\n",
       " 'attribute((scale,channel),3,x).',\n",
       " 'attribute((scale,type),3,log).']"
      ]
     },
     "execution_count": 6,
     "metadata": {},
     "output_type": "execute_result"
    }
   ],
   "source": [
    "show(\n",
    "    data([\"temperature\"]),\n",
    "    {\n",
    "        \"mark\": [\n",
    "            {\"type\": \"tick\", \"encoding\": [{\"channel\": \"x\", \"field\": \"temperature\"}]}\n",
    "        ],\n",
    "        \"scale\": [{\"channel\": \"x\", \"type\": \"log\"}],\n",
    "    },\n",
    ")"
   ]
  },
  {
   "cell_type": "markdown",
   "id": "b0e60f0e",
   "metadata": {},
   "source": [
    "### Bar Chart\n",
    "\n",
    "![chart](./bar.png \"Bar Chart\")"
   ]
  },
  {
   "cell_type": "code",
   "execution_count": 7,
   "id": "c0316375",
   "metadata": {},
   "outputs": [
    {
     "data": {
      "text/plain": [
       "['attribute(number_rows,root,100).',\n",
       " 'entity(field,root,0).',\n",
       " 'attribute((field,name),0,temperature).',\n",
       " 'attribute((field,type),0,number).',\n",
       " 'entity(field,root,1).',\n",
       " 'attribute((field,name),1,condition).',\n",
       " 'attribute((field,type),1,string).',\n",
       " 'entity(mark,root,2).',\n",
       " 'attribute((mark,type),2,bar).',\n",
       " 'entity(encoding,2,3).',\n",
       " 'attribute((encoding,channel),3,x).',\n",
       " 'attribute((encoding,field),3,condition).',\n",
       " 'entity(encoding,2,4).',\n",
       " 'attribute((encoding,channel),4,y).',\n",
       " 'attribute((encoding,field),4,temperature).',\n",
       " 'attribute((encoding,aggregate),4,mean).',\n",
       " 'entity(scale,root,5).',\n",
       " 'attribute((scale,channel),5,x).',\n",
       " 'attribute((scale,type),5,ordinal).',\n",
       " 'entity(scale,root,6).',\n",
       " 'attribute((scale,channel),6,y).',\n",
       " 'attribute((scale,type),6,linear).',\n",
       " 'attribute((scale,zero),6,true).']"
      ]
     },
     "execution_count": 7,
     "metadata": {},
     "output_type": "execute_result"
    }
   ],
   "source": [
    "show(\n",
    "    data([\"condition\", \"temperature\"]),\n",
    "    {\n",
    "        \"mark\": [\n",
    "            {\n",
    "                \"type\": \"bar\",\n",
    "                \"encoding\": [\n",
    "                    {\"channel\": \"x\", \"field\": \"condition\"},\n",
    "                    {\"channel\": \"y\", \"field\": \"temperature\", \"aggregate\": \"mean\"},\n",
    "                ],\n",
    "            }\n",
    "        ],\n",
    "        \"scale\": [\n",
    "            {\"channel\": \"x\", \"type\": \"ordinal\"},\n",
    "            {\"channel\": \"y\", \"type\": \"linear\", \"zero\": \"true\"},\n",
    "        ],\n",
    "    },\n",
    ")"
   ]
  },
  {
   "cell_type": "markdown",
   "id": "8c715660",
   "metadata": {},
   "source": [
    "### Histogram\n",
    "\n",
    "![chart](./hist.png \"Histogram\")"
   ]
  },
  {
   "cell_type": "code",
   "execution_count": 8,
   "id": "097a4fa1",
   "metadata": {},
   "outputs": [
    {
     "data": {
      "text/plain": [
       "['attribute(number_rows,root,100).',\n",
       " 'entity(field,root,0).',\n",
       " 'attribute((field,name),0,condition).',\n",
       " 'attribute((field,type),0,string).',\n",
       " 'entity(mark,root,1).',\n",
       " 'attribute((mark,type),1,bar).',\n",
       " 'entity(encoding,1,2).',\n",
       " 'attribute((encoding,channel),2,x).',\n",
       " 'attribute((encoding,field),2,condition).',\n",
       " 'entity(encoding,1,3).',\n",
       " 'attribute((encoding,channel),3,y).',\n",
       " 'attribute((encoding,aggregate),3,count).',\n",
       " 'entity(scale,root,4).',\n",
       " 'attribute((scale,channel),4,x).',\n",
       " 'attribute((scale,type),4,ordinal).',\n",
       " 'entity(scale,root,5).',\n",
       " 'attribute((scale,channel),5,y).',\n",
       " 'attribute((scale,type),5,linear).',\n",
       " 'attribute((scale,zero),5,true).']"
      ]
     },
     "execution_count": 8,
     "metadata": {},
     "output_type": "execute_result"
    }
   ],
   "source": [
    "show(\n",
    "    data([\"condition\"]),\n",
    "    {\n",
    "        \"mark\": [\n",
    "            {\n",
    "                \"type\": \"bar\",\n",
    "                \"encoding\": [\n",
    "                    {\"channel\": \"x\", \"field\": \"condition\"},\n",
    "                    {\"channel\": \"y\", \"aggregate\": \"count\"},\n",
    "                ],\n",
    "            }\n",
    "        ],\n",
    "        \"scale\": [\n",
    "            {\"channel\": \"x\", \"type\": \"ordinal\"},\n",
    "            {\"channel\": \"y\", \"type\": \"linear\", \"zero\": \"true\"},\n",
    "        ],\n",
    "    },\n",
    ")"
   ]
  },
  {
   "cell_type": "markdown",
   "id": "0e753da1",
   "metadata": {},
   "source": [
    "### Binned Histogram\n",
    "\n",
    "![chart](./binned_hist.png \"Binned Histogram\")"
   ]
  },
  {
   "cell_type": "code",
   "execution_count": 9,
   "id": "3b1b4c39",
   "metadata": {},
   "outputs": [
    {
     "data": {
      "text/plain": [
       "['attribute(number_rows,root,100).',\n",
       " 'entity(field,root,0).',\n",
       " 'attribute((field,name),0,temperature).',\n",
       " 'attribute((field,type),0,number).',\n",
       " 'entity(mark,root,1).',\n",
       " 'attribute((mark,type),1,bar).',\n",
       " 'entity(encoding,1,2).',\n",
       " 'attribute((encoding,channel),2,x).',\n",
       " 'attribute((encoding,field),2,temperature).',\n",
       " 'attribute((encoding,binning),2,10).',\n",
       " 'entity(encoding,1,3).',\n",
       " 'attribute((encoding,channel),3,y).',\n",
       " 'attribute((encoding,aggregate),3,count).',\n",
       " 'entity(scale,root,4).',\n",
       " 'attribute((scale,channel),4,x).',\n",
       " 'attribute((scale,type),4,linear).',\n",
       " 'entity(scale,root,5).',\n",
       " 'attribute((scale,channel),5,y).',\n",
       " 'attribute((scale,type),5,linear).',\n",
       " 'attribute((scale,zero),5,true).']"
      ]
     },
     "execution_count": 9,
     "metadata": {},
     "output_type": "execute_result"
    }
   ],
   "source": [
    "show(\n",
    "    data([\"temperature\"]),\n",
    "    {\n",
    "        \"mark\": [\n",
    "            {\n",
    "                \"type\": \"bar\",\n",
    "                \"encoding\": [\n",
    "                    {\"channel\": \"x\", \"field\": \"temperature\", \"binning\": 10},\n",
    "                    {\"channel\": \"y\", \"aggregate\": \"count\"},\n",
    "                ],\n",
    "            }\n",
    "        ],\n",
    "        \"scale\": [\n",
    "            {\n",
    "                \"channel\": \"x\",\n",
    "                \"type\": \"linear\",\n",
    "            },\n",
    "            {\"channel\": \"y\", \"type\": \"linear\", \"zero\": \"true\"},\n",
    "        ],\n",
    "    },\n",
    ")"
   ]
  },
  {
   "cell_type": "markdown",
   "id": "4e76a890",
   "metadata": {},
   "source": [
    "### Scatterplot\n",
    "\n",
    "![chart](./scatter.png \"Scatterplot\")"
   ]
  },
  {
   "cell_type": "code",
   "execution_count": 10,
   "id": "26e6229c",
   "metadata": {},
   "outputs": [
    {
     "data": {
      "text/plain": [
       "['attribute(number_rows,root,100).',\n",
       " 'entity(field,root,0).',\n",
       " 'attribute((field,name),0,temperature).',\n",
       " 'attribute((field,type),0,number).',\n",
       " 'entity(field,root,1).',\n",
       " 'attribute((field,name),1,wind).',\n",
       " 'attribute((field,type),1,number).',\n",
       " 'entity(mark,root,2).',\n",
       " 'attribute((mark,type),2,point).',\n",
       " 'entity(encoding,2,3).',\n",
       " 'attribute((encoding,channel),3,x).',\n",
       " 'attribute((encoding,field),3,temperature).',\n",
       " 'entity(encoding,2,4).',\n",
       " 'attribute((encoding,channel),4,y).',\n",
       " 'attribute((encoding,field),4,wind).',\n",
       " 'entity(scale,root,5).',\n",
       " 'attribute((scale,channel),5,x).',\n",
       " 'attribute((scale,type),5,linear).',\n",
       " 'entity(scale,root,6).',\n",
       " 'attribute((scale,channel),6,y).',\n",
       " 'attribute((scale,type),6,linear).']"
      ]
     },
     "execution_count": 10,
     "metadata": {},
     "output_type": "execute_result"
    }
   ],
   "source": [
    "show(\n",
    "    data([\"temperature\", \"wind\"]),\n",
    "    {\n",
    "        \"mark\": [\n",
    "            {\n",
    "                \"type\": \"point\",\n",
    "                \"encoding\": [\n",
    "                    {\"channel\": \"x\", \"field\": \"temperature\"},\n",
    "                    {\"channel\": \"y\", \"field\": \"wind\"},\n",
    "                ],\n",
    "            }\n",
    "        ],\n",
    "        \"scale\": [\n",
    "            {\"channel\": \"x\", \"type\": \"linear\"},\n",
    "            {\"channel\": \"y\", \"type\": \"linear\"},\n",
    "        ],\n",
    "    },\n",
    ")"
   ]
  },
  {
   "cell_type": "markdown",
   "id": "36d62c08",
   "metadata": {},
   "source": [
    "### Scatterplot with Color\n",
    "\n",
    "![chart](./scatter_color.png \"Scatterplot with Color\")"
   ]
  },
  {
   "cell_type": "code",
   "execution_count": 11,
   "id": "576a7ad3",
   "metadata": {},
   "outputs": [
    {
     "data": {
      "text/plain": [
       "['attribute(number_rows,root,100).',\n",
       " 'entity(field,root,0).',\n",
       " 'attribute((field,name),0,temperature).',\n",
       " 'attribute((field,type),0,number).',\n",
       " 'entity(field,root,1).',\n",
       " 'attribute((field,name),1,wind).',\n",
       " 'attribute((field,type),1,number).',\n",
       " 'entity(field,root,2).',\n",
       " 'attribute((field,name),2,condition).',\n",
       " 'attribute((field,type),2,string).',\n",
       " 'entity(mark,root,3).',\n",
       " 'attribute((mark,type),3,point).',\n",
       " 'entity(encoding,3,4).',\n",
       " 'attribute((encoding,channel),4,x).',\n",
       " 'attribute((encoding,field),4,temperature).',\n",
       " 'entity(encoding,3,5).',\n",
       " 'attribute((encoding,channel),5,y).',\n",
       " 'attribute((encoding,field),5,wind).',\n",
       " 'entity(encoding,3,6).',\n",
       " 'attribute((encoding,channel),6,color).',\n",
       " 'attribute((encoding,field),6,condition).',\n",
       " 'entity(scale,root,7).',\n",
       " 'attribute((scale,channel),7,x).',\n",
       " 'attribute((scale,type),7,linear).',\n",
       " 'entity(scale,root,8).',\n",
       " 'attribute((scale,channel),8,y).',\n",
       " 'attribute((scale,type),8,linear).',\n",
       " 'entity(scale,root,9).',\n",
       " 'attribute((scale,channel),9,color).',\n",
       " 'attribute((scale,type),9,categorical).']"
      ]
     },
     "execution_count": 11,
     "metadata": {},
     "output_type": "execute_result"
    }
   ],
   "source": [
    "show(\n",
    "    data([\"temperature\", \"wind\", \"condition\"]),\n",
    "    {\n",
    "        \"mark\": [\n",
    "            {\n",
    "                \"type\": \"point\",\n",
    "                \"encoding\": [\n",
    "                    {\"channel\": \"x\", \"field\": \"temperature\"},\n",
    "                    {\"channel\": \"y\", \"field\": \"wind\"},\n",
    "                    {\"channel\": \"color\", \"field\": \"condition\"},\n",
    "                ],\n",
    "            }\n",
    "        ],\n",
    "        \"scale\": [\n",
    "            {\"channel\": \"x\", \"type\": \"linear\"},\n",
    "            {\"channel\": \"y\", \"type\": \"linear\"},\n",
    "            {\"channel\": \"color\", \"type\": \"categorical\"},\n",
    "        ],\n",
    "    },\n",
    ")"
   ]
  },
  {
   "cell_type": "markdown",
   "id": "eb70607a",
   "metadata": {},
   "source": [
    "### Bubble Chart\n",
    "\n",
    "![chart](./bubble.png \"Bubble Chart\")"
   ]
  },
  {
   "cell_type": "code",
   "execution_count": 12,
   "id": "008b27ad",
   "metadata": {},
   "outputs": [
    {
     "data": {
      "text/plain": [
       "['attribute(number_rows,root,100).',\n",
       " 'entity(field,root,0).',\n",
       " 'attribute((field,name),0,temperature).',\n",
       " 'attribute((field,type),0,number).',\n",
       " 'entity(field,root,1).',\n",
       " 'attribute((field,name),1,wind).',\n",
       " 'attribute((field,type),1,number).',\n",
       " 'entity(field,root,2).',\n",
       " 'attribute((field,name),2,precipitation).',\n",
       " 'attribute((field,type),2,number).',\n",
       " 'entity(mark,root,3).',\n",
       " 'attribute((mark,type),3,point).',\n",
       " 'entity(encoding,3,4).',\n",
       " 'attribute((encoding,channel),4,x).',\n",
       " 'attribute((encoding,field),4,temperature).',\n",
       " 'entity(encoding,3,5).',\n",
       " 'attribute((encoding,channel),5,y).',\n",
       " 'attribute((encoding,field),5,wind).',\n",
       " 'entity(encoding,3,6).',\n",
       " 'attribute((encoding,channel),6,size).',\n",
       " 'attribute((encoding,field),6,precipitation).',\n",
       " 'entity(scale,root,7).',\n",
       " 'attribute((scale,channel),7,x).',\n",
       " 'attribute((scale,type),7,linear).',\n",
       " 'entity(scale,root,8).',\n",
       " 'attribute((scale,channel),8,y).',\n",
       " 'attribute((scale,type),8,linear).',\n",
       " 'entity(scale,root,9).',\n",
       " 'attribute((scale,channel),9,size).',\n",
       " 'attribute((scale,type),9,linear).']"
      ]
     },
     "execution_count": 12,
     "metadata": {},
     "output_type": "execute_result"
    }
   ],
   "source": [
    "show(\n",
    "    data([\"temperature\", \"wind\", \"precipitation\"]),\n",
    "    {\n",
    "        \"mark\": [\n",
    "            {\n",
    "                \"type\": \"point\",\n",
    "                \"encoding\": [\n",
    "                    {\"channel\": \"x\", \"field\": \"temperature\"},\n",
    "                    {\"channel\": \"y\", \"field\": \"wind\"},\n",
    "                    {\"channel\": \"size\", \"field\": \"precipitation\"},\n",
    "                ],\n",
    "            }\n",
    "        ],\n",
    "        \"scale\": [\n",
    "            {\"channel\": \"x\", \"type\": \"linear\"},\n",
    "            {\"channel\": \"y\", \"type\": \"linear\"},\n",
    "            {\"channel\": \"size\", \"type\": \"linear\"},\n",
    "        ],\n",
    "    },\n",
    ")"
   ]
  },
  {
   "cell_type": "markdown",
   "id": "71c5b165",
   "metadata": {},
   "source": [
    "## Multi Mark (Layered) Charts"
   ]
  },
  {
   "cell_type": "markdown",
   "id": "41c898e8",
   "metadata": {},
   "source": [
    "### Bar with a Tick"
   ]
  },
  {
   "cell_type": "code",
   "execution_count": 13,
   "id": "e0938a4f",
   "metadata": {},
   "outputs": [
    {
     "data": {
      "text/plain": [
       "['attribute(number_rows,root,100).',\n",
       " 'entity(field,root,0).',\n",
       " 'attribute((field,name),0,temperature).',\n",
       " 'attribute((field,type),0,number).',\n",
       " 'entity(mark,root,1).',\n",
       " 'attribute((mark,type),1,bar).',\n",
       " 'entity(encoding,1,2).',\n",
       " 'attribute((encoding,channel),2,x).',\n",
       " 'attribute((encoding,aggregate),2,mean).',\n",
       " 'attribute((encoding,field),2,temperature).',\n",
       " 'entity(mark,root,3).',\n",
       " 'attribute((mark,type),3,tick).',\n",
       " 'entity(encoding,3,4).',\n",
       " 'attribute((encoding,channel),4,x).',\n",
       " 'attribute((encoding,field),4,temperature).',\n",
       " 'entity(scale,root,5).',\n",
       " 'attribute((scale,channel),5,x).',\n",
       " 'attribute((scale,type),5,linear).',\n",
       " 'attribute((scale,zero),5,true).']"
      ]
     },
     "execution_count": 13,
     "metadata": {},
     "output_type": "execute_result"
    }
   ],
   "source": [
    "show(\n",
    "    data([\"temperature\"]),\n",
    "    {\n",
    "        \"mark\": [\n",
    "            {\n",
    "                \"type\": \"bar\",\n",
    "                \"encoding\": [\n",
    "                    {\"channel\": \"x\", \"aggregate\": \"mean\", \"field\": \"temperature\"}\n",
    "                ],\n",
    "            },\n",
    "            {\"type\": \"tick\", \"encoding\": [{\"channel\": \"x\", \"field\": \"temperature\"}]},\n",
    "        ],\n",
    "        \"scale\": [{\"channel\": \"x\", \"type\": \"linear\", \"zero\": \"true\"}],\n",
    "    },\n",
    ")"
   ]
  },
  {
   "cell_type": "markdown",
   "id": "c1abe650",
   "metadata": {},
   "source": [
    "## Multiple Views\n",
    "\n",
    "Any of the specifications above are a single view. You can also create multiple views."
   ]
  },
  {
   "cell_type": "markdown",
   "id": "38c6ab36",
   "metadata": {},
   "source": [
    "### Tick Plot and Histogram"
   ]
  },
  {
   "cell_type": "code",
   "execution_count": 14,
   "id": "414c7715",
   "metadata": {},
   "outputs": [
    {
     "data": {
      "text/plain": [
       "['attribute(number_rows,root,100).',\n",
       " 'entity(field,root,0).',\n",
       " 'attribute((field,name),0,temperature).',\n",
       " 'attribute((field,type),0,number).',\n",
       " 'entity(field,root,1).',\n",
       " 'attribute((field,name),1,condition).',\n",
       " 'attribute((field,type),1,string).',\n",
       " 'entity(view,root,2).',\n",
       " 'entity(mark,2,3).',\n",
       " 'attribute((mark,type),3,tick).',\n",
       " 'entity(encoding,3,4).',\n",
       " 'attribute((encoding,channel),4,y).',\n",
       " 'attribute((encoding,field),4,temperature).',\n",
       " 'entity(scale,2,5).',\n",
       " 'attribute((scale,channel),5,y).',\n",
       " 'attribute((scale,type),5,linear).',\n",
       " 'attribute((scale,zero),5,true).',\n",
       " 'entity(view,root,6).',\n",
       " 'entity(mark,6,7).',\n",
       " 'attribute((mark,type),7,bar).',\n",
       " 'entity(encoding,7,8).',\n",
       " 'attribute((encoding,channel),8,x).',\n",
       " 'attribute((encoding,field),8,condition).',\n",
       " 'entity(encoding,7,9).',\n",
       " 'attribute((encoding,channel),9,y).',\n",
       " 'attribute((encoding,aggregate),9,count).',\n",
       " 'entity(scale,6,10).',\n",
       " 'attribute((scale,channel),10,x).',\n",
       " 'attribute((scale,type),10,ordinal).',\n",
       " 'entity(scale,6,11).',\n",
       " 'attribute((scale,channel),11,y).',\n",
       " 'attribute((scale,type),11,linear).',\n",
       " 'attribute((scale,zero),11,true).']"
      ]
     },
     "execution_count": 14,
     "metadata": {},
     "output_type": "execute_result"
    }
   ],
   "source": [
    "show(\n",
    "    data([\"temperature\", \"condition\"]),\n",
    "    {\n",
    "        \"view\": [\n",
    "            {\n",
    "                \"mark\": [\n",
    "                    {\n",
    "                        \"type\": \"tick\",\n",
    "                        \"encoding\": [{\"channel\": \"y\", \"field\": \"temperature\"}],\n",
    "                    }\n",
    "                ],\n",
    "                \"scale\": [{\"channel\": \"y\", \"type\": \"linear\", \"zero\": \"true\"}],\n",
    "            },\n",
    "            {\n",
    "                \"mark\": [\n",
    "                    {\n",
    "                        \"type\": \"bar\",\n",
    "                        \"encoding\": [\n",
    "                            {\"channel\": \"x\", \"field\": \"condition\"},\n",
    "                            {\"channel\": \"y\", \"aggregate\": \"count\"},\n",
    "                        ],\n",
    "                    }\n",
    "                ],\n",
    "                \"scale\": [\n",
    "                    {\"channel\": \"x\", \"type\": \"ordinal\"},\n",
    "                    {\"channel\": \"y\", \"type\": \"linear\", \"zero\": \"true\"},\n",
    "                ],\n",
    "            },\n",
    "        ]\n",
    "    },\n",
    ")"
   ]
  },
  {
   "cell_type": "markdown",
   "id": "5051d7b7",
   "metadata": {},
   "source": [
    "### Tick Plot and Histogram with Shared Y-Scale"
   ]
  },
  {
   "cell_type": "code",
   "execution_count": 15,
   "id": "fc4db666",
   "metadata": {},
   "outputs": [
    {
     "data": {
      "text/plain": [
       "['attribute(number_rows,root,100).',\n",
       " 'entity(field,root,0).',\n",
       " 'attribute((field,name),0,temperature).',\n",
       " 'attribute((field,type),0,number).',\n",
       " 'entity(field,root,1).',\n",
       " 'attribute((field,name),1,condition).',\n",
       " 'attribute((field,type),1,string).',\n",
       " 'entity(view,root,2).',\n",
       " 'entity(mark,2,3).',\n",
       " 'attribute((mark,type),3,tick).',\n",
       " 'entity(encoding,3,4).',\n",
       " 'attribute((encoding,channel),4,y).',\n",
       " 'attribute((encoding,field),4,temperature).',\n",
       " 'entity(view,root,5).',\n",
       " 'entity(mark,5,6).',\n",
       " 'attribute((mark,type),6,bar).',\n",
       " 'entity(encoding,6,7).',\n",
       " 'attribute((encoding,channel),7,y).',\n",
       " 'attribute((encoding,field),7,temperature).',\n",
       " 'attribute((encoding,aggregate),7,mean).',\n",
       " 'entity(encoding,6,8).',\n",
       " 'attribute((encoding,channel),8,x).',\n",
       " 'attribute((encoding,field),8,condition).',\n",
       " 'entity(scale,5,9).',\n",
       " 'attribute((scale,channel),9,x).',\n",
       " 'attribute((scale,type),9,ordinal).',\n",
       " 'entity(scale,root,10).',\n",
       " 'attribute((scale,channel),10,y).',\n",
       " 'attribute((scale,type),10,linear).',\n",
       " 'attribute((scale,zero),10,true).']"
      ]
     },
     "execution_count": 15,
     "metadata": {},
     "output_type": "execute_result"
    }
   ],
   "source": [
    "show(\n",
    "    data([\"temperature\", \"condition\"]),\n",
    "    {\n",
    "        \"view\": [\n",
    "            {\n",
    "                \"mark\": [\n",
    "                    {\n",
    "                        \"type\": \"tick\",\n",
    "                        \"encoding\": [{\"channel\": \"y\", \"field\": \"temperature\"}],\n",
    "                    }\n",
    "                ]\n",
    "            },\n",
    "            {\n",
    "                \"mark\": [\n",
    "                    {\n",
    "                        \"type\": \"bar\",\n",
    "                        \"encoding\": [\n",
    "                            {\n",
    "                                \"channel\": \"y\",\n",
    "                                \"field\": \"temperature\",\n",
    "                                \"aggregate\": \"mean\",\n",
    "                            },\n",
    "                            {\"channel\": \"x\", \"field\": \"condition\"},\n",
    "                        ],\n",
    "                    }\n",
    "                ],\n",
    "                \"scale\": [{\"channel\": \"x\", \"type\": \"ordinal\"}],\n",
    "            },\n",
    "        ],\n",
    "        \"scale\": [{\"channel\": \"y\", \"type\": \"linear\", \"zero\": \"true\"}],\n",
    "    },\n",
    ")"
   ]
  }
 ],
 "metadata": {
  "kernelspec": {
   "display_name": "Python 3 (ipykernel)",
   "language": "python",
   "name": "python3"
  },
  "language_info": {
   "codemirror_mode": {
    "name": "ipython",
    "version": 3
   },
   "file_extension": ".py",
   "mimetype": "text/x-python",
   "name": "python",
   "nbconvert_exporter": "python",
   "pygments_lexer": "ipython3",
   "version": "3.9.7"
  }
 },
 "nbformat": 4,
 "nbformat_minor": 5
}
