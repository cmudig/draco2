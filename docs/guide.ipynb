{
 "cells": [
  {
   "cell_type": "markdown",
   "id": "mechanical-pointer",
   "metadata": {},
   "source": [
    "# Guides"
   ]
  },
  {
   "cell_type": "markdown",
   "id": "promising-steal",
   "metadata": {
    "pycharm": {
     "name": "#%% md\n"
    }
   },
   "source": [
    "## How to customize or extend the knowledge base\n",
    "\n",
    "You can design your own description language and use it with Draco or extend the existing language we use here. If you don't know where to start with the constraints, you can first use our [`run_clingo`](https://dig.cmu.edu/draco2/api/run.html#draco.run.run_clingo) and [`programs`](https://dig.cmu.edu/draco2/api/programs.html) API to generate some recommendations. Then, you should be able to find some recommendations that should have been left out, and you can write constraints to reflect them.  \n",
    "If you write your own description language, you need to set up the search space in a similar way to [`generate.lp`](https://github.com/cmudig/draco2/blob/main/draco/asp/generate.lp) before trying to generate recommendations.\n",
    "\n",
    "For example, the following snippet shows how to use the `run_clingo` API to generate one recommendation. You can set a different number to look into more results. "
   ]
  },
  {
   "cell_type": "code",
   "execution_count": 4,
   "id": "lonely-cigarette",
   "metadata": {},
   "outputs": [
    {
     "name": "stdout",
     "output_type": "stream",
     "text": [
      "{'field': [{'name': 'temperature', 'type': 'number'},\n",
      "           {'name': 'precipitation', 'type': 'number'}],\n",
      " 'number_rows': 100,\n",
      " 'task': 'value',\n",
      " 'view': [{'mark': [{'channel': 'text',\n",
      "                     'encoding': [{'channel': 'text',\n",
      "                                   'field': ('f', 0),\n",
      "                                   'scale_type': 'linear'},\n",
      "                                  {'channel': 'size',\n",
      "                                   'field': ('f', 1),\n",
      "                                   'scale_type': 'linear'}],\n",
      "                     'mark_encoding_cont': ('e', 1),\n",
      "                     'scale': ('s', 1),\n",
      "                     'type': 'text'}],\n",
      "           'scale': [{'channel': 'text', 'type': 'linear'},\n",
      "                     {'channel': 'size', 'type': 'linear'}]}]}\n",
      "[attribute(number_rows,root,100), attribute((field,name),(f,0),temperature), attribute((field,type),(f,0),number), attribute((field,name),(f,1),precipitation), attribute((field,type),(f,1),number), attribute((encoding,field),(e,0),(f,0)), attribute((encoding,field),(e,1),(f,1)), attribute(task,root,value), attribute((scale,type),(s,1),linear), attribute((scale,type),(s,0),linear), attribute((encoding,channel),(e,1),size), attribute((encoding,channel),(e,0),text), attribute((mark,type),(m,0),text), attribute((scale,channel),(s,1),size), attribute((scale,channel),(s,0),text), attribute((mark,channel),(m,0),size), attribute((mark,channel),(m,0),text), attribute((mark,scale),(m,0),(s,0)), attribute((mark,scale),(m,0),(s,1)), attribute((encoding,scale_type),(e,0),linear), attribute((encoding,scale_type),(e,1),linear), attribute(mark_encoding_cont,(m,0),(e,0)), attribute(mark_encoding_cont,(m,0),(e,1)), entity(field,root,(f,0)), entity(field,root,(f,1)), entity(view,root,(v,0)), entity(mark,(v,0),(m,0)), entity(encoding,(m,0),(e,0)), entity(encoding,(m,0),(e,1)), entity(scale,(v,0),(s,0)), entity(scale,(v,0),(s,1))]\n"
     ]
    }
   ],
   "source": [
    "from draco import answer_set_to_dict, run_clingo\n",
    "from draco.programs import define, hard, helpers, constraints, generate\n",
    "from pprint import pprint\n",
    "\n",
    "prog = (\n",
    "    generate.program\n",
    "    + define.program\n",
    "    + helpers.program\n",
    "    + hard.program\n",
    "    + constraints.program\n",
    ")\n",
    "\n",
    "scatter = \"\"\"\n",
    "    attribute(number_rows,root,100).\n",
    "\n",
    "    entity(field,root,(f,0)).\n",
    "    attribute((field,name),(f,0),temperature).\n",
    "    attribute((field,type),(f,0),number).\n",
    "\n",
    "    entity(field,root,(f,1)).\n",
    "    attribute((field,name),(f,1),precipitation).\n",
    "    attribute((field,type),(f,1),number).\n",
    "\n",
    "    entity(view,root,(v,0)).\n",
    "    entity(mark,(v,0),(m,0)).\n",
    "    entity(encoding,(m,0),(e,0)).\n",
    "    attribute((encoding,field),(e,0),(f,0)).\n",
    "    entity(encoding,(m,0),(e,1)).\n",
    "    attribute((encoding,field),(e,1),(f,1)).\n",
    "\n",
    "    entity(scale,(v,0),(s,0)).\n",
    "    entity(scale,(v,0),(s,1)).\n",
    "\n",
    "    #show entity/3.\n",
    "    #show attribute/3.\n",
    "\"\"\"\n",
    "\n",
    "for model in run_clingo(prog + scatter, 1):\n",
    "    pprint(answer_set_to_dict(model.answer_set))\n",
    "    print(model.answer_set)"
   ]
  },
  {
   "cell_type": "markdown",
   "id": "8866d38f",
   "metadata": {
    "pycharm": {
     "name": "#%% md\n"
    }
   },
   "source": [
    "If you see that there are too many recommendations, you can:\n",
    " * add more hard constraints\n",
    " * modify your generator and hard constraints to reduce symmetry in the search space (e.g. similar recommendations with switched entity ids)\n",
    "\n",
    "\n",
    "If you see too few recommendations, you can:\n",
    " * check if some of your constraints are too tight, and move them to soft constraints\n",
    " \n",
    "\n",
    "If you see no recommendations, you might have made mistakes in the hard constraints. You can allow violations to check what are the common ones by removing the `violation` constraint, which forbids any violations, from the programs. Below is an example:"
   ]
  },
  {
   "cell_type": "code",
   "execution_count": 5,
   "id": "5df17ad2",
   "metadata": {},
   "outputs": [
    {
     "name": "stdout",
     "output_type": "stream",
     "text": [
      "{'field': [{'name': 'temperature', 'type': 'number'},\n",
      "           {'name': 'precipitation', 'type': 'number'}],\n",
      " 'number_rows': 100,\n",
      " 'task': 'value',\n",
      " 'view': [{'mark': [{'channel': 'shape',\n",
      "                     'encoding': [{'channel': 'shape',\n",
      "                                   'field': ('f', 0),\n",
      "                                   'scale_type': 'categorical'},\n",
      "                                  {'channel': 'size',\n",
      "                                   'field': ('f', 1),\n",
      "                                   'scale_type': 'categorical'}],\n",
      "                     'mark_channel_discrete_or_binned': 'shape',\n",
      "                     'mark_encoding_discrete_or_binned': ('e', 1),\n",
      "                     'scale': ('s', 1),\n",
      "                     'type': 'rect'}],\n",
      "           'scale': [{'channel': 'shape', 'type': 'categorical'},\n",
      "                     {'channel': 'size', 'type': 'categorical'}]}]}\n",
      "[attribute(number_rows,root,100), attribute((field,name),(f,0),temperature), attribute((field,type),(f,0),number), attribute((field,name),(f,1),precipitation), attribute((field,type),(f,1),number), attribute((encoding,field),(e,0),(f,0)), attribute((encoding,field),(e,1),(f,1)), attribute(task,root,value), attribute((scale,type),(s,1),categorical), attribute((scale,type),(s,0),categorical), attribute((encoding,channel),(e,1),size), attribute((encoding,channel),(e,0),shape), attribute((mark,type),(m,0),rect), attribute((scale,channel),(s,1),size), attribute((scale,channel),(s,0),shape), attribute((mark,channel),(m,0),size), attribute((mark,channel),(m,0),shape), attribute((mark,scale),(m,0),(s,0)), attribute((mark,scale),(m,0),(s,1)), attribute((encoding,scale_type),(e,0),categorical), attribute((encoding,scale_type),(e,1),categorical), attribute(mark_channel_discrete_or_binned,(m,0),size), attribute(mark_channel_discrete_or_binned,(m,0),shape), attribute(mark_encoding_discrete_or_binned,(m,0),(e,0)), attribute(mark_encoding_discrete_or_binned,(m,0),(e,1)), entity(field,root,(f,0)), entity(field,root,(f,1)), entity(view,root,(v,0)), entity(mark,(v,0),(m,0)), entity(encoding,(m,0),(e,0)), entity(encoding,(m,0),(e,1)), entity(scale,(v,0),(s,0)), entity(scale,(v,0),(s,1))]\n",
      "['size_without_point_text', 'shape_without_point', 'categorical_not_color', 'shape_not_ordinal']\n"
     ]
    }
   ],
   "source": [
    "from draco import Draco\n",
    "from draco.asp_utils import blocks_to_program\n",
    "\n",
    "d = Draco()\n",
    "\n",
    "c = \"\".join(\n",
    "    blocks_to_program(\n",
    "        constraints.blocks, set(constraints.blocks.keys()) - set([\"violation\"])\n",
    "    )\n",
    ")\n",
    "prog = generate.program + define.program + helpers.program + hard.program + c + scatter\n",
    "\n",
    "for model in run_clingo(prog + scatter, 1):\n",
    "    pprint(answer_set_to_dict(model.answer_set))\n",
    "    print(model.answer_set)\n",
    "    answer = [str(symbol) + \". \" for symbol in model.answer_set]\n",
    "    print(d.get_violations(answer))"
   ]
  },
  {
   "cell_type": "code",
   "execution_count": null,
   "id": "a476eb08",
   "metadata": {},
   "outputs": [],
   "source": []
  }
 ],
 "metadata": {
  "kernelspec": {
   "display_name": "Python 3.9.13 ('draco')",
   "language": "python",
   "name": "python3"
  },
  "language_info": {
   "codemirror_mode": {
    "name": "ipython",
    "version": 3
   },
   "file_extension": ".py",
   "mimetype": "text/x-python",
   "name": "python",
   "nbconvert_exporter": "python",
   "pygments_lexer": "ipython3",
   "version": "3.9.13"
  },
  "vscode": {
   "interpreter": {
    "hash": "8cbf43381becf335288b6abafb11bb428a5ff10871fda3a9373467d6e60abc50"
   }
  }
 },
 "nbformat": 4,
 "nbformat_minor": 5
}
