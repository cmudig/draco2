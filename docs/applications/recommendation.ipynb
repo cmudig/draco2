{
 "cells": [
  {
   "cell_type": "markdown",
   "metadata": {},
   "source": [
    "# Visualization Recommendation\n",
    "\n",
    "In these examples, we use Draco to recommend visualizations based on partial inputs."
   ]
  },
  {
   "cell_type": "code",
   "execution_count": 1,
   "metadata": {},
   "outputs": [],
   "source": [
    "from draco import Draco, answer_set_to_dict\n",
    "from pprint import pprint\n",
    "\n",
    "d = Draco()"
   ]
  },
  {
   "cell_type": "markdown",
   "metadata": {},
   "source": [
    "## Histogramm\n",
    "\n",
    "In this example, we tell Draco to show a binned chart. A possible visualization is a tick plot but because the tick marks would overlap, Draco adds an addicional count encoding."
   ]
  },
  {
   "cell_type": "code",
   "execution_count": 2,
   "metadata": {},
   "outputs": [
    {
     "name": "stdout",
     "output_type": "stream",
     "text": [
      "INPUT:\n",
      "attribute(number_rows,root,100).\n",
      "\n",
      "entity(field,root,(f,0)).\n",
      "attribute((field,name),(f,0),temperature).\n",
      "attribute((field,type),(f,0),number).\n",
      "attribute((field,unique),(f,0),100).\n",
      "\n",
      "entity(view,root,(v,0)).\n",
      "\n",
      "entity(mark,(v,0),(m,0)).\n",
      "entity(encoding,(m,0),(e,0)).\n",
      "attribute((encoding,field),(e,0),(f,0)).\n",
      "attribute((encoding,binning),(e,0),10).\n",
      "\n",
      "#show entity/3.\n",
      "#show attribute/3.\n",
      "\n",
      "OUTPUT:\n",
      "{'field': [{'name': 'temperature', 'type': 'number', 'unique': 100}],\n",
      " 'number_rows': 100,\n",
      " 'task': 'summary',\n",
      " 'view': [{'mark': [{'channel': 'y',\n",
      "                     'discrete_size': 10,\n",
      "                     'encoding': [{'binning': 10,\n",
      "                                   'channel': 'x',\n",
      "                                   'encoding_cardinality': 10,\n",
      "                                   'field': ('f', 0),\n",
      "                                   'scale_type': 'linear',\n",
      "                                   'type': 'linear'},\n",
      "                                  {'aggregate': 'count',\n",
      "                                   'channel': 'y',\n",
      "                                   'scale_type': 'linear',\n",
      "                                   'type': 'linear',\n",
      "                                   'zero': 'true'}],\n",
      "                     'mark_channel_cont': 'y',\n",
      "                     'mark_channel_discrete_or_binned': 'x',\n",
      "                     'mark_encoding_cont': ('e', 1),\n",
      "                     'mark_encoding_discrete_or_binned': ('e', 0),\n",
      "                     'scale': ('e', 0),\n",
      "                     'type': 'bar',\n",
      "                     'x_cardinality': 10}],\n",
      "           'scale': [{'aggregate': 'count',\n",
      "                      'channel': 'y',\n",
      "                      'scale_type': 'linear',\n",
      "                      'type': 'linear',\n",
      "                      'zero': 'true'},\n",
      "                     {'binning': 10,\n",
      "                      'channel': 'x',\n",
      "                      'encoding_cardinality': 10,\n",
      "                      'field': ('f', 0),\n",
      "                      'scale_type': 'linear',\n",
      "                      'type': 'linear'}]}]}\n",
      "VIOLATED PREFERENCES:\n",
      "defaultdict(<class 'int'>,\n",
      "            {'aggregate': 1,\n",
      "             'aggregate_count': 1,\n",
      "             'bin': 1,\n",
      "             'c_d_no_overlap_bar': 1,\n",
      "             'encoding': 2,\n",
      "             'encoding_field': 1,\n",
      "             'linear_scale': 2,\n",
      "             'linear_x': 1,\n",
      "             'linear_y': 1,\n",
      "             'summary_bar': 1,\n",
      "             'summary_continuous_y': 1,\n",
      "             'summary_discrete_x': 1})\n"
     ]
    }
   ],
   "source": [
    "with open(\"../../draco/asp/examples/histogram.lp\") as f:\n",
    "    hist_spec = f.read()\n",
    "\n",
    "print(\"INPUT:\")\n",
    "print(hist_spec)\n",
    "\n",
    "print(\"OUTPUT:\")\n",
    "model = next(d.complete_spec(hist_spec))\n",
    "pprint(answer_set_to_dict(model.answer_set))\n",
    "\n",
    "print(\"VIOLATED PREFERENCES:\")\n",
    "pprint(d.count_preferences(str(model)))"
   ]
  },
  {
   "cell_type": "markdown",
   "metadata": {},
   "source": [
    "## Scatterplot\n",
    "\n",
    "In this example, we tell Draco to show two continuous fields. The most effective visualization is a scatterplot."
   ]
  },
  {
   "cell_type": "code",
   "execution_count": 3,
   "metadata": {},
   "outputs": [
    {
     "name": "stdout",
     "output_type": "stream",
     "text": [
      "INPUT:\n",
      "attribute(number_rows,root,100).\n",
      "\n",
      "entity(field,root,(f,0)).\n",
      "attribute((field,name),(f,0),temperature).\n",
      "attribute((field,type),(f,0),number).\n",
      "\n",
      "entity(field,root,(f,1)).\n",
      "attribute((field,name),(f,1),precipitation).\n",
      "attribute((field,type),(f,1),number).\n",
      "\n",
      "entity(view,root,(v,0)).\n",
      "entity(mark,(v,0),(m,0)).\n",
      "entity(encoding,(m,0),(e,0)).\n",
      "attribute((encoding,field),(e,0),(f,0)).\n",
      "entity(encoding,(m,0),(e,1)).\n",
      "attribute((encoding,field),(e,1),(f,1)).\n",
      "\n",
      "entity(scale,(v,0),(s,0)).\n",
      "entity(scale,(v,0),(s,1)).\n",
      "\n",
      "#show entity/3.\n",
      "#show attribute/3.\n",
      "\n",
      "OUTPUT:\n",
      "{'field': [{'name': 'temperature', 'type': 'number'},\n",
      "           {'name': 'precipitation', 'type': 'number'}],\n",
      " 'number_rows': 100,\n",
      " 'task': 'summary',\n",
      " 'view': [{'mark': [{'channel': 'y',\n",
      "                     'encoding': [{'channel': 'x',\n",
      "                                   'field': ('f', 0),\n",
      "                                   'scale_type': 'linear',\n",
      "                                   'type': 'linear',\n",
      "                                   'zero': 'true'},\n",
      "                                  {'channel': 'y',\n",
      "                                   'field': ('f', 1),\n",
      "                                   'scale_type': 'linear',\n",
      "                                   'type': 'linear',\n",
      "                                   'zero': 'true'}],\n",
      "                     'mark_channel_cont': 'y',\n",
      "                     'mark_encoding_cont': ('e', 1),\n",
      "                     'scale': ('e', 0),\n",
      "                     'type': 'point'}],\n",
      "           'scale': [{'type': 'ordinal'},\n",
      "                     {'type': 'ordinal'},\n",
      "                     {'channel': 'y',\n",
      "                      'field': ('f', 1),\n",
      "                      'scale_type': 'linear',\n",
      "                      'type': 'linear',\n",
      "                      'zero': 'true'},\n",
      "                     {'channel': 'x',\n",
      "                      'field': ('f', 0),\n",
      "                      'scale_type': 'linear',\n",
      "                      'type': 'linear',\n",
      "                      'zero': 'true'}]}]}\n",
      "VIOLATED PREFERENCES:\n",
      "defaultdict(<class 'int'>,\n",
      "            {'c_c_point': 1,\n",
      "             'encoding': 2,\n",
      "             'encoding_field': 2,\n",
      "             'linear_scale': 2,\n",
      "             'linear_x': 1,\n",
      "             'linear_y': 1,\n",
      "             'summary_continuous_x': 1,\n",
      "             'summary_continuous_y': 1,\n",
      "             'summary_point': 1})\n"
     ]
    }
   ],
   "source": [
    "with open(\"../../draco/asp/examples/scatter.lp\") as f:\n",
    "    hist_spec = f.read()\n",
    "\n",
    "print(\"INPUT:\")\n",
    "print(hist_spec)\n",
    "\n",
    "print(\"OUTPUT:\")\n",
    "model = next(d.complete_spec(hist_spec))\n",
    "pprint(answer_set_to_dict(model.answer_set))\n",
    "\n",
    "print(\"VIOLATED PREFERENCES:\")\n",
    "pprint(d.count_preferences(str(model)))"
   ]
  },
  {
   "cell_type": "code",
   "execution_count": null,
   "metadata": {},
   "outputs": [],
   "source": []
  }
 ],
 "metadata": {
  "kernelspec": {
   "display_name": "Python 3.9.13 ('draco')",
   "language": "python",
   "name": "python3"
  },
  "language_info": {
   "codemirror_mode": {
    "name": "ipython",
    "version": 3
   },
   "file_extension": ".py",
   "mimetype": "text/x-python",
   "name": "python",
   "nbconvert_exporter": "python",
   "pygments_lexer": "ipython3",
   "version": "3.9.13"
  },
  "orig_nbformat": 4,
  "vscode": {
   "interpreter": {
    "hash": "8cbf43381becf335288b6abafb11bb428a5ff10871fda3a9373467d6e60abc50"
   }
  }
 },
 "nbformat": 4,
 "nbformat_minor": 2
}
