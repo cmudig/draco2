{
 "cells": [
  {
   "cell_type": "markdown",
   "metadata": {},
   "source": [
    "# Visualization Recommendation\n",
    "\n",
    "In these examples, we use Draco to recommend visualizations based on partial inputs."
   ]
  },
  {
   "cell_type": "code",
   "execution_count": 1,
   "metadata": {},
   "outputs": [],
   "source": [
    "from draco import Draco, answer_set_to_dict\n",
    "from pprint import pprint\n",
    "\n",
    "d = Draco()"
   ]
  },
  {
   "cell_type": "markdown",
   "metadata": {},
   "source": [
    "## Histogram\n",
    "\n",
    "In this example, we tell Draco to show a binned chart. A possible visualization is a tick plot but because the tick marks would overlap, Draco adds an additional count encoding."
   ]
  },
  {
   "cell_type": "code",
   "execution_count": 2,
   "metadata": {},
   "outputs": [
    {
     "name": "stdout",
     "output_type": "stream",
     "text": [
      "INPUT:\n",
      "attribute(number_rows,root,100).\n",
      "\n",
      "entity(field,root,(f,0)).\n",
      "attribute((field,name),(f,0),temperature).\n",
      "attribute((field,type),(f,0),number).\n",
      "attribute((field,unique),(f,0),100).\n",
      "\n",
      "entity(view,root,(v,0)).\n",
      "\n",
      "entity(mark,(v,0),(m,0)).\n",
      "entity(encoding,(m,0),(e,0)).\n",
      "attribute((encoding,field),(e,0),temperature).\n",
      "attribute((encoding,binning),(e,0),10).\n",
      "\n",
      "#show entity/3.\n",
      "#show attribute/3.\n",
      "\n",
      "OUTPUT:\n",
      "{'field': [{'name': 'temperature', 'type': 'number', 'unique': 100}],\n",
      " 'number_rows': 100,\n",
      " 'task': 'summary',\n",
      " 'view': [{'coordinates': 'cartesian',\n",
      "           'mark': [{'encoding': [{'binning': 10,\n",
      "                                   'channel': 'x',\n",
      "                                   'field': 'temperature'},\n",
      "                                  {'aggregate': 'count', 'channel': 'y'}],\n",
      "                     'type': 'bar'}],\n",
      "           'scale': [{'channel': 'x', 'type': 'linear'},\n",
      "                     {'channel': 'y', 'type': 'linear', 'zero': 'true'}]}]}\n",
      "VIOLATED PREFERENCES:\n",
      "defaultdict(<class 'int'>,\n",
      "            {'aggregate': 1,\n",
      "             'aggregate_count': 1,\n",
      "             'bin': 1,\n",
      "             'c_d_no_overlap_bar': 1,\n",
      "             'cartesian_coordinate': 1,\n",
      "             'encoding': 2,\n",
      "             'encoding_field': 1,\n",
      "             'linear_scale': 2,\n",
      "             'linear_x': 1,\n",
      "             'linear_y': 1,\n",
      "             'summary_bar': 1})\n"
     ]
    }
   ],
   "source": [
    "with open(\"../../draco/asp/examples/histogram.lp\") as f:\n",
    "    hist_spec = f.read()\n",
    "\n",
    "print(\"INPUT:\")\n",
    "print(hist_spec)\n",
    "\n",
    "print(\"OUTPUT:\")\n",
    "model = next(d.complete_spec(hist_spec))\n",
    "pprint(answer_set_to_dict(model.answer_set))\n",
    "\n",
    "print(\"VIOLATED PREFERENCES:\")\n",
    "pprint(d.count_preferences(str(model)))"
   ]
  },
  {
   "cell_type": "markdown",
   "metadata": {},
   "source": [
    "## Scatterplot\n",
    "\n",
    "In this example, we tell Draco to show two continuous fields. The most effective visualization is a scatterplot."
   ]
  },
  {
   "cell_type": "code",
   "execution_count": 3,
   "metadata": {},
   "outputs": [
    {
     "name": "stdout",
     "output_type": "stream",
     "text": [
      "INPUT:\n",
      "attribute(number_rows,root,100).\n",
      "\n",
      "entity(field,root,f0).\n",
      "attribute((field,name),f0,temperature).\n",
      "attribute((field,type),f0,number).\n",
      "\n",
      "entity(field,root,f1).\n",
      "attribute((field,name),f1,precipitation).\n",
      "attribute((field,type),f1,number).\n",
      "\n",
      "entity(view,root,v0).\n",
      "\n",
      "entity(mark,v0,m).\n",
      "entity(encoding,m,e0).\n",
      "attribute((encoding,field),e0,temperature).\n",
      "entity(encoding,m,e1).\n",
      "attribute((encoding,field),e1,precipitation).\n",
      "\n",
      "#show entity/3.\n",
      "#show attribute/3.\n",
      "\n",
      "OUTPUT:\n",
      "{'field': [{'name': 'temperature', 'type': 'number'},\n",
      "           {'name': 'precipitation', 'type': 'number'}],\n",
      " 'number_rows': 100,\n",
      " 'task': 'summary',\n",
      " 'view': [{'coordinates': 'cartesian',\n",
      "           'mark': [{'encoding': [{'channel': 'x', 'field': 'temperature'},\n",
      "                                  {'channel': 'y', 'field': 'precipitation'}],\n",
      "                     'type': 'point'}],\n",
      "           'scale': [{'channel': 'x', 'type': 'linear', 'zero': 'true'},\n",
      "                     {'channel': 'y', 'type': 'linear', 'zero': 'true'}]}]}\n",
      "VIOLATED PREFERENCES:\n",
      "defaultdict(<class 'int'>,\n",
      "            {'c_c_point': 1,\n",
      "             'cartesian_coordinate': 1,\n",
      "             'encoding': 2,\n",
      "             'encoding_field': 2,\n",
      "             'linear_scale': 2,\n",
      "             'linear_x': 1,\n",
      "             'linear_y': 1,\n",
      "             'summary_point': 1})\n"
     ]
    }
   ],
   "source": [
    "with open(\"../../draco/asp/examples/scatter.lp\") as f:\n",
    "    scatter_spec = f.read()\n",
    "\n",
    "print(\"INPUT:\")\n",
    "print(scatter_spec)\n",
    "\n",
    "print(\"OUTPUT:\")\n",
    "model = next(d.complete_spec(scatter_spec))\n",
    "pprint(answer_set_to_dict(model.answer_set))\n",
    "\n",
    "print(\"VIOLATED PREFERENCES:\")\n",
    "pprint(d.count_preferences(str(model)))"
   ]
  },
  {
   "cell_type": "code",
   "execution_count": null,
   "metadata": {},
   "outputs": [],
   "source": []
  }
 ],
 "metadata": {
  "kernelspec": {
   "display_name": "Python 3 (ipykernel)",
   "language": "python",
   "name": "python3"
  },
  "language_info": {
   "codemirror_mode": {
    "name": "ipython",
    "version": 3
   },
   "file_extension": ".py",
   "mimetype": "text/x-python",
   "name": "python",
   "nbconvert_exporter": "python",
   "pygments_lexer": "ipython3",
   "version": "3.10.0"
  },
  "vscode": {
   "interpreter": {
    "hash": "8cbf43381becf335288b6abafb11bb428a5ff10871fda3a9373467d6e60abc50"
   }
  }
 },
 "nbformat": 4,
 "nbformat_minor": 2
}
