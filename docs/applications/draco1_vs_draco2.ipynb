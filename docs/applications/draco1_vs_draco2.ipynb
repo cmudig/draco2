{
 "cells": [
  {
   "cell_type": "markdown",
   "id": "24e9a21e-c324-4f7a-bc7f-fb3656d45d12",
   "metadata": {},
   "source": [
    "# Draco 1 vs. Draco 2\n",
    "\n",
    "In this notebook, we compare and contrast the capabilities of _Draco 1_ and _Draco 2_ through hands-on examples.\n",
    "\n",
    "> ⚠️ This notebook requires a Node.js runtime so that the `draco1` bindings work as expected. Draco 2 **does not** require non-Python dependencies"
   ]
  },
  {
   "cell_type": "code",
   "execution_count": 1,
   "id": "8da3c5c9-75d4-4961-89c9-3ce2f5ba361d",
   "metadata": {},
   "outputs": [],
   "source": [
    "# Display utilities\n",
    "from IPython.display import display, Markdown\n",
    "\n",
    "def md(markdown: str):\n",
    "    display(Markdown(markdown))"
   ]
  },
  {
   "cell_type": "markdown",
   "id": "0acb85d4-c967-4679-9d1c-a69b575e2e15",
   "metadata": {},
   "source": [
    "We'll be installing a forked version of Draco 1, specifically named `draco1`. This is to prevent any conflicts with the currently installed `draco` package, which refers to Draco 2 (i.e., this repository). It's important to note that the `draco1` fork doesn't modify the original functionality of Draco 1 - it's simply a renaming of the package. This way, we can clearly distinguish between the two versions of Draco for our comparison and we can interact with them within the same notebook."
   ]
  },
  {
   "cell_type": "code",
   "execution_count": 2,
   "id": "267359fa-ca9f-4387-849c-08dabbb45a3c",
   "metadata": {},
   "outputs": [],
   "source": [
    "# Installing `clyngor` prior to `draco1`, as it is a build requirement\n",
    "!pip -qq install --upgrade pip && pip -qq install clyngor\n",
    "!pip install -qq 'git+https://github.com/peter-gy/draco.git@named-to-draco1#draco1'"
   ]
  },
  {
   "cell_type": "code",
   "execution_count": 3,
   "id": "5702f425-d5ca-434e-98a1-56c0728625cb",
   "metadata": {},
   "outputs": [
    {
     "data": {
      "text/markdown": [
       "Comparing _Draco 1: v0.0.9_ with _Draco 2: v2.0.0b5_"
      ],
      "text/plain": [
       "<IPython.core.display.Markdown object>"
      ]
     },
     "metadata": {},
     "output_type": "display_data"
    }
   ],
   "source": [
    "import draco1 as drc1\n",
    "import draco as drc2\n",
    "\n",
    "md(f'Comparing _Draco 1: v{drc1.__version__}_ with _Draco 2: v{drc2.__version__}_')"
   ]
  }
 ],
 "metadata": {
  "kernelspec": {
   "display_name": "Python 3 (ipykernel)",
   "language": "python",
   "name": "python3"
  },
  "language_info": {
   "codemirror_mode": {
    "name": "ipython",
    "version": 3
   },
   "file_extension": ".py",
   "mimetype": "text/x-python",
   "name": "python",
   "nbconvert_exporter": "python",
   "pygments_lexer": "ipython3",
   "version": "3.10.11"
  }
 },
 "nbformat": 4,
 "nbformat_minor": 5
}
