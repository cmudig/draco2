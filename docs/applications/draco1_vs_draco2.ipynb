{
 "cells": [
  {
   "cell_type": "markdown",
   "id": "24e9a21e-c324-4f7a-bc7f-fb3656d45d12",
   "metadata": {},
   "source": [
    "# Draco 1 vs. Draco 2\n",
    "\n",
    "_Draco 2_ builds upon the core idea of _Draco 1_, that is, using constraints based on Answer Set Programming (ASP) to represent design knowledge about effective visualization designs. However, _Draco 2_ is a complete rewrite of _Draco 1_, with various improvements and new features.\n",
    "\n",
    "In this notebook, we compare and contrast the capabilities of _Draco 1_ and _Draco 2_ through hands-on examples.\n",
    "\n",
    "> ⚠️ This notebook requires a Node.js runtime so that the `draco1` bindings work as expected. Draco 2 **does not** require non-Python dependencies"
   ]
  },
  {
   "cell_type": "code",
   "execution_count": 21,
   "id": "8da3c5c9-75d4-4961-89c9-3ce2f5ba361d",
   "metadata": {
    "ExecuteTime": {
     "end_time": "2023-07-26T06:41:28.251896Z",
     "start_time": "2023-07-26T06:41:28.235073Z"
    }
   },
   "outputs": [],
   "source": [
    "# Display utilities\n",
    "from IPython.display import display, Markdown\n",
    "from typing import Callable\n",
    "\n",
    "def md(markdown: str):\n",
    "    display(Markdown(markdown))\n",
    "\n",
    "def run_guarded(func: Callable):\n",
    "    try:\n",
    "        func()\n",
    "    except Exception as e:\n",
    "        md(f'**Error:** <i style=\"color: red;\">{e}</i>')"
   ]
  },
  {
   "cell_type": "markdown",
   "id": "0acb85d4-c967-4679-9d1c-a69b575e2e15",
   "metadata": {},
   "source": [
    "We'll be installing a forked version of Draco 1, specifically named `draco1`. This is to prevent any conflicts with the currently installed `draco` package, which refers to Draco 2 (i.e., this repository). It's important to note that the `draco1` fork doesn't modify the original functionality of Draco 1 - it's simply a renaming of the package. This way, we can clearly distinguish between the two versions of Draco for our comparison and we can interact with them within the same notebook."
   ]
  },
  {
   "cell_type": "code",
   "execution_count": 22,
   "id": "267359fa-ca9f-4387-849c-08dabbb45a3c",
   "metadata": {
    "ExecuteTime": {
     "end_time": "2023-07-26T06:41:35.158333Z",
     "start_time": "2023-07-26T06:41:28.238693Z"
    }
   },
   "outputs": [],
   "source": [
    "# Installing `clyngor` prior to `draco1`, as it is a build requirement\n",
    "!pip -qq install --upgrade pip && pip -qq install clyngor\n",
    "!pip install -qq 'git+https://github.com/peter-gy/draco.git@named-to-draco1#draco1'"
   ]
  },
  {
   "cell_type": "code",
   "execution_count": 23,
   "id": "5702f425-d5ca-434e-98a1-56c0728625cb",
   "metadata": {
    "ExecuteTime": {
     "end_time": "2023-07-26T06:41:35.161570Z",
     "start_time": "2023-07-26T06:41:35.158576Z"
    }
   },
   "outputs": [
    {
     "data": {
      "text/plain": "<IPython.core.display.Markdown object>",
      "text/markdown": "Comparing _Draco 1: v0.0.9_ with _Draco 2: v2.0.0b5_"
     },
     "metadata": {},
     "output_type": "display_data"
    }
   ],
   "source": [
    "import draco1 as drc1\n",
    "import draco as drc2\n",
    "\n",
    "md(f'Comparing _Draco 1: v{drc1.__version__}_ with _Draco 2: v{drc2.__version__}_')"
   ]
  },
  {
   "cell_type": "markdown",
   "source": [
    "## API Implementation Comparison\n",
    "\n",
    "We set off by comparing and contrasting the APIs of _Draco 1_ and _Draco 2_ as well as investigating the features and technical characteristics of the two versions.\n",
    "\n",
    "> ✅: Feature is implemented <br/>\n",
    "> ✓: Feature is implemented, but it is limited in some way compared to the other version <br/>\n",
    "> 🚫: Feature is not implemented <br/>\n",
    "> _spec_: Refers to a chart specification <br/>\n",
    "> _ASP_: Refers to Answer Set Programming <br/>"
   ],
   "metadata": {
    "collapsed": false
   }
  },
  {
   "cell_type": "markdown",
   "source": [
    "|                                             | Draco 1                                                              | Draco 2                                                                         |\n",
    "|---------------------------------------------|----------------------------------------------------------------------|---------------------------------------------------------------------------------|\n",
    "| Execute an ASP problem                      | ✅ `drc1.run`                                                         | ✅ `drc2.run_clingo`                                                             |\n",
    "| Access results of a run                     | ✅ `drc1.Result`                                                      | ✅ `drc2.run.Model`                                                              |\n",
    "| Check whether an ASP problem is satisfiable | ✅ `drc1.is_valid`                                                    | ✅ `drc2.check_spec`                                                             |\n",
    "| List ASP problem violations                 | ✅`drc1.Result.violations.keys`                                       | ✅`drc2.get_violations`                                                          |\n",
    "| Show how often a spec violates a preference | ✅`drc1.Result.violations`                                            | ✅`drc2.count_preferences`                                                       |\n",
    "| Generate ASP definitions from data          | ✅ `drc1.data_to_asp`                                                 | ✅`drc2.schema_from_dataframe`                                                   |\n",
    "| Conversion between spec formats             | ✅ ASP ↔️Vega-Lite, ASP ↔️CompassQL                                   | ✓ ASP ↔️Nested dictionary                                                       |\n",
    "| Render recommendations                      | ✅ `drc1.Result.as_vl`                                                | ✅ `drc2.renderer.BaseRenderer.render`                                           |\n",
    "| Constraint weight learning                  | ✓ separate project `draco-learn`                                     | ✅`drc2.learn`                                                                   |\n",
    "| Web browser support                         | ✓ [`draco-vis`](https://github.com/uwdata/draco-vis) - deviating API | ✅[`draco-pyodide`](https://www.npmjs.com/package/draco-pyodide) - identical API |\n",
    "| Compatibility with `altair`                 | 🚫                                                                   | ✅                                                                               |\n",
    "| Complete partial spec                       | 🚫                                                                   | ✅`drc2.complete_spec`                                                           |\n",
    "| RESTful interface                           | 🚫                                                                   | ✅ `drc2.server`                                                                 |\n",
    "| Recommendation & constraint weight debugging | 🚫                                                                   | ✅ `drc2.debug`                                                                  |\n",
    "| Pure Python                                 | 🚫                                                                   | ✅                                                                               |"
   ],
   "metadata": {
    "collapsed": false
   }
  },
  {
   "cell_type": "markdown",
   "source": [
    "### API Differences in Practice"
   ],
   "metadata": {
    "collapsed": false
   }
  },
  {
   "cell_type": "markdown",
   "source": [
    "While the last aspect of the comparison table above may seem like only a minor detail for the first sight, it's important to note that _Draco 2_ is written entirely in Python, whereas _Draco 1_ is written in TypeScript and its Python API is only a wrapper around a Node.js subprocess. This means that _Draco 2_ is much easier to install and use, as it doesn't require any non-Python dependencies. Furthermore, it provides a much more seamless integration with the Python ecosystem, as it can be easily used in conjunction with other Python libraries without having to worry about serialization issues.\n",
    "\n",
    "We demonstrate this particular advantage of _Draco 2_ over _Draco 1_ in the cells below through a common use case: generating the schema of a dataset in preparation for the generation of recommendations."
   ],
   "metadata": {
    "collapsed": false
   }
  },
  {
   "cell_type": "markdown",
   "source": [
    "We set off by loading the [Seattle Weather](https://github.com/vega/vega/blob/main/docs/data/seattle-weather.csv) dataset from the [Vega Datasets](https://pypi.org/project/vega-datasets/) package. We then use Draco 1 (`drc1`) and Draco 2 (`drc2`) to generate the schema of the dataset. We represent the data schema as a list of Answer set programming (ASP) rules in both versions of Draco."
   ],
   "metadata": {
    "collapsed": false
   }
  },
  {
   "cell_type": "code",
   "execution_count": 24,
   "outputs": [
    {
     "data": {
      "text/plain": "        date  precipitation  temp_max  temp_min  wind  weather\n0 2012-01-01            0.0      12.8       5.0   4.7  drizzle\n1 2012-01-02           10.9      10.6       2.8   4.5     rain\n2 2012-01-03            0.8      11.7       7.2   2.3     rain\n3 2012-01-04           20.3      12.2       5.6   4.7     rain\n4 2012-01-05            1.3       8.9       2.8   6.1     rain",
      "text/html": "<div>\n<style scoped>\n    .dataframe tbody tr th:only-of-type {\n        vertical-align: middle;\n    }\n\n    .dataframe tbody tr th {\n        vertical-align: top;\n    }\n\n    .dataframe thead th {\n        text-align: right;\n    }\n</style>\n<table border=\"1\" class=\"dataframe\">\n  <thead>\n    <tr style=\"text-align: right;\">\n      <th></th>\n      <th>date</th>\n      <th>precipitation</th>\n      <th>temp_max</th>\n      <th>temp_min</th>\n      <th>wind</th>\n      <th>weather</th>\n    </tr>\n  </thead>\n  <tbody>\n    <tr>\n      <th>0</th>\n      <td>2012-01-01</td>\n      <td>0.0</td>\n      <td>12.8</td>\n      <td>5.0</td>\n      <td>4.7</td>\n      <td>drizzle</td>\n    </tr>\n    <tr>\n      <th>1</th>\n      <td>2012-01-02</td>\n      <td>10.9</td>\n      <td>10.6</td>\n      <td>2.8</td>\n      <td>4.5</td>\n      <td>rain</td>\n    </tr>\n    <tr>\n      <th>2</th>\n      <td>2012-01-03</td>\n      <td>0.8</td>\n      <td>11.7</td>\n      <td>7.2</td>\n      <td>2.3</td>\n      <td>rain</td>\n    </tr>\n    <tr>\n      <th>3</th>\n      <td>2012-01-04</td>\n      <td>20.3</td>\n      <td>12.2</td>\n      <td>5.6</td>\n      <td>4.7</td>\n      <td>rain</td>\n    </tr>\n    <tr>\n      <th>4</th>\n      <td>2012-01-05</td>\n      <td>1.3</td>\n      <td>8.9</td>\n      <td>2.8</td>\n      <td>6.1</td>\n      <td>rain</td>\n    </tr>\n  </tbody>\n</table>\n</div>"
     },
     "execution_count": 24,
     "metadata": {},
     "output_type": "execute_result"
    }
   ],
   "source": [
    "import pandas as pd\n",
    "from vega_datasets import data as vega_data\n",
    "\n",
    "df: pd.DataFrame = vega_data.seattle_weather()\n",
    "df.head()"
   ],
   "metadata": {
    "collapsed": false,
    "ExecuteTime": {
     "end_time": "2023-07-26T06:41:35.174887Z",
     "start_time": "2023-07-26T06:41:35.163271Z"
    }
   }
  },
  {
   "cell_type": "markdown",
   "source": [
    "### Draco 1\n",
    "\n",
    "As the cells below show, while _Draco 1_ exposes the `data2schema` function to generate the schema of a dataset, it is not directly compatible with a Pandas `DataFrame`. What's more, even after converting the dataframe to a list of dictionaries - under the assumption that it will be JSON serializable without issues - the function still fails to generate the schema due to the fact that the `data` column of the dataset is stored as a `Timestamp` object, which is not JSON serializable.\n",
    "\n",
    "We succeed with the schema generation only after converting the `date` column to a string of the format `YYYY-MM-DD`."
   ],
   "metadata": {
    "collapsed": false
   }
  },
  {
   "cell_type": "code",
   "execution_count": 25,
   "outputs": [
    {
     "data": {
      "text/plain": "<IPython.core.display.Markdown object>",
      "text/markdown": "**Error:** <i style=\"color: red;\">Object of type DataFrame is not JSON serializable</i>"
     },
     "metadata": {},
     "output_type": "display_data"
    }
   ],
   "source": [
    "# Attempt to generate the schema of the dataframe directly\n",
    "run_guarded(lambda: drc1.data_to_asp(df))"
   ],
   "metadata": {
    "collapsed": false,
    "ExecuteTime": {
     "end_time": "2023-07-26T06:41:35.186392Z",
     "start_time": "2023-07-26T06:41:35.172776Z"
    }
   }
  },
  {
   "cell_type": "code",
   "execution_count": 26,
   "outputs": [
    {
     "data": {
      "text/plain": "<IPython.core.display.Markdown object>",
      "text/markdown": "**Error:** <i style=\"color: red;\">Object of type Timestamp is not JSON serializable</i>"
     },
     "metadata": {},
     "output_type": "display_data"
    }
   ],
   "source": [
    "# Attempt to generate the schema of the dataframe after converting it to a list of dictionaries\n",
    "data_records = df.to_dict('records')\n",
    "run_guarded(lambda: drc1.data_to_asp(data_records))"
   ],
   "metadata": {
    "collapsed": false,
    "ExecuteTime": {
     "end_time": "2023-07-26T06:41:35.306640Z",
     "start_time": "2023-07-26T06:41:35.186538Z"
    }
   }
  },
  {
   "cell_type": "code",
   "execution_count": 27,
   "outputs": [
    {
     "data": {
      "text/plain": "['num_rows(1461).',\n '',\n 'fieldtype(\"date\",string).',\n 'cardinality(\"date\", 1461).',\n 'fieldtype(\"precipitation\",number).',\n 'cardinality(\"precipitation\", 111).',\n 'fieldtype(\"temp_max\",number).',\n 'cardinality(\"temp_max\", 67).',\n 'fieldtype(\"temp_min\",number).',\n 'cardinality(\"temp_min\", 55).',\n 'fieldtype(\"wind\",number).',\n 'cardinality(\"wind\", 79).',\n 'fieldtype(\"weather\",string).',\n 'cardinality(\"weather\", 5).',\n '']"
     },
     "execution_count": 27,
     "metadata": {},
     "output_type": "execute_result"
    }
   ],
   "source": [
    "# Attempt to generate the schema of the dataframe after converting it to a list of dictionaries\n",
    "# and converting the `date` column to a string of the format `YYYY-MM-DD`\n",
    "df_serializable = df.copy()\n",
    "df_serializable['date'] = df_serializable['date'].apply(lambda x: x.strftime('%Y-%m-%d'))\n",
    "data_records = df_serializable.to_dict('records')\n",
    "drc1.data_to_asp(data_records)"
   ],
   "metadata": {
    "collapsed": false,
    "ExecuteTime": {
     "end_time": "2023-07-26T06:41:35.408454Z",
     "start_time": "2023-07-26T06:41:35.208010Z"
    }
   }
  },
  {
   "cell_type": "markdown",
   "source": [
    "### Draco 2\n",
    "\n",
    "Thanks to the fact that _Draco 2_ is written entirely in Python, it is able to directly accept a Pandas `DataFrame` as input for the schema generation without any traces of the issues we encountered with _Draco 1_."
   ],
   "metadata": {
    "collapsed": false
   }
  },
  {
   "cell_type": "code",
   "execution_count": 28,
   "outputs": [
    {
     "data": {
      "text/plain": "['attribute(number_rows,root,1461).',\n 'entity(field,root,0).',\n 'attribute((field,name),0,date).',\n 'attribute((field,type),0,datetime).',\n 'attribute((field,unique),0,1461).',\n 'attribute((field,entropy),0,7287).',\n 'entity(field,root,1).',\n 'attribute((field,name),1,precipitation).',\n 'attribute((field,type),1,number).',\n 'attribute((field,unique),1,111).',\n 'attribute((field,entropy),1,2422).',\n 'attribute((field,min),1,0).',\n 'attribute((field,max),1,55).',\n 'attribute((field,std),1,6).',\n 'entity(field,root,2).',\n 'attribute((field,name),2,temp_max).',\n 'attribute((field,type),2,number).',\n 'attribute((field,unique),2,67).',\n 'attribute((field,entropy),2,3934).',\n 'attribute((field,min),2,-1).',\n 'attribute((field,max),2,35).',\n 'attribute((field,std),2,7).',\n 'entity(field,root,3).',\n 'attribute((field,name),3,temp_min).',\n 'attribute((field,type),3,number).',\n 'attribute((field,unique),3,55).',\n 'attribute((field,entropy),3,3596).',\n 'attribute((field,min),3,-7).',\n 'attribute((field,max),3,18).',\n 'attribute((field,std),3,5).',\n 'entity(field,root,4).',\n 'attribute((field,name),4,wind).',\n 'attribute((field,type),4,number).',\n 'attribute((field,unique),4,79).',\n 'attribute((field,entropy),4,3950).',\n 'attribute((field,min),4,0).',\n 'attribute((field,max),4,9).',\n 'attribute((field,std),4,1).',\n 'entity(field,root,5).',\n 'attribute((field,name),5,weather).',\n 'attribute((field,type),5,string).',\n 'attribute((field,unique),5,5).',\n 'attribute((field,entropy),5,1201).',\n 'attribute((field,freq),5,714).']"
     },
     "execution_count": 28,
     "metadata": {},
     "output_type": "execute_result"
    }
   ],
   "source": [
    "data_schema = drc2.schema_from_dataframe(df)\n",
    "drc2.dict_to_facts(data_schema)"
   ],
   "metadata": {
    "collapsed": false,
    "ExecuteTime": {
     "end_time": "2023-07-26T06:41:35.408714Z",
     "start_time": "2023-07-26T06:41:35.316037Z"
    }
   }
  }
 ],
 "metadata": {
  "kernelspec": {
   "display_name": "Python 3 (ipykernel)",
   "language": "python",
   "name": "python3"
  },
  "language_info": {
   "codemirror_mode": {
    "name": "ipython",
    "version": 3
   },
   "file_extension": ".py",
   "mimetype": "text/x-python",
   "name": "python",
   "nbconvert_exporter": "python",
   "pygments_lexer": "ipython3",
   "version": "3.10.11"
  }
 },
 "nbformat": 4,
 "nbformat_minor": 5
}
