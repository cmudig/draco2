{
 "cells": [
  {
   "cell_type": "markdown",
   "metadata": {
    "pycharm": {
     "name": "#%% md\n"
    }
   },
   "source": [
    "# Draco Debugging"
   ]
  },
  {
   "cell_type": "code",
   "execution_count": 6,
   "metadata": {
    "pycharm": {
     "name": "#%%\n"
    }
   },
   "outputs": [],
   "source": [
    "import toml\n",
    "import pandas as pd\n",
    "from typing import Iterable, NamedTuple\n",
    "import altair as alt\n",
    "\n",
    "from draco import Draco"
   ]
  },
  {
   "cell_type": "code",
   "execution_count": 7,
   "metadata": {
    "pycharm": {
     "name": "#%%\n"
    }
   },
   "outputs": [],
   "source": [
    "default_draco = Draco()"
   ]
  },
  {
   "cell_type": "code",
   "execution_count": null,
   "outputs": [],
   "source": [
    "feature_names: set[str] = set(default_draco.soft_constraint_names)\n",
    "\n",
    "\n",
    "def full_pref_count_dict(draco: Draco, spec: str | Iterable[str]) -> dict[str, int]:\n",
    "    \"\"\"Constructs a dict of preference counts, including all the soft constraint names in the keys\"\"\"\n",
    "    base: dict[str, int] = draco.count_preferences(spec) or {}\n",
    "    included_feature_names = set(base.keys())\n",
    "    not_included_feature_names = feature_names - included_feature_names\n",
    "    return base | {feature_name: 0 for feature_name in not_included_feature_names}\n",
    "\n",
    "\n",
    "def unnest_pref_count_dict(\n",
    "    dct: dict[str, dict[str, int]]\n",
    ") -> list[tuple[str, str, int]]:\n",
    "    return [\n",
    "        (chart_name, pref_name, count)\n",
    "        for chart_name, prefs in dct.items()\n",
    "        for pref_name, count in prefs.items()\n",
    "    ]\n",
    "\n",
    "\n",
    "with open(\"./data/example_charts.toml\") as file:\n",
    "    specs = toml.load(file)\n",
    "    pref_count_dict: dict[str, dict[str, int]] = {\n",
    "        chart_name: full_pref_count_dict(default_draco, spec)\n",
    "        for chart_name, spec in specs.items()\n",
    "    }\n",
    "    pref_tuples = unnest_pref_count_dict(pref_count_dict)\n",
    "\n",
    "# Shape: len(specs) * len(feature_names) rows x 3 columns\n",
    "chart_preferences = pd.DataFrame(\n",
    "    pref_tuples, columns=[\"chart_name\", \"pref_name\", \"count\"]\n",
    ")"
   ],
   "metadata": {
    "collapsed": false,
    "pycharm": {
     "name": "#%%\n"
    }
   }
  },
  {
   "cell_type": "code",
   "execution_count": null,
   "outputs": [],
   "source": [
    "class ChartConfig(NamedTuple):\n",
    "    title: str\n",
    "    sort_x: alt.Sort | str\n",
    "    sort_y: alt.Sort | str\n",
    "\n",
    "\n",
    "# One chart gets generated for each configuration\n",
    "configs: list[ChartConfig] = [\n",
    "    ChartConfig(title=\"Sort alphabetically\", sort_x=\"ascending\", sort_y=\"ascending\"),\n",
    "    ChartConfig(\n",
    "        title=\"Sort by count sum\",\n",
    "        sort_x=alt.EncodingSortField(field=\"count\", op=\"sum\", order=\"descending\"),\n",
    "        sort_y=alt.EncodingSortField(field=\"count\", op=\"sum\", order=\"descending\"),\n",
    "    ),\n",
    "]\n",
    "\n",
    "width, height = 1200, 300"
   ],
   "metadata": {
    "collapsed": false,
    "pycharm": {
     "name": "#%%\n"
    }
   }
  },
  {
   "cell_type": "code",
   "execution_count": null,
   "outputs": [],
   "source": [
    "def create_chart(cfg: ChartConfig) -> alt.Chart:\n",
    "    return (\n",
    "        alt.Chart(chart_preferences)\n",
    "        .mark_rect(stroke=\"lightgray\", strokeWidth=0.25)\n",
    "        .encode(\n",
    "            x=alt.X(field=\"pref_name\", type=\"nominal\", sort=cfg.sort_x),\n",
    "            y=alt.Y(field=\"chart_name\", type=\"nominal\", sort=cfg.sort_y),\n",
    "            color=alt.Color(field=\"count\", type=\"quantitative\"),\n",
    "            tooltip=chart_preferences.columns.tolist(),\n",
    "        )\n",
    "        .properties(width=width, height=height, title=cfg.title)\n",
    "    )\n",
    "\n",
    "\n",
    "charts = [create_chart(cfg) for cfg in configs]\n",
    "alt.VConcatChart(vconcat=charts).configure_axis(labelFontSize=8)"
   ],
   "metadata": {
    "collapsed": false,
    "pycharm": {
     "name": "#%%\n"
    }
   }
  }
 ],
 "metadata": {
  "kernelspec": {
   "display_name": "Python 3 (ipykernel)",
   "language": "python",
   "name": "python3"
  },
  "language_info": {
   "codemirror_mode": {
    "name": "ipython",
    "version": 3
   },
   "file_extension": ".py",
   "mimetype": "text/x-python",
   "name": "python",
   "nbconvert_exporter": "python",
   "pygments_lexer": "ipython3",
   "version": "3.10.0"
  },
  "vscode": {
   "interpreter": {
    "hash": "ad2bdc8ecc057115af97d19610ffacc2b4e99fae6737bb82f5d7fb13d2f2c186"
   }
  }
 },
 "nbformat": 4,
 "nbformat_minor": 4
}