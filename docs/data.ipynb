{
 "cells": [
  {
   "cell_type": "markdown",
   "metadata": {},
   "source": [
    "# Read Data\n",
    "\n",
    "Here, we will cover how to load data and use inferred statistics in Draco."
   ]
  },
  {
   "cell_type": "code",
   "execution_count": 2,
   "metadata": {},
   "outputs": [],
   "source": [
    "import draco.data\n",
    "import draco.run"
   ]
  },
  {
   "cell_type": "markdown",
   "metadata": {},
   "source": [
    "In this example, we use a weather dataset from Vega datasets but this could be any Pandas dataframe."
   ]
  },
  {
   "cell_type": "code",
   "execution_count": 3,
   "metadata": {},
   "outputs": [],
   "source": [
    "from vega_datasets import data\n",
    "df = data.seattle_weather()"
   ]
  },
  {
   "cell_type": "code",
   "execution_count": 4,
   "metadata": {},
   "outputs": [
    {
     "name": "stdout",
     "output_type": "stream",
     "text": [
      "Number: 1\n",
      "Atoms: [fact(numberRows,1461), fact(fieldCardinality,date,1461), fact(fieldDataType,date,date), fact(fieldCardinality,precipitation,111), fact(fieldDataType,precipitation,number), fact(fieldCardinality,temp_max,67), fact(fieldDataType,temp_max,number), fact(fieldCardinality,temp_min,55), fact(fieldDataType,temp_min,number), fact(fieldCardinality,wind,79), fact(fieldDataType,wind,number), fact(fieldCardinality,weather,5), fact(fieldDataType,weather,string)]\n",
      "\n"
     ]
    }
   ],
   "source": [
    "facts = draco.data.df_to_facts(df)\n",
    "\n",
    "draco.run.run(facts=facts, models=3)"
   ]
  },
  {
   "cell_type": "code",
   "execution_count": null,
   "metadata": {},
   "outputs": [],
   "source": []
  }
 ],
 "metadata": {
  "kernelspec": {
   "display_name": "Python 3",
   "language": "python",
   "name": "python3"
  },
  "language_info": {
   "codemirror_mode": {
    "name": "ipython",
    "version": 3
   },
   "file_extension": ".py",
   "mimetype": "text/x-python",
   "name": "python",
   "nbconvert_exporter": "python",
   "pygments_lexer": "ipython3",
   "version": "3.8.6"
  }
 },
 "nbformat": 4,
 "nbformat_minor": 4
}
