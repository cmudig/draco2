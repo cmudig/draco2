{
 "cells": [
  {
   "cell_type": "markdown",
   "id": "6e2b382c",
   "metadata": {},
   "source": [
    "# Specifications\n",
    "\n",
    "Draco can check whether a visualization specification is valid. If it isn't valid, it can also compute what constrains are being violated. These methods check a specification against the standard set of constraints in Draco. If you define your own constraints, you can instead use the lower-level [Draco run API](run.ipynb)."
   ]
  },
  {
   "cell_type": "markdown",
   "id": "c61fd747",
   "metadata": {},
   "source": [
    "## Available functions\n",
    "\n",
    "```{eval-rst}\n",
    ".. automodule:: draco.spec\n",
    "   :members:\n",
    "```"
   ]
  },
  {
   "cell_type": "markdown",
   "id": "6ca28067",
   "metadata": {},
   "source": [
    "## Usage Example"
   ]
  },
  {
   "cell_type": "code",
   "execution_count": 17,
   "id": "90fb6a61",
   "metadata": {},
   "outputs": [],
   "source": [
    "from draco import check_spec, get_violations"
   ]
  },
  {
   "cell_type": "code",
   "execution_count": 18,
   "id": "223194f8",
   "metadata": {},
   "outputs": [],
   "source": [
    "valid_spec = \"\"\"\n",
    "attribute(number_rows,root,100).\n",
    "entity(field,root,f1).\n",
    "attribute((field,name),f1,temperature).\n",
    "attribute((field,type),f1,number).\n",
    "\n",
    "entity(view,root,v).\n",
    "entity(mark,v,m1).\n",
    "attribute((mark,type),m1,tick).\n",
    "entity(encoding,m1,e1).\n",
    "attribute((encoding,channel),e1,x).\n",
    "attribute((encoding,field),e1,f1).\n",
    "\n",
    "entity(scale,v,sx).\n",
    "attribute((scale,channel),sx,x).\n",
    "attribute((scale,type),sx,linear).\n",
    "\"\"\""
   ]
  },
  {
   "cell_type": "code",
   "execution_count": 19,
   "id": "8192c897",
   "metadata": {},
   "outputs": [
    {
     "data": {
      "text/plain": [
       "True"
      ]
     },
     "execution_count": 19,
     "metadata": {},
     "output_type": "execute_result"
    }
   ],
   "source": [
    "check_spec(valid_spec)"
   ]
  },
  {
   "cell_type": "code",
   "execution_count": 20,
   "id": "06e09203",
   "metadata": {},
   "outputs": [
    {
     "data": {
      "text/plain": [
       "[]"
      ]
     },
     "execution_count": 20,
     "metadata": {},
     "output_type": "execute_result"
    }
   ],
   "source": [
    "get_violations(valid_spec)"
   ]
  },
  {
   "cell_type": "code",
   "execution_count": 30,
   "id": "0678a09e",
   "metadata": {},
   "outputs": [],
   "source": [
    "invalid_spec = \"\"\"\n",
    "attribute(number_rows,root,100).\n",
    "entity(field,root,f1).\n",
    "attribute((field,name),f1,temperature).\n",
    "attribute((field,type),f1,number).\n",
    "\n",
    "entity(view,root,v).\n",
    "entity(mark,v,m1).\n",
    "% invalid mark\n",
    "attribute((mark,type),m1,invalid).\n",
    "entity(encoding,m1,e1).\n",
    "attribute((encoding,channel),e1,x).\n",
    "attribute((encoding,field),e1,f1).\n",
    "\n",
    "entity(scale,v,sx).\n",
    "attribute((scale,channel),sx,x).\n",
    "attribute((scale,type),sx,linear).\n",
    "\"\"\""
   ]
  },
  {
   "cell_type": "code",
   "execution_count": 31,
   "id": "7f8379d6",
   "metadata": {},
   "outputs": [
    {
     "data": {
      "text/plain": [
       "False"
      ]
     },
     "execution_count": 31,
     "metadata": {},
     "output_type": "execute_result"
    }
   ],
   "source": [
    "check_spec(invalid_spec)"
   ]
  },
  {
   "cell_type": "code",
   "execution_count": 32,
   "id": "fc008b2a",
   "metadata": {},
   "outputs": [
    {
     "data": {
      "text/plain": [
       "['invalid_domain']"
      ]
     },
     "execution_count": 32,
     "metadata": {},
     "output_type": "execute_result"
    }
   ],
   "source": [
    "get_violations(invalid_spec)"
   ]
  },
  {
   "cell_type": "code",
   "execution_count": null,
   "id": "a39a62c1",
   "metadata": {},
   "outputs": [],
   "source": []
  }
 ],
 "metadata": {
  "kernelspec": {
   "display_name": "Python 3 (ipykernel)",
   "language": "python",
   "name": "python3"
  },
  "language_info": {
   "codemirror_mode": {
    "name": "ipython",
    "version": 3
   },
   "file_extension": ".py",
   "mimetype": "text/x-python",
   "name": "python",
   "nbconvert_exporter": "python",
   "pygments_lexer": "ipython3",
   "version": "3.7.7"
  }
 },
 "nbformat": 4,
 "nbformat_minor": 5
}
