{
 "cells": [
  {
   "cell_type": "markdown",
   "metadata": {},
   "source": [
    "# Specifications\n",
    "\n",
    "Draco can check whether a visualization specification is valid. If it isn't valid, it can also compute what constrains are being violated. These methods check a specification against the standard set of constraints in Draco. If you define your own constraints, you can instead use the lower-level [Draco run API](run.ipynb)."
   ]
  },
  {
   "cell_type": "markdown",
   "metadata": {},
   "source": [
    "## Available functions\n",
    "\n",
    "```{eval-rst}\n",
    ".. automodule:: draco.spec\n",
    "   :members:\n",
    "```"
   ]
  },
  {
   "cell_type": "markdown",
   "metadata": {},
   "source": [
    "## Usage Example"
   ]
  },
  {
   "cell_type": "code",
   "execution_count": 1,
   "metadata": {},
   "outputs": [],
   "source": [
    "from draco import check_spec, get_violations"
   ]
  },
  {
   "cell_type": "code",
   "execution_count": 2,
   "metadata": {},
   "outputs": [],
   "source": [
    "valid_spec = \"\"\"\n",
    "attribute(number_rows,root,100).\n",
    "entity(field,root,f1).\n",
    "attribute((field,name),f1,temperature).\n",
    "attribute((field,type),f1number).\n",
    "\n",
    "entity(mark,root,m1).\n",
    "attribute((mark,type),m1,tick).\n",
    "entity(encoding,m1,e1).\n",
    "attribute((encoding,channel),e1,x).\n",
    "attribute((encoding,field),e1,temperature).\n",
    "\n",
    "entity(scale,root,sx).\n",
    "attribute((scale,channel),sx,x).\n",
    "attribute((scale,type),sx,linear).\n",
    "\"\"\""
   ]
  },
  {
   "cell_type": "code",
   "execution_count": 3,
   "metadata": {},
   "outputs": [
    {
     "data": {
      "text/plain": "True"
     },
     "execution_count": 3,
     "metadata": {},
     "output_type": "execute_result"
    }
   ],
   "source": [
    "check_spec(valid_spec)"
   ]
  },
  {
   "cell_type": "code",
   "execution_count": 4,
   "metadata": {},
   "outputs": [
    {
     "data": {
      "text/plain": "[]"
     },
     "execution_count": 4,
     "metadata": {},
     "output_type": "execute_result"
    }
   ],
   "source": [
    "get_violations(valid_spec)"
   ]
  },
  {
   "cell_type": "code",
   "execution_count": 5,
   "metadata": {},
   "outputs": [],
   "source": [
    "invalid_spec = \"\"\"\n",
    "attribute(number_rows,root,100).\n",
    "entity(field,root,f1).\n",
    "attribute((field,name),f1,temperature).\n",
    "attribute((field,type),f1number).\n",
    "\n",
    "entity(mark,root,m1).\n",
    "% invalid mark\n",
    "attribute((mark,type),m1,invalid).\n",
    "entity(encoding,m1,e1).\n",
    "attribute((encoding,channel),e1,x).\n",
    "attribute((encoding,field),e1,temperature).\n",
    "\n",
    "entity(scale,root,sx).\n",
    "attribute((scale,channel),sx,x).\n",
    "attribute((scale,type),sx,linear).\n",
    "\"\"\""
   ]
  },
  {
   "cell_type": "code",
   "execution_count": 6,
   "metadata": {},
   "outputs": [
    {
     "data": {
      "text/plain": "False"
     },
     "execution_count": 6,
     "metadata": {},
     "output_type": "execute_result"
    }
   ],
   "source": [
    "check_spec(invalid_spec)"
   ]
  },
  {
   "cell_type": "code",
   "execution_count": 7,
   "metadata": {},
   "outputs": [
    {
     "data": {
      "text/plain": "['invalid_domain']"
     },
     "execution_count": 7,
     "metadata": {},
     "output_type": "execute_result"
    }
   ],
   "source": [
    "get_violations(invalid_spec)"
   ]
  },
  {
   "cell_type": "code",
   "execution_count": null,
   "metadata": {},
   "outputs": [],
   "source": []
  }
 ],
 "metadata": {
  "kernelspec": {
   "display_name": "Python 3.8.8 64-bit ('draco': conda)",
   "metadata": {
    "interpreter": {
     "hash": "1417893cfb28aac8f4900ac927ab2a1a6ab7e8af638d894f5471e1fba60b1e80"
    }
   },
   "name": "python3"
  },
  "language_info": {
   "codemirror_mode": {
    "name": "ipython",
    "version": 3
   },
   "file_extension": ".py",
   "mimetype": "text/x-python",
   "name": "python",
   "nbconvert_exporter": "python",
   "pygments_lexer": "ipython3",
   "version": "3.8.8"
  }
 },
 "nbformat": 4,
 "nbformat_minor": 5
}