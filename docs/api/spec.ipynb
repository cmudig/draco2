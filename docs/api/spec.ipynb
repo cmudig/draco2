{
 "cells": [
  {
   "cell_type": "markdown",
   "id": "suitable-reply",
   "metadata": {},
   "source": [
    "# Specifications\n",
    "\n",
    "Draco can check whether a visualization specification is valid. If it isn't valid, it can also compute what constrains are being violated. These methods check a specification against the standard set of constraints in Draco. If you define your own constraints, you can instead use the lower-level [Draco run API](run.ipynb)."
   ]
  },
  {
   "cell_type": "markdown",
   "id": "interior-message",
   "metadata": {},
   "source": [
    "## Available functions\n",
    "\n",
    "```{eval-rst}\n",
    ".. automodule:: draco.spec\n",
    "   :members:\n",
    "```"
   ]
  },
  {
   "cell_type": "markdown",
   "id": "generous-hamburg",
   "metadata": {},
   "source": [
    "## Usage Example"
   ]
  },
  {
   "cell_type": "code",
   "execution_count": 2,
   "id": "productive-winter",
   "metadata": {},
   "outputs": [],
   "source": [
    "from draco import check_spec, get_violations"
   ]
  },
  {
   "cell_type": "code",
   "execution_count": 1,
   "id": "accessory-mongolia",
   "metadata": {},
   "outputs": [],
   "source": [
    "valid_spec = \"\"\"\n",
    "attribute(number_rows,root,100).\n",
    "property(field,root,f1).\n",
    "attribute((field,name),f1,temperature).\n",
    "attribute((field,type),f1number).\n",
    "\n",
    "property(mark,root,m1).\n",
    "attribute((mark,type),m1,tick).\n",
    "property(encoding,m1,e1).\n",
    "attribute((encoding,channel),e1,x).\n",
    "attribute((encoding,field),e1,temperature).\n",
    "\n",
    "property(scale,root,sx).\n",
    "attribute((scale,channel),sx,x).\n",
    "attribute((scale,type),sx,linear).\n",
    "\"\"\""
   ]
  },
  {
   "cell_type": "code",
   "execution_count": 3,
   "id": "entire-principle",
   "metadata": {},
   "outputs": [
    {
     "output_type": "execute_result",
     "data": {
      "text/plain": [
       "True"
      ]
     },
     "metadata": {},
     "execution_count": 3
    }
   ],
   "source": [
    "check_spec(valid_spec)"
   ]
  },
  {
   "cell_type": "code",
   "execution_count": 5,
   "id": "normal-wellington",
   "metadata": {},
   "outputs": [
    {
     "output_type": "execute_result",
     "data": {
      "text/plain": [
       "[]"
      ]
     },
     "metadata": {},
     "execution_count": 5
    }
   ],
   "source": [
    "get_violations(valid_spec)"
   ]
  },
  {
   "cell_type": "code",
   "execution_count": 4,
   "id": "hollywood-warning",
   "metadata": {},
   "outputs": [],
   "source": [
    "invalid_spec = \"\"\"\n",
    "attribute(number_rows,root,100).\n",
    "property(field,root,f1).\n",
    "attribute((field,name),f1,temperature).\n",
    "attribute((field,type),f1number).\n",
    "\n",
    "property(mark,root,m1).\n",
    "% invalid mark\n",
    "attribute((mark,type),m1,invalid).\n",
    "property(encoding,m1,e1).\n",
    "attribute((encoding,channel),e1,x).\n",
    "attribute((encoding,field),e1,temperature).\n",
    "\n",
    "property(scale,root,sx).\n",
    "attribute((scale,channel),sx,x).\n",
    "attribute((scale,type),sx,linear).\n",
    "\"\"\""
   ]
  },
  {
   "cell_type": "code",
   "execution_count": 7,
   "id": "administrative-immune",
   "metadata": {},
   "outputs": [
    {
     "output_type": "execute_result",
     "data": {
      "text/plain": [
       "False"
      ]
     },
     "metadata": {},
     "execution_count": 7
    }
   ],
   "source": [
    "check_spec(invalid_spec)"
   ]
  },
  {
   "cell_type": "code",
   "execution_count": 6,
   "id": "widespread-locator",
   "metadata": {},
   "outputs": [
    {
     "output_type": "execute_result",
     "data": {
      "text/plain": [
       "['invalid_domain']"
      ]
     },
     "metadata": {},
     "execution_count": 6
    }
   ],
   "source": [
    "get_violations(invalid_spec)"
   ]
  }
 ],
 "metadata": {
  "kernelspec": {
   "display_name": "Python 3",
   "language": "python",
   "name": "python3"
  },
  "language_info": {
   "codemirror_mode": {
    "name": "ipython",
    "version": 3
   },
   "file_extension": ".py",
   "mimetype": "text/x-python",
   "name": "python",
   "nbconvert_exporter": "python",
   "pygments_lexer": "ipython3",
   "version": "3.8.2-final"
  }
 },
 "nbformat": 4,
 "nbformat_minor": 5
}