{
 "cells": [
  {
   "cell_type": "markdown",
   "metadata": {},
   "source": [
    "# Read Data and Generate the Schema\n",
    "\n",
    "Here, we will cover how to load data and use inferred statistics in Draco."
   ]
  },
  {
   "cell_type": "markdown",
   "metadata": {},
   "source": [
    "## Available functions\n",
    "\n",
    "The main functions allow you to get the schema from a Pandas dataframe or a file. These functions return a schema as a dictionary, which you can encode as Answer Set Programming facts using our generic `dict_to_facts` encoder.\n",
    "\n",
    "\n",
    "```{eval-rst}\n",
    ".. autofunction:: draco.schema.schema_from_dataframe\n",
    ".. autofunction:: draco.schema.schema_from_file\n",
    "```"
   ]
  },
  {
   "cell_type": "markdown",
   "metadata": {},
   "source": [
    "## Usage Example"
   ]
  },
  {
   "cell_type": "code",
   "execution_count": 1,
   "metadata": {},
   "outputs": [],
   "source": [
    "from draco import schema_from_dataframe, dict_to_facts"
   ]
  },
  {
   "cell_type": "markdown",
   "metadata": {},
   "source": [
    "In this example, we use a weather dataset from Vega datasets but this could be any Pandas dataframe."
   ]
  },
  {
   "cell_type": "code",
   "execution_count": 2,
   "metadata": {},
   "outputs": [],
   "source": [
    "from vega_datasets import data\n",
    "\n",
    "df = data.seattle_weather()"
   ]
  },
  {
   "cell_type": "markdown",
   "metadata": {},
   "source": [
    "We can then call `schema_from_dataframe` to get schema information from the pandas dataframe. The schema information is a dictionary."
   ]
  },
  {
   "cell_type": "code",
   "execution_count": 3,
   "metadata": {},
   "outputs": [
    {
     "data": {
      "text/plain": "{'number_rows': 1461,\n 'field': [{'name': 'date', 'type': 'datetime', 'unique': 1461},\n  {'name': 'precipitation',\n   'type': 'number',\n   'unique': 111,\n   'min': 0,\n   'max': 55,\n   'std': 6},\n  {'name': 'temp_max',\n   'type': 'number',\n   'unique': 67,\n   'min': -1,\n   'max': 35,\n   'std': 7},\n  {'name': 'temp_min',\n   'type': 'number',\n   'unique': 55,\n   'min': -7,\n   'max': 18,\n   'std': 5},\n  {'name': 'wind',\n   'type': 'number',\n   'unique': 79,\n   'min': 0,\n   'max': 9,\n   'std': 1},\n  {'name': 'weather', 'type': 'string', 'unique': 5, 'freq': 714}]}"
     },
     "execution_count": 3,
     "metadata": {},
     "output_type": "execute_result"
    }
   ],
   "source": [
    "schema = schema_from_dataframe(df)\n",
    "schema"
   ]
  },
  {
   "cell_type": "markdown",
   "metadata": {},
   "source": [
    "We can then convert the schema dictionary into facts that Dracos constraint solver can use with `dict_to_facts`. The function returns a list of facts. The solver will be able to parse these facts and consider them in the recommendation process."
   ]
  },
  {
   "cell_type": "code",
   "execution_count": 4,
   "metadata": {},
   "outputs": [
    {
     "data": {
      "text/plain": "['attribute(number_rows,root,1461).',\n 'entity(field,root,0).',\n 'attribute((field,name),0,date).',\n 'attribute((field,type),0,datetime).',\n 'attribute((field,unique),0,1461).',\n 'entity(field,root,1).',\n 'attribute((field,name),1,precipitation).',\n 'attribute((field,type),1,number).',\n 'attribute((field,unique),1,111).',\n 'attribute((field,min),1,0).',\n 'attribute((field,max),1,55).',\n 'attribute((field,std),1,6).',\n 'entity(field,root,2).',\n 'attribute((field,name),2,temp_max).',\n 'attribute((field,type),2,number).',\n 'attribute((field,unique),2,67).',\n 'attribute((field,min),2,-1).',\n 'attribute((field,max),2,35).',\n 'attribute((field,std),2,7).',\n 'entity(field,root,3).',\n 'attribute((field,name),3,temp_min).',\n 'attribute((field,type),3,number).',\n 'attribute((field,unique),3,55).',\n 'attribute((field,min),3,-7).',\n 'attribute((field,max),3,18).',\n 'attribute((field,std),3,5).',\n 'entity(field,root,4).',\n 'attribute((field,name),4,wind).',\n 'attribute((field,type),4,number).',\n 'attribute((field,unique),4,79).',\n 'attribute((field,min),4,0).',\n 'attribute((field,max),4,9).',\n 'attribute((field,std),4,1).',\n 'entity(field,root,5).',\n 'attribute((field,name),5,weather).',\n 'attribute((field,type),5,string).',\n 'attribute((field,unique),5,5).',\n 'attribute((field,freq),5,714).']"
     },
     "execution_count": 4,
     "metadata": {},
     "output_type": "execute_result"
    }
   ],
   "source": [
    "dict_to_facts(schema)"
   ]
  },
  {
   "cell_type": "code",
   "execution_count": null,
   "metadata": {},
   "outputs": [],
   "source": []
  }
 ],
 "metadata": {
  "kernelspec": {
   "display_name": "Python 3.8.8 64-bit ('draco': conda)",
   "metadata": {
    "interpreter": {
     "hash": "1417893cfb28aac8f4900ac927ab2a1a6ab7e8af638d894f5471e1fba60b1e80"
    }
   },
   "name": "python3"
  },
  "language_info": {
   "codemirror_mode": {
    "name": "ipython",
    "version": 3
   },
   "file_extension": ".py",
   "mimetype": "text/x-python",
   "name": "python",
   "nbconvert_exporter": "python",
   "pygments_lexer": "ipython3",
   "version": "3.8.8"
  }
 },
 "nbformat": 4,
 "nbformat_minor": 4
}