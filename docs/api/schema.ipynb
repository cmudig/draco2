{
 "cells": [
  {
   "cell_type": "markdown",
   "metadata": {},
   "source": [
    "# Read Data and Generate the Schema\n",
    "\n",
    "Here, we will cover how to load data and use inferred statistics in Draco."
   ]
  },
  {
   "source": [
    "```{eval-rst}\n",
    "Available functions\n",
    "-------------------\n",
    "\n",
    "The main functions allow you to get the schema from a Pandas dataframe or a file. These functions return a schema as a dictionary, which you can encode as Answer Set Programming facts using our generic `dict_to_facts` encoder.\n",
    "\n",
    ".. autofunction:: draco.schema.schema_from_dataframe\n",
    ".. autofunction:: draco.schema.schema_from_file\n",
    "```"
   ],
   "cell_type": "markdown",
   "metadata": {}
  },
  {
   "source": [
    "## Usage Example"
   ],
   "cell_type": "markdown",
   "metadata": {}
  },
  {
   "cell_type": "code",
   "execution_count": 16,
   "metadata": {},
   "outputs": [],
   "source": [
    "from draco import schema_from_dataframe, dict_to_facts"
   ]
  },
  {
   "cell_type": "markdown",
   "metadata": {},
   "source": [
    "In this example, we use a weather dataset from Vega datasets but this could be any Pandas dataframe."
   ]
  },
  {
   "cell_type": "code",
   "execution_count": 17,
   "metadata": {},
   "outputs": [],
   "source": [
    "from vega_datasets import data\n",
    "df = data.seattle_weather()"
   ]
  },
  {
   "cell_type": "markdown",
   "metadata": {},
   "source": [
    "We can then call `schema_from_dataframe` to get schema information from the pandas dataframe. The schema information is a dictionary."
   ]
  },
  {
   "cell_type": "code",
   "execution_count": 18,
   "metadata": {},
   "outputs": [
    {
     "data": {
      "text/plain": [
       "{'numberRows': 1461,\n",
       " 'field': {'date': {'dataType': 'date', 'unique': 1461},\n",
       "  'precipitation': {'dataType': 'number',\n",
       "   'unique': 111,\n",
       "   'min': 0,\n",
       "   'max': 55,\n",
       "   'std': 6},\n",
       "  'temp_max': {'dataType': 'number',\n",
       "   'unique': 67,\n",
       "   'min': -1,\n",
       "   'max': 35,\n",
       "   'std': 7},\n",
       "  'temp_min': {'dataType': 'number',\n",
       "   'unique': 55,\n",
       "   'min': -7,\n",
       "   'max': 18,\n",
       "   'std': 5},\n",
       "  'wind': {'dataType': 'number', 'unique': 79, 'min': 0, 'max': 9, 'std': 1},\n",
       "  'weather': {'dataType': 'string', 'unique': 5, 'freq': 714}}}"
      ]
     },
     "execution_count": 18,
     "metadata": {},
     "output_type": "execute_result"
    }
   ],
   "source": [
    "schema = schema_from_dataframe(df)\n",
    "schema"
   ]
  },
  {
   "cell_type": "markdown",
   "metadata": {},
   "source": [
    "We can then convert the schema dictionary into facts that Dracos constraint solver can use with `dict_to_facts`. The function returns a list of facts. The solver will be able to parse these facts and consider them in the recommendation process."
   ]
  },
  {
   "cell_type": "code",
   "execution_count": 19,
   "metadata": {},
   "outputs": [
    {
     "data": {
      "text/plain": [
       "['fact(numberRows,1461).',\n",
       " 'fact(field,date).',\n",
       " 'fact(dataType,date,date).',\n",
       " 'fact(unique,date,1461).',\n",
       " 'fact(field,precipitation).',\n",
       " 'fact(dataType,precipitation,number).',\n",
       " 'fact(unique,precipitation,111).',\n",
       " 'fact(min,precipitation,0).',\n",
       " 'fact(max,precipitation,55).',\n",
       " 'fact(std,precipitation,6).',\n",
       " 'fact(field,temp_max).',\n",
       " 'fact(dataType,temp_max,number).',\n",
       " 'fact(unique,temp_max,67).',\n",
       " 'fact(min,temp_max,-1).',\n",
       " 'fact(max,temp_max,35).',\n",
       " 'fact(std,temp_max,7).',\n",
       " 'fact(field,temp_min).',\n",
       " 'fact(dataType,temp_min,number).',\n",
       " 'fact(unique,temp_min,55).',\n",
       " 'fact(min,temp_min,-7).',\n",
       " 'fact(max,temp_min,18).',\n",
       " 'fact(std,temp_min,5).',\n",
       " 'fact(field,wind).',\n",
       " 'fact(dataType,wind,number).',\n",
       " 'fact(unique,wind,79).',\n",
       " 'fact(min,wind,0).',\n",
       " 'fact(max,wind,9).',\n",
       " 'fact(std,wind,1).',\n",
       " 'fact(field,weather).',\n",
       " 'fact(dataType,weather,string).',\n",
       " 'fact(unique,weather,5).',\n",
       " 'fact(freq,weather,714).']"
      ]
     },
     "execution_count": 19,
     "metadata": {},
     "output_type": "execute_result"
    }
   ],
   "source": [
    "program = dict_to_facts(schema)\n",
    "list(program)"
   ]
  }
 ],
 "metadata": {
  "kernelspec": {
   "display_name": "Python 3",
   "language": "python",
   "name": "python3"
  },
  "language_info": {
   "codemirror_mode": {
    "name": "ipython",
    "version": 3
   },
   "file_extension": ".py",
   "mimetype": "text/x-python",
   "name": "python",
   "nbconvert_exporter": "python",
   "pygments_lexer": "ipython3",
   "version": "3.8.6"
  }
 },
 "nbformat": 4,
 "nbformat_minor": 4
}