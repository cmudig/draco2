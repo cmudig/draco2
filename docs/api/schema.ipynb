{
 "cells": [
  {
   "cell_type": "markdown",
   "metadata": {},
   "source": [
    "# Read Data and Generate the Schema\n",
    "\n",
    "Here, we will cover how to load data and use inferred statistics in Draco."
   ]
  },
  {
   "cell_type": "markdown",
   "metadata": {},
   "source": [
    "## Available functions\n",
    "\n",
    "The main functions allow you to get the schema from a Pandas dataframe or a file. These functions return a schema as a dictionary, which you can encode as Answer Set Programming facts using our generic `dict_to_facts` encoder.\n",
    "\n",
    "\n",
    "```{eval-rst}\n",
    ".. autofunction:: draco.schema.schema_from_dataframe\n",
    ".. autofunction:: draco.schema.schema_from_file\n",
    "```"
   ]
  },
  {
   "cell_type": "markdown",
   "metadata": {},
   "source": [
    "## Usage Example"
   ]
  },
  {
   "cell_type": "code",
   "execution_count": 4,
   "metadata": {},
   "outputs": [
    {
     "output_type": "execute_result",
     "data": {
      "text/plain": [
       "'/home/shreya/.cache/pypoetry/virtualenvs/draco-j8SBOHbm-py3.8/bin/python'"
      ]
     },
     "metadata": {},
     "execution_count": 4
    }
   ],
   "source": [
    "import sys\n",
    "sys.executable"
   ]
  },
  {
   "cell_type": "code",
   "execution_count": 5,
   "metadata": {
    "scrolled": true
   },
   "outputs": [],
   "source": [
    "from draco import schema_from_dataframe, dict_to_facts"
   ]
  },
  {
   "cell_type": "markdown",
   "metadata": {},
   "source": [
    "In this example, we use a weather dataset from Vega datasets but this could be any Pandas dataframe."
   ]
  },
  {
   "cell_type": "code",
   "execution_count": 6,
   "metadata": {},
   "outputs": [],
   "source": [
    "from vega_datasets import data\n",
    "df = data.seattle_weather()"
   ]
  },
  {
   "cell_type": "markdown",
   "metadata": {},
   "source": [
    "We can then call `schema_from_dataframe` to get schema information from the pandas dataframe. The schema information is a dictionary."
   ]
  },
  {
   "cell_type": "code",
   "execution_count": 7,
   "metadata": {},
   "outputs": [
    {
     "output_type": "execute_result",
     "data": {
      "text/plain": [
       "{'number_rows': 1461,\n",
       " 'field': [{'name': 'date', 'type': 'datetime', 'unique': 1461},\n",
       "  {'name': 'precipitation',\n",
       "   'type': 'number',\n",
       "   'unique': 111,\n",
       "   'min': 0,\n",
       "   'max': 55,\n",
       "   'std': 6},\n",
       "  {'name': 'temp_max',\n",
       "   'type': 'number',\n",
       "   'unique': 67,\n",
       "   'min': -1,\n",
       "   'max': 35,\n",
       "   'std': 7},\n",
       "  {'name': 'temp_min',\n",
       "   'type': 'number',\n",
       "   'unique': 55,\n",
       "   'min': -7,\n",
       "   'max': 18,\n",
       "   'std': 5},\n",
       "  {'name': 'wind',\n",
       "   'type': 'number',\n",
       "   'unique': 79,\n",
       "   'min': 0,\n",
       "   'max': 9,\n",
       "   'std': 1},\n",
       "  {'name': 'weather', 'type': 'string', 'unique': 5, 'freq': 714}]}"
      ]
     },
     "metadata": {},
     "execution_count": 7
    }
   ],
   "source": [
    "schema = schema_from_dataframe(df)\n",
    "schema"
   ]
  },
  {
   "cell_type": "markdown",
   "metadata": {},
   "source": [
    "We can then convert the schema dictionary into facts that Dracos constraint solver can use with `dict_to_facts`. The function returns a list of facts. The solver will be able to parse these facts and consider them in the recommendation process."
   ]
  },
  {
   "cell_type": "code",
   "execution_count": 20,
   "metadata": {},
   "outputs": [
    {
     "output_type": "execute_result",
     "data": {
      "text/plain": [
       "['attribute(number_rows,root,1461).',\n",
       " 'property(field,root,0).',\n",
       " 'attribute((field,name),0,date).',\n",
       " 'attribute((field,type),0,datetime).',\n",
       " 'attribute((field,unique),0,1461).',\n",
       " 'property(field,root,1).',\n",
       " 'attribute((field,name),1,precipitation).',\n",
       " 'attribute((field,type),1,number).',\n",
       " 'attribute((field,unique),1,111).',\n",
       " 'attribute((field,min),1,0).',\n",
       " 'attribute((field,max),1,55).',\n",
       " 'attribute((field,std),1,6).',\n",
       " 'property(field,root,2).',\n",
       " 'attribute((field,name),2,temp_max).',\n",
       " 'attribute((field,type),2,number).',\n",
       " 'attribute((field,unique),2,67).',\n",
       " 'attribute((field,min),2,-1).',\n",
       " 'attribute((field,max),2,35).',\n",
       " 'attribute((field,std),2,7).',\n",
       " 'property(field,root,3).',\n",
       " 'attribute((field,name),3,temp_min).',\n",
       " 'attribute((field,type),3,number).',\n",
       " 'attribute((field,unique),3,55).',\n",
       " 'attribute((field,min),3,-7).',\n",
       " 'attribute((field,max),3,18).',\n",
       " 'attribute((field,std),3,5).',\n",
       " 'property(field,root,4).',\n",
       " 'attribute((field,name),4,wind).',\n",
       " 'attribute((field,type),4,number).',\n",
       " 'attribute((field,unique),4,79).',\n",
       " 'attribute((field,min),4,0).',\n",
       " 'attribute((field,max),4,9).',\n",
       " 'attribute((field,std),4,1).',\n",
       " 'property(field,root,5).',\n",
       " 'attribute((field,name),5,weather).',\n",
       " 'attribute((field,type),5,string).',\n",
       " 'attribute((field,unique),5,5).',\n",
       " 'attribute((field,freq),5,714).']"
      ]
     },
     "metadata": {},
     "execution_count": 20
    }
   ],
   "source": [
    "dict_to_facts(schema)"
   ]
  },
  {
   "cell_type": "markdown",
   "metadata": {},
   "source": [
    "This list of facts can direct be passed into Draco's constraint solver - the Clingo Solver"
   ]
  },
  {
   "cell_type": "markdown",
   "metadata": {},
   "source": [
    "# Run the Clingo Solver\n",
    "\n",
    "The facts produced above act as constraints to the Clingo Solver. `run_clingo` calls the Clingo Solver on the program passed in and returns a list of models."
   ]
  },
  {
   "cell_type": "code",
   "execution_count": 21,
   "metadata": {},
   "outputs": [],
   "source": [
    "from draco import run_clingo"
   ]
  },
  {
   "cell_type": "code",
   "execution_count": 22,
   "metadata": {},
   "outputs": [],
   "source": [
    "program = dict_to_facts(schema)\n",
    "models = run_clingo(program)"
   ]
  },
  {
   "source": [
    "`models` stores a list of models that satisfy the constraints passed to `run_clingo`"
   ],
   "cell_type": "markdown",
   "metadata": {}
  },
  {
   "source": [
    "# Converting Satisfiable Models back into Views\n",
    "In order produce visualizations that satisfy the constraints, we must convert the answer sets of each model back to a nested data structure that resembles the schema. Models are objects of class `Model` which has members `answer_set` of type `clingo.Symbol`, `cost` of type of `int`, and `number` of type `int` "
   ],
   "cell_type": "markdown",
   "metadata": {}
  },
  {
   "cell_type": "code",
   "execution_count": 23,
   "metadata": {},
   "outputs": [],
   "source": [
    "from draco import answer_set_to_dict"
   ]
  },
  {
   "cell_type": "code",
   "execution_count": 24,
   "metadata": {},
   "outputs": [
    {
     "output_type": "execute_result",
     "data": {
      "text/plain": [
       "[{'number_rows': 1461,\n",
       "  'field': [{'name': 'date', 'type': 'datetime', 'unique': 1461},\n",
       "   {'name': 'precipitation',\n",
       "    'type': 'number',\n",
       "    'unique': 111,\n",
       "    'min': 0,\n",
       "    'max': 55,\n",
       "    'std': 6},\n",
       "   {'name': 'temp_max',\n",
       "    'type': 'number',\n",
       "    'unique': 67,\n",
       "    'min': -1,\n",
       "    'max': 35,\n",
       "    'std': 7},\n",
       "   {'name': 'temp_min',\n",
       "    'type': 'number',\n",
       "    'unique': 55,\n",
       "    'min': -7,\n",
       "    'max': 18,\n",
       "    'std': 5},\n",
       "   {'name': 'wind',\n",
       "    'type': 'number',\n",
       "    'unique': 79,\n",
       "    'min': 0,\n",
       "    'max': 9,\n",
       "    'std': 1},\n",
       "   {'name': 'weather', 'type': 'string', 'unique': 5, 'freq': 714}]}]"
      ]
     },
     "metadata": {},
     "execution_count": 24
    }
   ],
   "source": [
    "views = [answer_set_to_dict(model.answer_set) for model in models]\n",
    "views\n"
   ]
  },
  {
   "source": [
    "In the example above, there is one satisfiable model which produces one nested data structure. This structure can be fed into visualization tools such as VegaLite to produce views. "
   ],
   "cell_type": "markdown",
   "metadata": {}
  }
 ],
 "metadata": {
  "kernelspec": {
   "display_name": "Python 3",
   "language": "python",
   "name": "python3"
  },
  "language_info": {
   "codemirror_mode": {
    "name": "ipython",
    "version": 3
   },
   "file_extension": ".py",
   "mimetype": "text/x-python",
   "name": "python",
   "nbconvert_exporter": "python",
   "pygments_lexer": "ipython3",
   "version": "3.8.2-final"
  }
 },
 "nbformat": 4,
 "nbformat_minor": 4
}