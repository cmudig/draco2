{
 "cells": [
  {
   "cell_type": "markdown",
   "metadata": {},
   "source": [
    "# Read Data and Generate the Schema\n",
    "\n",
    "Here, we will cover how to load data and use inferred statistics in Draco."
   ]
  },
  {
   "cell_type": "code",
   "execution_count": 1,
   "metadata": {},
   "outputs": [],
   "source": [
    "from draco import run_clingo, dict_to_facts, schema_from_dataframe"
   ]
  },
  {
   "cell_type": "markdown",
   "metadata": {},
   "source": [
    "In this example, we use a weather dataset from Vega datasets but this could be any Pandas dataframe."
   ]
  },
  {
   "cell_type": "code",
   "execution_count": 2,
   "metadata": {},
   "outputs": [],
   "source": [
    "from vega_datasets import data\n",
    "df = data.seattle_weather()"
   ]
  },
  {
   "cell_type": "code",
   "execution_count": 3,
   "metadata": {},
   "outputs": [
    {
     "data": {
      "text/plain": [
       "{'numberRows': 1461,\n",
       " 'field': {'date': {'unique': 1461, 'dataType': 'date'},\n",
       "  'precipitation': {'unique': 111, 'dataType': 'number'},\n",
       "  'temp_max': {'unique': 67, 'dataType': 'number'},\n",
       "  'temp_min': {'unique': 55, 'dataType': 'number'},\n",
       "  'wind': {'unique': 79, 'dataType': 'number'},\n",
       "  'weather': {'unique': 5, 'dataType': 'string'}}}"
      ]
     },
     "execution_count": 3,
     "metadata": {},
     "output_type": "execute_result"
    }
   ],
   "source": [
    "schema = schema_from_dataframe(df)\n",
    "schema"
   ]
  },
  {
   "cell_type": "code",
   "execution_count": 4,
   "metadata": {},
   "outputs": [
    {
     "name": "stdout",
     "output_type": "stream",
     "text": [
      "Number: 1\n",
      "Atoms: [fact(numberRows,1461), fact(field,date), fact(field,precipitation), fact(field,temp_max), fact(field,temp_min), fact(field,wind), fact(field,weather), fact(unique,date,1461), fact(dataType,date,date), fact(unique,precipitation,111), fact(dataType,precipitation,number), fact(unique,temp_max,67), fact(dataType,temp_max,number), fact(unique,temp_min,55), fact(dataType,temp_min,number), fact(unique,wind,79), fact(dataType,wind,number), fact(unique,weather,5), fact(dataType,weather,string)]\n",
      "\n"
     ]
    }
   ],
   "source": [
    "program = dict_to_facts(schema)\n",
    "run_clingo(program)"
   ]
  },
  {
   "cell_type": "code",
   "execution_count": null,
   "metadata": {},
   "outputs": [],
   "source": []
  }
 ],
 "metadata": {
  "kernelspec": {
   "display_name": "Python 3",
   "language": "python",
   "name": "python3"
  },
  "language_info": {
   "codemirror_mode": {
    "name": "ipython",
    "version": 3
   },
   "file_extension": ".py",
   "mimetype": "text/x-python",
   "name": "python",
   "nbconvert_exporter": "python",
   "pygments_lexer": "ipython3",
   "version": "3.8.6"
  }
 },
 "nbformat": 4,
 "nbformat_minor": 4
}
