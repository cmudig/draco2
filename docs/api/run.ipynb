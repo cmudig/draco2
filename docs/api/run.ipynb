{
 "cells": [
  {
   "cell_type": "markdown",
   "id": "mechanical-pointer",
   "metadata": {
    "pycharm": {
     "name": "#%% md\n"
    }
   },
   "source": [
    "# Run\n",
    "\n",
    "Draco can run programs in the [Clingo solver](https://potassco.org/clingo/). `draco.run` exposes the low-level functions to run a program in the solver and get back the satisfying models with the answer sets.\n",
    "\n",
    "Draco uses these methods in the [high-level APIs for checking specifications](draco.ipynb). If you use this API, make sure to read the [documentation of the Clingo Python API](https://potassco.org/clingo/python-api/current/). It covers how to work with answer sets and symbols."
   ]
  },
  {
   "cell_type": "markdown",
   "id": "promising-steal",
   "metadata": {
    "pycharm": {
     "name": "#%% md\n"
    }
   },
   "source": [
    "## Available functions\n",
    "\n",
    "```{eval-rst}\n",
    ".. automodule:: draco.run\n",
    "   :members:\n",
    "```"
   ]
  },
  {
   "cell_type": "markdown",
   "id": "greatest-wholesale",
   "metadata": {
    "pycharm": {
     "name": "#%% md\n"
    }
   },
   "source": [
    "## Usage Example"
   ]
  },
  {
   "cell_type": "code",
   "execution_count": 1,
   "id": "lonely-cigarette",
   "metadata": {
    "pycharm": {
     "name": "#%%\n"
    }
   },
   "outputs": [],
   "source": [
    "from draco import run_clingo"
   ]
  },
  {
   "cell_type": "code",
   "execution_count": 2,
   "id": "unauthorized-triple",
   "metadata": {
    "pycharm": {
     "name": "#%%\n"
    }
   },
   "outputs": [
    {
     "name": "stdout",
     "output_type": "stream",
     "text": [
      "Model(answer_set=[Function('a', [], True), Function('b', [], True)], cost=[], number=1)\n",
      "a\n",
      "b\n"
     ]
    }
   ],
   "source": [
    "for model in run_clingo(\"a. b :- a.\"):\n",
    "    print(model)\n",
    "\n",
    "    print(model.answer_set[0])\n",
    "    print(model.answer_set[1])"
   ]
  },
  {
   "cell_type": "code",
   "execution_count": null,
   "id": "toxic-silicon",
   "metadata": {
    "pycharm": {
     "name": "#%%\n"
    }
   },
   "outputs": [],
   "source": []
  }
 ],
 "metadata": {
  "interpreter": {
   "hash": "8cbf43381becf335288b6abafb11bb428a5ff10871fda3a9373467d6e60abc50"
  },
  "kernelspec": {
   "display_name": "Python 3.9.13 ('draco')",
   "language": "python",
   "name": "python3"
  },
  "language_info": {
   "codemirror_mode": {
    "name": "ipython",
    "version": 3
   },
   "file_extension": ".py",
   "mimetype": "text/x-python",
   "name": "python",
   "nbconvert_exporter": "python",
   "pygments_lexer": "ipython3",
   "version": "3.9.13"
  }
 },
 "nbformat": 4,
 "nbformat_minor": 5
}
