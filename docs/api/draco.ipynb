{
 "cells": [
  {
   "cell_type": "markdown",
   "id": "6e2b382c",
   "metadata": {
    "pycharm": {
     "name": "#%% md\n"
    }
   },
   "source": [
    "# Draco Helper Class\n",
    "\n",
    "Draco can check whether a visualization specification is valid. If it isn't valid, it can also compute what constrains are being violated. These methods check a specification against the standard set of constraints in Draco. If you define your own constraints, you can pass different ASP programs to the constructor or instead use the lower-level [Draco run API](run.ipynb)."
   ]
  },
  {
   "cell_type": "markdown",
   "id": "c61fd747",
   "metadata": {
    "pycharm": {
     "name": "#%% md\n"
    }
   },
   "source": [
    "## Class Documentation\n",
    "\n",
    "```{eval-rst}\n",
    ".. autoclass:: draco.Draco\n",
    "    :members:\n",
    "```"
   ]
  },
  {
   "cell_type": "markdown",
   "id": "6ca28067",
   "metadata": {
    "pycharm": {
     "name": "#%% md\n"
    }
   },
   "source": [
    "## Usage Example"
   ]
  },
  {
   "cell_type": "code",
   "execution_count": 1,
   "id": "90fb6a61",
   "metadata": {
    "pycharm": {
     "name": "#%%\n"
    }
   },
   "outputs": [],
   "source": [
    "from draco import Draco\n",
    "\n",
    "d = Draco()"
   ]
  },
  {
   "cell_type": "code",
   "execution_count": 2,
   "id": "223194f8",
   "metadata": {
    "pycharm": {
     "name": "#%%\n"
    }
   },
   "outputs": [],
   "source": [
    "valid_spec = \"\"\"\n",
    "attribute(number_rows,root,100).\n",
    "entity(field,root,f1).\n",
    "attribute((field,name),f1,temperature).\n",
    "attribute((field,type),f1,number).\n",
    "\n",
    "entity(view,root,v).\n",
    "entity(mark,v,m1).\n",
    "attribute((mark,type),m1,tick).\n",
    "entity(encoding,m1,e1).\n",
    "attribute((encoding,channel),e1,x).\n",
    "attribute((encoding,field),e1,f1).\n",
    "\n",
    "entity(scale,v,sx).\n",
    "attribute((scale,channel),sx,x).\n",
    "attribute((scale,type),sx,linear).\n",
    "\"\"\""
   ]
  },
  {
   "cell_type": "code",
   "execution_count": 3,
   "id": "8192c897",
   "metadata": {
    "pycharm": {
     "name": "#%%\n"
    }
   },
   "outputs": [
    {
     "data": {
      "text/plain": [
       "True"
      ]
     },
     "execution_count": 3,
     "metadata": {},
     "output_type": "execute_result"
    }
   ],
   "source": [
    "d.check_spec(valid_spec)"
   ]
  },
  {
   "cell_type": "code",
   "execution_count": 4,
   "id": "06e09203",
   "metadata": {
    "pycharm": {
     "name": "#%%\n"
    }
   },
   "outputs": [
    {
     "data": {
      "text/plain": [
       "[]"
      ]
     },
     "execution_count": 4,
     "metadata": {},
     "output_type": "execute_result"
    }
   ],
   "source": [
    "d.get_violations(valid_spec)"
   ]
  },
  {
   "cell_type": "code",
   "execution_count": 5,
   "id": "0678a09e",
   "metadata": {
    "pycharm": {
     "name": "#%%\n"
    }
   },
   "outputs": [],
   "source": [
    "invalid_spec = \"\"\"\n",
    "attribute(number_rows,root,100).\n",
    "entity(field,root,f1).\n",
    "attribute((field,name),f1,temperature).\n",
    "attribute((field,type),f1,number).\n",
    "\n",
    "entity(view,root,v).\n",
    "entity(mark,v,m1).\n",
    "% invalid mark\n",
    "attribute((mark,type),m1,invalid).\n",
    "entity(encoding,m1,e1).\n",
    "attribute((encoding,channel),e1,x).\n",
    "attribute((encoding,field),e1,f1).\n",
    "\n",
    "entity(scale,v,sx).\n",
    "attribute((scale,channel),sx,x).\n",
    "attribute((scale,type),sx,linear).\n",
    "\"\"\""
   ]
  },
  {
   "cell_type": "code",
   "execution_count": 6,
   "id": "7f8379d6",
   "metadata": {
    "pycharm": {
     "name": "#%%\n"
    }
   },
   "outputs": [
    {
     "data": {
      "text/plain": [
       "False"
      ]
     },
     "execution_count": 6,
     "metadata": {},
     "output_type": "execute_result"
    }
   ],
   "source": [
    "d.check_spec(invalid_spec)"
   ]
  },
  {
   "cell_type": "code",
   "execution_count": 7,
   "id": "fc008b2a",
   "metadata": {
    "pycharm": {
     "name": "#%%\n"
    }
   },
   "outputs": [
    {
     "data": {
      "text/plain": [
       "['invalid_domain']"
      ]
     },
     "execution_count": 7,
     "metadata": {},
     "output_type": "execute_result"
    }
   ],
   "source": [
    "d.get_violations(invalid_spec)"
   ]
  },
  {
   "cell_type": "code",
   "execution_count": null,
   "id": "a39a62c1",
   "metadata": {
    "pycharm": {
     "name": "#%%\n"
    }
   },
   "outputs": [],
   "source": []
  }
 ],
 "metadata": {
  "interpreter": {
   "hash": "8cbf43381becf335288b6abafb11bb428a5ff10871fda3a9373467d6e60abc50"
  },
  "kernelspec": {
   "display_name": "Python 3.9.13 ('draco')",
   "language": "python",
   "name": "python3"
  },
  "language_info": {
   "codemirror_mode": {
    "name": "ipython",
    "version": 3
   },
   "file_extension": ".py",
   "mimetype": "text/x-python",
   "name": "python",
   "nbconvert_exporter": "python",
   "pygments_lexer": "ipython3",
   "version": "3.9.13"
  }
 },
 "nbformat": 4,
 "nbformat_minor": 5
}
