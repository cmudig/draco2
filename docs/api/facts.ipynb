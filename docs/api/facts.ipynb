{
 "cells": [
  {
   "cell_type": "markdown",
   "id": "7fb27b941602401d91542211134fc71a",
   "metadata": {
    "pycharm": {
     "name": "#%% md\n"
    }
   },
   "source": [
    "# Fact Utils\n",
    "\n",
    "Generating facts in the expected format can be tedious. To make it easier to put data into and get data our of Draco, we provide an API to convert nested data to facts and vice versa."
   ]
  },
  {
   "cell_type": "markdown",
   "id": "acae54e37e7d407bbb7b55eff062a284",
   "metadata": {
    "pycharm": {
     "name": "#%% md\n"
    }
   },
   "source": [
    "## Available functions\n",
    "\n",
    "```{eval-rst}\n",
    ".. automodule:: draco.fact_utils\n",
    "   :members:\n",
    "```"
   ]
  },
  {
   "cell_type": "markdown",
   "id": "9a63283cbaf04dbcab1f6479b197f3a8",
   "metadata": {
    "pycharm": {
     "name": "#%% md\n"
    }
   },
   "source": [
    "## Usage Example"
   ]
  },
  {
   "cell_type": "code",
   "execution_count": 4,
   "id": "8dd0d8092fe74a7c96281538738b07e2",
   "metadata": {
    "pycharm": {
     "name": "#%%\n"
    }
   },
   "outputs": [],
   "source": [
    "from pprint import pprint\n",
    "\n",
    "from draco import answer_set_to_dict, dict_to_facts, run_clingo"
   ]
  },
  {
   "cell_type": "code",
   "execution_count": 5,
   "id": "72eea5119410473aa328ad9291626812",
   "metadata": {
    "pycharm": {
     "name": "#%%\n"
    }
   },
   "outputs": [
    {
     "data": {
      "text/plain": [
       "['attribute(mark,root,bar).',\n",
       " 'entity(encoding,root,0).',\n",
       " 'attribute((encoding,channel),0,x).',\n",
       " 'attribute((encoding,field),0,condition).',\n",
       " 'entity(encoding,root,1).',\n",
       " 'attribute((encoding,channel),1,y).',\n",
       " 'attribute((encoding,aggregate),1,count).']"
      ]
     },
     "execution_count": 5,
     "metadata": {},
     "output_type": "execute_result"
    }
   ],
   "source": [
    "facts = dict_to_facts(\n",
    "    {\n",
    "        \"mark\": \"bar\",\n",
    "        \"encoding\": [\n",
    "            {\"channel\": \"x\", \"field\": \"condition\"},\n",
    "            {\"channel\": \"y\", \"aggregate\": \"count\"},\n",
    "        ],\n",
    "    }\n",
    ")\n",
    "facts"
   ]
  },
  {
   "cell_type": "code",
   "execution_count": 7,
   "id": "8edb47106e1a46a883d545849b8ab81b",
   "metadata": {
    "pycharm": {
     "name": "#%%\n"
    }
   },
   "outputs": [
    {
     "name": "stdout",
     "output_type": "stream",
     "text": [
      "[<clingo.symbol.Symbol object at 0x7f9c68a9a250>, <clingo.symbol.Symbol object at 0x7f9c68a9aca0>, <clingo.symbol.Symbol object at 0x7f9c68a9a580>, <clingo.symbol.Symbol object at 0x7f9c68a9ad00>, <clingo.symbol.Symbol object at 0x7f9c68a9a790>, <clingo.symbol.Symbol object at 0x7f9c68a9abb0>, <clingo.symbol.Symbol object at 0x7f9c68a9ab20>]\n",
      "{'encoding': [{'channel': 'x', 'field': 'condition'},\n",
      "              {'aggregate': 'count', 'channel': 'y'}],\n",
      " 'mark': 'bar'}\n"
     ]
    }
   ],
   "source": [
    "# we can run Clingo and convert the model back into the nested representation\n",
    "\n",
    "for model in run_clingo(facts):\n",
    "    answer_set = model.answer_set\n",
    "    print(answer_set)\n",
    "    pprint(answer_set_to_dict(answer_set))"
   ]
  }
 ],
 "metadata": {
  "kernelspec": {
   "display_name": "Python 3.8.8 64-bit ('draco': conda)",
   "metadata": {
    "interpreter": {
     "hash": "1417893cfb28aac8f4900ac927ab2a1a6ab7e8af638d894f5471e1fba60b1e80"
    }
   },
   "name": "python3"
  },
  "language_info": {
   "codemirror_mode": {
    "name": "ipython",
    "version": 3
   },
   "file_extension": ".py",
   "mimetype": "text/x-python",
   "name": "python",
   "nbconvert_exporter": "python",
   "pygments_lexer": "ipython3",
   "version": "3.8.8"
  }
 },
 "nbformat": 4,
 "nbformat_minor": 5
}
