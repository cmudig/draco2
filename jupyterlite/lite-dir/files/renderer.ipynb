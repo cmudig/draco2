{
 "cells": [
  {
   "cell_type": "markdown",
   "source": [
    "# Visualization Renderer\n",
    "\n",
    "The Draco specification format was designed with extensibility and renderer-agnosticity in mind. Nevertheless, we ship the package with a default renderer implementation, based on [Vega-Altair](https://altair-viz.github.io/), taking advantage of [Vega](https://vega.github.io/vega) and [Vega-Lite](https://vega.github.io/vega-lite). The renderer shall facilitate debugging as well as it shall prove to be useful when integrating Draco into applications with a frontend.\n",
    "\n",
    "## Usage\n",
    "\n",
    "In order to render visualizations with Draco, you need two things:\n",
    "\n",
    "- A specification describing a visualization either in a dictionary-based or an ASP-based format\n",
    "- A Pandas `DataFrame` of data to be visualized\n",
    "\n",
    "In what follows, we provide examples for both specification formats using a very simple dataset."
   ],
   "metadata": {
    "collapsed": false
   }
  },
  {
   "cell_type": "code",
   "execution_count": null,
   "outputs": [],
   "source": [
    "# Suppressing warnings raised by altair in the background\n",
    "# (iteration-related deprecation warnings)\n",
    "import warnings\n",
    "\n",
    "warnings.filterwarnings(\"ignore\")"
   ],
   "metadata": {
    "collapsed": false
   }
  },
  {
   "cell_type": "code",
   "execution_count": null,
   "outputs": [],
   "source": [
    "import pandas as pd\n",
    "\n",
    "values = [\n",
    "    {\"a\": \"A\", \"b\": 28},\n",
    "    {\"a\": \"B\", \"b\": 55},\n",
    "    {\"a\": \"C\", \"b\": 43},\n",
    "    {\"a\": \"D\", \"b\": 91},\n",
    "    {\"a\": \"E\", \"b\": 81},\n",
    "    {\"a\": \"F\", \"b\": 53},\n",
    "    {\"a\": \"G\", \"b\": 19},\n",
    "    {\"a\": \"H\", \"b\": 87},\n",
    "    {\"a\": \"I\", \"b\": 52},\n",
    "]\n",
    "df = pd.DataFrame(values)\n",
    "df.head()"
   ],
   "metadata": {
    "collapsed": false
   }
  },
  {
   "cell_type": "markdown",
   "source": [
    "### Rendering a dictionary-based specification"
   ],
   "metadata": {
    "collapsed": false
   }
  },
  {
   "cell_type": "code",
   "execution_count": null,
   "outputs": [],
   "source": [
    "from draco.renderer import AltairRenderer\n",
    "from draco.schema import schema_from_dataframe\n",
    "\n",
    "# Generating the data schema to extract the field types automatically\n",
    "schema: dict = schema_from_dataframe(df)\n",
    "\n",
    "# Defining a bar chart\n",
    "bar_chart = {\n",
    "    \"view\": [\n",
    "        {\n",
    "            \"coordinates\": \"cartesian\",\n",
    "            \"mark\": [\n",
    "                {\n",
    "                    \"type\": \"bar\",\n",
    "                    \"encoding\": [\n",
    "                        {\n",
    "                            \"channel\": \"x\",\n",
    "                            \"field\": \"a\",\n",
    "                        },\n",
    "                        {\n",
    "                            \"channel\": \"y\",\n",
    "                            \"field\": \"b\",\n",
    "                        },\n",
    "                    ],\n",
    "                }\n",
    "            ],\n",
    "            \"scale\": [\n",
    "                {\"channel\": \"x\", \"type\": \"ordinal\"},\n",
    "                {\"channel\": \"y\", \"type\": \"linear\", \"zero\": \"true\"},\n",
    "            ],\n",
    "        }\n",
    "    ]\n",
    "}\n",
    "# Joining the data `schema` dict with the view specification dict\n",
    "spec = schema | bar_chart\n",
    "\n",
    "renderer = AltairRenderer()\n",
    "renderer.render(spec, df)"
   ],
   "metadata": {
    "collapsed": false
   }
  },
  {
   "cell_type": "markdown",
   "source": [
    "### Rendering an ASP-based specification"
   ],
   "metadata": {
    "collapsed": false
   }
  },
  {
   "cell_type": "code",
   "execution_count": null,
   "outputs": [],
   "source": [
    "from draco.fact_utils import dict_to_facts, answer_set_to_dict\n",
    "from draco.run import run_clingo\n",
    "\n",
    "# Re-using the spec from the previous example, transforming it into an ASP program\n",
    "program = dict_to_facts(spec)\n",
    "\n",
    "# Solving the program and transforming the answer set to a dict,\n",
    "# so that it can be plugged into the renderer\n",
    "answer_set = next(run_clingo(program)).answer_set\n",
    "spec = answer_set_to_dict(answer_set)\n",
    "\n",
    "renderer = AltairRenderer()\n",
    "renderer.render(spec, df)"
   ],
   "metadata": {
    "collapsed": false
   }
  },
  {
   "cell_type": "markdown",
   "source": [
    "## More Examples\n",
    "\n",
    "For more complex examples, you can refer to the [Example Charts](../facts/examples.ipynb) chapter."
   ],
   "metadata": {
    "collapsed": false
   }
  }
 ],
 "metadata": {
  "kernelspec": {
   "display_name": "Python 3",
   "language": "python",
   "name": "python3"
  },
  "language_info": {
   "codemirror_mode": {
    "name": "ipython",
    "version": 2
   },
   "file_extension": ".py",
   "mimetype": "text/x-python",
   "name": "python",
   "nbconvert_exporter": "python",
   "pygments_lexer": "ipython2",
   "version": "2.7.6"
  }
 },
 "nbformat": 4,
 "nbformat_minor": 0
}
